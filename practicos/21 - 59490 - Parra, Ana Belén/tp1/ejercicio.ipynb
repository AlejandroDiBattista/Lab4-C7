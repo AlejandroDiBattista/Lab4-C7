{
 "cells": [
  {
   "cell_type": "markdown",
   "metadata": {},
   "source": [
    "# Trabajo práctico 1\n",
    "\n"
   ]
  },
  {
   "cell_type": "markdown",
   "metadata": {},
   "source": [
    "## Ejercicio 1 \n",
    "\n",
    "Escribe una función en Python que procese una lista de cadenas de texto y realice las siguientes acciones:\n",
    "\n",
    "1. Tomar una lista de frases y convertir cada frase en una lista de palabras.\n",
    "1. Luego, debe crear una nueva lista que contenga la cantidad de palabras en cada frase.\n",
    "1. Tambien debe crear un lista que contenga la cantidad de caracteres en cada frase.\n",
    "1. Finalmente, debe imprimir cada frase original junto con la cantidad de palabras que contiene.\n",
    "Ejemplo de uso:\n",
    "```python\n",
    "    frases = [\n",
    "        \"Python es un lenguaje de programación\",\n",
    "        \"Me gusta resolver problemas con código\",\n",
    "        \"Las listas y los bucles son muy útiles\"\n",
    "    ]\n",
    "\n",
    "    procesar_frases(frases)\n",
    "```\n",
    "\n",
    "ejemplo de salida:\n",
    "```bash\n",
    "    La frase: \"Python es un...\"\n",
    "    tiene 6 palabras y 38 caracteres\n",
    "```\n"
   ]
  },
  {
   "cell_type": "code",
   "execution_count": 15,
   "metadata": {},
   "outputs": [
    {
     "name": "stdout",
     "output_type": "stream",
     "text": [
      "La lista tiene:  3 frases\n",
      "La Frase \"Hola me llamo Ana Belen. \"\n",
      " Tiene: 5 palabras y 24 caracteres.\n",
      "La Frase \"Tengo dos perras como mascotas Popy y Chola. \"\n",
      " Tiene: 8 palabras y 44 caracteres.\n",
      "La Frase \"Estudio programacion en la UTN en cede central. \"\n",
      " Tiene: 8 palabras y 47 caracteres.\n"
     ]
    }
   ],
   "source": [
    "frases = [\"Hola me llamo Ana Belen.\",\n",
    "          \"Tengo dos perras como mascotas Popy y Chola.\",\n",
    "          \"Estudio programacion en la UTN en cede central.\"]\n",
    "contadorPalabras=[]\n",
    "contadorCaracteres=[]\n",
    "\n",
    "contadorFrases=len(frases)\n",
    "print(\"La lista tiene: \",contadorFrases,\"frases\")\n",
    "def lista():\n",
    "    for frase in frases:\n",
    "        palabras=len(frase.split())\n",
    "        caracteres=len(frase)\n",
    "        contadorPalabras.append(palabras)\n",
    "        contadorCaracteres.append(caracteres)\n",
    "\n",
    "\n",
    "    for i in range(len(frases)):\n",
    " \n",
    "        print(f'La Frase \"{frases[i]} \"\\n Tiene: {contadorPalabras[i]} palabras y {contadorCaracteres[i]} caracteres.')\n",
    "lista()\n",
    "     \n",
    "           \n"
   ]
  },
  {
   "cell_type": "markdown",
   "metadata": {},
   "source": [
    "## Ejercicio 2\n",
    "\n",
    "Escribe una función en Python que encuentre los valores de `a`, `b`, y `c` para que la función cuadrática `f(x) = aX^2 + bX + c` pase exactamente por los siguientes puntos:\n",
    "\n",
    "| x  | y  |\n",
    "|---:|---:|\n",
    "|  0 |  0 |\n",
    "|  1 |  8 |\n",
    "|  2 | 12 |\n",
    "|  3 | 12 |\n",
    "|  5 |  0 |\n",
    "\n",
    "### Requisitos:\n",
    "- La función debe explorar posibles valores de `a`, `b`, y `c` utilizando un método de prueba y error.\n",
    "- Debe devolver los valores que hagan que la diferencia entre la función `f(x)` y los valores medidos `y` sea exactamente cero para cada punto.\n",
    "\n",
    "> **Pista**: Los valores de `a`, `b`, y `c` son números pequeños."
   ]
  },
  {
   "cell_type": "code",
   "execution_count": 17,
   "metadata": {},
   "outputs": [
    {
     "name": "stdout",
     "output_type": "stream",
     "text": [
      "El valor de A es: -2\n",
      "El valor de B es: 10\n",
      "El valor de C es: 0\n"
     ]
    }
   ],
   "source": [
    "import math\n",
    "\n",
    "a = 0\n",
    "b = 0\n",
    "c = 0\n",
    "puntos = [(0, 0), (1, 8), (2, 12), (3, 12), (5, 0)]\n",
    "diferencia_menor = math.inf\n",
    "\n",
    "for A in range(-10, 11):\n",
    "    for B in range(-10, 11):\n",
    "        for C in range(-10, 11):\n",
    "            \n",
    "            diferencia_total = 0\n",
    "            \n",
    "            for x, y in puntos:\n",
    "                formula = A * x**2 + B * x + C\n",
    "                diferencia = formula - y\n",
    "                diferencia_total += diferencia**2\n",
    "                \n",
    "            if diferencia_total < diferencia_menor:\n",
    "                diferencia_menor = diferencia_total\n",
    "                a, b, c = A, B, C\n",
    "\n",
    "print(f\"El valor de A es: {a}\\nEl valor de B es: {b}\\nEl valor de C es: {c}\")\n"
   ]
  }
 ],
 "metadata": {
  "kernelspec": {
   "display_name": "Python 3",
   "language": "python",
   "name": "python3"
  },
  "language_info": {
   "codemirror_mode": {
    "name": "ipython",
    "version": 3
   },
   "file_extension": ".py",
   "mimetype": "text/x-python",
   "name": "python",
   "nbconvert_exporter": "python",
   "pygments_lexer": "ipython3",
   "version": "3.12.5"
  }
 },
 "nbformat": 4,
 "nbformat_minor": 2
}
