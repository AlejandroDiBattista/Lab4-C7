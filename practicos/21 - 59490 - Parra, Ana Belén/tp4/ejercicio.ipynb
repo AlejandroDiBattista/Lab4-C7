{
 "cells": [
  {
   "cell_type": "markdown",
   "metadata": {},
   "source": [
    "# Simulación del Truco"
   ]
  },
  {
   "cell_type": "markdown",
   "metadata": {},
   "source": [
    "Las **cartas** deben registra el numero, palo y valor de la carta. \n",
    "El valor debe reflejar la jerarquía de las cartas en el juego del truco."
   ]
  },
  {
   "cell_type": "code",
   "execution_count": 2,
   "metadata": {},
   "outputs": [],
   "source": [
    "def calcular_valor(numero, palo):\n",
    "    valores = {\n",
    "        (1, 'espada' ) : 14,\n",
    "        (1, 'basto' ): 13,\n",
    "        (7, 'oro' ) : 12,\n",
    "        (7, 'copa') : 11,\n",
    "        3: 10,\n",
    "        2: 9,\n",
    "        1: 8,\n",
    "        12: 7,\n",
    "        11: 6,\n",
    "        10: 5,\n",
    "        7: 4,\n",
    "        6: 3,\n",
    "        5: 2, \n",
    "    } \n",
    "class Carta:\n",
    "    def __init__(self, numero, palo):\n",
    "        self.numero = numero\n",
    "        self.palo = palo\n",
    "        self.valor = calcular_valor(numero,palo)\n",
    "\n",
    "c = Carta(1, \"oro\")\n"
   ]
  },
  {
   "cell_type": "markdown",
   "metadata": {},
   "source": [
    "**Mazo**: Representan las cartas españolas de 1 al 12, en los palos de oro, copa, espada y basto.\n",
    "\n",
    "Debe existir una función que permita barajar las cartas.\n",
    "y otra función que permita repartir las cartas a los jugadores."
   ]
  },
  {
   "cell_type": "code",
   "execution_count": 4,
   "metadata": {},
   "outputs": [
    {
     "name": "stdout",
     "output_type": "stream",
     "text": [
      "[<__main__.Carta object at 0x0000025477A09C10>, <__main__.Carta object at 0x0000025477A0AB70>, <__main__.Carta object at 0x0000025477A09310>, <__main__.Carta object at 0x0000025477A08A40>, <__main__.Carta object at 0x0000025477A0A300>, <__main__.Carta object at 0x0000025477A0BE30>, <__main__.Carta object at 0x0000025477A0A840>, <__main__.Carta object at 0x0000025477A0AAB0>, <__main__.Carta object at 0x0000025477A0B620>, <__main__.Carta object at 0x0000025477A09460>, <__main__.Carta object at 0x0000025477A0A870>, <__main__.Carta object at 0x0000025477A08950>, <__main__.Carta object at 0x0000025477A08110>, <__main__.Carta object at 0x0000025477A0ABA0>, <__main__.Carta object at 0x0000025477A0AE70>, <__main__.Carta object at 0x0000025477A08620>, <__main__.Carta object at 0x0000025477A0A030>, <__main__.Carta object at 0x0000025477A0B860>, <__main__.Carta object at 0x0000025477A08BC0>, <__main__.Carta object at 0x0000025477A08710>, <__main__.Carta object at 0x0000025477A09280>, <__main__.Carta object at 0x0000025477A089B0>, <__main__.Carta object at 0x0000025477A08470>, <__main__.Carta object at 0x0000025477A0AA80>, <__main__.Carta object at 0x0000025477A0A4B0>, <__main__.Carta object at 0x0000025477A0BE90>, <__main__.Carta object at 0x0000025477A08C20>, <__main__.Carta object at 0x0000025477A09580>, <__main__.Carta object at 0x0000025477A08890>, <__main__.Carta object at 0x0000025477A0BFB0>, <__main__.Carta object at 0x0000025477A093D0>, <__main__.Carta object at 0x0000025477A08D70>, <__main__.Carta object at 0x0000025477A09A90>, <__main__.Carta object at 0x0000025477A0B5C0>, <__main__.Carta object at 0x0000025477A0AEA0>, <__main__.Carta object at 0x0000025477A0BEF0>, <__main__.Carta object at 0x0000025477A09340>, <__main__.Carta object at 0x0000025477A0A5A0>, <__main__.Carta object at 0x0000025477A089E0>, <__main__.Carta object at 0x0000025477A0BA10>]\n",
      "[<__main__.Carta object at 0x0000025477A0BA10>, <__main__.Carta object at 0x0000025477A089E0>, <__main__.Carta object at 0x0000025477A0A5A0>]\n"
     ]
    }
   ],
   "source": [
    "import random\n",
    "numeros = [1, 2, 3, 4, 5, 6, 7, 10, 11, 12]\n",
    "palos = ['oro' , 'copa' , 'espada' , 'basto']\n",
    "\n",
    "class Mazo:\n",
    "    def __init__(self):\n",
    "        self.cartas = [Carta(numero, palo) for numero in numeros for palo in palos]\n",
    "        self.mezclar()\n",
    "        \n",
    "    def mezclar(self):\n",
    "        random.shuffle(self.cartas)\n",
    "        \n",
    "    def repartir(self, cantidad):\n",
    "        return [self.cartas.pop() for _ in range(cantidad)]\n",
    "\n",
    "m = Mazo()\n",
    "m.mezclar()\n",
    "print(m.cartas)\n",
    "print(m.repartir(3))"
   ]
  },
  {
   "cell_type": "markdown",
   "metadata": {},
   "source": [
    "**Jugador**: Deben tener un nombre y las cartas que tiene en la mano. Debe acumular los puntos ganados.\n",
    "\n",
    "Nota: Para simplificar el problema, el jugador elige la carta a jugar de forma aleatoria."
   ]
  },
  {
   "cell_type": "code",
   "execution_count": 6,
   "metadata": {},
   "outputs": [
    {
     "name": "stdout",
     "output_type": "stream",
     "text": [
      "[<__main__.Carta object at 0x0000025477A0B5C0>, <__main__.Carta object at 0x0000025477A09A90>, <__main__.Carta object at 0x0000025477A08D70>]\n",
      "<__main__.Carta object at 0x0000025477A08D70>\n",
      "[<__main__.Carta object at 0x0000025477A09A90>, <__main__.Carta object at 0x0000025477A0B5C0>]\n"
     ]
    }
   ],
   "source": [
    "class Jugador:\n",
    "    pass\n",
    "    def __init__(self, nombre):\n",
    "        self.nombre = nombre\n",
    "        self.cartas = []\n",
    "        self.puntos = 0\n",
    "        \n",
    "    def recibir_cartas(self, cartas):\n",
    "        self.cartas = cartas\n",
    "    \n",
    "    def jugar_carta(self):\n",
    "        random.shuffle(self.cartas)\n",
    "        return self.cartas.pop()\n",
    "    \n",
    "    def __str__(self):\n",
    "        return self.nombre\n",
    "    def __repr__(self) -> str:\n",
    "        return self.__str__()\n",
    "\n",
    "j = Jugador(\"Juan\")\n",
    "j.recibir_cartas(m.repartir(3))\n",
    "\n",
    "print(j.cartas)\n",
    "print(j.jugar_carta())\n",
    "print(j.cartas)"
   ]
  },
  {
   "cell_type": "markdown",
   "metadata": {},
   "source": [
    "**Partida**: Debe tener dos jugadores, un mazo de cartas y un puntaje. Debe permitir jugar una carta por ronda y definir el ganador de la ronda. Debe permitir jugar hasta que se terminen las cartas del mazo."
   ]
  },
  {
   "cell_type": "code",
   "execution_count": 13,
   "metadata": {},
   "outputs": [
    {
     "name": "stdout",
     "output_type": "stream",
     "text": [
      "Ronda 1 [Belen, Carla]\n"
     ]
    },
    {
     "ename": "IndexError",
     "evalue": "pop from empty list",
     "output_type": "error",
     "traceback": [
      "\u001b[1;31m---------------------------------------------------------------------------\u001b[0m",
      "\u001b[1;31mIndexError\u001b[0m                                Traceback (most recent call last)",
      "Cell \u001b[1;32mIn[13], line 53\u001b[0m\n\u001b[0;32m     51\u001b[0m                 \u001b[38;5;28mprint\u001b[39m(\u001b[38;5;124mf\u001b[39m\u001b[38;5;124m\"\u001b[39m\u001b[38;5;132;01m{\u001b[39;00mjugador\u001b[38;5;132;01m}\u001b[39;00m\u001b[38;5;124m gana la partida\u001b[39m\u001b[38;5;124m\"\u001b[39m)\n\u001b[0;32m     52\u001b[0m p \u001b[38;5;241m=\u001b[39m Partida(Jugador(\u001b[38;5;124m\"\u001b[39m\u001b[38;5;124mBelen\u001b[39m\u001b[38;5;124m\"\u001b[39m), Jugador(\u001b[38;5;124m\"\u001b[39m\u001b[38;5;124mCarla\u001b[39m\u001b[38;5;124m\"\u001b[39m))\n\u001b[1;32m---> 53\u001b[0m \u001b[43mp\u001b[49m\u001b[38;5;241;43m.\u001b[39;49m\u001b[43mjugar\u001b[49m\u001b[43m(\u001b[49m\u001b[43m)\u001b[49m\n",
      "Cell \u001b[1;32mIn[13], line 43\u001b[0m, in \u001b[0;36mPartida.jugar\u001b[1;34m(self)\u001b[0m\n\u001b[0;32m     40\u001b[0m \u001b[38;5;28;01mfor\u001b[39;00m jugador \u001b[38;5;129;01min\u001b[39;00m \u001b[38;5;28mself\u001b[39m\u001b[38;5;241m.\u001b[39mjugadores:\n\u001b[0;32m     41\u001b[0m     jugador\u001b[38;5;241m.\u001b[39mrecibir_cartas(\u001b[38;5;28mself\u001b[39m\u001b[38;5;241m.\u001b[39mmazo\u001b[38;5;241m.\u001b[39mrepartir(\u001b[38;5;241m3\u001b[39m))\n\u001b[1;32m---> 43\u001b[0m     jugadas \u001b[38;5;241m=\u001b[39m \u001b[38;5;28;43mself\u001b[39;49m\u001b[38;5;241;43m.\u001b[39;49m\u001b[43mjugar_ronda\u001b[49m\u001b[43m(\u001b[49m\u001b[43m)\u001b[49m \u001b[38;5;66;03m#Recolectar las jugadas\u001b[39;00m\n\u001b[0;32m     44\u001b[0m \u001b[38;5;28;01mfor\u001b[39;00m jugada \u001b[38;5;129;01min\u001b[39;00m jugadas:\n\u001b[0;32m     45\u001b[0m     \u001b[38;5;28mprint\u001b[39m(\u001b[38;5;124m'\u001b[39m\u001b[38;5;124m'\u001b[39m, jugada)\n",
      "Cell \u001b[1;32mIn[13], line 7\u001b[0m, in \u001b[0;36mPartida.jugar_ronda\u001b[1;34m(self)\u001b[0m\n\u001b[0;32m      6\u001b[0m \u001b[38;5;28;01mdef\u001b[39;00m \u001b[38;5;21mjugar_ronda\u001b[39m(\u001b[38;5;28mself\u001b[39m):\n\u001b[1;32m----> 7\u001b[0m     \u001b[38;5;28;01mreturn\u001b[39;00m[[\u001b[43mj\u001b[49m\u001b[38;5;241;43m.\u001b[39;49m\u001b[43mjugar_carta\u001b[49m\u001b[43m(\u001b[49m\u001b[43m)\u001b[49m \u001b[38;5;28;01mfor\u001b[39;00m j \u001b[38;5;129;01min\u001b[39;00m \u001b[38;5;28mself\u001b[39m\u001b[38;5;241m.\u001b[39mjugadores] \u001b[38;5;28;01mfor\u001b[39;00m _ \u001b[38;5;129;01min\u001b[39;00m \u001b[38;5;28mrange\u001b[39m(\u001b[38;5;241m3\u001b[39m)]\n",
      "Cell \u001b[1;32mIn[6], line 13\u001b[0m, in \u001b[0;36mJugador.jugar_carta\u001b[1;34m(self)\u001b[0m\n\u001b[0;32m     11\u001b[0m \u001b[38;5;28;01mdef\u001b[39;00m \u001b[38;5;21mjugar_carta\u001b[39m(\u001b[38;5;28mself\u001b[39m):\n\u001b[0;32m     12\u001b[0m     random\u001b[38;5;241m.\u001b[39mshuffle(\u001b[38;5;28mself\u001b[39m\u001b[38;5;241m.\u001b[39mcartas)\n\u001b[1;32m---> 13\u001b[0m     \u001b[38;5;28;01mreturn\u001b[39;00m \u001b[38;5;28;43mself\u001b[39;49m\u001b[38;5;241;43m.\u001b[39;49m\u001b[43mcartas\u001b[49m\u001b[38;5;241;43m.\u001b[39;49m\u001b[43mpop\u001b[49m\u001b[43m(\u001b[49m\u001b[43m)\u001b[49m\n",
      "\u001b[1;31mIndexError\u001b[0m: pop from empty list"
     ]
    }
   ],
   "source": [
    "class Partida:\n",
    "    def __init__(self, jugador1, jugador2):\n",
    "        self.jugadores = [jugador1, jugador2]\n",
    "        self.mazo = Mazo()\n",
    "\n",
    "    def jugar_ronda(self):\n",
    "        return[[j.jugar_carta() for j in self.jugadores] for _ in range(3)]\n",
    "    \n",
    "    def evaluar_jugada(self, jugadas):\n",
    "        ganadas = [ \n",
    "                   sum(1 for c1, c2,in jugadas if c1 > c2),\n",
    "                   sum(1 for c1, c2 in jugadas if c1 < c2)\n",
    "                   ]\n",
    "        \n",
    "        for ganadas, jugador in zip(ganadas, self.jugadores):\n",
    "            if ganadas >= 2:\n",
    "                jugador.puntos += 1\n",
    "                print(f\"{jugador} gana la ronda\")\n",
    "    \n",
    "    def puntajes(self):\n",
    "        print(f\"/nPuntos:\")\n",
    "        for jugador in self.jugadores:\n",
    "            print(f\" - {jugador}: {jugador.puntos}\")\n",
    "        print('-' * 20)\n",
    "        \n",
    "    def jugar(self):\n",
    "    \n",
    "        # Mientras que ningun jugador acumule 15 puntos.abs\n",
    "        # Mezclar el mazo\n",
    "        # Repartir 3 cartas a cada jugador\n",
    "        # Jugar ronda\n",
    "        # Revisar quien gano la ronda\n",
    "        # Sumar puntos\n",
    "        ronda = 0\n",
    "        while all(j.puntos < 15 for j in self.jugadores):\n",
    "            self.mazo = Mazo() # Mezclar el mazo\n",
    "            ronda += 1\n",
    "            print(f\"Ronda {ronda} {[jugador for jugador in self.jugadores]}\")\n",
    "\n",
    "            for jugador in self.jugadores:\n",
    "                jugador.recibir_cartas(self.mazo.repartir(3))\n",
    "                \n",
    "                jugadas = self.jugar_ronda() #Recolectar las jugadas\n",
    "            for jugada in jugadas:\n",
    "                print('', jugada)\n",
    "                \n",
    "            self.evaluar_jugada(jugadas) #Evaluar quien gano\n",
    "            self.puntajes() #Mostrar puntajes\n",
    "        for jugador in self.jugadores:\n",
    "            if jugador.puntos >= 15:\n",
    "                print(f\"{jugador} gana la partida\")\n",
    "p = Partida(Jugador(\"Belen\"), Jugador(\"Carla\"))\n",
    "p.jugar()"
   ]
  }
 ],
 "metadata": {
  "kernelspec": {
   "display_name": "Python 3",
   "language": "python",
   "name": "python3"
  },
  "language_info": {
   "codemirror_mode": {
    "name": "ipython",
    "version": 3
   },
   "file_extension": ".py",
   "mimetype": "text/x-python",
   "name": "python",
   "nbconvert_exporter": "python",
   "pygments_lexer": "ipython3",
   "version": "3.12.5"
  }
 },
 "nbformat": 4,
 "nbformat_minor": 2
}
