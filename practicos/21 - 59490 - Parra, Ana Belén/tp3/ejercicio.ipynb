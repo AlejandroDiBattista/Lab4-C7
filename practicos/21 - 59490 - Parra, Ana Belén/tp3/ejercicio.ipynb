{
 "cells": [
  {
   "cell_type": "markdown",
   "metadata": {},
   "source": [
    "#TP3"
   ]
  },
  {
   "cell_type": "markdown",
   "metadata": {},
   "source": [
    "## Ejercicio 1: Cargar Datos de ventas.\n",
    "\n",
    "El archivo datos.dat contiene el registro de las ventas realizadas.\n",
    "\n",
    "Tiene un formato de ancho fijo:\n",
    "- fecha:    10 lugares\n",
    "- producto: 30 lugares\n",
    "- precio:   10 lugares\n",
    "- cantidad:  5 lugares\n",
    "\n",
    "hacer una funcion que carge los en una lista de diccionarios. \n",
    "\n",
    "nota: con \n",
    "```python\n",
    "lineas = open(\"datos.dat\", \"r\").readlines() \n",
    "```\n",
    "puede obtener la lista de string de todos los datos "
   ]
  },
  {
   "cell_type": "code",
   "execution_count": 20,
   "metadata": {},
   "outputs": [
    {
     "name": "stdout",
     "output_type": "stream",
     "text": [
      "[{'Fecha': '2024-08-27', 'Producto': 'Mirinda', 'Precio': 1510.0, 'Cantidad': 14}, {'Fecha': '2024-08-27', 'Producto': 'Mirinda', 'Precio': 1560.0, 'Cantidad': 12}, {'Fecha': '2024-08-28', 'Producto': 'Torasso', 'Precio': 940.0, 'Cantidad': 8}, {'Fecha': '2024-08-29', 'Producto': 'Pepsi Cola', 'Precio': 1210.0, 'Cantidad': 10}, {'Fecha': '2024-08-30', 'Producto': 'Mirinda', 'Precio': 1520.0, 'Cantidad': 1}, {'Fecha': '2024-09-01', 'Producto': 'Mirinda', 'Precio': 1550.0, 'Cantidad': 15}, {'Fecha': '2024-09-01', 'Producto': 'Sprite', 'Precio': 810.0, 'Cantidad': 4}, {'Fecha': '2024-09-02', 'Producto': 'Coca Cola', 'Precio': 1100.0, 'Cantidad': 4}, {'Fecha': '2024-09-02', 'Producto': 'Pepsi Cola', 'Precio': 1220.0, 'Cantidad': 13}, {'Fecha': '2024-09-02', 'Producto': 'Torasso', 'Precio': 910.0, 'Cantidad': 5}, {'Fecha': '2024-09-02', 'Producto': 'Torasso', 'Precio': 920.0, 'Cantidad': 3}, {'Fecha': '2024-09-03', 'Producto': 'Coca Cola', 'Precio': 1020.0, 'Cantidad': 8}, {'Fecha': '2024-09-03', 'Producto': 'Mirinda', 'Precio': 1570.0, 'Cantidad': 7}, {'Fecha': '2024-09-03', 'Producto': 'Mirinda', 'Precio': 1590.0, 'Cantidad': 2}, {'Fecha': '2024-09-04', 'Producto': 'Pepsi Cola', 'Precio': 1220.0, 'Cantidad': 13}, {'Fecha': '2024-09-05', 'Producto': 'Mirinda', 'Precio': 1500.0, 'Cantidad': 3}, {'Fecha': '2024-09-05', 'Producto': 'Pepsi Cola', 'Precio': 1300.0, 'Cantidad': 5}, {'Fecha': '2024-09-06', 'Producto': 'Coca Cola', 'Precio': 1080.0, 'Cantidad': 1}, {'Fecha': '2024-09-06', 'Producto': 'Sprite', 'Precio': 860.0, 'Cantidad': 12}, {'Fecha': '2024-09-06', 'Producto': 'Torasso', 'Precio': 930.0, 'Cantidad': 3}, {'Fecha': '2024-09-07', 'Producto': 'Coca Cola', 'Precio': 1080.0, 'Cantidad': 14}, {'Fecha': '2024-09-07', 'Producto': 'Sprite', 'Precio': 870.0, 'Cantidad': 13}, {'Fecha': '2024-09-08', 'Producto': 'Coca Cola', 'Precio': 1040.0, 'Cantidad': 10}, {'Fecha': '2024-09-08', 'Producto': 'Mirinda', 'Precio': 1580.0, 'Cantidad': 2}, {'Fecha': '2024-09-08', 'Producto': 'Pepsi Cola', 'Precio': 1240.0, 'Cantidad': 9}, {'Fecha': '2024-09-09', 'Producto': 'Mirinda', 'Precio': 1500.0, 'Cantidad': 3}, {'Fecha': '2024-09-09', 'Producto': 'Sprite', 'Precio': 850.0, 'Cantidad': 9}, {'Fecha': '2024-09-10', 'Producto': 'Mirinda', 'Precio': 1590.0, 'Cantidad': 8}, {'Fecha': '2024-09-10', 'Producto': 'Pepsi Cola', 'Precio': 1250.0, 'Cantidad': 12}, {'Fecha': '2024-09-11', 'Producto': 'Sprite', 'Precio': 810.0, 'Cantidad': 6}, {'Fecha': '2024-09-11', 'Producto': 'Sprite', 'Precio': 820.0, 'Cantidad': 14}, {'Fecha': '2024-09-12', 'Producto': 'Coca Cola', 'Precio': 1080.0, 'Cantidad': 4}, {'Fecha': '2024-09-13', 'Producto': 'Mirinda', 'Precio': 1580.0, 'Cantidad': 5}, {'Fecha': '2024-09-13', 'Producto': 'Pepsi Cola', 'Precio': 1250.0, 'Cantidad': 13}, {'Fecha': '2024-09-14', 'Producto': 'Coca Cola', 'Precio': 1080.0, 'Cantidad': 15}, {'Fecha': '2024-09-14', 'Producto': 'Pepsi Cola', 'Precio': 1270.0, 'Cantidad': 14}, {'Fecha': '2024-09-15', 'Producto': 'Coca Cola', 'Precio': 1100.0, 'Cantidad': 1}, {'Fecha': '2024-09-15', 'Producto': 'Mirinda', 'Precio': 1500.0, 'Cantidad': 13}, {'Fecha': '2024-09-15', 'Producto': 'Sprite', 'Precio': 870.0, 'Cantidad': 14}, {'Fecha': '2024-09-15', 'Producto': 'Torasso', 'Precio': 900.0, 'Cantidad': 13}]\n"
     ]
    }
   ],
   "source": [
    "def cargar_datos():\n",
    "    lista_informativa=[]\n",
    "    lineas = open(\"datos.dat\" , \"r\").readlines()\n",
    "    \n",
    "    for dato in lineas:\n",
    "        venta = {\n",
    "            \"Fecha\":dato[:10].strip(),\n",
    "            \"Producto\":dato[10:40].strip(),\n",
    "            \"Precio\":float(dato[40:50].strip()),\n",
    "            \"Cantidad\":int(dato[50:].strip()),\n",
    "        }\n",
    "        lista_informativa.append(venta)\n",
    "    return lista_informativa\n",
    "\n",
    "datos= cargar_datos()\n",
    "print(datos)"
   ]
  },
  {
   "cell_type": "markdown",
   "metadata": {},
   "source": [
    "## Ejercicio 2: Calcular el total de ventas.\n",
    "\n",
    "Hacer una funcion que sume los importes vendidos (precio * cantidad) y las cantidades"
   ]
  },
  {
   "cell_type": "code",
   "execution_count": 21,
   "metadata": {},
   "outputs": [
    {
     "name": "stdout",
     "output_type": "stream",
     "text": [
      "Las ventas fueron de $392730.00 en 335 unidades\n"
     ]
    }
   ],
   "source": [
    "def calcular_totales(datos):\n",
    "    importe=0\n",
    "    cantidad=0\n",
    "    for venta in datos:\n",
    "        importe += venta [\"Precio\"] * venta[\"Cantidad\"]\n",
    "        cantidad += venta[\"Cantidad\"]\n",
    "    return importe, cantidad   \n",
    "\n",
    "importe, cantidad = calcular_totales(datos)\n",
    "\n",
    "print(f\"Las ventas fueron de ${importe:.2f} en {cantidad} unidades\")"
   ]
  },
  {
   "cell_type": "markdown",
   "metadata": {},
   "source": [
    "## Ejercicio 3: Listar las unidades vendidas.\n",
    "\n",
    "Listar cuantas unidades se vendieron en total para cada producto"
   ]
  },
  {
   "cell_type": "code",
   "execution_count": 22,
   "metadata": {},
   "outputs": [
    {
     "ename": "KeyError",
     "evalue": "'Mirinda'",
     "output_type": "error",
     "traceback": [
      "\u001b[1;31m---------------------------------------------------------------------------\u001b[0m",
      "\u001b[1;31mKeyError\u001b[0m                                  Traceback (most recent call last)",
      "Cell \u001b[1;32mIn[22], line 15\u001b[0m\n\u001b[0;32m     13\u001b[0m             \u001b[38;5;28mprint\u001b[39m(\u001b[38;5;124mf\u001b[39m\u001b[38;5;124m\"\u001b[39m\u001b[38;5;124mProducto: \u001b[39m\u001b[38;5;132;01m{\u001b[39;00mproducto\u001b[38;5;132;01m}\u001b[39;00m\u001b[38;5;124m, unidades vendidas:\u001b[39m\u001b[38;5;132;01m{\u001b[39;00mcantidad\u001b[38;5;132;01m}\u001b[39;00m\u001b[38;5;124m\"\u001b[39m)\n\u001b[0;32m     14\u001b[0m     listar_ventas(unidades)\n\u001b[1;32m---> 15\u001b[0m \u001b[43munidades_vendidas\u001b[49m\u001b[43m(\u001b[49m\u001b[43mdatos\u001b[49m\u001b[43m)\u001b[49m\n",
      "Cell \u001b[1;32mIn[22], line 9\u001b[0m, in \u001b[0;36munidades_vendidas\u001b[1;34m(datos)\u001b[0m\n\u001b[0;32m      7\u001b[0m         unidades[producto] \u001b[38;5;241m+\u001b[39m\u001b[38;5;241m=\u001b[39m cantidad\n\u001b[0;32m      8\u001b[0m     \u001b[38;5;28;01melse\u001b[39;00m:\n\u001b[1;32m----> 9\u001b[0m         \u001b[43munidades\u001b[49m\u001b[43m[\u001b[49m\u001b[43mproducto\u001b[49m\u001b[43m]\u001b[49m \u001b[38;5;241m+\u001b[39m\u001b[38;5;241m-\u001b[39m cantidad\n\u001b[0;32m     11\u001b[0m \u001b[38;5;28;01mdef\u001b[39;00m \u001b[38;5;21mlistar_ventas\u001b[39m(unidades):\n\u001b[0;32m     12\u001b[0m     \u001b[38;5;28;01mfor\u001b[39;00m producto, cantidad \u001b[38;5;129;01min\u001b[39;00m unidades\u001b[38;5;241m.\u001b[39mitms():\n",
      "\u001b[1;31mKeyError\u001b[0m: 'Mirinda'"
     ]
    }
   ],
   "source": [
    "def unidades_vendidas(datos):\n",
    "    unidades={}\n",
    "    for venta in datos:\n",
    "        producto= venta[\"Producto\"]\n",
    "        cantidad= venta[\"Cantidad\"]\n",
    "        if producto in unidades:\n",
    "            unidades[producto] += cantidad\n",
    "        else:\n",
    "            unidades[producto] +- cantidad\n",
    "\n",
    "    def listar_ventas(unidades):\n",
    "        for producto, cantidad in unidades.itms():\n",
    "            print(f\"Producto: {producto}, unidades vendidas:{cantidad}\")\n",
    "    listar_ventas(unidades)\n",
    "unidades_vendidas(datos)\n"
   ]
  },
  {
   "cell_type": "markdown",
   "metadata": {},
   "source": [
    "##  Ejercicio 4: Listar el precio promedio por producto.\n",
    "\n",
    "Hacer un listado del precio promedio por productos."
   ]
  },
  {
   "cell_type": "code",
   "execution_count": 23,
   "metadata": {},
   "outputs": [
    {
     "name": "stdout",
     "output_type": "stream",
     "text": [
      "El precio promedio de Mirinda es $1545.83\n",
      "El precio promedio de Torasso es $920.00\n",
      "El precio promedio de Pepsi Cola es $1245.00\n",
      "El precio promedio de Sprite es $841.43\n",
      "El precio promedio de Coca Cola es $1072.50\n"
     ]
    }
   ],
   "source": [
    "def precio_promedio(datos):\n",
    "    unidades={}\n",
    "    cantidad={}\n",
    "    \n",
    "    for dato in datos:\n",
    "        producto = dato[\"Producto\"]\n",
    "        precio = dato[\"Precio\"]\n",
    "        \n",
    "        if producto in unidades:\n",
    "            unidades[producto] += precio\n",
    "            cantidad[producto]+=1\n",
    "        else:\n",
    "            unidades[producto] = precio\n",
    "            cantidad[producto]=1\n",
    "\n",
    "    def listar_precios(unidades, camtidad):\n",
    "        for producto in unidades:\n",
    "            promedio = unidades[producto]/cantidad[producto]\n",
    "            print(f\"El precio promedio de {producto} es ${promedio:.2f}\")\n",
    "    listar_precios(unidades, cantidad)\n",
    "\n",
    "precio_promedio(datos)"
   ]
  },
  {
   "cell_type": "markdown",
   "metadata": {},
   "source": [
    "### Ejercicio 5: Ranking de productos\n",
    "\n",
    "Realizar un listado de los 3 productos mas vendidos ordenados la cantidad de unidades vendidas (ordenadas de mayor a menor)\n"
   ]
  },
  {
   "cell_type": "code",
   "execution_count": null,
   "metadata": {},
   "outputs": [],
   "source": [
    "def ranking_productos(datos, top=3):\n",
    "    pass # Implementar\n",
    "\n",
    "def listar_ranking(ranking):\n",
    "    pass # Implementar\n",
    "\n",
    "ranking = ranking_productos(datos)\n",
    "listar_ranking(ranking)"
   ]
  },
  {
   "cell_type": "markdown",
   "metadata": {},
   "source": [
    "### Ejercicio 6: Listar las ventas por mes\n",
    "\n",
    "Realizar un listado del total de unidades vendidas por productos separada por mes."
   ]
  },
  {
   "cell_type": "code",
   "execution_count": null,
   "metadata": {},
   "outputs": [],
   "source": [
    "def ventas_por_mes(datos):\n",
    "    pass # Implementar\n",
    "\n",
    "def listar_ventas_mensuales(ventas):\n",
    "    pass # Implementar\n",
    "\n",
    "ventas = ventas_por_mes(datos)\n",
    "listar_ventas_mensuales(ventas)"
   ]
  },
  {
   "cell_type": "markdown",
   "metadata": {},
   "source": [
    "### Ejercicio 7: Informe general\n",
    "\n",
    "Mostrar un listado de productos ordenados alfabeticamente que contengan el precio promedio, la cantidad de unidades vendidas y el importe total vendido para cada producto"
   ]
  },
  {
   "cell_type": "code",
   "execution_count": null,
   "metadata": {},
   "outputs": [],
   "source": [
    "def resumen_ventas(datos):\n",
    "    pass # Implementar\n",
    "\n",
    "def informe_ventas(datos):\n",
    "    pass # Implementar\n",
    "\n",
    "resumen = resumen_ventas(datos)\n",
    "informe_ventas(resumen)\n"
   ]
  }
 ],
 "metadata": {
  "kernelspec": {
   "display_name": "Python 3",
   "language": "python",
   "name": "python3"
  },
  "language_info": {
   "codemirror_mode": {
    "name": "ipython",
    "version": 3
   },
   "file_extension": ".py",
   "mimetype": "text/x-python",
   "name": "python",
   "nbconvert_exporter": "python",
   "pygments_lexer": "ipython3",
   "version": "3.12.5"
  }
 },
 "nbformat": 4,
 "nbformat_minor": 2
}
