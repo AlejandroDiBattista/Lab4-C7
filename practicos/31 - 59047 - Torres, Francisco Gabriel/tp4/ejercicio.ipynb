{
 "cells": [
  {
   "cell_type": "markdown",
   "metadata": {},
   "source": [
    "# Simulación del Truco"
   ]
  },
  {
   "cell_type": "markdown",
   "metadata": {},
   "source": [
    "Las **cartas** deben registra el numero, palo y valor de la carta. \n",
    "El valor debe reflejar la jerarquía de las cartas en el juego del truco."
   ]
  },
  {
   "cell_type": "code",
   "execution_count": 6,
   "metadata": {},
   "outputs": [
    {
     "name": "stdout",
     "output_type": "stream",
     "text": [
      "3 de ⚔️ (valor: 10)\n"
     ]
    }
   ],
   "source": [
    "emojis = {\n",
    "    'espada': '⚔️',\n",
    "    'copa': '🥂',\n",
    "    'basto': '🪄',\n",
    "    'oro': '💰'\n",
    "}\n",
    "\n",
    "def calcular_valor(numero, palo):\n",
    "    jerarquia = {\n",
    "        (1, 'espada'): 14,\n",
    "        (1, 'basto'): 13,\n",
    "        (7, 'espada'): 12,\n",
    "        (7, 'oro'): 11,\n",
    "        (3, 'copa'): 10, (3, 'espada'): 10, (3, 'oro'): 10, (3, 'basto'): 10,\n",
    "        (2, 'copa'): 9, (2, 'espada'): 9, (2, 'oro'): 9, (2, 'basto'): 9,\n",
    "        (1, 'copa'): 8, (1, 'oro'): 8,\n",
    "        (12, 'copa'): 7, (12, 'espada'): 7, (12, 'oro'): 7, (12, 'basto'): 7,\n",
    "        (11, 'copa'): 6, (11, 'espada'): 6, (11, 'oro'): 6, (11, 'basto'): 6,\n",
    "        (10, 'copa'): 5, (10, 'espada'): 5, (10, 'oro'): 5, (10, 'basto'): 5,\n",
    "        (7, 'copa'): 4, (7, 'basto'): 4,\n",
    "        (6, 'copa'): 3, (6, 'espada'): 3, (6, 'oro'): 3, (6, 'basto'): 3,\n",
    "        (5, 'copa'): 2, (5, 'espada'): 2, (5, 'oro'): 2, (5, 'basto'): 2,\n",
    "        (4, 'copa'): 1, (4, 'espada'): 1, (4, 'oro'): 1, (4, 'basto'): 1\n",
    "    }\n",
    "    return jerarquia.get((numero, palo), numero)\n",
    "\n",
    "\n",
    "\n",
    "class Carta:\n",
    "    def __init__(self, numero, palo):\n",
    "        self.numero = numero\n",
    "        self.palo = palo\n",
    "        self.valor = calcular_valor(numero, palo)\n",
    "\n",
    "    def __str__(self):\n",
    "        emoji = emojis.get(self.palo, '')\n",
    "        return f\"{self.numero} de {emoji} (valor: {self.valor})\"\n",
    "\n",
    "\n",
    "MostrarCarta = Carta(3, \"espada\")\n",
    "print(MostrarCarta)"
   ]
  },
  {
   "cell_type": "markdown",
   "metadata": {},
   "source": [
    "**Mazo**: Representan las cartas españolas de 1 al 12, en los palos de oro, copa, espada y basto.\n",
    "\n",
    "Debe existir una función que permita barajar las cartas.\n",
    "y otra función que permita repartir las cartas a los jugadores."
   ]
  },
  {
   "cell_type": "code",
   "execution_count": 7,
   "metadata": {},
   "outputs": [],
   "source": [
    "import random\n",
    "\n",
    "class Mazo:\n",
    "    def __init__(self):\n",
    "        self.cartas = [Carta(numero, palo) for numero in range(1, 13)\n",
    "                       for palo in [\"oro\", \"copa\", \"espada\", \"basto\"] if numero != 8 and numero != 9]\n",
    "\n",
    "    def mezclar(self):\n",
    "        random.shuffle(self.cartas)\n",
    "\n",
    "    def repartir(self, cantidad):\n",
    "        return [self.cartas.pop() for _ in range(cantidad)]"
   ]
  },
  {
   "cell_type": "markdown",
   "metadata": {},
   "source": [
    "**Jugador**: Deben tener un nombre y las cartas que tiene en la mano. Debe acumular los puntos ganados.\n",
    "\n",
    "Nota: Para simplificar el problema, el jugador elige la carta a jugar de forma aleatoria."
   ]
  },
  {
   "cell_type": "code",
   "execution_count": 8,
   "metadata": {},
   "outputs": [],
   "source": [
    "class Jugador:\n",
    "    def __init__(self, nombre):\n",
    "        self.nombre = nombre\n",
    "        self.cartas = []\n",
    "        self.puntos = 0\n",
    "\n",
    "    def recibir_cartas(self, cartas):\n",
    "        self.cartas = cartas\n",
    "\n",
    "    def jugar_carta(self):\n",
    "        return self.cartas.pop(random.randint(0, len(self.cartas) - 1))\n",
    "\n",
    "    def __str__(self):\n",
    "        return f\"{self.nombre} (puntos: {self.puntos})\""
   ]
  },
  {
   "cell_type": "markdown",
   "metadata": {},
   "source": [
    "**Partida**: Debe tener dos jugadores, un mazo de cartas y un puntaje. Debe permitir jugar una carta por ronda y definir el ganador de la ronda. Debe permitir jugar hasta que se terminen las cartas del mazo."
   ]
  },
  {
   "cell_type": "code",
   "execution_count": 9,
   "metadata": {},
   "outputs": [
    {
     "name": "stdout",
     "output_type": "stream",
     "text": [
      "\u001b[1;35m Nueva ronda:\n",
      "\u001b[1;31mPedro\u001b[1;37m juega con 11 de ⚔️\n",
      "\u001b[1;36mJuan\u001b[1;37m juega con 10 de 💰\n",
      "\u001b[1;31mPedro gana la ronda\n",
      "\u001b[1;31mPedro\u001b[1;37m juega con 2 de ⚔️\n",
      "\u001b[1;36mJuan\u001b[1;37m juega con 7 de ⚔️\n",
      "\u001b[1;36mJuan gana la ronda\n",
      "\u001b[1;31mPedro\u001b[1;37m juega con 6 de 🥂\n",
      "\u001b[1;36mJuan\u001b[1;37m juega con 2 de 💰\n",
      "\u001b[1;36mJuan gana la ronda\n",
      "\u001b[1;32mPuntos: \u001b[1;31mPedro: 1\u001b[1;37m , \u001b[1;36mJuan: 2\n",
      "\u001b[1;35m Nueva ronda:\n",
      "\u001b[1;31mPedro\u001b[1;37m juega con 1 de 🥂\n",
      "\u001b[1;36mJuan\u001b[1;37m juega con 7 de 🥂\n",
      "\u001b[1;31mPedro gana la ronda\n",
      "\u001b[1;31mPedro\u001b[1;37m juega con 2 de 💰\n",
      "\u001b[1;36mJuan\u001b[1;37m juega con 3 de ⚔️\n",
      "\u001b[1;36mJuan gana la ronda\n",
      "\u001b[1;31mPedro\u001b[1;37m juega con 2 de 🥂\n",
      "\u001b[1;36mJuan\u001b[1;37m juega con 4 de ⚔️\n",
      "\u001b[1;31mPedro gana la ronda\n",
      "\u001b[1;32mPuntos: \u001b[1;31mPedro: 3\u001b[1;37m , \u001b[1;36mJuan: 3\n",
      "\u001b[1;35m Nueva ronda:\n",
      "\u001b[1;31mPedro\u001b[1;37m juega con 4 de ⚔️\n",
      "\u001b[1;36mJuan\u001b[1;37m juega con 5 de 🥂\n",
      "\u001b[1;36mJuan gana la ronda\n",
      "\u001b[1;31mPedro\u001b[1;37m juega con 1 de 🪄\n",
      "\u001b[1;36mJuan\u001b[1;37m juega con 1 de 🥂\n",
      "\u001b[1;31mPedro gana la ronda\n",
      "\u001b[1;31mPedro\u001b[1;37m juega con 6 de 🥂\n",
      "\u001b[1;36mJuan\u001b[1;37m juega con 12 de 💰\n",
      "\u001b[1;36mJuan gana la ronda\n",
      "\u001b[1;32mPuntos: \u001b[1;31mPedro: 4\u001b[1;37m , \u001b[1;36mJuan: 5\n",
      "\u001b[1;35m Nueva ronda:\n",
      "\u001b[1;31mPedro\u001b[1;37m juega con 12 de 🥂\n",
      "\u001b[1;36mJuan\u001b[1;37m juega con 3 de 🥂\n",
      "\u001b[1;36mJuan gana la ronda\n",
      "\u001b[1;31mPedro\u001b[1;37m juega con 5 de 🥂\n",
      "\u001b[1;36mJuan\u001b[1;37m juega con 7 de ⚔️\n",
      "\u001b[1;36mJuan gana la ronda\n",
      "\u001b[1;31mPedro\u001b[1;37m juega con 4 de ⚔️\n",
      "\u001b[1;36mJuan\u001b[1;37m juega con 5 de ⚔️\n",
      "\u001b[1;36mJuan gana la ronda\n",
      "\u001b[1;32mPuntos: \u001b[1;31mPedro: 4\u001b[1;37m , \u001b[1;36mJuan: 8\n",
      "\u001b[1;35m Nueva ronda:\n",
      "\u001b[1;31mPedro\u001b[1;37m juega con 5 de 🪄\n",
      "\u001b[1;36mJuan\u001b[1;37m juega con 7 de ⚔️\n",
      "\u001b[1;36mJuan gana la ronda\n",
      "\u001b[1;31mPedro\u001b[1;37m juega con 10 de ⚔️\n",
      "\u001b[1;36mJuan\u001b[1;37m juega con 12 de 🪄\n",
      "\u001b[1;36mJuan gana la ronda\n",
      "\u001b[1;31mPedro\u001b[1;37m juega con 6 de 💰\n",
      "\u001b[1;36mJuan\u001b[1;37m juega con 7 de 🥂\n",
      "\u001b[1;36mJuan gana la ronda\n",
      "\u001b[1;32mPuntos: \u001b[1;31mPedro: 4\u001b[1;37m , \u001b[1;36mJuan: 11\n",
      "\u001b[1;35m Nueva ronda:\n",
      "\u001b[1;31mPedro\u001b[1;37m juega con 11 de 💰\n",
      "\u001b[1;36mJuan\u001b[1;37m juega con 1 de ⚔️\n",
      "\u001b[1;36mJuan gana la ronda\n",
      "\u001b[1;31mPedro\u001b[1;37m juega con 10 de 🪄\n",
      "\u001b[1;36mJuan\u001b[1;37m juega con 3 de 🥂\n",
      "\u001b[1;36mJuan gana la ronda\n",
      "\u001b[1;31mPedro\u001b[1;37m juega con 1 de 🪄\n",
      "\u001b[1;36mJuan\u001b[1;37m juega con 4 de 🥂\n",
      "\u001b[1;31mPedro gana la ronda\n",
      "\u001b[1;32mPuntos: \u001b[1;31mPedro: 5\u001b[1;37m , \u001b[1;36mJuan: 13\n",
      "\u001b[1;35m Nueva ronda:\n",
      "\u001b[1;31mPedro\u001b[1;37m juega con 4 de 💰\n",
      "\u001b[1;36mJuan\u001b[1;37m juega con 2 de 🪄\n",
      "\u001b[1;36mJuan gana la ronda\n",
      "\u001b[1;31mPedro\u001b[1;37m juega con 5 de 🪄\n",
      "\u001b[1;36mJuan\u001b[1;37m juega con 6 de 🪄\n",
      "\u001b[1;36mJuan gana la ronda\n",
      "\u001b[1;32mPuntos: \u001b[1;31mPedro: 5\u001b[1;37m , \u001b[1;36mJuan: 15\n",
      "\n",
      "¡Juan ha ganado la partida con 15 puntos!\n"
     ]
    }
   ],
   "source": [
    "class Partida:\n",
    "    def __init__(self, jugador1, jugador2):\n",
    "        self.jugador1 = jugador1\n",
    "        self.jugador2 = jugador2\n",
    "        self.mazo = Mazo()\n",
    "\n",
    "    def jugar_ronda(self):\n",
    "        carta_j1 = self.jugador1.jugar_carta()\n",
    "        carta_j2 = self.jugador2.jugar_carta()\n",
    "\n",
    "        emoji_j1 = emojis.get(carta_j1.palo, '')\n",
    "        emoji_j2 = emojis.get(carta_j2.palo, '')\n",
    "\n",
    "        print(f\"{chr(27)+'[1;31m'}{self.jugador1.nombre}{chr(27)+'[1;37m'} juega con {carta_j1.numero} de {emoji_j1}\")\n",
    "        print(f\"{chr(27)+'[1;36m'}{self.jugador2.nombre}{chr(27)+'[1;37m'} juega con {carta_j2.numero} de {emoji_j2}\")\n",
    "\n",
    "        if carta_j1.valor > carta_j2.valor:\n",
    "            print(f\"{chr(27)+'[1;31m'}{self.jugador1.nombre} gana la ronda\")\n",
    "            self.jugador1.puntos += 1\n",
    "        elif carta_j2.valor > carta_j1.valor:\n",
    "            print(f\"{chr(27)+'[1;36m'}{self.jugador2.nombre} gana la ronda\")\n",
    "            self.jugador2.puntos += 1\n",
    "        else:\n",
    "            print(f\"{chr(27)+'[1;35m'}Empate en la ronda\")\n",
    "\n",
    "    def jugar(self):\n",
    "        while self.jugador1.puntos < 15 and self.jugador2.puntos < 15:\n",
    "            print(f\"{chr(27)+'[1;35m'} Nueva ronda:\")\n",
    "\n",
    "            self.mazo = Mazo()\n",
    "            self.mazo.mezclar()\n",
    "            self.jugador1.recibir_cartas(self.mazo.repartir(3))\n",
    "            self.jugador2.recibir_cartas(self.mazo.repartir(3))\n",
    "\n",
    "            for _ in range(3):\n",
    "                self.jugar_ronda()\n",
    "\n",
    "                if self.jugador1.puntos >= 15 or self.jugador2.puntos >= 15:\n",
    "                    break\n",
    "\n",
    "            print(f\"{chr(27)+'[1;32m'}Puntos: {chr(27)+'[1;31m'}{self.jugador1.nombre}: {self.jugador1.puntos}{chr(27)+'[1;37m'} , {chr(27)+'[1;36m'}{self.jugador2.nombre}: {self.jugador2.puntos}\")\n",
    "\n",
    "        ganador = self.jugador1 if self.jugador1.puntos >= 15 else self.jugador2\n",
    "        print(f\"\\n¡{ganador.nombre} ha ganado la partida con {ganador.puntos} puntos!\")\n",
    "\n",
    "#Gameplay jijo\n",
    "p = Partida(Jugador(\"Pedro\"), Jugador(\"Juan\"))\n",
    "p.jugar()\n"
   ]
  }
 ],
 "metadata": {
  "kernelspec": {
   "display_name": "Python 3",
   "language": "python",
   "name": "python3"
  },
  "language_info": {
   "codemirror_mode": {
    "name": "ipython",
    "version": 3
   },
   "file_extension": ".py",
   "mimetype": "text/x-python",
   "name": "python",
   "nbconvert_exporter": "python",
   "pygments_lexer": "ipython3",
   "version": "3.12.5"
  }
 },
 "nbformat": 4,
 "nbformat_minor": 2
}
