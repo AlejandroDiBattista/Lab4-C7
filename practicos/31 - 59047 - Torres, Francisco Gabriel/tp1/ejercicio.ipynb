{
 "cells": [
  {
   "cell_type": "markdown",
   "metadata": {},
   "source": [
    "# Trabajo práctico 1\n",
    "\n"
   ]
  },
  {
   "cell_type": "markdown",
   "metadata": {},
   "source": [
    "## Ejercicio 1 \n",
    "\n",
    "Escribe una función en Python que procese una lista de cadenas de texto y realice las siguientes acciones:\n",
    "\n",
    "1. Tomar una lista de frases y convertir cada frase en una lista de palabras.\n",
    "1. Luego, debe crear una nueva lista que contenga la cantidad de palabras en cada frase.\n",
    "1. Tambien debe crear un lista que contenga la cantidad de caracteres en cada frase.\n",
    "1. Finalmente, debe imprimir cada frase original junto con la cantidad de palabras que contiene.\n",
    "Ejemplo de uso:\n",
    "```python\n",
    "    frases = [\n",
    "        \"Python es un lenguaje de programación\",\n",
    "        \"Me gusta resolver problemas con código\",\n",
    "        \"Las listas y los bucles son muy útiles\"\n",
    "    ]\n",
    "\n",
    "    procesar_frases(frases)\n",
    "```\n",
    "\n",
    "ejemplo de salida:\n",
    "```bash\n",
    "    La frase: \"Python es un...\"\n",
    "    tiene 6 palabras y 38 caracteres\n",
    "```\n"
   ]
  },
  {
   "cell_type": "code",
   "execution_count": 2,
   "metadata": {},
   "outputs": [
    {
     "name": "stdout",
     "output_type": "stream",
     "text": [
      "La frase: \"Recien estoy aprendiendo a programar en python\" tiene 7 palabras y 46 caracteres.\n",
      "La frase: \"Me agobio en mi trabajo\" tiene 5 palabras y 23 caracteres.\n",
      "La frase: \"Python me confunde mucho\" tiene 4 palabras y 24 caracteres.\n"
     ]
    }
   ],
   "source": [
    "def procesar(frases):\n",
    "    for frase in frases:\n",
    "        palabras = len(frase.split())\n",
    "        caracteres = len(frase)\n",
    "        print(f'La frase: \"{frase}\" tiene {palabras} palabras y {caracteres} caracteres.')\n",
    "\n",
    "frases = [\n",
    "    \"Recien estoy aprendiendo a programar en python\",\n",
    "    \"Me agobio en mi trabajo\",\n",
    "    \"Python me confunde mucho\"\n",
    "]\n",
    "\n",
    "procesar(frases)"
   ]
  },
  {
   "cell_type": "markdown",
   "metadata": {},
   "source": [
    "## Ejercicio 2\n",
    "\n",
    "Escribe una función en Python que encuentre los valores de `a`, `b`, y `c` para que la función cuadrática `f(x) = aX^2 + bX + c` pase exactamente por los siguientes puntos:\n",
    "\n",
    "| x  | y  |\n",
    "|---:|---:|\n",
    "|  0 |  0 |\n",
    "|  1 |  8 |\n",
    "|  2 | 12 |\n",
    "|  3 | 12 |\n",
    "|  5 |  0 |\n",
    "\n",
    "### Requisitos:\n",
    "- La función debe explorar posibles valores de `a`, `b`, y `c` utilizando un método de prueba y error.\n",
    "- Debe devolver los valores que hagan que la diferencia entre la función `f(x)` y los valores medidos `y` sea exactamente cero para cada punto.\n",
    "\n",
    "> **Pista**: Los valores de `a`, `b`, y `c` son números pequeños."
   ]
  },
  {
   "cell_type": "code",
   "execution_count": 1,
   "metadata": {},
   "outputs": [
    {
     "name": "stdout",
     "output_type": "stream",
     "text": [
      "Los resultados de los coeficientes son los siguientes: a = -2, b = 10, c = 0\n"
     ]
    }
   ],
   "source": [
    "def Operacion():\n",
    "    rango = range(-10, 11)\n",
    "    valores = [(0, 0), (1, 8), (2, 12), (3, 12), (5, 0)]\n",
    "    \n",
    "    for a in rango:\n",
    "        for b in rango:\n",
    "            for c in rango:\n",
    "                if all(funcion(x, a, b, c) == y for x, y in valores):\n",
    "                    return a, b, c\n",
    "                    \n",
    "    return None\n",
    "def funcion(x, a, b, c):\n",
    "    return a * x**2 + b*x + c\n",
    "resultado = Operacion()\n",
    "\n",
    "if resultado:\n",
    "    print(f\"Los resultados de los coeficientes son los siguientes: a = {resultado[0]}, b = {resultado[1]}, c = {resultado[2]}\")\n",
    "else:\n",
    "    print(\"No se encontró una solución\")\n"
   ]
  }
 ],
 "metadata": {
  "kernelspec": {
   "display_name": "Python 3",
   "language": "python",
   "name": "python3"
  },
  "language_info": {
   "codemirror_mode": {
    "name": "ipython",
    "version": 3
   },
   "file_extension": ".py",
   "mimetype": "text/x-python",
   "name": "python",
   "nbconvert_exporter": "python",
   "pygments_lexer": "ipython3",
   "version": "3.12.5"
  }
 },
 "nbformat": 4,
 "nbformat_minor": 2
}
