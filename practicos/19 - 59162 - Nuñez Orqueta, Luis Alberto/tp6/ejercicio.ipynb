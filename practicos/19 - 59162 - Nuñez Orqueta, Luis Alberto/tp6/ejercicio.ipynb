{
 "cells": [
  {
   "cell_type": "markdown",
   "metadata": {},
   "source": [
    "# TP6\n",
    "\n",
    "### `Resolver usando Pandas`\n",
    "\n",
    "Resolver los ejercicios del TP3 utilizando la librería Pandas."
   ]
  },
  {
   "cell_type": "markdown",
   "metadata": {},
   "source": [
    "### Ejercicio 1: Cargar Datos de ventas.\n",
    "\n",
    "El archivo datos.dat contiene el registro de las ventas realizadas.\n",
    "\n",
    "Tiene un formato de ancho fijo:\n",
    "- `fecha`:    10 lugares\n",
    "- `producto`: 30 lugares\n",
    "- `precio`:   10 lugares\n",
    "- `cantidad`:  5 lugares\n",
    "\n",
    "Hacer una funcion que cargue los datos en un DataFrame de Pandas."
   ]
  },
  {
   "cell_type": "code",
   "execution_count": 1,
   "metadata": {},
   "outputs": [],
   "source": [
    "def cargar_ventas(ruta_archivo):\n",
    " \n",
    "    lineas = open(ruta_archivo, \"r\").readlines()\n",
    "    ventas = []\n",
    "    for linea in lineas:\n",
    "        fecha = linea[0:10].strip()           \n",
    "        producto = linea[10:40].strip()       \n",
    "        precio = float(linea[40:50].strip())  \n",
    "        cantidad = int(linea[50:55].strip())  \n",
    "        venta = {\n",
    "            \"fecha\": fecha,\n",
    "            \"producto\": producto,\n",
    "            \"precio\": precio,\n",
    "            \"cantidad\": cantidad\n",
    "        }\n",
    "        ventas.append(venta)\n",
    "\n",
    "    return ventas\n"
   ]
  },
  {
   "cell_type": "markdown",
   "metadata": {},
   "source": [
    "### Ejercicio 2: Calcular el total de ventas.\n",
    "Hacer una función que sume los importes vendidos (precio * cantidad) y las cantidades.\n"
   ]
  },
  {
   "cell_type": "code",
   "execution_count": 2,
   "metadata": {},
   "outputs": [],
   "source": [
    "def calcular_total_ventas(ventas):\n",
    "    total_importe = 0.0\n",
    "    total_cantidad = 0\n",
    "\n",
    "    for venta in ventas:\n",
    "      \n",
    "        importe = venta['precio'] * venta['cantidad']\n",
    "        total_importe += importe\n",
    "        total_cantidad += venta['cantidad']\n",
    "\n",
    "    return total_importe, total_cantidad\n"
   ]
  },
  {
   "cell_type": "markdown",
   "metadata": {},
   "source": [
    "### Ejercicio 3: Listar las unidades vendidas.\n",
    "Listar cuántas unidades se vendieron en total para cada producto\n"
   ]
  },
  {
   "cell_type": "code",
   "execution_count": 3,
   "metadata": {},
   "outputs": [],
   "source": [
    "def listar_unidades_vendidas(ventas):\n",
    "   \n",
    "    unidades_por_producto = {}\n",
    "\n",
    "    for venta in ventas:\n",
    "        producto = venta['producto']\n",
    "        cantidad = venta['cantidad']\n",
    "\n",
    "        if producto in unidades_por_producto:\n",
    "            unidades_por_producto[producto] += cantidad\n",
    "        else:\n",
    "            unidades_por_producto[producto] = cantidad\n",
    "\n",
    "    return unidades_por_producto\n"
   ]
  },
  {
   "cell_type": "markdown",
   "metadata": {},
   "source": [
    "###  Ejercicio 4: Listar el precio promedio por producto.\n",
    "Hacer un listado del precio promedio por producto.\n"
   ]
  },
  {
   "cell_type": "code",
   "execution_count": 4,
   "metadata": {},
   "outputs": [],
   "source": [
    "def precio_promedio_por_producto(ventas):\n",
    "    acumulado_precio = {}\n",
    "    contador_ventas = {}\n",
    "\n",
    "    for venta in ventas:\n",
    "        producto = venta['producto']\n",
    "        precio = venta['precio']\n",
    "\n",
    "        if producto in acumulado_precio:\n",
    "            acumulado_precio[producto] += precio\n",
    "            contador_ventas[producto] += 1\n",
    "        else:\n",
    "            acumulado_precio[producto] = precio\n",
    "            contador_ventas[producto] = 1\n",
    "\n",
    "    promedio_precio = {}\n",
    "    for producto in acumulado_precio:\n",
    "        promedio_precio[producto] = acumulado_precio[producto] / contador_ventas[producto]\n",
    "\n",
    "    return promedio_precio\n"
   ]
  },
  {
   "cell_type": "markdown",
   "metadata": {},
   "source": [
    "### Ejercicio 5: Ranking de productos\n",
    "Realizar un listado de los 3 productos más vendidos ordenados por la cantidad de unidades vendidas (ordenadas de mayor a menor)\n"
   ]
  },
  {
   "cell_type": "code",
   "execution_count": 5,
   "metadata": {},
   "outputs": [],
   "source": [
    "def ranking_productos_mas_vendidos(ventas, top_n=3):\n",
    "    unidades_por_producto = listar_unidades_vendidas(ventas)\n",
    "    \n",
    "    ranking = sorted(unidades_por_producto.items(), key=lambda item: item[1], reverse=True)\n",
    "    \n",
    "    return ranking[:top_n]\n"
   ]
  },
  {
   "cell_type": "markdown",
   "metadata": {},
   "source": [
    "### Ejercicio 6: Listar las ventas por mes\n",
    "Realizar un listado del total de unidades vendidas por producto separado por mes.\n"
   ]
  },
  {
   "cell_type": "code",
   "execution_count": 6,
   "metadata": {},
   "outputs": [],
   "source": [
    "def ventas_por_mes(datos):\n",
    "    pass # Implementar\n",
    "\n",
    "ventas_por_mes(datos)"
   ]
  },
  {
   "cell_type": "markdown",
   "metadata": {},
   "source": [
    "### Ejercicio 7: Informe general\n",
    "\n",
    "Mostrar un listado de productos ordenados alfabeticamente que contengan el precio promedio, la cantidad de unidades vendidas y el importe total vendido para cada producto"
   ]
  },
  {
   "cell_type": "code",
   "execution_count": 7,
   "metadata": {},
   "outputs": [],
   "source": [
    "def generar_informe_general(ventas):\n",
    "    acumulado_precio = {}\n",
    "    contador_ventas = {}\n",
    "    acumulado_cantidad = {}\n",
    "    \n",
    "    for venta in ventas:\n",
    "        producto = venta['producto']\n",
    "        precio = venta['precio']\n",
    "        cantidad = venta['cantidad']\n",
    "        \n",
    "        if producto in acumulado_precio:\n",
    "            acumulado_precio[producto] += precio\n",
    "            contador_ventas[producto] += 1\n",
    "            acumulado_cantidad[producto] += cantidad\n",
    "        else:\n",
    "            acumulado_precio[producto] = precio\n",
    "            contador_ventas[producto] = 1\n",
    "            acumulado_cantidad[producto] = cantidad\n",
    "\n",
    "    informe = []\n",
    "\n",
    "    for producto in acumulado_precio:\n",
    "        precio_promedio = acumulado_precio[producto] / contador_ventas[producto]\n",
    "        cantidad_total = acumulado_cantidad[producto]\n",
    "        importe_total = cantidad_total * precio_promedio\n",
    "\n",
    "        informe.append((producto, precio_promedio, cantidad_total, importe_total))\n",
    "\n",
    "    informe_ordenado = sorted(informe, key=lambda x: x[0])\n",
    "\n",
    "    return informe_ordenado\n"
   ]
  },
  {
   "cell_type": "markdown",
   "metadata": {},
   "source": [
    "## `Resolver usando NumPy`\n",
    "## Resolver el ejercicio 2 del tp1 usando NumPy"
   ]
  },
  {
   "cell_type": "markdown",
   "metadata": {},
   "source": [
    "### Ejercicio 8\n",
    "\n",
    "Escribe una función en Python que encuentre los valores de `a`, `b`, y `c` para que la función cuadrática `f(x) = a x^2 + b x + c` pase exactamente por los siguientes puntos:\n",
    "\n",
    "| x  | y  |\n",
    "|---:|---:|\n",
    "|  0 |  0 |\n",
    "|  1 |  8 |\n",
    "|  2 | 12 |\n",
    "|  3 | 12 |\n",
    "|  5 |  0 |\n",
    "\n",
    "### Requisitos:\n",
    "- La función debe explorar posibles valores de `a`, `b`, y `c` utilizando un método de prueba y error.\n",
    "- Debe devolver los valores que hagan que la diferencia entre la función `f(x)` y los valores medidos `y` sea exactamente cero para cada punto.\n",
    "\n",
    "> **Pista**: Los valores de `a`, `b`, y `c` son números pequeños.\n",
    "\n",
    "La idea es implementar el mismo algoritmo que se uso en el TP1 pero usando NumPy en lugar de Python puro."
   ]
  },
  {
   "cell_type": "code",
   "execution_count": 10,
   "metadata": {},
   "outputs": [
    {
     "name": "stdout",
     "output_type": "stream",
     "text": [
      "Coeficientes encontrados: [-2.00000000e+00  1.00000000e+01 -9.29703539e-15]\n"
     ]
    }
   ],
   "source": [
    "import numpy as np\n",
    "\n",
    "def f(x, coeficientes):\n",
    "    a, b, c = coeficientes\n",
    "    return a*x**2 + b*x + c\n",
    "\n",
    "def error(y, y_pred):\n",
    "    return y - y_pred\n",
    "\n",
    "X = np.array([0, 1, 2, 3, 5])\n",
    "Y = np.array([0, 8, 12, 12, 0])\n",
    "\n",
    "def buscar_coeficientes():\n",
    "  \n",
    "    A = np.vstack([X**2, X, np.ones(len(X))]).T\n",
    "   \n",
    "    coeficientes, _, _, _ = np.linalg.lstsq(A, Y, rcond=None)\n",
    "    return coeficientes\n",
    "\n",
    "coeficientes = buscar_coeficientes()\n",
    "print(\"Coeficientes encontrados:\", coeficientes)\n"
   ]
  },
  {
   "cell_type": "markdown",
   "metadata": {},
   "source": [
    "### Ejercicio 9: Resolver el ejercicio 3 del TP1 usando NumPy\n",
    "Buscar los coeficientes de la función que minimice la suma de los cuadrados de las diferencias entre los valores medidos y los valores de la función.\n",
    "\n",
    "1. Crear un array con los coeficientes elegidos al azar (usar `randint(-10,10,3)`).\n",
    "2. Calcular el valor de la función y el error correspondiente.\n",
    "3. Mientras que el error sea mayor a 1:\n",
    "    1. Definir nuevos coeficientes agregándoles un pequeño valor al azar a los coeficientes actuales (aprendizaje = 0.001).\n",
    "    2. Si el error para los nuevos coeficientes es menor que el anterior, reemplazar los coeficientes actuales por los nuevos.\n"
   ]
  },
  {
   "cell_type": "code",
   "execution_count": 11,
   "metadata": {},
   "outputs": [],
   "source": [
    "import numpy as np\n",
    "from numpy.random import randint\n",
    "\n",
    "def f(x, coeficientes):\n",
    "    a,b,c = coeficientes\n",
    "    return a*x**2 + b*x + c\n",
    "\n",
    "def error(y, y_pred):\n",
    "    return np.sum((y - y_pred)**2)\n",
    "\n",
    "X = np.array([0, 1, 2, 3, 5])\n",
    "Y = np.array([0, 8,12,11, 1]) \n",
    "\n",
    "def buscar_coeficientes():\n",
    "    pass\n",
    "\n",
    "\n",
    "coeficientes = buscar_coeficientes()\n",
    "coeficientes"
   ]
  }
 ],
 "metadata": {
  "kernelspec": {
   "display_name": "Python 3",
   "language": "python",
   "name": "python3"
  },
  "language_info": {
   "codemirror_mode": {
    "name": "ipython",
    "version": 3
   },
   "file_extension": ".py",
   "mimetype": "text/x-python",
   "name": "python",
   "nbconvert_exporter": "python",
   "pygments_lexer": "ipython3",
   "version": "3.12.5"
  }
 },
 "nbformat": 4,
 "nbformat_minor": 2
}
