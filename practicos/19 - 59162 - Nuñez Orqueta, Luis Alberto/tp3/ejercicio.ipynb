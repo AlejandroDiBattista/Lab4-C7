{
 "cells": [
  {
   "cell_type": "markdown",
   "metadata": {},
   "source": [
    "#TP3"
   ]
  },
  {
   "cell_type": "markdown",
   "metadata": {},
   "source": [
    "## Ejercicio 1: Cargar Datos de ventas.\n",
    "\n",
    "El archivo datos.dat contiene el registro de las ventas realizadas.\n",
    "\n",
    "Tiene un formato de ancho fijo:\n",
    "- fecha:    10 lugares\n",
    "- producto: 30 lugares\n",
    "- precio:   10 lugares\n",
    "- cantidad:  5 lugares\n",
    "\n",
    "hacer una funcion que carge los en una lista de diccionarios. \n",
    "\n",
    "nota: con \n",
    "```python\n",
    "lineas = open(\"datos.dat\", \"r\").readlines() \n",
    "```\n",
    "puede obtener la lista de string de todos los datos "
   ]
  },
  {
   "cell_type": "code",
   "execution_count": 1,
   "metadata": {},
   "outputs": [
    {
     "ename": "FileNotFoundError",
     "evalue": "[Errno 2] No such file or directory: 'datos.dat'",
     "output_type": "error",
     "traceback": [
      "\u001b[1;31m---------------------------------------------------------------------------\u001b[0m",
      "\u001b[1;31mFileNotFoundError\u001b[0m                         Traceback (most recent call last)",
      "Cell \u001b[1;32mIn[1], line 18\u001b[0m\n\u001b[0;32m     15\u001b[0m         diccionarioVentas\u001b[38;5;241m.\u001b[39mappend(venta)\n\u001b[0;32m     16\u001b[0m     \u001b[38;5;28;01mreturn\u001b[39;00m diccionarioVentas\n\u001b[1;32m---> 18\u001b[0m \u001b[43mcargar_datos\u001b[49m\u001b[43m(\u001b[49m\u001b[43m)\u001b[49m\n",
      "Cell \u001b[1;32mIn[1], line 3\u001b[0m, in \u001b[0;36mcargar_datos\u001b[1;34m()\u001b[0m\n\u001b[0;32m      1\u001b[0m \u001b[38;5;28;01mdef\u001b[39;00m \u001b[38;5;21mcargar_datos\u001b[39m():\n\u001b[0;32m      2\u001b[0m     diccionarioVentas\u001b[38;5;241m=\u001b[39m[]\n\u001b[1;32m----> 3\u001b[0m     lineas \u001b[38;5;241m=\u001b[39m \u001b[38;5;28;43mopen\u001b[39;49m\u001b[43m(\u001b[49m\u001b[38;5;124;43m\"\u001b[39;49m\u001b[38;5;124;43mdatos.dat\u001b[39;49m\u001b[38;5;124;43m\"\u001b[39;49m\u001b[43m,\u001b[49m\u001b[43m \u001b[49m\u001b[38;5;124;43m\"\u001b[39;49m\u001b[38;5;124;43mr\u001b[39;49m\u001b[38;5;124;43m\"\u001b[39;49m\u001b[43m)\u001b[49m\u001b[38;5;241m.\u001b[39mreadlines() \n\u001b[0;32m      4\u001b[0m     \u001b[38;5;28;01mfor\u001b[39;00m i \u001b[38;5;129;01min\u001b[39;00m lineas:\n\u001b[0;32m      5\u001b[0m         fecha\u001b[38;5;241m=\u001b[39m(i[\u001b[38;5;241m0\u001b[39m:\u001b[38;5;241m10\u001b[39m]\u001b[38;5;241m.\u001b[39mstrip())\n",
      "File \u001b[1;32mc:\\Users\\luisito\\AppData\\Local\\Programs\\Python\\Python312\\Lib\\site-packages\\IPython\\core\\interactiveshell.py:324\u001b[0m, in \u001b[0;36m_modified_open\u001b[1;34m(file, *args, **kwargs)\u001b[0m\n\u001b[0;32m    317\u001b[0m \u001b[38;5;28;01mif\u001b[39;00m file \u001b[38;5;129;01min\u001b[39;00m {\u001b[38;5;241m0\u001b[39m, \u001b[38;5;241m1\u001b[39m, \u001b[38;5;241m2\u001b[39m}:\n\u001b[0;32m    318\u001b[0m     \u001b[38;5;28;01mraise\u001b[39;00m \u001b[38;5;167;01mValueError\u001b[39;00m(\n\u001b[0;32m    319\u001b[0m         \u001b[38;5;124mf\u001b[39m\u001b[38;5;124m\"\u001b[39m\u001b[38;5;124mIPython won\u001b[39m\u001b[38;5;124m'\u001b[39m\u001b[38;5;124mt let you open fd=\u001b[39m\u001b[38;5;132;01m{\u001b[39;00mfile\u001b[38;5;132;01m}\u001b[39;00m\u001b[38;5;124m by default \u001b[39m\u001b[38;5;124m\"\u001b[39m\n\u001b[0;32m    320\u001b[0m         \u001b[38;5;124m\"\u001b[39m\u001b[38;5;124mas it is likely to crash IPython. If you know what you are doing, \u001b[39m\u001b[38;5;124m\"\u001b[39m\n\u001b[0;32m    321\u001b[0m         \u001b[38;5;124m\"\u001b[39m\u001b[38;5;124myou can use builtins\u001b[39m\u001b[38;5;124m'\u001b[39m\u001b[38;5;124m open.\u001b[39m\u001b[38;5;124m\"\u001b[39m\n\u001b[0;32m    322\u001b[0m     )\n\u001b[1;32m--> 324\u001b[0m \u001b[38;5;28;01mreturn\u001b[39;00m \u001b[43mio_open\u001b[49m\u001b[43m(\u001b[49m\u001b[43mfile\u001b[49m\u001b[43m,\u001b[49m\u001b[43m \u001b[49m\u001b[38;5;241;43m*\u001b[39;49m\u001b[43margs\u001b[49m\u001b[43m,\u001b[49m\u001b[43m \u001b[49m\u001b[38;5;241;43m*\u001b[39;49m\u001b[38;5;241;43m*\u001b[39;49m\u001b[43mkwargs\u001b[49m\u001b[43m)\u001b[49m\n",
      "\u001b[1;31mFileNotFoundError\u001b[0m: [Errno 2] No such file or directory: 'datos.dat'"
     ]
    }
   ],
   "source": [
    "def cargar_datos():\n",
    "    diccionarioVentas=[]\n",
    "    lineas = open(\"datos.dat\", \"r\").readlines() \n",
    "    for i in lineas:\n",
    "        fecha=(i[0:10].strip())\n",
    "        producto=i[10:30].strip()\n",
    "        precio=i[40:50].strip()\n",
    "        cantidad=i[50:55].strip()\n",
    "        venta={\n",
    "              'fecha': fecha,    \n",
    "            'producto': producto,\n",
    "            'precio': precio,    \n",
    "            'cantidad': cantidad,\n",
    "        }\n",
    "        diccionarioVentas.append(venta)\n",
    "    return diccionarioVentas\n",
    "\n",
    "cargar_datos()"
   ]
  },
  {
   "cell_type": "markdown",
   "metadata": {},
   "source": [
    "## Ejercicio 2: Calcular el total de ventas.\n",
    "\n",
    "Hacer una funcion que sume los importes vendidos (precio * cantidad) y las cantidades"
   ]
  },
  {
   "cell_type": "code",
   "execution_count": 8,
   "metadata": {},
   "outputs": [
    {
     "name": "stdout",
     "output_type": "stream",
     "text": [
      "Las ventas fueron de $47580.00 en 335 unidades\n"
     ]
    }
   ],
   "source": [
    "\n",
    "datos= open(\"datos.dat\", \"r\").readlines() \n",
    "def calcular_totales(datos):\n",
    "    Total_de_importe=0\n",
    "    Cantidad_Total=0\n",
    "    for i in datos:\n",
    "        importe = i[40:50].strip()\n",
    "        cantidad=i[50:55].strip()\n",
    "        Total_de_importe+=float(importe)\n",
    "        Cantidad_Total+=float(cantidad)\n",
    "    return Total_de_importe, Cantidad_Total\n",
    "        \n",
    "        \n",
    "        \n",
    "importe, cantidad = calcular_totales(datos)\n",
    "\n",
    "print(f\"Las ventas fueron de ${importe:.2f} en {cantidad:.0f} unidades\")"
   ]
  },
  {
   "cell_type": "markdown",
   "metadata": {},
   "source": [
    "## Ejercicio 3: Listar las unidades vendidas.\n",
    "\n",
    "Listar cuantas unidades se vendieron en total para cada producto"
   ]
  },
  {
   "cell_type": "code",
   "execution_count": 149,
   "metadata": {},
   "outputs": [
    {
     "data": {
      "text/plain": [
       "[{'producto': 'Mirinda', 'cantidad': 85},\n",
       " {'producto': 'Torasso', 'cantidad': 32},\n",
       " {'producto': 'Pepsi Cola', 'cantidad': 89},\n",
       " {'producto': 'Sprite', 'cantidad': 72},\n",
       " {'producto': 'Coca Cola', 'cantidad': 57}]"
      ]
     },
     "execution_count": 149,
     "metadata": {},
     "output_type": "execute_result"
    }
   ],
   "source": [
    "datos = open(\"datos.dat\", \"r\").readlines() \n",
    "def unidades_vendidas(datos):\n",
    "    lista=[]\n",
    "    for i in datos:\n",
    "       cantidad=i[50:55].strip()\n",
    "       producto=i[10:30].strip()\n",
    "       producto={\n",
    "           \"producto\":producto,\n",
    "           \"cantidad\":cantidad,\n",
    "       }\n",
    "\n",
    "       lista.append(producto)\n",
    "    return lista\n",
    "\n",
    "\n",
    "\n",
    "def listar_ventas(datos):\n",
    "    contador={}\n",
    "    listafinal=[]\n",
    "    for producto in datos:\n",
    "        nombre = producto['producto']\n",
    "        cantidad= int(producto[\"cantidad\"])\n",
    "        if nombre in contador:\n",
    "            contador[nombre] += cantidad  \n",
    "        else:\n",
    "            contador[nombre] = cantidad\n",
    "    for Nombre_producto in contador:\n",
    "        ventas={\n",
    "            \"producto\":Nombre_producto,\n",
    "            \"cantidad\": contador[Nombre_producto]\n",
    "        }\n",
    "        listafinal.append(ventas)\n",
    "    return listafinal    \n",
    "ventas = unidades_vendidas(datos)\n",
    "listar_ventas(ventas)"
   ]
  },
  {
   "cell_type": "markdown",
   "metadata": {},
   "source": [
    "##  Ejercicio 4: Listar el precio promedio por producto.\n",
    "\n",
    "Hacer un listado del precio promedio por productos."
   ]
  },
  {
   "cell_type": "code",
   "execution_count": 145,
   "metadata": {},
   "outputs": [
    {
     "data": {
      "text/plain": [
       "{'Mirinda': 1545.83,\n",
       " 'Torasso': 920.0,\n",
       " 'Pepsi Cola': 1245.0,\n",
       " 'Sprite': 841.43,\n",
       " 'Coca Cola': 1072.5}"
      ]
     },
     "execution_count": 145,
     "metadata": {},
     "output_type": "execute_result"
    }
   ],
   "source": [
    "datos = open(\"datos.dat\", \"r\").readlines() \n",
    "\n",
    "def precio_promedio(datos):\n",
    "\n",
    "    precioxproducto = {}\n",
    "    for registro in datos:\n",
    "\n",
    "\n",
    "        producto = registro[10:30].strip()\n",
    "        precio = int(registro[40:50].strip())\n",
    "        if producto in precioxproducto:\n",
    "            precioxproducto[producto].append(precio)\n",
    "        else:\n",
    "            precioxproducto[producto] = [precio]\n",
    "    \n",
    "    promedio_precio = {producto: round(sum(precios) / len(precios), 2) for producto, precios in precioxproducto.items()}\n",
    "    return promedio_precio\n",
    "\n",
    "def listar_precios(precios):\n",
    "    return precios\n",
    "\n",
    "\n",
    "precios = precio_promedio(datos)\n",
    "listar_precios(precios)"
   ]
  },
  {
   "cell_type": "markdown",
   "metadata": {},
   "source": [
    "### Ejercicio 5: Ranking de productos\n",
    "\n",
    "Realizar un listado de los 3 productos mas vendidos ordenados la cantidad de unidades vendidas (ordenadas de mayor a menor)\n"
   ]
  },
  {
   "cell_type": "code",
   "execution_count": 142,
   "metadata": {},
   "outputs": [
    {
     "data": {
      "text/plain": [
       "[{'producto': 'Pepsi Cola', 'cantidad': 89},\n",
       " {'producto': 'Mirinda', 'cantidad': 85},\n",
       " {'producto': 'Sprite', 'cantidad': 72}]"
      ]
     },
     "execution_count": 142,
     "metadata": {},
     "output_type": "execute_result"
    }
   ],
   "source": [
    "def ranking_productos(datos, top=3):\n",
    "    ventas = unidades_vendidas(datos)\n",
    "    listar_ventas(ventas)\n",
    "    return listar_ventas(ventas)\n",
    "\n",
    "def listar_ranking(ranking):\n",
    "    productos_ordenados = sorted(ranking, key=lambda x: x['cantidad'],reverse=True)\n",
    "    return productos_ordenados[0:3]\n",
    "ranking = ranking_productos(datos)\n",
    "listar_ranking(ranking)\n",
    "\n"
   ]
  },
  {
   "cell_type": "markdown",
   "metadata": {},
   "source": [
    "### Ejercicio 6: Listar las ventas por mes\n",
    "\n",
    "Realizar un listado del total de unidades vendidas por productos separada por mes."
   ]
  },
  {
   "cell_type": "code",
   "execution_count": 98,
   "metadata": {},
   "outputs": [
    {
     "data": {
      "text/plain": [
       "[{'mes': '08', 'producto': 'Mirinda', 'cantidad': 27},\n",
       " {'mes': '08', 'producto': 'Torasso', 'cantidad': 8},\n",
       " {'mes': '08', 'producto': 'Pepsi Cola', 'cantidad': 10},\n",
       " {'mes': '09', 'producto': 'Mirinda', 'cantidad': 58},\n",
       " {'mes': '09', 'producto': 'Sprite', 'cantidad': 72},\n",
       " {'mes': '09', 'producto': 'Coca Cola', 'cantidad': 57},\n",
       " {'mes': '09', 'producto': 'Pepsi Cola', 'cantidad': 79},\n",
       " {'mes': '09', 'producto': 'Torasso', 'cantidad': 24}]"
      ]
     },
     "execution_count": 98,
     "metadata": {},
     "output_type": "execute_result"
    }
   ],
   "source": [
    "def ventas_por_mes(datos):\n",
    "    listado=[]\n",
    "    for i in datos:\n",
    "        cantidad=i[50:55].strip()\n",
    "        producto=i[10:30].strip()\n",
    "        mes=(i[5:7].strip())\n",
    "        producto={\n",
    "           \"producto\":producto,\n",
    "            \"mes\":mes,\n",
    "            \"cantidad\":cantidad,  \n",
    "       }\n",
    "        listado.append(producto)\n",
    "    return listado\n",
    "  \n",
    "\n",
    "def listar_ventas_mensuales(ventas):\n",
    "    listafianal=[]\n",
    "    contador={}\n",
    "    for producto in ventas:\n",
    "        nombre = producto['producto']\n",
    "        cantidad= int(producto[\"cantidad\"])\n",
    "        mes=producto[\"mes\"]\n",
    "        clave = (mes, nombre)\n",
    "\n",
    "        if clave in contador:\n",
    "            contador[clave] += cantidad  \n",
    "        else:\n",
    "            contador[clave] = cantidad\n",
    "    for (mes, producto), cantidad in contador.items():\n",
    "        ventas = {\n",
    "                           \"mes\": mes,\n",
    "\n",
    "            \"producto\": producto,\n",
    "            \"cantidad\": cantidad\n",
    "        }\n",
    "        listafianal.append(ventas)\n",
    "    return listafianal    \n",
    "    \n",
    "ventas = ventas_por_mes(datos)\n",
    "listar_ventas_mensuales(ventas)"
   ]
  },
  {
   "cell_type": "markdown",
   "metadata": {},
   "source": [
    "### Ejercicio 7: Informe general\n",
    "\n",
    "Mostrar un listado de productos ordenados alfabeticamente que contengan el precio promedio, la cantidad de unidades vendidas y el importe total vendido para cada producto"
   ]
  },
  {
   "cell_type": "code",
   "execution_count": 164,
   "metadata": {},
   "outputs": [
    {
     "data": {
      "text/plain": [
       "[{'producto': 'Coca Cola',\n",
       "  'cantidad': 57,\n",
       "  'precio promedio': 1072.5,\n",
       "  'importetotal': 61132.5},\n",
       " {'producto': 'Mirinda',\n",
       "  'cantidad': 85,\n",
       "  'precio promedio': 1545.83,\n",
       "  'importetotal': 131395.55},\n",
       " {'producto': 'Pepsi Cola',\n",
       "  'cantidad': 89,\n",
       "  'precio promedio': 1245.0,\n",
       "  'importetotal': 110805.0},\n",
       " {'producto': 'Sprite',\n",
       "  'cantidad': 72,\n",
       "  'precio promedio': 841.43,\n",
       "  'importetotal': 60582.96},\n",
       " {'producto': 'Torasso',\n",
       "  'cantidad': 32,\n",
       "  'precio promedio': 920.0,\n",
       "  'importetotal': 29440.0}]"
      ]
     },
     "execution_count": 164,
     "metadata": {},
     "output_type": "execute_result"
    }
   ],
   "source": [
    "def resumen_ventas(datos):\n",
    "    ventas = unidades_vendidas(datos)\n",
    "    listadeventas_cantidad=listar_ventas(ventas)\n",
    "    precios = precio_promedio(datos)\n",
    "    listade_preciopromedio=listar_precios(precios)\n",
    "\n",
    "    return listadeventas_cantidad,listade_preciopromedio\n",
    "\n",
    "    \n",
    "def informe_ventas(datos):\n",
    "    listadeventas_cantidad, listade_preciopromedio = datos\n",
    "    \n",
    "    # Crear un informe que combine los datos\n",
    "    informe = []\n",
    "    \n",
    "    for venta in listadeventas_cantidad:\n",
    "        producto = venta['producto']\n",
    "        cantidad = venta['cantidad']\n",
    "        \n",
    "        # Obtener el precio promedio para el producto\n",
    "        precio_promedio = listade_preciopromedio.get(producto, 0)\n",
    "        \n",
    "        # Calcular el importe total\n",
    "        importe_total = cantidad * precio_promedio\n",
    "        \n",
    "        # Agregar al informe\n",
    "        informe.append({\n",
    "            'producto': producto,\n",
    "            'cantidad': cantidad,\n",
    "            'precio promedio': round(precio_promedio, 2),  # Redondear a 2 decimales\n",
    "            'importetotal': round(importe_total, 2)  # Redondear a 2 decimales\n",
    "        })\n",
    "    \n",
    "    # Ordenar el informe alfabéticamente por producto\n",
    "    informe.sort(key=lambda x: x['producto'])\n",
    "    \n",
    "    return informe  # Retornar la lista de informes\n",
    "\n",
    "\n",
    "resumen = resumen_ventas(datos)\n",
    "informe_ventas(resumen)\n",
    "\n"
   ]
  },
  {
   "cell_type": "code",
   "execution_count": null,
   "metadata": {},
   "outputs": [],
   "source": []
  }
 ],
 "metadata": {
  "kernelspec": {
   "display_name": "Python 3",
   "language": "python",
   "name": "python3"
  },
  "language_info": {
   "codemirror_mode": {
    "name": "ipython",
    "version": 3
   },
   "file_extension": ".py",
   "mimetype": "text/x-python",
   "name": "python",
   "nbconvert_exporter": "python",
   "pygments_lexer": "ipython3",
   "version": "3.12.5"
  }
 },
 "nbformat": 4,
 "nbformat_minor": 2
}
