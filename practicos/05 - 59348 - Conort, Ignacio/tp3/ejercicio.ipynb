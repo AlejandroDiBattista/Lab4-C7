{
 "cells": [
  {
   "cell_type": "markdown",
   "metadata": {},
   "source": [
    "#TP3"
   ]
  },
  {
   "cell_type": "markdown",
   "metadata": {},
   "source": [
    "## Ejercicio 1: Cargar Datos de ventas.\n",
    "\n",
    "El archivo datos.dat contiene el registro de las ventas realizadas.\n",
    "\n",
    "Tiene un formato de ancho fijo:\n",
    "- fecha:    10 lugares\n",
    "- producto: 30 lugares\n",
    "- precio:   10 lugares\n",
    "- cantidad:  5 lugares\n",
    "\n",
    "hacer una funcion que carge los en una lista de diccionarios. \n",
    "\n",
    "nota: con \n",
    "```python\n",
    "lineas = open(\"datos.dat\", \"r\").readlines() \n",
    "```\n",
    "puede obtener la lista de string de todos los datos "
   ]
  },
  {
   "cell_type": "code",
   "execution_count": 1,
   "metadata": {},
   "outputs": [
    {
     "name": "stdout",
     "output_type": "stream",
     "text": [
      "[{'fecha': '2024-08-27', 'producto': 'Mirinda', 'precio': '1510', 'cantidad': '14'}, {'fecha': '2024-08-27', 'producto': 'Mirinda', 'precio': '1560', 'cantidad': '12'}, {'fecha': '2024-08-28', 'producto': 'Torasso', 'precio': '940', 'cantidad': '8'}, {'fecha': '2024-08-29', 'producto': 'Pepsi Cola', 'precio': '1210', 'cantidad': '10'}, {'fecha': '2024-08-30', 'producto': 'Mirinda', 'precio': '1520', 'cantidad': '1'}, {'fecha': '2024-09-01', 'producto': 'Mirinda', 'precio': '1550', 'cantidad': '15'}, {'fecha': '2024-09-01', 'producto': 'Sprite', 'precio': '810', 'cantidad': '4'}, {'fecha': '2024-09-02', 'producto': 'Coca Cola', 'precio': '1100', 'cantidad': '4'}, {'fecha': '2024-09-02', 'producto': 'Pepsi Cola', 'precio': '1220', 'cantidad': '13'}, {'fecha': '2024-09-02', 'producto': 'Torasso', 'precio': '910', 'cantidad': '5'}, {'fecha': '2024-09-02', 'producto': 'Torasso', 'precio': '920', 'cantidad': '3'}, {'fecha': '2024-09-03', 'producto': 'Coca Cola', 'precio': '1020', 'cantidad': '8'}, {'fecha': '2024-09-03', 'producto': 'Mirinda', 'precio': '1570', 'cantidad': '7'}, {'fecha': '2024-09-03', 'producto': 'Mirinda', 'precio': '1590', 'cantidad': '2'}, {'fecha': '2024-09-04', 'producto': 'Pepsi Cola', 'precio': '1220', 'cantidad': '13'}, {'fecha': '2024-09-05', 'producto': 'Mirinda', 'precio': '1500', 'cantidad': '3'}, {'fecha': '2024-09-05', 'producto': 'Pepsi Cola', 'precio': '1300', 'cantidad': '5'}, {'fecha': '2024-09-06', 'producto': 'Coca Cola', 'precio': '1080', 'cantidad': '1'}, {'fecha': '2024-09-06', 'producto': 'Sprite', 'precio': '860', 'cantidad': '12'}, {'fecha': '2024-09-06', 'producto': 'Torasso', 'precio': '930', 'cantidad': '3'}, {'fecha': '2024-09-07', 'producto': 'Coca Cola', 'precio': '1080', 'cantidad': '14'}, {'fecha': '2024-09-07', 'producto': 'Sprite', 'precio': '870', 'cantidad': '13'}, {'fecha': '2024-09-08', 'producto': 'Coca Cola', 'precio': '1040', 'cantidad': '10'}, {'fecha': '2024-09-08', 'producto': 'Mirinda', 'precio': '1580', 'cantidad': '2'}, {'fecha': '2024-09-08', 'producto': 'Pepsi Cola', 'precio': '1240', 'cantidad': '9'}, {'fecha': '2024-09-09', 'producto': 'Mirinda', 'precio': '1500', 'cantidad': '3'}, {'fecha': '2024-09-09', 'producto': 'Sprite', 'precio': '850', 'cantidad': '9'}, {'fecha': '2024-09-10', 'producto': 'Mirinda', 'precio': '1590', 'cantidad': '8'}, {'fecha': '2024-09-10', 'producto': 'Pepsi Cola', 'precio': '1250', 'cantidad': '12'}, {'fecha': '2024-09-11', 'producto': 'Sprite', 'precio': '810', 'cantidad': '6'}, {'fecha': '2024-09-11', 'producto': 'Sprite', 'precio': '820', 'cantidad': '14'}, {'fecha': '2024-09-12', 'producto': 'Coca Cola', 'precio': '1080', 'cantidad': '4'}, {'fecha': '2024-09-13', 'producto': 'Mirinda', 'precio': '1580', 'cantidad': '5'}, {'fecha': '2024-09-13', 'producto': 'Pepsi Cola', 'precio': '1250', 'cantidad': '13'}, {'fecha': '2024-09-14', 'producto': 'Coca Cola', 'precio': '1080', 'cantidad': '15'}, {'fecha': '2024-09-14', 'producto': 'Pepsi Cola', 'precio': '1270', 'cantidad': '14'}, {'fecha': '2024-09-15', 'producto': 'Coca Cola', 'precio': '1100', 'cantidad': '1'}, {'fecha': '2024-09-15', 'producto': 'Mirinda', 'precio': '1500', 'cantidad': '13'}, {'fecha': '2024-09-15', 'producto': 'Sprite', 'precio': '870', 'cantidad': '14'}, {'fecha': '2024-09-15', 'producto': 'Torasso', 'precio': '900', 'cantidad': '13'}]\n"
     ]
    }
   ],
   "source": [
    "lineas = open(\"datos.dat\", \"r\").readlines()\n",
    "def cargar_datos():\n",
    "    datos = []\n",
    "    for linea in lineas:\n",
    "        fecha = linea[0:10].strip()\n",
    "        producto = linea[10:40].strip()\n",
    "        precio = linea[40:50].strip()\n",
    "        cantidad = linea[50:55].strip()\n",
    "\n",
    "        datos.append({\n",
    "            \"fecha\": fecha,\n",
    "            \"producto\": producto,\n",
    "            \"precio\": precio,\n",
    "            \"cantidad\": cantidad\n",
    "        })\n",
    "    return datos\n",
    "\n",
    "datos = cargar_datos()\n",
    "print(datos)"
   ]
  },
  {
   "cell_type": "markdown",
   "metadata": {},
   "source": [
    "## Ejercicio 2: Calcular el total de ventas.\n",
    "\n",
    "Hacer una funcion que sume los importes vendidos (precio * cantidad) y las cantidades"
   ]
  },
  {
   "cell_type": "code",
   "execution_count": null,
   "metadata": {},
   "outputs": [],
   "source": [
    "def calcular_totales(datos):\n",
    "    pass # implementar\n",
    "\n",
    "importe, cantidad = calcular_totales(datos)\n",
    "\n",
    "print(f\"Las ventas fueron de ${importe:2.f} en {cantidad} unidades\")"
   ]
  },
  {
   "cell_type": "markdown",
   "metadata": {},
   "source": [
    "## Ejercicio 3: Listar las unidades vendidas.\n",
    "\n",
    "Listar cuantas unidades se vendieron en total para cada producto"
   ]
  },
  {
   "cell_type": "code",
   "execution_count": null,
   "metadata": {},
   "outputs": [],
   "source": [
    "def unidades_vendidas(datos):\n",
    "    pass\n",
    "\n",
    "def listar_ventas(datos):\n",
    "    pass\n",
    "\n",
    "ventas = unidades_vendidas(datos)\n",
    "listar_ventas(ventas)\n"
   ]
  },
  {
   "cell_type": "markdown",
   "metadata": {},
   "source": [
    "##  Ejercicio 4: Listar el precio promedio por producto.\n",
    "\n",
    "Hacer un listado del precio promedio por productos."
   ]
  },
  {
   "cell_type": "code",
   "execution_count": null,
   "metadata": {},
   "outputs": [],
   "source": [
    "def precio_promedio(datos):\n",
    "    pass # Implementar\n",
    "\n",
    "def listar_precios(datos):\n",
    "    pass # Implement\n",
    "\n",
    "precios = precio_promedio(datos)\n",
    "listar_precios(precios)"
   ]
  },
  {
   "cell_type": "markdown",
   "metadata": {},
   "source": [
    "### Ejercicio 5: Ranking de productos\n",
    "\n",
    "Realizar un listado de los 3 productos mas vendidos ordenados la cantidad de unidades vendidas (ordenadas de mayor a menor)\n"
   ]
  },
  {
   "cell_type": "code",
   "execution_count": null,
   "metadata": {},
   "outputs": [],
   "source": [
    "def ranking_productos(datos, top=3):\n",
    "    pass # Implementar\n",
    "\n",
    "def listar_ranking(ranking):\n",
    "    pass # Implementar\n",
    "\n",
    "ranking = ranking_productos(datos)\n",
    "listar_ranking(ranking)"
   ]
  },
  {
   "cell_type": "markdown",
   "metadata": {},
   "source": [
    "### Ejercicio 6: Listar las ventas por mes\n",
    "\n",
    "Realizar un listado del total de unidades vendidas por productos separada por mes."
   ]
  },
  {
   "cell_type": "code",
   "execution_count": null,
   "metadata": {},
   "outputs": [],
   "source": [
    "def ventas_por_mes(datos):\n",
    "    pass # Implementar\n",
    "\n",
    "def listar_ventas_mensuales(ventas):\n",
    "    pass # Implementar\n",
    "\n",
    "ventas = ventas_por_mes(datos)\n",
    "listar_ventas_mensuales(ventas)"
   ]
  },
  {
   "cell_type": "markdown",
   "metadata": {},
   "source": [
    "### Ejercicio 7: Informe general\n",
    "\n",
    "Mostrar un listado de productos ordenados alfabeticamente que contengan el precio promedio, la cantidad de unidades vendidas y el importe total vendido para cada producto"
   ]
  },
  {
   "cell_type": "code",
   "execution_count": null,
   "metadata": {},
   "outputs": [],
   "source": [
    "def resumen_ventas(datos):\n",
    "    pass # Implementar\n",
    "\n",
    "def informe_ventas(datos):\n",
    "    pass # Implementar\n",
    "\n",
    "resumen = resumen_ventas(datos)\n",
    "informe_ventas(resumen)\n"
   ]
  }
 ],
 "metadata": {
  "kernelspec": {
   "display_name": "Python 3",
   "language": "python",
   "name": "python3"
  },
  "language_info": {
   "codemirror_mode": {
    "name": "ipython",
    "version": 3
   },
   "file_extension": ".py",
   "mimetype": "text/x-python",
   "name": "python",
   "nbconvert_exporter": "python",
   "pygments_lexer": "ipython3",
   "version": "3.12.5"
  }
 },
 "nbformat": 4,
 "nbformat_minor": 2
}
