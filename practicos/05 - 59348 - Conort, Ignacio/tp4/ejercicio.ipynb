{
 "cells": [
  {
   "cell_type": "markdown",
   "metadata": {},
   "source": [
    "# Simulación del Truco"
   ]
  },
  {
   "cell_type": "markdown",
   "metadata": {},
   "source": [
    "Las **cartas** deben registra el numero, palo y valor de la carta. \n",
    "El valor debe reflejar la jerarquía de las cartas en el juego del truco."
   ]
  },
  {
   "cell_type": "code",
   "execution_count": 17,
   "metadata": {},
   "outputs": [
    {
     "name": "stdout",
     "output_type": "stream",
     "text": [
      "1 de oro (Valor: 8)\n"
     ]
    }
   ],
   "source": [
    "jerarquia = { \n",
    "    (1, 'espada'): 14, \n",
    "    (1, 'basto'): 13, \n",
    "    (7, 'espada'): 12, \n",
    "    (7, 'oro'): 11, \n",
    "    (3, 'oro'): 10, \n",
    "    (3, 'basto'): 10, \n",
    "    (3, 'espada'): 10, \n",
    "    (3, 'copa'): 10, \n",
    "    (2, 'oro'): 9, \n",
    "    (2, 'basto'): 9, \n",
    "    (2, 'espada'): 9, \n",
    "    (2, 'copa'): 9, \n",
    "    (1, 'oro'): 8, \n",
    "    (1, 'copa'): 8, \n",
    "    (12, 'espada'): 7, \n",
    "    (12, 'basto'): 7, \n",
    "    (12, 'oro'): 7, \n",
    "    (12, 'copa'): 7, \n",
    "    (11, 'espada'): 6, \n",
    "    (11, 'basto'): 6, \n",
    "    (11, 'oro'): 6, \n",
    "    (11, 'copa'): 6, \n",
    "    (10, 'espada'): 5, \n",
    "    (10, 'basto'): 5, \n",
    "    (10, 'oro'): 5, \n",
    "    (10, 'copa'): 5, \n",
    "    (7, 'copa'): 4, \n",
    "    (7, 'basto'): 4, \n",
    "    (6, 'espada'): 3, \n",
    "    (6, 'basto'): 3, \n",
    "    (6, 'oro'): 3, \n",
    "    (6, 'copa'): 3, \n",
    "    (5, 'espada'): 2, \n",
    "    (5, 'basto'): 2, \n",
    "    (5, 'oro'): 2, \n",
    "    (5, 'copa'): 2, \n",
    "    (4, 'espada'): 1, \n",
    "    (4, 'basto'): 1, \n",
    "    (4, 'oro'): 1, \n",
    "    (4, 'copa'): 1, \n",
    "}\n",
    "def calcular_valor(numero, palo):\n",
    "    return jerarquia.get((numero, palo), 0) \n",
    "class Carta:\n",
    "    def __init__(self, numero, palo):\n",
    "        self.numero = numero\n",
    "        self.palo = palo\n",
    "        self.valor = calcular_valor(numero, palo)\n",
    "    def __str__(self):\n",
    "        return f\"{self.numero} de {self.palo} (Valor: {self.valor})\"\n",
    "\n",
    "c = Carta(1, 'oro')\n",
    "print(c)"
   ]
  },
  {
   "cell_type": "markdown",
   "metadata": {},
   "source": [
    "**Mazo**: Representan las cartas españolas de 1 al 12, en los palos de oro, copa, espada y basto.\n",
    "\n",
    "Debe existir una función que permita barajar las cartas.\n",
    "y otra función que permita repartir las cartas a los jugadores."
   ]
  },
  {
   "cell_type": "code",
   "execution_count": 21,
   "metadata": {},
   "outputs": [
    {
     "name": "stdout",
     "output_type": "stream",
     "text": [
      "[(1, 'espada'), (12, 'copa'), (11, 'basto')]\n"
     ]
    }
   ],
   "source": [
    "import random\n",
    "\n",
    "class Mazo:\n",
    "    def __init__(self):\n",
    "        palos = ['oro', 'copa', 'espada', 'basto']\n",
    "        valores = [1,2,3,4,5,6,7,10,11,12]\n",
    "        self.mazo = [(valor, palo) for palo in palos for valor in valores]\n",
    "    def mezclar(self):\n",
    "        random.shuffle(self.mazo)\n",
    "    def repartir(self, cantidad):\n",
    "        if cantidad > len(self.mazo):\n",
    "            raise ValueError(\"no hay suficientes cartas en el mazo\")\n",
    "        cartasRepartidas = self.mazo[:cantidad]\n",
    "        return cartasRepartidas\n",
    "\n",
    "m = Mazo()\n",
    "m.mezclar()\n",
    "print(m.repartir(3))"
   ]
  },
  {
   "cell_type": "markdown",
   "metadata": {},
   "source": [
    "**Jugador**: Deben tener un nombre y las cartas que tiene en la mano. Debe acumular los puntos ganados.\n",
    "\n",
    "Nota: Para simplificar el problema, el jugador elige la carta a jugar de forma aleatoria."
   ]
  },
  {
   "cell_type": "code",
   "execution_count": 40,
   "metadata": {},
   "outputs": [
    {
     "name": "stdout",
     "output_type": "stream",
     "text": [
      "(11, 'basto')\n"
     ]
    }
   ],
   "source": [
    "class Jugador:\n",
    "    pass\n",
    "    def __init__(self, nombre):\n",
    "        self.nombre = nombre\n",
    "        self.cartas = []\n",
    "        self.puntos = 0\n",
    "    def recibir_cartas(self, cartas):\n",
    "        self.cartas = cartas\n",
    "    \n",
    "    def jugar_carta(self):\n",
    "        if self.cartas:\n",
    "            cartaJugada = random.choice(self.cartas)\n",
    "            self.cartas.remove(cartaJugada)\n",
    "            return cartaJugada\n",
    "        else:\n",
    "            return \"No quedan cartas para jugar\"\n",
    "\n",
    "j = Jugador(\"Juan\")\n",
    "j.recibir_cartas(m.repartir(3))\n",
    "print(j.jugar_carta())"
   ]
  },
  {
   "cell_type": "markdown",
   "metadata": {},
   "source": [
    "**Partida**: Debe tener dos jugadores, un mazo de cartas y un puntaje. Debe permitir jugar una carta por ronda y definir el ganador de la ronda. Debe permitir jugar hasta que se terminen las cartas del mazo."
   ]
  },
  {
   "cell_type": "code",
   "execution_count": 71,
   "metadata": {},
   "outputs": [
    {
     "name": "stdout",
     "output_type": "stream",
     "text": [
      "Jugador Pedro gana la partida\n"
     ]
    }
   ],
   "source": [
    "class Partida:\n",
    "    def __init__(self, jugador1, jugador2):\n",
    "        self.jugador1 = jugador1\n",
    "        self.jugador2 = jugador2\n",
    "        self.mazo = Mazo()\n",
    "\n",
    "    def jugar_ronda(self):\n",
    "        cartaJugador1 = self.jugador1.jugar_carta()\n",
    "        cartaJugador2 = self.jugador2.jugar_carta()\n",
    "        carta1 = Carta(cartaJugador1[0], cartaJugador1[1])\n",
    "        carta2 = Carta(cartaJugador2[0], cartaJugador2[1])\n",
    "        if carta1.valor > carta2.valor:\n",
    "            self.jugador1.puntos += 1\n",
    "        elif carta1.valor < carta2.valor:\n",
    "            self.jugador2.puntos += 1\n",
    "\n",
    "    def jugar(self):\n",
    "        while(self.jugador1.puntos < 15 and self.jugador2.puntos < 15):\n",
    "            self.jugador1.recibir_cartas(self.mazo.repartir(3))\n",
    "            self.jugador2.recibir_cartas(self.mazo.repartir(3))\n",
    "            for i in range(3):\n",
    "                self.jugar_ronda()\n",
    "        if self.jugador1.puntos > self.jugador2.puntos:\n",
    "            print(f\"Jugador {self.jugador1.nombre} gana la partida\")\n",
    "        elif self.jugador1.puntos < self.jugador2.puntos:\n",
    "            print(f\"Jugador {self.jugador2.nombre} gana la partida\")\n",
    "        else:\n",
    "            print(f\"La ronda termino en empate\")\n",
    "p = Partida(Jugador(\"Juan\"), Jugador(\"Pedro\"))\n",
    "p.jugar()"
   ]
  }
 ],
 "metadata": {
  "kernelspec": {
   "display_name": "Python 3",
   "language": "python",
   "name": "python3"
  },
  "language_info": {
   "codemirror_mode": {
    "name": "ipython",
    "version": 3
   },
   "file_extension": ".py",
   "mimetype": "text/x-python",
   "name": "python",
   "nbconvert_exporter": "python",
   "pygments_lexer": "ipython3",
   "version": "3.12.5"
  }
 },
 "nbformat": 4,
 "nbformat_minor": 2
}
