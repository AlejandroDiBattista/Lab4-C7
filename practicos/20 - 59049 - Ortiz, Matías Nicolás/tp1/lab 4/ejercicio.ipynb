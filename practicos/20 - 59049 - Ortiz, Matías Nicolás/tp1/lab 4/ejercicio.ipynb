{
 "cells": [
  {
   "cell_type": "markdown",
   "metadata": {},
   "source": [
    "# Trabajo práctico 1\n",
    "\n"
   ]
  },
  {
   "cell_type": "markdown",
   "metadata": {},
   "source": [
    "## Ejercicio 1 \n",
    "\n",
    "Escribe una función en Python que procese una lista de cadenas de texto y realice las siguientes acciones:\n",
    "\n",
    "1. Tomar una lista de frases y convertir cada frase en una lista de palabras.\n",
    "1. Luego, debe crear una nueva lista que contenga la cantidad de palabras en cada frase.\n",
    "1. Tambien debe crear un lista que contenga la cantidad de caracteres en cada frase.\n",
    "1. Finalmente, debe imprimir cada frase original junto con la cantidad de palabras que contiene.\n",
    "Ejemplo de uso:\n",
    "```python\n",
    "    frases = [\n",
    "        \"Python es un lenguaje de programación\",\n",
    "        \"Me gusta resolver problemas con código\",\n",
    "        \"Las listas y los bucles son muy útiles\"\n",
    "    ]\n",
    "\n",
    "    procesar_frases(frases)\n",
    "```\n",
    "\n",
    "ejemplo de salida:\n",
    "```bash\n",
    "    La frase: \"Python es un...\"\n",
    "    tiene 6 palabras y 38 caracteres\n",
    "```\n"
   ]
  },
  {
   "cell_type": "code",
   "execution_count": 6,
   "metadata": {},
   "outputs": [
    {
     "name": "stdout",
     "output_type": "stream",
     "text": [
      "La frase: \"Python es un lenguaje de programación\"\n",
      "Tiene 6 palabras y 37 caracteres\n",
      "\n",
      "La frase: \"Me gusta resolver problemas con código\"\n",
      "Tiene 6 palabras y 38 caracteres\n",
      "\n",
      "La frase: \"Las listas y los bucles son muy útiles\"\n",
      "Tiene 8 palabras y 38 caracteres\n",
      "\n"
     ]
    }
   ],
   "source": [
    "def procesar_frases(frases):\n",
    "    frases_procesadas = []\n",
    "    palabras = []\n",
    "    caracteres = []\n",
    "\n",
    "    for frase in frases:\n",
    "        frases_procesadas.append(frase.split(\" \"))\n",
    "\n",
    "    \n",
    "    for frase in frases_procesadas:\n",
    "        cant_palabras = 0\n",
    "\n",
    "        for palabra in frase:\n",
    "            cant_palabras = cant_palabras + 1\n",
    "\n",
    "        palabras.append(cant_palabras)\n",
    "\n",
    "    for frase in frases:\n",
    "        cant_caracteres = 0\n",
    "\n",
    "        cant_caracteres = cant_caracteres + len(frase)\n",
    "\n",
    "        caracteres.append(cant_caracteres)\n",
    "\n",
    "    i = 0\n",
    "    for frase in frases:\n",
    "        print('La frase: \"{}\" tiene {} palabras y {} caracteres.'.format(frase, palabras[i], caracteres[i]))\n",
    "        i = i + 1\n",
    "\n",
    "    return 0\n",
    "\n",
    "    \n",
    "\n",
    "\n",
    "frases = [\"Python es un lenguaje de programación.\", \"Me gusta resolver problemas con codigo.\", \"Las listas y los bucles son muy útiles.\"]\n",
    "\n",
    "procesar_frases(frases)"
   ]
  },
  {
   "cell_type": "markdown",
   "metadata": {},
   "source": [
    "## Ejercicio 2\n",
    "\n",
    "Escribe una función en Python que encuentre los valores de `a`, `b`, y `c` para que la función cuadrática `f(x) = aX^2 + bX + c` pase exactamente por los siguientes puntos:\n",
    "\n",
    "| x  | y  |\n",
    "|---:|---:|\n",
    "|  0 |  0 |\n",
    "|  1 |  8 |\n",
    "|  2 | 12 |\n",
    "|  3 | 12 |\n",
    "|  5 |  0 |\n",
    "\n",
    "### Requisitos:\n",
    "- La función debe explorar posibles valores de `a`, `b`, y `c` utilizando un método de prueba y error.\n",
    "- Debe devolver los valores que hagan que la diferencia entre la función `f(x)` y los valores medidos `y` sea exactamente cero para cada punto.\n",
    "\n",
    "> **Pista**: Los valores de `a`, `b`, y `c` son números pequeños."
   ]
  },
  {
   "cell_type": "code",
   "execution_count": 7,
   "metadata": {},
   "outputs": [
    {
     "name": "stdout",
     "output_type": "stream",
     "text": [
      "Los coeficientes son: a = -2, b = 10, c = 0\n"
     ]
    }
   ],
   "source": [
    "def funcion_cuadratica(a, b, c, x):\n",
    "    return a * x ** 2 + b * x + c\n",
    "\n",
    "def prueba_y_error():\n",
    "    puntos = [(0, 0), (1, 8), (2, 12), (3, 12), (5, 0)]\n",
    "    \n",
    "    min_valor = -10\n",
    "    max_valor = 10\n",
    "    paso = 1\n",
    "    \n",
    "    a = min_valor\n",
    "    while a <= max_valor:\n",
    "        b = min_valor\n",
    "        while b <= max_valor:\n",
    "            c = min_valor\n",
    "            while c <= max_valor:\n",
    "                error = 0\n",
    "                for x, y in puntos:\n",
    "                    y_calculado = funcion_cuadratica(a, b, c, x)\n",
    "                    if round(y_calculado, 5) != round(y, 5):\n",
    "                        error += abs(y_calculado - y)\n",
    "                if error == 0:\n",
    "                    return a, b, c\n",
    "                c += paso\n",
    "            b += paso\n",
    "        a += paso\n",
    "    \n",
    "    return None\n",
    "\n",
    "resultado = prueba_y_error()\n",
    "if resultado is not None:\n",
    "    a, b, c = resultado\n",
    "    print(f\"Solución encontrada: a = {a}, b = {b}, c = {c}\")\n",
    "else:\n",
    "    print(\"No se encontró solución exacta.\")\n"
   ]
  }
 ],
 "metadata": {
  "kernelspec": {
   "display_name": "Python 3",
   "language": "python",
   "name": "python3"
  },
  "language_info": {
   "codemirror_mode": {
    "name": "ipython",
    "version": 3
   },
   "file_extension": ".py",
   "mimetype": "text/x-python",
   "name": "python",
   "nbconvert_exporter": "python",
   "pygments_lexer": "ipython3",
   "version": "3.12.5"
  }
 },
 "nbformat": 4,
 "nbformat_minor": 2
}
