{
 "cells": [
  {
   "cell_type": "markdown",
   "metadata": {},
   "source": [
    "#TP3"
   ]
  },
  {
   "cell_type": "markdown",
   "metadata": {},
   "source": [
    "## Ejercicio 1: Cargar Datos de ventas.\n",
    "\n",
    "El archivo datos.dat contiene el registro de las ventas realizadas.\n",
    "\n",
    "Tiene un formato de ancho fijo:\n",
    "- fecha:    10 lugares\n",
    "- producto: 30 lugares\n",
    "- precio:   10 lugares\n",
    "- cantidad:  5 lugares\n",
    "\n",
    "hacer una funcion que carge los en una lista de diccionarios. \n",
    "\n",
    "nota: con \n",
    "```python\n",
    "lineas = open(\"datos.dat\", \"r\").readlines() \n",
    "```\n",
    "puede obtener la lista de string de todos los datos "
   ]
  },
  {
   "cell_type": "code",
   "execution_count": 38,
   "metadata": {},
   "outputs": [
    {
     "name": "stdout",
     "output_type": "stream",
     "text": [
      "[{'Fecha': '2024-08-27', 'Producto': 'Mirinda', 'Precio': 1510.0, 'Cantidad': 14}, {'Fecha': '2024-08-27', 'Producto': 'Mirinda', 'Precio': 1560.0, 'Cantidad': 12}, {'Fecha': '2024-08-28', 'Producto': 'Torasso', 'Precio': 940.0, 'Cantidad': 8}, {'Fecha': '2024-08-29', 'Producto': 'Pepsi Cola', 'Precio': 1210.0, 'Cantidad': 10}, {'Fecha': '2024-08-30', 'Producto': 'Mirinda', 'Precio': 1520.0, 'Cantidad': 1}, {'Fecha': '2024-09-01', 'Producto': 'Mirinda', 'Precio': 1550.0, 'Cantidad': 15}, {'Fecha': '2024-09-01', 'Producto': 'Sprite', 'Precio': 810.0, 'Cantidad': 4}, {'Fecha': '2024-09-02', 'Producto': 'Coca Cola', 'Precio': 1100.0, 'Cantidad': 4}, {'Fecha': '2024-09-02', 'Producto': 'Pepsi Cola', 'Precio': 1220.0, 'Cantidad': 13}, {'Fecha': '2024-09-02', 'Producto': 'Torasso', 'Precio': 910.0, 'Cantidad': 5}, {'Fecha': '2024-09-02', 'Producto': 'Torasso', 'Precio': 920.0, 'Cantidad': 3}, {'Fecha': '2024-09-03', 'Producto': 'Coca Cola', 'Precio': 1020.0, 'Cantidad': 8}, {'Fecha': '2024-09-03', 'Producto': 'Mirinda', 'Precio': 1570.0, 'Cantidad': 7}, {'Fecha': '2024-09-03', 'Producto': 'Mirinda', 'Precio': 1590.0, 'Cantidad': 2}, {'Fecha': '2024-09-04', 'Producto': 'Pepsi Cola', 'Precio': 1220.0, 'Cantidad': 13}, {'Fecha': '2024-09-05', 'Producto': 'Mirinda', 'Precio': 1500.0, 'Cantidad': 3}, {'Fecha': '2024-09-05', 'Producto': 'Pepsi Cola', 'Precio': 1300.0, 'Cantidad': 5}, {'Fecha': '2024-09-06', 'Producto': 'Coca Cola', 'Precio': 1080.0, 'Cantidad': 1}, {'Fecha': '2024-09-06', 'Producto': 'Sprite', 'Precio': 860.0, 'Cantidad': 12}, {'Fecha': '2024-09-06', 'Producto': 'Torasso', 'Precio': 930.0, 'Cantidad': 3}, {'Fecha': '2024-09-07', 'Producto': 'Coca Cola', 'Precio': 1080.0, 'Cantidad': 14}, {'Fecha': '2024-09-07', 'Producto': 'Sprite', 'Precio': 870.0, 'Cantidad': 13}, {'Fecha': '2024-09-08', 'Producto': 'Coca Cola', 'Precio': 1040.0, 'Cantidad': 10}, {'Fecha': '2024-09-08', 'Producto': 'Mirinda', 'Precio': 1580.0, 'Cantidad': 2}, {'Fecha': '2024-09-08', 'Producto': 'Pepsi Cola', 'Precio': 1240.0, 'Cantidad': 9}, {'Fecha': '2024-09-09', 'Producto': 'Mirinda', 'Precio': 1500.0, 'Cantidad': 3}, {'Fecha': '2024-09-09', 'Producto': 'Sprite', 'Precio': 850.0, 'Cantidad': 9}, {'Fecha': '2024-09-10', 'Producto': 'Mirinda', 'Precio': 1590.0, 'Cantidad': 8}, {'Fecha': '2024-09-10', 'Producto': 'Pepsi Cola', 'Precio': 1250.0, 'Cantidad': 12}, {'Fecha': '2024-09-11', 'Producto': 'Sprite', 'Precio': 810.0, 'Cantidad': 6}, {'Fecha': '2024-09-11', 'Producto': 'Sprite', 'Precio': 820.0, 'Cantidad': 14}, {'Fecha': '2024-09-12', 'Producto': 'Coca Cola', 'Precio': 1080.0, 'Cantidad': 4}, {'Fecha': '2024-09-13', 'Producto': 'Mirinda', 'Precio': 1580.0, 'Cantidad': 5}, {'Fecha': '2024-09-13', 'Producto': 'Pepsi Cola', 'Precio': 1250.0, 'Cantidad': 13}, {'Fecha': '2024-09-14', 'Producto': 'Coca Cola', 'Precio': 1080.0, 'Cantidad': 15}, {'Fecha': '2024-09-14', 'Producto': 'Pepsi Cola', 'Precio': 1270.0, 'Cantidad': 14}, {'Fecha': '2024-09-15', 'Producto': 'Coca Cola', 'Precio': 1100.0, 'Cantidad': 1}, {'Fecha': '2024-09-15', 'Producto': 'Mirinda', 'Precio': 1500.0, 'Cantidad': 13}, {'Fecha': '2024-09-15', 'Producto': 'Sprite', 'Precio': 870.0, 'Cantidad': 14}, {'Fecha': '2024-09-15', 'Producto': 'Torasso', 'Precio': 900.0, 'Cantidad': 13}]\n"
     ]
    }
   ],
   "source": [
    "def cargar_datos():\n",
    "    \n",
    "        datos = open(\"datos.dat\", \"r\").readlines()\n",
    "        liista_ventas = []\n",
    "        for linea in datos:\n",
    "            #print(f\"leyendo datos: {dato}\")\n",
    "            #line = linea.strip().split()\n",
    "            \n",
    "            fecha = linea[:10].strip()\n",
    "            producto = linea[10:40].strip()\n",
    "            precio = float(linea[40:50].strip())\n",
    "            cantidad = int(linea[50:55].strip())\n",
    "            ventas = {\n",
    "                \"Fecha\": fecha,\n",
    "                \"Producto\": producto,\n",
    "                \"Precio\": precio,\n",
    "                \"Cantidad\": cantidad\n",
    "            }\n",
    "            liista_ventas.append(ventas)\n",
    "            #registro[(fecha,producto)] = (precio,cantidad)\n",
    "            \n",
    "        #print(registro)\n",
    "            \n",
    "        return liista_ventas\n",
    "    \n",
    "datos = cargar_datos()    \n",
    "print(datos)    \n",
    "            \n",
    "                    \n",
    "    "
   ]
  },
  {
   "cell_type": "markdown",
   "metadata": {},
   "source": [
    "## Ejercicio 2: Calcular el total de ventas.\n",
    "\n",
    "Hacer una funcion que sume los importes vendidos (precio * cantidad) y las cantidades"
   ]
  },
  {
   "cell_type": "code",
   "execution_count": 41,
   "metadata": {},
   "outputs": [
    {
     "name": "stdout",
     "output_type": "stream",
     "text": [
      "Las ventas fueron de $392730.00 en 335 unidades\n"
     ]
    }
   ],
   "source": [
    "def calcular_totales(datos):\n",
    "    importe = 0\n",
    "    cantidad_totales = 0\n",
    "    for dic in datos:\n",
    "        importe += dic['Precio'] * dic['Cantidad'] \n",
    "        cantidad_totales += dic['Cantidad']\n",
    "    return importe, cantidad_totales\n",
    "        \n",
    "        \n",
    "importe, cantidad_totales = calcular_totales(datos)\n",
    "print(f\"Las ventas fueron de ${importe:.2f} en {cantidad_totales} unidades\")\n",
    "        \n",
    "        \n",
    "       \n"
   ]
  },
  {
   "cell_type": "markdown",
   "metadata": {},
   "source": [
    "## Ejercicio 3: Listar las unidades vendidas.\n",
    "\n",
    "Listar cuantas unidades se vendieron en total para cada producto"
   ]
  },
  {
   "cell_type": "code",
   "execution_count": 52,
   "metadata": {},
   "outputs": [
    {
     "name": "stdout",
     "output_type": "stream",
     "text": [
      "Producto: Mirinda, Unidades Vendidas: 85\n",
      "Producto: Torasso, Unidades Vendidas: 32\n",
      "Producto: Pepsi Cola, Unidades Vendidas: 89\n",
      "Producto: Sprite, Unidades Vendidas: 72\n",
      "Producto: Coca Cola, Unidades Vendidas: 57\n"
     ]
    }
   ],
   "source": [
    "def unidades_vendidas(datos): \n",
    "    unidades_totales = {}\n",
    "    for dicc in datos:\n",
    "        producto = dicc['Producto']\n",
    "        unidades = dicc['Cantidad']\n",
    "        if producto in unidades_totales:\n",
    "            unidades_totales[producto] += unidades\n",
    "        else:\n",
    "            unidades_totales[producto] = unidades\n",
    "   \n",
    "    \n",
    "    #pass\n",
    "    \n",
    "    def listar_ventas(unidades_vendidas):\n",
    "        for producto, unidades in unidades_totales.items():\n",
    "            print(f\"Producto: {producto}, Unidades Vendidas: {unidades}\")\n",
    "        \n",
    "        \n",
    "    listar_ventas(ventas)\n",
    "   \n",
    "        \n",
    " #   pass\n",
    "\n",
    "unidades_vendidas(datos)\n"
   ]
  },
  {
   "cell_type": "markdown",
   "metadata": {},
   "source": [
    "##  Ejercicio 4: Listar el precio promedio por producto.\n",
    "\n",
    "Hacer un listado del precio promedio por productos."
   ]
  },
  {
   "cell_type": "code",
   "execution_count": 54,
   "metadata": {},
   "outputs": [
    {
     "name": "stdout",
     "output_type": "stream",
     "text": [
      "Producto: Mirinda, Promedio: 18550.0\n",
      "Producto: Torasso, Promedio: 4600.0\n",
      "Producto: Pepsi Cola, Promedio: 9960.0\n",
      "Producto: Sprite, Promedio: 5890.0\n",
      "Producto: Coca Cola, Promedio: 8580.0\n"
     ]
    }
   ],
   "source": [
    "def precio_promedio(datos):\n",
    "    acum_precio = {}\n",
    "    for diic in datos:\n",
    "        producto = diic['Producto']\n",
    "        precio = diic['Precio']\n",
    "        cantidad = diic['Cantidad']\n",
    "        if producto in acum_precio:\n",
    "            acum_precio[producto] += precio\n",
    "            promedio = (precio * cantidad)/cantidad\n",
    "        else:\n",
    "            acum_precio[producto] = precio\n",
    "    def listar_precios(acum_precio):\n",
    "        for prodcuto, promedio in acum_precio.items():\n",
    "            print(f\"Producto: {prodcuto}, Promedio: {promedio}\")\n",
    "    listar_precios(acum_precio)\n",
    "\n",
    "precio_promedio(datos)"
   ]
  },
  {
   "cell_type": "markdown",
   "metadata": {},
   "source": [
    "### Ejercicio 5: Ranking de productos\n",
    "\n",
    "Realizar un listado de los 3 productos mas vendidos ordenados la cantidad de unidades vendidas (ordenadas de mayor a menor)\n"
   ]
  },
  {
   "cell_type": "code",
   "execution_count": null,
   "metadata": {},
   "outputs": [],
   "source": [
    "def ranking_productos(datos, top=3):\n",
    "    pass # Implementar\n",
    "\n",
    "def listar_ranking(ranking):\n",
    "    pass # Implementar\n",
    "\n",
    "ranking = ranking_productos(datos)\n",
    "listar_ranking(ranking)"
   ]
  },
  {
   "cell_type": "markdown",
   "metadata": {},
   "source": [
    "### Ejercicio 6: Listar las ventas por mes\n",
    "\n",
    "Realizar un listado del total de unidades vendidas por productos separada por mes."
   ]
  },
  {
   "cell_type": "code",
   "execution_count": null,
   "metadata": {},
   "outputs": [],
   "source": [
    "def ventas_por_mes(datos):\n",
    "    pass # Implementar\n",
    "\n",
    "def listar_ventas_mensuales(ventas):\n",
    "    pass # Implementar\n",
    "\n",
    "ventas = ventas_por_mes(datos)\n",
    "listar_ventas_mensuales(ventas)"
   ]
  },
  {
   "cell_type": "markdown",
   "metadata": {},
   "source": [
    "### Ejercicio 7: Informe general\n",
    "\n",
    "Mostrar un listado de productos ordenados alfabeticamente que contengan el precio promedio, la cantidad de unidades vendidas y el importe total vendido para cada producto"
   ]
  },
  {
   "cell_type": "code",
   "execution_count": null,
   "metadata": {},
   "outputs": [],
   "source": [
    "def resumen_ventas(datos):\n",
    "    pass # Implementar\n",
    "\n",
    "def informe_ventas(datos):\n",
    "    pass # Implementar\n",
    "\n",
    "resumen = resumen_ventas(datos)\n",
    "informe_ventas(resumen)\n"
   ]
  }
 ],
 "metadata": {
  "kernelspec": {
   "display_name": "Python 3",
   "language": "python",
   "name": "python3"
  },
  "language_info": {
   "codemirror_mode": {
    "name": "ipython",
    "version": 3
   },
   "file_extension": ".py",
   "mimetype": "text/x-python",
   "name": "python",
   "nbconvert_exporter": "python",
   "pygments_lexer": "ipython3",
   "version": "3.12.5"
  }
 },
 "nbformat": 4,
 "nbformat_minor": 2
}
