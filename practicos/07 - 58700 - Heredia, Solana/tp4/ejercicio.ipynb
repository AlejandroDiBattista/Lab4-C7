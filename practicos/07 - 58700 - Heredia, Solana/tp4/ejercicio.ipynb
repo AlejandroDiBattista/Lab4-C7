{
 "cells": [
  {
   "cell_type": "markdown",
   "metadata": {},
   "source": [
    "# Simulación del Truco"
   ]
  },
  {
   "cell_type": "markdown",
   "metadata": {},
   "source": [
    "Las **cartas** deben registra el numero, palo y valor de la carta. \n",
    "El valor debe reflejar la jerarquía de las cartas en el juego del truco."
   ]
  },
  {
   "cell_type": "code",
   "execution_count": 21,
   "metadata": {},
   "outputs": [
    {
     "name": "stdout",
     "output_type": "stream",
     "text": [
      "La carta es 1 de oro tiene un valor de 7\n",
      "La carta es 3 de basto tiene un valor de 10\n"
     ]
    }
   ],
   "source": [
    "def calcular_valor(numero, palo):\n",
    "    jerarquia = {\n",
    "        (1,'espada'): 14,\n",
    "        (1,'basto'): 13,\n",
    "        (7,'espada'): 12,\n",
    "        (7,'oro'): 11,\n",
    "        3: 10,\n",
    "        2: 9,\n",
    "        (1,'copas'): 8,\n",
    "        (1,'oro'): 7,\n",
    "        12: 6,\n",
    "        11: 5,\n",
    "        10: 4,\n",
    "        (7,'copas'): 3,\n",
    "        (7,'basto'): 3,\n",
    "        6: 1,\n",
    "        5: 1,\n",
    "        4: 1\n",
    "    }\n",
    "    if numero in [2,3,12,11,10,6,5,4]:\n",
    "        return jerarquia.get(numero,0)\n",
    "    else:\n",
    "        return jerarquia.get((numero, palo), 0)\n",
    "class Carta:\n",
    "    def __init__(self, numero, palo):\n",
    "        self.numero = numero\n",
    "        self.palo = palo\n",
    "        self.valor = calcular_valor(numero,palo)\n",
    "        pass \n",
    "    \n",
    "    def mostrar_atributo(self):\n",
    "    #valor = self.calcular_valor()\n",
    "        print(f\"La carta es {self.numero} de {self.palo} tiene un valor de {self.valor}\")\n",
    "        pass\n",
    "    def __str__(self):\n",
    "        return f\"{self.numero} de {self.palo}\"\n",
    "    def __repr__(self):\n",
    "        return f\"Carta [numero{self.numero}] , palo[palo{self.palo}]\"\n",
    "c = Carta(1, \"oro\")\n",
    "c2 = Carta(3, \"basto\")\n",
    "c.mostrar_atributo()\n",
    "c2.mostrar_atributo()"
   ]
  },
  {
   "cell_type": "markdown",
   "metadata": {},
   "source": [
    "**Mazo**: Representan las cartas españolas de 1 al 12, en los palos de oro, copa, espada y basto.\n",
    "\n",
    "Debe existir una función que permita barajar las cartas.\n",
    "y otra función que permita repartir las cartas a los jugadores."
   ]
  },
  {
   "cell_type": "code",
   "execution_count": 17,
   "metadata": {},
   "outputs": [
    {
     "name": "stdout",
     "output_type": "stream",
     "text": [
      "1 de oro\n",
      "7 de espada\n",
      "2 de oro\n"
     ]
    }
   ],
   "source": [
    "import random\n",
    "numeros = [1,2,3,4,5,6,7,10,11,12]\n",
    "palos = ['basto', 'espada', 'oro', 'copa']\n",
    "class Mazo:\n",
    "    def __init__(self):\n",
    "        #con los corchetes ya se crea una lista \"vacia\" en donde adentro le pasmos lo que quiero q contenga\n",
    "        self.cartas = [Carta(numero, palo) for numero in numeros for palo in palos]\n",
    "        self.mezclar()\n",
    "        '''for numero in lista_num:\n",
    "            for palo in lista_palo:\n",
    "                #para generar una carta llamo la clase carta con los parametros num y palo \n",
    "                carta = Carta(numero, palo)\n",
    "                self.cartas.append(carta)'''\n",
    "        \n",
    "    def mezclar(self):\n",
    "        random.shuffle(self.cartas)\n",
    "      \n",
    "        pass\n",
    "    def repartir(self, cantidad):\n",
    "        return [self.cartas.pop() for _ in range(cantidad)]\n",
    "\n",
    "m = Mazo()\n",
    "m.mezclar()\n",
    "mazo = m.repartir(3)\n",
    "for carta in mazo:\n",
    "    print(carta)\n"
   ]
  },
  {
   "cell_type": "markdown",
   "metadata": {},
   "source": [
    "**Jugador**: Deben tener un nombre y las cartas que tiene en la mano. Debe acumular los puntos ganados.\n",
    "\n",
    "Nota: Para simplificar el problema, el jugador elige la carta a jugar de forma aleatoria."
   ]
  },
  {
   "cell_type": "code",
   "execution_count": 19,
   "metadata": {},
   "outputs": [
    {
     "name": "stdout",
     "output_type": "stream",
     "text": [
      "12 de copa\n",
      "[<__main__.Carta object at 0x000002714F135EB0>, <__main__.Carta object at 0x000002714F136180>]\n"
     ]
    }
   ],
   "source": [
    "class Jugador:\n",
    "    pass\n",
    "    def __init__(self, nombre):\n",
    "        self.nombre = nombre\n",
    "        self.cartas = []\n",
    "        self.puntos = 0\n",
    "    def recibir_cartas(self, cartas):\n",
    "        self.cartas =cartas\n",
    "    \n",
    "    def jugar_carta(self):\n",
    "        random.shuffle(self.cartas)\n",
    "        return self.cartas.pop()\n",
    "\n",
    "j = Jugador(\"Juan\")\n",
    "j.recibir_cartas(m.repartir(3))\n",
    "print(j.jugar_carta())\n",
    "print(j.cartas)"
   ]
  },
  {
   "cell_type": "markdown",
   "metadata": {},
   "source": [
    "**Partida**: Debe tener dos jugadores, un mazo de cartas y un puntaje. Debe permitir jugar una carta por ronda y definir el ganador de la ronda. Debe permitir jugar hasta que se terminen las cartas del mazo."
   ]
  },
  {
   "cell_type": "code",
   "execution_count": null,
   "metadata": {},
   "outputs": [],
   "source": [
    "class Partida:\n",
    "    def __init__(self, jugador1, jugador2):\n",
    "        pass\n",
    "\n",
    "    def jugar_ronda(self):\n",
    "\n",
    "        pass \n",
    "\n",
    "    def jugar(self):\n",
    "        # Mientras que ningun jugador acumule 15 puntos.abs\n",
    "        # Mezclar el mazo\n",
    "        # Repartir 3 cartas a cada jugador\n",
    "        # Jugar ronda\n",
    "        # Revisar quien gano la ronda\n",
    "        # Sumar puntos\n",
    "        pass\n",
    "\n",
    "p = Partida(Jugador(\"Juan\"), Jugador(\"Pedro\"))\n",
    "p.jugar()"
   ]
  }
 ],
 "metadata": {
  "kernelspec": {
   "display_name": "Python 3",
   "language": "python",
   "name": "python3"
  },
  "language_info": {
   "codemirror_mode": {
    "name": "ipython",
    "version": 3
   },
   "file_extension": ".py",
   "mimetype": "text/x-python",
   "name": "python",
   "nbconvert_exporter": "python",
   "pygments_lexer": "ipython3",
   "version": "3.12.5"
  }
 },
 "nbformat": 4,
 "nbformat_minor": 2
}
