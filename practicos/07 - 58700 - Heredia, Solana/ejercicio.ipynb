{
 "cells": [
  {
   "cell_type": "markdown",
   "metadata": {},
   "source": [
    "# Trabajo práctico 1\n",
    "\n"
   ]
  },
  {
   "cell_type": "markdown",
   "metadata": {},
   "source": [
    "## Ejercicio 1 \n",
    "\n",
    "Escribe una función en Python que procese una lista de cadenas de texto y realice las siguientes acciones:\n",
    "\n",
    "1. Tomar una lista de frases y convertir cada frase en una lista de palabras.\n",
    "1. Luego, debe crear una nueva lista que contenga la cantidad de palabras en cada frase.\n",
    "1. Tambien debe crear un lista que contenga la cantidad de caracteres en cada frase.\n",
    "1. Finalmente, debe imprimir cada frase original junto con la cantidad de palabras que contiene.\n",
    "Ejemplo de uso:\n",
    "```python\n",
    "    frases = [\n",
    "        \"Python es un lenguaje de programación\",\n",
    "        \"Me gusta resolver problemas con código\",\n",
    "        \"Las listas y los bucles son muy útiles\"\n",
    "    ]\n",
    "\n",
    "    procesar_frases(frases)\n",
    "```\n",
    "\n",
    "ejemplo de salida:\n",
    "```bash\n",
    "    La frase: \"Python es un...\"\n",
    "    tiene 6 palabras y 38 caracteres\n",
    "```\n"
   ]
  },
  {
   "cell_type": "code",
   "execution_count": 6,
   "metadata": {},
   "outputs": [
    {
     "name": "stdout",
     "output_type": "stream",
     "text": [
      "La lista tiene 4 oraciones\n",
      "La frase: 'Python es un lenguaje de programacion', tiene 6 palabras y 37 caracteres\n",
      "La frase: 'Me gusta aresolver problemas con codigo', tiene 6 palabras y 39 caracteres\n",
      "La frase: 'Python es un lenguaje dinamico', tiene 5 palabras y 30 caracteres\n",
      "La frase: 'Hoy en dia se busca gente que sepa programacion orientada al backend', tiene 12 palabras y 68 caracteres\n",
      "['nombre', 'apellido', 'dni']\n"
     ]
    }
   ],
   "source": [
    "# Implementar\n",
    "frases = [\"Python es un lenguaje de programacion\",\"Me gusta aresolver problemas con codigo\",\"Python es un lenguaje dinamico\", \"Hoy en dia se busca gente que sepa programacion orientada al backend\"]\n",
    "cantidad_frases = len(frases)\n",
    "print(f\"La lista tiene {cantidad_frases} oraciones\")\n",
    "cant_palabras = []\n",
    "cant_carac = []\n",
    "for frase in frases:\n",
    "    dividir_frases = frase.split()\n",
    "    num_palabras = len(dividir_frases)\n",
    "    num_carac = len(frase)\n",
    "    \n",
    "    cant_palabras.append(num_palabras)\n",
    "    cant_carac.append(num_carac)\n",
    "for i in range(len(frases)):\n",
    "    print(f\"La frase: '{frases[i]}', tiene {cant_palabras[i]} palabras y {cant_carac[i]} caracteres\")\n",
    "\n",
    "    "
   ]
  },
  {
   "cell_type": "markdown",
   "metadata": {},
   "source": [
    "## Ejercicio 2\n",
    "\n",
    "Escribe una función en Python que encuentre los valores de `a`, `b`, y `c` para que la función cuadrática `f(x) = aX^2 + bX + c` pase exactamente por los siguientes puntos:\n",
    "\n",
    "| x  | y  |\n",
    "|---:|---:|\n",
    "|  0 |  0 |\n",
    "|  1 |  8 |\n",
    "|  2 | 12 |\n",
    "|  3 | 12 |\n",
    "|  5 |  0 |\n",
    "\n",
    "### Requisitos:\n",
    "- La función debe explorar posibles valores de `a`, `b`, y `c` utilizando un método de prueba y error.\n",
    "- Debe devolver los valores que hagan que la diferencia entre la función `f(x)` y los valores medidos `y` sea exactamente cero para cada punto.\n",
    "\n",
    "> **Pista**: Los valores de `a`, `b`, y `c` son números pequeños."
   ]
  },
  {
   "cell_type": "code",
   "execution_count": null,
   "metadata": {},
   "outputs": [],
   "source": [
    "# Implementar"
   ]
  }
 ],
 "metadata": {
  "kernelspec": {
   "display_name": "Python 3",
   "language": "python",
   "name": "python3"
  },
  "language_info": {
   "codemirror_mode": {
    "name": "ipython",
    "version": 3
   },
   "file_extension": ".py",
   "mimetype": "text/x-python",
   "name": "python",
   "nbconvert_exporter": "python",
   "pygments_lexer": "ipython3",
   "version": "3.12.5"
  }
 },
 "nbformat": 4,
 "nbformat_minor": 2
}
