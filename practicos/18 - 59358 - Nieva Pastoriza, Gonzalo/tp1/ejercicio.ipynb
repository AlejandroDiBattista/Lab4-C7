{
 "cells": [
  {
   "cell_type": "markdown",
   "metadata": {},
   "source": [
    "# Trabajo práctico 1\n",
    "\n"
   ]
  },
  {
   "cell_type": "markdown",
   "metadata": {},
   "source": [
    "## Ejercicio 1 \n",
    "\n",
    "Escribe una función en Python que procese una lista de cadenas de texto y realice las siguientes acciones:\n",
    "\n",
    "1. La función debe tomar una lista de frases y convertir cada frase en una lista de palabras.\n",
    "1.  Luego, debe crear una nueva lista que contenga la cantidad de palabras en cada frase.\n",
    "1. Finalmente, la función debe imprimir cada frase original junto con la cantidad de palabras que contiene.\n",
    "Ejemplo de uso:\n",
    "```python\n",
    "    frases = [\n",
    "        \"Python es un lenguaje de programación\",\n",
    "        \"Me gusta resolver problemas con código\",\n",
    "        \"Las listas y los bucles son muy útiles\"\n",
    "    ]\n",
    "\n",
    "    procesar_frases(frases)\n",
    "```\n",
    "Requisitos:\n",
    "La función debe utilizar un bucle for para iterar sobre la lista de frases y contar las palabras en cada una.\n",
    "Debe crear y devolver una nueva lista con los conteos de palabras, y luego imprimir el resultado de forma clara."
   ]
  },
  {
   "cell_type": "code",
   "execution_count": 1,
   "metadata": {},
   "outputs": [
    {
     "name": "stdout",
     "output_type": "stream",
     "text": [
      "La siguiente frase: \"Python es un lenguaje dinámicamente tipado.\"\n",
      "cuenta con 6 palabras y 38 caracteres (sin contar espacios en blanco). \n",
      "-----------------------------------\n",
      "\n",
      "La siguiente frase: \"Estoy aprendiendo a programar con Python.\"\n",
      "cuenta con 6 palabras y 36 caracteres (sin contar espacios en blanco). \n",
      "-----------------------------------\n",
      "\n",
      "La siguiente frase: \"Wo lo looooooo.\"\n",
      "cuenta con 3 palabras y 13 caracteres (sin contar espacios en blanco). \n",
      "-----------------------------------\n",
      "\n"
     ]
    }
   ],
   "source": [
    "def procesar_frases(frases):\n",
    "    # Convertir cada frase en una lista de palabras\n",
    "    listas_de_palabras = [frase.split() for frase in frases]\n",
    "    \n",
    "    # Crear una lista con la cantidad de palabras en cada frase\n",
    "    cantidad_palabras = [len(lista) for lista in listas_de_palabras]\n",
    "    \n",
    "    # Crear una lista con la cantidad de caracteres en cada frase\n",
    "    cantidad_caracteres = [len(frase) for frase in frases]\n",
    "    \n",
    "    # Imprimir cada frase original junto con la cantidad de palabras y caracteres que contiene\n",
    "    for i, frase in enumerate(frases):\n",
    "        print(f'La frase: \"{frase}\"')\n",
    "        print(f'tiene {cantidad_palabras[i]} palabras y {cantidad_caracteres[i]} caracteres\\n')\n",
    "\n",
    "# Ejemplo de uso\n",
    "frases = [\n",
    "    \"Python es un lenguaje de programación\",\n",
    "    \"Me gusta resolver problemas con código\",\n",
    "    \"Las listas y los bucles son muy útiles\"\n",
    "]\n",
    "\n",
    "procesar_frases(frases)"
   ]
  },
  {
   "cell_type": "markdown",
   "metadata": {},
   "source": [
    "## Ejercicio 2\n",
    "\n",
    "Escribe una función en Python que encuentre los valores de `a`, `b`, y `c` para que la función cuadrática `f(x) = a x^2 + b x + c` pase exactamente por los siguientes puntos:\n",
    "\n",
    "| x  | y  |\n",
    "|---:|---:|\n",
    "|  0 |  0 |\n",
    "|  1 |  8 |\n",
    "|  2 | 12 |\n",
    "|  3 | 12 |\n",
    "|  5 |  0 |\n",
    "\n",
    "### Requisitos:\n",
    "- La función debe explorar posibles valores de `a`, `b`, y `c` utilizando un método de prueba y error.\n",
    "- Debe devolver los valores que hagan que la diferencia entre la función `f(x)` y los valores medidos `y` sea exactamente cero para cada punto.\n",
    "\n",
    "> **Pista**: Los valores de `a`, `b`, y `c` son números pequeños."
   ]
  },
  {
   "cell_type": "code",
   "execution_count": 2,
   "metadata": {},
   "outputs": [
    {
     "name": "stdout",
     "output_type": "stream",
     "text": [
      "Valores encontrados: a = -2, b = 10, c = 0\n"
     ]
    }
   ],
   "source": [
    "# Implementación del Ejercicio 2\n",
    "def f(x, a, b, c):\n",
    "    return a * x**2 + b * x + c\n",
    "\n",
    "def verificar_funcion():\n",
    "    posiciones = [(0, 0), (1, 8), (2, 12), (3, 12), (5, 0)]\n",
    "    \n",
    "    for a in range(-10, 11):\n",
    "        for b in range(-10, 11):\n",
    "            for c in range(-10, 11):\n",
    "                \n",
    "                valor_correcto = True\n",
    "                for x, y in posiciones:\n",
    "                    if f(x, a, b, c) != y:\n",
    "                        valor_correcto = False\n",
    "                        break\n",
    "                if valor_correcto:\n",
    "                    return a, b, c\n",
    "    \n",
    "    return None  # devuelve None si no encuentra solución con los valores\n",
    "\n",
    "resultado_funcion = verificar_funcion()\n",
    "\n",
    "# Aquí uso la asignación múltiple para capturar el resultado que contiene la tupla de la función que testea\n",
    "if resultado_funcion is not None:\n",
    "    a, b, c = resultado_funcion\n",
    "    print(f\"Valores encontrados: a = {a}, b = {b}, c = {c}\")\n",
    "else:\n",
    "    print('Los valores encontrados no cumplen con los puntos de \"X\" e \"Y\" dados.')"
   ]
  }
 ],
 "metadata": {
  "kernelspec": {
   "display_name": "Python 3",
   "language": "python",
   "name": "python3"
  },
  "language_info": {
   "codemirror_mode": {
    "name": "ipython",
    "version": 3
   },
   "file_extension": ".py",
   "mimetype": "text/x-python",
   "name": "python",
   "nbconvert_exporter": "python",
   "pygments_lexer": "ipython3",
   "version": "3.12.5"
  }
 },
 "nbformat": 4,
 "nbformat_minor": 2
}
