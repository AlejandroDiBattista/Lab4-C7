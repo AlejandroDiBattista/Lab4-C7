{
 "cells": [
  {
   "cell_type": "markdown",
   "metadata": {},
   "source": [
    "#TP3"
   ]
  },
  {
   "cell_type": "markdown",
   "metadata": {},
   "source": [
    "## Ejercicio 1: Cargar Datos de ventas.\n",
    "\n",
    "El archivo datos.dat contiene el registro de las ventas realizadas.\n",
    "\n",
    "Tiene un formato de ancho fijo:\n",
    "- fecha:    10 lugares\n",
    "- producto: 30 lugares\n",
    "- precio:   10 lugares\n",
    "- cantidad:  5 lugares\n",
    "\n",
    "hacer una funcion que carge los en una lista de diccionarios. \n",
    "\n",
    "nota: con \n",
    "```python\n",
    "lineas = open(\"datos.dat\", \"r\").readlines() \n",
    "```\n",
    "puede obtener la lista de string de todos los datos "
   ]
  },
  {
   "cell_type": "code",
   "execution_count": 9,
   "metadata": {},
   "outputs": [
    {
     "name": "stdout",
     "output_type": "stream",
     "text": [
      "[{'fecha': '2024-08-27', 'producto': 'Mirinda', 'precio': 1510, 'cantidad': 14}, {'fecha': '2024-08-27', 'producto': 'Mirinda', 'precio': 1560, 'cantidad': 12}, {'fecha': '2024-08-28', 'producto': 'Torasso', 'precio': 940, 'cantidad': 8}, {'fecha': '2024-08-29', 'producto': 'PepsiCola', 'precio': 1210, 'cantidad': 10}, {'fecha': '2024-08-30', 'producto': 'Mirinda', 'precio': 1520, 'cantidad': 1}, {'fecha': '2024-09-01', 'producto': 'Mirinda', 'precio': 1550, 'cantidad': 15}, {'fecha': '2024-09-01', 'producto': 'Sprite', 'precio': 810, 'cantidad': 4}, {'fecha': '2024-09-02', 'producto': 'CocaCola', 'precio': 1100, 'cantidad': 4}, {'fecha': '2024-09-02', 'producto': 'PepsiCola', 'precio': 1220, 'cantidad': 13}, {'fecha': '2024-09-02', 'producto': 'Torasso', 'precio': 910, 'cantidad': 5}, {'fecha': '2024-09-02', 'producto': 'Torasso', 'precio': 920, 'cantidad': 3}, {'fecha': '2024-09-03', 'producto': 'CocaCola', 'precio': 1020, 'cantidad': 8}, {'fecha': '2024-09-03', 'producto': 'Mirinda', 'precio': 1570, 'cantidad': 7}, {'fecha': '2024-09-03', 'producto': 'Mirinda', 'precio': 1590, 'cantidad': 2}, {'fecha': '2024-09-04', 'producto': 'PepsiCola', 'precio': 1220, 'cantidad': 13}, {'fecha': '2024-09-05', 'producto': 'Mirinda', 'precio': 1500, 'cantidad': 3}, {'fecha': '2024-09-05', 'producto': 'PepsiCola', 'precio': 1300, 'cantidad': 5}, {'fecha': '2024-09-06', 'producto': 'CocaCola', 'precio': 1080, 'cantidad': 1}, {'fecha': '2024-09-06', 'producto': 'Sprite', 'precio': 860, 'cantidad': 12}, {'fecha': '2024-09-06', 'producto': 'Torasso', 'precio': 930, 'cantidad': 3}, {'fecha': '2024-09-07', 'producto': 'CocaCola', 'precio': 1080, 'cantidad': 14}, {'fecha': '2024-09-07', 'producto': 'Sprite', 'precio': 870, 'cantidad': 13}, {'fecha': '2024-09-08', 'producto': 'CocaCola', 'precio': 1040, 'cantidad': 10}, {'fecha': '2024-09-08', 'producto': 'Mirinda', 'precio': 1580, 'cantidad': 2}, {'fecha': '2024-09-08', 'producto': 'PepsiCola', 'precio': 1240, 'cantidad': 9}, {'fecha': '2024-09-09', 'producto': 'Mirinda', 'precio': 1500, 'cantidad': 3}, {'fecha': '2024-09-09', 'producto': 'Sprite', 'precio': 850, 'cantidad': 9}, {'fecha': '2024-09-10', 'producto': 'Mirinda', 'precio': 1590, 'cantidad': 8}, {'fecha': '2024-09-10', 'producto': 'PepsiCola', 'precio': 1250, 'cantidad': 12}, {'fecha': '2024-09-11', 'producto': 'Sprite', 'precio': 810, 'cantidad': 6}, {'fecha': '2024-09-11', 'producto': 'Sprite', 'precio': 820, 'cantidad': 14}, {'fecha': '2024-09-12', 'producto': 'CocaCola', 'precio': 1080, 'cantidad': 4}, {'fecha': '2024-09-13', 'producto': 'Mirinda', 'precio': 1580, 'cantidad': 5}, {'fecha': '2024-09-13', 'producto': 'PepsiCola', 'precio': 1250, 'cantidad': 13}, {'fecha': '2024-09-14', 'producto': 'CocaCola', 'precio': 1080, 'cantidad': 15}, {'fecha': '2024-09-14', 'producto': 'PepsiCola', 'precio': 1270, 'cantidad': 14}, {'fecha': '2024-09-15', 'producto': 'CocaCola', 'precio': 1100, 'cantidad': 1}, {'fecha': '2024-09-15', 'producto': 'Mirinda', 'precio': 1500, 'cantidad': 13}, {'fecha': '2024-09-15', 'producto': 'Sprite', 'precio': 870, 'cantidad': 14}, {'fecha': '2024-09-15', 'producto': 'Torasso', 'precio': 900, 'cantidad': 13}]\n"
     ]
    }
   ],
   "source": [
    "#Primer paso: Abrir el archivo \"datos\" y leer las líneas\n",
    "\n",
    "def cargar_datos():\n",
    "    ventas_productos = []\n",
    "    lineas = open(\"datos.dat\", \"r\").readlines()\n",
    "    for linea in lineas:\n",
    "        fecha = linea[:10].replace(\" \", \"\")\n",
    "        producto = linea[10:40].replace(\" \", \"\")\n",
    "        precio = int(linea[40:50].replace(\" \", \"\"))\n",
    "        cantidad = int(linea[50:55].replace(\" \", \"\"))\n",
    "\n",
    "        producto_vendido = {'fecha' : fecha,'producto' : producto,'precio' : precio,'cantidad' : cantidad}\n",
    "        ventas_productos.append(producto_vendido)\n",
    "\n",
    "    return ventas_productos\n",
    "datos = cargar_datos()\n",
    "\n",
    "print(datos)\n"
   ]
  },
  {
   "cell_type": "markdown",
   "metadata": {},
   "source": [
    "## Ejercicio 2: Calcular el total de ventas.\n",
    "\n",
    "Hacer una funcion que sume los importes vendidos (precio * cantidad) y las cantidades"
   ]
  },
  {
   "cell_type": "code",
   "execution_count": 10,
   "metadata": {},
   "outputs": [
    {
     "name": "stdout",
     "output_type": "stream",
     "text": [
      "Las ventas fueron de $392730.00 en 335 unidades\n"
     ]
    }
   ],
   "source": [
    "\n",
    "datos = cargar_datos()\n",
    "def calcular_totales(datos):\n",
    "    ventas_total = 0\n",
    "    cantidad_productos = 0\n",
    "\n",
    "    for producto in datos:\n",
    "        ventas_total += producto['precio'] * producto['cantidad']\n",
    "        cantidad_productos += producto['cantidad']\n",
    "        #cantidad_total = cantidad_total + producto['cantidad']\n",
    "\n",
    "    return ventas_total, cantidad_productos\n",
    "\n",
    "importe, cantidad = calcular_totales(datos)\n",
    "print(f\"Las ventas fueron de ${importe:.2f} en {cantidad} unidades\")"
   ]
  },
  {
   "cell_type": "markdown",
   "metadata": {},
   "source": [
    "## Ejercicio 3: Listar las unidades vendidas.\n",
    "\n",
    "Listar cuantas unidades se vendieron en total para cada producto"
   ]
  },
  {
   "cell_type": "code",
   "execution_count": 11,
   "metadata": {},
   "outputs": [
    {
     "name": "stdout",
     "output_type": "stream",
     "text": [
      "Mirinda: 85 unidades vendidas\n",
      "Torasso: 32 unidades vendidas\n",
      "PepsiCola: 89 unidades vendidas\n",
      "Sprite: 72 unidades vendidas\n",
      "CocaCola: 57 unidades vendidas\n"
     ]
    }
   ],
   "source": [
    "datos = cargar_datos()\n",
    "productos_vendidos = {'Mirinda': 0, 'Torasso': 0, 'PepsiCola': 0, 'Sprite': 0, 'CocaCola': 0}\n",
    "\n",
    "def unidades_vendidas(datos):\n",
    "    for item in datos:\n",
    "        producto = item['producto']\n",
    "        cantidad = item['cantidad']\n",
    "        if producto in productos_vendidos:\n",
    "            productos_vendidos[producto] += cantidad\n",
    "    return productos_vendidos\n",
    "\n",
    "\n",
    "def mostrar_ventas(datos):\n",
    "    for producto, cantidad in datos.items():  \n",
    "        print(f\"{producto}: {cantidad} unidades vendidas\")\n",
    "\n",
    "# Llamar a las funciones\n",
    "ventas = unidades_vendidas(datos)\n",
    "mostrar_ventas(ventas)"
   ]
  },
  {
   "cell_type": "markdown",
   "metadata": {},
   "source": [
    "##  Ejercicio 4: Listar el precio promedio por producto.\n",
    "\n",
    "Hacer un listado del precio promedio por productos."
   ]
  },
  {
   "cell_type": "code",
   "execution_count": 18,
   "metadata": {},
   "outputs": [
    {
     "name": "stdout",
     "output_type": "stream",
     "text": [
      "Promedio de precios:\n",
      "\n",
      "Mirinda : 1545.83\n",
      "Torasso : 920.00\n",
      "PepsiCola : 1245.00\n",
      "CocaCola : 1072.50\n",
      "Sprite : 841.43\n"
     ]
    }
   ],
   "source": [
    "datos = cargar_datos()\n",
    "info_productos = {'Mirinda' : {'total_precios' : 0, 'cantidad' : 0},\n",
    "                  'Torasso' : { 'total_precios' : 0, 'cantidad' : 0},\n",
    "                  'PepsiCola': {'total_precios' : 0, 'cantidad' : 0},\n",
    "                  'CocaCola': {'total_precios' : 0, 'cantidad' : 0},\n",
    "                  'Sprite': {'total_precios' : 0, 'cantidad' : 0}\n",
    "                  }\n",
    "\n",
    "def sacar_promedio(datos):\n",
    "    for item in datos:\n",
    "        producto = item['producto']\n",
    "        precio = item['precio']\n",
    "        \n",
    "        if producto in info_productos:\n",
    "            info_productos[producto]['total_precios'] += precio\n",
    "            info_productos[producto]['cantidad'] += 1\n",
    "    \n",
    "   \n",
    "    promedios = {}\n",
    "    for producto, valores in info_productos.items():\n",
    "        suma_precios = valores['total_precios']\n",
    "        cantidad = valores['cantidad']\n",
    "        \n",
    "        if cantidad > 0:\n",
    "            promedio = suma_precios / cantidad\n",
    "            promedios[producto] = promedio\n",
    "        else:\n",
    "            promedios[producto] = None  \n",
    "    \n",
    "    return promedios\n",
    "\n",
    "\n",
    "def mostrar_promedios(promedios):\n",
    "    print(\"Promedio de precios:\\n\")\n",
    "    for producto, promedio in promedios.items():\n",
    "            print(f\"{producto} : {promedio:.2f}\")\n",
    "\n",
    "promedios = sacar_promedio(datos)\n",
    "mostrar_promedios(promedios)\n"
   ]
  },
  {
   "cell_type": "markdown",
   "metadata": {},
   "source": [
    "### Ejercicio 5: Ranking de productos\n",
    "\n",
    "Realizar un listado de los 3 productos mas vendidos ordenados la cantidad de unidades vendidas (ordenadas de mayor a menor)\n"
   ]
  },
  {
   "cell_type": "code",
   "execution_count": 21,
   "metadata": {},
   "outputs": [
    {
     "name": "stdout",
     "output_type": "stream",
     "text": [
      "Ranking de Productos Más Vendidos:\n",
      "PepsiCola con 89 unidades vendidas\n",
      "Mirinda con 85 unidades vendidas\n",
      "Sprite con 72 unidades vendidas\n"
     ]
    }
   ],
   "source": [
    "def ranking_productos(datos, top=3):\n",
    "    \n",
    "    productos_vendidos = {}\n",
    "    \n",
    "    \n",
    "    for item in datos:\n",
    "        producto = item['producto']\n",
    "        cantidad = item['cantidad']\n",
    "        \n",
    "        if producto in productos_vendidos:\n",
    "            productos_vendidos[producto] += cantidad\n",
    "        else:\n",
    "            productos_vendidos[producto] = cantidad\n",
    "\n",
    "    \n",
    "    lista_productos = []\n",
    "    for producto, cantidad in productos_vendidos.items():\n",
    "        lista_productos.append((producto, cantidad))\n",
    "\n",
    "    \n",
    "    for i in range(len(lista_productos)):\n",
    "        for j in range(i + 1, len(lista_productos)):\n",
    "            if lista_productos[i][1] < lista_productos[j][1]: \n",
    "                \n",
    "                lista_productos[i], lista_productos[j] = lista_productos[j], lista_productos[i]\n",
    "\n",
    "    return lista_productos[:top]\n",
    "\n",
    "def listar_ranking(ranking):\n",
    "    print(\"Ranking de Productos Más Vendidos:\")\n",
    "    for producto, cantidad in ranking:\n",
    "        print(f\"{producto} con {cantidad} unidades vendidas\")\n",
    "\n",
    "datos = cargar_datos()  \n",
    "ranking = ranking_productos(datos)\n",
    "listar_ranking(ranking)"
   ]
  },
  {
   "cell_type": "markdown",
   "metadata": {},
   "source": [
    "### Ejercicio 6: Listar las ventas por mes\n",
    "\n",
    "Realizar un listado del total de unidades vendidas por productos separada por mes."
   ]
  },
  {
   "cell_type": "code",
   "execution_count": 36,
   "metadata": {},
   "outputs": [
    {
     "name": "stdout",
     "output_type": "stream",
     "text": [
      "Unidades vendidas en Agosto y Septiembre:\n",
      "--------------------\n",
      "Mes: Agosto\n",
      "\n",
      "Mirinda: 27 unidades\n",
      "PepsiCola: 10 unidades\n",
      "Torasso: 8 unidades\n",
      "--------------------\n",
      "Mes: Septiembre\n",
      "\n",
      "CocaCola: 57 unidades\n",
      "Mirinda: 58 unidades\n",
      "PepsiCola: 79 unidades\n",
      "Sprite: 72 unidades\n",
      "Torasso: 24 unidades\n"
     ]
    }
   ],
   "source": [
    "def ventas_por_mes(datos):\n",
    "    meses_nombres = {\n",
    "        '01': 'Enero', '02': 'Febrero', '03': 'Marzo',\n",
    "        '04': 'Abril', '05': 'Mayo', '06': 'Junio',\n",
    "        '07': 'Julio', '08': 'Agosto', '09': 'Septiembre',\n",
    "        '10': 'Octubre', '11': 'Noviembre', '12': 'Diciembre'\n",
    "    }\n",
    "    \n",
    "    unidades_vendidas = {}\n",
    "    \n",
    "    for item in datos:\n",
    "        fecha = item['fecha']\n",
    "        producto = item['producto']\n",
    "        cantidad = item['cantidad']\n",
    "        \n",
    "        mes = fecha[5:7]\n",
    "        \n",
    "        if mes in meses_nombres:\n",
    "            nombre_mes = meses_nombres[mes]\n",
    "        else:\n",
    "            continue\n",
    "        \n",
    "        if nombre_mes not in unidades_vendidas:\n",
    "            unidades_vendidas[nombre_mes] = {}\n",
    "        \n",
    "        \n",
    "        if producto not in unidades_vendidas[nombre_mes]:\n",
    "            unidades_vendidas[nombre_mes][producto] = 0\n",
    "        \n",
    "\n",
    "        unidades_vendidas[nombre_mes][producto] += cantidad\n",
    "    \n",
    "    return unidades_vendidas\n",
    "\n",
    "def listar_ventas_mensuales(ventas):\n",
    "    print(\"Unidades vendidas en Agosto y Septiembre:\")\n",
    "    for mes, productos in ventas.items():\n",
    "        print(f\"--------------------\\nMes: {mes}\\n\")\n",
    "        for producto in sorted(productos):\n",
    "            cantidad = productos[producto]\n",
    "            print(f\"{producto}: {cantidad} unidades\")\n",
    "datos = cargar_datos()  \n",
    "ventas = ventas_por_mes(datos)\n",
    "listar_ventas_mensuales(ventas)"
   ]
  },
  {
   "cell_type": "markdown",
   "metadata": {},
   "source": [
    "### Ejercicio 7: Informe general\n",
    "\n",
    "Mostrar un listado de productos ordenados alfabeticamente que contengan el precio promedio, la cantidad de unidades vendidas y el importe total vendido para cada producto"
   ]
  },
  {
   "cell_type": "code",
   "execution_count": 38,
   "metadata": {},
   "outputs": [
    {
     "name": "stdout",
     "output_type": "stream",
     "text": [
      "Informe de Ventas:\n",
      "Total de Unidades Vendidas: 335\n",
      "Importe Total Vendido: 392730.00\n"
     ]
    }
   ],
   "source": [
    "def resumen_ventas(datos):\n",
    "    total_unidades = 0\n",
    "    total_importe = 0\n",
    "    \n",
    "    for item in datos:\n",
    "        cantidad = item['cantidad']\n",
    "        precio = item['precio']\n",
    "        \n",
    "        total_unidades += cantidad\n",
    "        total_importe += cantidad * precio\n",
    "    \n",
    "    return total_unidades, total_importe\n",
    "\n",
    "def informe_ventas(total_unidades, total_importe):\n",
    "    print(\"Informe de Ventas:\")\n",
    "    print(f\"Total de Unidades Vendidas: {total_unidades}\")\n",
    "    print(f\"Importe Total Vendido: {total_importe:.2f}\")\n",
    "\n",
    "datos = cargar_datos()\n",
    "total_unidades, total_importe = resumen_ventas(datos)\n",
    "informe_ventas(total_unidades, total_importe)  \n"
   ]
  }
 ],
 "metadata": {
  "kernelspec": {
   "display_name": "Python 3",
   "language": "python",
   "name": "python3"
  },
  "language_info": {
   "codemirror_mode": {
    "name": "ipython",
    "version": 3
   },
   "file_extension": ".py",
   "mimetype": "text/x-python",
   "name": "python",
   "nbconvert_exporter": "python",
   "pygments_lexer": "ipython3",
   "version": "3.12.5"
  }
 },
 "nbformat": 4,
 "nbformat_minor": 2
}
