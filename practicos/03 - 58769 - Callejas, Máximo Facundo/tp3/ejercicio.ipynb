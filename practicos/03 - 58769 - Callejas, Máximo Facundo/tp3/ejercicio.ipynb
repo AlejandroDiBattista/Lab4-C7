{
 "cells": [
  {
   "cell_type": "markdown",
   "metadata": {},
   "source": [
    "#TP3"
   ]
  },
  {
   "cell_type": "markdown",
   "metadata": {},
   "source": [
    "## Ejercicio 1: Cargar Datos de ventas.\n",
    "\n",
    "El archivo datos.dat contiene el registro de las ventas realizadas.\n",
    "\n",
    "Tiene un formato de ancho fijo:\n",
    "- fecha:    10 lugares\n",
    "- producto: 30 lugares\n",
    "- precio:   10 lugares\n",
    "- cantidad:  5 lugares\n",
    "\n",
    "hacer una funcion que carge los en una lista de diccionarios. \n",
    "\n",
    "nota: con \n",
    "```python\n",
    "lineas = open(\"datos.dat\", \"r\").readlines() \n",
    "```\n",
    "puede obtener la lista de string de todos los datos "
   ]
  },
  {
   "cell_type": "code",
   "execution_count": 4,
   "metadata": {},
   "outputs": [
    {
     "name": "stdout",
     "output_type": "stream",
     "text": [
      "Total de registros cargados: 40\n",
      "{'fecha': '2024-08-27', 'producto': 'Mirinda                       ', 'precio': 1510.0, 'cantidad': 14}\n",
      "{'fecha': '2024-08-27', 'producto': 'Mirinda                       ', 'precio': 1560.0, 'cantidad': 12}\n",
      "{'fecha': '2024-08-28', 'producto': 'Torasso                       ', 'precio': 940.0, 'cantidad': 8}\n",
      "{'fecha': '2024-08-29', 'producto': 'Pepsi Cola                    ', 'precio': 1210.0, 'cantidad': 10}\n",
      "{'fecha': '2024-08-30', 'producto': 'Mirinda                       ', 'precio': 1520.0, 'cantidad': 1}\n",
      "{'fecha': '2024-09-01', 'producto': 'Mirinda                       ', 'precio': 1550.0, 'cantidad': 15}\n",
      "{'fecha': '2024-09-01', 'producto': 'Sprite                        ', 'precio': 810.0, 'cantidad': 4}\n",
      "{'fecha': '2024-09-02', 'producto': 'Coca Cola                     ', 'precio': 1100.0, 'cantidad': 4}\n",
      "{'fecha': '2024-09-02', 'producto': 'Pepsi Cola                    ', 'precio': 1220.0, 'cantidad': 13}\n",
      "{'fecha': '2024-09-02', 'producto': 'Torasso                       ', 'precio': 910.0, 'cantidad': 5}\n",
      "{'fecha': '2024-09-02', 'producto': 'Torasso                       ', 'precio': 920.0, 'cantidad': 3}\n",
      "{'fecha': '2024-09-03', 'producto': 'Coca Cola                     ', 'precio': 1020.0, 'cantidad': 8}\n",
      "{'fecha': '2024-09-03', 'producto': 'Mirinda                       ', 'precio': 1570.0, 'cantidad': 7}\n",
      "{'fecha': '2024-09-03', 'producto': 'Mirinda                       ', 'precio': 1590.0, 'cantidad': 2}\n",
      "{'fecha': '2024-09-04', 'producto': 'Pepsi Cola                    ', 'precio': 1220.0, 'cantidad': 13}\n",
      "{'fecha': '2024-09-05', 'producto': 'Mirinda                       ', 'precio': 1500.0, 'cantidad': 3}\n",
      "{'fecha': '2024-09-05', 'producto': 'Pepsi Cola                    ', 'precio': 1300.0, 'cantidad': 5}\n",
      "{'fecha': '2024-09-06', 'producto': 'Coca Cola                     ', 'precio': 1080.0, 'cantidad': 1}\n",
      "{'fecha': '2024-09-06', 'producto': 'Sprite                        ', 'precio': 860.0, 'cantidad': 12}\n",
      "{'fecha': '2024-09-06', 'producto': 'Torasso                       ', 'precio': 930.0, 'cantidad': 3}\n",
      "{'fecha': '2024-09-07', 'producto': 'Coca Cola                     ', 'precio': 1080.0, 'cantidad': 14}\n",
      "{'fecha': '2024-09-07', 'producto': 'Sprite                        ', 'precio': 870.0, 'cantidad': 13}\n",
      "{'fecha': '2024-09-08', 'producto': 'Coca Cola                     ', 'precio': 1040.0, 'cantidad': 10}\n",
      "{'fecha': '2024-09-08', 'producto': 'Mirinda                       ', 'precio': 1580.0, 'cantidad': 2}\n",
      "{'fecha': '2024-09-08', 'producto': 'Pepsi Cola                    ', 'precio': 1240.0, 'cantidad': 9}\n",
      "{'fecha': '2024-09-09', 'producto': 'Mirinda                       ', 'precio': 1500.0, 'cantidad': 3}\n",
      "{'fecha': '2024-09-09', 'producto': 'Sprite                        ', 'precio': 850.0, 'cantidad': 9}\n",
      "{'fecha': '2024-09-10', 'producto': 'Mirinda                       ', 'precio': 1590.0, 'cantidad': 8}\n",
      "{'fecha': '2024-09-10', 'producto': 'Pepsi Cola                    ', 'precio': 1250.0, 'cantidad': 12}\n",
      "{'fecha': '2024-09-11', 'producto': 'Sprite                        ', 'precio': 810.0, 'cantidad': 6}\n",
      "{'fecha': '2024-09-11', 'producto': 'Sprite                        ', 'precio': 820.0, 'cantidad': 14}\n",
      "{'fecha': '2024-09-12', 'producto': 'Coca Cola                     ', 'precio': 1080.0, 'cantidad': 4}\n",
      "{'fecha': '2024-09-13', 'producto': 'Mirinda                       ', 'precio': 1580.0, 'cantidad': 5}\n",
      "{'fecha': '2024-09-13', 'producto': 'Pepsi Cola                    ', 'precio': 1250.0, 'cantidad': 13}\n",
      "{'fecha': '2024-09-14', 'producto': 'Coca Cola                     ', 'precio': 1080.0, 'cantidad': 15}\n",
      "{'fecha': '2024-09-14', 'producto': 'Pepsi Cola                    ', 'precio': 1270.0, 'cantidad': 14}\n",
      "{'fecha': '2024-09-15', 'producto': 'Coca Cola                     ', 'precio': 1100.0, 'cantidad': 1}\n",
      "{'fecha': '2024-09-15', 'producto': 'Mirinda                       ', 'precio': 1500.0, 'cantidad': 13}\n",
      "{'fecha': '2024-09-15', 'producto': 'Sprite                        ', 'precio': 870.0, 'cantidad': 14}\n",
      "{'fecha': '2024-09-15', 'producto': 'Torasso                       ', 'precio': 900.0, 'cantidad': 13}\n"
     ]
    }
   ],
   "source": [
    "def cargar_datos():\n",
    "    lineas = open(\"datos.dat\", \"r\").readlines()\n",
    "    datos = []\n",
    "\n",
    "    for linea in lineas:\n",
    "        fecha = linea[0: 10]\n",
    "        producto = linea[10: 40]\n",
    "        precio = float(linea[40: 50])\n",
    "        cantidad = int(linea[50: 55])\n",
    "\n",
    "\n",
    "        registro = {\n",
    "            \"fecha\": fecha,\n",
    "            \"producto\": producto,\n",
    "            \"precio\": precio,\n",
    "            \"cantidad\": cantidad\n",
    "        }\n",
    "        datos.append(registro)\n",
    "\n",
    "    return datos\n",
    "\n",
    "datos = cargar_datos()\n",
    "print(f\"Total de registros cargados: {len(datos)}\")\n",
    "\n",
    "\n",
    "for registro in datos:\n",
    "    print(registro)"
   ]
  },
  {
   "cell_type": "markdown",
   "metadata": {},
   "source": [
    "## Ejercicio 2: Calcular el total de ventas.\n",
    "\n",
    "Hacer una funcion que sume los importes vendidos (precio * cantidad) y las cantidades"
   ]
  },
  {
   "cell_type": "code",
   "execution_count": 5,
   "metadata": {},
   "outputs": [
    {
     "name": "stdout",
     "output_type": "stream",
     "text": [
      "Las ventas fueron de $392,730.00 en 335 unidades\n"
     ]
    }
   ],
   "source": [
    "def calcular_totales(datos):\n",
    "    importe = 0.0\n",
    "    cantidad = 0\n",
    "\n",
    "    for registro in datos:\n",
    "        importe += registro[\"precio\"] * registro[\"cantidad\"]\n",
    "        cantidad += registro[\"cantidad\"]\n",
    "\n",
    "    return importe, cantidad\n",
    "\n",
    "\n",
    "importe, cantidad = calcular_totales(datos)\n",
    "\n",
    "print(f\"Las ventas fueron de ${importe:,.2f} en {cantidad} unidades\")"
   ]
  },
  {
   "cell_type": "markdown",
   "metadata": {},
   "source": [
    "## Ejercicio 3: Listar las unidades vendidas.\n",
    "\n",
    "Listar cuantas unidades se vendieron en total para cada producto"
   ]
  },
  {
   "cell_type": "code",
   "execution_count": 6,
   "metadata": {},
   "outputs": [
    {
     "name": "stdout",
     "output_type": "stream",
     "text": [
      "Mirinda                       : 85 unidades\n",
      "Torasso                       : 32 unidades\n",
      "Pepsi Cola                    : 89 unidades\n",
      "Sprite                        : 72 unidades\n",
      "Coca Cola                     : 57 unidades\n"
     ]
    }
   ],
   "source": [
    "def unidades_vendidas(datos):\n",
    "    unidades = {}\n",
    "\n",
    "    for registro in datos:\n",
    "        producto = registro[\"producto\"]\n",
    "        cantidad = registro[\"cantidad\"]\n",
    "\n",
    "        if producto in unidades:\n",
    "            unidades[producto] += cantidad\n",
    "        else:\n",
    "            unidades[producto] = cantidad\n",
    "\n",
    "    return unidades\n",
    "\n",
    "def listar_ventas(datos):\n",
    "    for producto, cantidad in datos.items():\n",
    "        print(f\"{producto}: {cantidad} unidades\")\n",
    "\n",
    "ventas = unidades_vendidas(datos)\n",
    "listar_ventas(ventas)\n"
   ]
  },
  {
   "cell_type": "markdown",
   "metadata": {},
   "source": [
    "##  Ejercicio 4: Listar el precio promedio por producto.\n",
    "\n",
    "Hacer un listado del precio promedio por productos."
   ]
  },
  {
   "cell_type": "code",
   "execution_count": 7,
   "metadata": {},
   "outputs": [
    {
     "name": "stdout",
     "output_type": "stream",
     "text": [
      "Mirinda                        Precio promedio: $1542.12\n",
      "Torasso                        Precio promedio: $916.25\n",
      "Pepsi Cola                     Precio promedio: $1241.69\n",
      "Sprite                         Precio promedio: $847.78\n",
      "Coca Cola                      Precio promedio: $1066.32\n"
     ]
    }
   ],
   "source": [
    "def precio_promedio(datos):\n",
    "    preciosTotales = {}\n",
    "    cantidadesTotales = {}\n",
    "\n",
    "    for registro in datos:\n",
    "        producto = registro[\"producto\"]\n",
    "        precio = registro[\"precio\"]\n",
    "        cantidad = registro[\"cantidad\"]\n",
    "\n",
    "        if producto in preciosTotales:\n",
    "            preciosTotales[producto] += precio * cantidad\n",
    "            cantidadesTotales[producto] += cantidad\n",
    "        else:\n",
    "            preciosTotales[producto] = precio * cantidad\n",
    "            cantidadesTotales[producto] = cantidad\n",
    "\n",
    "    preciosPromedios = {}\n",
    "    for producto in preciosTotales:\n",
    "        preciosPromedios[producto] = preciosTotales[producto] / cantidadesTotales[producto]\n",
    "    \n",
    "    return preciosPromedios\n",
    "\n",
    "def listar_precios(datos):\n",
    "    for producto, precio in datos.items():\n",
    "        print(f\"{producto} Precio promedio: ${precio:.2f}\")\n",
    "\n",
    "\n",
    "precios = precio_promedio(datos)\n",
    "listar_precios(precios)"
   ]
  },
  {
   "cell_type": "markdown",
   "metadata": {},
   "source": [
    "### Ejercicio 5: Ranking de productos\n",
    "\n",
    "Realizar un listado de los 3 productos mas vendidos ordenados la cantidad de unidades vendidas (ordenadas de mayor a menor)\n"
   ]
  },
  {
   "cell_type": "code",
   "execution_count": 17,
   "metadata": {},
   "outputs": [
    {
     "name": "stdout",
     "output_type": "stream",
     "text": [
      "1. Mirinda                        Unidades vendidas: 15\n",
      "2. Coca Cola                      Unidades vendidas: 15\n",
      "3. Mirinda                        Unidades vendidas: 14\n"
     ]
    }
   ],
   "source": [
    "def ranking_productos(datos, top=3):\n",
    "    ranking = []\n",
    "\n",
    "    for _ in range(top):\n",
    "        mejorProducto = None\n",
    "        for producto in datos:\n",
    "            if producto not in ranking:\n",
    "                if mejorProducto is None or producto[\"cantidad\"] > mejorProducto[\"cantidad\"]:\n",
    "                    mejorProducto = producto\n",
    "        \n",
    "        if mejorProducto:\n",
    "            ranking.append(mejorProducto)\n",
    "\n",
    "    return ranking\n",
    "\n",
    "\n",
    "def listar_ranking(ranking):\n",
    "    for idx, producto in enumerate(ranking, start=1):\n",
    "        print(f\"{idx}. {producto['producto']} Unidades vendidas: {producto['cantidad']}\")\n",
    "        \n",
    "\n",
    "ranking = ranking_productos(datos)\n",
    "listar_ranking(ranking)"
   ]
  },
  {
   "cell_type": "markdown",
   "metadata": {},
   "source": [
    "### Ejercicio 6: Listar las ventas por mes\n",
    "\n",
    "Realizar un listado del total de unidades vendidas por productos separada por mes."
   ]
  },
  {
   "cell_type": "code",
   "execution_count": 20,
   "metadata": {},
   "outputs": [
    {
     "name": "stdout",
     "output_type": "stream",
     "text": [
      "\n",
      "Mes: 2024-08\n",
      "Mirinda                       : 27 unidades vendidas\n",
      "Torasso                       : 8 unidades vendidas\n",
      "Pepsi Cola                    : 10 unidades vendidas\n",
      "\n",
      "Mes: 2024-09\n",
      "Mirinda                       : 58 unidades vendidas\n",
      "Sprite                        : 72 unidades vendidas\n",
      "Coca Cola                     : 57 unidades vendidas\n",
      "Pepsi Cola                    : 79 unidades vendidas\n",
      "Torasso                       : 24 unidades vendidas\n"
     ]
    }
   ],
   "source": [
    "def ventas_por_mes(datos):\n",
    "    ventasMensuales = {}\n",
    "\n",
    "    for registro in datos:\n",
    "        fecha = registro[\"fecha\"]\n",
    "        producto = registro[\"producto\"]\n",
    "        cantidad = registro[\"cantidad\"]\n",
    "\n",
    "        mes = fecha[:7]\n",
    "\n",
    "        if mes not in ventasMensuales:\n",
    "            ventasMensuales[mes] = {}\n",
    "\n",
    "        if producto not in ventasMensuales[mes]:\n",
    "            ventasMensuales[mes][producto] = 0\n",
    "\n",
    "        ventasMensuales[mes][producto] += cantidad\n",
    "\n",
    "    return ventasMensuales\n",
    "    \n",
    "\n",
    "def listar_ventas_mensuales(ventas):\n",
    "    for mes, productos in ventas.items():\n",
    "        print(f\"\\nMes: {mes}\")\n",
    "        for producto, unidades in productos.items():\n",
    "            print(f\"{producto}: {unidades} unidades vendidas\")\n",
    "\n",
    "ventas = ventas_por_mes(datos)\n",
    "listar_ventas_mensuales(ventas)"
   ]
  },
  {
   "cell_type": "markdown",
   "metadata": {},
   "source": [
    "### Ejercicio 7: Informe general\n",
    "\n",
    "Mostrar un listado de productos ordenados alfabeticamente que contengan el precio promedio, la cantidad de unidades vendidas y el importe total vendido para cada producto"
   ]
  },
  {
   "cell_type": "code",
   "execution_count": 22,
   "metadata": {},
   "outputs": [
    {
     "name": "stdout",
     "output_type": "stream",
     "text": [
      "Informe general de ventas:\n",
      "Coca Cola                     :\n",
      "  Precio Promedio: 1066.32\n",
      "  Cantidad Total Vendida: 57\n",
      "  Importe Total Vendido: 60780.00\n",
      "\n",
      "Mirinda                       :\n",
      "  Precio Promedio: 1542.12\n",
      "  Cantidad Total Vendida: 85\n",
      "  Importe Total Vendido: 131080.00\n",
      "\n",
      "Pepsi Cola                    :\n",
      "  Precio Promedio: 1241.69\n",
      "  Cantidad Total Vendida: 89\n",
      "  Importe Total Vendido: 110510.00\n",
      "\n",
      "Sprite                        :\n",
      "  Precio Promedio: 847.78\n",
      "  Cantidad Total Vendida: 72\n",
      "  Importe Total Vendido: 61040.00\n",
      "\n",
      "Torasso                       :\n",
      "  Precio Promedio: 916.25\n",
      "  Cantidad Total Vendida: 32\n",
      "  Importe Total Vendido: 29320.00\n",
      "\n"
     ]
    }
   ],
   "source": [
    "def resumen_ventas(datos):\n",
    "    resumen = {}\n",
    "\n",
    "    for registro in datos:\n",
    "        producto = registro[\"producto\"]\n",
    "        cantidad = registro[\"cantidad\"]\n",
    "        precio = registro[\"precio\"]\n",
    "        \n",
    "        if producto not in resumen:\n",
    "            resumen[producto] = {\n",
    "                \"cantidad_total\": 0,\n",
    "                \"importe_total\": 0.0,\n",
    "                \"precio_promedio\": 0.0,\n",
    "                \"num_registros\": 0\n",
    "            }\n",
    "        \n",
    "        resumen[producto][\"cantidad_total\"] += cantidad\n",
    "        resumen[producto][\"importe_total\"] += precio * cantidad\n",
    "        resumen[producto][\"num_registros\"] += 1\n",
    "\n",
    "    for producto, datos in resumen.items():\n",
    "        if datos[\"num_registros\"] > 0:\n",
    "            datos[\"precio_promedio\"] = datos[\"importe_total\"] / datos[\"cantidad_total\"]\n",
    "\n",
    "    return resumen\n",
    "\n",
    "def informe_ventas(datos):\n",
    "    print(\"Informe general de ventas:\")\n",
    "    productos_ordenados = sorted(resumen.keys())\n",
    "\n",
    "    for producto in productos_ordenados:\n",
    "        datos = resumen[producto]\n",
    "        print(f\"{producto}:\")\n",
    "        print(f\"  Precio Promedio: {datos['precio_promedio']:.2f}\")\n",
    "        print(f\"  Cantidad Total Vendida: {datos['cantidad_total']}\")\n",
    "        print(f\"  Importe Total Vendido: {datos['importe_total']:.2f}\")\n",
    "        print()\n",
    "\n",
    "resumen = resumen_ventas(datos)\n",
    "informe_ventas(resumen)\n"
   ]
  }
 ],
 "metadata": {
  "kernelspec": {
   "display_name": "Python 3",
   "language": "python",
   "name": "python3"
  },
  "language_info": {
   "codemirror_mode": {
    "name": "ipython",
    "version": 3
   },
   "file_extension": ".py",
   "mimetype": "text/x-python",
   "name": "python",
   "nbconvert_exporter": "python",
   "pygments_lexer": "ipython3",
   "version": "3.12.5"
  }
 },
 "nbformat": 4,
 "nbformat_minor": 2
}
