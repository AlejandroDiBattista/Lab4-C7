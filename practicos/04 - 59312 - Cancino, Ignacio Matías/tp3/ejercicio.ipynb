{
 "cells": [
  {
   "cell_type": "markdown",
   "metadata": {},
   "source": [
    "#TP3"
   ]
  },
  {
   "cell_type": "markdown",
   "metadata": {},
   "source": [
    "## Ejercicio 1: Cargar Datos de ventas.\n",
    "\n",
    "El archivo datos.dat contiene el registro de las ventas realizadas.\n",
    "\n",
    "Tiene un formato de ancho fijo:\n",
    "- fecha:    10 lugares\n",
    "- producto: 30 lugares\n",
    "- precio:   10 lugares\n",
    "- cantidad:  5 lugares\n",
    "\n",
    "hacer una funcion que carge los en una lista de diccionarios. \n",
    "\n",
    "nota: con \n",
    "```python\n",
    "lineas = open(\"datos.dat\", \"r\").readlines() \n",
    "```\n",
    "puede obtener la lista de string de todos los datos "
   ]
  },
  {
   "cell_type": "code",
   "execution_count": 29,
   "metadata": {},
   "outputs": [
    {
     "name": "stdout",
     "output_type": "stream",
     "text": [
      "[{'fecha': '2024-09-15', 'producto': 'Torasso', 'precio': 900.0, 'cantidad': 13}, {'fecha': '2024-08-27', 'producto': 'Mirinda', 'precio': 1510.0, 'cantidad': 14}, {'fecha': '2024-08-27', 'producto': 'Mirinda', 'precio': 1560.0, 'cantidad': 12}, {'fecha': '2024-08-28', 'producto': 'Torasso', 'precio': 940.0, 'cantidad': 8}, {'fecha': '2024-08-29', 'producto': 'Pepsi Cola', 'precio': 1210.0, 'cantidad': 10}, {'fecha': '2024-08-30', 'producto': 'Mirinda', 'precio': 1520.0, 'cantidad': 1}, {'fecha': '2024-09-01', 'producto': 'Mirinda', 'precio': 1550.0, 'cantidad': 15}, {'fecha': '2024-09-01', 'producto': 'Sprite', 'precio': 810.0, 'cantidad': 4}, {'fecha': '2024-09-02', 'producto': 'Coca Cola', 'precio': 1100.0, 'cantidad': 4}, {'fecha': '2024-09-02', 'producto': 'Pepsi Cola', 'precio': 1220.0, 'cantidad': 13}, {'fecha': '2024-09-02', 'producto': 'Torasso', 'precio': 910.0, 'cantidad': 5}, {'fecha': '2024-09-02', 'producto': 'Torasso', 'precio': 920.0, 'cantidad': 3}, {'fecha': '2024-09-03', 'producto': 'Coca Cola', 'precio': 1020.0, 'cantidad': 8}, {'fecha': '2024-09-03', 'producto': 'Mirinda', 'precio': 1570.0, 'cantidad': 7}, {'fecha': '2024-09-03', 'producto': 'Mirinda', 'precio': 1590.0, 'cantidad': 2}, {'fecha': '2024-09-04', 'producto': 'Pepsi Cola', 'precio': 1220.0, 'cantidad': 13}, {'fecha': '2024-09-05', 'producto': 'Mirinda', 'precio': 1500.0, 'cantidad': 3}, {'fecha': '2024-09-05', 'producto': 'Pepsi Cola', 'precio': 1300.0, 'cantidad': 5}, {'fecha': '2024-09-06', 'producto': 'Coca Cola', 'precio': 1080.0, 'cantidad': 1}, {'fecha': '2024-09-06', 'producto': 'Sprite', 'precio': 860.0, 'cantidad': 12}, {'fecha': '2024-09-06', 'producto': 'Torasso', 'precio': 930.0, 'cantidad': 3}, {'fecha': '2024-09-07', 'producto': 'Coca Cola', 'precio': 1080.0, 'cantidad': 14}, {'fecha': '2024-09-07', 'producto': 'Sprite', 'precio': 870.0, 'cantidad': 13}, {'fecha': '2024-09-08', 'producto': 'Coca Cola', 'precio': 1040.0, 'cantidad': 10}, {'fecha': '2024-09-08', 'producto': 'Mirinda', 'precio': 1580.0, 'cantidad': 2}, {'fecha': '2024-09-08', 'producto': 'Pepsi Cola', 'precio': 1240.0, 'cantidad': 9}, {'fecha': '2024-09-09', 'producto': 'Mirinda', 'precio': 1500.0, 'cantidad': 3}, {'fecha': '2024-09-09', 'producto': 'Sprite', 'precio': 850.0, 'cantidad': 9}, {'fecha': '2024-09-10', 'producto': 'Mirinda', 'precio': 1590.0, 'cantidad': 8}, {'fecha': '2024-09-10', 'producto': 'Pepsi Cola', 'precio': 1250.0, 'cantidad': 12}, {'fecha': '2024-09-11', 'producto': 'Sprite', 'precio': 810.0, 'cantidad': 6}, {'fecha': '2024-09-11', 'producto': 'Sprite', 'precio': 820.0, 'cantidad': 14}, {'fecha': '2024-09-12', 'producto': 'Coca Cola', 'precio': 1080.0, 'cantidad': 4}, {'fecha': '2024-09-13', 'producto': 'Mirinda', 'precio': 1580.0, 'cantidad': 5}, {'fecha': '2024-09-13', 'producto': 'Pepsi Cola', 'precio': 1250.0, 'cantidad': 13}, {'fecha': '2024-09-14', 'producto': 'Coca Cola', 'precio': 1080.0, 'cantidad': 15}, {'fecha': '2024-09-14', 'producto': 'Pepsi Cola', 'precio': 1270.0, 'cantidad': 14}, {'fecha': '2024-09-15', 'producto': 'Coca Cola', 'precio': 1100.0, 'cantidad': 1}, {'fecha': '2024-09-15', 'producto': 'Mirinda', 'precio': 1500.0, 'cantidad': 13}, {'fecha': '2024-09-15', 'producto': 'Sprite', 'precio': 870.0, 'cantidad': 14}, {'fecha': '2024-09-15', 'producto': 'Torasso', 'precio': 900.0, 'cantidad': 13}]\n"
     ]
    }
   ],
   "source": [
    "def cargar_datos():\n",
    "    lineas = open(\"datos.dat\", \"r\").readlines() \n",
    "    for linea in lineas:\n",
    "        fecha = linea[:10].strip()\n",
    "        producto = linea[10:40].strip()\n",
    "        precio = float(linea[40:50].strip()) \n",
    "        cantidad = int(linea[50:55].strip())\n",
    "        registro = {\n",
    "            \"fecha\": fecha,\n",
    "            \"producto\": producto,\n",
    "            \"precio\": precio,\n",
    "            \"cantidad\": cantidad\n",
    "        }\n",
    "        datos.append(registro)\n",
    "    return datos\n",
    "datos = cargar_datos()\n",
    "print(datos)"
   ]
  },
  {
   "cell_type": "markdown",
   "metadata": {},
   "source": [
    "## Ejercicio 2: Calcular el total de ventas.\n",
    "\n",
    "Hacer una funcion que sume los importes vendidos (precio * cantidad) y las cantidades"
   ]
  },
  {
   "cell_type": "code",
   "execution_count": 30,
   "metadata": {},
   "outputs": [
    {
     "name": "stdout",
     "output_type": "stream",
     "text": [
      "Las ventas fueron de $404430.00 en 348 unidades\n"
     ]
    }
   ],
   "source": [
    "def calcular_totales(datos):\n",
    "    total_importe = 0\n",
    "    total_cantidad = 0\n",
    "    \n",
    "    for registro in datos:\n",
    "        if 'precio' in registro and 'cantidad' in registro:\n",
    "            importe = registro['precio'] * registro['cantidad']\n",
    "            \n",
    "            total_importe += importe\n",
    "            total_cantidad += registro['cantidad']\n",
    "        else:\n",
    "            print(f\"Registro mal formado o incompleto: {registro}\")\n",
    "    \n",
    "    return total_importe, total_cantidad\n",
    "\n",
    "importe, cantidad = calcular_totales(datos)\n",
    "\n",
    "print(f\"Las ventas fueron de ${importe:.2f} en {cantidad} unidades\")\n"
   ]
  },
  {
   "cell_type": "markdown",
   "metadata": {},
   "source": [
    "## Ejercicio 3: Listar las unidades vendidas.\n",
    "\n",
    "Listar cuantas unidades se vendieron en total para cada producto"
   ]
  },
  {
   "cell_type": "code",
   "execution_count": 33,
   "metadata": {},
   "outputs": [
    {
     "name": "stdout",
     "output_type": "stream",
     "text": [
      "Producto: Torasso, Unidades vendidas: 45\n",
      "Producto: Mirinda, Unidades vendidas: 85\n",
      "Producto: Pepsi Cola, Unidades vendidas: 89\n",
      "Producto: Sprite, Unidades vendidas: 72\n",
      "Producto: Coca Cola, Unidades vendidas: 57\n"
     ]
    }
   ],
   "source": [
    "def unidades_vendidas(datos):\n",
    "    ventas = {}\n",
    "    for registro in datos:\n",
    "        producto = registro['producto']\n",
    "        cantidad = registro['cantidad']\n",
    "        \n",
    "        if producto in ventas:\n",
    "            ventas[producto] += cantidad\n",
    "        else:\n",
    "            ventas[producto] = cantidad\n",
    "    \n",
    "    return ventas\n",
    "\n",
    "def listar_ventas(ventas):\n",
    "    for producto, cantidad in ventas.items():\n",
    "        print(f\"Producto: {producto}, Unidades vendidas: {cantidad}\")\n",
    "\n",
    "ventas = unidades_vendidas(datos)\n",
    "listar_ventas(ventas)\n"
   ]
  },
  {
   "cell_type": "markdown",
   "metadata": {},
   "source": [
    "##  Ejercicio 4: Listar el precio promedio por producto.\n",
    "\n",
    "Hacer un listado del precio promedio por productos."
   ]
  },
  {
   "cell_type": "code",
   "execution_count": 37,
   "metadata": {},
   "outputs": [
    {
     "name": "stdout",
     "output_type": "stream",
     "text": [
      "Producto: Torasso, Precio promedio: $911.56\n",
      "Producto: Mirinda, Precio promedio: $1542.12\n",
      "Producto: Pepsi Cola, Precio promedio: $1241.69\n",
      "Producto: Sprite, Precio promedio: $847.78\n",
      "Producto: Coca Cola, Precio promedio: $1066.32\n"
     ]
    }
   ],
   "source": [
    "def precio_promedio(datos):\n",
    "    precios_totales = {}\n",
    "    \n",
    "    for registro in datos:\n",
    "        producto = registro['producto']\n",
    "        precio = registro['precio']\n",
    "        cantidad = registro['cantidad']\n",
    "        \n",
    "        if producto in precios_totales:\n",
    "            precios_totales[producto]['precio_total'] += precio * cantidad\n",
    "            precios_totales[producto]['cantidad_total'] += cantidad\n",
    "        else:\n",
    "            precios_totales[producto] = {'precio_total': precio * cantidad, 'cantidad_total': cantidad}\n",
    "    \n",
    "    return {producto: info['precio_total'] / info['cantidad_total'] for producto, info in precios_totales.items()}\n",
    "\n",
    "def listar_precios(precios):\n",
    "    for producto, precio_promedio in precios.items():\n",
    "        print(f\"Producto: {producto}, Precio promedio: ${precio_promedio:.2f}\")\n",
    "\n",
    "precios = precio_promedio(datos)\n",
    "listar_precios(precios)\n"
   ]
  },
  {
   "cell_type": "markdown",
   "metadata": {},
   "source": [
    "### Ejercicio 5: Ranking de productos\n",
    "\n",
    "Realizar un listado de los 3 productos mas vendidos ordenados la cantidad de unidades vendidas (ordenadas de mayor a menor)\n"
   ]
  },
  {
   "cell_type": "code",
   "execution_count": 40,
   "metadata": {},
   "outputs": [
    {
     "name": "stdout",
     "output_type": "stream",
     "text": [
      "1. Producto: Pepsi Cola, Unidades vendidas: 89\n",
      "2. Producto: Mirinda, Unidades vendidas: 85\n",
      "3. Producto: Sprite, Unidades vendidas: 72\n"
     ]
    }
   ],
   "source": [
    "def ranking_productos(datos, top=3):\n",
    "    ventas = {}\n",
    "    \n",
    "    for registro in datos:\n",
    "        producto = registro['producto']\n",
    "        cantidad = registro['cantidad']\n",
    "        \n",
    "        if producto in ventas:\n",
    "            ventas[producto] += cantidad\n",
    "        else:\n",
    "            ventas[producto] = cantidad\n",
    "    \n",
    "    ranking = sorted(ventas.items(), key=lambda x: x[1], reverse=True)\n",
    "    \n",
    "    return ranking[:top]\n",
    "\n",
    "def listar_ranking(ranking):\n",
    "    for i, (producto, cantidad) in enumerate(ranking, 1):\n",
    "        print(f\"{i}. Producto: {producto}, Unidades vendidas: {cantidad}\")\n",
    "\n",
    "ranking = ranking_productos(datos)\n",
    "listar_ranking(ranking)\n"
   ]
  },
  {
   "cell_type": "markdown",
   "metadata": {},
   "source": [
    "### Ejercicio 6: Listar las ventas por mes\n",
    "\n",
    "Realizar un listado del total de unidades vendidas por productos separada por mes."
   ]
  },
  {
   "cell_type": "code",
   "execution_count": 42,
   "metadata": {},
   "outputs": [
    {
     "name": "stdout",
     "output_type": "stream",
     "text": [
      "Mes: 2024-08\n",
      "  Producto: Mirinda, Unidades vendidas: 27\n",
      "  Producto: Torasso, Unidades vendidas: 8\n",
      "  Producto: Pepsi Cola, Unidades vendidas: 10\n",
      "\n",
      "Mes: 2024-09\n",
      "  Producto: Torasso, Unidades vendidas: 37\n",
      "  Producto: Mirinda, Unidades vendidas: 58\n",
      "  Producto: Sprite, Unidades vendidas: 72\n",
      "  Producto: Coca Cola, Unidades vendidas: 57\n",
      "  Producto: Pepsi Cola, Unidades vendidas: 79\n",
      "\n"
     ]
    }
   ],
   "source": [
    "from collections import defaultdict\n",
    "from datetime import datetime\n",
    "\n",
    "def ventas_por_mes(datos):\n",
    "    ventas_mensuales = defaultdict(lambda: defaultdict(int))\n",
    "    \n",
    "    for registro in datos:\n",
    "        fecha = registro['fecha']\n",
    "        producto = registro['producto']\n",
    "        cantidad = registro['cantidad']\n",
    "        \n",
    "        mes = datetime.strptime(fecha, '%Y-%m-%d').strftime('%Y-%m')\n",
    "        ventas_mensuales[mes][producto] += cantidad\n",
    "    \n",
    "    return ventas_mensuales\n",
    "\n",
    "def listar_ventas_mensuales(ventas):\n",
    "    for mes, productos in sorted(ventas.items()):\n",
    "        print(f\"Mes: {mes}\")\n",
    "        for producto, cantidad in productos.items():\n",
    "            print(f\"  Producto: {producto}, Unidades vendidas: {cantidad}\")\n",
    "        print()\n",
    "\n",
    "ventas = ventas_por_mes(datos)\n",
    "listar_ventas_mensuales(ventas)\n"
   ]
  },
  {
   "cell_type": "markdown",
   "metadata": {},
   "source": [
    "### Ejercicio 7: Informe general\n",
    "\n",
    "Mostrar un listado de productos ordenados alfabeticamente que contengan el precio promedio, la cantidad de unidades vendidas y el importe total vendido para cada producto"
   ]
  },
  {
   "cell_type": "code",
   "execution_count": 44,
   "metadata": {},
   "outputs": [
    {
     "name": "stdout",
     "output_type": "stream",
     "text": [
      "Producto: Coca Cola\n",
      "  Precio promedio: $1066.32\n",
      "  Cantidad de unidades vendidas: 57\n",
      "  Importe total vendido: $60780.00\n",
      "\n",
      "Producto: Mirinda\n",
      "  Precio promedio: $1542.12\n",
      "  Cantidad de unidades vendidas: 85\n",
      "  Importe total vendido: $131080.00\n",
      "\n",
      "Producto: Pepsi Cola\n",
      "  Precio promedio: $1241.69\n",
      "  Cantidad de unidades vendidas: 89\n",
      "  Importe total vendido: $110510.00\n",
      "\n",
      "Producto: Sprite\n",
      "  Precio promedio: $847.78\n",
      "  Cantidad de unidades vendidas: 72\n",
      "  Importe total vendido: $61040.00\n",
      "\n",
      "Producto: Torasso\n",
      "  Precio promedio: $911.56\n",
      "  Cantidad de unidades vendidas: 45\n",
      "  Importe total vendido: $41020.00\n",
      "\n"
     ]
    }
   ],
   "source": [
    "def resumen_ventas(datos):\n",
    "    resumen = {}\n",
    "    \n",
    "    for registro in datos:\n",
    "        producto = registro['producto']\n",
    "        precio = registro['precio']\n",
    "        cantidad = registro['cantidad']\n",
    "        \n",
    "        if producto in resumen:\n",
    "            resumen[producto]['cantidad_total'] += cantidad\n",
    "            resumen[producto]['importe_total'] += precio * cantidad\n",
    "        else:\n",
    "            resumen[producto] = {\n",
    "                'cantidad_total': cantidad,\n",
    "                'importe_total': precio * cantidad,\n",
    "                'precio_promedio': 0 \n",
    "            }\n",
    "    \n",
    "    for producto, info in resumen.items():\n",
    "        info['precio_promedio'] = info['importe_total'] / info['cantidad_total']\n",
    "    \n",
    "    return resumen\n",
    "\n",
    "def informe_ventas(resumen):\n",
    "    productos_ordenados = sorted(resumen.items())\n",
    "    \n",
    "    for producto, info in productos_ordenados:\n",
    "        print(f\"Producto: {producto}\")\n",
    "        print(f\"  Precio promedio: ${info['precio_promedio']:.2f}\")\n",
    "        print(f\"  Cantidad de unidades vendidas: {info['cantidad_total']}\")\n",
    "        print(f\"  Importe total vendido: ${info['importe_total']:.2f}\")\n",
    "        print()\n",
    "\n",
    "resumen = resumen_ventas(datos)\n",
    "informe_ventas(resumen)\n"
   ]
  }
 ],
 "metadata": {
  "kernelspec": {
   "display_name": "Python 3",
   "language": "python",
   "name": "python3"
  },
  "language_info": {
   "codemirror_mode": {
    "name": "ipython",
    "version": 3
   },
   "file_extension": ".py",
   "mimetype": "text/x-python",
   "name": "python",
   "nbconvert_exporter": "python",
   "pygments_lexer": "ipython3",
   "version": "3.12.5"
  }
 },
 "nbformat": 4,
 "nbformat_minor": 2
}
