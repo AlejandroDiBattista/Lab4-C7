{
 "cells": [
  {
   "cell_type": "markdown",
   "metadata": {},
   "source": [
    "# Simulación del Truco"
   ]
  },
  {
   "cell_type": "markdown",
   "metadata": {},
   "source": [
    "Las **cartas** deben registra el numero, palo y valor de la carta. \n",
    "El valor debe reflejar la jerarquía de las cartas en el juego del truco."
   ]
  },
  {
   "cell_type": "code",
   "execution_count": 1,
   "metadata": {},
   "outputs": [],
   "source": [
    "def calcular_valor(numero, palo):\n",
    "    jerarquia_especial = {\n",
    "        (1, \"espada\"): 14,\n",
    "        (1, \"basto\"): 13,\n",
    "        (7, \"espada\"): 12,\n",
    "        (7, \"oro\"): 11\n",
    "    }\n",
    "\n",
    "    jerarquia_normal = {\n",
    "        3: 10,\n",
    "        2: 9,\n",
    "        1: 8,\n",
    "        12: 7,\n",
    "        11: 6,\n",
    "        10: 5,\n",
    "        7: 4,\n",
    "        6: 3,\n",
    "        5: 2,\n",
    "        4: 1\n",
    "    }\n",
    "\n",
    "    if (numero, palo) in jerarquia_especial:\n",
    "        return jerarquia_especial[(numero, palo)]\n",
    "    return jerarquia_normal[numero]\n",
    "\n",
    "class Carta:\n",
    "    def __init__(self, numero, palo):\n",
    "        self.numero = numero\n",
    "        self.palo = palo\n",
    "        self.valor = calcular_valor(numero, palo)\n",
    "\n",
    "    def __repr__(self):\n",
    "        return f\"{self.numero} de {self.palo} (valor: {self.valor})\"\n"
   ]
  },
  {
   "cell_type": "markdown",
   "metadata": {},
   "source": [
    "**Mazo**: Representan las cartas españolas de 1 al 12, en los palos de oro, copa, espada y basto.\n",
    "\n",
    "Debe existir una función que permita barajar las cartas.\n",
    "y otra función que permita repartir las cartas a los jugadores."
   ]
  },
  {
   "cell_type": "code",
   "execution_count": 2,
   "metadata": {},
   "outputs": [],
   "source": [
    "import random\n",
    "\n",
    "class Mazo:\n",
    "    palos = [\"oro\", \"copa\", \"espada\", \"basto\"]\n",
    "    numeros = [1, 2, 3, 4, 5, 6, 7, 10, 11, 12]  # Excluimos 8 y 9\n",
    "\n",
    "    def __init__(self):\n",
    "        self.cartas = [Carta(numero, palo) for numero in self.numeros for palo in self.palos]\n",
    "    \n",
    "    def mezclar(self):\n",
    "        random.shuffle(self.cartas)\n",
    "\n",
    "    def repartir(self, cantidad):\n",
    "        return [self.cartas.pop() for _ in range(cantidad)]"
   ]
  },
  {
   "cell_type": "markdown",
   "metadata": {},
   "source": [
    "**Jugador**: Deben tener un nombre y las cartas que tiene en la mano. Debe acumular los puntos ganados.\n",
    "\n",
    "Nota: Para simplificar el problema, el jugador elige la carta a jugar de forma aleatoria."
   ]
  },
  {
   "cell_type": "code",
   "execution_count": 3,
   "metadata": {},
   "outputs": [],
   "source": [
    "class Jugador:\n",
    "    def __init__(self, nombre):\n",
    "        self.nombre = nombre\n",
    "        self.cartas = []\n",
    "        self.puntos = 0\n",
    "    \n",
    "    def recibir_cartas(self, cartas):\n",
    "        self.cartas = cartas\n",
    "\n",
    "    def jugar_carta(self):\n",
    "        if self.cartas:\n",
    "            return self.cartas.pop(random.randint(0, len(self.cartas) - 1))\n",
    "        return None"
   ]
  },
  {
   "cell_type": "markdown",
   "metadata": {},
   "source": [
    "**Partida**: Debe tener dos jugadores, un mazo de cartas y un puntaje. Debe permitir jugar una carta por ronda y definir el ganador de la ronda. Debe permitir jugar hasta que se terminen las cartas del mazo."
   ]
  },
  {
   "cell_type": "code",
   "execution_count": 4,
   "metadata": {},
   "outputs": [
    {
     "name": "stdout",
     "output_type": "stream",
     "text": [
      "Juan juega 7 de copa (valor: 4)\n",
      "Pedro juega 3 de copa (valor: 10)\n",
      "Gana la ronda Pedro\n",
      "Juan juega 3 de oro (valor: 10)\n",
      "Pedro juega 2 de copa (valor: 9)\n",
      "Gana la ronda Juan\n",
      "Juan juega 5 de copa (valor: 2)\n",
      "Pedro juega 6 de espada (valor: 3)\n",
      "Gana la ronda Pedro\n",
      "Puntaje: Juan 1, Pedro 2\n",
      "Juan juega 10 de espada (valor: 5)\n",
      "Pedro juega 10 de oro (valor: 5)\n",
      "Empate en la ronda\n",
      "Juan juega 6 de basto (valor: 3)\n",
      "Pedro juega 3 de espada (valor: 10)\n",
      "Gana la ronda Pedro\n",
      "Juan juega 7 de oro (valor: 11)\n",
      "Pedro juega 1 de basto (valor: 13)\n",
      "Gana la ronda Pedro\n",
      "Puntaje: Juan 1, Pedro 4\n",
      "Juan juega 12 de basto (valor: 7)\n",
      "Pedro juega 11 de oro (valor: 6)\n",
      "Gana la ronda Juan\n",
      "Juan juega 7 de basto (valor: 4)\n",
      "Pedro juega 10 de basto (valor: 5)\n",
      "Gana la ronda Pedro\n",
      "Juan juega 12 de copa (valor: 7)\n",
      "Pedro juega 4 de espada (valor: 1)\n",
      "Gana la ronda Juan\n",
      "Puntaje: Juan 3, Pedro 5\n",
      "Juan juega 2 de basto (valor: 9)\n",
      "Pedro juega 11 de espada (valor: 6)\n",
      "Gana la ronda Juan\n",
      "Juan juega 7 de espada (valor: 12)\n",
      "Pedro juega 6 de copa (valor: 3)\n",
      "Gana la ronda Juan\n",
      "Juan juega 6 de oro (valor: 3)\n",
      "Pedro juega 5 de oro (valor: 2)\n",
      "Gana la ronda Juan\n",
      "Puntaje: Juan 6, Pedro 5\n",
      "Juan juega 11 de basto (valor: 6)\n",
      "Pedro juega 11 de copa (valor: 6)\n",
      "Empate en la ronda\n",
      "Juan juega 2 de oro (valor: 9)\n",
      "Pedro juega 4 de copa (valor: 1)\n",
      "Gana la ronda Juan\n",
      "Juan juega 12 de oro (valor: 7)\n",
      "Pedro juega 4 de basto (valor: 1)\n",
      "Gana la ronda Juan\n",
      "Puntaje: Juan 8, Pedro 5\n",
      "Juan juega 1 de oro (valor: 8)\n",
      "Pedro juega 5 de espada (valor: 2)\n",
      "Gana la ronda Juan\n",
      "Juan juega 4 de oro (valor: 1)\n",
      "Pedro juega 12 de espada (valor: 7)\n",
      "Gana la ronda Pedro\n",
      "Juan juega 3 de basto (valor: 10)\n",
      "Pedro juega 5 de basto (valor: 2)\n",
      "Gana la ronda Juan\n",
      "Puntaje: Juan 10, Pedro 6\n"
     ]
    },
    {
     "ename": "IndexError",
     "evalue": "pop from empty list",
     "output_type": "error",
     "traceback": [
      "\u001b[1;31m---------------------------------------------------------------------------\u001b[0m",
      "\u001b[1;31mIndexError\u001b[0m                                Traceback (most recent call last)",
      "Cell \u001b[1;32mIn[4], line 45\u001b[0m\n\u001b[0;32m     42\u001b[0m                 \u001b[38;5;28;01mbreak\u001b[39;00m\n\u001b[0;32m     44\u001b[0m p \u001b[38;5;241m=\u001b[39m Partida(Jugador(\u001b[38;5;124m\"\u001b[39m\u001b[38;5;124mJuan\u001b[39m\u001b[38;5;124m\"\u001b[39m), Jugador(\u001b[38;5;124m\"\u001b[39m\u001b[38;5;124mPedro\u001b[39m\u001b[38;5;124m\"\u001b[39m))\n\u001b[1;32m---> 45\u001b[0m \u001b[43mp\u001b[49m\u001b[38;5;241;43m.\u001b[39;49m\u001b[43mjugar\u001b[49m\u001b[43m(\u001b[49m\u001b[43m)\u001b[49m\n",
      "Cell \u001b[1;32mIn[4], line 28\u001b[0m, in \u001b[0;36mPartida.jugar\u001b[1;34m(self)\u001b[0m\n\u001b[0;32m     26\u001b[0m \u001b[38;5;28;01mwhile\u001b[39;00m \u001b[38;5;28mself\u001b[39m\u001b[38;5;241m.\u001b[39mjugador1\u001b[38;5;241m.\u001b[39mpuntos \u001b[38;5;241m<\u001b[39m \u001b[38;5;28mself\u001b[39m\u001b[38;5;241m.\u001b[39mpuntos_meta \u001b[38;5;129;01mand\u001b[39;00m \u001b[38;5;28mself\u001b[39m\u001b[38;5;241m.\u001b[39mjugador2\u001b[38;5;241m.\u001b[39mpuntos \u001b[38;5;241m<\u001b[39m \u001b[38;5;28mself\u001b[39m\u001b[38;5;241m.\u001b[39mpuntos_meta:\n\u001b[0;32m     27\u001b[0m     \u001b[38;5;28mself\u001b[39m\u001b[38;5;241m.\u001b[39mjugador1\u001b[38;5;241m.\u001b[39mrecibir_cartas(\u001b[38;5;28mself\u001b[39m\u001b[38;5;241m.\u001b[39mmazo\u001b[38;5;241m.\u001b[39mrepartir(\u001b[38;5;241m3\u001b[39m))\n\u001b[1;32m---> 28\u001b[0m     \u001b[38;5;28mself\u001b[39m\u001b[38;5;241m.\u001b[39mjugador2\u001b[38;5;241m.\u001b[39mrecibir_cartas(\u001b[38;5;28;43mself\u001b[39;49m\u001b[38;5;241;43m.\u001b[39;49m\u001b[43mmazo\u001b[49m\u001b[38;5;241;43m.\u001b[39;49m\u001b[43mrepartir\u001b[49m\u001b[43m(\u001b[49m\u001b[38;5;241;43m3\u001b[39;49m\u001b[43m)\u001b[49m)\n\u001b[0;32m     30\u001b[0m     \u001b[38;5;28;01mfor\u001b[39;00m _ \u001b[38;5;129;01min\u001b[39;00m \u001b[38;5;28mrange\u001b[39m(\u001b[38;5;241m3\u001b[39m):\n\u001b[0;32m     31\u001b[0m         \u001b[38;5;28mself\u001b[39m\u001b[38;5;241m.\u001b[39mjugar_ronda()\n",
      "Cell \u001b[1;32mIn[2], line 14\u001b[0m, in \u001b[0;36mMazo.repartir\u001b[1;34m(self, cantidad)\u001b[0m\n\u001b[0;32m     13\u001b[0m \u001b[38;5;28;01mdef\u001b[39;00m \u001b[38;5;21mrepartir\u001b[39m(\u001b[38;5;28mself\u001b[39m, cantidad):\n\u001b[1;32m---> 14\u001b[0m     \u001b[38;5;28;01mreturn\u001b[39;00m [\u001b[38;5;28;43mself\u001b[39;49m\u001b[38;5;241;43m.\u001b[39;49m\u001b[43mcartas\u001b[49m\u001b[38;5;241;43m.\u001b[39;49m\u001b[43mpop\u001b[49m\u001b[43m(\u001b[49m\u001b[43m)\u001b[49m \u001b[38;5;28;01mfor\u001b[39;00m _ \u001b[38;5;129;01min\u001b[39;00m \u001b[38;5;28mrange\u001b[39m(cantidad)]\n",
      "\u001b[1;31mIndexError\u001b[0m: pop from empty list"
     ]
    }
   ],
   "source": [
    "class Partida:\n",
    "    def __init__(self, jugador1, jugador2):\n",
    "        self.jugador1 = jugador1\n",
    "        self.jugador2 = jugador2\n",
    "        self.mazo = Mazo()\n",
    "        self.mazo.mezclar()\n",
    "        self.puntos_meta = 15\n",
    "    \n",
    "    def jugar_ronda(self):\n",
    "        carta_j1 = self.jugador1.jugar_carta()\n",
    "        carta_j2 = self.jugador2.jugar_carta()\n",
    "\n",
    "        print(f\"{self.jugador1.nombre} juega {carta_j1}\")\n",
    "        print(f\"{self.jugador2.nombre} juega {carta_j2}\")\n",
    "\n",
    "        if carta_j1.valor > carta_j2.valor:\n",
    "            print(f\"Gana la ronda {self.jugador1.nombre}\")\n",
    "            self.jugador1.puntos += 1\n",
    "        elif carta_j2.valor > carta_j1.valor:\n",
    "            print(f\"Gana la ronda {self.jugador2.nombre}\")\n",
    "            self.jugador2.puntos += 1\n",
    "        else:\n",
    "            print(\"Empate en la ronda\")\n",
    "\n",
    "    def jugar(self):\n",
    "        while self.jugador1.puntos < self.puntos_meta and self.jugador2.puntos < self.puntos_meta:\n",
    "            self.jugador1.recibir_cartas(self.mazo.repartir(3))\n",
    "            self.jugador2.recibir_cartas(self.mazo.repartir(3))\n",
    "            \n",
    "            for _ in range(3):\n",
    "                self.jugar_ronda()\n",
    "                if not self.jugador1.cartas or not self.jugador2.cartas:\n",
    "                    break\n",
    "\n",
    "            print(f\"Puntaje: {self.jugador1.nombre} {self.jugador1.puntos}, {self.jugador2.nombre} {self.jugador2.puntos}\")\n",
    "            \n",
    "            if self.jugador1.puntos >= self.puntos_meta:\n",
    "                print(f\"{self.jugador1.nombre} ha ganado la partida!\")\n",
    "                break\n",
    "            elif self.jugador2.puntos >= self.puntos_meta:\n",
    "                print(f\"{self.jugador2.nombre} ha ganado la partida!\")\n",
    "                break\n",
    "\n",
    "p = Partida(Jugador(\"Juan\"), Jugador(\"Pedro\"))\n",
    "p.jugar()"
   ]
  }
 ],
 "metadata": {
  "kernelspec": {
   "display_name": "Python 3",
   "language": "python",
   "name": "python3"
  },
  "language_info": {
   "codemirror_mode": {
    "name": "ipython",
    "version": 3
   },
   "file_extension": ".py",
   "mimetype": "text/x-python",
   "name": "python",
   "nbconvert_exporter": "python",
   "pygments_lexer": "ipython3",
   "version": "3.12.5"
  }
 },
 "nbformat": 4,
 "nbformat_minor": 2
}
