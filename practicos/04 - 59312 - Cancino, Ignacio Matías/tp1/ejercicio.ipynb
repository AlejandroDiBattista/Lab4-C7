{
 "cells": [
  {
   "cell_type": "markdown",
   "metadata": {},
   "source": [
    "# Trabajo práctico 1\n",
    "\n"
   ]
  },
  {
   "cell_type": "markdown",
   "metadata": {},
   "source": [
    "## Ejercicio 1 \n",
    "\n",
    "Escribe una función en Python que procese una lista de cadenas de texto y realice las siguientes acciones:\n",
    "\n",
    "1. Tomar una lista de frases y convertir cada frase en una lista de palabras.\n",
    "1. Luego, debe crear una nueva lista que contenga la cantidad de palabras en cada frase.\n",
    "1. Tambien debe crear un lista que contenga la cantidad de caracteres en cada frase.\n",
    "1. Finalmente, debe imprimir cada frase original junto con la cantidad de palabras que contiene.\n",
    "Ejemplo de uso:\n",
    "```python\n",
    "    frases = [\n",
    "        \"Python es un lenguaje de programación\",\n",
    "        \"Me gusta resolver problemas con código\",\n",
    "        \"Las listas y los bucles son muy útiles\"\n",
    "    ]\n",
    "\n",
    "    procesar_frases(frases)\n",
    "```\n",
    "\n",
    "ejemplo de salida:\n",
    "```bash\n",
    "    La frase: \"Python es un...\"\n",
    "    tiene 6 palabras y 38 caracteres\n",
    "```\n"
   ]
  },
  {
   "cell_type": "code",
   "execution_count": 3,
   "metadata": {},
   "outputs": [
    {
     "name": "stdout",
     "output_type": "stream",
     "text": [
      "La frase: \"Python es un lenguaje de programación\"\n",
      "tiene 6 palabras y 37 caracteres\n",
      "\n",
      "La frase: \"Me gusta resolver problemas con código\"\n",
      "tiene 6 palabras y 38 caracteres\n",
      "\n",
      "La frase: \"Las listas y los bucles son muy útiles\"\n",
      "tiene 8 palabras y 38 caracteres\n",
      "\n"
     ]
    }
   ],
   "source": [
    "# Implementar\n",
    "def procesar_frases(frases):\n",
    "    for frase in frases:\n",
    "        palabras = frase.split()\n",
    "        cantidad_palabras = len(palabras)\n",
    "        cantidad_caracteres = len(frase)\n",
    "        print(f'La frase: \"{frase}\"')\n",
    "        print(f'tiene {cantidad_palabras} palabras y {cantidad_caracteres} caracteres\\n')\n",
    "frases = [\"Python es un lenguaje de programación\",\n",
    "    \"Me gusta resolver problemas con código\",\n",
    "    \"Las listas y los bucles son muy útiles\"]\n",
    "procesar_frases(frases)"
   ]
  },
  {
   "cell_type": "markdown",
   "metadata": {},
   "source": [
    "## Ejercicio 2\n",
    "\n",
    "Escribe una función en Python que encuentre los valores de `a`, `b`, y `c` para que la función cuadrática `f(x) = aX^2 + bX + c` pase exactamente por los siguientes puntos:\n",
    "\n",
    "| x  | y  |\n",
    "|---:|---:|\n",
    "|  0 |  0 |\n",
    "|  1 |  8 |\n",
    "|  2 | 12 |\n",
    "|  3 | 12 |\n",
    "|  5 |  0 |\n",
    "\n",
    "### Requisitos:\n",
    "- La función debe explorar posibles valores de `a`, `b`, y `c` utilizando un método de prueba y error.\n",
    "- Debe devolver los valores que hagan que la diferencia entre la función `f(x)` y los valores medidos `y` sea exactamente cero para cada punto.\n",
    "\n",
    "> **Pista**: Los valores de `a`, `b`, y `c` son números pequeños."
   ]
  },
  {
   "cell_type": "code",
   "execution_count": 2,
   "metadata": {},
   "outputs": [
    {
     "name": "stdout",
     "output_type": "stream",
     "text": [
      "Los coeficientes que mejor ajustan son: a = -2.0, b = 9.9, c = 0.2\n"
     ]
    }
   ],
   "source": [
    "# Implementar\n",
    "puntos_x = [0, 1, 2, 3, 5]\n",
    "puntos_y = [0, 8, 12, 12, 0]\n",
    "\n",
    "def error_total(a, b, c, puntos_x, puntos_y):\n",
    "    error = 0\n",
    "    for i in range(len(puntos_x)):\n",
    "        x = puntos_x[i]\n",
    "        y_real = puntos_y[i]\n",
    "        y_pred = a * x**2 + b * x + c\n",
    "        error += abs(y_pred - y_real)\n",
    "    return error\n",
    "\n",
    "def encontrar_coeficientes(puntos_x, puntos_y):\n",
    "    mejor_error = float('inf')\n",
    "    mejor_a, mejor_b, mejor_c = 0, 0, 0\n",
    "    paso = 0.1  # Aumentamos el paso para que explore más rápido\n",
    "\n",
    "    rango_a = range(-100, 100)  # Reducimos el rango\n",
    "    rango_b = range(-100, 100)\n",
    "    rango_c = range(-100, 100)\n",
    "\n",
    "    for a in rango_a:\n",
    "        a_real = a * paso\n",
    "        for b in rango_b:\n",
    "            b_real = b * paso\n",
    "            for c in rango_c:\n",
    "                c_real = c * paso\n",
    "                error = error_total(a_real, b_real, c_real, puntos_x, puntos_y)\n",
    "                if error == 0:\n",
    "                    return a_real, b_real, c_real\n",
    "                if error < mejor_error:\n",
    "                    mejor_error = error\n",
    "                    mejor_a, mejor_b, mejor_c = a_real, b_real, c_real\n",
    "\n",
    "    return mejor_a, mejor_b, mejor_c\n",
    "\n",
    "a, b, c = encontrar_coeficientes(puntos_x, puntos_y)\n",
    "print(f\"Los coeficientes que mejor ajustan son: a = {a}, b = {b}, c = {c}\")\n"
   ]
  }
 ],
 "metadata": {
  "kernelspec": {
   "display_name": "Python 3",
   "language": "python",
   "name": "python3"
  },
  "language_info": {
   "codemirror_mode": {
    "name": "ipython",
    "version": 3
   },
   "file_extension": ".py",
   "mimetype": "text/x-python",
   "name": "python",
   "nbconvert_exporter": "python",
   "pygments_lexer": "ipython3",
   "version": "3.12.5"
  }
 },
 "nbformat": 4,
 "nbformat_minor": 2
}
