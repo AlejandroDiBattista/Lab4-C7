{
 "cells": [
  {
   "cell_type": "markdown",
   "metadata": {},
   "source": [
    "#TP3"
   ]
  },
  {
   "cell_type": "markdown",
   "metadata": {},
   "source": [
    "## Ejercicio 1: Cargar Datos de ventas.\n",
    "\n",
    "El archivo datos.dat contiene el registro de las ventas realizadas.\n",
    "\n",
    "Tiene un formato de ancho fijo:\n",
    "- fecha:    10 lugares\n",
    "- producto: 30 lugares\n",
    "- precio:   10 lugares\n",
    "- cantidad:  5 lugares\n",
    "\n",
    "hacer una funcion que carge los en una lista de diccionarios. \n",
    "\n",
    "nota: con \n",
    "```python\n",
    "lineas = open(\"datos.dat\", \"r\").readlines() \n",
    "```\n",
    "puede obtener la lista de string de todos los datos "
   ]
  },
  {
   "cell_type": "code",
   "execution_count": 14,
   "metadata": {},
   "outputs": [
    {
     "name": "stdout",
     "output_type": "stream",
     "text": [
      "[{'fecha': '2024-08-27', 'producto': 'Mirinda', 'precio': 1510, 'cantidad': 14}, {'fecha': '2024-08-27', 'producto': 'Mirinda', 'precio': 1560, 'cantidad': 12}, {'fecha': '2024-08-28', 'producto': 'Torasso', 'precio': 940, 'cantidad': 8}, {'fecha': '2024-08-29', 'producto': 'Pepsi Cola', 'precio': 1210, 'cantidad': 10}, {'fecha': '2024-08-30', 'producto': 'Mirinda', 'precio': 1520, 'cantidad': 1}, {'fecha': '2024-09-01', 'producto': 'Mirinda', 'precio': 1550, 'cantidad': 15}, {'fecha': '2024-09-01', 'producto': 'Sprite', 'precio': 810, 'cantidad': 4}, {'fecha': '2024-09-02', 'producto': 'Coca Cola', 'precio': 1100, 'cantidad': 4}, {'fecha': '2024-09-02', 'producto': 'Pepsi Cola', 'precio': 1220, 'cantidad': 13}, {'fecha': '2024-09-02', 'producto': 'Torasso', 'precio': 910, 'cantidad': 5}, {'fecha': '2024-09-02', 'producto': 'Torasso', 'precio': 920, 'cantidad': 3}, {'fecha': '2024-09-03', 'producto': 'Coca Cola', 'precio': 1020, 'cantidad': 8}, {'fecha': '2024-09-03', 'producto': 'Mirinda', 'precio': 1570, 'cantidad': 7}, {'fecha': '2024-09-03', 'producto': 'Mirinda', 'precio': 1590, 'cantidad': 2}, {'fecha': '2024-09-04', 'producto': 'Pepsi Cola', 'precio': 1220, 'cantidad': 13}, {'fecha': '2024-09-05', 'producto': 'Mirinda', 'precio': 1500, 'cantidad': 3}, {'fecha': '2024-09-05', 'producto': 'Pepsi Cola', 'precio': 1300, 'cantidad': 5}, {'fecha': '2024-09-06', 'producto': 'Coca Cola', 'precio': 1080, 'cantidad': 1}, {'fecha': '2024-09-06', 'producto': 'Sprite', 'precio': 860, 'cantidad': 12}, {'fecha': '2024-09-06', 'producto': 'Torasso', 'precio': 930, 'cantidad': 3}, {'fecha': '2024-09-07', 'producto': 'Coca Cola', 'precio': 1080, 'cantidad': 14}, {'fecha': '2024-09-07', 'producto': 'Sprite', 'precio': 870, 'cantidad': 13}, {'fecha': '2024-09-08', 'producto': 'Coca Cola', 'precio': 1040, 'cantidad': 10}, {'fecha': '2024-09-08', 'producto': 'Mirinda', 'precio': 1580, 'cantidad': 2}, {'fecha': '2024-09-08', 'producto': 'Pepsi Cola', 'precio': 1240, 'cantidad': 9}, {'fecha': '2024-09-09', 'producto': 'Mirinda', 'precio': 1500, 'cantidad': 3}, {'fecha': '2024-09-09', 'producto': 'Sprite', 'precio': 850, 'cantidad': 9}, {'fecha': '2024-09-10', 'producto': 'Mirinda', 'precio': 1590, 'cantidad': 8}, {'fecha': '2024-09-10', 'producto': 'Pepsi Cola', 'precio': 1250, 'cantidad': 12}, {'fecha': '2024-09-11', 'producto': 'Sprite', 'precio': 810, 'cantidad': 6}, {'fecha': '2024-09-11', 'producto': 'Sprite', 'precio': 820, 'cantidad': 14}, {'fecha': '2024-09-12', 'producto': 'Coca Cola', 'precio': 1080, 'cantidad': 4}, {'fecha': '2024-09-13', 'producto': 'Mirinda', 'precio': 1580, 'cantidad': 5}, {'fecha': '2024-09-13', 'producto': 'Pepsi Cola', 'precio': 1250, 'cantidad': 13}, {'fecha': '2024-09-14', 'producto': 'Coca Cola', 'precio': 1080, 'cantidad': 15}, {'fecha': '2024-09-14', 'producto': 'Pepsi Cola', 'precio': 1270, 'cantidad': 14}, {'fecha': '2024-09-15', 'producto': 'Coca Cola', 'precio': 1100, 'cantidad': 1}, {'fecha': '2024-09-15', 'producto': 'Mirinda', 'precio': 1500, 'cantidad': 13}, {'fecha': '2024-09-15', 'producto': 'Sprite', 'precio': 870, 'cantidad': 14}, {'fecha': '2024-09-15', 'producto': 'Torasso', 'precio': 900, 'cantidad': 13}]\n"
     ]
    }
   ],
   "source": [
    "def cargar_datos():\n",
    "    datos = []\n",
    "    lineas = open(\"datos.dat\").readlines()\n",
    "    for linea in lineas:\n",
    "        datos.append({\n",
    "            \"fecha\": linea[:10].strip(),\n",
    "            \"producto\": linea[10:40].strip(),\n",
    "            \"precio\": int(linea[40:50].strip()),\n",
    "            \"cantidad\": int(linea[50:].strip())\n",
    "        })\n",
    "    return datos\n",
    "\n",
    "\n",
    "datos = cargar_datos()\n",
    "print(datos)"
   ]
  },
  {
   "cell_type": "markdown",
   "metadata": {},
   "source": [
    "## Ejercicio 2: Calcular el total de ventas.\n",
    "\n",
    "Hacer una funcion que sume los importes vendidos (precio * cantidad) y las cantidades"
   ]
  },
  {
   "cell_type": "code",
   "execution_count": 15,
   "metadata": {},
   "outputs": [
    {
     "name": "stdout",
     "output_type": "stream",
     "text": [
      "Las ventas fueron de $392730.00 en 335 unidades\n"
     ]
    }
   ],
   "source": [
    "def calcular_totales(datos):\n",
    "    total_importe = 0\n",
    "    total_cantidad = 0\n",
    "    \n",
    "    \n",
    "    for venta in datos:\n",
    "        \n",
    "        importe = venta['precio'] * venta['cantidad']\n",
    "        \n",
    "        \n",
    "        total_importe = total_importe + importe\n",
    "        total_cantidad = total_cantidad + venta['cantidad']\n",
    "    \n",
    "  \n",
    "    return total_importe, total_cantidad\n",
    "\n",
    "\n",
    "importe, cantidad = calcular_totales(datos)\n",
    "print(f\"Las ventas fueron de ${importe:.2f} en {cantidad} unidades\")\n"
   ]
  },
  {
   "cell_type": "markdown",
   "metadata": {},
   "source": [
    "## Ejercicio 3: Listar las unidades vendidas.\n",
    "\n",
    "Listar cuantas unidades se vendieron en total para cada producto"
   ]
  },
  {
   "cell_type": "code",
   "execution_count": 16,
   "metadata": {},
   "outputs": [],
   "source": [
    "def unidades_vendidas(datos):\n",
    "    total_unidades = {}\n",
    "    \n",
    "    \n",
    "    for venta in datos:\n",
    "        producto = venta['producto']  \n",
    "        cantidad = venta['cantidad']  \n",
    "        \n",
    "        \n",
    "        if producto in total_unidades:\n",
    "            total_unidades[producto] = total_unidades[producto] + cantidad\n",
    "        else:\n",
    "            \n",
    "            total_unidades[producto] = cantidad\n",
    "    \n",
    "    return total_unidades\n",
    "\n",
    "def listar_ventas(ventas):\n",
    "    \n",
    "    for producto in ventas:\n",
    "        print(producto + \": \" + str(ventas[producto]) + \" unidades vendidas\")\n",
    "\n"
   ]
  },
  {
   "cell_type": "markdown",
   "metadata": {},
   "source": [
    "##  Ejercicio 4: Listar el precio promedio por producto.\n",
    "\n",
    "Hacer un listado del precio promedio por productos."
   ]
  },
  {
   "cell_type": "code",
   "execution_count": 8,
   "metadata": {},
   "outputs": [],
   "source": [
    "def precio_promedio(datos):\n",
    "    total_precios = {}\n",
    "    conteo_productos = {}\n",
    "    \n",
    "    \n",
    "    for venta in datos:\n",
    "        producto = venta['producto']\n",
    "        precio = venta['precio']\n",
    "        \n",
    "        \n",
    "        if producto in total_precios:\n",
    "            total_precios[producto] = total_precios[producto] + precio\n",
    "            conteo_productos[producto] = conteo_productos[producto] + 1\n",
    "        else:\n",
    "            \n",
    "            total_precios[producto] = precio\n",
    "            conteo_productos[producto] = 1\n",
    "    \n",
    "    \n",
    "    promedios = {}\n",
    "    for producto in total_precios:\n",
    "        promedios[producto] = total_precios[producto] / conteo_productos[producto]\n",
    "    \n",
    "    return promedios\n",
    "\n",
    "def listar_precios(precios):\n",
    "    \n",
    "    for producto in precios:\n",
    "        print(producto + \": $\" + str(round(precios[producto], 2)))\n"
   ]
  },
  {
   "cell_type": "markdown",
   "metadata": {},
   "source": [
    "### Ejercicio 5: Ranking de productos\n",
    "\n",
    "Realizar un listado de los 3 productos mas vendidos ordenados la cantidad de unidades vendidas (ordenadas de mayor a menor)\n"
   ]
  },
  {
   "cell_type": "code",
   "execution_count": 17,
   "metadata": {},
   "outputs": [
    {
     "name": "stdout",
     "output_type": "stream",
     "text": [
      "Ranking de productos más vendidos:\n",
      "Pepsi Cola: 89 unidades\n",
      "Mirinda: 85 unidades\n",
      "Sprite: 72 unidades\n"
     ]
    }
   ],
   "source": [
    "def ranking_productos(datos, top=3):\n",
    "    \n",
    "    productos_vendidos = {}\n",
    "    \n",
    "    for venta in datos:\n",
    "        producto = venta['producto']\n",
    "        cantidad = venta['cantidad']\n",
    "        \n",
    "        \n",
    "        if producto in productos_vendidos:\n",
    "            productos_vendidos[producto] += cantidad\n",
    "        else:\n",
    "            productos_vendidos[producto] = cantidad\n",
    "    \n",
    "    \n",
    "    ranking = sorted(productos_vendidos.items(), key=lambda x: x[1], reverse=True)\n",
    "    \n",
    "    \n",
    "    return ranking[:top]\n",
    "\n",
    "def listar_ranking(ranking):\n",
    "    \n",
    "    print(\"Ranking de productos más vendidos:\")\n",
    "    for producto, cantidad in ranking:\n",
    "        print(f\"{producto}: {cantidad} unidades\")\n",
    "\n",
    "\n",
    "ranking = ranking_productos(datos)\n",
    "listar_ranking(ranking)\n"
   ]
  },
  {
   "cell_type": "markdown",
   "metadata": {},
   "source": [
    "### Ejercicio 6: Listar las ventas por mes\n",
    "\n",
    "Realizar un listado del total de unidades vendidas por productos separada por mes."
   ]
  },
  {
   "cell_type": "code",
   "execution_count": 18,
   "metadata": {},
   "outputs": [
    {
     "name": "stdout",
     "output_type": "stream",
     "text": [
      "Mes 08:\n",
      "  Mirinda: 27 unidades\n",
      "  Torasso: 8 unidades\n",
      "  Pepsi Cola: 10 unidades\n",
      "Mes 09:\n",
      "  Mirinda: 58 unidades\n",
      "  Sprite: 72 unidades\n",
      "  Coca Cola: 57 unidades\n",
      "  Pepsi Cola: 79 unidades\n",
      "  Torasso: 24 unidades\n"
     ]
    }
   ],
   "source": [
    "def ventas_por_mes(datos):\n",
    "    \n",
    "    ventas_mensuales = {}\n",
    "    \n",
    "    for venta in datos:\n",
    "        \n",
    "        fecha = venta['fecha']\n",
    "        mes = fecha[5:7]  \n",
    "        \n",
    "        producto = venta['producto']\n",
    "        cantidad = venta['cantidad']\n",
    "        \n",
    "        \n",
    "        if mes not in ventas_mensuales:\n",
    "            ventas_mensuales[mes] = {}\n",
    "        \n",
    "        \n",
    "        if producto in ventas_mensuales[mes]:\n",
    "            ventas_mensuales[mes][producto] += cantidad\n",
    "        else:\n",
    "            ventas_mensuales[mes][producto] = cantidad\n",
    "    \n",
    "    return ventas_mensuales\n",
    "\n",
    "def listar_ventas_mensuales(ventas):\n",
    "    \n",
    "    for mes, productos in ventas.items():\n",
    "        print(f\"Mes {mes}:\")\n",
    "        for producto, cantidad in productos.items():\n",
    "            print(f\"  {producto}: {cantidad} unidades\")\n",
    "\n",
    "\n",
    "ventas = ventas_por_mes(datos)\n",
    "listar_ventas_mensuales(ventas)\n"
   ]
  },
  {
   "cell_type": "markdown",
   "metadata": {},
   "source": [
    "### Ejercicio 7: Informe general\n",
    "\n",
    "Mostrar un listado de productos ordenados alfabeticamente que contengan el precio promedio, la cantidad de unidades vendidas y el importe total vendido para cada producto"
   ]
  },
  {
   "cell_type": "code",
   "execution_count": 19,
   "metadata": {},
   "outputs": [
    {
     "name": "stdout",
     "output_type": "stream",
     "text": [
      "Producto                       Precio Promedio      Cantidad Vendida     Importe Total       \n",
      "==========================================================================================\n",
      "Coca Cola                      1100.00              4                    4400.00             \n",
      "Mirinda                        1538.81              42                   64630.00            \n",
      "Pepsi Cola                     1215.65              23                   27960.00            \n",
      "Sprite                         810.00               4                    3240.00             \n",
      "Torasso                        928.46               13                   12070.00            \n"
     ]
    }
   ],
   "source": [
    "def resumen_ventas(datos):\n",
    "    resumen = {}\n",
    "\n",
    "    for venta in datos:\n",
    "        producto = venta['producto']\n",
    "        precio = venta['precio']\n",
    "        cantidad = venta['cantidad']\n",
    "        importe = precio * cantidad\n",
    "\n",
    "        \n",
    "        if producto in resumen:\n",
    "            resumen[producto]['total_precio'] += importe\n",
    "            resumen[producto]['total_cantidad'] += cantidad\n",
    "        else:\n",
    "            \n",
    "            resumen[producto] = {\n",
    "                'total_precio': importe,\n",
    "                'total_cantidad': cantidad,\n",
    "            }\n",
    "\n",
    "    # Calcular \n",
    "    for producto, info in resumen.items():\n",
    "        total_precio = info['total_precio']\n",
    "        total_cantidad = info['total_cantidad']\n",
    "        resumen[producto]['precio_promedio'] = total_precio / total_cantidad\n",
    "\n",
    "    return resumen\n",
    "\n",
    "def informe_ventas(resumen):\n",
    "    # Obtener \n",
    "    productos_ordenados = sorted(resumen.keys())\n",
    "\n",
    "    print(f\"{'Producto':<30} {'Precio Promedio':<20} {'Cantidad Vendida':<20} {'Importe Total':<20}\")\n",
    "    print(\"=\"*90)\n",
    "\n",
    "    for producto in productos_ordenados:\n",
    "        info = resumen[producto]\n",
    "        precio_promedio = info['precio_promedio']\n",
    "        total_cantidad = info['total_cantidad']\n",
    "        total_precio = info['total_precio']\n",
    "\n",
    "        \n",
    "        print(f\"{producto:<30} {precio_promedio:<20.2f} {total_cantidad:<20} {total_precio:<20.2f}\")\n",
    "\n",
    "# ejemplo\n",
    "datos = [\n",
    "    {'producto': 'Mirinda', 'precio': 1510, 'cantidad': 14},\n",
    "    {'producto': 'Mirinda', 'precio': 1560, 'cantidad': 12},\n",
    "    {'producto': 'Torasso', 'precio': 940, 'cantidad': 8},\n",
    "    {'producto': 'Pepsi Cola', 'precio': 1210, 'cantidad': 10},\n",
    "    {'producto': 'Mirinda', 'precio': 1520, 'cantidad': 1},\n",
    "    {'producto': 'Mirinda', 'precio': 1550, 'cantidad': 15},\n",
    "    {'producto': 'Sprite', 'precio': 810, 'cantidad': 4},\n",
    "    {'producto': 'Coca Cola', 'precio': 1100, 'cantidad': 4},\n",
    "    {'producto': 'Pepsi Cola', 'precio': 1220, 'cantidad': 13},\n",
    "    {'producto': 'Torasso', 'precio': 910, 'cantidad': 5},\n",
    "    \n",
    "]\n",
    "\n",
    "#  el resumen e informe de ventas\n",
    "resumen = resumen_ventas(datos)\n",
    "informe_ventas(resumen)\n",
    "\n"
   ]
  }
 ],
 "metadata": {
  "kernelspec": {
   "display_name": "Python 3",
   "language": "python",
   "name": "python3"
  },
  "language_info": {
   "codemirror_mode": {
    "name": "ipython",
    "version": 3
   },
   "file_extension": ".py",
   "mimetype": "text/x-python",
   "name": "python",
   "nbconvert_exporter": "python",
   "pygments_lexer": "ipython3",
   "version": "3.12.6"
  }
 },
 "nbformat": 4,
 "nbformat_minor": 2
}
