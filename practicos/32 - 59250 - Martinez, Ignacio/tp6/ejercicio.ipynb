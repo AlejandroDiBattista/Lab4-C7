{
 "cells": [
  {
   "cell_type": "markdown",
   "metadata": {},
   "source": [
    "# TP6\n",
    "\n",
    "### `Resolver usando Pandas`\n",
    "\n",
    "Resolver los ejercicios del TP3 utilizando la librería Pandas."
   ]
  },
  {
   "cell_type": "markdown",
   "metadata": {},
   "source": [
    "### Ejercicio 1: Cargar Datos de ventas.\n",
    "\n",
    "El archivo datos.dat contiene el registro de las ventas realizadas.\n",
    "\n",
    "Tiene un formato de ancho fijo:\n",
    "- `fecha`:    10 lugares\n",
    "- `producto`: 30 lugares\n",
    "- `precio`:   10 lugares\n",
    "- `cantidad`:  5 lugares\n",
    "\n",
    "Hacer una funcion que cargue los datos en un DataFrame de Pandas."
   ]
  },
  {
   "cell_type": "code",
   "execution_count": 2,
   "metadata": {},
   "outputs": [
    {
     "ename": "ModuleNotFoundError",
     "evalue": "No module named 'pandas'",
     "output_type": "error",
     "traceback": [
      "\u001b[1;31m---------------------------------------------------------------------------\u001b[0m",
      "\u001b[1;31mModuleNotFoundError\u001b[0m                       Traceback (most recent call last)",
      "Cell \u001b[1;32mIn[2], line 1\u001b[0m\n\u001b[1;32m----> 1\u001b[0m \u001b[38;5;28;01mimport\u001b[39;00m \u001b[38;5;21;01mpandas\u001b[39;00m \u001b[38;5;28;01mas\u001b[39;00m \u001b[38;5;21;01mpd\u001b[39;00m\n\u001b[0;32m      3\u001b[0m \u001b[38;5;28;01mdef\u001b[39;00m \u001b[38;5;21mcargar_datos\u001b[39m():\n\u001b[0;32m      4\u001b[0m     \u001b[38;5;66;03m# Definir las longitudes de las columnas en el archivo\u001b[39;00m\n\u001b[0;32m      5\u001b[0m     colspecs \u001b[38;5;241m=\u001b[39m [(\u001b[38;5;241m0\u001b[39m, \u001b[38;5;241m10\u001b[39m), (\u001b[38;5;241m10\u001b[39m, \u001b[38;5;241m40\u001b[39m), (\u001b[38;5;241m40\u001b[39m, \u001b[38;5;241m50\u001b[39m), (\u001b[38;5;241m50\u001b[39m, \u001b[38;5;241m55\u001b[39m)]  \u001b[38;5;66;03m# Rango de posiciones para cada columna\u001b[39;00m\n",
      "\u001b[1;31mModuleNotFoundError\u001b[0m: No module named 'pandas'"
     ]
    }
   ],
   "source": [
    "import pandas as pd\n",
    "\n",
    "def cargar_datos():\n",
    "    \n",
    "    colspecs = [(0, 10), (10, 40), (40, 50), (50, 55)]  \n",
    "    nombres_columnas = ['fecha', 'producto', 'precio', 'cantidad']  \n",
    "    \n",
    "    df = pd.read_fwf('datos.dat', colspecs=colspecs, names=nombres_columnas)\n",
    "    \n",
    "    return df\n",
    "\n",
    "# Cargar los datos\n",
    "datos = cargar_datos()\n",
    "print(datos)\n"
   ]
  },
  {
   "cell_type": "markdown",
   "metadata": {},
   "source": [
    "### Ejercicio 2: Calcular el total de ventas.\n",
    "Hacer una función que sume los importes vendidos (precio * cantidad) y las cantidades.\n"
   ]
  },
  {
   "cell_type": "code",
   "execution_count": null,
   "metadata": {},
   "outputs": [],
   "source": [
    "import pandas as pd\n",
    "\n",
    "\n",
    "def calcular_totales(datos):\n",
    "    \n",
    "    datos['importe'] = datos['precio'] * datos['cantidad']\n",
    "    \n",
    "    total_importe = datos['importe'].sum()\n",
    "    \n",
    "    \n",
    "    total_cantidad = datos['cantidad'].sum()\n",
    "    \n",
    "    \n",
    "    return total_importe, total_cantidad\n",
    "\n",
    "\n",
    "importe, cantidad = calcular_totales(datos)\n",
    "\n",
    "\n",
    "print(f\"Las ventas fueron de ${importe:.2f} en {cantidad} unidades\")\n"
   ]
  },
  {
   "cell_type": "markdown",
   "metadata": {},
   "source": [
    "### Ejercicio 3: Listar las unidades vendidas.\n",
    "Listar cuántas unidades se vendieron en total para cada producto\n"
   ]
  },
  {
   "cell_type": "code",
   "execution_count": null,
   "metadata": {},
   "outputs": [],
   "source": [
    "def unidades_vendidas(datos):\n",
    "    \n",
    "    total_unidades = datos.groupby('producto')['cantidad'].sum()\n",
    "    \n",
    "    \n",
    "    return total_unidades\n",
    "\n",
    "\n",
    "print(unidades_vendidas(datos))"
   ]
  },
  {
   "cell_type": "markdown",
   "metadata": {},
   "source": [
    "###  Ejercicio 4: Listar el precio promedio por producto.\n",
    "Hacer un listado del precio promedio por producto.\n"
   ]
  },
  {
   "cell_type": "code",
   "execution_count": null,
   "metadata": {},
   "outputs": [],
   "source": [
    "def precio_promedio(datos):\n",
    "    \n",
    "    promedio_precios = datos.groupby('producto')['precio'].mean()\n",
    "    \n",
    "    \n",
    "    return promedio_precios\n",
    "\n",
    "\n",
    "print(precio_promedio(datos))"
   ]
  },
  {
   "cell_type": "markdown",
   "metadata": {},
   "source": [
    "### Ejercicio 5: Ranking de productos\n",
    "Realizar un listado de los 3 productos más vendidos ordenados por la cantidad de unidades vendidas (ordenadas de mayor a menor)\n"
   ]
  },
  {
   "cell_type": "code",
   "execution_count": null,
   "metadata": {},
   "outputs": [],
   "source": [
    "def ranking_productos(datos, top=3):\n",
    "    \n",
    "    total_vendido = datos.groupby('producto')['cantidad'].sum().sort_values(ascending=False)\n",
    "    \n",
    "    \n",
    "    ranking = total_vendido.head(top)\n",
    "    \n",
    "    \n",
    "    return ranking\n",
    "\n",
    "\n",
    "print(ranking_productos(datos))"
   ]
  },
  {
   "cell_type": "markdown",
   "metadata": {},
   "source": [
    "### Ejercicio 6: Listar las ventas por mes\n",
    "Realizar un listado del total de unidades vendidas por producto separado por mes.\n"
   ]
  },
  {
   "cell_type": "code",
   "execution_count": null,
   "metadata": {},
   "outputs": [],
   "source": [
    "def ventas_por_mes(datos):\n",
    "    \n",
    "    datos['mes'] = pd.to_datetime(datos['fecha'], format='%Y-%m-%d').dt.month\n",
    "    \n",
    "    \n",
    "    ventas_mensuales = datos.groupby(['producto', 'mes'])['cantidad'].sum().unstack().fillna(0)\n",
    "    \n",
    "    \n",
    "    return ventas_mensuales\n",
    "\n",
    "\n",
    "print(ventas_por_mes(datos))"
   ]
  },
  {
   "cell_type": "markdown",
   "metadata": {},
   "source": [
    "### Ejercicio 7: Informe general\n",
    "\n",
    "Mostrar un listado de productos ordenados alfabeticamente que contengan el precio promedio, la cantidad de unidades vendidas y el importe total vendido para cada producto"
   ]
  },
  {
   "cell_type": "code",
   "execution_count": null,
   "metadata": {},
   "outputs": [],
   "source": [
    "def resumen_ventas(datos):\n",
    "    \n",
    "    precio_promedio = datos.groupby('producto')['precio'].mean()\n",
    "    \n",
    "    \n",
    "    total_unidades = datos.groupby('producto')['cantidad'].sum()\n",
    "    \n",
    "    \n",
    "    datos['importe'] = datos['precio'] * datos['cantidad']\n",
    "    importe_total = datos.groupby('producto')['importe'].sum()\n",
    "    \n",
    "    \n",
    "    resumen = pd.DataFrame({\n",
    "        'Precio Promedio': precio_promedio,\n",
    "        'Unidades Vendidas': total_unidades,\n",
    "        'Importe Total Vendido': importe_total\n",
    "    })\n",
    "    \n",
    "    \n",
    "    resumen = resumen.sort_index()\n",
    "    \n",
    "    \n",
    "    return resumen\n",
    "\n",
    "\n",
    "print(resumen_ventas(datos))\n"
   ]
  },
  {
   "cell_type": "markdown",
   "metadata": {},
   "source": [
    "## `Resolver usando NumPy`\n",
    "## Resolver el ejercicio 2 del tp1 usando NumPy"
   ]
  },
  {
   "cell_type": "markdown",
   "metadata": {},
   "source": [
    "### Ejercicio 8\n",
    "\n",
    "Escribe una función en Python que encuentre los valores de `a`, `b`, y `c` para que la función cuadrática `f(x) = a x^2 + b x + c` pase exactamente por los siguientes puntos:\n",
    "\n",
    "| x  | y  |\n",
    "|---:|---:|\n",
    "|  0 |  0 |\n",
    "|  1 |  8 |\n",
    "|  2 | 12 |\n",
    "|  3 | 12 |\n",
    "|  5 |  0 |\n",
    "\n",
    "### Requisitos:\n",
    "- La función debe explorar posibles valores de `a`, `b`, y `c` utilizando un método de prueba y error.\n",
    "- Debe devolver los valores que hagan que la diferencia entre la función `f(x)` y los valores medidos `y` sea exactamente cero para cada punto.\n",
    "\n",
    "> **Pista**: Los valores de `a`, `b`, y `c` son números pequeños.\n",
    "\n",
    "La idea es implementar el mismo algoritmo que se uso en el TP1 pero usando NumPy en lugar de Python puro."
   ]
  },
  {
   "cell_type": "code",
   "execution_count": 4,
   "metadata": {},
   "outputs": [
    {
     "data": {
      "text/plain": [
       "(-2, 10, 0)"
      ]
     },
     "execution_count": 4,
     "metadata": {},
     "output_type": "execute_result"
    }
   ],
   "source": [
    "import numpy as np\n",
    "\n",
    "\n",
    "def f(x, coeficientes):\n",
    "    a, b, c = coeficientes\n",
    "    return a * x**2 + b * x + c\n",
    "\n",
    "\n",
    "def error(y, y_pred):\n",
    "    return np.abs(y - y_pred)\n",
    "\n",
    "\n",
    "X = np.array([0, 1, 2, 3, 5])\n",
    "Y = np.array([0, 8, 12, 12, 0])\n",
    "\n",
    "\n",
    "def buscar_coeficientes():\n",
    "    \n",
    "    coeficientes = np.random.rand(3) * 10 - 5  \n",
    "    tasa_aprendizaje = 0.01  \n",
    "    iteraciones = 10000  \n",
    "    mejor_error = float('inf')  \n",
    "    mejor_coeficientes = coeficientes  \n",
    "\n",
    "    \n",
    "    for i in range(iteraciones):\n",
    "        \n",
    "        Y_pred = f(X, coeficientes)\n",
    "        \n",
    "        error_total = np.sum(error(Y, Y_pred))\n",
    "\n",
    "        \n",
    "        if error_total < mejor_error:\n",
    "            mejor_error = error_total\n",
    "            mejor_coeficientes = coeficientes.copy()\n",
    "        \n",
    "        \n",
    "        perturbaciones = (np.random.rand(3) - 0.5) * tasa_aprendizaje\n",
    "        nuevos_coeficientes = coeficientes + perturbaciones\n",
    "        \n",
    "        \n",
    "        Y_pred_nuevo = f(X, nuevos_coeficientes)\n",
    "        error_total_nuevo = np.sum(error(Y, Y_pred_nuevo))\n",
    "\n",
    "        \n",
    "        if error_total_nuevo < mejor_error:\n",
    "            coeficientes = nuevos_coeficientes\n",
    "\n",
    "    return mejor_coeficientes\n",
    "\n",
    "\n",
    "coeficientes = buscar_coeficientes()\n",
    "print(f\"Coeficientes encontrados: a={coeficientes[0]:.4f}, b={coeficientes[1]:.4f}, c={coeficientes[2]:.4f}\")\n"
   ]
  },
  {
   "cell_type": "markdown",
   "metadata": {},
   "source": [
    "### Ejercicio 9: Resolver el ejercicio 3 del TP1 usando NumPy\n",
    "Buscar los coeficientes de la función que minimice la suma de los cuadrados de las diferencias entre los valores medidos y los valores de la función.\n",
    "\n",
    "1. Crear un array con los coeficientes elegidos al azar (usar `randint(-10,10,3)`).\n",
    "2. Calcular el valor de la función y el error correspondiente.\n",
    "3. Mientras que el error sea mayor a 1:\n",
    "    1. Definir nuevos coeficientes agregándoles un pequeño valor al azar a los coeficientes actuales (aprendizaje = 0.001).\n",
    "    2. Si el error para los nuevos coeficientes es menor que el anterior, reemplazar los coeficientes actuales por los nuevos.\n"
   ]
  },
  {
   "cell_type": "code",
   "execution_count": 121,
   "metadata": {},
   "outputs": [
    {
     "name": "stdout",
     "output_type": "stream",
     "text": [
      "Los coeficientes son [-1.781  8.961  0.615] y el error es 0.9958049999998968\n"
     ]
    },
    {
     "data": {
      "text/plain": [
       "array([-1.781,  8.961,  0.615])"
      ]
     },
     "execution_count": 121,
     "metadata": {},
     "output_type": "execute_result"
    }
   ],
   "source": [
    "import numpy as np\n",
    "from numpy.random import randint\n",
    "\n",
    "\n",
    "def f(x, coeficientes):\n",
    "    a, b, c = coeficientes\n",
    "    return a * x**2 + b * x + c\n",
    "\n",
    "\n",
    "def error(y, y_pred):\n",
    "    return np.sum((y - y_pred)**2)\n",
    "\n",
    "\n",
    "X = np.array([0, 1, 2, 3, 5])\n",
    "Y = np.array([0, 8, 12, 11, 1])\n",
    "\n",
    "\n",
    "def buscar_coeficientes():\n",
    "    \n",
    "    coeficientes = randint(-10, 10, 3)\n",
    "    tasa_aprendizaje = 0.001  \n",
    "    max_iteraciones = 100000  \n",
    "    error_actual = float('inf')  \n",
    "\n",
    "    \n",
    "    for _ in range(max_iteraciones):\n",
    "        \n",
    "        Y_pred = f(X, coeficientes)\n",
    "        \n",
    "        error_total = error(Y, Y_pred)\n",
    "\n",
    "        \n",
    "        if error_total < 1:\n",
    "            break\n",
    "\n",
    "        \n",
    "        nuevos_coeficientes = coeficientes + (np.random.rand(3) - 0.5) * tasa_aprendizaje\n",
    "        \n",
    "        \n",
    "        Y_pred_nuevo = f(X, nuevos_coeficientes)\n",
    "        error_total_nuevo = error(Y, Y_pred_nuevo)\n",
    "\n",
    "        \n",
    "        if error_total_nuevo < error_total:\n",
    "            coeficientes = nuevos_coeficientes\n",
    "            error_actual = error_total_nuevo\n",
    "\n",
    "    return coeficientes\n",
    "\n",
    "\n",
    "coeficientes = buscar_coeficientes()\n",
    "print(f\"Coeficientes encontrados: a={coeficientes[0]:.4f}, b={coeficientes[1]:.4f}, c={coeficientes[2]:.4f}\")\n"
   ]
  }
 ],
 "metadata": {
  "kernelspec": {
   "display_name": "Python 3",
   "language": "python",
   "name": "python3"
  },
  "language_info": {
   "codemirror_mode": {
    "name": "ipython",
    "version": 3
   },
   "file_extension": ".py",
   "mimetype": "text/x-python",
   "name": "python",
   "nbconvert_exporter": "python",
   "pygments_lexer": "ipython3",
   "version": "3.12.6"
  }
 },
 "nbformat": 4,
 "nbformat_minor": 2
}
