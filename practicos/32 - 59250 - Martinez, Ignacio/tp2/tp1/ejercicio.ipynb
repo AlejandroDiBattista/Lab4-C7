{
 "cells": [
  {
   "cell_type": "markdown",
   "metadata": {},
   "source": [
    "# Trabajo práctico 1\n",
    "\n"
   ]
  },
  {
   "cell_type": "markdown",
   "metadata": {},
   "source": [
    "## Ejercicio 1 \n",
    "\n",
    "Escribe una función en Python que procese una lista de cadenas de texto y realice las siguientes acciones:\n",
    "\n",
    "1. Tomar una lista de frases y convertir cada frase en una lista de palabras.\n",
    "1. Luego, debe crear una nueva lista que contenga la cantidad de palabras en cada frase.\n",
    "1. Tambien debe crear un lista que contenga la cantidad de caracteres en cada frase.\n",
    "1. Finalmente, debe imprimir cada frase original junto con la cantidad de palabras que contiene.\n",
    "Ejemplo de uso:\n",
    "```python\n",
    "    frases = [\n",
    "        \"Python es un lenguaje de programación\",\n",
    "        \"Me gusta resolver problemas con código\",\n",
    "        \"Las listas y los bucles son muy útiles\"\n",
    "    ]\n",
    "\n",
    "    procesar_frases(frases)\n",
    "```\n",
    "\n",
    "ejemplo de salida:\n",
    "```bash\n",
    "    La frase: \"Python es un...\"\n",
    "    tiene 6 palabras y 38 caracteres\n",
    "```\n"
   ]
  },
  {
   "cell_type": "code",
   "execution_count": null,
   "metadata": {},
   "outputs": [],
   "source": [
    "# Implementar\n",
    "# Implementar\n",
    "def Frases (frases):\n",
    "    \n",
    "    #Creamos las listas\n",
    "    palabras_por_frase = []\n",
    "    caracters_por_frase = []\n",
    "    \n",
    "    \n",
    "    #recorremos cada frase en la lista\n",
    "    for frase in frases:\n",
    "        palabras = frase.split()\n",
    "        \n",
    "        #ahora cobtamos las palabras \n",
    "        cantidad_palabras = len (palabras)\n",
    "        cantidad_caracteres = len(frase)\n",
    "        \n",
    "        #ahora quiero probar los resultados\n",
    "        palabras_por_frase.append(cantidad_palabras)\n",
    "        caracters_por_frase.append (cantidad_caracteres)\n",
    "        \n",
    "        #por ultimo imprimiria la frase \n",
    "        print (f`la frase: \"{frase}\" tiene {cantidad_palabras} palabras y {cantidad_caracteres} caracteres. ´)\n",
    "        \n",
    "        #como ejemplo seria\n",
    "        frases = [\n",
    "            \n",
    "        \"Python es un lenguaje de programación\",\n",
    "        \"Me gusta resolver problemas con código\",\n",
    "        \"Las listas y los bucles son muy útiles\"\n",
    "        ]\n",
    "        Frases (frases)"
   ]
  },
  {
   "cell_type": "markdown",
   "metadata": {},
   "source": [
    "## Ejercicio 2\n",
    "\n",
    "Escribe una función en Python que encuentre los valores de `a`, `b`, y `c` para que la función cuadrática `f(x) = aX^2 + bX + c` pase exactamente por los siguientes puntos:\n",
    "\n",
    "| x  | y  |\n",
    "|---:|---:|\n",
    "|  0 |  0 |\n",
    "|  1 |  8 |\n",
    "|  2 | 12 |\n",
    "|  3 | 12 |\n",
    "|  5 |  0 |\n",
    "\n",
    "### Requisitos:\n",
    "- La función debe explorar posibles valores de `a`, `b`, y `c` utilizando un método de prueba y error.\n",
    "- Debe devolver los valores que hagan que la diferencia entre la función `f(x)` y los valores medidos `y` sea exactamente cero para cada punto.\n",
    "\n",
    "> **Pista**: Los valores de `a`, `b`, y `c` son números pequeños."
   ]
  },
  {
   "cell_type": "code",
   "execution_count": 5,
   "metadata": {},
   "outputs": [
    {
     "name": "stdout",
     "output_type": "stream",
     "text": [
      "La funcion cuadratica es: f(x) = -2x^2 + 10x + 0\n"
     ]
    }
   ],
   "source": [
    "# Implementar\n",
    "# Implementar\n",
    "def Coeficientes():\n",
    "    #aqui quiero hacer algunas pruebas con la logica que arme\n",
    "    \n",
    "    for a in range (-10, 11):\n",
    "        for b in range(-10, 11):\n",
    "            for c in range (-10, 11):\n",
    "#ahora quiero probar de calcular los valores \n",
    "            f0 = a*(0**2) + b*0 + c  \n",
    "            f1 = a*(1**2) + b*1 + c  \n",
    "            f2 = a*(2**2) + b*2 + c  \n",
    "            f3 = a*(3**2) + b*3 + c  \n",
    "            f5 = a*(5**2) + b*5 + c   \n",
    "        \n",
    "#Ahora quiero verificar si la funciones coinciden \n",
    "\n",
    "if f0 == 0 and f1 == 8 and f2 == 12 and f3 == 12 and f5 == 0: \n",
    "print (\"los calores que cumplen con los puntos serian:\") \n",
    "print (\"a =\", a, \"b =\", b, \"c =\", c)\n",
    "return    \n",
    "\n",
    "#si no encuentro la solucion diria que:\n",
    "\n",
    "print(\"No se encontraron los coeficionetes en el rango dado.\") \n",
    "# Llammos a la funcion \n",
    "Coeficientes()"
   ]
  }
 ],
 "metadata": {
  "language_info": {
   "name": "python"
  }
 },
 "nbformat": 4,
 "nbformat_minor": 2
}
