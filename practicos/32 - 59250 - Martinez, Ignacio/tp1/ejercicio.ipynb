{
 "cells": [
  {
   "cell_type": "markdown",
   "metadata": {},
   "source": [
    "# Trabajo práctico 1\n",
    "\n"
   ]
  },
  {
   "cell_type": "markdown",
   "metadata": {},
   "source": [
    "## Ejercicio 1 \n",
    "\n",
    "Escribe una función en Python que procese una lista de cadenas de texto y realice las siguientes acciones:\n",
    "\n",
    "1. La función debe tomar una lista de frases y convertir cada frase en una lista de palabras.\n",
    "1.  Luego, debe crear una nueva lista que contenga la cantidad de palabras en cada frase.\n",
    "1. Finalmente, la función debe imprimir cada frase original junto con la cantidad de palabras que contiene.\n",
    "Ejemplo de uso:\n",
    "```python\n",
    "    frases = [\n",
    "        \"Python es un lenguaje de programación\",\n",
    "        \"Me gusta resolver problemas con código\",\n",
    "        \"Las listas y los bucles son muy útiles\"\n",
    "    ]\n",
    "\n",
    "    procesar_frases(frases)\n",
    "```\n",
    "Requisitos:\n",
    "La función debe utilizar un bucle for para iterar sobre la lista de frases y contar las palabras en cada una.\n",
    "Debe crear y devolver una nueva lista con los conteos de palabras, y luego imprimir el resultado de forma clara."
   ]
  },
  {
   "cell_type": "code",
   "execution_count": 4,
   "metadata": {},
   "outputs": [
    {
     "name": "stdout",
     "output_type": "stream",
     "text": [
      "La frase: \"Python es un lenguaje de programación\"\n",
      "    tiene 6 palabras y 37 caracteres.\n",
      "La frase: \"Me gusta resolver problemas con código\"\n",
      "    tiene 6 palabras y 38 caracteres.\n",
      "La frase: \"Las listas y los bucles son muy útiles\"\n",
      "    tiene 8 palabras y 38 caracteres.\n"
     ]
    }
   ],
   "source": [
    "# Implementar\n",
    "def procesar_frases(frases):\n",
    "    for frase in frases:\n",
    "        \n",
    "        palabras = frase.split()\n",
    "        \n",
    "        cantidad_palabras = len(palabras)\n",
    "        cantidad_caracteres = len(frase)\n",
    "        \n",
    "        print(\"La frase: \\\"\" + frase + \"\\\"\")\n",
    "        print(\"    tiene\", cantidad_palabras, \"palabras y\", cantidad_caracteres, \"caracteres.\")\n",
    "\n",
    "\n",
    "frases = [\n",
    "    \"Python es un lenguaje de programación\",\n",
    "    \"Me gusta resolver problemas con código\",\n",
    "    \"Las listas y los bucles son muy útiles\"\n",
    "]\n",
    "\n",
    "procesar_frases(frases)\n"
   ]
  },
  {
   "cell_type": "markdown",
   "metadata": {},
   "source": [
    "## Ejercicio 2\n",
    "\n",
    "Escribe una función en Python que encuentre los valores de `a`, `b`, y `c` para que la función cuadrática `f(x) = a x^2 + b x + c` pase exactamente por los siguientes puntos:\n",
    "\n",
    "| x  | y  |\n",
    "|---:|---:|\n",
    "|  0 |  0 |\n",
    "|  1 |  8 |\n",
    "|  2 | 12 |\n",
    "|  3 | 12 |\n",
    "|  5 |  0 |\n",
    "\n",
    "### Requisitos:\n",
    "- La función debe explorar posibles valores de `a`, `b`, y `c` utilizando un método de prueba y error.\n",
    "- Debe devolver los valores que hagan que la diferencia entre la función `f(x)` y los valores medidos `y` sea exactamente cero para cada punto.\n",
    "\n",
    "> **Pista**: Los valores de `a`, `b`, y `c` son números pequeños."
   ]
  },
  {
   "cell_type": "code",
   "execution_count": null,
   "metadata": {},
   "outputs": [
    {
     "name": "stdout",
     "output_type": "stream",
     "text": [
      "Los valores que cumplen con los puntos son:\n",
      "a = -2 b = 10 c = 0\n"
     ]
    }
   ],
   "source": [
    "# Implementar\n",
    "def encontrar_coeficientes():\n",
    "    \n",
    "    for a in range(-10, 11):\n",
    "        for b in range(-10, 11):\n",
    "            for c in range(-10, 11):\n",
    "                \n",
    "                f0 = a*(0**2) + b*0 + c\n",
    "                f1 = a*(1**2) + b*1 + c\n",
    "                f2 = a*(2**2) + b*2 + c\n",
    "                f3 = a*(3**2) + b*3 + c\n",
    "                f5 = a*(5**2) + b*5 + c\n",
    "\n",
    "                \n",
    "                if f0 == 0 and f1 == 8 and f2 == 12 and f3 == 12 and f5 == 0:\n",
    "                    print(\"Los valores que cumplen con los puntos son:\")\n",
    "                    print(\"a =\", a, \"b =\", b, \"c =\", c)\n",
    "                    return\n",
    "\n",
    "    \n",
    "    print(\"No se encontraron coeficientes en el rango dado.\")\n",
    "\n",
    "\n",
    "encontrar_coeficientes()\n"
   ]
  }
 ],
 "metadata": {
  "kernelspec": {
   "display_name": "Python 3",
   "language": "python",
   "name": "python3"
  },
  "language_info": {
   "codemirror_mode": {
    "name": "ipython",
    "version": 3
   },
   "file_extension": ".py",
   "mimetype": "text/x-python",
   "name": "python",
   "nbconvert_exporter": "python",
   "pygments_lexer": "ipython3",
   "version": "3.13.0"
  }
 },
 "nbformat": 4,
 "nbformat_minor": 2
}
