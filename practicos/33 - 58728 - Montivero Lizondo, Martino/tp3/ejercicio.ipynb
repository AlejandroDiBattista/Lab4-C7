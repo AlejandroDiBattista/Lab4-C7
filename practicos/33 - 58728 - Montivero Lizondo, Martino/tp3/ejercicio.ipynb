{
 "cells": [
  {
   "cell_type": "markdown",
   "metadata": {},
   "source": [
    "#TP3"
   ]
  },
  {
   "cell_type": "markdown",
   "metadata": {},
   "source": [
    "## Ejercicio 1: Cargar Datos de ventas.\n",
    "\n",
    "El archivo datos.dat contiene el registro de las ventas realizadas.\n",
    "\n",
    "Tiene un formato de ancho fijo:\n",
    "- fecha:    10 lugares\n",
    "- producto: 30 lugares\n",
    "- precio:   10 lugares\n",
    "- cantidad:  5 lugares\n",
    "\n",
    "hacer una funcion que carge los en una lista de diccionarios. \n",
    "\n",
    "nota: con \n",
    "```python\n",
    "lineas = open(\"datos.dat\", \"r\").readlines() \n",
    "```\n",
    "puede obtener la lista de string de todos los datos "
   ]
  },
  {
   "cell_type": "code",
   "execution_count": 63,
   "metadata": {},
   "outputs": [
    {
     "name": "stdout",
     "output_type": "stream",
     "text": [
      "[{'fecha': '2024-08-27', 'producto': 'Mirinda', 'precio': 1510.0, 'cantidad': 14}, {'fecha': '2024-08-27', 'producto': 'Mirinda', 'precio': 1560.0, 'cantidad': 12}, {'fecha': '2024-08-28', 'producto': 'Torasso', 'precio': 940.0, 'cantidad': 8}, {'fecha': '2024-08-29', 'producto': 'Pepsi Cola', 'precio': 1210.0, 'cantidad': 10}, {'fecha': '2024-08-30', 'producto': 'Mirinda', 'precio': 1520.0, 'cantidad': 1}, {'fecha': '2024-09-01', 'producto': 'Mirinda', 'precio': 1550.0, 'cantidad': 15}, {'fecha': '2024-09-01', 'producto': 'Sprite', 'precio': 810.0, 'cantidad': 4}, {'fecha': '2024-09-02', 'producto': 'Coca Cola', 'precio': 1100.0, 'cantidad': 4}, {'fecha': '2024-09-02', 'producto': 'Pepsi Cola', 'precio': 1220.0, 'cantidad': 13}, {'fecha': '2024-09-02', 'producto': 'Torasso', 'precio': 910.0, 'cantidad': 5}, {'fecha': '2024-09-02', 'producto': 'Torasso', 'precio': 920.0, 'cantidad': 3}, {'fecha': '2024-09-03', 'producto': 'Coca Cola', 'precio': 1020.0, 'cantidad': 8}, {'fecha': '2024-09-03', 'producto': 'Mirinda', 'precio': 1570.0, 'cantidad': 7}, {'fecha': '2024-09-03', 'producto': 'Mirinda', 'precio': 1590.0, 'cantidad': 2}, {'fecha': '2024-09-04', 'producto': 'Pepsi Cola', 'precio': 1220.0, 'cantidad': 13}, {'fecha': '2024-09-05', 'producto': 'Mirinda', 'precio': 1500.0, 'cantidad': 3}, {'fecha': '2024-09-05', 'producto': 'Pepsi Cola', 'precio': 1300.0, 'cantidad': 5}, {'fecha': '2024-09-06', 'producto': 'Coca Cola', 'precio': 1080.0, 'cantidad': 1}, {'fecha': '2024-09-06', 'producto': 'Sprite', 'precio': 860.0, 'cantidad': 12}, {'fecha': '2024-09-06', 'producto': 'Torasso', 'precio': 930.0, 'cantidad': 3}, {'fecha': '2024-09-07', 'producto': 'Coca Cola', 'precio': 1080.0, 'cantidad': 14}, {'fecha': '2024-09-07', 'producto': 'Sprite', 'precio': 870.0, 'cantidad': 13}, {'fecha': '2024-09-08', 'producto': 'Coca Cola', 'precio': 1040.0, 'cantidad': 10}, {'fecha': '2024-09-08', 'producto': 'Mirinda', 'precio': 1580.0, 'cantidad': 2}, {'fecha': '2024-09-08', 'producto': 'Pepsi Cola', 'precio': 1240.0, 'cantidad': 9}, {'fecha': '2024-09-09', 'producto': 'Mirinda', 'precio': 1500.0, 'cantidad': 3}, {'fecha': '2024-09-09', 'producto': 'Sprite', 'precio': 850.0, 'cantidad': 9}, {'fecha': '2024-09-10', 'producto': 'Mirinda', 'precio': 1590.0, 'cantidad': 8}, {'fecha': '2024-09-10', 'producto': 'Pepsi Cola', 'precio': 1250.0, 'cantidad': 12}, {'fecha': '2024-09-11', 'producto': 'Sprite', 'precio': 810.0, 'cantidad': 6}, {'fecha': '2024-09-11', 'producto': 'Sprite', 'precio': 820.0, 'cantidad': 14}, {'fecha': '2024-09-12', 'producto': 'Coca Cola', 'precio': 1080.0, 'cantidad': 4}, {'fecha': '2024-09-13', 'producto': 'Mirinda', 'precio': 1580.0, 'cantidad': 5}, {'fecha': '2024-09-13', 'producto': 'Pepsi Cola', 'precio': 1250.0, 'cantidad': 13}, {'fecha': '2024-09-14', 'producto': 'Coca Cola', 'precio': 1080.0, 'cantidad': 15}, {'fecha': '2024-09-14', 'producto': 'Pepsi Cola', 'precio': 1270.0, 'cantidad': 14}, {'fecha': '2024-09-15', 'producto': 'Coca Cola', 'precio': 1100.0, 'cantidad': 1}, {'fecha': '2024-09-15', 'producto': 'Mirinda', 'precio': 1500.0, 'cantidad': 13}, {'fecha': '2024-09-15', 'producto': 'Sprite', 'precio': 870.0, 'cantidad': 14}, {'fecha': '2024-09-15', 'producto': 'Torasso', 'precio': 900.0, 'cantidad': 13}]\n"
     ]
    }
   ],
   "source": [
    "\n",
    "\n",
    "def cargar_datos():\n",
    "  lista_productos = open (\"datos.dat\", \"r\").readlines()\n",
    "  datos = []\n",
    "\n",
    "  for linea in lista_productos :\n",
    "    producto = {\n",
    "      \"fecha\" : linea [:10].strip(),\n",
    "      \"producto\" : linea [10:40].strip(),\n",
    "      \"precio\" : float(linea [40:50].strip()),\n",
    "      \"cantidad\" : int( linea [50:].strip())\n",
    "      }\n",
    "    datos.append(producto)\n",
    "  return (datos)\n",
    "\n",
    "\n",
    "  \n",
    "    \n",
    "    \n",
    " \n",
    "\n",
    "\n",
    "   \n",
    "  \n",
    "\n",
    "datos = cargar_datos()\n",
    "print (datos)"
   ]
  },
  {
   "cell_type": "markdown",
   "metadata": {},
   "source": [
    "## Ejercicio 2: Calcular el total de ventas.\n",
    "\n",
    "Hacer una funcion que sume los importes vendidos (precio * cantidad) y las cantidades"
   ]
  },
  {
   "cell_type": "code",
   "execution_count": 64,
   "metadata": {},
   "outputs": [
    {
     "name": "stdout",
     "output_type": "stream",
     "text": [
      "Las ventas fueron de $392730.0 en 335 unidades\n"
     ]
    }
   ],
   "source": [
    "def calcular_totales(datos):\n",
    "    importetotal = 0.0\n",
    "    cantidadtotal = 0\n",
    "    for producto in datos:\n",
    "        importetotal += producto[\"precio\"] * producto[\"cantidad\"]\n",
    "        cantidadtotal += producto [\"cantidad\"]\n",
    "    \n",
    "    return importetotal, cantidadtotal\n",
    "\n",
    "\n",
    "\n",
    "    \n",
    "\n",
    "importe, cantidad = calcular_totales(datos)\n",
    "\n",
    "print(f\"Las ventas fueron de ${importe} en {cantidad} unidades\")"
   ]
  },
  {
   "cell_type": "markdown",
   "metadata": {},
   "source": [
    "## Ejercicio 3: Listar las unidades vendidas.\n",
    "\n",
    "Listar cuantas unidades se vendieron en total para cada producto"
   ]
  },
  {
   "cell_type": "code",
   "execution_count": 65,
   "metadata": {},
   "outputs": [
    {
     "name": "stdout",
     "output_type": "stream",
     "text": [
      "Mirinda: 85 unidades vendidas\n",
      "Torasso: 32 unidades vendidas\n",
      "Pepsi Cola: 89 unidades vendidas\n",
      "Sprite: 72 unidades vendidas\n",
      "Coca Cola: 57 unidades vendidas\n"
     ]
    }
   ],
   "source": [
    "def unidades_vendidas(datos):\n",
    "    ventas_por_producto = {}\n",
    "    \n",
    "    for registro in datos:\n",
    "\n",
    "\n",
    "        producto = registro[\"producto\"]\n",
    "        cantidad = registro[\"cantidad\"]\n",
    "        if producto in ventas_por_producto:\n",
    "            ventas_por_producto[producto] += cantidad\n",
    "        else:\n",
    "            ventas_por_producto[producto] = cantidad\n",
    "    return ventas_por_producto\n",
    "\n",
    "def listar_ventas(ventas):\n",
    "    \n",
    "    \n",
    "    for producto, cantidad in ventas.items():\n",
    "        print(f\"{producto}: {cantidad} unidades vendidas\")\n",
    "\n",
    "\n",
    "ventas = unidades_vendidas(datos)\n",
    "listar_ventas(ventas)\n"
   ]
  },
  {
   "cell_type": "markdown",
   "metadata": {},
   "source": [
    "##  Ejercicio 4: Listar el precio promedio por producto.\n",
    "\n",
    "Hacer un listado del precio promedio por productos."
   ]
  },
  {
   "cell_type": "code",
   "execution_count": 66,
   "metadata": {},
   "outputs": [
    {
     "name": "stdout",
     "output_type": "stream",
     "text": [
      "Mirinda: $1545.83\n",
      "Torasso: $920.00\n",
      "Pepsi Cola: $1245.00\n",
      "Sprite: $841.43\n",
      "Coca Cola: $1072.50\n"
     ]
    }
   ],
   "source": [
    "def precio_promedio(datos):\n",
    "\n",
    "    precioxproducto = {}\n",
    "    for registro in datos:\n",
    "\n",
    "\n",
    "        producto = registro[\"producto\"]\n",
    "        precio = registro[\"precio\"]\n",
    "        if producto in precioxproducto:\n",
    "            precioxproducto[producto].append(precio)\n",
    "        else:\n",
    "            precioxproducto[producto] = [precio]\n",
    "    \n",
    "    promedio_precio = {producto: sum(precios) / len(precios) for producto, precios in precioxproducto.items()}\n",
    "    return promedio_precio\n",
    "\n",
    "def listar_precios(precios):\n",
    "\n",
    "\n",
    "    for producto, precio in precios.items():\n",
    "\n",
    "        print(f\"{producto}: ${precio:.2f}\")\n",
    "\n",
    "\n",
    "precios = precio_promedio(datos)\n",
    "listar_precios(precios)"
   ]
  },
  {
   "cell_type": "markdown",
   "metadata": {},
   "source": [
    "### Ejercicio 5: Ranking de productos\n",
    "\n",
    "Realizar un listado de los 3 productos mas vendidos ordenados la cantidad de unidades vendidas (ordenadas de mayor a menor)\n"
   ]
  },
  {
   "cell_type": "code",
   "execution_count": 67,
   "metadata": {},
   "outputs": [
    {
     "name": "stdout",
     "output_type": "stream",
     "text": [
      "Pepsi Cola: 89 unidades\n",
      "Mirinda: 85 unidades\n",
      "Sprite: 72 unidades\n"
     ]
    }
   ],
   "source": [
    "def ranking_productos(datos, top=3):\n",
    "    ventas_por_producto = unidades_vendidas(datos)\n",
    "\n",
    "    ranking = sorted(ventas_por_producto.items(), key = lambda x: x[1], reverse=True)[:top]\n",
    "    \n",
    "    \n",
    "    return ranking\n",
    "\n",
    "def listar_ranking(ranking):\n",
    "    \n",
    "    for producto, cantidad in ranking:\n",
    "        print(f\"{producto}: {cantidad} unidades\")\n",
    "\n",
    "\n",
    "ranking = ranking_productos(datos)\n",
    "listar_ranking(ranking)"
   ]
  },
  {
   "cell_type": "markdown",
   "metadata": {},
   "source": [
    "### Ejercicio 6: Listar las ventas por mes\n",
    "\n",
    "Realizar un listado del total de unidades vendidas por productos separada por mes."
   ]
  },
  {
   "cell_type": "code",
   "execution_count": 68,
   "metadata": {},
   "outputs": [
    {
     "name": "stdout",
     "output_type": "stream",
     "text": [
      "Mes: 2024-08, Producto: Mirinda, Unidades: 27\n",
      "Mes: 2024-08, Producto: Torasso, Unidades: 8\n",
      "Mes: 2024-08, Producto: Pepsi Cola, Unidades: 10\n",
      "Mes: 2024-09, Producto: Mirinda, Unidades: 58\n",
      "Mes: 2024-09, Producto: Sprite, Unidades: 72\n",
      "Mes: 2024-09, Producto: Coca Cola, Unidades: 57\n",
      "Mes: 2024-09, Producto: Pepsi Cola, Unidades: 79\n",
      "Mes: 2024-09, Producto: Torasso, Unidades: 24\n"
     ]
    }
   ],
   "source": [
    "def ventas_por_mes(datos):\n",
    "    ventas_mensuales = [] \n",
    "\n",
    "    \n",
    "    for registro in datos:\n",
    "        mes = registro[\"fecha\"][:7]  \n",
    "        producto = registro[\"producto\"]\n",
    "        cantidad = registro[\"cantidad\"]\n",
    "\n",
    "        \n",
    "        ventas_mensuales.append((mes, producto, cantidad))\n",
    "\n",
    "    \n",
    "    totales = {}\n",
    "    for mes, producto, cantidad in ventas_mensuales:\n",
    "        if (mes, producto) in totales:\n",
    "            totales[(mes, producto)] += cantidad\n",
    "        else:\n",
    "            totales[(mes, producto)] = cantidad\n",
    "\n",
    "    return totales\n",
    "\n",
    "def listar_ventas_mensuales(totales):\n",
    "    for (mes, producto), cantidad in totales.items():\n",
    "        print(f\"Mes: {mes}, Producto: {producto}, Unidades: {cantidad}\")\n",
    "\n",
    "\n",
    "\n",
    "totales = ventas_por_mes(datos)\n",
    "listar_ventas_mensuales(totales)"
   ]
  },
  {
   "cell_type": "markdown",
   "metadata": {},
   "source": [
    "### Ejercicio 7: Informe general\n",
    "\n",
    "Mostrar un listado de productos ordenados alfabeticamente que contengan el precio promedio, la cantidad de unidades vendidas y el importe total vendido para cada producto"
   ]
  },
  {
   "cell_type": "code",
   "execution_count": 69,
   "metadata": {},
   "outputs": [
    {
     "name": "stdout",
     "output_type": "stream",
     "text": [
      "Mirinda: Precio Promedio: $2837.06, Unidades Vendidas: 85, Importe Total: $131080.00\n",
      "Torasso: Precio Promedio: $1868.75, Unidades Vendidas: 32, Importe Total: $29320.00\n",
      "Pepsi Cola: Precio Promedio: $1454.83, Unidades Vendidas: 89, Importe Total: $110510.00\n",
      "Sprite: Precio Promedio: $1063.47, Unidades Vendidas: 72, Importe Total: $61040.00\n",
      "Coca Cola: Precio Promedio: $1956.84, Unidades Vendidas: 57, Importe Total: $60780.00\n"
     ]
    }
   ],
   "source": [
    "def resumen_ventas(datos):\n",
    "    resumen = {}\n",
    "    for registro in datos:\n",
    "        producto = registro[\"producto\"]\n",
    "        precio = registro[\"precio\"]\n",
    "        cantidad = registro[\"cantidad\"]\n",
    "\n",
    "\n",
    "        if producto not in resumen:\n",
    "\n",
    "            \n",
    "            resumen[producto] = {\"precio_total\": 0, \"cantidad_total\": 0, \"importe_total\": 0}\n",
    "        resumen[producto][\"precio_total\"] += precio\n",
    "        resumen[producto][\"cantidad_total\"] += cantidad\n",
    "        resumen[producto][\"importe_total\"] += precio * cantidad\n",
    "    \n",
    "    \n",
    "    for producto in resumen:\n",
    "\n",
    "        resumen[producto][\"precio_promedio\"] = resumen[producto][\"precio_total\"] / (resumen[producto][\"cantidad_total\"] / cantidad)\n",
    "    \n",
    "    \n",
    "    return resumen\n",
    "\n",
    "def informe_ventas(resumen):\n",
    "    \n",
    "    \n",
    "    for producto, datos in resumen.items():\n",
    "        print(f\"{producto}: Precio Promedio: ${datos['precio_promedio']:.2f}, Unidades Vendidas: {datos['cantidad_total']}, Importe Total: ${datos['importe_total']:.2f}\")\n",
    "\n",
    "\n",
    "resumen = resumen_ventas(datos)\n",
    "informe_ventas(resumen)\n"
   ]
  }
 ],
 "metadata": {
  "kernelspec": {
   "display_name": "Python 3",
   "language": "python",
   "name": "python3"
  },
  "language_info": {
   "codemirror_mode": {
    "name": "ipython",
    "version": 3
   },
   "file_extension": ".py",
   "mimetype": "text/x-python",
   "name": "python",
   "nbconvert_exporter": "python",
   "pygments_lexer": "ipython3",
   "version": "3.12.5"
  }
 },
 "nbformat": 4,
 "nbformat_minor": 2
}
