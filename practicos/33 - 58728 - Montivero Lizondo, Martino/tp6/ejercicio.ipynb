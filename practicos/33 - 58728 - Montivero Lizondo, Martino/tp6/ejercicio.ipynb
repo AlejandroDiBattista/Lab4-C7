{
 "cells": [
  {
   "cell_type": "markdown",
   "metadata": {},
   "source": [
    "# TP6\n",
    "\n",
    "### `Resolver usando Pandas`\n",
    "\n",
    "Resolver los ejercicios del TP3 utilizando la librería Pandas."
   ]
  },
  {
   "cell_type": "markdown",
   "metadata": {},
   "source": [
    "### Ejercicio 1: Cargar Datos de ventas.\n",
    "\n",
    "El archivo datos.dat contiene el registro de las ventas realizadas.\n",
    "\n",
    "Tiene un formato de ancho fijo:\n",
    "- `fecha`:    10 lugares\n",
    "- `producto`: 30 lugares\n",
    "- `precio`:   10 lugares\n",
    "- `cantidad`:  5 lugares\n",
    "\n",
    "Hacer una funcion que cargue los datos en un DataFrame de Pandas."
   ]
  },
  {
   "cell_type": "code",
   "execution_count": 198,
   "metadata": {},
   "outputs": [
    {
     "name": "stdout",
     "output_type": "stream",
     "text": [
      "         fecha    producto  precio  cantidad\n",
      "0   2024-08-27     Mirinda  1510.0        14\n",
      "1   2024-08-27     Mirinda  1560.0        12\n",
      "2   2024-08-28     Torasso   940.0         8\n",
      "3   2024-08-29  Pepsi Cola  1210.0        10\n",
      "4   2024-08-30     Mirinda  1520.0         1\n",
      "5   2024-09-01     Mirinda  1550.0        15\n",
      "6   2024-09-01      Sprite   810.0         4\n",
      "7   2024-09-02   Coca Cola  1100.0         4\n",
      "8   2024-09-02  Pepsi Cola  1220.0        13\n",
      "9   2024-09-02     Torasso   910.0         5\n",
      "10  2024-09-02     Torasso   920.0         3\n",
      "11  2024-09-03   Coca Cola  1020.0         8\n",
      "12  2024-09-03     Mirinda  1570.0         7\n",
      "13  2024-09-03     Mirinda  1590.0         2\n",
      "14  2024-09-04  Pepsi Cola  1220.0        13\n",
      "15  2024-09-05     Mirinda  1500.0         3\n",
      "16  2024-09-05  Pepsi Cola  1300.0         5\n",
      "17  2024-09-06   Coca Cola  1080.0         1\n",
      "18  2024-09-06      Sprite   860.0        12\n",
      "19  2024-09-06     Torasso   930.0         3\n",
      "20  2024-09-07   Coca Cola  1080.0        14\n",
      "21  2024-09-07      Sprite   870.0        13\n",
      "22  2024-09-08   Coca Cola  1040.0        10\n",
      "23  2024-09-08     Mirinda  1580.0         2\n",
      "24  2024-09-08  Pepsi Cola  1240.0         9\n",
      "25  2024-09-09     Mirinda  1500.0         3\n",
      "26  2024-09-09      Sprite   850.0         9\n",
      "27  2024-09-10     Mirinda  1590.0         8\n",
      "28  2024-09-10  Pepsi Cola  1250.0        12\n",
      "29  2024-09-11      Sprite   810.0         6\n",
      "30  2024-09-11      Sprite   820.0        14\n",
      "31  2024-09-12   Coca Cola  1080.0         4\n",
      "32  2024-09-13     Mirinda  1580.0         5\n",
      "33  2024-09-13  Pepsi Cola  1250.0        13\n",
      "34  2024-09-14   Coca Cola  1080.0        15\n",
      "35  2024-09-14  Pepsi Cola  1270.0        14\n",
      "36  2024-09-15   Coca Cola  1100.0         1\n",
      "37  2024-09-15     Mirinda  1500.0        13\n",
      "38  2024-09-15      Sprite   870.0        14\n",
      "39  2024-09-15     Torasso   900.0        13\n"
     ]
    }
   ],
   "source": [
    "import pandas as pn # type: ignore\n",
    "def cargar_datos():\n",
    "    \n",
    "    columnas = ['fecha', 'producto', 'precio', 'cantidad']\n",
    "    colspecs = [(0, 10), (10, 40), (40, 50), (50, None)]  \n",
    "    \n",
    "    \n",
    "    datos = pn.read_fwf(\"datos.dat\", colspecs=colspecs, header=None, names=columnas)\n",
    "    \n",
    "    \n",
    "    datos['fecha'] = datos['fecha'].str.strip()\n",
    "    datos['producto'] = datos['producto'].str.strip()\n",
    "    \n",
    "    \n",
    "    datos['precio'] = datos['precio'].astype(float)\n",
    "    datos['cantidad'] = datos['cantidad'].astype(int)\n",
    "    \n",
    "    return datos\n",
    "    \n",
    "\n",
    "datos = cargar_datos()\n",
    "print (datos)"
   ]
  },
  {
   "cell_type": "markdown",
   "metadata": {},
   "source": [
    "### Ejercicio 2: Calcular el total de ventas.\n",
    "Hacer una función que sume los importes vendidos (precio * cantidad) y las cantidades.\n"
   ]
  },
  {
   "cell_type": "code",
   "execution_count": 199,
   "metadata": {},
   "outputs": [
    {
     "name": "stdout",
     "output_type": "stream",
     "text": [
      "Las ventas fueron de $392730.00 en 335 unidades\n"
     ]
    }
   ],
   "source": [
    "def calcular_totales(datos):\n",
    "    \n",
    "    datos['importe'] = datos['precio'] * datos['cantidad']\n",
    "    importetotal = datos['importe'].sum()\n",
    "    cantidadtotal = datos['cantidad'].sum()\n",
    "    \n",
    "    return importetotal, cantidadtotal\n",
    "\n",
    "\n",
    "importe, cantidad = calcular_totales(datos)\n",
    "\n",
    "print(f\"Las ventas fueron de ${importe:.2f} en {cantidad} unidades\")"
   ]
  },
  {
   "cell_type": "markdown",
   "metadata": {},
   "source": [
    "### Ejercicio 3: Listar las unidades vendidas.\n",
    "Listar cuántas unidades se vendieron en total para cada producto\n"
   ]
  },
  {
   "cell_type": "code",
   "execution_count": 200,
   "metadata": {},
   "outputs": [
    {
     "name": "stdout",
     "output_type": "stream",
     "text": [
      "Coca Cola: 57 unidades vendidas\n",
      "Mirinda: 85 unidades vendidas\n",
      "Pepsi Cola: 89 unidades vendidas\n",
      "Sprite: 72 unidades vendidas\n",
      "Torasso: 32 unidades vendidas\n"
     ]
    }
   ],
   "source": [
    "def unidades_vendidas(datos):\n",
    "    ventas_por_producto = datos.groupby('producto')['cantidad'].sum()\n",
    "    return ventas_por_producto\n",
    "\n",
    "\n",
    "ventas = unidades_vendidas(datos)\n",
    "ventas_ordenadas = ventas.sort_index()\n",
    "\n",
    "\n",
    "for producto, cantidad in ventas_ordenadas.items():\n",
    "    print(f\"{producto}: {cantidad} unidades vendidas\")"
   ]
  },
  {
   "cell_type": "markdown",
   "metadata": {},
   "source": [
    "###  Ejercicio 4: Listar el precio promedio por producto.\n",
    "Hacer un listado del precio promedio por producto.\n"
   ]
  },
  {
   "cell_type": "code",
   "execution_count": 201,
   "metadata": {},
   "outputs": [
    {
     "name": "stdout",
     "output_type": "stream",
     "text": [
      "Coca Cola: precio promedio $1072.50\n",
      "Mirinda: precio promedio $1545.83\n",
      "Pepsi Cola: precio promedio $1245.00\n",
      "Sprite: precio promedio $841.43\n",
      "Torasso: precio promedio $920.00\n"
     ]
    }
   ],
   "source": [
    "def precio_promedio(datos):\n",
    "    promedio_precio = datos.groupby('producto')['precio'].mean()\n",
    "    return promedio_precio\n",
    "\n",
    "\n",
    "promedios = precio_promedio(datos)\n",
    "\n",
    "for producto, promedio in promedios.items():\n",
    "    print(f\"{producto}: precio promedio ${promedio:.2f}\")"
   ]
  },
  {
   "cell_type": "markdown",
   "metadata": {},
   "source": [
    "### Ejercicio 5: Ranking de productos\n",
    "Realizar un listado de los 3 productos más vendidos ordenados por la cantidad de unidades vendidas (ordenadas de mayor a menor)\n"
   ]
  },
  {
   "cell_type": "code",
   "execution_count": 202,
   "metadata": {},
   "outputs": [
    {
     "name": "stdout",
     "output_type": "stream",
     "text": [
      "TOP 3 productos mas vendidos:\n",
      "Pepsi Cola: 89 unidades vendidas\n",
      "Mirinda: 85 unidades vendidas\n",
      "Sprite: 72 unidades vendidas\n"
     ]
    }
   ],
   "source": [
    "def ranking_productos(datos, top=3):\n",
    "    ventas_por_producto = unidades_vendidas(datos)\n",
    "    ranking = ventas_por_producto.sort_values(ascending=False).head(top)\n",
    "    \n",
    "    return ranking\n",
    "\n",
    "\n",
    "ranking = ranking_productos(datos)\n",
    "\n",
    "print (\"TOP 3 productos mas vendidos:\")\n",
    "for producto, cantidad in ranking.items():\n",
    "    \n",
    "    print(f\"{producto}: {cantidad} unidades vendidas\")\n",
    "\n",
    "\n"
   ]
  },
  {
   "cell_type": "markdown",
   "metadata": {},
   "source": [
    "### Ejercicio 6: Listar las ventas por mes\n",
    "Realizar un listado del total de unidades vendidas por producto separado por mes.\n"
   ]
  },
  {
   "cell_type": "code",
   "execution_count": 203,
   "metadata": {},
   "outputs": [
    {
     "data": {
      "text/plain": [
       "mes      producto  \n",
       "2024-08  Mirinda       27\n",
       "         Pepsi Cola    10\n",
       "         Torasso        8\n",
       "2024-09  Coca Cola     57\n",
       "         Mirinda       58\n",
       "         Pepsi Cola    79\n",
       "         Sprite        72\n",
       "         Torasso       24\n",
       "Name: cantidad, dtype: int64"
      ]
     },
     "execution_count": 203,
     "metadata": {},
     "output_type": "execute_result"
    }
   ],
   "source": [
    "def ventas_por_mes(datos):\n",
    "   datos['mes'] = datos['fecha'].str[:7]\n",
    "   ventas_mensuales = datos.groupby(['mes', 'producto'])['cantidad'].sum()\n",
    "   return ventas_mensuales\n",
    "\n",
    "\n",
    "ventas_por_mes(datos)"
   ]
  },
  {
   "cell_type": "markdown",
   "metadata": {},
   "source": [
    "### Ejercicio 7: Informe general\n",
    "\n",
    "Mostrar un listado de productos ordenados alfabeticamente que contengan el precio promedio, la cantidad de unidades vendidas y el importe total vendido para cada producto"
   ]
  },
  {
   "cell_type": "code",
   "execution_count": 204,
   "metadata": {},
   "outputs": [
    {
     "name": "stdout",
     "output_type": "stream",
     "text": [
      "Coca Cola: Precio Promedio: $1066.32, Unidades Vendidas: 57, Importe Total: $60780.00\n",
      "Mirinda: Precio Promedio: $1542.12, Unidades Vendidas: 85, Importe Total: $131080.00\n",
      "Pepsi Cola: Precio Promedio: $1241.69, Unidades Vendidas: 89, Importe Total: $110510.00\n",
      "Sprite: Precio Promedio: $847.78, Unidades Vendidas: 72, Importe Total: $61040.00\n",
      "Torasso: Precio Promedio: $916.25, Unidades Vendidas: 32, Importe Total: $29320.00\n"
     ]
    }
   ],
   "source": [
    "def resumen_ventas(df):\n",
    "    resumen = df.groupby('producto').agg(\n",
    "        cantidad_total=('cantidad', 'sum'),\n",
    "        precio_total=('precio', 'sum'),\n",
    "        importe_total=('cantidad', lambda x: (df.loc[x.index, 'precio'] * x).sum())\n",
    "    ).reset_index()\n",
    "\n",
    "    resumen['precio_promedio'] = resumen['importe_total'] / resumen['cantidad_total']\n",
    "    \n",
    "    return resumen\n",
    "\n",
    "def informe_ventas(resumen):\n",
    "    for _, row in resumen.iterrows():\n",
    "        print(f\"{row['producto']}: Precio Promedio: ${row['precio_promedio']:.2f}, Unidades Vendidas: {row['cantidad_total']}, Importe Total: ${row['importe_total']:.2f}\")\n",
    "\n",
    "resumen = resumen_ventas(datos)\n",
    "informe_ventas(resumen)\n"
   ]
  },
  {
   "cell_type": "markdown",
   "metadata": {},
   "source": [
    "## `Resolver usando NumPy`\n",
    "## Resolver el ejercicio 2 del tp1 usando NumPy"
   ]
  },
  {
   "cell_type": "markdown",
   "metadata": {},
   "source": [
    "### Ejercicio 8\n",
    "\n",
    "Escribe una función en Python que encuentre los valores de `a`, `b`, y `c` para que la función cuadrática `f(x) = a x^2 + b x + c` pase exactamente por los siguientes puntos:\n",
    "\n",
    "| x  | y  |\n",
    "|---:|---:|\n",
    "|  0 |  0 |\n",
    "|  1 |  8 |\n",
    "|  2 | 12 |\n",
    "|  3 | 12 |\n",
    "|  5 |  0 |\n",
    "\n",
    "### Requisitos:\n",
    "- La función debe explorar posibles valores de `a`, `b`, y `c` utilizando un método de prueba y error.\n",
    "- Debe devolver los valores que hagan que la diferencia entre la función `f(x)` y los valores medidos `y` sea exactamente cero para cada punto.\n",
    "\n",
    "> **Pista**: Los valores de `a`, `b`, y `c` son números pequeños.\n",
    "\n",
    "La idea es implementar el mismo algoritmo que se uso en el TP1 pero usando NumPy en lugar de Python puro."
   ]
  },
  {
   "cell_type": "code",
   "execution_count": 205,
   "metadata": {},
   "outputs": [
    {
     "data": {
      "text/plain": [
       "array([-2.00000000e+00,  1.00000000e+01, -1.27105749e-14])"
      ]
     },
     "execution_count": 205,
     "metadata": {},
     "output_type": "execute_result"
    }
   ],
   "source": [
    "import numpy as np\n",
    "def f(x, coeficientes):\n",
    "    a,b,c = coeficientes\n",
    "    return a*x**2 + b*x + c\n",
    "\n",
    "def error(y, y_pred):\n",
    "    return y - y_pred\n",
    "\n",
    "X = np.array([0,1,2,3,5])\n",
    "Y = np.array([0,8,12,12,0])\n",
    "\n",
    "def buscar_coeficientes():\n",
    "    coeficientes = np.polyfit(X, Y, 2)\n",
    "    return coeficientes\n",
    "\n",
    "coeficientes = buscar_coeficientes()\n",
    "coeficientes"
   ]
  },
  {
   "cell_type": "markdown",
   "metadata": {},
   "source": [
    "### Ejercicio 9: Resolver el ejercicio 3 del TP1 usando NumPy\n",
    "Buscar los coeficientes de la función que minimice la suma de los cuadrados de las diferencias entre los valores medidos y los valores de la función.\n",
    "\n",
    "1. Crear un array con los coeficientes elegidos al azar (usar `randint(-10,10,3)`).\n",
    "2. Calcular el valor de la función y el error correspondiente.\n",
    "3. Mientras que el error sea mayor a 1:\n",
    "    1. Definir nuevos coeficientes agregándoles un pequeño valor al azar a los coeficientes actuales (aprendizaje = 0.001).\n",
    "    2. Si el error para los nuevos coeficientes es menor que el anterior, reemplazar los coeficientes actuales por los nuevos.\n"
   ]
  },
  {
   "cell_type": "code",
   "execution_count": 206,
   "metadata": {},
   "outputs": [
    {
     "name": "stdout",
     "output_type": "stream",
     "text": [
      "Coeficientes encontrados: [-1.78045532  8.96289433  0.62688259]\n"
     ]
    }
   ],
   "source": [
    "import numpy as np\n",
    "from numpy.random import randint\n",
    "\n",
    "def f(x, coeficientes):\n",
    "    a, b, c = coeficientes\n",
    "    return a*x**2 + b*x + c\n",
    "\n",
    "def error(y, y_pred):\n",
    "    return np.sum((y - y_pred)**2)\n",
    "\n",
    "X = np.array([0, 1, 2, 3, 5])\n",
    "Y = np.array([0, 8, 12, 11, 1])  \n",
    "\n",
    "def buscar_coeficientes():\n",
    "    \n",
    "    coeficientes = randint(-10, 10, 3)\n",
    "    \n",
    "    \n",
    "    y_pred = f(X, coeficientes)\n",
    "    current_error = error(Y, y_pred)\n",
    "    \n",
    "    \n",
    "    aprendizaje = 0.001\n",
    "\n",
    "    while current_error > 1:\n",
    "        \n",
    "        nuevos_coeficientes = coeficientes + np.random.randn(3) * aprendizaje\n",
    "        y_pred_nuevo = f(X, nuevos_coeficientes)\n",
    "        new_error = error(Y, y_pred_nuevo)\n",
    "        \n",
    "        if new_error < current_error:\n",
    "            coeficientes = nuevos_coeficientes\n",
    "            current_error = new_error\n",
    "            \n",
    "    return coeficientes\n",
    "\n",
    "# Ejecutamos la búsqueda de coeficientes\n",
    "coeficientes = buscar_coeficientes()\n",
    "print(f\"Coeficientes encontrados: {coeficientes}\")"
   ]
  }
 ],
 "metadata": {
  "kernelspec": {
   "display_name": "Python 3",
   "language": "python",
   "name": "python3"
  },
  "language_info": {
   "codemirror_mode": {
    "name": "ipython",
    "version": 3
   },
   "file_extension": ".py",
   "mimetype": "text/x-python",
   "name": "python",
   "nbconvert_exporter": "python",
   "pygments_lexer": "ipython3",
   "version": "3.12.5"
  }
 },
 "nbformat": 4,
 "nbformat_minor": 2
}
