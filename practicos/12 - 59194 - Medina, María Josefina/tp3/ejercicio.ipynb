{
 "cells": [
  {
   "cell_type": "markdown",
   "metadata": {},
   "source": [
    "#TP3"
   ]
  },
  {
   "cell_type": "markdown",
   "metadata": {},
   "source": [
    "## Ejercicio 1: Cargar Datos de ventas.\n",
    "\n",
    "El archivo datos.dat contiene el registro de las ventas realizadas.\n",
    "\n",
    "Tiene un formato de ancho fijo:\n",
    "- fecha:    10 lugares\n",
    "- producto: 30 lugares\n",
    "- precio:   10 lugares\n",
    "- cantidad:  5 lugares\n",
    "\n",
    "hacer una funcion que carge los en una lista de diccionarios. \n",
    "\n",
    "nota: con \n",
    "```python\n",
    "lineas = open(\"datos.dat\", \"r\").readlines() \n",
    "```\n",
    "puede obtener la lista de string de todos los datos "
   ]
  },
  {
   "cell_type": "code",
   "execution_count": 1,
   "metadata": {},
   "outputs": [
    {
     "name": "stdout",
     "output_type": "stream",
     "text": [
      "[{'Fecha': '2024-08-27', 'Producto': 'Mirinda', 'Precio': 1510.0, 'Cantidad': 14}, {'Fecha': '2024-08-27', 'Producto': 'Mirinda', 'Precio': 1560.0, 'Cantidad': 12}, {'Fecha': '2024-08-28', 'Producto': 'Torasso', 'Precio': 940.0, 'Cantidad': 8}, {'Fecha': '2024-08-29', 'Producto': 'Pepsi Cola', 'Precio': 1210.0, 'Cantidad': 10}, {'Fecha': '2024-08-30', 'Producto': 'Mirinda', 'Precio': 1520.0, 'Cantidad': 1}, {'Fecha': '2024-09-01', 'Producto': 'Mirinda', 'Precio': 1550.0, 'Cantidad': 15}, {'Fecha': '2024-09-01', 'Producto': 'Sprite', 'Precio': 810.0, 'Cantidad': 4}, {'Fecha': '2024-09-02', 'Producto': 'Coca Cola', 'Precio': 1100.0, 'Cantidad': 4}, {'Fecha': '2024-09-02', 'Producto': 'Pepsi Cola', 'Precio': 1220.0, 'Cantidad': 13}, {'Fecha': '2024-09-02', 'Producto': 'Torasso', 'Precio': 910.0, 'Cantidad': 5}, {'Fecha': '2024-09-02', 'Producto': 'Torasso', 'Precio': 920.0, 'Cantidad': 3}, {'Fecha': '2024-09-03', 'Producto': 'Coca Cola', 'Precio': 1020.0, 'Cantidad': 8}, {'Fecha': '2024-09-03', 'Producto': 'Mirinda', 'Precio': 1570.0, 'Cantidad': 7}, {'Fecha': '2024-09-03', 'Producto': 'Mirinda', 'Precio': 1590.0, 'Cantidad': 2}, {'Fecha': '2024-09-04', 'Producto': 'Pepsi Cola', 'Precio': 1220.0, 'Cantidad': 13}, {'Fecha': '2024-09-05', 'Producto': 'Mirinda', 'Precio': 1500.0, 'Cantidad': 3}, {'Fecha': '2024-09-05', 'Producto': 'Pepsi Cola', 'Precio': 1300.0, 'Cantidad': 5}, {'Fecha': '2024-09-06', 'Producto': 'Coca Cola', 'Precio': 1080.0, 'Cantidad': 1}, {'Fecha': '2024-09-06', 'Producto': 'Sprite', 'Precio': 860.0, 'Cantidad': 12}, {'Fecha': '2024-09-06', 'Producto': 'Torasso', 'Precio': 930.0, 'Cantidad': 3}, {'Fecha': '2024-09-07', 'Producto': 'Coca Cola', 'Precio': 1080.0, 'Cantidad': 14}, {'Fecha': '2024-09-07', 'Producto': 'Sprite', 'Precio': 870.0, 'Cantidad': 13}, {'Fecha': '2024-09-08', 'Producto': 'Coca Cola', 'Precio': 1040.0, 'Cantidad': 10}, {'Fecha': '2024-09-08', 'Producto': 'Mirinda', 'Precio': 1580.0, 'Cantidad': 2}, {'Fecha': '2024-09-08', 'Producto': 'Pepsi Cola', 'Precio': 1240.0, 'Cantidad': 9}, {'Fecha': '2024-09-09', 'Producto': 'Mirinda', 'Precio': 1500.0, 'Cantidad': 3}, {'Fecha': '2024-09-09', 'Producto': 'Sprite', 'Precio': 850.0, 'Cantidad': 9}, {'Fecha': '2024-09-10', 'Producto': 'Mirinda', 'Precio': 1590.0, 'Cantidad': 8}, {'Fecha': '2024-09-10', 'Producto': 'Pepsi Cola', 'Precio': 1250.0, 'Cantidad': 12}, {'Fecha': '2024-09-11', 'Producto': 'Sprite', 'Precio': 810.0, 'Cantidad': 6}, {'Fecha': '2024-09-11', 'Producto': 'Sprite', 'Precio': 820.0, 'Cantidad': 14}, {'Fecha': '2024-09-12', 'Producto': 'Coca Cola', 'Precio': 1080.0, 'Cantidad': 4}, {'Fecha': '2024-09-13', 'Producto': 'Mirinda', 'Precio': 1580.0, 'Cantidad': 5}, {'Fecha': '2024-09-13', 'Producto': 'Pepsi Cola', 'Precio': 1250.0, 'Cantidad': 13}, {'Fecha': '2024-09-14', 'Producto': 'Coca Cola', 'Precio': 1080.0, 'Cantidad': 15}, {'Fecha': '2024-09-14', 'Producto': 'Pepsi Cola', 'Precio': 1270.0, 'Cantidad': 14}, {'Fecha': '2024-09-15', 'Producto': 'Coca Cola', 'Precio': 1100.0, 'Cantidad': 1}, {'Fecha': '2024-09-15', 'Producto': 'Mirinda', 'Precio': 1500.0, 'Cantidad': 13}, {'Fecha': '2024-09-15', 'Producto': 'Sprite', 'Precio': 870.0, 'Cantidad': 14}, {'Fecha': '2024-09-15', 'Producto': 'Torasso', 'Precio': 900.0, 'Cantidad': 13}]\n"
     ]
    }
   ],
   "source": [
    "def cargar_datos():\n",
    "    lista_diccionario=[]\n",
    "    lineas = open(\"datos.dat\", \"r\").readlines()\n",
    "    \n",
    "    for dato in lineas:\n",
    "        ventas = {\n",
    "            \"Fecha\":dato[:10].strip(),\n",
    "            \"Producto\":dato[10:40].strip(),\n",
    "            \"Precio\":float(dato[40:50].strip()),\n",
    "            \"Cantidad\":int(dato[50:].strip()),\n",
    "        }\n",
    "        \n",
    "        lista_diccionario.append(ventas) \n",
    "    return lista_diccionario\n",
    "datos= cargar_datos()\n",
    "\n",
    "print(datos)"
   ]
  },
  {
   "cell_type": "markdown",
   "metadata": {},
   "source": [
    "## Ejercicio 2: Calcular el total de ventas.\n",
    "\n",
    "Hacer una funcion que sume los importes vendidos (precio * cantidad) y las cantidades"
   ]
  },
  {
   "cell_type": "code",
   "execution_count": 2,
   "metadata": {},
   "outputs": [
    {
     "name": "stdout",
     "output_type": "stream",
     "text": [
      "Las ventas fueron de $392730.00 en 335 unidades\n"
     ]
    }
   ],
   "source": [
    "def calcular_totales(datos):\n",
    "    importe=0\n",
    "    cantidad=0\n",
    "    for ventas in datos:\n",
    "        importe += ventas[\"Precio\"] * ventas[\"Cantidad\"]\n",
    "        cantidad += ventas[\"Cantidad\"] \n",
    "    \n",
    "    return importe, cantidad\n",
    "   \n",
    "importe, cantidad = calcular_totales(datos)\n",
    "\n",
    "print(f\"Las ventas fueron de ${importe:.2f} en {cantidad} unidades\")"
   ]
  },
  {
   "cell_type": "markdown",
   "metadata": {},
   "source": [
    "## Ejercicio 3: Listar las unidades vendidas.\n",
    "\n",
    "Listar cuantas unidades se vendieron en total para cada producto"
   ]
  },
  {
   "cell_type": "code",
   "execution_count": 3,
   "metadata": {},
   "outputs": [
    {
     "name": "stdout",
     "output_type": "stream",
     "text": [
      "Producto: Mirinda, unidades vendidas:85\n",
      "Producto: Torasso, unidades vendidas:32\n",
      "Producto: Pepsi Cola, unidades vendidas:89\n",
      "Producto: Sprite, unidades vendidas:72\n",
      "Producto: Coca Cola, unidades vendidas:57\n"
     ]
    }
   ],
   "source": [
    "def unidades_vendidas(datos):\n",
    "    unidades={}\n",
    "    for ventas in datos:\n",
    "        producto= ventas[\"Producto\"]\n",
    "        cantidad=ventas[\"Cantidad\"]\n",
    "        if producto in unidades:\n",
    "            unidades[producto] += cantidad\n",
    "        else: \n",
    "            unidades[producto] = cantidad\n",
    "    return unidades\n",
    "def listar_ventas(unidades):\n",
    "    for producto, cantidad in unidades.items():\n",
    "        print(f\"Producto: {producto}, unidades vendidas:{cantidad}\")\n",
    "        \n",
    "unidades=unidades_vendidas(datos)      \n",
    "listar_ventas(unidades)  \n",
    "\n"
   ]
  },
  {
   "cell_type": "markdown",
   "metadata": {},
   "source": [
    "##  Ejercicio 4: Listar el precio promedio por producto.\n",
    "\n",
    "Hacer un listado del precio promedio por productos."
   ]
  },
  {
   "cell_type": "code",
   "execution_count": 4,
   "metadata": {},
   "outputs": [
    {
     "name": "stdout",
     "output_type": "stream",
     "text": [
      "EL precio promedio de Mirinda es $1545.83\n",
      "EL precio promedio de Torasso es $920.00\n",
      "EL precio promedio de Pepsi Cola es $1245.00\n",
      "EL precio promedio de Sprite es $841.43\n",
      "EL precio promedio de Coca Cola es $1072.50\n"
     ]
    }
   ],
   "source": [
    "def precio_promedio(datos):\n",
    "    unidades={}\n",
    "    #acum_precio=0\n",
    "    cantidad={}\n",
    "    \n",
    "    for dato in datos:\n",
    "        producto = dato[\"Producto\"]\n",
    "        precio = dato[\"Precio\"]\n",
    "        \n",
    "        if producto in unidades:\n",
    "            unidades[producto] += precio\n",
    "            cantidad[producto]+=1\n",
    "        else:\n",
    "            unidades[producto] = precio \n",
    "            cantidad[producto]= 1\n",
    "            \n",
    "    \n",
    "    def listar_precios(unidades, cantidad):\n",
    "        for producto in unidades:\n",
    "            promedio = unidades[producto] / cantidad[producto]\n",
    "            print (f\"EL precio promedio de {producto} es ${promedio:.2f}\")\n",
    "    listar_precios(unidades, cantidad)\n",
    "\n",
    "precio_promedio(datos)"
   ]
  },
  {
   "cell_type": "markdown",
   "metadata": {},
   "source": [
    "### Ejercicio 5: Ranking de productos\n",
    "\n",
    "Realizar un listado de los 3 productos mas vendidos ordenados la cantidad de unidades vendidas (ordenadas de mayor a menor)\n"
   ]
  },
  {
   "cell_type": "code",
   "execution_count": 5,
   "metadata": {},
   "outputs": [
    {
     "name": "stdout",
     "output_type": "stream",
     "text": [
      "Ranking top 3 productos mas vendidos:\n",
      " -PEPSI COLA con 89 unidades vendidas.\n",
      " -MIRINDA con 85 unidades vendidas.\n",
      " -SPRITE con 72 unidades vendidas.\n"
     ]
    }
   ],
   "source": [
    "def ranking_productos(datos):\n",
    "    producto_mas_vendido={}\n",
    "    \n",
    "    for listado in datos:\n",
    "        producto = listado[\"Producto\"]\n",
    "        cantidad= listado[\"Cantidad\"]\n",
    "        if producto in producto_mas_vendido:\n",
    "            producto_mas_vendido[producto] += cantidad\n",
    "        else: \n",
    "            producto_mas_vendido[producto] = cantidad\n",
    "    ranking=sorted(producto_mas_vendido.items(),key=lambda x: x[1], reverse=True )\n",
    "    \n",
    "    def listar_ranking(ranking):\n",
    "        print(\"Ranking top 3 productos mas vendidos:\")\n",
    "        for producto, cantidad in ranking[0:3]:\n",
    "            print(f\" -{producto.upper()} con {cantidad} unidades vendidas.\")\n",
    "            \n",
    "    listar_ranking(ranking)\n",
    "    \n",
    "ranking_productos(datos)\n",
    "\n"
   ]
  },
  {
   "cell_type": "markdown",
   "metadata": {},
   "source": [
    "### Ejercicio 6: Listar las ventas por mes\n",
    "\n",
    "Realizar un listado del total de unidades vendidas por productos separada por mes."
   ]
  },
  {
   "cell_type": "code",
   "execution_count": 6,
   "metadata": {},
   "outputs": [
    {
     "name": "stdout",
     "output_type": "stream",
     "text": [
      "Listado de unidades vendidas para cada producto:\n",
      " -MIRINDA:\n",
      "En el mes 08 vendio 27 unidades.\n",
      "En el mes 09 vendio 58 unidades.\n",
      " -TORASSO:\n",
      "En el mes 08 vendio 8 unidades.\n",
      "En el mes 09 vendio 24 unidades.\n",
      " -PEPSI COLA:\n",
      "En el mes 08 vendio 10 unidades.\n",
      "En el mes 09 vendio 79 unidades.\n",
      " -SPRITE:\n",
      "En el mes 09 vendio 72 unidades.\n",
      " -COCA COLA:\n",
      "En el mes 09 vendio 57 unidades.\n"
     ]
    }
   ],
   "source": [
    "def ventas_por_mes(datos):\n",
    "    lista_ventas={}\n",
    "\n",
    "    for listado in datos:\n",
    "        producto=listado[\"Producto\"]\n",
    "        mes=listado[\"Fecha\"]\n",
    "        unidades=listado[\"Cantidad\"]\n",
    "        \n",
    "        if producto not in lista_ventas:\n",
    "            lista_ventas[producto]={}\n",
    "        if mes[5:7] in lista_ventas[producto]: \n",
    "            lista_ventas[producto][mes[5:7]] += unidades\n",
    "        else: \n",
    "            lista_ventas[producto][mes[5:7]] = unidades\n",
    "\n",
    "    return lista_ventas\n",
    "def listar_ventas_mensuales(ventas):\n",
    "    print(\"Listado de unidades vendidas para cada producto:\")\n",
    "    for producto, meses in ventas.items():\n",
    "        print(f\" -{producto.upper()}:\")\n",
    "        for mes, cantidad in meses.items():\n",
    "            print(f\"En el mes {mes} vendio {cantidad} unidades.\")\n",
    "        \n",
    "\n",
    "ventas = ventas_por_mes(datos)\n",
    "listar_ventas_mensuales(ventas)"
   ]
  },
  {
   "cell_type": "markdown",
   "metadata": {},
   "source": [
    "### Ejercicio 7: Informe general\n",
    "\n",
    "Mostrar un listado de productos ordenados alfabeticamente que contengan el precio promedio, la cantidad de unidades vendidas y el importe total vendido para cada producto"
   ]
  },
  {
   "cell_type": "code",
   "execution_count": 120,
   "metadata": {},
   "outputs": [
    {
     "name": "stdout",
     "output_type": "stream",
     "text": [
      "Listado de productos vendidos:\n",
      "-Coca Cola \n",
      "   → Ganancia: $60780.0.\n",
      "   → Cantidad: 57 unidades.\n",
      "   → Precio promedio :$1066.32.\n",
      "-Mirinda \n",
      "   → Ganancia: $131080.0.\n",
      "   → Cantidad: 85 unidades.\n",
      "   → Precio promedio :$1542.12.\n",
      "-Pepsi Cola \n",
      "   → Ganancia: $110510.0.\n",
      "   → Cantidad: 89 unidades.\n",
      "   → Precio promedio :$1241.69.\n",
      "-Sprite \n",
      "   → Ganancia: $61040.0.\n",
      "   → Cantidad: 72 unidades.\n",
      "   → Precio promedio :$847.78.\n",
      "-Torasso \n",
      "   → Ganancia: $29320.0.\n",
      "   → Cantidad: 32 unidades.\n",
      "   → Precio promedio :$916.25.\n"
     ]
    }
   ],
   "source": [
    "def resumen_ventas(datos):\n",
    "    listado={}\n",
    "    ganancia={}\n",
    "    for ventas in datos:\n",
    "        producto = ventas[\"Producto\"]\n",
    "        cantidad = ventas[\"Cantidad\"]\n",
    "        precio = ventas[\"Precio\"]\n",
    "        \n",
    "        if producto in listado:\n",
    "            \n",
    "            listado[producto] += cantidad \n",
    "            ganancia[producto] += cantidad * precio\n",
    "        else: \n",
    "            listado[producto]= cantidad\n",
    "            ganancia[producto] = cantidad * precio\n",
    "    return listado, ganancia \n",
    "def informe_ventas(listado, ganancia):\n",
    "    lista_ordenada= sorted(listado.items())\n",
    "    print(f\"Listado de productos vendidos:\")\n",
    "    for producto, cantidad in lista_ordenada:\n",
    "        promedio= ganancia[producto] / cantidad\n",
    "        print(f\"-{producto} \\n   → Ganancia: ${ganancia[producto]}.\\n   → Cantidad: {cantidad} unidades.\\n   → Precio promedio :${promedio:.2f}.\")\n",
    "        \n",
    "listado, ganancia = resumen_ventas(datos)\n",
    "informe_ventas(listado, ganancia)\n"
   ]
  }
 ],
 "metadata": {
  "kernelspec": {
   "display_name": "Python 3",
   "language": "python",
   "name": "python3"
  },
  "language_info": {
   "codemirror_mode": {
    "name": "ipython",
    "version": 3
   },
   "file_extension": ".py",
   "mimetype": "text/x-python",
   "name": "python",
   "nbconvert_exporter": "python",
   "pygments_lexer": "ipython3",
   "version": "3.12.5"
  }
 },
 "nbformat": 4,
 "nbformat_minor": 2
}
