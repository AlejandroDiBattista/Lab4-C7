{
 "cells": [
  {
   "cell_type": "markdown",
   "metadata": {},
   "source": [
    "# Simulación del Truco"
   ]
  },
  {
   "cell_type": "markdown",
   "metadata": {},
   "source": [
    "Las **cartas** deben registra el numero, palo y valor de la carta. \n",
    "El valor debe reflejar la jerarquía de las cartas en el juego del truco."
   ]
  },
  {
   "cell_type": "code",
   "execution_count": 88,
   "metadata": {},
   "outputs": [
    {
     "name": "stdout",
     "output_type": "stream",
     "text": [
      "1 de basto, jerarquia 13.\n",
      "1 de espada, jerarquia 14.\n",
      "4 de copa, jerarquia 1.\n"
     ]
    }
   ],
   "source": [
    "def calcular_valor(numero, palo):\n",
    "    jerarquia = {\n",
    "        (1, \"espada\"): 14,  \n",
    "        (1, \"basto\"): 13,  \n",
    "        (7, \"espada\"): 12, \n",
    "        (7, \"oro\"): 11,    \n",
    "        (3, \"oro\"): 10,     \n",
    "        (3, \"espada\"): 10,\n",
    "        (3, \"basto\"): 10,\n",
    "        (3, \"copa\"): 10,\n",
    "        (2, \"oro\"): 9,     \n",
    "        (2, \"espada\"): 9,\n",
    "        (2, \"basto\"): 9,\n",
    "        (2, \"copa\"): 9,\n",
    "        (1, \"oro\"): 8,     \n",
    "        (1, \"copa\"): 8,\n",
    "        (12, \"oro\"): 7,     \n",
    "        (12, \"espada\"): 7,\n",
    "        (12, \"basto\"): 7,\n",
    "        (12, \"copa\"): 7,\n",
    "        (11, \"oro\"): 6,\n",
    "        (11, \"espada\"): 6,\n",
    "        (11, \"basto\"): 6,\n",
    "        (11, \"copa\"): 6,\n",
    "        (10, \"oro\"): 5,\n",
    "        (10, \"espada\"): 5,\n",
    "        (10, \"basto\"): 5,\n",
    "        (10, \"copa\"): 5,\n",
    "        (7, \"basto\"): 4,    \n",
    "        (7, \"copa\"): 4,\n",
    "        (6, \"oro\"): 3,\n",
    "        (6, \"espada\"): 3,\n",
    "        (6, \"basto\"): 3,\n",
    "        (6, \"copa\"): 3,\n",
    "        (5, \"oro\"): 2,\n",
    "        (5, \"espada\"): 2,\n",
    "        (5, \"basto\"): 2,\n",
    "        (5, \"copa\"): 2,\n",
    "        (4, \"oro\"): 1,\n",
    "        (4, \"espada\"): 1,\n",
    "        (4, \"basto\"): 1,\n",
    "        (4, \"copa\"): 1\n",
    "    }\n",
    "    return jerarquia.get((numero, palo), 0)\n",
    "class Carta:\n",
    "    def __init__(self, numero, palo):\n",
    "        self.numero = numero \n",
    "        self.palo = palo\n",
    "        self.valor = calcular_valor(numero, palo)\n",
    "        \n",
    "    def jerarquia(self):\n",
    "        print(f\"{self.numero} de {self.palo}, jerarquia {self.valor}.\")\n",
    "    \n",
    "    def __str__(self):\n",
    "        return f\"{self.numero} de {self.palo}\"\n",
    "\n",
    "c1 = Carta(1, \"basto\")\n",
    "c1.jerarquia()\n",
    "\n",
    "c2 = Carta (1, \"espada\")\n",
    "c2.jerarquia()\n",
    "\n",
    "c3 = Carta(4, \"copa\")\n",
    "c3.jerarquia()\n"
   ]
  },
  {
   "cell_type": "markdown",
   "metadata": {},
   "source": [
    "**Mazo**: Representan las cartas españolas de 1 al 12, en los palos de oro, copa, espada y basto.\n",
    "\n",
    "Debe existir una función que permita barajar las cartas.\n",
    "y otra función que permita repartir las cartas a los jugadores."
   ]
  },
  {
   "cell_type": "code",
   "execution_count": 207,
   "metadata": {},
   "outputs": [
    {
     "name": "stdout",
     "output_type": "stream",
     "text": [
      "10 de oro\n",
      "12 de copa\n",
      "4 de oro\n"
     ]
    }
   ],
   "source": [
    "import random\n",
    "palos=[\"oro\", \"basto\", \"espada\", \"copa\"]\n",
    "numeros=[1,2,3,4,5,6,7,10,11,12]\n",
    "class Mazo():\n",
    "    \n",
    "    def __init__(self):\n",
    "        self.cartas=[]\n",
    "        for numero in numeros:\n",
    "                for palo in palos:\n",
    "                    self.cartas.append(Carta(numero, palo))\n",
    "        self.mezclar()\n",
    "                    \n",
    "    def mezclar(self):\n",
    "        random.shuffle(self.cartas)\n",
    "\n",
    "    def repartir(self, cantidad):\n",
    "        return [self.cartas.pop() for _ in range(cantidad)]\n",
    "\n",
    "m = Mazo()\n",
    "resultado = m.repartir(3)\n",
    "for carta in resultado:\n",
    "    print(carta)\n"
   ]
  },
  {
   "cell_type": "markdown",
   "metadata": {},
   "source": [
    "**Jugador**: Deben tener un nombre y las cartas que tiene en la mano. Debe acumular los puntos ganados.\n",
    "\n",
    "Nota: Para simplificar el problema, el jugador elige la carta a jugar de forma aleatoria."
   ]
  },
  {
   "cell_type": "code",
   "execution_count": 208,
   "metadata": {},
   "outputs": [
    {
     "name": "stdout",
     "output_type": "stream",
     "text": [
      "Jugador Juan. Cartas: \n",
      "10 de copa\n",
      "12 de espada\n",
      "4 de basto\n",
      "puntos acumulados 13\n"
     ]
    }
   ],
   "source": [
    "class Jugador:\n",
    "    def __init__(self, nombre):\n",
    "        self.nombre=nombre\n",
    "        self.cartas=[]\n",
    "        self.puntos=0\n",
    "\n",
    "    def __str__(self):\n",
    "        return f\"{self.nombre}\" \n",
    "     \n",
    "    def recibir_cartas(self, cartas):\n",
    "        self.cartas= cartas\n",
    "    \n",
    "    def jugar_carta(self):\n",
    "        random.shuffle(self.cartas)\n",
    "        jugada =self.cartas.pop()\n",
    "        self.puntos += jugada.valor\n",
    "        return jugada\n",
    "\n",
    "j = Jugador(\"Juan\")\n",
    "j.recibir_cartas(m.repartir(3))\n",
    "\n",
    "print (f\"Jugador {j}. Cartas: \")\n",
    "\n",
    "for _ in range (3):\n",
    "    print(f\"{j.jugar_carta()}\")\n",
    "print (f\"puntos acumulados {j.puntos}\")\n",
    "\n"
   ]
  },
  {
   "cell_type": "markdown",
   "metadata": {},
   "source": [
    "**Partida**: Debe tener dos jugadores, un mazo de cartas y un puntaje. Debe permitir jugar una carta por ronda y definir el ganador de la ronda. Debe permitir jugar hasta que se terminen las cartas del mazo."
   ]
  },
  {
   "cell_type": "code",
   "execution_count": null,
   "metadata": {},
   "outputs": [],
   "source": [
    "class Partida:\n",
    "    def __init__(self, jugador1, jugador2):\n",
    "        pass\n",
    "\n",
    "    def jugar_ronda(self):\n",
    "\n",
    "        pass \n",
    "\n",
    "    def jugar(self):\n",
    "        # Mientras que ningun jugador acumule 15 puntos.abs\n",
    "        # Mezclar el mazo\n",
    "        # Repartir 3 cartas a cada jugador\n",
    "        # Jugar ronda\n",
    "        # Revisar quien gano la ronda\n",
    "        # Sumar puntos\n",
    "        pass\n",
    "\n",
    "p = Partida(Jugador(\"Juan\"), Jugador(\"Pedro\"))\n",
    "p.jugar()"
   ]
  }
 ],
 "metadata": {
  "kernelspec": {
   "display_name": "Python 3",
   "language": "python",
   "name": "python3"
  },
  "language_info": {
   "codemirror_mode": {
    "name": "ipython",
    "version": 3
   },
   "file_extension": ".py",
   "mimetype": "text/x-python",
   "name": "python",
   "nbconvert_exporter": "python",
   "pygments_lexer": "ipython3",
   "version": "3.12.5"
  }
 },
 "nbformat": 4,
 "nbformat_minor": 2
}
