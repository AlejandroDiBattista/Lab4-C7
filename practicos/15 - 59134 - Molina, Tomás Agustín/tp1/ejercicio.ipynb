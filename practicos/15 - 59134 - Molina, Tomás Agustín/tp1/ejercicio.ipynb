{
 "cells": [
  {
   "cell_type": "markdown",
   "metadata": {},
   "source": [
    "# Trabajo práctico 1\n",
    "\n"
   ]
  },
  {
   "cell_type": "markdown",
   "metadata": {},
   "source": [
    "## Ejercicio 1 \n",
    "\n",
    "Escribe una función en Python que procese una lista de cadenas de texto y realice las siguientes acciones:\n",
    "\n",
    "1. Tomar una lista de frases y convertir cada frase en una lista de palabras.\n",
    "1. Luego, debe crear una nueva lista que contenga la cantidad de palabras en cada frase.\n",
    "1. Tambien debe crear un lista que contenga la cantidad de caracteres en cada frase.\n",
    "1. Finalmente, debe imprimir cada frase original junto con la cantidad de palabras que contiene.\n",
    "Ejemplo de uso:\n",
    "```python\n",
    "    frases = [\n",
    "        \"Python es un lenguaje de programación\",\n",
    "        \"Me gusta resolver problemas con código\",\n",
    "        \"Las listas y los bucles son muy útiles\"\n",
    "    ]\n",
    "\n",
    "    procesar_frases(frases)\n",
    "```\n",
    "\n",
    "ejemplo de salida:\n",
    "```bash\n",
    "    La frase: \"Python es un...\"\n",
    "    tiene 6 palabras y 38 caracteres\n",
    "```\n"
   ]
  },
  {
   "cell_type": "code",
   "execution_count": 1,
   "metadata": {},
   "outputs": [
    {
     "name": "stdout",
     "output_type": "stream",
     "text": [
      "La frase: \"Python es el lenguaje de programación mejor pagado\"\n",
      " tiene 8 palabras y 50 caracteres\n",
      "\n",
      "La frase: \"Este ejercicio es muy bueno\"\n",
      " tiene 5 palabras y 27 caracteres\n",
      "\n",
      "La frase: \"El siguiente ejercicio seria el 2, basado en funciones de x\"\n",
      " tiene 11 palabras y 59 caracteres\n",
      "\n"
     ]
    }
   ],
   "source": [
    "# Implementar\n",
    "\n",
    "frases = [\n",
    "    \"Python es el lenguaje de programación mejor pagado\",\n",
    "    \"Este ejercicio es muy bueno\",\n",
    "    \"El siguiente ejercicio seria el 2, basado en funciones de x\"\n",
    "]\n",
    "\n",
    "def procesar_frases(frases):\n",
    "    for frase in frases:\n",
    "        cantidad_caracteres = len(frase)\n",
    "        palabras = frase.split()\n",
    "        cantidad_palabras = len(palabras)\n",
    "        \n",
    "        print(f\"La frase: \\\"{frase}\\\"\")\n",
    "        print(f\" tiene {cantidad_palabras} palabras y {cantidad_caracteres} caracteres\\n\")\n",
    "    \n",
    "procesar_frases(frases)"
   ]
  },
  {
   "cell_type": "markdown",
   "metadata": {},
   "source": [
    "## Ejercicio 2\n",
    "\n",
    "Escribe una función en Python que encuentre los valores de `a`, `b`, y `c` para que la función cuadrática `f(x) = aX^2 + bX + c` pase exactamente por los siguientes puntos:\n",
    "\n",
    "| x  | y  |\n",
    "|---:|---:|\n",
    "|  0 |  0 |\n",
    "|  1 |  8 |\n",
    "|  2 | 12 |\n",
    "|  3 | 12 |\n",
    "|  5 |  0 |\n",
    "\n",
    "### Requisitos:\n",
    "- La función debe explorar posibles valores de `a`, `b`, y `c` utilizando un método de prueba y error.\n",
    "- Debe devolver los valores que hagan que la diferencia entre la función `f(x)` y los valores medidos `y` sea exactamente cero para cada punto.\n",
    "\n",
    "> **Pista**: Los valores de `a`, `b`, y `c` son números pequeños."
   ]
  },
  {
   "cell_type": "code",
   "execution_count": 2,
   "metadata": {},
   "outputs": [
    {
     "name": "stdout",
     "output_type": "stream",
     "text": [
      "Los valores correctos serían: a = -2, b = 10 y c = 0\n"
     ]
    }
   ],
   "source": [
    "# Implementar\n",
    "def prueba_y_error():\n",
    "    puntos = [(0,0), (1,8), (2,12), (3,12), (5,0)]\n",
    "    \n",
    "    for a in range(-10,11):\n",
    "        for b in range(-10,11):\n",
    "            for c in range(-10,11):\n",
    "                es_correcto = True \n",
    "                \n",
    "                for x, y in puntos:\n",
    "                    y_calculado = a * x**2 + b * x + c\n",
    "                    \n",
    "                    if y_calculado != y:\n",
    "                        es_correcto = False\n",
    "                        break\n",
    "                    \n",
    "                if es_correcto:\n",
    "                    return a, b, c\n",
    "                \n",
    "a, b, c = prueba_y_error()\n",
    "print(f\"Los valores correctos serían: a = {a}, b = {b} y c = {c}\")"
   ]
  }
 ],
 "metadata": {
  "kernelspec": {
   "display_name": "Python 3",
   "language": "python",
   "name": "python3"
  },
  "language_info": {
   "codemirror_mode": {
    "name": "ipython",
    "version": 3
   },
   "file_extension": ".py",
   "mimetype": "text/x-python",
   "name": "python",
   "nbconvert_exporter": "python",
   "pygments_lexer": "ipython3",
   "version": "3.12.5"
  }
 },
 "nbformat": 4,
 "nbformat_minor": 2
}
