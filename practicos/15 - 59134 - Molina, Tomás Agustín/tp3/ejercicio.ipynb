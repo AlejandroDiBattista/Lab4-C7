{
 "cells": [
  {
   "cell_type": "markdown",
   "metadata": {},
   "source": [
    "#TP3"
   ]
  },
  {
   "cell_type": "markdown",
   "metadata": {},
   "source": [
    "## Ejercicio 1: Cargar Datos de ventas.\n",
    "\n",
    "El archivo datos.dat contiene el registro de las ventas realizadas.\n",
    "\n",
    "Tiene un formato de ancho fijo:\n",
    "- fecha:    10 lugares\n",
    "- producto: 30 lugares\n",
    "- precio:   10 lugares\n",
    "- cantidad:  5 lugares\n",
    "\n",
    "hacer una funcion que carge los en una lista de diccionarios. \n",
    "\n",
    "nota: con \n",
    "```python\n",
    "lineas = open(\"datos.dat\", \"r\").readlines() \n",
    "```\n",
    "puede obtener la lista de string de todos los datos "
   ]
  },
  {
   "cell_type": "code",
   "execution_count": 1,
   "metadata": {},
   "outputs": [
    {
     "name": "stdout",
     "output_type": "stream",
     "text": [
      "{'fecha': '2024-08-27', 'producto': 'Mirinda', 'precio': 1510, 'cantidad': 14}\n",
      "{'fecha': '2024-08-27', 'producto': 'Mirinda', 'precio': 1560, 'cantidad': 12}\n",
      "{'fecha': '2024-08-28', 'producto': 'Torasso', 'precio': 940, 'cantidad': 8}\n",
      "{'fecha': '2024-08-29', 'producto': 'Pepsi Cola', 'precio': 1210, 'cantidad': 10}\n",
      "{'fecha': '2024-08-30', 'producto': 'Mirinda', 'precio': 1520, 'cantidad': 1}\n",
      "{'fecha': '2024-09-01', 'producto': 'Mirinda', 'precio': 1550, 'cantidad': 15}\n",
      "{'fecha': '2024-09-01', 'producto': 'Sprite', 'precio': 810, 'cantidad': 4}\n",
      "{'fecha': '2024-09-02', 'producto': 'Coca Cola', 'precio': 1100, 'cantidad': 4}\n",
      "{'fecha': '2024-09-02', 'producto': 'Pepsi Cola', 'precio': 1220, 'cantidad': 13}\n",
      "{'fecha': '2024-09-02', 'producto': 'Torasso', 'precio': 910, 'cantidad': 5}\n",
      "{'fecha': '2024-09-02', 'producto': 'Torasso', 'precio': 920, 'cantidad': 3}\n",
      "{'fecha': '2024-09-03', 'producto': 'Coca Cola', 'precio': 1020, 'cantidad': 8}\n",
      "{'fecha': '2024-09-03', 'producto': 'Mirinda', 'precio': 1570, 'cantidad': 7}\n",
      "{'fecha': '2024-09-03', 'producto': 'Mirinda', 'precio': 1590, 'cantidad': 2}\n",
      "{'fecha': '2024-09-04', 'producto': 'Pepsi Cola', 'precio': 1220, 'cantidad': 13}\n",
      "{'fecha': '2024-09-05', 'producto': 'Mirinda', 'precio': 1500, 'cantidad': 3}\n",
      "{'fecha': '2024-09-05', 'producto': 'Pepsi Cola', 'precio': 1300, 'cantidad': 5}\n",
      "{'fecha': '2024-09-06', 'producto': 'Coca Cola', 'precio': 1080, 'cantidad': 1}\n",
      "{'fecha': '2024-09-06', 'producto': 'Sprite', 'precio': 860, 'cantidad': 12}\n",
      "{'fecha': '2024-09-06', 'producto': 'Torasso', 'precio': 930, 'cantidad': 3}\n",
      "{'fecha': '2024-09-07', 'producto': 'Coca Cola', 'precio': 1080, 'cantidad': 14}\n",
      "{'fecha': '2024-09-07', 'producto': 'Sprite', 'precio': 870, 'cantidad': 13}\n",
      "{'fecha': '2024-09-08', 'producto': 'Coca Cola', 'precio': 1040, 'cantidad': 10}\n",
      "{'fecha': '2024-09-08', 'producto': 'Mirinda', 'precio': 1580, 'cantidad': 2}\n",
      "{'fecha': '2024-09-08', 'producto': 'Pepsi Cola', 'precio': 1240, 'cantidad': 9}\n",
      "{'fecha': '2024-09-09', 'producto': 'Mirinda', 'precio': 1500, 'cantidad': 3}\n",
      "{'fecha': '2024-09-09', 'producto': 'Sprite', 'precio': 850, 'cantidad': 9}\n",
      "{'fecha': '2024-09-10', 'producto': 'Mirinda', 'precio': 1590, 'cantidad': 8}\n",
      "{'fecha': '2024-09-10', 'producto': 'Pepsi Cola', 'precio': 1250, 'cantidad': 12}\n",
      "{'fecha': '2024-09-11', 'producto': 'Sprite', 'precio': 810, 'cantidad': 6}\n",
      "{'fecha': '2024-09-11', 'producto': 'Sprite', 'precio': 820, 'cantidad': 14}\n",
      "{'fecha': '2024-09-12', 'producto': 'Coca Cola', 'precio': 1080, 'cantidad': 4}\n",
      "{'fecha': '2024-09-13', 'producto': 'Mirinda', 'precio': 1580, 'cantidad': 5}\n",
      "{'fecha': '2024-09-13', 'producto': 'Pepsi Cola', 'precio': 1250, 'cantidad': 13}\n",
      "{'fecha': '2024-09-14', 'producto': 'Coca Cola', 'precio': 1080, 'cantidad': 15}\n",
      "{'fecha': '2024-09-14', 'producto': 'Pepsi Cola', 'precio': 1270, 'cantidad': 14}\n",
      "{'fecha': '2024-09-15', 'producto': 'Coca Cola', 'precio': 1100, 'cantidad': 1}\n",
      "{'fecha': '2024-09-15', 'producto': 'Mirinda', 'precio': 1500, 'cantidad': 13}\n",
      "{'fecha': '2024-09-15', 'producto': 'Sprite', 'precio': 870, 'cantidad': 14}\n",
      "{'fecha': '2024-09-15', 'producto': 'Torasso', 'precio': 900, 'cantidad': 13}\n"
     ]
    }
   ],
   "source": [
    "def cargar_datos(filename):\n",
    "    ventas = []\n",
    "\n",
    "    lineas = open(filename, \"r\").readlines()\n",
    "\n",
    "    for linea in lineas:\n",
    "        fecha = linea[0:10].strip()            # Del caracter 0 al 9\n",
    "        producto = linea[10:40].strip()        # Del caracter 10 al 39\n",
    "        precio = int(linea[40:50].strip())     # Del caracter 40 al 49\n",
    "        cantidad = int(linea[50:55].strip())   # Del caracter 50 al 54\n",
    "\n",
    "        venta = {\n",
    "            'fecha': fecha,\n",
    "            'producto': producto,\n",
    "            'precio': precio,\n",
    "            'cantidad': cantidad\n",
    "        }\n",
    "        ventas.append(venta)\n",
    "    return ventas\n",
    "if __name__ == \"__main__\":\n",
    "    archivo = 'datos.dat' \n",
    "    lista_ventas = cargar_datos(archivo)\n",
    "    \n",
    "    for venta in lista_ventas:\n",
    "        print(venta)"
   ]
  },
  {
   "cell_type": "markdown",
   "metadata": {},
   "source": [
    "## Ejercicio 2: Calcular el total de ventas.\n",
    "\n",
    "Hacer una funcion que sume los importes vendidos (precio * cantidad) y las cantidades"
   ]
  },
  {
   "cell_type": "code",
   "execution_count": 2,
   "metadata": {},
   "outputs": [
    {
     "name": "stdout",
     "output_type": "stream",
     "text": [
      "Las ventas fueron de $392730.00 en 335 unidades\n"
     ]
    }
   ],
   "source": [
    "def calcular_totales(datos):\n",
    "    total_importe = 0\n",
    "    total_cantidad = 0\n",
    "    for venta in datos:\n",
    "        importe = venta['precio'] * venta['cantidad']\n",
    "        total_importe += importe\n",
    "        total_cantidad += venta['cantidad']\n",
    "\n",
    "    return total_importe, total_cantidad\n",
    "\n",
    "if __name__ == \"__main__\":\n",
    "    archivo = 'datos.dat'\n",
    "    lista_ventas = cargar_datos(archivo)\n",
    "    \n",
    "    importe, cantidad = calcular_totales(lista_ventas)\n",
    "\n",
    "    print(f\"Las ventas fueron de ${importe:.2f} en {cantidad} unidades\")"
   ]
  },
  {
   "cell_type": "markdown",
   "metadata": {},
   "source": [
    "## Ejercicio 3: Listar las unidades vendidas.\n",
    "\n",
    "Listar cuantas unidades se vendieron en total para cada producto"
   ]
  },
  {
   "cell_type": "code",
   "execution_count": 3,
   "metadata": {},
   "outputs": [
    {
     "name": "stdout",
     "output_type": "stream",
     "text": [
      "Unidades vendidas por producto:\n",
      "Mirinda: 85 unidades\n",
      "Torasso: 32 unidades\n",
      "Pepsi Cola: 89 unidades\n",
      "Sprite: 72 unidades\n",
      "Coca Cola: 57 unidades\n"
     ]
    }
   ],
   "source": [
    "def unidades_vendidas(datos):\n",
    "    ventas_por_producto = {}\n",
    "\n",
    "    for venta in datos:\n",
    "        producto = venta['producto']\n",
    "        cantidad = venta['cantidad']\n",
    "\n",
    "        if producto in ventas_por_producto:\n",
    "            ventas_por_producto[producto] += cantidad\n",
    "        else:\n",
    "            ventas_por_producto[producto] = cantidad\n",
    "\n",
    "    return ventas_por_producto\n",
    "\n",
    "def listar_ventas(ventas_por_producto):\n",
    "    print(\"Unidades vendidas por producto:\")\n",
    "    for producto, cantidad in ventas_por_producto.items():\n",
    "        print(f\"{producto}: {cantidad} unidades\")\n",
    "\n",
    "if __name__ == \"__main__\":\n",
    "    archivo = 'datos.dat'\n",
    "    lista_ventas = cargar_datos(archivo)\n",
    "\n",
    "    ventas = unidades_vendidas(lista_ventas)\n",
    "    \n",
    "    listar_ventas(ventas)\n",
    "\n"
   ]
  },
  {
   "cell_type": "markdown",
   "metadata": {},
   "source": [
    "##  Ejercicio 4: Listar el precio promedio por producto.\n",
    "\n",
    "Hacer un listado del precio promedio por productos."
   ]
  },
  {
   "cell_type": "code",
   "execution_count": 4,
   "metadata": {},
   "outputs": [
    {
     "name": "stdout",
     "output_type": "stream",
     "text": [
      "Precio promedio por producto:\n",
      "Mirinda: $1545.83\n",
      "Torasso: $920.00\n",
      "Pepsi Cola: $1245.00\n",
      "Sprite: $841.43\n",
      "Coca Cola: $1072.50\n"
     ]
    }
   ],
   "source": [
    "def precio_promedio(datos):\n",
    "    suma_precios = {}\n",
    "    ocurrencias = {}\n",
    "    \n",
    "    for venta in datos:\n",
    "        producto = venta['producto']\n",
    "        precio = venta['precio']\n",
    "\n",
    "        if producto in suma_precios:\n",
    "            suma_precios[producto] += precio\n",
    "            ocurrencias[producto] += 1\n",
    "        else:\n",
    "            suma_precios[producto] = precio\n",
    "            ocurrencias[producto] = 1\n",
    "\n",
    "    precios_promedio = {}\n",
    "    for producto in suma_precios:\n",
    "        precios_promedio[producto] = suma_precios[producto] / ocurrencias[producto]\n",
    "\n",
    "    return precios_promedio\n",
    "\n",
    "def listar_precios(precios_promedio):\n",
    "    print(\"Precio promedio por producto:\")\n",
    "    for producto, precio in precios_promedio.items():\n",
    "        print(f\"{producto}: ${precio:.2f}\")\n",
    "\n",
    "if __name__ == \"__main__\":\n",
    "    archivo = 'datos.dat'\n",
    "    lista_ventas = cargar_datos(archivo)\n",
    "\n",
    "    precios = precio_promedio(lista_ventas)\n",
    "    \n",
    "    listar_precios(precios)"
   ]
  },
  {
   "cell_type": "markdown",
   "metadata": {},
   "source": [
    "### Ejercicio 5: Ranking de productos\n",
    "\n",
    "Realizar un listado de los 3 productos mas vendidos ordenados la cantidad de unidades vendidas (ordenadas de mayor a menor)\n"
   ]
  },
  {
   "cell_type": "code",
   "execution_count": 5,
   "metadata": {},
   "outputs": [
    {
     "name": "stdout",
     "output_type": "stream",
     "text": [
      "Top 3 productos más vendidos:\n",
      "1. Pepsi Cola: 89 unidades\n",
      "2. Mirinda: 85 unidades\n",
      "3. Sprite: 72 unidades\n"
     ]
    }
   ],
   "source": [
    "def ranking_productos(datos, top=3):\n",
    "    ventas_por_producto = unidades_vendidas(datos)\n",
    "\n",
    "    ranking = sorted(ventas_por_producto.items(), key=lambda x: x[1], reverse=True)\n",
    "\n",
    "    return ranking[:top]\n",
    "\n",
    "def listar_ranking(ranking):\n",
    "    print(f\"Top {len(ranking)} productos más vendidos:\")\n",
    "    for i, (producto, cantidad) in enumerate(ranking, 1):\n",
    "        print(f\"{i}. {producto}: {cantidad} unidades\")\n",
    "\n",
    "if __name__ == \"__main__\":\n",
    "    archivo = 'datos.dat'\n",
    "    lista_ventas = cargar_datos(archivo)\n",
    "\n",
    "    ranking = ranking_productos(lista_ventas)\n",
    "    \n",
    "    listar_ranking(ranking)"
   ]
  },
  {
   "cell_type": "markdown",
   "metadata": {},
   "source": [
    "### Ejercicio 6: Listar las ventas por mes\n",
    "\n",
    "Realizar un listado del total de unidades vendidas por productos separada por mes."
   ]
  },
  {
   "cell_type": "code",
   "execution_count": 6,
   "metadata": {},
   "outputs": [
    {
     "name": "stdout",
     "output_type": "stream",
     "text": [
      "Ventas por mes:\n",
      "\n",
      "Mes: 2024-08\n",
      "Mirinda: 27 unidades\n",
      "Torasso: 8 unidades\n",
      "Pepsi Cola: 10 unidades\n",
      "\n",
      "Mes: 2024-09\n",
      "Mirinda: 58 unidades\n",
      "Sprite: 72 unidades\n",
      "Coca Cola: 57 unidades\n",
      "Pepsi Cola: 79 unidades\n",
      "Torasso: 24 unidades\n"
     ]
    }
   ],
   "source": [
    "from collections import defaultdict\n",
    "\n",
    "def ventas_por_mes(datos):\n",
    "    ventas_mensuales = defaultdict(lambda: defaultdict(int))\n",
    "\n",
    "    for venta in datos:\n",
    "        fecha = venta['fecha']\n",
    "        mes = fecha[:7]\n",
    "        producto = venta['producto']\n",
    "        cantidad = venta['cantidad']\n",
    "\n",
    "        ventas_mensuales[mes][producto] += cantidad\n",
    "\n",
    "    return dict(ventas_mensuales)\n",
    "\n",
    "def listar_ventas_mensuales(ventas):\n",
    "    print(\"Ventas por mes:\")\n",
    "    for mes, productos in sorted(ventas.items()):\n",
    "        print(f\"\\nMes: {mes}\")\n",
    "        for producto, cantidad in productos.items():\n",
    "            print(f\"{producto}: {cantidad} unidades\")\n",
    "\n",
    "if __name__ == \"__main__\":\n",
    "    archivo = 'datos.dat'\n",
    "    lista_ventas = cargar_datos(archivo)\n",
    "\n",
    "    ventas = ventas_por_mes(lista_ventas)\n",
    "    \n",
    "    listar_ventas_mensuales(ventas)"
   ]
  },
  {
   "cell_type": "markdown",
   "metadata": {},
   "source": [
    "### Ejercicio 7: Informe general\n",
    "\n",
    "Mostrar un listado de productos ordenados alfabeticamente que contengan el precio promedio, la cantidad de unidades vendidas y el importe total vendido para cada producto"
   ]
  },
  {
   "cell_type": "code",
   "execution_count": 7,
   "metadata": {},
   "outputs": [
    {
     "name": "stdout",
     "output_type": "stream",
     "text": [
      "Informe de Ventas:\n",
      "Coca Cola: Precio promedio: $150.53, Cantidad vendida: 57 unidades, Importe total: $60780.00\n",
      "Mirinda: Precio promedio: $218.24, Cantidad vendida: 85 unidades, Importe total: $131080.00\n",
      "Pepsi Cola: Precio promedio: $111.91, Cantidad vendida: 89 unidades, Importe total: $110510.00\n",
      "Sprite: Precio promedio: $81.81, Cantidad vendida: 72 unidades, Importe total: $61040.00\n",
      "Torasso: Precio promedio: $143.75, Cantidad vendida: 32 unidades, Importe total: $29320.00\n"
     ]
    }
   ],
   "source": [
    "def resumen_ventas(datos):\n",
    "    suma_precios = {}\n",
    "    cantidad_vendida = {}\n",
    "    importe_total = {}\n",
    "\n",
    "    for venta in datos:\n",
    "        producto = venta['producto']\n",
    "        precio = venta['precio']\n",
    "        cantidad = venta['cantidad']\n",
    "\n",
    "        suma_precios[producto] = suma_precios.get(producto, 0) + precio\n",
    "        cantidad_vendida[producto] = cantidad_vendida.get(producto, 0) + cantidad\n",
    "        importe_total[producto] = importe_total.get(producto, 0) + (precio * cantidad)\n",
    "\n",
    "    resumen = {}\n",
    "    for producto in suma_precios:\n",
    "        total_cantidad = cantidad_vendida[producto]\n",
    "        total_importe = importe_total[producto]\n",
    "        precio_promedio = suma_precios[producto] / total_cantidad if total_cantidad > 0 else 0\n",
    "\n",
    "        resumen[producto] = {\n",
    "            'precio_promedio': precio_promedio,\n",
    "            'cantidad_vendida': total_cantidad,\n",
    "            'importe_total': total_importe,\n",
    "        }\n",
    "\n",
    "    return resumen\n",
    "\n",
    "def informe_ventas(resumen):\n",
    "    print(\"Informe de Ventas:\")\n",
    "    for producto in sorted(resumen.keys()):\n",
    "        datos_producto = resumen[producto]\n",
    "        print(f\"{producto}: Precio promedio: ${datos_producto['precio_promedio']:.2f}, \"\n",
    "              f\"Cantidad vendida: {datos_producto['cantidad_vendida']} unidades, \"\n",
    "              f\"Importe total: ${datos_producto['importe_total']:.2f}\")\n",
    "\n",
    "if __name__ == \"__main__\":\n",
    "    archivo = 'datos.dat'\n",
    "    lista_ventas = cargar_datos(archivo)\n",
    "\n",
    "    resumen = resumen_ventas(lista_ventas)\n",
    "    \n",
    "    informe_ventas(resumen)"
   ]
  }
 ],
 "metadata": {
  "kernelspec": {
   "display_name": "Python 3",
   "language": "python",
   "name": "python3"
  },
  "language_info": {
   "codemirror_mode": {
    "name": "ipython",
    "version": 3
   },
   "file_extension": ".py",
   "mimetype": "text/x-python",
   "name": "python",
   "nbconvert_exporter": "python",
   "pygments_lexer": "ipython3",
   "version": "3.12.5"
  }
 },
 "nbformat": 4,
 "nbformat_minor": 2
}
