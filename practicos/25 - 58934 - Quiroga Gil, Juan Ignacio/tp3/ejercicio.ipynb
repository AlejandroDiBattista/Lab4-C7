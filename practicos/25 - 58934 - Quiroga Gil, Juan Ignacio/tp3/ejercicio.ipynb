{
 "cells": [
  {
   "cell_type": "markdown",
   "metadata": {},
   "source": [
    "#TP3"
   ]
  },
  {
   "cell_type": "markdown",
   "metadata": {},
   "source": [
    "## Ejercicio 1: Cargar Datos de ventas.\n",
    "\n",
    "El archivo datos.dat contiene el registro de las ventas realizadas.\n",
    "\n",
    "Tiene un formato de ancho fijo:\n",
    "- fecha:    10 lugares\n",
    "- producto: 30 lugares\n",
    "- precio:   10 lugares\n",
    "- cantidad:  5 lugares\n",
    "\n",
    "hacer una funcion que carge los en una lista de diccionarios. \n",
    "\n",
    "nota: con \n",
    "```python\n",
    "lineas = open(\"datos.dat\", \"r\").readlines() \n",
    "```\n",
    "puede obtener la lista de string de todos los datos "
   ]
  },
  {
   "cell_type": "code",
   "execution_count": 1,
   "metadata": {},
   "outputs": [],
   "source": [
    "def cargar_datos():\n",
    "    datos = []\n",
    "    with open(\"datos.dat\", \"r\") as file:\n",
    "        for linea in file:\n",
    "            fecha = linea[:10].strip()\n",
    "            producto = linea[10:40].strip()\n",
    "            precio = float(linea[40:50].strip())\n",
    "            cantidad = int(linea[50:].strip())\n",
    "            datos.append({\n",
    "                'fecha': fecha,\n",
    "                'producto': producto,\n",
    "                'precio': precio,\n",
    "                'cantidad': cantidad\n",
    "            })\n",
    "    return datos\n",
    "\n",
    "datos = cargar_datos()"
   ]
  },
  {
   "cell_type": "markdown",
   "metadata": {},
   "source": [
    "## Ejercicio 2: Calcular el total de ventas.\n",
    "\n",
    "Hacer una funcion que sume los importes vendidos (precio * cantidad) y las cantidades"
   ]
  },
  {
   "cell_type": "code",
   "execution_count": 2,
   "metadata": {},
   "outputs": [
    {
     "name": "stdout",
     "output_type": "stream",
     "text": [
      "Las ventas fueron de $392730.00 en 335 unidades\n"
     ]
    }
   ],
   "source": [
    "def calcular_totales(datos):\n",
    "    importe_total = sum(venta['precio'] * venta['cantidad'] for venta in datos)\n",
    "    cantidad_total = sum(venta['cantidad'] for venta in datos)\n",
    "    return importe_total, cantidad_total\n",
    "\n",
    "importe, cantidad = calcular_totales(datos)\n",
    "print(f\"Las ventas fueron de ${importe:.2f} en {cantidad} unidades\")"
   ]
  },
  {
   "cell_type": "markdown",
   "metadata": {},
   "source": [
    "## Ejercicio 3: Listar las unidades vendidas.\n",
    "\n",
    "Listar cuantas unidades se vendieron en total para cada producto"
   ]
  },
  {
   "cell_type": "code",
   "execution_count": 3,
   "metadata": {},
   "outputs": [
    {
     "name": "stdout",
     "output_type": "stream",
     "text": [
      "Mirinda: 85 unidades\n",
      "Torasso: 32 unidades\n",
      "Pepsi Cola: 89 unidades\n",
      "Sprite: 72 unidades\n",
      "Coca Cola: 57 unidades\n"
     ]
    }
   ],
   "source": [
    "def unidades_vendidas(datos):\n",
    "    ventas = {}\n",
    "    for venta in datos:\n",
    "        producto = venta['producto']\n",
    "        cantidad = venta['cantidad']\n",
    "        ventas[producto] = ventas.get(producto, 0) + cantidad\n",
    "    return ventas\n",
    "\n",
    "def listar_ventas(ventas):\n",
    "    for producto, cantidad in ventas.items():\n",
    "        print(f\"{producto}: {cantidad} unidades\")\n",
    "\n",
    "ventas = unidades_vendidas(datos)\n",
    "listar_ventas(ventas)"
   ]
  },
  {
   "cell_type": "markdown",
   "metadata": {},
   "source": [
    "##  Ejercicio 4: Listar el precio promedio por producto.\n",
    "\n",
    "Hacer un listado del precio promedio por productos."
   ]
  },
  {
   "cell_type": "code",
   "execution_count": 4,
   "metadata": {},
   "outputs": [
    {
     "name": "stdout",
     "output_type": "stream",
     "text": [
      "Mirinda: $1542.12\n",
      "Torasso: $916.25\n",
      "Pepsi Cola: $1241.69\n",
      "Sprite: $847.78\n",
      "Coca Cola: $1066.32\n"
     ]
    }
   ],
   "source": [
    "def precio_promedio(datos):\n",
    "    precios = {}\n",
    "    cantidades = {}\n",
    "    for venta in datos:\n",
    "        producto = venta['producto']\n",
    "        precio = venta['precio']\n",
    "        cantidad = venta['cantidad']\n",
    "        if producto not in precios:\n",
    "            precios[producto] = 0\n",
    "            cantidades[producto] = 0\n",
    "        precios[producto] += precio * cantidad\n",
    "        cantidades[producto] += cantidad\n",
    "    \n",
    "    promedios = {producto: precios[producto] / cantidades[producto] \n",
    "                 for producto in precios}\n",
    "    return promedios\n",
    "\n",
    "def listar_precios(precios):\n",
    "    for producto, precio in precios.items():\n",
    "        print(f\"{producto}: ${precio:.2f}\")\n",
    "\n",
    "precios = precio_promedio(datos)\n",
    "listar_precios(precios)"
   ]
  },
  {
   "cell_type": "markdown",
   "metadata": {},
   "source": [
    "### Ejercicio 5: Ranking de productos\n",
    "\n",
    "Realizar un listado de los 3 productos mas vendidos ordenados la cantidad de unidades vendidas (ordenadas de mayor a menor)\n"
   ]
  },
  {
   "cell_type": "code",
   "execution_count": 5,
   "metadata": {},
   "outputs": [
    {
     "name": "stdout",
     "output_type": "stream",
     "text": [
      "1. Pepsi Cola: 89 unidades\n",
      "2. Mirinda: 85 unidades\n",
      "3. Sprite: 72 unidades\n"
     ]
    }
   ],
   "source": [
    "def ranking_productos(datos, top=3):\n",
    "    ventas = unidades_vendidas(datos)\n",
    "    ranking = sorted(ventas.items(), key=lambda x: x[1], reverse=True)[:top]\n",
    "    return ranking\n",
    "\n",
    "def listar_ranking(ranking):\n",
    "    for i, (producto, cantidad) in enumerate(ranking, 1):\n",
    "        print(f\"{i}. {producto}: {cantidad} unidades\")\n",
    "\n",
    "ranking = ranking_productos(datos)\n",
    "listar_ranking(ranking)"
   ]
  },
  {
   "cell_type": "markdown",
   "metadata": {},
   "source": [
    "### Ejercicio 6: Listar las ventas por mes\n",
    "\n",
    "Realizar un listado del total de unidades vendidas por productos separada por mes."
   ]
  },
  {
   "cell_type": "code",
   "execution_count": 6,
   "metadata": {},
   "outputs": [
    {
     "name": "stdout",
     "output_type": "stream",
     "text": [
      "\n",
      "Mes: 2024-08\n",
      "  Mirinda: 27 unidades\n",
      "  Torasso: 8 unidades\n",
      "  Pepsi Cola: 10 unidades\n",
      "\n",
      "Mes: 2024-09\n",
      "  Mirinda: 58 unidades\n",
      "  Sprite: 72 unidades\n",
      "  Coca Cola: 57 unidades\n",
      "  Pepsi Cola: 79 unidades\n",
      "  Torasso: 24 unidades\n"
     ]
    }
   ],
   "source": [
    "from collections import defaultdict\n",
    "\n",
    "def ventas_por_mes(datos):\n",
    "    ventas_mensuales = defaultdict(lambda: defaultdict(int))\n",
    "    for venta in datos:\n",
    "        mes = venta['fecha'][:7]  # YYYY-MM\n",
    "        producto = venta['producto']\n",
    "        cantidad = venta['cantidad']\n",
    "        ventas_mensuales[mes][producto] += cantidad\n",
    "    return dict(ventas_mensuales)\n",
    "\n",
    "def listar_ventas_mensuales(ventas):\n",
    "    for mes, productos in sorted(ventas.items()):\n",
    "        print(f\"\\nMes: {mes}\")\n",
    "        for producto, cantidad in productos.items():\n",
    "            print(f\"  {producto}: {cantidad} unidades\")\n",
    "\n",
    "ventas = ventas_por_mes(datos)\n",
    "listar_ventas_mensuales(ventas)"
   ]
  },
  {
   "cell_type": "markdown",
   "metadata": {},
   "source": [
    "### Ejercicio 7: Informe general\n",
    "\n",
    "Mostrar un listado de productos ordenados alfabeticamente que contengan el precio promedio, la cantidad de unidades vendidas y el importe total vendido para cada producto"
   ]
  },
  {
   "cell_type": "code",
   "execution_count": 7,
   "metadata": {},
   "outputs": [
    {
     "name": "stdout",
     "output_type": "stream",
     "text": [
      "\n",
      "Informe General de Ventas:\n",
      "--------------------------------------------------------------------------------\n",
      "Producto                       Precio Promedio    Unidades Vendidas   Importe Total\n",
      "--------------------------------------------------------------------------------\n",
      "Coca Cola                      $       1066.32                   57 $      60780.00\n",
      "Mirinda                        $       1542.12                   85 $     131080.00\n",
      "Pepsi Cola                     $       1241.69                   89 $     110510.00\n",
      "Sprite                         $        847.78                   72 $      61040.00\n",
      "Torasso                        $        916.25                   32 $      29320.00\n"
     ]
    }
   ],
   "source": [
    "def resumen_ventas(datos):\n",
    "    resumen = defaultdict(lambda: {'precio_total': 0, 'cantidad_total': 0, 'importe_total': 0})\n",
    "    for venta in datos:\n",
    "        producto = venta['producto']\n",
    "        precio = venta['precio']\n",
    "        cantidad = venta['cantidad']\n",
    "        resumen[producto]['precio_total'] += precio * cantidad\n",
    "        resumen[producto]['cantidad_total'] += cantidad\n",
    "        resumen[producto]['importe_total'] += precio * cantidad\n",
    "    \n",
    "    for producto in resumen:\n",
    "        resumen[producto]['precio_promedio'] = (\n",
    "            resumen[producto]['precio_total'] / resumen[producto]['cantidad_total']\n",
    "        )\n",
    "    \n",
    "    return dict(resumen)\n",
    "\n",
    "def informe_ventas(resumen):\n",
    "    print(\"\\nInforme General de Ventas:\")\n",
    "    print(\"-\" * 80)\n",
    "    print(f\"{'Producto':<30} {'Precio Promedio':>15} {'Unidades Vendidas':>20} {'Importe Total':>15}\")\n",
    "    print(\"-\" * 80)\n",
    "    for producto, datos in sorted(resumen.items()):\n",
    "        print(f\"{producto:<30} ${datos['precio_promedio']:>14.2f} {datos['cantidad_total']:>20} ${datos['importe_total']:>14.2f}\")\n",
    "\n",
    "resumen = resumen_ventas(datos)\n",
    "informe_ventas(resumen)\n"
   ]
  }
 ],
 "metadata": {
  "kernelspec": {
   "display_name": "Python 3",
   "language": "python",
   "name": "python3"
  },
  "language_info": {
   "codemirror_mode": {
    "name": "ipython",
    "version": 3
   },
   "file_extension": ".py",
   "mimetype": "text/x-python",
   "name": "python",
   "nbconvert_exporter": "python",
   "pygments_lexer": "ipython3",
   "version": "3.12.6"
  }
 },
 "nbformat": 4,
 "nbformat_minor": 2
}
