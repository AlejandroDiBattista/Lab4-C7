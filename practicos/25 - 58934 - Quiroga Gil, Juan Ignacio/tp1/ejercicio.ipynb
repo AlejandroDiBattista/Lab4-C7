{
 "cells": [
  {
   "cell_type": "markdown",
   "metadata": {},
   "source": [
    "# Trabajo práctico 1\n",
    "\n"
   ]
  },
  {
   "cell_type": "markdown",
   "metadata": {},
   "source": [
    "## Ejercicio 1 \n",
    "\n",
    "Escribe una función en Python que procese una lista de cadenas de texto y realice las siguientes acciones:\n",
    "\n",
    "1. Tomar una lista de frases y convertir cada frase en una lista de palabras.\n",
    "1. Luego, debe crear una nueva lista que contenga la cantidad de palabras en cada frase.\n",
    "1. Tambien debe crear un lista que contenga la cantidad de caracteres en cada frase.\n",
    "1. Finalmente, debe imprimir cada frase original junto con la cantidad de palabras que contiene.\n",
    "Ejemplo de uso:\n",
    "```python\n",
    "    frases = [\n",
    "        \"Python es un lenguaje de programación\",\n",
    "        \"Me gusta resolver problemas con código\",\n",
    "        \"Las listas y los bucles son muy útiles\"\n",
    "    ]\n",
    "\n",
    "    procesar_frases(frases)\n",
    "```\n",
    "\n",
    "ejemplo de salida:\n",
    "```bash\n",
    "    La frase: \"Python es un...\"\n",
    "    tiene 6 palabras y 38 caracteres\n",
    "```\n"
   ]
  },
  {
   "cell_type": "code",
   "execution_count": 6,
   "metadata": {},
   "outputs": [
    {
     "name": "stdout",
     "output_type": "stream",
     "text": [
      "La Frase: \"Python es un lenguaje de programación\" Tiene 6 Palabras Y 37 Caracteres\n",
      "Lista De Las Palabras: ['Python', 'es', 'un', 'lenguaje', 'de', 'programación']\n",
      "\n",
      "La Frase: \"Me gusta resolver problemas con código\" Tiene 6 Palabras Y 38 Caracteres\n",
      "Lista De Las Palabras: ['Me', 'gusta', 'resolver', 'problemas', 'con', 'código']\n",
      "\n",
      "La Frase: \"Las listas y los bucles son muy útiles\" Tiene 8 Palabras Y 38 Caracteres\n",
      "Lista De Las Palabras: ['Las', 'listas', 'y', 'los', 'bucles', 'son', 'muy', 'útiles']\n",
      "\n",
      "Lista De Cantidad De Palabras Por Frase: [6, 6, 8]\n",
      "Lista De Cantidad De Caracteres Por Frase: [37, 38, 38]\n"
     ]
    }
   ],
   "source": [
    "# Implementdo\n",
    "\n",
    "def procesar_frases(frases):\n",
    "    lcdp = []\n",
    "    lcdc = []\n",
    "\n",
    "    for frase in frases:\n",
    "        pal = frase.split()\n",
    "        cantp = len(pal)\n",
    "        cantc = len(frase)\n",
    "        lcdp.append(cantp)\n",
    "        lcdc.append(cantc)\n",
    "\n",
    "        print(f'La Frase: \"{frase}\" Tiene {cantp} Palabras Y {cantc} Caracteres')\n",
    "        print(f'Lista De Las Palabras: {pal}\\n')\n",
    "    \n",
    "    print(f'Lista De Cantidad De Palabras Por Frase: {lcdp}')\n",
    "    print(f'Lista De Cantidad De Caracteres Por Frase: {lcdc}')\n",
    "\n",
    "frases = [\n",
    "    \"Python es un lenguaje de programación\",\n",
    "    \"Me gusta resolver problemas con código\",\n",
    "    \"Las listas y los bucles son muy útiles\"\n",
    "    ]\n",
    "\n",
    "procesar_frases(frases)"
   ]
  },
  {
   "cell_type": "markdown",
   "metadata": {},
   "source": [
    "## Ejercicio 2\n",
    "\n",
    "Escribe una función en Python que encuentre los valores de `a`, `b`, y `c` para que la función cuadrática `f(x) = aX^2 + bX + c` pase exactamente por los siguientes puntos:\n",
    "\n",
    "| x  | y  |\n",
    "|---:|---:|\n",
    "|  0 |  0 |\n",
    "|  1 |  8 |\n",
    "|  2 | 12 |\n",
    "|  3 | 12 |\n",
    "|  5 |  0 |\n",
    "\n",
    "### Requisitos:\n",
    "- La función debe explorar posibles valores de `a`, `b`, y `c` utilizando un método de prueba y error.\n",
    "- Debe devolver los valores que hagan que la diferencia entre la función `f(x)` y los valores medidos `y` sea exactamente cero para cada punto.\n",
    "\n",
    "> **Pista**: Los valores de `a`, `b`, y `c` son números pequeños."
   ]
  },
  {
   "cell_type": "code",
   "execution_count": 7,
   "metadata": {},
   "outputs": [
    {
     "name": "stdout",
     "output_type": "stream",
     "text": [
      "El resultado de la variable a es: -2\n",
      "El resultado de la variable b es: 10\n",
      "El resultado de la variable c es: 0\n"
     ]
    }
   ],
   "source": [
    "# Implementado\n",
    "\n",
    "def func_cuadratica():\n",
    "    dt = [(0,0),(1,8),(2,12),(3,12),(5,0)]\n",
    "    oc = True\n",
    "    \n",
    "    for a in range (-10,11):\n",
    "        for b in range (-10,11):\n",
    "            for c in range (-10,11):\n",
    "                \n",
    "                for (x,y) in dt:\n",
    "                    X = x\n",
    "                    fx = a * X**2 + b * X + c\n",
    "                    if x-X==0 and fx-y==0:\n",
    "                        oc = True\n",
    "                    else:\n",
    "                        oc= False\n",
    "                        break\n",
    "                if oc:\n",
    "                    return a,b,c\n",
    "\n",
    "fc = func_cuadratica()\n",
    "if fc:\n",
    "    print('El resultado de la variable a es:', fc [0])\n",
    "    print('El resultado de la variable b es:', fc [1])\n",
    "    print('El resultado de la variable c es:', fc [2])"
   ]
  }
 ],
 "metadata": {
  "kernelspec": {
   "display_name": "Python 3",
   "language": "python",
   "name": "python3"
  },
  "language_info": {
   "codemirror_mode": {
    "name": "ipython",
    "version": 3
   },
   "file_extension": ".py",
   "mimetype": "text/x-python",
   "name": "python",
   "nbconvert_exporter": "python",
   "pygments_lexer": "ipython3",
   "version": "3.12.5"
  }
 },
 "nbformat": 4,
 "nbformat_minor": 2
}
