{
 "cells": [
  {
   "cell_type": "markdown",
   "metadata": {},
   "source": [
    "# TP6\n",
    "\n",
    "### `Resolver usando Pandas`\n",
    "\n",
    "Resolver los ejercicios del TP3 utilizando la librería Pandas."
   ]
  },
  {
   "cell_type": "markdown",
   "metadata": {},
   "source": [
    "### Ejercicio 1: Cargar Datos de ventas.\n",
    "\n",
    "El archivo datos.dat contiene el registro de las ventas realizadas.\n",
    "\n",
    "Tiene un formato de ancho fijo:\n",
    "- `fecha`:    10 lugares\n",
    "- `producto`: 30 lugares\n",
    "- `precio`:   10 lugares\n",
    "- `cantidad`:  5 lugares\n",
    "\n",
    "Hacer una funcion que cargue los datos en un DataFrame de Pandas."
   ]
  },
  {
   "cell_type": "code",
   "execution_count": 7,
   "metadata": {},
   "outputs": [
    {
     "name": "stdout",
     "output_type": "stream",
     "text": [
      "    fecha           producto       precio     cantidad\n",
      "0   2024-08-27      Mirinda          1510           14\n",
      "1   2024-08-27      Mirinda          1560           12\n",
      "2   2024-08-28      Torasso           940            8\n",
      "3   2024-08-29      Pepsi Cola       1210           10\n",
      "4   2024-08-30      Mirinda          1520            1\n",
      "5   2024-09-01      Mirinda          1550           15\n",
      "6   2024-09-01      Sprite            810            4\n",
      "7   2024-09-02      Coca Cola        1100            4\n",
      "8   2024-09-02      Pepsi Cola       1220           13\n",
      "9   2024-09-02      Torasso           910            5\n",
      "10  2024-09-02      Torasso           920            3\n",
      "11  2024-09-03      Coca Cola        1020            8\n",
      "12  2024-09-03      Mirinda          1570            7\n",
      "13  2024-09-03      Mirinda          1590            2\n",
      "14  2024-09-04      Pepsi Cola       1220           13\n",
      "15  2024-09-05      Mirinda          1500            3\n",
      "16  2024-09-05      Pepsi Cola       1300            5\n",
      "17  2024-09-06      Coca Cola        1080            1\n",
      "18  2024-09-06      Sprite            860           12\n",
      "19  2024-09-06      Torasso           930            3\n",
      "20  2024-09-07      Coca Cola        1080           14\n",
      "21  2024-09-07      Sprite            870           13\n",
      "22  2024-09-08      Coca Cola        1040           10\n",
      "23  2024-09-08      Mirinda          1580            2\n",
      "24  2024-09-08      Pepsi Cola       1240            9\n",
      "25  2024-09-09      Mirinda          1500            3\n",
      "26  2024-09-09      Sprite            850            9\n",
      "27  2024-09-10      Mirinda          1590            8\n",
      "28  2024-09-10      Pepsi Cola       1250           12\n",
      "29  2024-09-11      Sprite            810            6\n",
      "30  2024-09-11      Sprite            820           14\n",
      "31  2024-09-12      Coca Cola        1080            4\n",
      "32  2024-09-13      Mirinda          1580            5\n",
      "33  2024-09-13      Pepsi Cola       1250           13\n",
      "34  2024-09-14      Coca Cola        1080           15\n",
      "35  2024-09-14      Pepsi Cola       1270           14\n",
      "36  2024-09-15      Coca Cola        1100            1\n",
      "37  2024-09-15      Mirinda          1500           13\n",
      "38  2024-09-15      Sprite            870           14\n",
      "39  2024-09-15      Torasso           900           13\n"
     ]
    }
   ],
   "source": [
    "import pandas as pd\n",
    "\n",
    "lineas = open(\"datos.dat\", \"r\").readlines()\n",
    "\n",
    "def cargar_datos():\n",
    "    datos = []\n",
    "    \n",
    "    for i in lineas:\n",
    "        fecha = i[0:10]\n",
    "        producto = i[10:22]  \n",
    "        precio = int(i[40:50])  \n",
    "        cantidad = int(i[50:55])\n",
    "        \n",
    "        datos.append((fecha, producto, precio, cantidad))\n",
    "\n",
    "    df = pd.DataFrame(datos, columns=[\"fecha     \", \"     producto    \", \" precio\", \"   cantidad\"])\n",
    "    \n",
    "    print(df)\n",
    "    \n",
    "cargar_datos()"
   ]
  },
  {
   "cell_type": "markdown",
   "metadata": {},
   "source": [
    "### Ejercicio 2: Calcular el total de ventas.\n",
    "Hacer una función que sume los importes vendidos (precio * cantidad) y las cantidades.\n"
   ]
  },
  {
   "cell_type": "code",
   "execution_count": 8,
   "metadata": {},
   "outputs": [
    {
     "name": "stdout",
     "output_type": "stream",
     "text": [
      "    precio  cantidad\n",
      "0     1510        14\n",
      "1     1560        12\n",
      "2      940         8\n",
      "3     1210        10\n",
      "4     1520         1\n",
      "5     1550        15\n",
      "6      810         4\n",
      "7     1100         4\n",
      "8     1220        13\n",
      "9      910         5\n",
      "10     920         3\n",
      "11    1020         8\n",
      "12    1570         7\n",
      "13    1590         2\n",
      "14    1220        13\n",
      "15    1500         3\n",
      "16    1300         5\n",
      "17    1080         1\n",
      "18     860        12\n",
      "19     930         3\n",
      "20    1080        14\n",
      "21     870        13\n",
      "22    1040        10\n",
      "23    1580         2\n",
      "24    1240         9\n",
      "25    1500         3\n",
      "26     850         9\n",
      "27    1590         8\n",
      "28    1250        12\n",
      "29     810         6\n",
      "30     820        14\n",
      "31    1080         4\n",
      "32    1580         5\n",
      "33    1250        13\n",
      "34    1080        15\n",
      "35    1270        14\n",
      "36    1100         1\n",
      "37    1500        13\n",
      "38     870        14\n",
      "39     900        13\n",
      "el importe total de las ventas fue: $392730, en 335 cantidades\n"
     ]
    }
   ],
   "source": [
    "import pandas as pd\n",
    "\n",
    "lineas = open(\"datos.dat\", \"r\").readlines()\n",
    "def total(lineas):\n",
    "    total_importe = 0  \n",
    "    total_cantidad = 0\n",
    "    datos= []  \n",
    "\n",
    "    for i in lineas:\n",
    "        precio = int(i[40:50])\n",
    "        cantidad= int(i[50:55])\n",
    "\n",
    "        total = precio * cantidad\n",
    "        \n",
    "        total_importe += total\n",
    "        total_cantidad += cantidad\n",
    "\n",
    "        datos.append((precio, cantidad))\n",
    "        \n",
    "    df= pd.DataFrame(datos,columns={\"precio\":[total_importe],\"cantidad\":[total_cantidad]})\n",
    "    print(df)\n",
    "    \n",
    "    return total_importe, total_cantidad\n",
    "        \n",
    "\n",
    "total_importe, total_cantidad = total(lineas)\n",
    "\n",
    "print(f\"el importe total de las ventas fue: ${total_importe}, en {total_cantidad} cantidades\")"
   ]
  },
  {
   "cell_type": "markdown",
   "metadata": {},
   "source": [
    "### Ejercicio 3: Listar las unidades vendidas.\n",
    "Listar cuántas unidades se vendieron en total para cada producto\n"
   ]
  },
  {
   "cell_type": "code",
   "execution_count": 9,
   "metadata": {},
   "outputs": [
    {
     "name": "stdout",
     "output_type": "stream",
     "text": [
      "           unidades vendidas por producto           \n",
      "0  del producto Mirinda      se vendieron 85 unid...\n",
      "1  del producto Torasso      se vendieron 32 unid...\n",
      "2  del producto Pepsi Cola   se vendieron 89 unid...\n",
      "3  del producto Sprite       se vendieron 72 unid...\n",
      "4  del producto Coca Cola    se vendieron 57 unid...\n"
     ]
    }
   ],
   "source": [
    "import pandas as pd\n",
    "\n",
    "lineas = open(\"datos.dat\", \"r\").readlines()\n",
    "\n",
    "productos_vend = {}\n",
    "\n",
    "def unidades_vendidas(lineas):  \n",
    "    for i in lineas:\n",
    "        producto = i[10:22] \n",
    "        cantidad = int(i[50:55]) \n",
    "\n",
    "        \n",
    "        if producto in productos_vend:\n",
    "            productos_vend[producto] += cantidad\n",
    "        else:\n",
    "            productos_vend[producto] = cantidad\n",
    "    \n",
    "    return productos_vend\n",
    "\n",
    "unidades_por_producto = unidades_vendidas(lineas)\n",
    "\n",
    "datos = [\n",
    "    f\"del producto {producto} se vendieron {cantidad} unidades\"\n",
    "    for producto, cantidad in unidades_por_producto.items()\n",
    "]\n",
    "\n",
    "df = pd.DataFrame(datos, columns=[\"unidades vendidas por producto           \"])\n",
    "\n",
    "print(df)"
   ]
  },
  {
   "cell_type": "markdown",
   "metadata": {},
   "source": [
    "###  Ejercicio 4: Listar el precio promedio por producto.\n",
    "Hacer un listado del precio promedio por producto.\n"
   ]
  },
  {
   "cell_type": "code",
   "execution_count": 10,
   "metadata": {},
   "outputs": [
    {
     "name": "stdout",
     "output_type": "stream",
     "text": [
      "   producto        precio promedio\n",
      "0  Mirinda             1542.117647\n",
      "1  Torasso              916.250000\n",
      "2  Pepsi Cola          1241.685393\n",
      "3  Sprite               847.777778\n",
      "4  Coca Cola           1066.315789\n"
     ]
    }
   ],
   "source": [
    "import pandas as pd\n",
    "\n",
    "lineas = open(\"datos.dat\", \"r\").readlines()\n",
    "\n",
    "def promedio(lineas):\n",
    "    acumulado_productos = {}\n",
    "    datos1 = []\n",
    "\n",
    "    for i in lineas:\n",
    "        producto = i[10:22]\n",
    "        precio = float(i[40:50])\n",
    "        cantidad = int(i[50:55])\n",
    "\n",
    "        \n",
    "        if producto in acumulado_productos:\n",
    "            acumulado_productos[producto][\"total_precio\"] += precio * cantidad\n",
    "            acumulado_productos[producto][\"total_cantidad\"] += cantidad\n",
    "        else:\n",
    "            acumulado_productos[producto] = {\n",
    "                \"total_precio\": precio * cantidad,  \n",
    "                \"total_cantidad\": cantidad\n",
    "            }\n",
    "\n",
    "    precio_promedio = {}\n",
    "    \n",
    "    for producto, datos in acumulado_productos.items():\n",
    "        \n",
    "        precio_promedio[producto] = datos[\"total_precio\"] / datos[\"total_cantidad\"]\n",
    "        \n",
    "    \n",
    "        datos1.append((producto, precio_promedio[producto]))\n",
    "    \n",
    "    df = pd.DataFrame(datos1, columns={\"producto    \":[producto], \"  precio promedio\":[precio_promedio]})\n",
    "    print(df)\n",
    "\n",
    "    return precio_promedio\n",
    "\n",
    "precios_promedio_por_producto = promedio(lineas)"
   ]
  },
  {
   "cell_type": "markdown",
   "metadata": {},
   "source": [
    "### Ejercicio 5: Ranking de productos\n",
    "Realizar un listado de los 3 productos más vendidos ordenados por la cantidad de unidades vendidas (ordenadas de mayor a menor)\n"
   ]
  },
  {
   "cell_type": "code",
   "execution_count": 13,
   "metadata": {},
   "outputs": [
    {
     "name": "stdout",
     "output_type": "stream",
     "text": [
      "top 3 productos más vendidos:\n",
      "   producto      cantidad total vendida\n",
      "0  Pepsi Cola                        89\n",
      "1  Mirinda                           85\n",
      "2  Sprite                            72\n"
     ]
    }
   ],
   "source": [
    "import pandas as pd\n",
    "\n",
    "lineas = open(\"datos.dat\", \"r\").readlines()\n",
    "\n",
    "acumulado_productos = {}\n",
    "\n",
    "def productos_mas_vendidos(lineas):\n",
    "    for i in lineas:\n",
    "        producto = i[10:22]\n",
    "        cantidad = int(i[50:55])\n",
    "        \n",
    "        if producto in acumulado_productos:\n",
    "            acumulado_productos[producto] += cantidad\n",
    "        else:\n",
    "            acumulado_productos[producto] = cantidad\n",
    "\n",
    "    return acumulado_productos\n",
    "\n",
    "cantidad_productos_mas_vendidos = productos_mas_vendidos(lineas)\n",
    "\n",
    "productos_ordenados = sorted(cantidad_productos_mas_vendidos.items(), key=lambda x: x[1], reverse=True)\n",
    "\n",
    "top_3_productos = productos_ordenados[:3]\n",
    "df= pd.DataFrame(top_3_productos, columns=[\"producto    \",\"cantidad total vendida\"])\n",
    "\n",
    "print(\"top 3 productos más vendidos:\")\n",
    "print(df) "
   ]
  },
  {
   "cell_type": "markdown",
   "metadata": {},
   "source": [
    "### Ejercicio 6: Listar las ventas por mes\n",
    "Realizar un listado del total de unidades vendidas por producto separado por mes.\n"
   ]
  },
  {
   "cell_type": "code",
   "execution_count": 14,
   "metadata": {},
   "outputs": [
    {
     "name": "stdout",
     "output_type": "stream",
     "text": [
      "        Fecha       Producto     Cantidad\n",
      "0   2024-08-27  Mirinda                26\n",
      "1   2024-08-28  Torasso                 8\n",
      "2   2024-08-29  Pepsi Cola             10\n",
      "3   2024-08-30  Mirinda                 1\n",
      "4   2024-09-01  Mirinda                15\n",
      "5   2024-09-01  Sprite                  4\n",
      "6   2024-09-02  Coca Cola               4\n",
      "7   2024-09-02  Pepsi Cola             13\n",
      "8   2024-09-02  Torasso                 8\n",
      "9   2024-09-03  Coca Cola               8\n",
      "10  2024-09-03  Mirinda                 9\n",
      "11  2024-09-04  Pepsi Cola             13\n",
      "12  2024-09-05  Mirinda                 3\n",
      "13  2024-09-05  Pepsi Cola              5\n",
      "14  2024-09-06  Coca Cola               1\n",
      "15  2024-09-06  Sprite                 12\n",
      "16  2024-09-06  Torasso                 3\n",
      "17  2024-09-07  Coca Cola              14\n",
      "18  2024-09-07  Sprite                 13\n",
      "19  2024-09-08  Coca Cola              10\n",
      "20  2024-09-08  Mirinda                 2\n",
      "21  2024-09-08  Pepsi Cola              9\n",
      "22  2024-09-09  Mirinda                 3\n",
      "23  2024-09-09  Sprite                  9\n",
      "24  2024-09-10  Mirinda                 8\n",
      "25  2024-09-10  Pepsi Cola             12\n",
      "26  2024-09-11  Sprite                 20\n",
      "27  2024-09-12  Coca Cola               4\n",
      "28  2024-09-13  Mirinda                 5\n",
      "29  2024-09-13  Pepsi Cola             13\n",
      "30  2024-09-14  Coca Cola              15\n",
      "31  2024-09-14  Pepsi Cola             14\n",
      "32  2024-09-15  Coca Cola               1\n",
      "33  2024-09-15  Mirinda                13\n",
      "34  2024-09-15  Sprite                 14\n",
      "35  2024-09-15  Torasso                13\n"
     ]
    }
   ],
   "source": [
    "import pandas as pd\n",
    "\n",
    "lineas = open(\"datos.dat\", \"r\").readlines()\n",
    "\n",
    "def ventas_por_mes(lineas):\n",
    "    datos = []\n",
    "\n",
    "    for i in lineas:\n",
    "        fecha = i[0:10]  \n",
    "        producto = i[10:22] \n",
    "        cantidad = int(i[50:55]) \n",
    "\n",
    "        datos.append([fecha, producto, cantidad])\n",
    "\n",
    "    return datos\n",
    "\n",
    "ventas_mensuales_por_producto = ventas_por_mes(lineas)\n",
    "\n",
    "df_ventas = pd.DataFrame(ventas_mensuales_por_producto, columns=[\"Fecha \", \"  Producto\", \"   Cantidad\"])\n",
    "\n",
    "df_ventas_agrupadas = df_ventas.groupby([\"Fecha \", \"  Producto\"]).sum().reset_index()\n",
    "\n",
    "print(df_ventas_agrupadas)"
   ]
  },
  {
   "cell_type": "markdown",
   "metadata": {},
   "source": [
    "### Ejercicio 7: Informe general\n",
    "\n",
    "Mostrar un listado de productos ordenados alfabeticamente que contengan el precio promedio, la cantidad de unidades vendidas y el importe total vendido para cada producto"
   ]
  },
  {
   "cell_type": "code",
   "execution_count": 15,
   "metadata": {},
   "outputs": [
    {
     "name": "stdout",
     "output_type": "stream",
     "text": [
      "     producto  cantidad_vendida  importe_total  precio_promedio\n",
      "0   Coca Cola                57        60780.0      7597.500000\n",
      "1     Mirinda                85       131080.0     10923.333333\n",
      "2  Pepsi Cola                89       110510.0     13813.750000\n",
      "3      Sprite                72        61040.0      8720.000000\n",
      "4     Torasso                32        29320.0      5864.000000\n"
     ]
    }
   ],
   "source": [
    "import pandas as pd\n",
    "\n",
    "lineas = open(\"datos.dat\", \"r\").readlines()\n",
    "\n",
    "def informe_general(lineas):\n",
    "    data = {\n",
    "        \"producto\": [linea[10:40].strip() for linea in lineas],\n",
    "        \"precio\": [float(linea[40:50].strip()) for linea in lineas],\n",
    "        \"cantidad\": [int(linea[50:55].strip()) for linea in lineas]\n",
    "    }\n",
    "\n",
    "    df = pd.DataFrame(data)\n",
    "\n",
    "    df['importe'] = df['precio'] * df['cantidad']\n",
    "\n",
    "    informe = df.groupby('producto').agg(\n",
    "        cantidad_vendida=('cantidad', 'sum'),\n",
    "        importe_total=('importe', 'sum'),\n",
    "        precio_promedio=('importe', 'mean')\n",
    "    ).reset_index()\n",
    "\n",
    "    informe = informe.sort_values(by='producto')\n",
    "    \n",
    "    print(informe)\n",
    "\n",
    "informe_general(lineas)"
   ]
  },
  {
   "cell_type": "markdown",
   "metadata": {},
   "source": [
    "## `Resolver usando NumPy`\n",
    "## Resolver el ejercicio 2 del tp1 usando NumPy"
   ]
  },
  {
   "cell_type": "markdown",
   "metadata": {},
   "source": [
    "### Ejercicio 8\n",
    "\n",
    "Escribe una función en Python que encuentre los valores de `a`, `b`, y `c` para que la función cuadrática `f(x) = a x^2 + b x + c` pase exactamente por los siguientes puntos:\n",
    "\n",
    "| x  | y  |\n",
    "|---:|---:|\n",
    "|  0 |  0 |\n",
    "|  1 |  8 |\n",
    "|  2 | 12 |\n",
    "|  3 | 12 |\n",
    "|  5 |  0 |\n",
    "\n",
    "### Requisitos:\n",
    "- La función debe explorar posibles valores de `a`, `b`, y `c` utilizando un método de prueba y error.\n",
    "- Debe devolver los valores que hagan que la diferencia entre la función `f(x)` y los valores medidos `y` sea exactamente cero para cada punto.\n",
    "\n",
    "> **Pista**: Los valores de `a`, `b`, y `c` son números pequeños.\n",
    "\n",
    "La idea es implementar el mismo algoritmo que se uso en el TP1 pero usando NumPy en lugar de Python puro."
   ]
  },
  {
   "cell_type": "code",
   "execution_count": 16,
   "metadata": {},
   "outputs": [
    {
     "name": "stdout",
     "output_type": "stream",
     "text": [
      "(-2, 10, 0)\n"
     ]
    }
   ],
   "source": [
    "import numpy as np\n",
    "\n",
    "def f(x, coeficientes):\n",
    "    a, b, c = coeficientes\n",
    "    return a * x**2 + b * x + c\n",
    "\n",
    "def buscar_coeficientes():\n",
    "    X = np.array([0, 1, 2, 3, 5])\n",
    "    Y = np.array([0, 8, 12, 12, 0])\n",
    "    \n",
    "    rangos_a = range(-10, 11) \n",
    "    rangos_b = range(-10, 11)\n",
    "    rangos_c = range(-10, 11)\n",
    "    \n",
    "    for a in rangos_a:\n",
    "        for b in rangos_b:\n",
    "            for c in rangos_c:\n",
    "                Y_pred = f(X, (a, b, c))\n",
    "                if np.all(Y_pred == Y):\n",
    "                    return (a, b, c)\n",
    "    \n",
    "    return None  \n",
    "\n",
    "coeficientes = buscar_coeficientes()\n",
    "print(coeficientes)"
   ]
  },
  {
   "cell_type": "markdown",
   "metadata": {},
   "source": [
    "### Ejercicio 9: Resolver el ejercicio 3 del TP1 usando NumPy\n",
    "Buscar los coeficientes de la función que minimice la suma de los cuadrados de las diferencias entre los valores medidos y los valores de la función.\n",
    "\n",
    "1. Crear un array con los coeficientes elegidos al azar (usar `randint(-10,10,3)`).\n",
    "2. Calcular el valor de la función y el error correspondiente.\n",
    "3. Mientras que el error sea mayor a 1:\n",
    "    1. Definir nuevos coeficientes agregándoles un pequeño valor al azar a los coeficientes actuales (aprendizaje = 0.001).\n",
    "    2. Si el error para los nuevos coeficientes es menor que el anterior, reemplazar los coeficientes actuales por los nuevos.\n"
   ]
  },
  {
   "cell_type": "code",
   "execution_count": 17,
   "metadata": {},
   "outputs": [
    {
     "name": "stdout",
     "output_type": "stream",
     "text": [
      "los coeficientes son: [-1.778  8.961  0.615]\n",
      "el error es: 0.9965699999999774\n"
     ]
    },
    {
     "data": {
      "text/plain": [
       "array([-1.778,  8.961,  0.615])"
      ]
     },
     "execution_count": 17,
     "metadata": {},
     "output_type": "execute_result"
    }
   ],
   "source": [
    "import numpy as np\n",
    "from numpy.random import randint\n",
    "\n",
    "def f(x, coeficientes):\n",
    "    a, b, c = coeficientes\n",
    "    return a * x**2 + b * x + c\n",
    "\n",
    "def calcular_error(y_real, y_predicho):\n",
    "    return np.sum((y_real - y_predicho)**2)\n",
    "\n",
    "def buscar_coeficientes():\n",
    "    X = np.array([0, 1, 2, 3, 5])\n",
    "    Y = np.array([0, 8, 12, 11, 1])  \n",
    "\n",
    "    coeficientes = randint(-10, 10, 3).astype(float)\n",
    "    tasa = 0.001\n",
    "\n",
    "    error_actual = calcular_error(Y, f(X, coeficientes))\n",
    "\n",
    "    while error_actual > 1:\n",
    "        \n",
    "        nuevos_coeficientes = coeficientes + (randint(-10, 10, 3) * tasa)\n",
    "\n",
    "        nuevo_error = calcular_error(Y, f(X, nuevos_coeficientes))\n",
    "\n",
    "        if nuevo_error < error_actual:\n",
    "            coeficientes = nuevos_coeficientes\n",
    "            error_actual = nuevo_error\n",
    "\n",
    "    return coeficientes, error_actual\n",
    "\n",
    "coeficientes, error = buscar_coeficientes()\n",
    "print(\"los coeficientes son:\", coeficientes)\n",
    "print(\"el error es:\", error)\n",
    "coeficientes"
   ]
  }
 ],
 "metadata": {
  "kernelspec": {
   "display_name": "Python 3",
   "language": "python",
   "name": "python3"
  },
  "language_info": {
   "codemirror_mode": {
    "name": "ipython",
    "version": 3
   },
   "file_extension": ".py",
   "mimetype": "text/x-python",
   "name": "python",
   "nbconvert_exporter": "python",
   "pygments_lexer": "ipython3",
   "version": "3.12.5"
  }
 },
 "nbformat": 4,
 "nbformat_minor": 2
}
