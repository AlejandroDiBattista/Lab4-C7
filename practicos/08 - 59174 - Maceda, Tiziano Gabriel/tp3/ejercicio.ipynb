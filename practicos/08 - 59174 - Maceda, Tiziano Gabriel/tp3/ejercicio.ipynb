{
 "cells": [
  {
   "cell_type": "markdown",
   "metadata": {},
   "source": [
    "#TP3"
   ]
  },
  {
   "cell_type": "markdown",
   "metadata": {},
   "source": [
    "## Ejercicio 1: Cargar Datos de ventas.\n",
    "\n",
    "El archivo datos.dat contiene el registro de las ventas realizadas.\n",
    "\n",
    "Tiene un formato de ancho fijo:\n",
    "- fecha:    10 lugares\n",
    "- producto: 30 lugares\n",
    "- precio:   10 lugares\n",
    "- cantidad:  5 lugares\n",
    "\n",
    "hacer una funcion que carge los en una lista de diccionarios. \n",
    "\n",
    "nota: con \n",
    "```python\n",
    "lineas = open(\"datos.dat\", \"r\").readlines() \n",
    "```\n",
    "puede obtener la lista de string de todos los datos "
   ]
  },
  {
   "cell_type": "code",
   "execution_count": 1,
   "metadata": {},
   "outputs": [
    {
     "name": "stdout",
     "output_type": "stream",
     "text": [
      "{'fecha': '2024-08-27', 'producto': 'Mirinda     ', 'precio': 1510, 'cantidad': 14}\n",
      "{'fecha': '2024-08-27', 'producto': 'Mirinda     ', 'precio': 1560, 'cantidad': 12}\n",
      "{'fecha': '2024-08-28', 'producto': 'Torasso     ', 'precio': 940, 'cantidad': 8}\n",
      "{'fecha': '2024-08-29', 'producto': 'Pepsi Cola  ', 'precio': 1210, 'cantidad': 10}\n",
      "{'fecha': '2024-08-30', 'producto': 'Mirinda     ', 'precio': 1520, 'cantidad': 1}\n",
      "{'fecha': '2024-09-01', 'producto': 'Mirinda     ', 'precio': 1550, 'cantidad': 15}\n",
      "{'fecha': '2024-09-01', 'producto': 'Sprite      ', 'precio': 810, 'cantidad': 4}\n",
      "{'fecha': '2024-09-02', 'producto': 'Coca Cola   ', 'precio': 1100, 'cantidad': 4}\n",
      "{'fecha': '2024-09-02', 'producto': 'Pepsi Cola  ', 'precio': 1220, 'cantidad': 13}\n",
      "{'fecha': '2024-09-02', 'producto': 'Torasso     ', 'precio': 910, 'cantidad': 5}\n",
      "{'fecha': '2024-09-02', 'producto': 'Torasso     ', 'precio': 920, 'cantidad': 3}\n",
      "{'fecha': '2024-09-03', 'producto': 'Coca Cola   ', 'precio': 1020, 'cantidad': 8}\n",
      "{'fecha': '2024-09-03', 'producto': 'Mirinda     ', 'precio': 1570, 'cantidad': 7}\n",
      "{'fecha': '2024-09-03', 'producto': 'Mirinda     ', 'precio': 1590, 'cantidad': 2}\n",
      "{'fecha': '2024-09-04', 'producto': 'Pepsi Cola  ', 'precio': 1220, 'cantidad': 13}\n",
      "{'fecha': '2024-09-05', 'producto': 'Mirinda     ', 'precio': 1500, 'cantidad': 3}\n",
      "{'fecha': '2024-09-05', 'producto': 'Pepsi Cola  ', 'precio': 1300, 'cantidad': 5}\n",
      "{'fecha': '2024-09-06', 'producto': 'Coca Cola   ', 'precio': 1080, 'cantidad': 1}\n",
      "{'fecha': '2024-09-06', 'producto': 'Sprite      ', 'precio': 860, 'cantidad': 12}\n",
      "{'fecha': '2024-09-06', 'producto': 'Torasso     ', 'precio': 930, 'cantidad': 3}\n",
      "{'fecha': '2024-09-07', 'producto': 'Coca Cola   ', 'precio': 1080, 'cantidad': 14}\n",
      "{'fecha': '2024-09-07', 'producto': 'Sprite      ', 'precio': 870, 'cantidad': 13}\n",
      "{'fecha': '2024-09-08', 'producto': 'Coca Cola   ', 'precio': 1040, 'cantidad': 10}\n",
      "{'fecha': '2024-09-08', 'producto': 'Mirinda     ', 'precio': 1580, 'cantidad': 2}\n",
      "{'fecha': '2024-09-08', 'producto': 'Pepsi Cola  ', 'precio': 1240, 'cantidad': 9}\n",
      "{'fecha': '2024-09-09', 'producto': 'Mirinda     ', 'precio': 1500, 'cantidad': 3}\n",
      "{'fecha': '2024-09-09', 'producto': 'Sprite      ', 'precio': 850, 'cantidad': 9}\n",
      "{'fecha': '2024-09-10', 'producto': 'Mirinda     ', 'precio': 1590, 'cantidad': 8}\n",
      "{'fecha': '2024-09-10', 'producto': 'Pepsi Cola  ', 'precio': 1250, 'cantidad': 12}\n",
      "{'fecha': '2024-09-11', 'producto': 'Sprite      ', 'precio': 810, 'cantidad': 6}\n",
      "{'fecha': '2024-09-11', 'producto': 'Sprite      ', 'precio': 820, 'cantidad': 14}\n",
      "{'fecha': '2024-09-12', 'producto': 'Coca Cola   ', 'precio': 1080, 'cantidad': 4}\n",
      "{'fecha': '2024-09-13', 'producto': 'Mirinda     ', 'precio': 1580, 'cantidad': 5}\n",
      "{'fecha': '2024-09-13', 'producto': 'Pepsi Cola  ', 'precio': 1250, 'cantidad': 13}\n",
      "{'fecha': '2024-09-14', 'producto': 'Coca Cola   ', 'precio': 1080, 'cantidad': 15}\n",
      "{'fecha': '2024-09-14', 'producto': 'Pepsi Cola  ', 'precio': 1270, 'cantidad': 14}\n",
      "{'fecha': '2024-09-15', 'producto': 'Coca Cola   ', 'precio': 1100, 'cantidad': 1}\n",
      "{'fecha': '2024-09-15', 'producto': 'Mirinda     ', 'precio': 1500, 'cantidad': 13}\n",
      "{'fecha': '2024-09-15', 'producto': 'Sprite      ', 'precio': 870, 'cantidad': 14}\n",
      "{'fecha': '2024-09-15', 'producto': 'Torasso     ', 'precio': 900, 'cantidad': 13}\n",
      "None\n"
     ]
    }
   ],
   "source": [
    "lineas = open(\"datos.dat\", \"r\").readlines()\n",
    "dic={}\n",
    "\n",
    "def diccionario(lineas):\n",
    "    for i in lineas:\n",
    "        fecha = i[0:10]\n",
    "        producto = i[10:22]\n",
    "        precio = int(i[40:50])\n",
    "        cantidad= int(i[50:55])\n",
    "\n",
    "        dic = {\"fecha\": fecha,\n",
    "             \"producto\":producto,\n",
    "             \"precio\":precio,\n",
    "             \"cantidad\":cantidad}\n",
    "        \n",
    "        print(dic)\n",
    "        \n",
    "print(diccionario(lineas))"
   ]
  },
  {
   "cell_type": "markdown",
   "metadata": {},
   "source": [
    "## Ejercicio 2: Calcular el total de ventas.\n",
    "\n",
    "Hacer una funcion que sume los importes vendidos (precio * cantidad) y las cantidades"
   ]
  },
  {
   "cell_type": "code",
   "execution_count": 7,
   "metadata": {},
   "outputs": [
    {
     "name": "stdout",
     "output_type": "stream",
     "text": [
      "el importe total de las ventas fue: $392730, en 335 cantidades\n"
     ]
    }
   ],
   "source": [
    "lineas = open(\"datos.dat\", \"r\").readlines()\n",
    "dic={}\n",
    "def total(lineas):\n",
    "    total_importe = 0  \n",
    "    total_cantidad = 0  \n",
    "\n",
    "    for i in lineas:\n",
    "        precio = int(i[40:50])\n",
    "        cantidad= int(i[50:55])\n",
    "\n",
    "        dic ={\"precio\":precio,\n",
    "              \"cantidad\":cantidad}\n",
    "\n",
    "        total = precio * cantidad\n",
    "        \n",
    "        total_importe += total\n",
    "        total_cantidad += cantidad\n",
    "        \n",
    "    return total_importe, total_cantidad\n",
    "        \n",
    "\n",
    "total_importe, total_cantidad = total(lineas)\n",
    "\n",
    "print(f\"el importe total de las ventas fue: ${total_importe}, en {total_cantidad} cantidades\")"
   ]
  },
  {
   "cell_type": "markdown",
   "metadata": {},
   "source": [
    "## Ejercicio 3: Listar las unidades vendidas.\n",
    "\n",
    "Listar cuantas unidades se vendieron en total para cada producto"
   ]
  },
  {
   "cell_type": "code",
   "execution_count": 6,
   "metadata": {},
   "outputs": [
    {
     "name": "stdout",
     "output_type": "stream",
     "text": [
      "del producto Mirinda     , se vendieron 85 unidades totales\n",
      "del producto Torasso     , se vendieron 32 unidades totales\n",
      "del producto Pepsi Cola  , se vendieron 89 unidades totales\n",
      "del producto Sprite      , se vendieron 72 unidades totales\n",
      "del producto Coca Cola   , se vendieron 57 unidades totales\n"
     ]
    }
   ],
   "source": [
    "lineas = open(\"datos.dat\", \"r\").readlines()\n",
    "productos_vend={}\n",
    "def unidades_vendidas(lineas):  \n",
    "\n",
    "    for i in lineas:\n",
    "        producto = i[10:22]\n",
    "        cantidad= int(i[50:55])\n",
    "\n",
    "        if producto in productos_vend:\n",
    "            productos_vend[producto] += cantidad\n",
    "        else:\n",
    "            productos_vend[producto] = cantidad\n",
    "    \n",
    "    return productos_vend\n",
    "\n",
    "\n",
    "unidades_por_producto = unidades_vendidas(lineas)\n",
    "\n",
    "for producto, cantidad in unidades_por_producto.items():\n",
    "    print(f\"del producto {producto}, se vendieron {cantidad} unidades totales\")\n"
   ]
  },
  {
   "cell_type": "markdown",
   "metadata": {},
   "source": [
    "##  Ejercicio 4: Listar el precio promedio por producto.\n",
    "\n",
    "Hacer un listado del precio promedio por productos."
   ]
  },
  {
   "cell_type": "code",
   "execution_count": 5,
   "metadata": {},
   "outputs": [
    {
     "name": "stdout",
     "output_type": "stream",
     "text": [
      "el producto Mirinda     , tiene un precio promedio de $1542\n",
      "el producto Torasso     , tiene un precio promedio de $916\n",
      "el producto Pepsi Cola  , tiene un precio promedio de $1242\n",
      "el producto Sprite      , tiene un precio promedio de $848\n",
      "el producto Coca Cola   , tiene un precio promedio de $1066\n"
     ]
    }
   ],
   "source": [
    "lineas = open(\"datos.dat\", \"r\").readlines()\n",
    "\n",
    "def promedio(lineas):\n",
    "    acumulado_productos = {}\n",
    "\n",
    "    for i in lineas:\n",
    "        producto = i[10:22]\n",
    "        precio = float(i[40:50])\n",
    "        cantidad = int(i[50:55])\n",
    "\n",
    "        \n",
    "        if producto in acumulado_productos:\n",
    "            acumulado_productos[producto][\"total_precio\"] += precio * cantidad\n",
    "            acumulado_productos[producto][\"total_cantidad\"] += cantidad\n",
    "        else:\n",
    "            acumulado_productos[producto] = {\n",
    "                \"total_precio\": precio * cantidad,  \n",
    "                \"total_cantidad\": cantidad\n",
    "            }\n",
    "\n",
    "   \n",
    "    precio_promedio = {}\n",
    "    for producto, datos in acumulado_productos.items():\n",
    "        \n",
    "        precio_promedio[producto] = datos[\"total_precio\"] / datos[\"total_cantidad\"]\n",
    "\n",
    "    return precio_promedio\n",
    "\n",
    "precios_promedio_por_producto = promedio(lineas)\n",
    "\n",
    "for producto, promedio in precios_promedio_por_producto.items():\n",
    "    print(f\"el producto {producto}, tiene un precio promedio de ${promedio:.0f}\")"
   ]
  },
  {
   "cell_type": "markdown",
   "metadata": {},
   "source": [
    "### Ejercicio 5: Ranking de productos\n",
    "\n",
    "Realizar un listado de los 3 productos mas vendidos ordenados la cantidad de unidades vendidas (ordenadas de mayor a menor)\n"
   ]
  },
  {
   "cell_type": "code",
   "execution_count": 4,
   "metadata": {},
   "outputs": [
    {
     "name": "stdout",
     "output_type": "stream",
     "text": [
      "top 3 productos más vendidos:\n",
      "\n",
      "producto: Pepsi Cola  , cantidad total vendida: 89\n",
      "producto: Mirinda     , cantidad total vendida: 85\n",
      "producto: Sprite      , cantidad total vendida: 72\n"
     ]
    }
   ],
   "source": [
    "lineas = open(\"datos.dat\", \"r\").readlines()\n",
    "\n",
    "acumulado_productos = {}\n",
    "\n",
    "def productos_mas_vendidos(lineas):\n",
    "\n",
    "    for i in lineas:\n",
    "        producto = i[10:22]\n",
    "        cantidad = int(i[50:55])\n",
    "\n",
    "        \n",
    "        if producto in acumulado_productos:\n",
    "            acumulado_productos[producto] += cantidad\n",
    "        else:\n",
    "            acumulado_productos[producto] = cantidad\n",
    "\n",
    "\n",
    "    return acumulado_productos\n",
    "\n",
    "cantidad_productos_mas_vendidos = productos_mas_vendidos(lineas)\n",
    "\n",
    "productos_ordenados = sorted(cantidad_productos_mas_vendidos.items(), key=lambda x: x[1], reverse=True)\n",
    "\n",
    "top_3_productos = productos_ordenados[:3]\n",
    "\n",
    "print(\"top 3 productos más vendidos:\")\n",
    "print()\n",
    "for producto, cantidad in top_3_productos:\n",
    "    print(f\"producto: {producto}, cantidad total vendida: {cantidad}\")\n"
   ]
  },
  {
   "cell_type": "markdown",
   "metadata": {},
   "source": [
    "### Ejercicio 6: Listar las ventas por mes\n",
    "\n",
    "Realizar un listado del total de unidades vendidas por productos separada por mes."
   ]
  },
  {
   "cell_type": "code",
   "execution_count": 3,
   "metadata": {},
   "outputs": [
    {
     "name": "stdout",
     "output_type": "stream",
     "text": [
      "\n",
      "Ventas del mes 4-08-27:\n",
      "  Producto: Mirinda     , Unidades Vendidas: 26\n",
      "\n",
      "Ventas del mes 4-08-28:\n",
      "  Producto: Torasso     , Unidades Vendidas: 8\n",
      "\n",
      "Ventas del mes 4-08-29:\n",
      "  Producto: Pepsi Cola  , Unidades Vendidas: 10\n",
      "\n",
      "Ventas del mes 4-08-30:\n",
      "  Producto: Mirinda     , Unidades Vendidas: 1\n",
      "\n",
      "Ventas del mes 4-09-01:\n",
      "  Producto: Mirinda     , Unidades Vendidas: 15\n",
      "  Producto: Sprite      , Unidades Vendidas: 4\n",
      "\n",
      "Ventas del mes 4-09-02:\n",
      "  Producto: Coca Cola   , Unidades Vendidas: 4\n",
      "  Producto: Pepsi Cola  , Unidades Vendidas: 13\n",
      "  Producto: Torasso     , Unidades Vendidas: 8\n",
      "\n",
      "Ventas del mes 4-09-03:\n",
      "  Producto: Coca Cola   , Unidades Vendidas: 8\n",
      "  Producto: Mirinda     , Unidades Vendidas: 9\n",
      "\n",
      "Ventas del mes 4-09-04:\n",
      "  Producto: Pepsi Cola  , Unidades Vendidas: 13\n",
      "\n",
      "Ventas del mes 4-09-05:\n",
      "  Producto: Mirinda     , Unidades Vendidas: 3\n",
      "  Producto: Pepsi Cola  , Unidades Vendidas: 5\n",
      "\n",
      "Ventas del mes 4-09-06:\n",
      "  Producto: Coca Cola   , Unidades Vendidas: 1\n",
      "  Producto: Sprite      , Unidades Vendidas: 12\n",
      "  Producto: Torasso     , Unidades Vendidas: 3\n",
      "\n",
      "Ventas del mes 4-09-07:\n",
      "  Producto: Coca Cola   , Unidades Vendidas: 14\n",
      "  Producto: Sprite      , Unidades Vendidas: 13\n",
      "\n",
      "Ventas del mes 4-09-08:\n",
      "  Producto: Coca Cola   , Unidades Vendidas: 10\n",
      "  Producto: Mirinda     , Unidades Vendidas: 2\n",
      "  Producto: Pepsi Cola  , Unidades Vendidas: 9\n",
      "\n",
      "Ventas del mes 4-09-09:\n",
      "  Producto: Mirinda     , Unidades Vendidas: 3\n",
      "  Producto: Sprite      , Unidades Vendidas: 9\n",
      "\n",
      "Ventas del mes 4-09-10:\n",
      "  Producto: Mirinda     , Unidades Vendidas: 8\n",
      "  Producto: Pepsi Cola  , Unidades Vendidas: 12\n",
      "\n",
      "Ventas del mes 4-09-11:\n",
      "  Producto: Sprite      , Unidades Vendidas: 20\n",
      "\n",
      "Ventas del mes 4-09-12:\n",
      "  Producto: Coca Cola   , Unidades Vendidas: 4\n",
      "\n",
      "Ventas del mes 4-09-13:\n",
      "  Producto: Mirinda     , Unidades Vendidas: 5\n",
      "  Producto: Pepsi Cola  , Unidades Vendidas: 13\n",
      "\n",
      "Ventas del mes 4-09-14:\n",
      "  Producto: Coca Cola   , Unidades Vendidas: 15\n",
      "  Producto: Pepsi Cola  , Unidades Vendidas: 14\n",
      "\n",
      "Ventas del mes 4-09-15:\n",
      "  Producto: Coca Cola   , Unidades Vendidas: 1\n",
      "  Producto: Mirinda     , Unidades Vendidas: 13\n",
      "  Producto: Sprite      , Unidades Vendidas: 14\n",
      "  Producto: Torasso     , Unidades Vendidas: 13\n"
     ]
    }
   ],
   "source": [
    "lineas = open(\"datos.dat\", \"r\").readlines()\n",
    "\n",
    "def ventas_por_mes(lineas):\n",
    "    \n",
    "    ventas_mensuales = {}\n",
    "\n",
    "    for i in lineas:\n",
    "        \n",
    "        fecha = i[:10]\n",
    "        mes_anio = fecha[3:10]\n",
    "        \n",
    "        producto = i[10:22]\n",
    "        cantidad = int(i[50:55])\n",
    "\n",
    "        if mes_anio in ventas_mensuales:\n",
    "            \n",
    "            if producto in ventas_mensuales[mes_anio]:\n",
    "                ventas_mensuales[mes_anio][producto] += cantidad\n",
    "            else:\n",
    "                \n",
    "                ventas_mensuales[mes_anio][producto] = cantidad\n",
    "        else:\n",
    "            \n",
    "            ventas_mensuales[mes_anio] = {producto: cantidad}\n",
    "\n",
    "    return ventas_mensuales\n",
    "\n",
    "\n",
    "ventas_mensuales_por_producto = ventas_por_mes(lineas)\n",
    "\n",
    "for mes, productos in ventas_mensuales_por_producto.items():\n",
    "    print()\n",
    "    print(f\"Ventas del mes {mes}:\")\n",
    "    for producto, cantidad in productos.items():\n",
    "        print(f\"  Producto: {producto}, Unidades Vendidas: {cantidad}\")"
   ]
  },
  {
   "cell_type": "markdown",
   "metadata": {},
   "source": [
    "### Ejercicio 7: Informe general\n",
    "\n",
    "Mostrar un listado de productos ordenados alfabeticamente que contengan el precio promedio, la cantidad de unidades vendidas y el importe total vendido para cada producto"
   ]
  },
  {
   "cell_type": "code",
   "execution_count": 2,
   "metadata": {},
   "outputs": [
    {
     "name": "stdout",
     "output_type": "stream",
     "text": [
      "Producto: Coca Cola\n",
      "  Precio Promedio: $1066.32\n",
      "  Cantidad Vendida: 57\n",
      "  Importe Total Vendido: $60780\n",
      "\n",
      "Producto: Mirinda\n",
      "  Precio Promedio: $1542.12\n",
      "  Cantidad Vendida: 85\n",
      "  Importe Total Vendido: $131080\n",
      "\n",
      "Producto: Pepsi Cola\n",
      "  Precio Promedio: $1241.69\n",
      "  Cantidad Vendida: 89\n",
      "  Importe Total Vendido: $110510\n",
      "\n",
      "Producto: Sprite\n",
      "  Precio Promedio: $847.78\n",
      "  Cantidad Vendida: 72\n",
      "  Importe Total Vendido: $61040\n",
      "\n",
      "Producto: Torasso\n",
      "  Precio Promedio: $916.25\n",
      "  Cantidad Vendida: 32\n",
      "  Importe Total Vendido: $29320\n",
      "\n"
     ]
    }
   ],
   "source": [
    "lineas = open(\"datos.dat\", \"r\").readlines()\n",
    "\n",
    "def informe_general(lineas):\n",
    "    productos_info = {}\n",
    "\n",
    "    for i in lineas:\n",
    "        producto = i[10:40].strip()  \n",
    "        precio = float(i[40:50].strip())  \n",
    "        cantidad = int(i[50:55].strip()) \n",
    "\n",
    "        if producto in productos_info:\n",
    "            productos_info[producto][0] += precio * cantidad  \n",
    "            productos_info[producto][1] += cantidad  \n",
    "        else:\n",
    "            productos_info[producto] = [precio * cantidad, cantidad] \n",
    "\n",
    "    for producto in sorted(productos_info):\n",
    "        total_precio, total_cantidad = productos_info[producto]\n",
    "        precio_promedio = total_precio / total_cantidad if total_cantidad > 0 else 0\n",
    "        print(f\"Producto: {producto}\\n  Precio Promedio: ${precio_promedio:.2f}\\n  Cantidad Vendida: {total_cantidad}\\n  Importe Total Vendido: ${total_precio:.0f}\\n\")\n",
    "\n",
    "\n",
    "informe_general(lineas)\n"
   ]
  }
 ],
 "metadata": {
  "kernelspec": {
   "display_name": "Python 3",
   "language": "python",
   "name": "python3"
  },
  "language_info": {
   "codemirror_mode": {
    "name": "ipython",
    "version": 3
   },
   "file_extension": ".py",
   "mimetype": "text/x-python",
   "name": "python",
   "nbconvert_exporter": "python",
   "pygments_lexer": "ipython3",
   "version": "3.12.5"
  }
 },
 "nbformat": 4,
 "nbformat_minor": 2
}
