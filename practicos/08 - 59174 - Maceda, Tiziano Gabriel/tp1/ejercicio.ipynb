{
 "cells": [
  {
   "cell_type": "markdown",
   "metadata": {},
   "source": [
    "# Trabajo práctico 1\n",
    "\n"
   ]
  },
  {
   "cell_type": "markdown",
   "metadata": {},
   "source": [
    "## Ejercicio 1 \n",
    "\n",
    "Escribe una función en Python que procese una lista de cadenas de texto y realice las siguientes acciones:\n",
    "\n",
    "1. Tomar una lista de frases y convertir cada frase en una lista de palabras.\n",
    "1. Luego, debe crear una nueva lista que contenga la cantidad de palabras en cada frase.\n",
    "1. Tambien debe crear un lista que contenga la cantidad de caracteres en cada frase.\n",
    "1. Finalmente, debe imprimir cada frase original junto con la cantidad de palabras que contiene.\n",
    "Ejemplo de uso:\n",
    "```python\n",
    "    frases = [\n",
    "        \"Python es un lenguaje de programación\",\n",
    "        \"Me gusta resolver problemas con código\",\n",
    "        \"Las listas y los bucles son muy útiles\"\n",
    "    ]\n",
    "\n",
    "    procesar_frases(frases)\n",
    "```\n",
    "\n",
    "ejemplo de salida:\n",
    "```bash\n",
    "    La frase: \"Python es un...\"\n",
    "    tiene 6 palabras y 38 caracteres\n",
    "```\n"
   ]
  },
  {
   "cell_type": "code",
   "execution_count": 1,
   "metadata": {},
   "outputs": [
    {
     "name": "stdout",
     "output_type": "stream",
     "text": [
      "\n",
      "------------------------------------------------------------------------------------------------------------------------------------\n",
      "\n",
      "['el', 'código', 'es', 'poesía']\n",
      "['e', 'l', ' ', 'c', 'ó', 'd', 'i', 'g', 'o', ' ', 'e', 's', ' ', 'p', 'o', 'e', 's', 'í', 'a']\n",
      "la frase: 'el código es poesía'\n",
      "tiene, 4 palabras y 19 caracteres\n",
      "\n",
      "------------------------------------------------------------------------------------------------------------------------------------\n",
      "\n",
      "['si', 'funciona,', 'no', 'lo', 'toques']\n",
      "['s', 'i', ' ', 'f', 'u', 'n', 'c', 'i', 'o', 'n', 'a', ',', ' ', 'n', 'o', ' ', 'l', 'o', ' ', 't', 'o', 'q', 'u', 'e', 's']\n",
      "la frase: 'si funciona, no lo toques'\n",
      "tiene, 5 palabras y 25 caracteres\n",
      "\n",
      "------------------------------------------------------------------------------------------------------------------------------------\n",
      "\n",
      "['el', 'mejor', 'depurador', 'es', 'el', 'programador', 'que', 'conoce', 'su', 'código']\n",
      "['e', 'l', ' ', 'm', 'e', 'j', 'o', 'r', ' ', 'd', 'e', 'p', 'u', 'r', 'a', 'd', 'o', 'r', ' ', 'e', 's', ' ', 'e', 'l', ' ', 'p', 'r', 'o', 'g', 'r', 'a', 'm', 'a', 'd', 'o', 'r', ' ', 'q', 'u', 'e', ' ', 'c', 'o', 'n', 'o', 'c', 'e', ' ', 's', 'u', ' ', 'c', 'ó', 'd', 'i', 'g', 'o']\n",
      "la frase: 'el mejor depurador es el programador que conoce su código'\n",
      "tiene, 10 palabras y 57 caracteres\n"
     ]
    }
   ],
   "source": [
    "frases=[\n",
    "    \"el código es poesía\",\n",
    "    \"si funciona, no lo toques\",\n",
    "    \"el mejor depurador es el programador que conoce su código\",\n",
    "    ]\n",
    "\n",
    "def leer(frases):\n",
    "\n",
    "    for frase in frases:\n",
    "        cant_p= frase.split()\n",
    "        cant_c=list(frase)\n",
    "        num_p= len(cant_p)\n",
    "        num_c= len(frase)\n",
    "\n",
    "        print()\n",
    "        print(\"------------------------------------------------------------------------------------------------------------------------------------\")\n",
    "        print()\n",
    "        print(cant_p)\n",
    "        print(cant_c)   \n",
    "        print(f\"la frase: '{frase}'\") \n",
    "        print(f\"tiene, {num_p} palabras y {num_c} caracteres\")\n",
    "\n",
    "\n",
    "leer(frases)"
   ]
  },
  {
   "cell_type": "markdown",
   "metadata": {},
   "source": [
    "## Ejercicio 2\n",
    "\n",
    "Escribe una función en Python que encuentre los valores de `a`, `b`, y `c` para que la función cuadrática `f(x) = aX^2 + bX + c` pase exactamente por los siguientes puntos:\n",
    "\n",
    "| x  | y  |\n",
    "|---:|---:|\n",
    "|  0 |  0 |\n",
    "|  1 |  8 |\n",
    "|  2 | 12 |\n",
    "|  3 | 12 |\n",
    "|  5 |  0 |\n",
    "\n",
    "### Requisitos:\n",
    "- La función debe explorar posibles valores de `a`, `b`, y `c` utilizando un método de prueba y error.\n",
    "- Debe devolver los valores que hagan que la diferencia entre la función `f(x)` y los valores medidos `y` sea exactamente cero para cada punto.\n",
    "\n",
    "> **Pista**: Los valores de `a`, `b`, y `c` son números pequeños."
   ]
  },
  {
   "cell_type": "code",
   "execution_count": 2,
   "metadata": {},
   "outputs": [
    {
     "name": "stdout",
     "output_type": "stream",
     "text": [
      "el valor de 'a' es: -2, 'b': 10 y 'c': 0 \n",
      "(-2, 10, 0)\n"
     ]
    }
   ],
   "source": [
    "def funcion_c():\n",
    "    puntos = [(0, 0), (1, 8), (2, 12), (3, 12), (5, 0)]\n",
    "    es_solucion = True\n",
    "\n",
    "    for a in range(-10, 11):\n",
    "\n",
    "        for b in range(-10, 11):\n",
    "            \n",
    "            for c in range(-10, 11):  \n",
    "                 \n",
    "                for (x,y) in puntos:\n",
    "                    \n",
    "                    x = x\n",
    "                    fx = a * x**2 + b * x + c \n",
    "\n",
    "                    if x-x==0 and fx-y==0:\n",
    "                        es_solucion = True\n",
    "                        \n",
    "                    else:\n",
    "                        es_solucion = False\n",
    "                        break                        \n",
    "                if es_solucion:\n",
    "                    return a, b, c\n",
    "\n",
    "a,b,c= funcion_c()\n",
    "print(f\"el valor de 'a' es: {a}, 'b': {b} y 'c': {c} \")\n",
    "print((a,b,c))"
   ]
  }
 ],
 "metadata": {
  "kernelspec": {
   "display_name": "Python 3",
   "language": "python",
   "name": "python3"
  },
  "language_info": {
   "codemirror_mode": {
    "name": "ipython",
    "version": 3
   },
   "file_extension": ".py",
   "mimetype": "text/x-python",
   "name": "python",
   "nbconvert_exporter": "python",
   "pygments_lexer": "ipython3",
   "version": "3.12.5"
  }
 },
 "nbformat": 4,
 "nbformat_minor": 2
}
