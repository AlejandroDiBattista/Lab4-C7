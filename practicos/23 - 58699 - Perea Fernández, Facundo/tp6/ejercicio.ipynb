{
 "cells": [
  {
   "cell_type": "markdown",
   "metadata": {},
   "source": [
    "# TP6\n",
    "\n",
    "### `Resolver usando Pandas`\n",
    "\n",
    "Resolver los ejercicios del TP3 utilizando la librería Pandas."
   ]
  },
  {
   "cell_type": "markdown",
   "metadata": {},
   "source": [
    "### Ejercicio 1: Cargar Datos de ventas.\n",
    "\n",
    "El archivo datos.dat contiene el registro de las ventas realizadas.\n",
    "\n",
    "Tiene un formato de ancho fijo:\n",
    "- `fecha`:    10 lugares\n",
    "- `producto`: 30 lugares\n",
    "- `precio`:   10 lugares\n",
    "- `cantidad`:  5 lugares\n",
    "\n",
    "Hacer una funcion que cargue los datos en un DataFrame de Pandas."
   ]
  },
  {
   "cell_type": "code",
   "execution_count": 1,
   "metadata": {},
   "outputs": [
    {
     "name": "stdout",
     "output_type": "stream",
     "text": [
      "         Fecha    Producto  Precio  Cantidad\n",
      "0   2024-08-27     Mirinda    1510        14\n",
      "1   2024-08-27     Mirinda    1560        12\n",
      "2   2024-08-28     Torasso     940         8\n",
      "3   2024-08-29  Pepsi Cola    1210        10\n",
      "4   2024-08-30     Mirinda    1520         1\n",
      "5   2024-09-01     Mirinda    1550        15\n",
      "6   2024-09-01      Sprite     810         4\n",
      "7   2024-09-02   Coca Cola    1100         4\n",
      "8   2024-09-02  Pepsi Cola    1220        13\n",
      "9   2024-09-02     Torasso     910         5\n",
      "10  2024-09-02     Torasso     920         3\n",
      "11  2024-09-03   Coca Cola    1020         8\n",
      "12  2024-09-03     Mirinda    1570         7\n",
      "13  2024-09-03     Mirinda    1590         2\n",
      "14  2024-09-04  Pepsi Cola    1220        13\n",
      "15  2024-09-05     Mirinda    1500         3\n",
      "16  2024-09-05  Pepsi Cola    1300         5\n",
      "17  2024-09-06   Coca Cola    1080         1\n",
      "18  2024-09-06      Sprite     860        12\n",
      "19  2024-09-06     Torasso     930         3\n",
      "20  2024-09-07   Coca Cola    1080        14\n",
      "21  2024-09-07      Sprite     870        13\n",
      "22  2024-09-08   Coca Cola    1040        10\n",
      "23  2024-09-08     Mirinda    1580         2\n",
      "24  2024-09-08  Pepsi Cola    1240         9\n",
      "25  2024-09-09     Mirinda    1500         3\n",
      "26  2024-09-09      Sprite     850         9\n",
      "27  2024-09-10     Mirinda    1590         8\n",
      "28  2024-09-10  Pepsi Cola    1250        12\n",
      "29  2024-09-11      Sprite     810         6\n",
      "30  2024-09-11      Sprite     820        14\n",
      "31  2024-09-12   Coca Cola    1080         4\n",
      "32  2024-09-13     Mirinda    1580         5\n",
      "33  2024-09-13  Pepsi Cola    1250        13\n",
      "34  2024-09-14   Coca Cola    1080        15\n",
      "35  2024-09-14  Pepsi Cola    1270        14\n",
      "36  2024-09-15   Coca Cola    1100         1\n",
      "37  2024-09-15     Mirinda    1500        13\n",
      "38  2024-09-15      Sprite     870        14\n",
      "39  2024-09-15     Torasso     900        13\n"
     ]
    }
   ],
   "source": [
    "import pandas as pd\n",
    "def cargar_datos():\n",
    "    lineas=open(\"datos.dat\",\"r\").readlines()\n",
    "    \n",
    "    lugares=[10,30,10,5]\n",
    "    claves=[\"Fecha\",\"Producto\",\"Precio\",\"Cantidad\"]\n",
    "    listaDiccionarios=[]\n",
    "    for elem in lineas:\n",
    "        diccionario={}\n",
    "        posicion=0\n",
    "        for clave, lugar in zip(claves, lugares): #zip() convierte en tuplas los elementos de cada lista, sirve para iterar listas simultaneamente\n",
    "            diccionario[clave]=elem[posicion:posicion+lugar].strip() #Quita los espacion en blanco.\n",
    "            #                                                Strip devuelve una cadena limpia, mientras que split devuelve una lista de subcadenas\n",
    "            posicion+=lugar #      0/10/40/50 --- 10/40/50/55\n",
    "        listaDiccionarios.append(diccionario)\n",
    "    \n",
    "    return listaDiccionarios\n",
    "dataFrame=pd.DataFrame(cargar_datos())\n",
    "datos = dataFrame\n",
    "print(datos)\n",
    "\n",
    "## Otra Opcion mas simple con Panda\n",
    "# def cargar_datos_en_dataframe():\n",
    "#     # Carga los datos en un DataFrame utilizando pd.read_fwf\n",
    "#     df = pd.read_fwf(\"datos.dat\", \n",
    "#                     widths=[10, 30, 10, 5], \n",
    "#                     names=[\"Fecha\", \"Producto\", \"Precio\", \"Cantidad\"], \n",
    "#                     header=None)\n",
    "    \n",
    "#     return df\n",
    "\n",
    "# datos = cargar_datos_en_dataframe()\n",
    "# print(datos)"
   ]
  },
  {
   "cell_type": "markdown",
   "metadata": {},
   "source": [
    "### Ejercicio 2: Calcular el total de ventas.\n",
    "Hacer una función que sume los importes vendidos (precio * cantidad) y las cantidades.\n"
   ]
  },
  {
   "cell_type": "code",
   "execution_count": 5,
   "metadata": {},
   "outputs": [
    {
     "name": "stdout",
     "output_type": "stream",
     "text": [
      "Las ventas fueron de $392730.00 en 335 unidades\n"
     ]
    }
   ],
   "source": [
    "def calcular_totales(datos):\n",
    "    datos['Precio']=pd.to_numeric(datos['Precio'])\n",
    "    datos['Cantidad']=pd.to_numeric(datos['Cantidad'])\n",
    "    return ( datos['Precio']*datos['Cantidad'] ).sum(), (datos['Cantidad'].sum())\n",
    "\n",
    "importe, cantidad = calcular_totales(datos)\n",
    "\n",
    "print(f\"Las ventas fueron de ${importe:.2f} en {cantidad} unidades\")"
   ]
  },
  {
   "cell_type": "markdown",
   "metadata": {},
   "source": [
    "### Ejercicio 3: Listar las unidades vendidas.\n",
    "Listar cuántas unidades se vendieron en total para cada producto\n"
   ]
  },
  {
   "cell_type": "code",
   "execution_count": 9,
   "metadata": {},
   "outputs": [
    {
     "name": "stdout",
     "output_type": "stream",
     "text": [
      "Producto\n",
      "Coca Cola     57\n",
      "Mirinda       85\n",
      "Pepsi Cola    89\n",
      "Sprite        72\n",
      "Torasso       32\n"
     ]
    }
   ],
   "source": [
    "def unidades_vendidas(datos):\n",
    "    datos['Cantidad']=pd.to_numeric(datos['Cantidad'])\n",
    "    ventas=datos.groupby('Producto')['Cantidad'].sum()\n",
    "    print(ventas.to_string())\n",
    "unidades_vendidas(datos)"
   ]
  },
  {
   "cell_type": "markdown",
   "metadata": {},
   "source": [
    "###  Ejercicio 4: Listar el precio promedio por producto.\n",
    "Hacer un listado del precio promedio por producto.\n"
   ]
  },
  {
   "cell_type": "code",
   "execution_count": 17,
   "metadata": {},
   "outputs": [
    {
     "name": "stdout",
     "output_type": "stream",
     "text": [
      "Producto: Coca Cola\n",
      "Precio promedio: 1072.50\n",
      "\n",
      "Producto: Mirinda\n",
      "Precio promedio: 1545.83\n",
      "\n",
      "Producto: Pepsi Cola\n",
      "Precio promedio: 1245.00\n",
      "\n",
      "Producto: Sprite\n",
      "Precio promedio: 841.43\n",
      "\n",
      "Producto: Torasso\n",
      "Precio promedio: 920.00\n",
      "\n"
     ]
    }
   ],
   "source": [
    "def precio_promedio(datos):\n",
    "    datos['Precio'] = pd.to_numeric(datos['Precio'])\n",
    "    precios_promedio = datos.groupby('Producto')['Precio'].mean().to_dict()\n",
    "    return precios_promedio\n",
    "\n",
    "promedios=precio_promedio(datos)\n",
    "def listar_promedios(datos):\n",
    "    for producto, promedio in datos.items():\n",
    "        print(f\"Producto: {producto}\\nPrecio promedio: {promedio:.2f}\\n\")\n",
    "listar_promedios(promedios)"
   ]
  },
  {
   "cell_type": "markdown",
   "metadata": {},
   "source": [
    "### Ejercicio 5: Ranking de productos\n",
    "Realizar un listado de los 3 productos más vendidos ordenados por la cantidad de unidades vendidas (ordenadas de mayor a menor)\n"
   ]
  },
  {
   "cell_type": "code",
   "execution_count": 18,
   "metadata": {},
   "outputs": [
    {
     "name": "stdout",
     "output_type": "stream",
     "text": [
      "1) - Pepsi Cola (vendió 89 unidades)\n",
      "\n",
      "2) - Mirinda (vendió 85 unidades)\n",
      "\n",
      "3) - Sprite (vendió 72 unidades)\n",
      "\n"
     ]
    }
   ],
   "source": [
    "def ranking_productos(datos, top=3):\n",
    "    datos['Cantidad'] = pd.to_numeric(datos['Cantidad'])\n",
    "    ranking = datos.groupby('Producto')['Cantidad'].sum().sort_values(ascending=False).nlargest(top)\n",
    "    return ranking\n",
    "def listarRanking(ranking):\n",
    "    for i, (prod, cant) in enumerate(ranking.items()):\n",
    "        print(f\"{i+1}) - {prod} (vendió {cant} unidades)\\n\")\n",
    "ranking =ranking_productos(datos)\n",
    "listarRanking(ranking)"
   ]
  },
  {
   "cell_type": "markdown",
   "metadata": {},
   "source": [
    "### Ejercicio 6: Listar las ventas por mes\n",
    "Realizar un listado del total de unidades vendidas por producto separado por mes.\n"
   ]
  },
  {
   "cell_type": "code",
   "execution_count": 21,
   "metadata": {},
   "outputs": [
    {
     "name": "stdout",
     "output_type": "stream",
     "text": [
      "\n",
      "Ventas mes: 8:\n",
      "\n",
      "\tCoca Cola: 0 unidades\n",
      "\tMirinda: 27 unidades\n",
      "\tPepsi Cola: 10 unidades\n",
      "\tSprite: 0 unidades\n",
      "\tTorasso: 8 unidades\n",
      "\n",
      "Ventas mes: 9:\n",
      "\n",
      "\tCoca Cola: 57 unidades\n",
      "\tMirinda: 58 unidades\n",
      "\tPepsi Cola: 79 unidades\n",
      "\tSprite: 72 unidades\n",
      "\tTorasso: 24 unidades\n"
     ]
    }
   ],
   "source": [
    "def ventas_por_mes(datos):\n",
    "    datos['Fecha'] = pd.to_datetime(datos['Fecha'])\n",
    "    datos['Cantidad'] = pd.to_numeric(datos['Cantidad'])\n",
    "    datos['Mes'] = datos['Fecha'].dt.month\n",
    "    \n",
    "    ventas_mes = datos.groupby(['Mes', 'Producto'])['Cantidad'].sum().unstack('Producto')\n",
    "    ventas_mes = ventas_mes.fillna(0)\n",
    "    return ventas_mes\n",
    "def listarVentasMensuales(datos):\n",
    "    for index, fila in datos.iterrows():\n",
    "        print(f\"\\nVentas mes: {index}:\\n\")\n",
    "        for producto, cantidad in fila.items():\n",
    "            print(f\"\\t{producto}: {int(cantidad)} unidades\")\n",
    "ventas =ventas_por_mes(datos)\n",
    "listarVentasMensuales(ventas)"
   ]
  },
  {
   "cell_type": "markdown",
   "metadata": {},
   "source": [
    "### Ejercicio 7: Informe general\n",
    "\n",
    "Mostrar un listado de productos ordenados alfabeticamente que contengan el precio promedio, la cantidad de unidades vendidas y el importe total vendido para cada producto"
   ]
  },
  {
   "cell_type": "code",
   "execution_count": 22,
   "metadata": {},
   "outputs": [
    {
     "name": "stdout",
     "output_type": "stream",
     "text": [
      "Resumen de ventas:\n",
      "\n",
      "Producto:\n",
      "\tCoca Cola\n",
      "\tPrecio promedio: $1072.50\n",
      "\tCantidad vendida: 57 unidades\n",
      "\tImporte total: $61132.50\n",
      "\n",
      "Producto:\n",
      "\tMirinda\n",
      "\tPrecio promedio: $1545.83\n",
      "\tCantidad vendida: 85 unidades\n",
      "\tImporte total: $131395.83\n",
      "\n",
      "Producto:\n",
      "\tPepsi Cola\n",
      "\tPrecio promedio: $1245.00\n",
      "\tCantidad vendida: 89 unidades\n",
      "\tImporte total: $110805.00\n",
      "\n",
      "Producto:\n",
      "\tSprite\n",
      "\tPrecio promedio: $841.43\n",
      "\tCantidad vendida: 72 unidades\n",
      "\tImporte total: $60582.86\n",
      "\n",
      "Producto:\n",
      "\tTorasso\n",
      "\tPrecio promedio: $920.00\n",
      "\tCantidad vendida: 32 unidades\n",
      "\tImporte total: $29440.00\n"
     ]
    }
   ],
   "source": [
    "def resumen_ventas(datos):\n",
    "    datos['Precio'] = pd.to_numeric(datos['Precio'])\n",
    "    datos['Cantidad'] = pd.to_numeric(datos['Cantidad'])\n",
    "    \n",
    "    resumen = datos.groupby('Producto').agg({\n",
    "        'Precio': 'mean',\n",
    "        'Cantidad': 'sum'\n",
    "    }).rename(columns={'Precio': 'Precio promedio', 'Cantidad': 'Cantidad vendida'})\n",
    "    \n",
    "    resumen['Importe total'] = resumen['Precio promedio'] * resumen['Cantidad vendida']\n",
    "    \n",
    "    return resumen\n",
    "\n",
    "def informe_ventas(datos):\n",
    "    print(\"Resumen de ventas:\")\n",
    "    for index, fila in datos.sort_index().iterrows():\n",
    "        print(f\"\\nProducto:\\n\\t{index}\")\n",
    "        print(f\"\\tPrecio promedio: ${fila['Precio promedio']:.2f}\")\n",
    "        print(f\"\\tCantidad vendida: {int(fila['Cantidad vendida'])} unidades\")\n",
    "        print(f\"\\tImporte total: ${fila['Importe total']:.2f}\")\n",
    "\n",
    "resumen =resumen_ventas(datos)\n",
    "informe_ventas(resumen)\n"
   ]
  },
  {
   "cell_type": "markdown",
   "metadata": {},
   "source": [
    "## `Resolver usando NumPy`\n",
    "## Resolver el ejercicio 2 del tp1 usando NumPy"
   ]
  },
  {
   "cell_type": "markdown",
   "metadata": {},
   "source": [
    "### Ejercicio 8\n",
    "\n",
    "Escribe una función en Python que encuentre los valores de `a`, `b`, y `c` para que la función cuadrática `f(x) = a x^2 + b x + c` pase exactamente por los siguientes puntos:\n",
    "\n",
    "| x  | y  |\n",
    "|---:|---:|\n",
    "|  0 |  0 |\n",
    "|  1 |  8 |\n",
    "|  2 | 12 |\n",
    "|  3 | 12 |\n",
    "|  5 |  0 |\n",
    "\n",
    "### Requisitos:\n",
    "- La función debe explorar posibles valores de `a`, `b`, y `c` utilizando un método de prueba y error.\n",
    "- Debe devolver los valores que hagan que la diferencia entre la función `f(x)` y los valores medidos `y` sea exactamente cero para cada punto.\n",
    "\n",
    "> **Pista**: Los valores de `a`, `b`, y `c` son números pequeños.\n",
    "\n",
    "La idea es implementar el mismo algoritmo que se uso en el TP1 pero usando NumPy en lugar de Python puro."
   ]
  },
  {
   "cell_type": "code",
   "execution_count": 23,
   "metadata": {},
   "outputs": [
    {
     "data": {
      "text/plain": [
       "array([-2, 10,  0])"
      ]
     },
     "execution_count": 23,
     "metadata": {},
     "output_type": "execute_result"
    }
   ],
   "source": [
    "import numpy as np\n",
    "def f(x, coeficientes):\n",
    "    a,b,c = coeficientes\n",
    "    return a*x**2 + b*x + c\n",
    "\n",
    "def error(y, y_pred):\n",
    "    return y - y_pred\n",
    "\n",
    "X = np.array([0,1,2,3,5])\n",
    "Y = np.array([0,8,12,12,0])\n",
    "\n",
    "def buscar_coeficientes():\n",
    "    for a in np.arange(-20, 21):\n",
    "        for b in np.arange(-20, 21):\n",
    "            for c in np.arange(-20, 21):\n",
    "                coeficientes = np.array([a, b, c])\n",
    "                y_pred = f(X, coeficientes)\n",
    "                if np.all(error(Y, y_pred) == 0):\n",
    "                    return coeficientes\n",
    "    return \"No se encontró solución exacta.\"\n",
    "\n",
    "coeficientes = buscar_coeficientes()\n",
    "coeficientes"
   ]
  },
  {
   "cell_type": "markdown",
   "metadata": {},
   "source": [
    "### Ejercicio 9: Resolver el ejercicio 3 del TP1 usando NumPy\n",
    "Buscar los coeficientes de la función que minimice la suma de los cuadrados de las diferencias entre los valores medidos y los valores de la función.\n",
    "\n",
    "1. Crear un array con los coeficientes elegidos al azar (usar `randint(-10,10,3)`).\n",
    "2. Calcular el valor de la función y el error correspondiente.\n",
    "3. Mientras que el error sea mayor a 1:\n",
    "    1. Definir nuevos coeficientes agregándoles un pequeño valor al azar a los coeficientes actuales (aprendizaje = 0.001).\n",
    "    2. Si el error para los nuevos coeficientes es menor que el anterior, reemplazar los coeficientes actuales por los nuevos.\n"
   ]
  },
  {
   "cell_type": "code",
   "execution_count": 24,
   "metadata": {},
   "outputs": [
    {
     "data": {
      "text/plain": [
       "array([-1.778,  8.955,  0.613])"
      ]
     },
     "execution_count": 24,
     "metadata": {},
     "output_type": "execute_result"
    }
   ],
   "source": [
    "import numpy as np\n",
    "from numpy.random import randint\n",
    "\n",
    "def f(x, coeficientes):\n",
    "    a,b,c = coeficientes\n",
    "    return a*x**2 + b*x + c\n",
    "\n",
    "def error(y, y_pred):\n",
    "    return np.sum((y - y_pred)**2)\n",
    "\n",
    "X = np.array([0, 1, 2, 3, 5])\n",
    "Y = np.array([0, 8,12,11, 1]) # Observar que no son los mismos valores que en el ejemplo anterior\n",
    "\n",
    "def buscar_coeficientes():\n",
    "    coeficientes = randint(-10, 10, 3)\n",
    "    aprendizaje = 0.001\n",
    "    errorVigente = error(Y, f(X, coeficientes))\n",
    "    \n",
    "    while errorVigente > 1:\n",
    "        nuevos_coeficientes = coeficientes + randint(-10, 10, 3) * aprendizaje\n",
    "        errorActualizado = error(Y, f(X, nuevos_coeficientes))\n",
    "        \n",
    "        if errorActualizado < errorVigente:\n",
    "            coeficientes = nuevos_coeficientes\n",
    "            errorVigente = errorActualizado\n",
    "    \n",
    "    return coeficientes\n",
    "\n",
    "coeficientes = buscar_coeficientes()\n",
    "coeficientes"
   ]
  },
  {
   "cell_type": "code",
   "execution_count": null,
   "metadata": {},
   "outputs": [],
   "source": []
  }
 ],
 "metadata": {
  "kernelspec": {
   "display_name": "Python 3",
   "language": "python",
   "name": "python3"
  },
  "language_info": {
   "codemirror_mode": {
    "name": "ipython",
    "version": 3
   },
   "file_extension": ".py",
   "mimetype": "text/x-python",
   "name": "python",
   "nbconvert_exporter": "python",
   "pygments_lexer": "ipython3",
   "version": "3.12.5"
  }
 },
 "nbformat": 4,
 "nbformat_minor": 2
}
