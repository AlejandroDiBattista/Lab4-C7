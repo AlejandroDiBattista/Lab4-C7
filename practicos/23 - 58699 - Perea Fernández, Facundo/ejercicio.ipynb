{
 "cells": [
  {
   "cell_type": "markdown",
   "metadata": {},
   "source": [
    "# Trabajo práctico 1\n",
    "\n"
   ]
  },
  {
   "cell_type": "markdown",
   "metadata": {},
   "source": [
    "## Ejercicio 1 \n",
    "\n",
    "Escribe una función en Python que procese una lista de cadenas de texto y realice las siguientes acciones:\n",
    "\n",
    "1. Tomar una lista de frases y convertir cada frase en una lista de palabras.\n",
    "1. Luego, debe crear una nueva lista que contenga la cantidad de palabras en cada frase.\n",
    "1. Tambien debe crear un lista que contenga la cantidad de caracteres en cada frase.\n",
    "1. Finalmente, debe imprimir cada frase original junto con la cantidad de palabras que contiene.\n",
    "Ejemplo de uso:\n",
    "```python\n",
    "    frases = [\n",
    "        \"Python es un lenguaje de programación\",\n",
    "        \"Me gusta resolver problemas con código\",\n",
    "        \"Las listas y los bucles son muy útiles\"\n",
    "    ]\n",
    "\n",
    "    procesar_frases(frases)\n",
    "```\n",
    "\n",
    "ejemplo de salida:\n",
    "```bash\n",
    "    La frase: \"Python es un...\"\n",
    "    tiene 6 palabras y 38 caracteres\n",
    "```\n"
   ]
  },
  {
   "cell_type": "code",
   "execution_count": 23,
   "metadata": {},
   "outputs": [
    {
     "name": "stdout",
     "output_type": "stream",
     "text": [
      "La 1a frase: \"Gonzalo Nieva siempre sabe cómo hacer reír a todos.\"\n",
      "tiene 9 palabras y 51 caracteres.\n",
      "\n",
      "La 2a frase: \"Bernabe es el amigo en quien siempre puedes confiar.\"\n",
      "tiene 9 palabras y 52 caracteres.\n",
      "\n",
      "La 3a frase: \"Sol tiene una energía contagiosa que ilumina cualquier lugar.\"\n",
      "tiene 9 palabras y 61 caracteres.\n",
      "\n",
      "La 4a frase: \"Josefina es la amiga que siempre está dispuesta a escuchar.\"\n",
      "tiene 10 palabras y 59 caracteres.\n",
      "\n",
      "La 5a frase: \"Juntos, Gonzalo, Bernabe, Sol y Josefina forman un equipo increíble.\"\n",
      "tiene 10 palabras y 68 caracteres.\n",
      "\n"
     ]
    }
   ],
   "source": [
    "# Implementar\n",
    "frases = [\n",
    "    \"Gonzalo Nieva siempre sabe cómo hacer reír a todos.\",\"Bernabe es el amigo en quien siempre puedes confiar.\",\n",
    "    \"Sol tiene una energía contagiosa que ilumina cualquier lugar.\",\"Josefina es la amiga que siempre está dispuesta a escuchar.\",\n",
    "    \"Juntos, Gonzalo, Bernabe, Sol y Josefina forman un equipo increíble.\"\n",
    "]\n",
    "\n",
    "#  1-Lista de palabras -->  podria hacer una Lista de listas? listaFrases=[ [frase1palabras],[frase2palabras],[frase3palabras],[...] ]\n",
    "#                           para usar un for y llenar la lista, y evitar hacer tantas listas\n",
    "\n",
    "#  2-Lista de cantidad palabras --> Usar len(split()) sobre la lista\n",
    "#  3-Lista de cantidad de caracteres Usar len() sobre la lista\n",
    "\"\"\"\n",
    "list(): sirve para crear una lista nueva. Sin parametros, hace una vacia.\n",
    "split(): devuelve una lista de palabras de la cadenaString.\n",
    "\"\"\"\n",
    "def procesarFrases(lista):\n",
    "    cantPalabras=list()\n",
    "    cantCaracteres=list()\n",
    "    for i in range(0, len(lista)):\n",
    "        listaPalabras=lista[i].split()  # Crea la lista con las palabra de las frases. Pero se reemplaza su valor con cada iteracion\n",
    "                                        # Pero no trabajo con ella para calcular la cant. de caracteres... taBien?\n",
    "        cantPalabras.append(len(listaPalabras))\n",
    "        cantCaracteres.append(len(lista[i]))\n",
    "        print(f\"La {i+1}a frase: \\\"{lista[i]}\\\"\\ntiene {cantPalabras[i]} palabras y {cantCaracteres[i]} caracteres.\\n\")    \n",
    "\n",
    "procesarFrases(frases)        "
   ]
  },
  {
   "cell_type": "markdown",
   "metadata": {},
   "source": [
    "## Ejercicio 2\n",
    "\n",
    "Escribe una función en Python que encuentre los valores de `a`, `b`, y `c` para que la función cuadrática `f(x) = aX^2 + bX + c` pase exactamente por los siguientes puntos:\n",
    "\n",
    "| x  | y  |\n",
    "|---:|---:|\n",
    "|  0 |  0 |\n",
    "|  1 |  8 |\n",
    "|  2 | 12 |\n",
    "|  3 | 12 |\n",
    "|  5 |  0 |\n",
    "\n",
    "### Requisitos:\n",
    "- La función debe explorar posibles valores de `a`, `b`, y `c` utilizando un método de prueba y error.\n",
    "- Debe devolver los valores que hagan que la diferencia entre la función `f(x)` y los valores medidos `y` sea exactamente cero para cada punto.\n",
    "\n",
    "> **Pista**: Los valores de `a`, `b`, y `c` son números pequeños."
   ]
  },
  {
   "cell_type": "code",
   "execution_count": null,
   "metadata": {},
   "outputs": [],
   "source": [
    "# Implementar"
   ]
  }
 ],
 "metadata": {
  "kernelspec": {
   "display_name": "Python 3",
   "language": "python",
   "name": "python3"
  },
  "language_info": {
   "codemirror_mode": {
    "name": "ipython",
    "version": 3
   },
   "file_extension": ".py",
   "mimetype": "text/x-python",
   "name": "python",
   "nbconvert_exporter": "python",
   "pygments_lexer": "ipython3",
   "version": "3.12.5"
  }
 },
 "nbformat": 4,
 "nbformat_minor": 2
}
