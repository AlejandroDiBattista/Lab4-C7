{
 "cells": [
  {
   "cell_type": "markdown",
   "metadata": {},
   "source": [
    "#TP3"
   ]
  },
  {
   "cell_type": "markdown",
   "metadata": {},
   "source": [
    "## Ejercicio 1: Cargar Datos de ventas.\n",
    "\n",
    "El archivo datos.dat contiene el registro de las ventas realizadas.\n",
    "\n",
    "Tiene un formato de ancho fijo:\n",
    "- fecha:    10 lugares\n",
    "- producto: 30 lugares\n",
    "- precio:   10 lugares\n",
    "- cantidad:  5 lugares\n",
    "\n",
    "hacer una funcion que carge los en una lista de diccionarios. \n",
    "\n",
    "nota: con \n",
    "```python\n",
    "lineas = open(\"datos.dat\", \"r\").readlines() \n",
    "```\n",
    "puede obtener la lista de string de todos los datos "
   ]
  },
  {
   "cell_type": "code",
   "execution_count": 1,
   "metadata": {},
   "outputs": [
    {
     "name": "stdout",
     "output_type": "stream",
     "text": [
      "{'Fecha': '2024-08-27', 'Producto': 'Mirinda', 'Precio': '1510', 'Cantidad': '14'}\n",
      "\n",
      "{'Fecha': '2024-08-27', 'Producto': 'Mirinda', 'Precio': '1560', 'Cantidad': '12'}\n",
      "\n",
      "{'Fecha': '2024-08-28', 'Producto': 'Torasso', 'Precio': '940', 'Cantidad': '8'}\n",
      "\n",
      "{'Fecha': '2024-08-29', 'Producto': 'Pepsi Cola', 'Precio': '1210', 'Cantidad': '10'}\n",
      "\n",
      "{'Fecha': '2024-08-30', 'Producto': 'Mirinda', 'Precio': '1520', 'Cantidad': '1'}\n",
      "\n",
      "{'Fecha': '2024-09-01', 'Producto': 'Mirinda', 'Precio': '1550', 'Cantidad': '15'}\n",
      "\n",
      "{'Fecha': '2024-09-01', 'Producto': 'Sprite', 'Precio': '810', 'Cantidad': '4'}\n",
      "\n",
      "{'Fecha': '2024-09-02', 'Producto': 'Coca Cola', 'Precio': '1100', 'Cantidad': '4'}\n",
      "\n",
      "{'Fecha': '2024-09-02', 'Producto': 'Pepsi Cola', 'Precio': '1220', 'Cantidad': '13'}\n",
      "\n",
      "{'Fecha': '2024-09-02', 'Producto': 'Torasso', 'Precio': '910', 'Cantidad': '5'}\n",
      "\n",
      "{'Fecha': '2024-09-02', 'Producto': 'Torasso', 'Precio': '920', 'Cantidad': '3'}\n",
      "\n",
      "{'Fecha': '2024-09-03', 'Producto': 'Coca Cola', 'Precio': '1020', 'Cantidad': '8'}\n",
      "\n",
      "{'Fecha': '2024-09-03', 'Producto': 'Mirinda', 'Precio': '1570', 'Cantidad': '7'}\n",
      "\n",
      "{'Fecha': '2024-09-03', 'Producto': 'Mirinda', 'Precio': '1590', 'Cantidad': '2'}\n",
      "\n",
      "{'Fecha': '2024-09-04', 'Producto': 'Pepsi Cola', 'Precio': '1220', 'Cantidad': '13'}\n",
      "\n",
      "{'Fecha': '2024-09-05', 'Producto': 'Mirinda', 'Precio': '1500', 'Cantidad': '3'}\n",
      "\n",
      "{'Fecha': '2024-09-05', 'Producto': 'Pepsi Cola', 'Precio': '1300', 'Cantidad': '5'}\n",
      "\n",
      "{'Fecha': '2024-09-06', 'Producto': 'Coca Cola', 'Precio': '1080', 'Cantidad': '1'}\n",
      "\n",
      "{'Fecha': '2024-09-06', 'Producto': 'Sprite', 'Precio': '860', 'Cantidad': '12'}\n",
      "\n",
      "{'Fecha': '2024-09-06', 'Producto': 'Torasso', 'Precio': '930', 'Cantidad': '3'}\n",
      "\n",
      "{'Fecha': '2024-09-07', 'Producto': 'Coca Cola', 'Precio': '1080', 'Cantidad': '14'}\n",
      "\n",
      "{'Fecha': '2024-09-07', 'Producto': 'Sprite', 'Precio': '870', 'Cantidad': '13'}\n",
      "\n",
      "{'Fecha': '2024-09-08', 'Producto': 'Coca Cola', 'Precio': '1040', 'Cantidad': '10'}\n",
      "\n",
      "{'Fecha': '2024-09-08', 'Producto': 'Mirinda', 'Precio': '1580', 'Cantidad': '2'}\n",
      "\n",
      "{'Fecha': '2024-09-08', 'Producto': 'Pepsi Cola', 'Precio': '1240', 'Cantidad': '9'}\n",
      "\n",
      "{'Fecha': '2024-09-09', 'Producto': 'Mirinda', 'Precio': '1500', 'Cantidad': '3'}\n",
      "\n",
      "{'Fecha': '2024-09-09', 'Producto': 'Sprite', 'Precio': '850', 'Cantidad': '9'}\n",
      "\n",
      "{'Fecha': '2024-09-10', 'Producto': 'Mirinda', 'Precio': '1590', 'Cantidad': '8'}\n",
      "\n",
      "{'Fecha': '2024-09-10', 'Producto': 'Pepsi Cola', 'Precio': '1250', 'Cantidad': '12'}\n",
      "\n",
      "{'Fecha': '2024-09-11', 'Producto': 'Sprite', 'Precio': '810', 'Cantidad': '6'}\n",
      "\n",
      "{'Fecha': '2024-09-11', 'Producto': 'Sprite', 'Precio': '820', 'Cantidad': '14'}\n",
      "\n",
      "{'Fecha': '2024-09-12', 'Producto': 'Coca Cola', 'Precio': '1080', 'Cantidad': '4'}\n",
      "\n",
      "{'Fecha': '2024-09-13', 'Producto': 'Mirinda', 'Precio': '1580', 'Cantidad': '5'}\n",
      "\n",
      "{'Fecha': '2024-09-13', 'Producto': 'Pepsi Cola', 'Precio': '1250', 'Cantidad': '13'}\n",
      "\n",
      "{'Fecha': '2024-09-14', 'Producto': 'Coca Cola', 'Precio': '1080', 'Cantidad': '15'}\n",
      "\n",
      "{'Fecha': '2024-09-14', 'Producto': 'Pepsi Cola', 'Precio': '1270', 'Cantidad': '14'}\n",
      "\n",
      "{'Fecha': '2024-09-15', 'Producto': 'Coca Cola', 'Precio': '1100', 'Cantidad': '1'}\n",
      "\n",
      "{'Fecha': '2024-09-15', 'Producto': 'Mirinda', 'Precio': '1500', 'Cantidad': '13'}\n",
      "\n",
      "{'Fecha': '2024-09-15', 'Producto': 'Sprite', 'Precio': '870', 'Cantidad': '14'}\n",
      "\n",
      "{'Fecha': '2024-09-15', 'Producto': 'Torasso', 'Precio': '900', 'Cantidad': '13'}\n",
      "\n"
     ]
    }
   ],
   "source": [
    "def cargar_datos():\n",
    "    lineas=open(\"datos.dat\",\"r\").readlines()\n",
    "    \n",
    "    lugares=[10,30,10,5]\n",
    "    claves=[\"Fecha\",\"Producto\",\"Precio\",\"Cantidad\"]\n",
    "    listaDiccionarios=[]\n",
    "    for elem in lineas:\n",
    "        diccionario={}\n",
    "        posicion=0\n",
    "        for clave, lugar in zip(claves, lugares): #zip() convierte en tuplas los elementos de cada lista, sirve para iterar listas simultaneamente\n",
    "            diccionario[clave]=elem[posicion:posicion+lugar].strip() #Quita los espacion en blanco.\n",
    "            #                                                Strip devuelve una cadena limpia, mientras que split devuelve una lista de subcadenas\n",
    "            posicion+=lugar #      0/10/40/50 --- 10/40/50/55\n",
    "        listaDiccionarios.append(diccionario)\n",
    "    return listaDiccionarios\n",
    "\n",
    "datos = cargar_datos()\n",
    "for elem in datos:\n",
    "    print(f\"{elem}\\n\")"
   ]
  },
  {
   "cell_type": "markdown",
   "metadata": {},
   "source": [
    "## Ejercicio 2: Calcular el total de ventas.\n",
    "\n",
    "Hacer una funcion que sume los importes vendidos (precio * cantidad) y las cantidades"
   ]
  },
  {
   "cell_type": "code",
   "execution_count": 2,
   "metadata": {},
   "outputs": [
    {
     "name": "stdout",
     "output_type": "stream",
     "text": [
      "Las ventas fueron de $392730.00 en 335 unidades\n"
     ]
    }
   ],
   "source": [
    "def calcular_totales(datos):\n",
    "    total=0.0\n",
    "    cant=0\n",
    "    for dic in datos:\n",
    "        total+=float(dic[\"Precio\"])*int(dic[\"Cantidad\"])\n",
    "        cant+=int(dic[\"Cantidad\"])\n",
    "    return (total,cant)\n",
    "importe, cantidad = calcular_totales(datos)\n",
    "\n",
    "print(f\"Las ventas fueron de ${importe:.2f} en {cantidad} unidades\") # Decia 2.f ???"
   ]
  },
  {
   "cell_type": "markdown",
   "metadata": {},
   "source": [
    "## Ejercicio 3: Listar las unidades vendidas.\n",
    "\n",
    "Listar cuantas unidades se vendieron en total para cada producto"
   ]
  },
  {
   "cell_type": "code",
   "execution_count": 3,
   "metadata": {},
   "outputs": [
    {
     "name": "stdout",
     "output_type": "stream",
     "text": [
      "Producto: Mirinda\n",
      "Cantidad vendida: 85\n",
      "\n",
      "Producto: Torasso\n",
      "Cantidad vendida: 32\n",
      "\n",
      "Producto: Pepsi Cola\n",
      "Cantidad vendida: 89\n",
      "\n",
      "Producto: Sprite\n",
      "Cantidad vendida: 72\n",
      "\n",
      "Producto: Coca Cola\n",
      "Cantidad vendida: 57\n",
      "\n"
     ]
    }
   ],
   "source": [
    "def unidades_vendidas(datos):\n",
    "    ventas={}\n",
    "    for dic in datos:\n",
    "        producto=dic[\"Producto\"]\n",
    "        cant=int(dic[\"Cantidad\"])\n",
    "        if producto in ventas:\n",
    "            ventas[producto]+=cant\n",
    "        else:\n",
    "            ventas[producto]=cant\n",
    "    return ventas\n",
    "\n",
    "def listar_ventas(datos):\n",
    "    for clave,valor in datos.items():\n",
    "        print(f\"Producto: {clave}\\nCantidad vendida: {valor}\")\n",
    "        print()\n",
    "\n",
    "ventas = unidades_vendidas(datos)\n",
    "listar_ventas(ventas)\n"
   ]
  },
  {
   "cell_type": "markdown",
   "metadata": {},
   "source": [
    "##  Ejercicio 4: Listar el precio promedio por producto.\n",
    "\n",
    "Hacer un listado del precio promedio por productos."
   ]
  },
  {
   "cell_type": "code",
   "execution_count": 4,
   "metadata": {},
   "outputs": [
    {
     "name": "stdout",
     "output_type": "stream",
     "text": [
      "\n",
      "Precio promedio del producto Mirinda:\t\t1545.83\n",
      "\n",
      "\n",
      "Precios: [1510.0, 1560.0, 1520.0, 1550.0, 1570.0, 1590.0, 1500.0, 1580.0, 1500.0, 1590.0, 1580.0, 1500.0]\n",
      "------------------------------------------------------------------------------------------------------------------------------------\n",
      "\n",
      "Precio promedio del producto Torasso:\t\t920.00\n",
      "\n",
      "\n",
      "Precios: [940.0, 910.0, 920.0, 930.0, 900.0]\n",
      "------------------------------------------------------------------------------------------------------------------------------------\n",
      "\n",
      "Precio promedio del producto Pepsi Cola:\t\t1245.00\n",
      "\n",
      "\n",
      "Precios: [1210.0, 1220.0, 1220.0, 1300.0, 1240.0, 1250.0, 1250.0, 1270.0]\n",
      "------------------------------------------------------------------------------------------------------------------------------------\n",
      "\n",
      "Precio promedio del producto Sprite:\t\t841.43\n",
      "\n",
      "\n",
      "Precios: [810.0, 860.0, 870.0, 850.0, 810.0, 820.0, 870.0]\n",
      "------------------------------------------------------------------------------------------------------------------------------------\n",
      "\n",
      "Precio promedio del producto Coca Cola:\t\t1072.50\n",
      "\n",
      "\n",
      "Precios: [1100.0, 1020.0, 1080.0, 1080.0, 1040.0, 1080.0, 1080.0, 1100.0]\n",
      "------------------------------------------------------------------------------------------------------------------------------------\n"
     ]
    }
   ],
   "source": [
    "def precio_promedio(datos):\n",
    "    preciosPromedio={} # Diccionario que se devuelve  Tendra clave=producto y valor=promedioPrecioProd yyyy clave=precios y valor=listaDePreciosDistintos\n",
    "    for dic in datos:\n",
    "        nombreProducto=dic[\"Producto\"]\n",
    "        precio=float(dic[\"Precio\"])\n",
    "\n",
    "        if nombreProducto not in preciosPromedio:\n",
    "            preciosPromedio[nombreProducto]={\n",
    "                \"sumaPrecios\":precio,\n",
    "                \"listaPrecios\":[precio]\n",
    "            }\n",
    "        else:\n",
    "            preciosPromedio[nombreProducto][\"sumaPrecios\"]+=precio\n",
    "            preciosPromedio[nombreProducto][\"listaPrecios\"].append(precio)\n",
    "        \n",
    "    for producto in preciosPromedio:\n",
    "        preciosPromedio[producto][\"promedio\"] = preciosPromedio[producto][\"sumaPrecios\"] / len(preciosPromedio[producto]['listaPrecios'])\n",
    "\n",
    "    \n",
    "    return preciosPromedio\n",
    "\n",
    "def listar_precios(datos):\n",
    "    for clave,valor in datos.items():\n",
    "        print(f\"\\nPrecio promedio del producto {clave}:\\t\\t{valor['promedio']:.2f}\\n\")\n",
    "        print(f\"\\nPrecios: {valor['listaPrecios']}\")\n",
    "        print(\"------------------------------------------------------------------------------------------------------------------------------------\")\n",
    "\n",
    "\n",
    "losPrecios = precio_promedio(datos)\n",
    "listar_precios(losPrecios)"
   ]
  },
  {
   "cell_type": "markdown",
   "metadata": {},
   "source": [
    "### Ejercicio 5: Ranking de productos\n",
    "\n",
    "Realizar un listado de los 3 productos mas vendidos ordenados la cantidad de unidades vendidas (ordenadas de mayor a menor)\n"
   ]
  },
  {
   "cell_type": "code",
   "execution_count": 5,
   "metadata": {},
   "outputs": [
    {
     "name": "stdout",
     "output_type": "stream",
     "text": [
      "1) -  Pepsi Cola (vendio 89 unidades)\n",
      "\n",
      "2) -  Mirinda (vendio 85 unidades)\n",
      "\n",
      "3) -  Sprite (vendio 72 unidades)\n",
      "\n"
     ]
    }
   ],
   "source": [
    "def ranking_productos(datos, top=3):\n",
    "    ranking={}\n",
    "    for elem in datos:\n",
    "        producto=elem[\"Producto\"]\n",
    "        cantidad=int(elem[\"Cantidad\"])\n",
    "        if producto in ranking:\n",
    "            ranking[producto]+=cantidad\n",
    "        else:\n",
    "            ranking[producto]=cantidad\n",
    "    ranking=sorted(ranking.items(), key=lambda item:item[1], reverse=True)[:top] \n",
    "    # Acomoda el dic segun el 2do campo (valor) y luego lo invierte para que quede de mayor a menor\n",
    "    \n",
    "    return ranking\n",
    "\n",
    "def listar_ranking(ranking):\n",
    "    for i, (prod,cant) in enumerate(ranking):\n",
    "        print(f\"{i+1}) -  {prod} (vendio {cant} unidades)\\n\")\n",
    "\n",
    "ranking = ranking_productos(datos)\n",
    "listar_ranking(ranking)"
   ]
  },
  {
   "cell_type": "markdown",
   "metadata": {},
   "source": [
    "### Ejercicio 6: Listar las ventas por mes\n",
    "\n",
    "Realizar un listado del total de unidades vendidas por productos separada por mes."
   ]
  },
  {
   "cell_type": "code",
   "execution_count": 6,
   "metadata": {},
   "outputs": [
    {
     "name": "stdout",
     "output_type": "stream",
     "text": [
      "\n",
      "Ventas mes: 08:\n",
      "\n",
      "\tMirinda: 27 unidades\n",
      "\tTorasso: 8 unidades\n",
      "\tPepsi Cola: 10 unidades\n",
      "\n",
      "Ventas mes: 09:\n",
      "\n",
      "\tMirinda: 58 unidades\n",
      "\tSprite: 72 unidades\n",
      "\tCoca Cola: 57 unidades\n",
      "\tPepsi Cola: 79 unidades\n",
      "\tTorasso: 24 unidades\n"
     ]
    }
   ],
   "source": [
    "def ventas_por_mes(datos):\n",
    "    ventasMes={}\n",
    "    for elem in datos:\n",
    "        mes=elem[\"Fecha\"].split(\"-\")[1]\n",
    "        \n",
    "        producto=elem[\"Producto\"]\n",
    "        cantidad=int(elem[\"Cantidad\"])\n",
    "        \n",
    "\n",
    "        if mes not in ventasMes:\n",
    "            ventasMes[mes]={}\n",
    "        if producto in ventasMes[mes]:\n",
    "            ventasMes[mes][producto]+=cantidad\n",
    "        else:\n",
    "            ventasMes[mes][producto]=cantidad\n",
    "    return ventasMes\n",
    "\n",
    "def listar_ventas_mensuales(datos):\n",
    "    for clave,valor in datos.items():\n",
    "        print(f\"\\nVentas mes: {clave}:\\n\")\n",
    "        for prod, cant in valor.items():\n",
    "            print(f\"\\t{prod}: {cant} unidades\")\n",
    "\n",
    "\n",
    "ventas = ventas_por_mes(datos)\n",
    "listar_ventas_mensuales(ventas)"
   ]
  },
  {
   "cell_type": "markdown",
   "metadata": {},
   "source": [
    "### Ejercicio 7: Informe general\n",
    "\n",
    "Mostrar un listado de productos ordenados alfabeticamente que contengan el precio promedio, la cantidad de unidades vendidas y el importe total vendido para cada producto"
   ]
  },
  {
   "cell_type": "code",
   "execution_count": 7,
   "metadata": {},
   "outputs": [],
   "source": [
    "def resumen_ventas(datos):\n",
    "    pass # Implementar\n",
    "\n",
    "def informe_ventas(datos):\n",
    "    pass # Implementar\n",
    "\n",
    "resumen = resumen_ventas(datos)\n",
    "informe_ventas(resumen)\n"
   ]
  }
 ],
 "metadata": {
  "kernelspec": {
   "display_name": "Python 3",
   "language": "python",
   "name": "python3"
  },
  "language_info": {
   "codemirror_mode": {
    "name": "ipython",
    "version": 3
   },
   "file_extension": ".py",
   "mimetype": "text/x-python",
   "name": "python",
   "nbconvert_exporter": "python",
   "pygments_lexer": "ipython3",
   "version": "3.12.5"
  }
 },
 "nbformat": 4,
 "nbformat_minor": 2
}
