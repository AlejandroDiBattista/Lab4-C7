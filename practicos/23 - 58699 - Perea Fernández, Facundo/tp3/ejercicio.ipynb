{
 "cells": [
  {
   "cell_type": "markdown",
   "metadata": {},
   "source": [
    "#TP3"
   ]
  },
  {
   "cell_type": "markdown",
   "metadata": {},
   "source": [
    "## Ejercicio 1: Cargar Datos de ventas.\n",
    "\n",
    "El archivo datos.dat contiene el registro de las ventas realizadas.\n",
    "\n",
    "Tiene un formato de ancho fijo:\n",
    "- fecha:    10 lugares\n",
    "- producto: 30 lugares\n",
    "- precio:   10 lugares\n",
    "- cantidad:  5 lugares\n",
    "\n",
    "hacer una funcion que carge los en una lista de diccionarios. \n",
    "\n",
    "nota: con \n",
    "```python\n",
    "lineas = open(\"datos.dat\", \"r\").readlines() \n",
    "```\n",
    "puede obtener la lista de string de todos los datos "
   ]
  },
  {
   "cell_type": "code",
   "execution_count": 9,
   "metadata": {},
   "outputs": [
    {
     "name": "stdout",
     "output_type": "stream",
     "text": [
      "{'Fecha': '2024-08-27', 'Producto': 'Mirinda', 'Precio': '1510', 'Cantidad': '14'}\n",
      "\n",
      "{'Fecha': '2024-08-27', 'Producto': 'Mirinda', 'Precio': '1560', 'Cantidad': '12'}\n",
      "\n",
      "{'Fecha': '2024-08-28', 'Producto': 'Torasso', 'Precio': '940', 'Cantidad': '8'}\n",
      "\n",
      "{'Fecha': '2024-08-29', 'Producto': 'Pepsi Cola', 'Precio': '1210', 'Cantidad': '10'}\n",
      "\n",
      "{'Fecha': '2024-08-30', 'Producto': 'Mirinda', 'Precio': '1520', 'Cantidad': '1'}\n",
      "\n",
      "{'Fecha': '2024-09-01', 'Producto': 'Mirinda', 'Precio': '1550', 'Cantidad': '15'}\n",
      "\n",
      "{'Fecha': '2024-09-01', 'Producto': 'Sprite', 'Precio': '810', 'Cantidad': '4'}\n",
      "\n",
      "{'Fecha': '2024-09-02', 'Producto': 'Coca Cola', 'Precio': '1100', 'Cantidad': '4'}\n",
      "\n",
      "{'Fecha': '2024-09-02', 'Producto': 'Pepsi Cola', 'Precio': '1220', 'Cantidad': '13'}\n",
      "\n",
      "{'Fecha': '2024-09-02', 'Producto': 'Torasso', 'Precio': '910', 'Cantidad': '5'}\n",
      "\n",
      "{'Fecha': '2024-09-02', 'Producto': 'Torasso', 'Precio': '920', 'Cantidad': '3'}\n",
      "\n",
      "{'Fecha': '2024-09-03', 'Producto': 'Coca Cola', 'Precio': '1020', 'Cantidad': '8'}\n",
      "\n",
      "{'Fecha': '2024-09-03', 'Producto': 'Mirinda', 'Precio': '1570', 'Cantidad': '7'}\n",
      "\n",
      "{'Fecha': '2024-09-03', 'Producto': 'Mirinda', 'Precio': '1590', 'Cantidad': '2'}\n",
      "\n",
      "{'Fecha': '2024-09-04', 'Producto': 'Pepsi Cola', 'Precio': '1220', 'Cantidad': '13'}\n",
      "\n",
      "{'Fecha': '2024-09-05', 'Producto': 'Mirinda', 'Precio': '1500', 'Cantidad': '3'}\n",
      "\n",
      "{'Fecha': '2024-09-05', 'Producto': 'Pepsi Cola', 'Precio': '1300', 'Cantidad': '5'}\n",
      "\n",
      "{'Fecha': '2024-09-06', 'Producto': 'Coca Cola', 'Precio': '1080', 'Cantidad': '1'}\n",
      "\n",
      "{'Fecha': '2024-09-06', 'Producto': 'Sprite', 'Precio': '860', 'Cantidad': '12'}\n",
      "\n",
      "{'Fecha': '2024-09-06', 'Producto': 'Torasso', 'Precio': '930', 'Cantidad': '3'}\n",
      "\n",
      "{'Fecha': '2024-09-07', 'Producto': 'Coca Cola', 'Precio': '1080', 'Cantidad': '14'}\n",
      "\n",
      "{'Fecha': '2024-09-07', 'Producto': 'Sprite', 'Precio': '870', 'Cantidad': '13'}\n",
      "\n",
      "{'Fecha': '2024-09-08', 'Producto': 'Coca Cola', 'Precio': '1040', 'Cantidad': '10'}\n",
      "\n",
      "{'Fecha': '2024-09-08', 'Producto': 'Mirinda', 'Precio': '1580', 'Cantidad': '2'}\n",
      "\n",
      "{'Fecha': '2024-09-08', 'Producto': 'Pepsi Cola', 'Precio': '1240', 'Cantidad': '9'}\n",
      "\n",
      "{'Fecha': '2024-09-09', 'Producto': 'Mirinda', 'Precio': '1500', 'Cantidad': '3'}\n",
      "\n",
      "{'Fecha': '2024-09-09', 'Producto': 'Sprite', 'Precio': '850', 'Cantidad': '9'}\n",
      "\n",
      "{'Fecha': '2024-09-10', 'Producto': 'Mirinda', 'Precio': '1590', 'Cantidad': '8'}\n",
      "\n",
      "{'Fecha': '2024-09-10', 'Producto': 'Pepsi Cola', 'Precio': '1250', 'Cantidad': '12'}\n",
      "\n",
      "{'Fecha': '2024-09-11', 'Producto': 'Sprite', 'Precio': '810', 'Cantidad': '6'}\n",
      "\n",
      "{'Fecha': '2024-09-11', 'Producto': 'Sprite', 'Precio': '820', 'Cantidad': '14'}\n",
      "\n",
      "{'Fecha': '2024-09-12', 'Producto': 'Coca Cola', 'Precio': '1080', 'Cantidad': '4'}\n",
      "\n",
      "{'Fecha': '2024-09-13', 'Producto': 'Mirinda', 'Precio': '1580', 'Cantidad': '5'}\n",
      "\n",
      "{'Fecha': '2024-09-13', 'Producto': 'Pepsi Cola', 'Precio': '1250', 'Cantidad': '13'}\n",
      "\n",
      "{'Fecha': '2024-09-14', 'Producto': 'Coca Cola', 'Precio': '1080', 'Cantidad': '15'}\n",
      "\n",
      "{'Fecha': '2024-09-14', 'Producto': 'Pepsi Cola', 'Precio': '1270', 'Cantidad': '14'}\n",
      "\n",
      "{'Fecha': '2024-09-15', 'Producto': 'Coca Cola', 'Precio': '1100', 'Cantidad': '1'}\n",
      "\n",
      "{'Fecha': '2024-09-15', 'Producto': 'Mirinda', 'Precio': '1500', 'Cantidad': '13'}\n",
      "\n",
      "{'Fecha': '2024-09-15', 'Producto': 'Sprite', 'Precio': '870', 'Cantidad': '14'}\n",
      "\n",
      "{'Fecha': '2024-09-15', 'Producto': 'Torasso', 'Precio': '900', 'Cantidad': '13'}\n",
      "\n"
     ]
    }
   ],
   "source": [
    "def cargar_datos():\n",
    "    lineas=open(\"datos.dat\",\"r\").readlines()\n",
    "    \n",
    "    lugares=[10,30,10,5]\n",
    "    claves=[\"Fecha\",\"Producto\",\"Precio\",\"Cantidad\"]\n",
    "    listaDiccionarios=[]\n",
    "    for elem in lineas:\n",
    "        diccionario={}\n",
    "        posicion=0\n",
    "        for clave, lugar in zip(claves, lugares): #zip() convierte en tuplas los elementos de cada lista, sirve para iterar listas simultaneamente\n",
    "            diccionario[clave]=elem[posicion:posicion+lugar].strip() #Quita los espacion en blanco.\n",
    "            #                                                Strip devuelve una cadena limpia, mientras que split devuelve una lista de subcadenas\n",
    "            posicion+=lugar #      0/10/40/50 --- 10/40/50/55\n",
    "        listaDiccionarios.append(diccionario)\n",
    "    return listaDiccionarios\n",
    "\n",
    "datos = cargar_datos()"
   ]
  },
  {
   "cell_type": "markdown",
   "metadata": {},
   "source": [
    "## Ejercicio 2: Calcular el total de ventas.\n",
    "\n",
    "Hacer una funcion que sume los importes vendidos (precio * cantidad) y las cantidades"
   ]
  },
  {
   "cell_type": "code",
   "execution_count": 15,
   "metadata": {},
   "outputs": [
    {
     "name": "stdout",
     "output_type": "stream",
     "text": [
      "Las ventas fueron de $392730.00 en 335 unidades\n"
     ]
    }
   ],
   "source": [
    "def calcular_totales(datos):\n",
    "    total=0.0\n",
    "    cant=0\n",
    "    for dic in datos:\n",
    "        total+=float(dic[\"Precio\"])*int(dic[\"Cantidad\"])\n",
    "        cant+=int(dic[\"Cantidad\"])\n",
    "    return (total,cant)\n",
    "importe, cantidad = calcular_totales(datos)\n",
    "\n",
    "print(f\"Las ventas fueron de ${importe:.2f} en {cantidad} unidades\") # Decia 2.f ???"
   ]
  },
  {
   "cell_type": "markdown",
   "metadata": {},
   "source": [
    "## Ejercicio 3: Listar las unidades vendidas.\n",
    "\n",
    "Listar cuantas unidades se vendieron en total para cada producto"
   ]
  },
  {
   "cell_type": "code",
   "execution_count": 20,
   "metadata": {},
   "outputs": [
    {
     "name": "stdout",
     "output_type": "stream",
     "text": [
      "Producto: Mirinda\n",
      "Cantidad vendida: 85\n",
      "\n",
      "Producto: Torasso\n",
      "Cantidad vendida: 32\n",
      "\n",
      "Producto: Pepsi Cola\n",
      "Cantidad vendida: 89\n",
      "\n",
      "Producto: Sprite\n",
      "Cantidad vendida: 72\n",
      "\n",
      "Producto: Coca Cola\n",
      "Cantidad vendida: 57\n",
      "\n"
     ]
    }
   ],
   "source": [
    "def unidades_vendidas(datos):\n",
    "    ventas={}\n",
    "    for dic in datos:\n",
    "        producto=dic[\"Producto\"]\n",
    "        cant=int(dic[\"Cantidad\"])\n",
    "        if producto in ventas:\n",
    "            ventas[producto]+=cant\n",
    "        else:\n",
    "            ventas[producto]=cant\n",
    "    return ventas\n",
    "\n",
    "def listar_ventas(datos):\n",
    "    for clave,valor in datos.items():\n",
    "        print(f\"Producto: {clave}\\nCantidad vendida: {valor}\")\n",
    "        print()\n",
    "\n",
    "ventas = unidades_vendidas(datos)\n",
    "listar_ventas(ventas)\n"
   ]
  },
  {
   "cell_type": "markdown",
   "metadata": {},
   "source": [
    "##  Ejercicio 4: Listar el precio promedio por producto.\n",
    "\n",
    "Hacer un listado del precio promedio por productos."
   ]
  },
  {
   "cell_type": "code",
   "execution_count": null,
   "metadata": {},
   "outputs": [],
   "source": [
    "def precio_promedio(datos):\n",
    "    promediar={}\n",
    "    for dic in datos:\n",
    "        producto=dic[\"Producto\"]\n",
    "        precio=dic[\"Precio\"]\n",
    "        \n",
    "        pass # Implementar\n",
    "\n",
    "def listar_precios(datos):\n",
    "    \n",
    "    pass # Implement\n",
    "\n",
    "precios = precio_promedio(datos)\n",
    "listar_precios(precios)"
   ]
  },
  {
   "cell_type": "markdown",
   "metadata": {},
   "source": [
    "### Ejercicio 5: Ranking de productos\n",
    "\n",
    "Realizar un listado de los 3 productos mas vendidos ordenados la cantidad de unidades vendidas (ordenadas de mayor a menor)\n"
   ]
  },
  {
   "cell_type": "code",
   "execution_count": null,
   "metadata": {},
   "outputs": [],
   "source": [
    "def ranking_productos(datos, top=3):\n",
    "    pass # Implementar\n",
    "\n",
    "def listar_ranking(ranking):\n",
    "    pass # Implementar\n",
    "\n",
    "ranking = ranking_productos(datos)\n",
    "listar_ranking(ranking)"
   ]
  },
  {
   "cell_type": "markdown",
   "metadata": {},
   "source": [
    "### Ejercicio 6: Listar las ventas por mes\n",
    "\n",
    "Realizar un listado del total de unidades vendidas por productos separada por mes."
   ]
  },
  {
   "cell_type": "code",
   "execution_count": null,
   "metadata": {},
   "outputs": [],
   "source": [
    "def ventas_por_mes(datos):\n",
    "    pass # Implementar\n",
    "\n",
    "def listar_ventas_mensuales(ventas):\n",
    "    pass # Implementar\n",
    "\n",
    "ventas = ventas_por_mes(datos)\n",
    "listar_ventas_mensuales(ventas)"
   ]
  },
  {
   "cell_type": "markdown",
   "metadata": {},
   "source": [
    "### Ejercicio 7: Informe general\n",
    "\n",
    "Mostrar un listado de productos ordenados alfabeticamente que contengan el precio promedio, la cantidad de unidades vendidas y el importe total vendido para cada producto"
   ]
  },
  {
   "cell_type": "code",
   "execution_count": null,
   "metadata": {},
   "outputs": [],
   "source": [
    "def resumen_ventas(datos):\n",
    "    pass # Implementar\n",
    "\n",
    "def informe_ventas(datos):\n",
    "    pass # Implementar\n",
    "\n",
    "resumen = resumen_ventas(datos)\n",
    "informe_ventas(resumen)\n"
   ]
  }
 ],
 "metadata": {
  "kernelspec": {
   "display_name": "Python 3",
   "language": "python",
   "name": "python3"
  },
  "language_info": {
   "codemirror_mode": {
    "name": "ipython",
    "version": 3
   },
   "file_extension": ".py",
   "mimetype": "text/x-python",
   "name": "python",
   "nbconvert_exporter": "python",
   "pygments_lexer": "ipython3",
   "version": "3.12.5"
  }
 },
 "nbformat": 4,
 "nbformat_minor": 2
}
