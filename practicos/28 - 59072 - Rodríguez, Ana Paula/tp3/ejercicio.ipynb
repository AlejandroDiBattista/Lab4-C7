{
 "cells": [
  {
   "cell_type": "markdown",
   "metadata": {},
   "source": [
    "#TP3"
   ]
  },
  {
   "cell_type": "markdown",
   "metadata": {},
   "source": [
    "## Ejercicio 1: Cargar Datos de ventas.\n",
    "\n",
    "El archivo datos.dat contiene el registro de las ventas realizadas.\n",
    "\n",
    "Tiene un formato de ancho fijo:\n",
    "- fecha:    10 lugares\n",
    "- producto: 30 lugares\n",
    "- precio:   10 lugares\n",
    "- cantidad:  5 lugares\n",
    "\n",
    "hacer una funcion que carge los en una lista de diccionarios. \n",
    "\n",
    "nota: con \n",
    "```python\n",
    "lineas = open(\"datos.dat\", \"r\").readlines() \n",
    "```\n",
    "puede obtener la lista de string de todos los datos "
   ]
  },
  {
   "cell_type": "code",
   "execution_count": 89,
   "metadata": {},
   "outputs": [
    {
     "name": "stdout",
     "output_type": "stream",
     "text": [
      "{'fecha': '2024-08-27', 'producto': 'Mirinda', 'precio': 1510.0, 'cantidad': 14}\n",
      "{'fecha': '2024-08-27', 'producto': 'Mirinda', 'precio': 1560.0, 'cantidad': 12}\n",
      "{'fecha': '2024-08-28', 'producto': 'Torasso', 'precio': 940.0, 'cantidad': 8}\n",
      "{'fecha': '2024-08-29', 'producto': 'Pepsi Cola', 'precio': 1210.0, 'cantidad': 10}\n",
      "{'fecha': '2024-08-30', 'producto': 'Mirinda', 'precio': 1520.0, 'cantidad': 1}\n",
      "{'fecha': '2024-09-01', 'producto': 'Mirinda', 'precio': 1550.0, 'cantidad': 15}\n",
      "{'fecha': '2024-09-01', 'producto': 'Sprite', 'precio': 810.0, 'cantidad': 4}\n",
      "{'fecha': '2024-09-02', 'producto': 'Coca Cola', 'precio': 1100.0, 'cantidad': 4}\n",
      "{'fecha': '2024-09-02', 'producto': 'Pepsi Cola', 'precio': 1220.0, 'cantidad': 13}\n",
      "{'fecha': '2024-09-02', 'producto': 'Torasso', 'precio': 910.0, 'cantidad': 5}\n",
      "{'fecha': '2024-09-02', 'producto': 'Torasso', 'precio': 920.0, 'cantidad': 3}\n",
      "{'fecha': '2024-09-03', 'producto': 'Coca Cola', 'precio': 1020.0, 'cantidad': 8}\n",
      "{'fecha': '2024-09-03', 'producto': 'Mirinda', 'precio': 1570.0, 'cantidad': 7}\n",
      "{'fecha': '2024-09-03', 'producto': 'Mirinda', 'precio': 1590.0, 'cantidad': 2}\n",
      "{'fecha': '2024-09-04', 'producto': 'Pepsi Cola', 'precio': 1220.0, 'cantidad': 13}\n",
      "{'fecha': '2024-09-05', 'producto': 'Mirinda', 'precio': 1500.0, 'cantidad': 3}\n",
      "{'fecha': '2024-09-05', 'producto': 'Pepsi Cola', 'precio': 1300.0, 'cantidad': 5}\n",
      "{'fecha': '2024-09-06', 'producto': 'Coca Cola', 'precio': 1080.0, 'cantidad': 1}\n",
      "{'fecha': '2024-09-06', 'producto': 'Sprite', 'precio': 860.0, 'cantidad': 12}\n",
      "{'fecha': '2024-09-06', 'producto': 'Torasso', 'precio': 930.0, 'cantidad': 3}\n",
      "{'fecha': '2024-09-07', 'producto': 'Coca Cola', 'precio': 1080.0, 'cantidad': 14}\n",
      "{'fecha': '2024-09-07', 'producto': 'Sprite', 'precio': 870.0, 'cantidad': 13}\n",
      "{'fecha': '2024-09-08', 'producto': 'Coca Cola', 'precio': 1040.0, 'cantidad': 10}\n",
      "{'fecha': '2024-09-08', 'producto': 'Mirinda', 'precio': 1580.0, 'cantidad': 2}\n",
      "{'fecha': '2024-09-08', 'producto': 'Pepsi Cola', 'precio': 1240.0, 'cantidad': 9}\n",
      "{'fecha': '2024-09-09', 'producto': 'Mirinda', 'precio': 1500.0, 'cantidad': 3}\n",
      "{'fecha': '2024-09-09', 'producto': 'Sprite', 'precio': 850.0, 'cantidad': 9}\n",
      "{'fecha': '2024-09-10', 'producto': 'Mirinda', 'precio': 1590.0, 'cantidad': 8}\n",
      "{'fecha': '2024-09-10', 'producto': 'Pepsi Cola', 'precio': 1250.0, 'cantidad': 12}\n",
      "{'fecha': '2024-09-11', 'producto': 'Sprite', 'precio': 810.0, 'cantidad': 6}\n",
      "{'fecha': '2024-09-11', 'producto': 'Sprite', 'precio': 820.0, 'cantidad': 14}\n",
      "{'fecha': '2024-09-12', 'producto': 'Coca Cola', 'precio': 1080.0, 'cantidad': 4}\n",
      "{'fecha': '2024-09-13', 'producto': 'Mirinda', 'precio': 1580.0, 'cantidad': 5}\n",
      "{'fecha': '2024-09-13', 'producto': 'Pepsi Cola', 'precio': 1250.0, 'cantidad': 13}\n",
      "{'fecha': '2024-09-14', 'producto': 'Coca Cola', 'precio': 1080.0, 'cantidad': 15}\n",
      "{'fecha': '2024-09-14', 'producto': 'Pepsi Cola', 'precio': 1270.0, 'cantidad': 14}\n",
      "{'fecha': '2024-09-15', 'producto': 'Coca Cola', 'precio': 1100.0, 'cantidad': 1}\n",
      "{'fecha': '2024-09-15', 'producto': 'Mirinda', 'precio': 1500.0, 'cantidad': 13}\n",
      "{'fecha': '2024-09-15', 'producto': 'Sprite', 'precio': 870.0, 'cantidad': 14}\n",
      "{'fecha': '2024-09-15', 'producto': 'Torasso', 'precio': 900.0, 'cantidad': 13}\n"
     ]
    }
   ],
   "source": [
    "def cargar_datos():\n",
    "    datos = []\n",
    "    with open(\"datos.dat\", \"r\") as archivo:\n",
    "        lineas = archivo.readlines() \n",
    "        for linea in lineas:\n",
    "            fecha = linea[0:10].strip()  \n",
    "            producto = linea[10:40].strip()  \n",
    "            precio = float(linea[40:50].strip())  \n",
    "            cantidad = int(linea[50:55].strip())  \n",
    "            registro = {\n",
    "                \"fecha\": fecha,\n",
    "                \"producto\": producto,\n",
    "                \"precio\": precio,\n",
    "                \"cantidad\": cantidad\n",
    "            }\n",
    "            datos.append(registro)\n",
    "    return datos  \n",
    "datos = cargar_datos()\n",
    "for registro in datos:\n",
    "    print(registro)"
   ]
  },
  {
   "cell_type": "markdown",
   "metadata": {},
   "source": [
    "## Ejercicio 2: Calcular el total de ventas.\n",
    "\n",
    "Hacer una funcion que sume los importes vendidos (precio * cantidad) y las cantidades"
   ]
  },
  {
   "cell_type": "code",
   "execution_count": 90,
   "metadata": {},
   "outputs": [
    {
     "name": "stdout",
     "output_type": "stream",
     "text": [
      "Las ventas fueron $392730.00 en 335 unidades.\n"
     ]
    }
   ],
   "source": [
    "def calcular_totales(datos):\n",
    "    total_importe = 0\n",
    "    total_cantidad = 0\n",
    "    \n",
    "    for registro in datos:\n",
    "        total_importe += registro['precio'] * registro['cantidad']\n",
    "        total_cantidad += registro['cantidad']\n",
    "    return total_importe, total_cantidad\n",
    "datos = cargar_datos()\n",
    "importe, cantidad = calcular_totales(datos)\n",
    "print(f\"Las ventas fueron ${importe:.2f} en {cantidad} unidades.\")"
   ]
  },
  {
   "cell_type": "markdown",
   "metadata": {},
   "source": [
    "## Ejercicio 3: Listar las unidades vendidas.\n",
    "\n",
    "Listar cuantas unidades se vendieron en total para cada producto"
   ]
  },
  {
   "cell_type": "code",
   "execution_count": 91,
   "metadata": {},
   "outputs": [
    {
     "name": "stdout",
     "output_type": "stream",
     "text": [
      "Producto: Mirinda, Unidades Vendidas: 85\n",
      "Producto: Torasso, Unidades Vendidas: 32\n",
      "Producto: Pepsi Cola, Unidades Vendidas: 89\n",
      "Producto: Sprite, Unidades Vendidas: 72\n",
      "Producto: Coca Cola, Unidades Vendidas: 57\n"
     ]
    }
   ],
   "source": [
    "def unidades_vendidas(datos):\n",
    "    ventas_productos = {}\n",
    "    for registro in datos:\n",
    "        producto = registro['producto']\n",
    "        cantidad = registro['cantidad']\n",
    "        if producto in ventas_productos:\n",
    "            ventas_productos[producto] += cantidad\n",
    "        else:\n",
    "            ventas_productos[producto] = cantidad\n",
    "    return ventas_productos\n",
    "\n",
    "def listar_ventas(ventas):\n",
    "    for producto, cantidad in ventas.items():\n",
    "        print(f\"Producto: {producto}, Unidades Vendidas: {cantidad}\")\n",
    "datos = cargar_datos()\n",
    "ventas = unidades_vendidas(datos)\n",
    "listar_ventas(ventas)"
   ]
  },
  {
   "cell_type": "markdown",
   "metadata": {},
   "source": [
    "##  Ejercicio 4: Listar el precio promedio por producto.\n",
    "\n",
    "Hacer un listado del precio promedio por productos."
   ]
  },
  {
   "cell_type": "code",
   "execution_count": 92,
   "metadata": {},
   "outputs": [],
   "source": [
    "def precio_promedio(datos):\n",
    "    precio_total = {}\n",
    "    conteo_por_producto = {}\n",
    "    for registro in datos:\n",
    "        producto = registro['producto']\n",
    "        precio = registro['precio']\n",
    "        if producto in precio_total:\n",
    "            precio_total[producto] += precio\n",
    "            conteo_por_producto[producto] += 1\n",
    "        else:\n",
    "            precio_total\n",
    "            conteo_por_producto[producto] = 1\n",
    "    precio_promedio = {}\n",
    "    for producto in precio_total:\n",
    "        precio_promedio[producto] = precio_total[producto] / conteo_por_producto[producto]\n",
    "    return precio_promedio\n",
    "def listar_precios(precios):\n",
    "    for producto, promedio in precios.items():\n",
    "        print(f\"Producto: {producto}, Precio Promedio: ${promedio:.2f}\")\n",
    "\n",
    "datos = cargar_datos()\n",
    "precios = precio_promedio(datos)\n",
    "listar_precios(precios)"
   ]
  },
  {
   "cell_type": "markdown",
   "metadata": {},
   "source": [
    "### Ejercicio 5: Ranking de productos\n",
    "\n",
    "Realizar un listado de los 3 productos mas vendidos ordenados la cantidad de unidades vendidas (ordenadas de mayor a menor)\n"
   ]
  },
  {
   "cell_type": "code",
   "execution_count": 93,
   "metadata": {},
   "outputs": [
    {
     "name": "stdout",
     "output_type": "stream",
     "text": [
      "#1 Producto: Pepsi Cola, Unidades Vendidas: 89\n",
      "#2 Producto: Mirinda, Unidades Vendidas: 85\n",
      "#3 Producto: Sprite, Unidades Vendidas: 72\n"
     ]
    }
   ],
   "source": [
    "def ranking_productos(datos, top=3):\n",
    "    ventas_productos = {}\n",
    "    for registro in datos:\n",
    "        producto = registro['producto']\n",
    "        cantidad = registro['cantidad']\n",
    "        if producto in ventas_productos:\n",
    "            ventas_productos[producto] += cantidad\n",
    "        else:\n",
    "            ventas_productos[producto] = cantidad\n",
    "    ranking = sorted(ventas_productos.items(), key=lambda x: x[1], reverse=True)\n",
    "    return ranking[:top]\n",
    "def listar_ranking(ranking):\n",
    "    for i, (producto, cantidad) in enumerate(ranking, start=1):\n",
    "        print(f\"#{i} Producto: {producto}, Unidades Vendidas: {cantidad}\")\n",
    "datos = cargar_datos()\n",
    "ranking = ranking_productos(datos)\n",
    "listar_ranking(ranking)"
   ]
  },
  {
   "cell_type": "markdown",
   "metadata": {},
   "source": [
    "### Ejercicio 6: Listar las ventas por mes\n",
    "\n",
    "Realizar un listado del total de unidades vendidas por productos separada por mes."
   ]
  },
  {
   "cell_type": "code",
   "execution_count": 94,
   "metadata": {},
   "outputs": [
    {
     "name": "stdout",
     "output_type": "stream",
     "text": [
      "\n",
      "Ventas en 2024-08:\n",
      "  Producto: Mirinda, Unidades Vendidas: 27\n",
      "  Producto: Torasso, Unidades Vendidas: 8\n",
      "  Producto: Pepsi Cola, Unidades Vendidas: 10\n",
      "\n",
      "Ventas en 2024-09:\n",
      "  Producto: Mirinda, Unidades Vendidas: 58\n",
      "  Producto: Sprite, Unidades Vendidas: 72\n",
      "  Producto: Coca Cola, Unidades Vendidas: 57\n",
      "  Producto: Pepsi Cola, Unidades Vendidas: 79\n",
      "  Producto: Torasso, Unidades Vendidas: 24\n"
     ]
    }
   ],
   "source": [
    "def ventas_por_mes(datos):\n",
    "    ventas_mensuales = {}\n",
    "    for registro in datos:\n",
    "        mes = registro['fecha'][:7]  \n",
    "        producto = registro['producto']\n",
    "        cantidad = registro['cantidad']\n",
    "        if mes not in ventas_mensuales:\n",
    "            ventas_mensuales[mes] = {}\n",
    "        ventas_mensuales[mes].setdefault(producto, 0)\n",
    "        ventas_mensuales[mes][producto] += cantidad\n",
    "    return ventas_mensuales\n",
    "def ventas_mensuales(ventas):\n",
    "    for mes, productos in ventas.items():\n",
    "        print(f\"\\nVentas en {mes}:\")\n",
    "        for producto, cantidad in productos.items():\n",
    "            print(f\"  Producto: {producto}, Unidades Vendidas: {cantidad}\")\n",
    "ventas = ventas_por_mes(datos)\n",
    "ventas_mensuales(ventas)\n"
   ]
  },
  {
   "cell_type": "markdown",
   "metadata": {},
   "source": [
    "### Ejercicio 7: Informe general\n",
    "\n",
    "Mostrar un listado de productos ordenados alfabeticamente que contengan el precio promedio, la cantidad de unidades vendidas y el importe total vendido para cada producto"
   ]
  },
  {
   "cell_type": "code",
   "execution_count": 95,
   "metadata": {},
   "outputs": [
    {
     "ename": "KeyError",
     "evalue": "'Producto'",
     "output_type": "error",
     "traceback": [
      "\u001b[1;31m---------------------------------------------------------------------------\u001b[0m",
      "\u001b[1;31mKeyError\u001b[0m                                  Traceback (most recent call last)",
      "Cell \u001b[1;32mIn[95], line 32\u001b[0m\n\u001b[0;32m     29\u001b[0m         \u001b[38;5;28mprint\u001b[39m(\u001b[38;5;124mf\u001b[39m\u001b[38;5;124m\"\u001b[39m\u001b[38;5;130;01m\\t\u001b[39;00m\u001b[38;5;124mImporte total: $\u001b[39m\u001b[38;5;132;01m{\u001b[39;00mdatos[\u001b[38;5;124m'\u001b[39m\u001b[38;5;124mImporte total\u001b[39m\u001b[38;5;124m'\u001b[39m]\u001b[38;5;132;01m:\u001b[39;00m\u001b[38;5;124m.2f\u001b[39m\u001b[38;5;132;01m}\u001b[39;00m\u001b[38;5;124m\"\u001b[39m)\n\u001b[0;32m     30\u001b[0m     \u001b[38;5;28;01mpass\u001b[39;00m \u001b[38;5;66;03m# Implementar\u001b[39;00m\n\u001b[1;32m---> 32\u001b[0m resumen \u001b[38;5;241m=\u001b[39m \u001b[43mresumen_ventas\u001b[49m\u001b[43m(\u001b[49m\u001b[43mdatos\u001b[49m\u001b[43m)\u001b[49m\n\u001b[0;32m     33\u001b[0m informe_ventas(resumen)\n",
      "Cell \u001b[1;32mIn[95], line 6\u001b[0m, in \u001b[0;36mresumen_ventas\u001b[1;34m(datos)\u001b[0m\n\u001b[0;32m      3\u001b[0m resumen \u001b[38;5;241m=\u001b[39m {}\n\u001b[0;32m      5\u001b[0m \u001b[38;5;28;01mfor\u001b[39;00m elem \u001b[38;5;129;01min\u001b[39;00m datos:\n\u001b[1;32m----> 6\u001b[0m     producto \u001b[38;5;241m=\u001b[39m \u001b[43melem\u001b[49m\u001b[43m[\u001b[49m\u001b[38;5;124;43m\"\u001b[39;49m\u001b[38;5;124;43mProducto\u001b[39;49m\u001b[38;5;124;43m\"\u001b[39;49m\u001b[43m]\u001b[49m\n\u001b[0;32m      7\u001b[0m     cantidad \u001b[38;5;241m=\u001b[39m \u001b[38;5;28mint\u001b[39m(elem[\u001b[38;5;124m\"\u001b[39m\u001b[38;5;124mCantidad\u001b[39m\u001b[38;5;124m\"\u001b[39m])\n\u001b[0;32m      8\u001b[0m     precio \u001b[38;5;241m=\u001b[39m \u001b[38;5;28mfloat\u001b[39m(elem[\u001b[38;5;124m\"\u001b[39m\u001b[38;5;124mPrecio\u001b[39m\u001b[38;5;124m\"\u001b[39m])\n",
      "\u001b[1;31mKeyError\u001b[0m: 'Producto'"
     ]
    }
   ],
   "source": [
    "def resumen_ventas(datos):\n",
    "    ventas = unidades_vendidas(datos)\n",
    "    precios_promedio = precio_promedio(datos)\n",
    "    resumen_por_producto = {}\n",
    "    for registro in datos:\n",
    "        producto = registro['producto']\n",
    "        precio = registro['precio']\n",
    "        cantidad = registro['cantidad']\n",
    "        \n",
    "        if producto not in resumen_por_producto:\n",
    "            resumen_por_producto[producto] = {\n",
    "                'unidades_vendidas': ventas[producto],\n",
    "                'precio_promedio': precios_promedio[producto],\n",
    "                'total_vendido': 0\n",
    "            }\n",
    "        resumen_por_producto[producto]['total_vendido'] += precio * cantidad\n",
    "    return resumen_por_producto\n",
    "\n",
    "def informe_ventas(resumen):\n",
    "    productos_ordenados = sorted(resumen.items())    \n",
    "    print(\"Resumen de Ventas por Producto:\\n\")\n",
    "    for producto, datos in productos_ordenados:\n",
    "        print(f\"  Producto: {producto}\")\n",
    "        print(f\"  Precio Promedio: ${datos['precio_promedio']:.2f}\")\n",
    "        print(f\"  Unidades Vendidas: {datos['unidades_vendidas']}\")\n",
    "        print(f\"  Importe Total Vendido: ${datos['total_vendido']:.2f}\\n\")\n",
    "resumen = resumen_ventas(datos)\n",
    "informe_ventas(resumen)\n"
   ]
  }
 ],
 "metadata": {
  "kernelspec": {
   "display_name": "Python 3",
   "language": "python",
   "name": "python3"
  },
  "language_info": {
   "codemirror_mode": {
    "name": "ipython",
    "version": 3
   },
   "file_extension": ".py",
   "mimetype": "text/x-python",
   "name": "python",
   "nbconvert_exporter": "python",
   "pygments_lexer": "ipython3",
   "version": "3.12.5"
  }
 },
 "nbformat": 4,
 "nbformat_minor": 2
}
