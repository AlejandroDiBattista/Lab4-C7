{
 "cells": [
  {
   "cell_type": "markdown",
   "metadata": {},
   "source": [
    "# Practica de colecciones y estructura de control"
   ]
  },
  {
   "cell_type": "markdown",
   "metadata": {},
   "source": [
    "## 1. Extraer token\n",
    "\n",
    "Escribe una función en Python que, dado un string que representa una expresión matemática (por ejemplo, \"(1 + 23 * 34 + (15 + 10))\"), convierta la expresión en una lista de sus componentes. La lista debe incluir cada número, operador y paréntesis como elementos separados. Recorre la expresión carácter por carácter utilizando un bucle for y utiliza condicionales if para manejar cada caso (números, operadores, paréntesis y espacios).\n",
    "\n",
    "Por ejemplo, dada la expresión \"(1 + 23 * 34 + (15 + 10))\", la función debe devolver la lista:\n",
    "\n",
    "```python\n",
    "[\"(\", \"1\", \"+\", \"23\", \"*\", \"34\", \"+\", \"(\", \"15\", \"+\", \"10\", \")\", \")\"]\n",
    "```"
   ]
  },
  {
   "cell_type": "code",
   "execution_count": 35,
   "metadata": {},
   "outputs": [
    {
     "name": "stdout",
     "output_type": "stream",
     "text": [
      "['(', '1', '+', '23', '*', '34', '+', '(', '15', '+', '10', ')', ')']\n",
      "¡Todos los casos de prueba pasaron!\n"
     ]
    }
   ],
   "source": [
    "def extraer_token(expresion):\n",
    "    componentes = []\n",
    "    numero = ''\n",
    "    \n",
    "    for caracter in expresion:\n",
    "        if caracter.isdigit():\n",
    "            numero += caracter\n",
    "        else:\n",
    "            if numero:\n",
    "                componentes.append(numero)\n",
    "                numero = ''\n",
    "            if caracter in \"+-*/()\":\n",
    "                componentes.append(caracter)\n",
    "    \n",
    "    if numero:\n",
    "        componentes.append(numero)\n",
    "    \n",
    "    return componentes\n",
    "\n",
    "# Ejemplo de uso\n",
    "expresion = \"(1 + 23 * 34 + (15 + 10))\"\n",
    "resultado = extraer_token(expresion)\n",
    "print(resultado)\n",
    " \n",
    "    \n",
    "\n",
    "assert extraer_token(\"3 + 5\") == [\"3\", \"+\", \"5\"]\n",
    "assert extraer_token(\"(1 + 2) * 3\") == [\"(\", \"1\", \"+\", \"2\", \")\", \"*\", \"3\"]\n",
    "assert extraer_token(\"10 / (5 - 3)\") == [\"10\", \"/\", \"(\", \"5\", \"-\", \"3\", \")\"]\n",
    "assert extraer_token(\"4 * (2 + 3) / 5\") == [\"4\", \"*\", \"(\", \"2\", \"+\", \"3\", \")\", \"/\", \"5\"]\n",
    "assert extraer_token(\"7 - 2 * (3 + 4)\") == [\"7\", \"-\", \"2\", \"*\", \"(\", \"3\", \"+\", \"4\", \")\"]\n",
    "assert extraer_token(\"\") == []\n",
    "\n",
    "print(\"¡Todos los casos de prueba pasaron!\")"
   ]
  },
  {
   "cell_type": "markdown",
   "metadata": {},
   "source": [
    "## 2. Comprobar parentesis\n",
    "\n",
    "Enunciado:\n",
    "\n",
    "Escribe una función en Python que verifique si los paréntesis en una lista de tokens están correctamente balanceados. La lista puede contener números, operadores y paréntesis. Unos paréntesis están balanceados si:\n",
    "\n",
    "1. Cada paréntesis de apertura ( tiene un paréntesis de cierre ) correspondiente.\n",
    "1. Los paréntesis de cierre no aparecen antes de haberse abierto.\n",
    "\n",
    "La función debe recorrer la lista utilizando un contador que se incremente al encontrar un paréntesis de apertura y se decremente al encontrar uno de cierre. Si en algún momento el contador es negativo, o si al final no es cero, los paréntesis no están balanceados.\n",
    "\n",
    "Ejemplos:\n",
    "* Para la lista [\"(\", \"1\", \"+\", \"2\", \"+\", \"(\", \"3\", \"*\", \"4\", \")\", \"+\", \"(\", \"5\", \"*\", \"6\", \")\", \")\"], la función debe devolver True (balance correcto).\n",
    "* Para la lista [\"(\", \"(\", \"1\", \"+\", \"2\", \")\", \"+\", \"3\"], la función debe devolver False (falta un paréntesis de cierre).\n",
    "* Para la lista [\"(\", \"1\", \"+\", \"3\", \")\", \"*\", \"4\", \")\"], la función debe devolver False (hay un paréntesis de cierre de más)."
   ]
  },
  {
   "cell_type": "code",
   "execution_count": 36,
   "metadata": {},
   "outputs": [
    {
     "name": "stdout",
     "output_type": "stream",
     "text": [
      "¡Todos los casos de prueba pasaron!\n"
     ]
    }
   ],
   "source": [
    "def verificar_parentesis(tokens):\n",
    "    stack = []\n",
    "    \n",
    "    for token in tokens:\n",
    "        if token == \"(\":\n",
    "            stack.append(token)\n",
    "        elif token == \")\":\n",
    "            if not stack:\n",
    "                return False\n",
    "            stack.pop()\n",
    "    \n",
    "    return len(stack) == 0\n",
    "\n",
    "\n",
    "\n",
    "assert verificar_parentesis([\"(\", \"1\", \"+\", \"2\", \"+\", \"(\", \"3\", \"*\", \"4\", \")\", \"+\", \"(\", \"5\", \"*\", \"6\", \")\", \")\"]) == True\n",
    "assert verificar_parentesis([\"(\", \"(\", \"1\", \"+\", \"2\", \")\", \"+\", \"3\"]) == False\n",
    "assert verificar_parentesis([\"(\", \"1\", \"+\", \"3\", \")\", \"*\", \"4\", \")\"]) == False\n",
    "assert verificar_parentesis([]) == True\n",
    "assert verificar_parentesis([\"(\", \"(\", \"(\", \"1\", \"+\", \"2\"]) == False\n",
    "assert verificar_parentesis([\")\", \"1\", \"+\", \"2\", \")\"]) == False\n",
    "\n",
    "print(\"¡Todos los casos de prueba pasaron!\")"
   ]
  },
  {
   "cell_type": "markdown",
   "metadata": {},
   "source": [
    "## Ejericio 3: Comprobar expresion valida\n",
    "\n",
    "Escribe una función en Python que verifique si una lista de tokens que representa una expresión matemática simple está correctamente escrita. La expresión puede contener números, operadores aritméticos (+, -, *, /) y paréntesis, y se considera válida si cumple las siguientes reglas:\n",
    "\n",
    "1. Un número por sí solo es una expresión válida.\n",
    "1. Una expresión entre paréntesis es válida si lo que está dentro también es una expresión válida.\n",
    "1. Después de una expresión válida, puede haber un operador (+, -, *, /) seguido de otra expresión válida.\n",
    "1. No puede haber operadores seguidos sin una expresión válida entre ellos.\n",
    "\n",
    "La función debe devolver True si la expresión es válida y False si es incorrecta.\n",
    "\n",
    "#### Pistas:\n",
    "1. Considere que la funcion tiene parentesis corretamente balanceados ya que tenemos una funcion para verificarlo.\n",
    "\n",
    "Ejemplos:\n",
    "\n",
    "- Para la lista [\"(\", \"1\", \"+\", \"2\", \")\", \"*\", \"3\"], la función debe devolver True (expresión válida).\n",
    "- Para la lista [\"1\", \"+\", \"(\", \")\"], la función debe devolver False (los paréntesis están vacíos).\n",
    "- Para la lista [\"1\", \"*\", \"*\", \"2\"], la función debe devolver False (dos operadores seguidos no son válidos).\n"
   ]
  },
  {
   "cell_type": "code",
   "execution_count": 37,
   "metadata": {},
   "outputs": [
    {
     "name": "stdout",
     "output_type": "stream",
     "text": [
      "¡Todos los casos de prueba pasaron!\n"
     ]
    }
   ],
   "source": [
    "def es_operador(token):\n",
    "    return token in \"+-*/\"\n",
    "\n",
    "def es_numero(token):\n",
    "    return not es_operador(token) and token not in \"()\"\n",
    "\n",
    "def comprobar_parentesis(tokens):\n",
    "    parentesis = 0\n",
    "    for token in tokens:\n",
    "        if token == '(':\n",
    "            parentesis += 1\n",
    "        elif token == ')':\n",
    "            parentesis -= 1\n",
    "        if parentesis < 0:\n",
    "            return False\n",
    "    return parentesis == 0\n",
    "\n",
    "def expresion_valida(tokens):\n",
    "    if not comprobar_parentesis(tokens):\n",
    "        return False\n",
    "\n",
    "    ultimo_token = None\n",
    "\n",
    "    for token in tokens:\n",
    "        if es_operador(token):\n",
    "            if ultimo_token is None or es_operador(ultimo_token) or ultimo_token == '(':\n",
    "                return False\n",
    "        elif es_numero(token):\n",
    "            if ultimo_token and es_numero(ultimo_token):\n",
    "                return False\n",
    "        elif token == '(':\n",
    "            if ultimo_token and es_numero(ultimo_token):\n",
    "                return False\n",
    "        elif token == ')':\n",
    "            if ultimo_token is None or es_operador(ultimo_token) or ultimo_token == '(':\n",
    "                return False\n",
    "        \n",
    "        ultimo_token = token\n",
    "    if es_operador(ultimo_token):\n",
    "        return False\n",
    "    return True\n",
    "# Casos de prueba\n",
    "assert expresion_valida([\"(\", \"1\", \"+\", \"2\", \")\", \"*\", \"3\"]) == True\n",
    "assert expresion_valida([\"1\", \"+\", \"(\", \")\"]) == False\n",
    "assert expresion_valida([\"1\", \"*\", \"*\", \"2\"]) == False\n",
    "assert expresion_valida([\"(\", \"1\", \"+\", \"2\", \")\", \"/\", \"(\", \"3\", \"-\", \"4\", \")\"]) == True\n",
    "assert expresion_valida([\"(\", \"1\", \"+\", \"(\", \"2\", \"*\", \"3\", \")\", \"-\", \"4\", \")\"]) == True\n",
    "assert expresion_valida([\"1\", \"+\", \"2\", \"*\", \"3\", \"/\", \"4\"]) == True\n",
    "assert expresion_valida([\"1\", \"+\", \"+\", \"2\"]) == False\n",
    "assert expresion_valida([\"(\", \"1\", \"+\", \"2\", \"*\", \"3\"]) == False\n",
    "assert expresion_valida([\"1\", \"+\", \"2\", \")\", \"*\", \"3\"]) == False\n",
    "assert expresion_valida([\"(\", \"1\", \"+\", \"2\", \")\", \"*\", \"(\", \"3\", \"/\", \"4\", \")\"]) == True\n",
    "\n",
    "print(\"¡Todos los casos de prueba pasaron!\")\n"
   ]
  },
  {
   "cell_type": "markdown",
   "metadata": {},
   "source": [
    "## Ejercicio 4: Evaluar una expresión:\n",
    "### Enunciado:\n",
    "\n",
    "Escribe una función en Python que evalúe una expresión matemática representada como una lista de tokens. La expresión puede contener números, operadores de suma (`+`), multiplicación (`*`), y paréntesis (`(` y `)`). La función debe seguir estas reglas:\n",
    "\n",
    "1. **Los paréntesis** se evalúan primero, resolviendo las expresiones más internas antes de continuar.\n",
    "1. **Las multiplicaciones** (`*`) tienen prioridad sobre las sumas (`+`) y se deben  antes.\n",
    "1. **Las sumas** (`+`) se resuelven después de las multiplicaciones, siguiendo el orden de izquierda a derecha.\n",
    "\n",
    "#### Pistas:\n",
    "- Puedes crear **funciones separadas** para:\n",
    "  - Evaluar las expresiones dentro de los paréntesis.\n",
    "  - calculas las multiplicaciones una vez que no queden paréntesis.\n",
    "  - calcular las sumas una vez que las multiplicaciones estén resueltas.\n",
    "  \n",
    "- **Convierte la lista de tokens a una nueva lista** a medida que evalúas los paréntesis o los operadores, reemplazando las subexpresiones ya resueltas por su valor.\n",
    "\n",
    "#### Pistas adicionales:\n",
    "1. Considere que la lista tiene una expresion bien formada ya que disponemos de una funcion para verificar la misma.\n",
    "1. **Evaluar paréntesis interiores**: Para calcular los paréntesis, recorre la lista de tokens mientras haya paréntesis. Cuando encuentres un paréntesis de apertura `\"(\"`, registra su posición inicial. Cuando encuentres un paréntesis de cierre `\")\"`, registra la posición final. La sublista entre estas posiciones debe pasarse recursivamente a la función `evaluar`. El resultado debe reemplazar la subexpresión dentro de la lista.\n",
    "\n",
    "1. **Evaluar multiplicaciones**: Una vez que hayas resuelto los paréntesis, ya no quedarán paréntesis en la expresión. Al evaluar las multiplicaciones, siempre habrá un número antes y otro después del operador `\"*\"`. Simplemente recorre la lista, reemplaza el token `\"*\"` y los números adyacentes con su producto.\n",
    "\n",
    "1. **Evaluar sumas**: Al evaluar las sumas, la lista solo contendrá números y el operador `\"+\"`. El resultado será el primer número, y luego, cada vez que encuentres un `\"+\"`, suma el siguiente número al resultado. Continúa así avanzando por la lista de dos tokens a la vez (número, operador, número).\n",
    "\n",
    "#### Ejemplos:\n",
    "\n",
    "- Para la lista `[\"(\", \"1\", \"+\", \"2\", \")\", \"*\", \"3\"]`, la función debe devolver `9`.\n",
    "- Para la lista `[\"1\", \"+\", \"(\", \"2\", \"*\", \"3\", \"+\", \"4\", \")\", \"*\", \"5\"]`, la función debe devolver `36`.\n",
    "- Para la lista `[\"(\", \"5\", \"*\", \"6\", \"+\", \"7\", \")\", \"*\", \"(\", \"8\", \"+\", \"9\", \")\"]`, la función debe devolver `204`.\n",
    "\n"
   ]
  },
  {
   "cell_type": "code",
   "execution_count": 38,
   "metadata": {},
   "outputs": [
    {
     "name": "stdout",
     "output_type": "stream",
     "text": [
      "¡Todos los casos de prueba pasaron!\n"
     ]
    }
   ],
   "source": [
    "def evaluar(tokens):\n",
    "    tokens = calcular_parentesis(tokens)\n",
    "    tokens = calcular_multiplicaciones(tokens)\n",
    "    return calcular_sumas(tokens)\n",
    "def calcular_parentesis(tokens):\n",
    "    while \"(\" in tokens:\n",
    "        open_idx = -1\n",
    "        for i, token in enumerate(tokens):\n",
    "            if token == \"(\":\n",
    "                open_idx = i\n",
    "            elif token == \")\" and open_idx != -1:\n",
    "                sub_expr = tokens[open_idx + 1:i]\n",
    "                valor = evaluar(sub_expr)\n",
    "                tokens = tokens[:open_idx] + [str(valor)] + tokens[i+1:]\n",
    "                break\n",
    "    return tokens\n",
    "def calcular_multiplicaciones(tokens):\n",
    "    i = 0\n",
    "    while i < len(tokens):\n",
    "        if tokens[i] == \"*\":\n",
    "            producto = int(tokens[i-1]) * int(tokens[i+1])\n",
    "            tokens = tokens[:i-1] + [str(producto)] + tokens[i+2:]\n",
    "        else:\n",
    "            i += 1\n",
    "    return tokens\n",
    "def calcular_sumas(tokens):\n",
    "    resultado = int(tokens[0])\n",
    "    i = 1\n",
    "    while i < len(tokens):\n",
    "        if tokens[i] == \"+\":\n",
    "            resultado += int(tokens[i+1])\n",
    "        i += 2\n",
    "    return resultado\n",
    "assert evaluar([\"(\", \"1\", \"+\", \"2\", \")\", \"*\", \"3\"]) == 9\n",
    "assert evaluar([\"1\", \"+\", \"2\", \"*\", \"3\"]) == 7\n",
    "assert evaluar([\"(\", \"1\", \"+\", \"2\", \")\", \"+\", \"(\", \"3\", \"*\", \"4\", \")\"]) == 15\n",
    "assert evaluar([\"10\", \"+\", \"(\", \"5\", \"*\", \"3\", \")\", \"+\", \"2\"]) == 27\n",
    "assert evaluar([\"(\", \"2\", \"+\", \"3\", \")\", \"*\", \"(\", \"4\", \"+\", \"1\", \")\"]) == 25\n",
    "\n",
    "print(\"¡Todos los casos de prueba pasaron!\")"
   ]
  }
 ],
 "metadata": {
  "kernelspec": {
   "display_name": "Python 3",
   "language": "python",
   "name": "python3"
  },
  "language_info": {
   "codemirror_mode": {
    "name": "ipython",
    "version": 3
   },
   "file_extension": ".py",
   "mimetype": "text/x-python",
   "name": "python",
   "nbconvert_exporter": "python",
   "pygments_lexer": "ipython3",
   "version": "3.12.5"
  }
 },
 "nbformat": 4,
 "nbformat_minor": 2
}
