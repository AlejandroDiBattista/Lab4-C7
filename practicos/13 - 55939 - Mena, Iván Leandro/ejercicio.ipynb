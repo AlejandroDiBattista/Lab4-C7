{
 "cells": [
  {
   "cell_type": "markdown",
   "metadata": {},
   "source": [
    "# Trabajo práctico 1\n",
    "\n"
   ]
  },
  {
   "cell_type": "markdown",
   "metadata": {},
   "source": [
    "## Ejercicio 1 \n",
    "\n",
    "Escribe una función en Python que procese una lista de cadenas de texto y realice las siguientes acciones:\n",
    "\n",
    "1. Tomar una lista de frases y convertir cada frase en una lista de palabras.\n",
    "1. Luego, debe crear una nueva lista que contenga la cantidad de palabras en cada frase.\n",
    "1. Tambien debe crear un lista que contenga la cantidad de caracteres en cada frase.\n",
    "1. Finalmente, debe imprimir cada frase original junto con la cantidad de palabras que contiene.\n",
    "Ejemplo de uso:\n",
    "```python\n",
    "    frases = [\n",
    "        \"Python es un lenguaje de programación\",\n",
    "        \"Me gusta resolver problemas con código\",\n",
    "        \"Las listas y los bucles son muy útiles\"\n",
    "    ]\n",
    "\n",
    "    procesar_frases(frases)\n",
    "```\n",
    "\n",
    "ejemplo de salida:\n",
    "```bash\n",
    "    La frase: \"Python es un...\"\n",
    "    tiene 6 palabras y 38 caracteres\n",
    "```\n"
   ]
  },
  {
   "cell_type": "code",
   "execution_count": 1,
   "metadata": {},
   "outputs": [
    {
     "name": "stdout",
     "output_type": "stream",
     "text": [
      "La frase: \"Phyton es un lenguaje con sintaxis simple\"\n",
      "Tiene 7 palabras y 41 caracteres\n",
      "La frase: \"Phyton es un buen lenguaje para aprender\"\n",
      "Tiene 7 palabras y 40 caracteres\n",
      "La frase: \"Phyton funciona para manejar inteligencias artificiales\"\n",
      "Tiene 6 palabras y 55 caracteres\n",
      "La frase: \"Phyton es un lenguaje que conozco poco\"\n",
      "Tiene 7 palabras y 38 caracteres\n"
     ]
    }
   ],
   "source": [
    "# Implementark\n",
    "frases = [\n",
    "    \"Phyton es un lenguaje con sintaxis simple\",\n",
    "    \"Phyton es un buen lenguaje para aprender\",\n",
    "    \"Phyton funciona para manejar inteligencias artificiales\",\n",
    "    \"Phyton es un lenguaje que conozco poco\"\n",
    "]\n",
    "\n",
    "def depurar_frases(frases):\n",
    "    almacena_palabras = []\n",
    "    almacena_caracteres = []\n",
    "\n",
    "    for frase in frases:\n",
    "        palabras = frase.split()\n",
    "        almacena_palabras.append(len(palabras))\n",
    "        almacena_caracteres.append(len(frase))\n",
    "\n",
    "    for i, frase in enumerate(frases):\n",
    "        print(f'La frase: \"{frase}\"')\n",
    "        print(f'Tiene {almacena_palabras[i]} palabras y {almacena_caracteres[i]} caracteres')\n",
    "\n",
    "depurar_frases(frases)"
   ]
  },
  {
   "cell_type": "markdown",
   "metadata": {},
   "source": [
    "## Ejercicio 2\n",
    "\n",
    "Escribe una función en Python que encuentre los valores de `a`, `b`, y `c` para que la función cuadrática `f(x) = aX^2 + bX + c` pase exactamente por los siguientes puntos:\n",
    "\n",
    "| x  | y  |\n",
    "|---:|---:|\n",
    "|  0 |  0 |\n",
    "|  1 |  8 |\n",
    "|  2 | 12 |\n",
    "|  3 | 12 |\n",
    "|  5 |  0 |\n",
    "\n",
    "### Requisitos:\n",
    "- La función debe explorar posibles valores de `a`, `b`, y `c` utilizando un método de prueba y error.\n",
    "- Debe devolver los valores que hagan que la diferencia entre la función `f(x)` y los valores medidos `y` sea exactamente cero para cada punto.\n",
    "\n",
    "> **Pista**: Los valores de `a`, `b`, y `c` son números pequeños."
   ]
  },
  {
   "cell_type": "code",
   "execution_count": null,
   "metadata": {},
   "outputs": [],
   "source": [
    "# Implementar"
   ]
  }
 ],
 "metadata": {
  "kernelspec": {
   "display_name": "Python 3",
   "language": "python",
   "name": "python3"
  },
  "language_info": {
   "codemirror_mode": {
    "name": "ipython",
    "version": 3
   },
   "file_extension": ".py",
   "mimetype": "text/x-python",
   "name": "python",
   "nbconvert_exporter": "python",
   "pygments_lexer": "ipython3",
   "version": "3.12.5"
  }
 },
 "nbformat": 4,
 "nbformat_minor": 2
}
