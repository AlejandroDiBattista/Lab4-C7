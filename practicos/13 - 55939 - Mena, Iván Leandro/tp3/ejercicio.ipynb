{
 "cells": [
  {
   "cell_type": "markdown",
   "metadata": {},
   "source": [
    "#TP3"
   ]
  },
  {
   "cell_type": "markdown",
   "metadata": {},
   "source": [
    "## Ejercicio 1: Cargar Datos de ventas.\n",
    "\n",
    "El archivo datos.dat contiene el registro de las ventas realizadas.\n",
    "\n",
    "Tiene un formato de ancho fijo:\n",
    "- fecha:    10 lugares\n",
    "- producto: 30 lugares\n",
    "- precio:   10 lugares\n",
    "- cantidad:  5 lugares\n",
    "\n",
    "hacer una funcion que carge los en una lista de diccionarios. \n",
    "\n",
    "nota: con \n",
    "```python\n",
    "lineas = open(\"datos.dat\", \"r\").readlines() \n",
    "```\n",
    "puede obtener la lista de string de todos los datos "
   ]
  },
  {
   "cell_type": "code",
   "execution_count": 8,
   "metadata": {},
   "outputs": [
    {
     "name": "stdout",
     "output_type": "stream",
     "text": [
      "{'fecha': '2024-08-27', 'producto': 'Mirinda', 'precio': 1510, 'cantidad': 14}\n",
      "{'fecha': '2024-08-27', 'producto': 'Mirinda', 'precio': 1560, 'cantidad': 12}\n",
      "{'fecha': '2024-08-28', 'producto': 'Torasso', 'precio': 940, 'cantidad': 8}\n",
      "{'fecha': '2024-08-29', 'producto': 'Pepsi Cola', 'precio': 1210, 'cantidad': 10}\n",
      "{'fecha': '2024-08-30', 'producto': 'Mirinda', 'precio': 1520, 'cantidad': 1}\n",
      "{'fecha': '2024-09-01', 'producto': 'Mirinda', 'precio': 1550, 'cantidad': 15}\n",
      "{'fecha': '2024-09-01', 'producto': 'Sprite', 'precio': 810, 'cantidad': 4}\n",
      "{'fecha': '2024-09-02', 'producto': 'Coca Cola', 'precio': 1100, 'cantidad': 4}\n",
      "{'fecha': '2024-09-02', 'producto': 'Pepsi Cola', 'precio': 1220, 'cantidad': 13}\n",
      "{'fecha': '2024-09-02', 'producto': 'Torasso', 'precio': 910, 'cantidad': 5}\n",
      "{'fecha': '2024-09-02', 'producto': 'Torasso', 'precio': 920, 'cantidad': 3}\n",
      "{'fecha': '2024-09-03', 'producto': 'Coca Cola', 'precio': 1020, 'cantidad': 8}\n",
      "{'fecha': '2024-09-03', 'producto': 'Mirinda', 'precio': 1570, 'cantidad': 7}\n",
      "{'fecha': '2024-09-03', 'producto': 'Mirinda', 'precio': 1590, 'cantidad': 2}\n",
      "{'fecha': '2024-09-04', 'producto': 'Pepsi Cola', 'precio': 1220, 'cantidad': 13}\n",
      "{'fecha': '2024-09-05', 'producto': 'Mirinda', 'precio': 1500, 'cantidad': 3}\n",
      "{'fecha': '2024-09-05', 'producto': 'Pepsi Cola', 'precio': 1300, 'cantidad': 5}\n",
      "{'fecha': '2024-09-06', 'producto': 'Coca Cola', 'precio': 1080, 'cantidad': 1}\n",
      "{'fecha': '2024-09-06', 'producto': 'Sprite', 'precio': 860, 'cantidad': 12}\n",
      "{'fecha': '2024-09-06', 'producto': 'Torasso', 'precio': 930, 'cantidad': 3}\n",
      "{'fecha': '2024-09-07', 'producto': 'Coca Cola', 'precio': 1080, 'cantidad': 14}\n",
      "{'fecha': '2024-09-07', 'producto': 'Sprite', 'precio': 870, 'cantidad': 13}\n",
      "{'fecha': '2024-09-08', 'producto': 'Coca Cola', 'precio': 1040, 'cantidad': 10}\n",
      "{'fecha': '2024-09-08', 'producto': 'Mirinda', 'precio': 1580, 'cantidad': 2}\n",
      "{'fecha': '2024-09-08', 'producto': 'Pepsi Cola', 'precio': 1240, 'cantidad': 9}\n",
      "{'fecha': '2024-09-09', 'producto': 'Mirinda', 'precio': 1500, 'cantidad': 3}\n",
      "{'fecha': '2024-09-09', 'producto': 'Sprite', 'precio': 850, 'cantidad': 9}\n",
      "{'fecha': '2024-09-10', 'producto': 'Mirinda', 'precio': 1590, 'cantidad': 8}\n",
      "{'fecha': '2024-09-10', 'producto': 'Pepsi Cola', 'precio': 1250, 'cantidad': 12}\n",
      "{'fecha': '2024-09-11', 'producto': 'Sprite', 'precio': 810, 'cantidad': 6}\n",
      "{'fecha': '2024-09-11', 'producto': 'Sprite', 'precio': 820, 'cantidad': 14}\n",
      "{'fecha': '2024-09-12', 'producto': 'Coca Cola', 'precio': 1080, 'cantidad': 4}\n",
      "{'fecha': '2024-09-13', 'producto': 'Mirinda', 'precio': 1580, 'cantidad': 5}\n",
      "{'fecha': '2024-09-13', 'producto': 'Pepsi Cola', 'precio': 1250, 'cantidad': 13}\n",
      "{'fecha': '2024-09-14', 'producto': 'Coca Cola', 'precio': 1080, 'cantidad': 15}\n",
      "{'fecha': '2024-09-14', 'producto': 'Pepsi Cola', 'precio': 1270, 'cantidad': 14}\n",
      "{'fecha': '2024-09-15', 'producto': 'Coca Cola', 'precio': 1100, 'cantidad': 1}\n",
      "{'fecha': '2024-09-15', 'producto': 'Mirinda', 'precio': 1500, 'cantidad': 13}\n",
      "{'fecha': '2024-09-15', 'producto': 'Sprite', 'precio': 870, 'cantidad': 14}\n",
      "{'fecha': '2024-09-15', 'producto': 'Torasso', 'precio': 900, 'cantidad': 13}\n"
     ]
    }
   ],
   "source": [
    "def cargar_datos():\n",
    "    \n",
    "    lineas = open(\"datos.dat\", \"r\").readlines()\n",
    "    datos = []\n",
    "\n",
    "    for linea in lineas:\n",
    "\n",
    "        fecha = linea[0:10].strip()\n",
    "        producto = linea[10:40].strip()\n",
    "        precio = int(linea[40:50].strip())\n",
    "        cantidad = int(linea[50:55].strip())\n",
    "\n",
    "        registro = {\n",
    "            'fecha' : fecha,\n",
    "            'producto' : producto,\n",
    "            'precio' : precio,\n",
    "            'cantidad' : cantidad\n",
    "        }\n",
    "\n",
    "        datos.append(registro)\n",
    "\n",
    "    return datos\n",
    "\n",
    "datos = cargar_datos()\n",
    "\n",
    "for registro in datos:\n",
    "    print(registro)"
   ]
  },
  {
   "cell_type": "markdown",
   "metadata": {},
   "source": [
    "## Ejercicio 2: Calcular el total de ventas.\n",
    "\n",
    "Hacer una funcion que sume los importes vendidos (precio * cantidad) y las cantidades"
   ]
  },
  {
   "cell_type": "code",
   "execution_count": 15,
   "metadata": {},
   "outputs": [
    {
     "name": "stdout",
     "output_type": "stream",
     "text": [
      "Las ventas fueron de $21140.00 en 14 unidades\n"
     ]
    }
   ],
   "source": [
    "def calcular_totales(datos):\n",
    "    \n",
    "    importe_total = 0\n",
    "    cantidad_total = 0\n",
    "\n",
    "    for registro in datos:\n",
    "\n",
    "        importe = registro['precio'] * registro['cantidad']\n",
    "\n",
    "        importe_total += importe\n",
    "        cantidad_total += registro['cantidad']\n",
    "\n",
    "        return importe_total, cantidad_total\n",
    "    \n",
    "    \n",
    "importe, cantidad = calcular_totales(datos)\n",
    "\n",
    "print(f\"Las ventas fueron de ${importe:.2f} en {cantidad} unidades\")"
   ]
  },
  {
   "cell_type": "markdown",
   "metadata": {},
   "source": [
    "## Ejercicio 3: Listar las unidades vendidas.\n",
    "\n",
    "Listar cuantas unidades se vendieron en total para cada producto"
   ]
  },
  {
   "cell_type": "code",
   "execution_count": 9,
   "metadata": {},
   "outputs": [
    {
     "name": "stdout",
     "output_type": "stream",
     "text": [
      "Unidades vendidas por producto:\n",
      "Mirinda: 85 unidades\n",
      "Torasso: 32 unidades\n",
      "Pepsi Cola: 89 unidades\n",
      "Sprite: 72 unidades\n",
      "Coca Cola: 57 unidades\n"
     ]
    }
   ],
   "source": [
    "def unidades_vendidas(datos):\n",
    "    ventas_por_producto = {}\n",
    "    for registro in datos:\n",
    "        producto = registro['producto']\n",
    "        cantidad = registro['cantidad']\n",
    "        if producto in ventas_por_producto:\n",
    "            ventas_por_producto[producto] += cantidad\n",
    "        else:\n",
    "            ventas_por_producto[producto] = cantidad\n",
    "    return ventas_por_producto\n",
    "\n",
    "def listar_ventas(datos):\n",
    "\n",
    "    print(\"Unidades vendidas por producto:\")\n",
    "\n",
    "    for producto, cantidad in datos.items():\n",
    "        print(f\"{producto}: {cantidad} unidades\")\n",
    "\n",
    "datos = cargar_datos()\n",
    "ventas = unidades_vendidas(datos)\n",
    "\n",
    "# Listar las ventas\n",
    "listar_ventas(ventas)\n"
   ]
  },
  {
   "cell_type": "markdown",
   "metadata": {},
   "source": [
    "##  Ejercicio 4: Listar el precio promedio por producto.\n",
    "\n",
    "Hacer un listado del precio promedio por productos."
   ]
  },
  {
   "cell_type": "code",
   "execution_count": 11,
   "metadata": {},
   "outputs": [
    {
     "name": "stdout",
     "output_type": "stream",
     "text": [
      "El precio promedio de Mirinda es: 1542.12\n",
      "El precio promedio de Torasso es: 916.25\n",
      "El precio promedio de Pepsi Cola es: 1241.69\n",
      "El precio promedio de Sprite es: 847.78\n",
      "El precio promedio de Coca Cola es: 1066.32\n"
     ]
    }
   ],
   "source": [
    "def precio_promedio(datos):\n",
    "    suma_precio = {}\n",
    "    suma_cantidad = {}\n",
    "\n",
    "    for registro in datos:\n",
    "        producto = registro[\"producto\"]\n",
    "        precio = registro[\"precio\"]\n",
    "        cantidad = registro[\"cantidad\"]\n",
    "\n",
    "        if producto not in suma_precio:\n",
    "            suma_precio[producto] = 0\n",
    "            suma_cantidad[producto] = 0\n",
    "        \n",
    "        suma_precio[producto] += precio * cantidad\n",
    "        suma_cantidad[producto] += cantidad\n",
    "    \n",
    "    precio_promedio = {}\n",
    "\n",
    "    for producto in suma_precio:\n",
    "\n",
    "        precio_promedio[producto] = suma_precio[producto] / suma_cantidad[producto]\n",
    "\n",
    "    return precio_promedio\n",
    "\n",
    "def listar_precios_promedios(datos):\n",
    "    for producto, precio in datos.items():\n",
    "         print(f\"El precio promedio de {producto} es: {precio:.2f}\")\n",
    "\n",
    "datos = cargar_datos()\n",
    "precios = precio_promedio(datos)\n",
    "listar_precios_promedios(precios)"
   ]
  },
  {
   "cell_type": "markdown",
   "metadata": {},
   "source": [
    "### Ejercicio 5: Ranking de productos\n",
    "\n",
    "Realizar un listado de los 3 productos mas vendidos ordenados la cantidad de unidades vendidas (ordenadas de mayor a menor)\n"
   ]
  },
  {
   "cell_type": "code",
   "execution_count": 43,
   "metadata": {},
   "outputs": [
    {
     "name": "stdout",
     "output_type": "stream",
     "text": [
      "Ranking de productos mas vendidos de la tienda:\n",
      "Pepsi Cola: 89 unidades\n",
      "Mirinda: 85 unidades\n",
      "Sprite: 72 unidades\n"
     ]
    }
   ],
   "source": [
    "def ranking_productos(datos, top=3):\n",
    "    \n",
    "    ventas_por_producto = unidades_vendidas(datos)\n",
    "\n",
    "    ranking = sorted(ventas_por_producto.items(), key=lambda x: x[1], reverse=True)\n",
    "    return ranking[:top]\n",
    "\n",
    "\n",
    "def listar_ranking(ranking):\n",
    "    print(\"Ranking de productos mas vendidos de la tienda:\")\n",
    "    for producto, cantidad in ranking:\n",
    "        print(f\"{producto}: {cantidad} unidades\")\n",
    "\n",
    "ranking = ranking_productos(datos)\n",
    "listar_ranking(ranking)"
   ]
  },
  {
   "cell_type": "markdown",
   "metadata": {},
   "source": [
    "### Ejercicio 6: Listar las ventas por mes\n",
    "\n",
    "Realizar un listado del total de unidades vendidas por productos separada por mes."
   ]
  },
  {
   "cell_type": "code",
<<<<<<< Updated upstream
   "execution_count": 21,
   "metadata": {},
   "outputs": [
    {
     "name": "stdout",
     "output_type": "stream",
     "text": [
      "Ventas mensuales por producto:\n",
      "\n",
      "Mes: 2024-08\n",
      "Mirinda: 27 unidades\n",
      "Pepsi Cola: 10 unidades\n",
      "Torasso: 8 unidades\n",
      "\n",
      "Mes: 2024-09\n",
      "Coca Cola: 57 unidades\n",
      "Mirinda: 58 unidades\n",
      "Pepsi Cola: 79 unidades\n",
      "Sprite: 72 unidades\n",
      "Torasso: 24 unidades\n"
=======
   "execution_count": 20,
   "metadata": {},
   "outputs": [
    {
     "ename": "KeyError",
     "evalue": "slice(None, 10, None)",
     "output_type": "error",
     "traceback": [
      "\u001b[1;31m---------------------------------------------------------------------------\u001b[0m",
      "\u001b[1;31mKeyError\u001b[0m                                  Traceback (most recent call last)",
      "Cell \u001b[1;32mIn[20], line 31\u001b[0m\n\u001b[0;32m     27\u001b[0m         \u001b[38;5;28;01mfor\u001b[39;00m mes, cantidad \u001b[38;5;129;01min\u001b[39;00m \u001b[38;5;28msorted\u001b[39m(meses\u001b[38;5;241m.\u001b[39mitems()):\n\u001b[0;32m     29\u001b[0m              \u001b[38;5;28mprint\u001b[39m(\u001b[38;5;124mf\u001b[39m\u001b[38;5;124m\"\u001b[39m\u001b[38;5;124m  \u001b[39m\u001b[38;5;132;01m{\u001b[39;00mmes\u001b[38;5;132;01m}\u001b[39;00m\u001b[38;5;124m: \u001b[39m\u001b[38;5;132;01m{\u001b[39;00mcantidad\u001b[38;5;132;01m}\u001b[39;00m\u001b[38;5;124m unidades\u001b[39m\u001b[38;5;124m\"\u001b[39m)\n\u001b[1;32m---> 31\u001b[0m ventas \u001b[38;5;241m=\u001b[39m \u001b[43mventas_por_mes\u001b[49m\u001b[43m(\u001b[49m\u001b[43mdatos\u001b[49m\u001b[43m)\u001b[49m\n\u001b[0;32m     32\u001b[0m listar_ventas_mensuales(ventas)\n",
      "Cell \u001b[1;32mIn[20], line 5\u001b[0m, in \u001b[0;36mventas_por_mes\u001b[1;34m(datos)\u001b[0m\n\u001b[0;32m      2\u001b[0m ventas_mensuales \u001b[38;5;241m=\u001b[39m {}\n\u001b[0;32m      4\u001b[0m \u001b[38;5;28;01mfor\u001b[39;00m linea \u001b[38;5;129;01min\u001b[39;00m datos:\n\u001b[1;32m----> 5\u001b[0m     fecha \u001b[38;5;241m=\u001b[39m \u001b[43mlinea\u001b[49m\u001b[43m[\u001b[49m\u001b[43m:\u001b[49m\u001b[38;5;241;43m10\u001b[39;49m\u001b[43m]\u001b[49m\u001b[38;5;241m.\u001b[39mstrip()\n\u001b[0;32m      6\u001b[0m     producto \u001b[38;5;241m=\u001b[39m linea[\u001b[38;5;241m10\u001b[39m:\u001b[38;5;241m40\u001b[39m]\u001b[38;5;241m.\u001b[39mstrip()\n\u001b[0;32m      7\u001b[0m     cantidad \u001b[38;5;241m=\u001b[39m \u001b[38;5;28mint\u001b[39m(linea[\u001b[38;5;241m50\u001b[39m:\u001b[38;5;241m55\u001b[39m]\u001b[38;5;241m.\u001b[39mstrip())\n",
      "\u001b[1;31mKeyError\u001b[0m: slice(None, 10, None)"
>>>>>>> Stashed changes
     ]
    }
   ],
   "source": [
    "def ventas_por_mes(datos):\n",
    "    ventas_mensuales = {}\n",
    "\n",
<<<<<<< Updated upstream
    "    for registro in datos:\n",
    "\n",
    "        fecha = registro['fecha']\n",
    "        mes = fecha[:7]\n",
    "        producto = registro['producto']\n",
    "        cantidad = registro['cantidad']\n",
    "        \n",
    "        if mes not in ventas_mensuales:\n",
    "            ventas_mensuales[mes] = {}\n",
    "        if producto not in ventas_mensuales[mes]:\n",
    "            ventas_mensuales[mes][producto] = 0\n",
    "\n",
    "        ventas_mensuales[mes][producto] += cantidad\n",
    "    \n",
    "    return ventas_mensuales\n",
    "\n",
    "def listar_ventas_mensuales(ventas):\n",
    "\n",
    "    print(\"Ventas mensuales por producto:\")\n",
    "    \n",
    "    for mes in sorted(ventas.keys()):\n",
    "\n",
    "        print(f\"\\nMes: {mes}\")\n",
    "        \n",
    "        for producto in sorted(ventas[mes].keys()):\n",
    "            \n",
    "            cantidad = ventas[mes][producto]\n",
    "            print(f\"{producto}: {cantidad} unidades\")\n",
=======
    "    for linea in datos:\n",
    "        fecha = linea[:10].strip()\n",
    "        producto = linea[10:40].strip()\n",
    "        cantidad = int(linea[50:55].strip())\n",
    "        \n",
    "        mes = fecha[:7]\n",
    "\n",
    "        if producto not in ventas_mensuales:\n",
    "            ventas_mensuales[producto] = {}\n",
    "        if mes not in ventas_mensuales[producto]:\n",
    "            ventas_mensuales[producto][mes] = 0\n",
    "\n",
    "        ventas_mensuales[producto][mes] += cantidad\n",
    "\n",
    "    return ventas_mensuales\n",
    "\n",
    "def listar_ventas_mensuales(ventas):\n",
    "    print(\"Ventas mensuales por producto:\")\n",
    "\n",
    "    for producto, meses in ventas.items():\n",
    "\n",
    "        print(f\"\\nProducto: {producto}\")\n",
    "\n",
    "        for mes, cantidad in sorted(meses.items()):\n",
    "             \n",
    "             print(f\"  {mes}: {cantidad} unidades\")\n",
>>>>>>> Stashed changes
    "\n",
    "ventas = ventas_por_mes(datos)\n",
    "listar_ventas_mensuales(ventas)"
   ]
  },
  {
   "cell_type": "markdown",
   "metadata": {},
   "source": [
    "### Ejercicio 7: Informe general\n",
    "\n",
    "Mostrar un listado de productos ordenados alfabeticamente que contengan el precio promedio, la cantidad de unidades vendidas y el importe total vendido para cada producto"
   ]
  },
  {
   "cell_type": "code",
   "execution_count": 27,
   "metadata": {},
   "outputs": [
    {
     "name": "stdout",
     "output_type": "stream",
     "text": [
      "Informe de ventas por producto:\n",
      "Producto            Precio Promedio     Unidades Vendidas   Importe Total       \n",
      "Coca Cola           1066.32             57                  60780.00            \n",
      "Mirinda             1542.12             85                  131080.00           \n",
      "Pepsi Cola          1241.69             89                  110510.00           \n",
      "Sprite              847.78              72                  61040.00            \n",
      "Torasso             916.25              32                  29320.00            \n"
     ]
    }
   ],
   "source": [
    "def resumen_ventas(datos):\n",
    "    \n",
    "    resumen_por_producto = {}\n",
    "    \n",
    "    for registro in datos:\n",
    "        producto = registro['producto']\n",
    "        precio = registro['precio']\n",
    "        cantidad = registro['cantidad']\n",
    "        importe = precio * cantidad\n",
    "        \n",
    "        if producto in resumen_por_producto:\n",
    "            resumen_por_producto[producto]['precio_total'] += importe\n",
    "            resumen_por_producto[producto]['cantidad_total'] += cantidad\n",
    "            resumen_por_producto[producto]['num_ventas'] += 1\n",
    "        else:\n",
    "            resumen_por_producto[producto] = {\n",
    "                'precio_total': importe,\n",
    "                'cantidad_total': cantidad,\n",
    "                'num_ventas': 1\n",
    "            }\n",
    "    \n",
    "    for producto, datos in resumen_por_producto.items():\n",
    "        datos['precio_promedio'] = datos['precio_total'] / datos['cantidad_total']\n",
    "    \n",
    "    return resumen_por_producto\n",
    "\n",
    "\n",
    "def informe_ventas(resumen):\n",
    "    productos_ordenados = sorted(resumen.keys())\n",
    "    \n",
    "    print(\"Informe de ventas por producto:\")\n",
    "    print(f\"{'Producto':<20}{'Precio Promedio':<20}{'Unidades Vendidas':<20}{'Importe Total':<20}\")\n",
    "    for producto in productos_ordenados:\n",
    "        datos = resumen[producto]\n",
    "        precio_promedio = datos['precio_promedio']\n",
    "        cantidad_total = datos['cantidad_total']\n",
    "        precio_total = datos['precio_total']\n",
    "        \n",
    "        print(f\"{producto:<20}{precio_promedio:<20.2f}{cantidad_total:<20}{precio_total:<20.2f}\")\n",
    "\n",
    "resumen = resumen_ventas(datos)\n",
    "\n",
    "# Mostrar el informe\n",
    "informe_ventas(resumen)"
   ]
  }
 ],
 "metadata": {
  "kernelspec": {
   "display_name": "Python 3",
   "language": "python",
   "name": "python3"
  },
  "language_info": {
   "codemirror_mode": {
    "name": "ipython",
    "version": 3
   },
   "file_extension": ".py",
   "mimetype": "text/x-python",
   "name": "python",
   "nbconvert_exporter": "python",
   "pygments_lexer": "ipython3",
   "version": "3.12.5"
  }
 },
 "nbformat": 4,
 "nbformat_minor": 2
}
