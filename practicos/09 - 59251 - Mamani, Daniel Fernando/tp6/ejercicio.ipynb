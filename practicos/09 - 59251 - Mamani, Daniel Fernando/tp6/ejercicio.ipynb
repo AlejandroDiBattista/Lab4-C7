{
 "cells": [
  {
   "cell_type": "markdown",
   "metadata": {},
   "source": [
    "# TP6\n",
    "\n",
    "### `Resolver usando Pandas`\n",
    "\n",
    "Resolver los ejercicios del TP3 utilizando la librería Pandas."
   ]
  },
  {
   "cell_type": "markdown",
   "metadata": {},
   "source": [
    "### Ejercicio 1: Cargar Datos de ventas.\n",
    "\n",
    "El archivo datos.dat contiene el registro de las ventas realizadas.\n",
    "\n",
    "Tiene un formato de ancho fijo:\n",
    "- `fecha`:    10 lugares\n",
    "- `producto`: 30 lugares\n",
    "- `precio`:   10 lugares\n",
    "- `cantidad`:  5 lugares\n",
    "\n",
    "Hacer una funcion que cargue los datos en un DataFrame de Pandas."
   ]
  },
  {
   "cell_type": "code",
   "execution_count": 9,
   "metadata": {},
   "outputs": [
    {
     "name": "stdout",
     "output_type": "stream",
     "text": [
      "         fecha    producto  precio  cantidad\n",
      "0   2024-08-27     Mirinda    1510        14\n",
      "1   2024-08-27     Mirinda    1560        12\n",
      "2   2024-08-28     Torasso     940         8\n",
      "3   2024-08-29  Pepsi Cola    1210        10\n",
      "4   2024-08-30     Mirinda    1520         1\n",
      "5   2024-09-01     Mirinda    1550        15\n",
      "6   2024-09-01      Sprite     810         4\n",
      "7   2024-09-02   Coca Cola    1100         4\n",
      "8   2024-09-02  Pepsi Cola    1220        13\n",
      "9   2024-09-02     Torasso     910         5\n",
      "10  2024-09-02     Torasso     920         3\n",
      "11  2024-09-03   Coca Cola    1020         8\n",
      "12  2024-09-03     Mirinda    1570         7\n",
      "13  2024-09-03     Mirinda    1590         2\n",
      "14  2024-09-04  Pepsi Cola    1220        13\n",
      "15  2024-09-05     Mirinda    1500         3\n",
      "16  2024-09-05  Pepsi Cola    1300         5\n",
      "17  2024-09-06   Coca Cola    1080         1\n",
      "18  2024-09-06      Sprite     860        12\n",
      "19  2024-09-06     Torasso     930         3\n",
      "20  2024-09-07   Coca Cola    1080        14\n",
      "21  2024-09-07      Sprite     870        13\n",
      "22  2024-09-08   Coca Cola    1040        10\n",
      "23  2024-09-08     Mirinda    1580         2\n",
      "24  2024-09-08  Pepsi Cola    1240         9\n",
      "25  2024-09-09     Mirinda    1500         3\n",
      "26  2024-09-09      Sprite     850         9\n",
      "27  2024-09-10     Mirinda    1590         8\n",
      "28  2024-09-10  Pepsi Cola    1250        12\n",
      "29  2024-09-11      Sprite     810         6\n",
      "30  2024-09-11      Sprite     820        14\n",
      "31  2024-09-12   Coca Cola    1080         4\n",
      "32  2024-09-13     Mirinda    1580         5\n",
      "33  2024-09-13  Pepsi Cola    1250        13\n",
      "34  2024-09-14   Coca Cola    1080        15\n",
      "35  2024-09-14  Pepsi Cola    1270        14\n",
      "36  2024-09-15   Coca Cola    1100         1\n",
      "37  2024-09-15     Mirinda    1500        13\n",
      "38  2024-09-15      Sprite     870        14\n",
      "39  2024-09-15     Torasso     900        13\n"
     ]
    }
   ],
   "source": [
    "import pandas as pd\n",
    "\n",
    "def cargar_datos():\n",
    "    # Definir las longitudes de las columnas de ancho fijo\n",
    "    colspecs = [(0, 10), (10, 40), (40, 50), (50, 55)]\n",
    "    # Definir los nombres de las columnas\n",
    "    column_names = [\"fecha\", \"producto\", \"precio\", \"cantidad\"]\n",
    "    \n",
    "    # Leer el archivo usando read_fwf (fixed width format)\n",
    "    df = pd.read_fwf(\"datos.dat\", colspecs=colspecs, header=None, names=column_names)\n",
    "    \n",
    "    return df\n",
    "\n",
    "# Cargar los datos en un DataFrame\n",
    "datos = cargar_datos()\n",
    "\n",
    "# Imprimir el DataFrame para verificar los datos cargados\n",
    "print(datos)\n"
   ]
  },
  {
   "cell_type": "markdown",
   "metadata": {},
   "source": [
    "### Ejercicio 2: Calcular el total de ventas.\n",
    "Hacer una función que sume los importes vendidos (precio * cantidad) y las cantidades.\n"
   ]
  },
  {
   "cell_type": "code",
   "execution_count": 10,
   "metadata": {},
   "outputs": [
    {
     "name": "stdout",
     "output_type": "stream",
     "text": [
      "Las ventas fueron de $392730.00 en 335 unidades\n"
     ]
    }
   ],
   "source": [
    "def calcular_totales(df):\n",
    "    total_importe = (df['precio'] * df['cantidad']).sum()\n",
    "    total_cantidad = df['cantidad'].sum()\n",
    "    \n",
    "    return total_importe, total_cantidad\n",
    "\n",
    "\n",
    "datos = cargar_datos()\n",
    "\n",
    "\n",
    "importe, cantidad = calcular_totales(datos)\n",
    "\n",
    "\n",
    "print(f\"Las ventas fueron de ${importe:.2f} en {cantidad} unidades\")\n"
   ]
  },
  {
   "cell_type": "markdown",
   "metadata": {},
   "source": [
    "### Ejercicio 3: Listar las unidades vendidas.\n",
    "Listar cuántas unidades se vendieron en total para cada producto\n"
   ]
  },
  {
   "cell_type": "code",
   "execution_count": 11,
   "metadata": {},
   "outputs": [
    {
     "name": "stdout",
     "output_type": "stream",
     "text": [
      "Producto: Coca Cola, Unidades Vendidas: 57\n",
      "Producto: Mirinda, Unidades Vendidas: 85\n",
      "Producto: Pepsi Cola, Unidades Vendidas: 89\n",
      "Producto: Sprite, Unidades Vendidas: 72\n",
      "Producto: Torasso, Unidades Vendidas: 32\n"
     ]
    }
   ],
   "source": [
    "def unidades_vendidas(df):\n",
    "    \n",
    "    ventas_por_producto = df.groupby('producto')['cantidad'].sum()\n",
    "    \n",
    "    return ventas_por_producto\n",
    "\n",
    "def listar_ventas(ventas):\n",
    "    for producto, cantidad in ventas.items():\n",
    "        print(f\"Producto: {producto}, Unidades Vendidas: {cantidad}\")\n",
    "\n",
    "\n",
    "datos = cargar_datos()\n",
    "\n",
    "\n",
    "ventas = unidades_vendidas(datos)\n",
    "\n",
    "\n",
    "listar_ventas(ventas)\n"
   ]
  },
  {
   "cell_type": "markdown",
   "metadata": {},
   "source": [
    "###  Ejercicio 4: Listar el precio promedio por producto.\n",
    "Hacer un listado del precio promedio por producto.\n"
   ]
  },
  {
   "cell_type": "code",
   "execution_count": 12,
   "metadata": {},
   "outputs": [
    {
     "name": "stdout",
     "output_type": "stream",
     "text": [
      "Producto: Coca Cola, Precio Promedio: $1072.50\n",
      "Producto: Mirinda, Precio Promedio: $1545.83\n",
      "Producto: Pepsi Cola, Precio Promedio: $1245.00\n",
      "Producto: Sprite, Precio Promedio: $841.43\n",
      "Producto: Torasso, Precio Promedio: $920.00\n"
     ]
    }
   ],
   "source": [
    "def precio_promedio(df):\n",
    "   \n",
    "    precio_promedio_por_producto = df.groupby('producto')['precio'].mean()\n",
    "    \n",
    "    return precio_promedio_por_producto\n",
    "\n",
    "def listar_precios(precios):\n",
    "    for producto, promedio in precios.items():\n",
    "        print(f\"Producto: {producto}, Precio Promedio: ${promedio:.2f}\")\n",
    "\n",
    "\n",
    "datos = cargar_datos()\n",
    "\n",
    "\n",
    "precios = precio_promedio(datos)\n",
    "\n",
    "\n",
    "listar_precios(precios)\n"
   ]
  },
  {
   "cell_type": "markdown",
   "metadata": {},
   "source": [
    "### Ejercicio 5: Ranking de productos\n",
    "Realizar un listado de los 3 productos más vendidos ordenados por la cantidad de unidades vendidas (ordenadas de mayor a menor)\n"
   ]
  },
  {
   "cell_type": "code",
   "execution_count": 13,
   "metadata": {},
   "outputs": [
    {
     "name": "stdout",
     "output_type": "stream",
     "text": [
      "#1 Producto: Pepsi Cola, Unidades Vendidas: 89\n",
      "#2 Producto: Mirinda, Unidades Vendidas: 85\n",
      "#3 Producto: Sprite, Unidades Vendidas: 72\n"
     ]
    }
   ],
   "source": [
    "def ranking_productos(df, top=3):\n",
    "    \n",
    "    ventas_por_producto = df.groupby('producto')['cantidad'].sum()\n",
    "    \n",
    "\n",
    "    ranking = ventas_por_producto.sort_values(ascending=False)\n",
    "    \n",
    "\n",
    "    return ranking.head(top)\n",
    "\n",
    "def listar_ranking(ranking):\n",
    "    for i, (producto, cantidad) in enumerate(ranking.items(), start=1):\n",
    "        print(f\"#{i} Producto: {producto}, Unidades Vendidas: {cantidad}\")\n",
    "\n",
    "\n",
    "datos = cargar_datos()\n",
    "\n",
    "\n",
    "ranking = ranking_productos(datos)\n",
    "\n",
    "\n",
    "listar_ranking(ranking)\n"
   ]
  },
  {
   "cell_type": "markdown",
   "metadata": {},
   "source": [
    "### Ejercicio 6: Listar las ventas por mes\n",
    "Realizar un listado del total de unidades vendidas por producto separado por mes.\n"
   ]
  },
  {
   "cell_type": "code",
   "execution_count": 14,
   "metadata": {},
   "outputs": [
    {
     "name": "stdout",
     "output_type": "stream",
     "text": [
      "\n",
      "Ventas en 2024-08:\n",
      "  Producto: Mirinda, Unidades Vendidas: 27\n",
      "  Producto: Pepsi Cola, Unidades Vendidas: 10\n",
      "  Producto: Torasso, Unidades Vendidas: 8\n",
      "\n",
      "Ventas en 2024-09:\n",
      "  Producto: Coca Cola, Unidades Vendidas: 57\n",
      "  Producto: Mirinda, Unidades Vendidas: 58\n",
      "  Producto: Pepsi Cola, Unidades Vendidas: 79\n",
      "  Producto: Sprite, Unidades Vendidas: 72\n",
      "  Producto: Torasso, Unidades Vendidas: 24\n"
     ]
    }
   ],
   "source": [
    "def ventas_por_mes(df):\n",
    "    \n",
    "    df['fecha'] = pd.to_datetime(df['fecha'])\n",
    "    \n",
    "    \n",
    "    df['mes'] = df['fecha'].dt.to_period('M')\n",
    "    \n",
    "    \n",
    "    ventas_mensuales = df.groupby(['mes', 'producto'])['cantidad'].sum().unstack(fill_value=0)\n",
    "    \n",
    "    return ventas_mensuales\n",
    "\n",
    "def listar_ventas_mensuales(ventas):\n",
    "    for mes, productos in ventas.iterrows():\n",
    "        print(f\"\\nVentas en {mes}:\")\n",
    "        for producto, cantidad in productos.items():\n",
    "            if cantidad > 0:  # Solo listar productos con ventas\n",
    "                print(f\"  Producto: {producto}, Unidades Vendidas: {cantidad}\")\n",
    "\n",
    "\n",
    "datos = cargar_datos()\n",
    "\n",
    "\n",
    "ventas = ventas_por_mes(datos)\n",
    "\n",
    "\n",
    "listar_ventas_mensuales(ventas)\n"
   ]
  },
  {
   "cell_type": "markdown",
   "metadata": {},
   "source": [
    "### Ejercicio 7: Informe general\n",
    "\n",
    "Mostrar un listado de productos ordenados alfabeticamente que contengan el precio promedio, la cantidad de unidades vendidas y el importe total vendido para cada producto"
   ]
  },
  {
   "cell_type": "code",
   "execution_count": 15,
   "metadata": {},
   "outputs": [
    {
     "name": "stdout",
     "output_type": "stream",
     "text": [
      "Resumen de Ventas por Producto (ordenado alfabéticamente):\n",
      "\n",
      "Producto: Coca Cola\n",
      "  Precio Promedio: $1072.50\n",
      "  Unidades Vendidas: 57.0\n",
      "  Importe Total Vendido: $60780.00\n",
      "\n",
      "Producto: Mirinda\n",
      "  Precio Promedio: $1545.83\n",
      "  Unidades Vendidas: 85.0\n",
      "  Importe Total Vendido: $131080.00\n",
      "\n",
      "Producto: Pepsi Cola\n",
      "  Precio Promedio: $1245.00\n",
      "  Unidades Vendidas: 89.0\n",
      "  Importe Total Vendido: $110510.00\n",
      "\n",
      "Producto: Sprite\n",
      "  Precio Promedio: $841.43\n",
      "  Unidades Vendidas: 72.0\n",
      "  Importe Total Vendido: $61040.00\n",
      "\n",
      "Producto: Torasso\n",
      "  Precio Promedio: $920.00\n",
      "  Unidades Vendidas: 32.0\n",
      "  Importe Total Vendido: $29320.00\n",
      "\n"
     ]
    },
    {
     "name": "stderr",
     "output_type": "stream",
     "text": [
      "C:\\Users\\FERNANDO\\AppData\\Local\\Temp\\ipykernel_10380\\2680309168.py:12: DeprecationWarning: DataFrameGroupBy.apply operated on the grouping columns. This behavior is deprecated, and in a future version of pandas the grouping columns will be excluded from the operation. Either pass `include_groups=False` to exclude the groupings or explicitly select the grouping columns after groupby to silence this warning.\n",
      "  resumen_por_producto['total_vendido'] = df.groupby('producto').apply(lambda x: (x['precio'] * x['cantidad']).sum())\n"
     ]
    }
   ],
   "source": [
    "def resumen_ventas(df):\n",
    "    # Calcular las unidades vendidas y el precio promedio\n",
    "    ventas = unidades_vendidas(df)\n",
    "    precios_promedio = precio_promedio(df)\n",
    "\n",
    "    # Crear un DataFrame para almacenar el resumen de ventas\n",
    "    resumen_por_producto = pd.DataFrame(index=df['producto'].unique())\n",
    "    resumen_por_producto['unidades_vendidas'] = resumen_por_producto.index.map(ventas)\n",
    "    resumen_por_producto['precio_promedio'] = resumen_por_producto.index.map(precios_promedio)\n",
    "    \n",
    "    # Calcular el total vendido\n",
    "    resumen_por_producto['total_vendido'] = df.groupby('producto').apply(lambda x: (x['precio'] * x['cantidad']).sum())\n",
    "    \n",
    "    return resumen_por_producto\n",
    "\n",
    "def informe_ventas(resumen):\n",
    "    # Ordenar los productos alfabéticamente\n",
    "    productos_ordenados = resumen.sort_index()\n",
    "\n",
    "    print(\"Resumen de Ventas por Producto (ordenado alfabéticamente):\\n\")\n",
    "    for producto, datos in productos_ordenados.iterrows():\n",
    "        print(f\"Producto: {producto}\")\n",
    "        print(f\"  Precio Promedio: ${datos['precio_promedio']:.2f}\")\n",
    "        print(f\"  Unidades Vendidas: {datos['unidades_vendidas']}\")\n",
    "        print(f\"  Importe Total Vendido: ${datos['total_vendido']:.2f}\\n\")\n",
    "\n",
    "# Cargar los datos en un DataFrame (usando el primer bloque que implementamos antes)\n",
    "datos = cargar_datos()\n",
    "\n",
    "# Obtener el resumen de ventas\n",
    "resumen = resumen_ventas(datos)\n",
    "\n",
    "# Generar el informe de ventas\n",
    "informe_ventas(resumen)\n"
   ]
  },
  {
   "cell_type": "markdown",
   "metadata": {},
   "source": [
    "## `Resolver usando NumPy`\n",
    "## Resolver el ejercicio 2 del tp1 usando NumPy"
   ]
  },
  {
   "cell_type": "markdown",
   "metadata": {},
   "source": [
    "### Ejercicio 8\n",
    "\n",
    "Escribe una función en Python que encuentre los valores de `a`, `b`, y `c` para que la función cuadrática `f(x) = a x^2 + b x + c` pase exactamente por los siguientes puntos:\n",
    "\n",
    "| x  | y  |\n",
    "|---:|---:|\n",
    "|  0 |  0 |\n",
    "|  1 |  8 |\n",
    "|  2 | 12 |\n",
    "|  3 | 12 |\n",
    "|  5 |  0 |\n",
    "\n",
    "### Requisitos:\n",
    "- La función debe explorar posibles valores de `a`, `b`, y `c` utilizando un método de prueba y error.\n",
    "- Debe devolver los valores que hagan que la diferencia entre la función `f(x)` y los valores medidos `y` sea exactamente cero para cada punto.\n",
    "\n",
    "> **Pista**: Los valores de `a`, `b`, y `c` son números pequeños.\n",
    "\n",
    "La idea es implementar el mismo algoritmo que se uso en el TP1 pero usando NumPy en lugar de Python puro."
   ]
  },
  {
   "cell_type": "code",
   "execution_count": 16,
   "metadata": {},
   "outputs": [],
   "source": [
    "import numpy as np\n",
    "def f(x, coeficientes):\n",
    "    a,b,c = coeficientes\n",
    "    return a*x**2 + b*x + c\n",
    "\n",
    "def error(y, y_pred):\n",
    "    return y - y_pred\n",
    "\n",
    "X = np.array([0,1,2,3,5])\n",
    "Y = np.array([0,8,12,12,0])\n",
    "\n",
    "def buscar_coeficientes():\n",
    "    pass # Implementar\n",
    "\n",
    "coeficientes = buscar_coeficientes()\n",
    "coeficientes"
   ]
  },
  {
   "cell_type": "markdown",
   "metadata": {},
   "source": [
    "### Ejercicio 9: Resolver el ejercicio 3 del TP1 usando NumPy\n",
    "Buscar los coeficientes de la función que minimice la suma de los cuadrados de las diferencias entre los valores medidos y los valores de la función.\n",
    "\n",
    "1. Crear un array con los coeficientes elegidos al azar (usar `randint(-10,10,3)`).\n",
    "2. Calcular el valor de la función y el error correspondiente.\n",
    "3. Mientras que el error sea mayor a 1:\n",
    "    1. Definir nuevos coeficientes agregándoles un pequeño valor al azar a los coeficientes actuales (aprendizaje = 0.001).\n",
    "    2. Si el error para los nuevos coeficientes es menor que el anterior, reemplazar los coeficientes actuales por los nuevos.\n"
   ]
  },
  {
   "cell_type": "code",
   "execution_count": 17,
   "metadata": {},
   "outputs": [],
   "source": [
    "import numpy as np\n",
    "from numpy.random import randint\n",
    "\n",
    "def f(x, coeficientes):\n",
    "    a,b,c = coeficientes\n",
    "    return a*x**2 + b*x + c\n",
    "\n",
    "def error(y, y_pred):\n",
    "    return np.sum((y - y_pred)**2)\n",
    "\n",
    "X = np.array([0, 1, 2, 3, 5])\n",
    "Y = np.array([0, 8,12,11, 1]) # Observar que no son los mismos valores que en el ejemplo anterior\n",
    "\n",
    "def buscar_coeficientes():\n",
    "    pass # Implementar\n",
    "\n",
    "\n",
    "coeficientes = buscar_coeficientes()\n",
    "coeficientes"
   ]
  }
 ],
 "metadata": {
  "kernelspec": {
   "display_name": "Python 3",
   "language": "python",
   "name": "python3"
  },
  "language_info": {
   "codemirror_mode": {
    "name": "ipython",
    "version": 3
   },
   "file_extension": ".py",
   "mimetype": "text/x-python",
   "name": "python",
   "nbconvert_exporter": "python",
   "pygments_lexer": "ipython3",
   "version": "3.12.5"
  }
 },
 "nbformat": 4,
 "nbformat_minor": 2
}
