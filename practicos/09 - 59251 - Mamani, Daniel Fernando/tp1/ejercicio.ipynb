{
 "cells": [
  {
   "cell_type": "markdown",
   "metadata": {},
   "source": [
    "# Trabajo práctico 1\n",
    "\n"
   ]
  },
  {
   "cell_type": "markdown",
   "metadata": {},
   "source": [
    "## Ejercicio 1 \n",
    "\n",
    "Escribe una función en Python que procese una lista de cadenas de texto y realice las siguientes acciones:\n",
    "\n",
    "1. Tomar una lista de frases y convertir cada frase en una lista de palabras.\n",
    "1. Luego, debe crear una nueva lista que contenga la cantidad de palabras en cada frase.\n",
    "1. Tambien debe crear un lista que contenga la cantidad de caracteres en cada frase.\n",
    "1. Finalmente, debe imprimir cada frase original junto con la cantidad de palabras que contiene.\n",
    "Ejemplo de uso:\n",
    "```python\n",
    "    frases = [\n",
    "        \"Python es un lenguaje de programación\",\n",
    "        \"Me gusta resolver problemas con código\",\n",
    "        \"Las listas y los bucles son muy útiles\"\n",
    "    ]\n",
    "\n",
    "    procesar_frases(frases)\n",
    "```\n",
    "\n",
    "ejemplo de salida:\n",
    "```bash\n",
    "    La frase: \"Python es un...\"\n",
    "    tiene 6 palabras y 38 caracteres\n",
    "```\n"
   ]
  },
  {
   "cell_type": "code",
   "execution_count": 4,
   "metadata": {},
   "outputs": [
    {
     "name": "stdout",
     "output_type": "stream",
     "text": [
      "Frase: Hola como estas - Cantidad de Caracteres: 15 - Cantidad de Letras: 13\n"
     ]
    }
   ],
   "source": [
    "# Implementar\n",
    "frases = []\n",
    "numero_de_letras = []\n",
    "def introducir_frase():\n",
    "    frase = input(\"introduce la frase: \")\n",
    "    frases.append(frase)\n",
    "    \n",
    "    cantidad_de_letras = len([letra for letra in frase if letra.isalpha()])\n",
    "    numero_de_letras.append(cantidad_de_letras)\n",
    "    \n",
    "def monstrar_frase():\n",
    "    for i in range(len(frases)):\n",
    "        print(f\"Frase: {frases[i]} - Cantidad de Caracteres: {len(frases[i])} - Cantidad de Letras: {numero_de_letras[i]}\")\n",
    "introducir_frase()\n",
    "monstrar_frase()"
   ]
  },
  {
   "cell_type": "markdown",
   "metadata": {},
   "source": [
    "## Ejercicio 2\n",
    "\n",
    "Escribe una función en Python que encuentre los valores de `a`, `b`, y `c` para que la función cuadrática `f(x) = aX^2 + bX + c` pase exactamente por los siguientes puntos:\n",
    "\n",
    "| x  | y  |\n",
    "|---:|---:|\n",
    "|  0 |  0 |\n",
    "|  1 |  8 |\n",
    "|  2 | 12 |\n",
    "|  3 | 12 |\n",
    "|  5 |  0 |\n",
    "\n",
    "### Requisitos:\n",
    "- La función debe explorar posibles valores de `a`, `b`, y `c` utilizando un método de prueba y error.\n",
    "- Debe devolver los valores que hagan que la diferencia entre la función `f(x)` y los valores medidos `y` sea exactamente cero para cada punto.\n",
    "\n",
    "> **Pista**: Los valores de `a`, `b`, y `c` son números pequeños."
   ]
  },
  {
   "cell_type": "code",
   "execution_count": 12,
   "metadata": {},
   "outputs": [
    {
     "name": "stdout",
     "output_type": "stream",
     "text": [
      "La funcion cuadratica es: f(x) = -2x^2 + 10x + 0\n"
     ]
    }
   ],
   "source": [
    "# Implementar\n",
    "valores = [(0,0), (1,8), (2,12), (3,12), (5,0)]\n",
    "def funcion_cuadratica(a,b,c,x):\n",
    "    return a*x**2 + b*x + c\n",
    "\n",
    "def buscarNumero():\n",
    "    for a in range (-10,11):\n",
    "        for b in range (-10,11):\n",
    "            for c in range (-10,11):\n",
    "                bn = True\n",
    "                for x,y in valores:\n",
    "                    if funcion_cuadratica(a,b,c,x)!=y:\n",
    "                        bn = False \n",
    "                        break\n",
    "                if bn:\n",
    "                    return f\"La funcion cuadratica es: f(x) = {a}x^2 + {b}x + {c}\"\n",
    "    return \"no se puede encontrar la funcion cuadratica\"\n",
    "    \n",
    "result = buscarNumero()\n",
    "print (result)\n"
   ]
  }
 ],
 "metadata": {
  "kernelspec": {
   "display_name": "Python 3",
   "language": "python",
   "name": "python3"
  },
  "language_info": {
   "codemirror_mode": {
    "name": "ipython",
    "version": 3
   },
   "file_extension": ".py",
   "mimetype": "text/x-python",
   "name": "python",
   "nbconvert_exporter": "python",
   "pygments_lexer": "ipython3",
   "version": "3.12.5"
  }
 },
 "nbformat": 4,
 "nbformat_minor": 2
}
