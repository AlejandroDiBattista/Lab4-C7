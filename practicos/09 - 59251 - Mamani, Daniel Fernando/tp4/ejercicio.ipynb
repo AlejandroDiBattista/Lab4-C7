{
 "cells": [
  {
   "cell_type": "markdown",
   "metadata": {},
   "source": [
    "# Simulación del Truco"
   ]
  },
  {
   "cell_type": "markdown",
   "metadata": {},
   "source": [
    "Las **cartas** deben registra el numero, palo y valor de la carta. \n",
    "El valor debe reflejar la jerarquía de las cartas en el juego del truco."
   ]
  },
  {
   "cell_type": "code",
   "execution_count": 2,
   "metadata": {},
   "outputs": [
    {
     "name": "stdout",
     "output_type": "stream",
     "text": [
      "1 de oro (Valor: 8)\n"
     ]
    }
   ],
   "source": [
    "\n",
    "JERARQUIA_CARTAS = {\n",
    "    (1, 'espada'): 14,\n",
    "    (1, 'basto'): 13,\n",
    "    (7, 'espada'): 12,\n",
    "    (7, 'oro'): 11,\n",
    "    (3, 'oro'): 10, (3, 'copa'): 10, (3, 'espada'): 10, (3, 'basto'): 10,\n",
    "    (2, 'oro'): 9, (2, 'copa'): 9, (2, 'espada'): 9, (2, 'basto'): 9,\n",
    "    (1, 'copa'): 8, (1, 'oro'): 8,\n",
    "    (12, 'oro'): 7, (12, 'copa'): 7, (12, 'espada'): 7, (12, 'basto'): 7,\n",
    "    (11, 'oro'): 6, (11, 'copa'): 6, (11, 'espada'): 6, (11, 'basto'): 6,\n",
    "    (10, 'oro'): 5, (10, 'copa'): 5, (10, 'espada'): 5, (10, 'basto'): 5,\n",
    "    (7, 'copa'): 4, (7, 'basto'): 4,\n",
    "    (6, 'oro'): 3, (6, 'copa'): 3, (6, 'espada'): 3, (6, 'basto'): 3,\n",
    "    (5, 'oro'): 2, (5, 'copa'): 2, (5, 'espada'): 2, (5, 'basto'): 2,\n",
    "    (4, 'oro'): 1, (4, 'copa'): 1, (4, 'espada'): 1, (4, 'basto'): 1\n",
    "}\n",
    "\n",
    "def calcular_valor(numero, palo):\n",
    "    \n",
    "    return JERARQUIA_CARTAS.get((numero, palo), numero)\n",
    "\n",
    "\n",
    "class Carta:\n",
    "    def __init__(self, numero, palo):\n",
    "        self.numero = numero\n",
    "        self.palo = palo\n",
    "        self.valor = calcular_valor(self.numero, self.palo)\n",
    "\n",
    "    def __str__(self):\n",
    "        return f'{self.numero} de {self.palo} (Valor: {self.valor})'\n",
    "\n",
    "c = Carta(1, \"oro\")\n",
    "print(c)\n",
    "\n"
   ]
  },
  {
   "cell_type": "markdown",
   "metadata": {},
   "source": [
    "**Mazo**: Representan las cartas españolas de 1 al 12, en los palos de oro, copa, espada y basto.\n",
    "\n",
    "Debe existir una función que permita barajar las cartas.\n",
    "y otra función que permita repartir las cartas a los jugadores."
   ]
  },
  {
   "cell_type": "code",
   "execution_count": 6,
   "metadata": {},
   "outputs": [
    {
     "name": "stdout",
     "output_type": "stream",
     "text": [
      "[<__main__.Carta object at 0x000001F6A8923EF0>, <__main__.Carta object at 0x000001F6A8923920>, <__main__.Carta object at 0x000001F6A8923050>]\n"
     ]
    }
   ],
   "source": [
    "import random\n",
    "\n",
    "class Mazo:\n",
    "    palos = ['oro', 'copa', 'espada', 'basto']\n",
    "    def __init__(self):\n",
    "        self.cartas = [Carta(numero, palo) for palo in Mazo.palos for numero in range(1, 13)]\n",
    "    def mezclar(self):\n",
    "        random.shuffle(self.cartas)\n",
    "    def repartir(self, cantidad):\n",
    "        return [self.cartas.pop() for _ in range(cantidad)]\n",
    "\n",
    "m = Mazo()\n",
    "m.mezclar()\n",
    "print(m.repartir(3))"
   ]
  },
  {
   "cell_type": "markdown",
   "metadata": {},
   "source": [
    "**Jugador**: Deben tener un nombre y las cartas que tiene en la mano. Debe acumular los puntos ganados.\n",
    "\n",
    "Nota: Para simplificar el problema, el jugador elige la carta a jugar de forma aleatoria."
   ]
  },
  {
   "cell_type": "code",
   "execution_count": 7,
   "metadata": {},
   "outputs": [
    {
     "name": "stdout",
     "output_type": "stream",
     "text": [
      "10 de copa (Valor: 5)\n"
     ]
    }
   ],
   "source": [
    "class Jugador:\n",
    "    pass\n",
    "    def __init__(self, nombre):\n",
    "        self.nombre = nombre\n",
    "        self.mano = []\n",
    "    def recibir_cartas(self, cartas):\n",
    "        self.mano = cartas\n",
    "    \n",
    "    def jugar_carta(self):\n",
    "        carta_jugada = random.choice(self.mano)\n",
    "        self.mano.remove(carta_jugada)\n",
    "        return carta_jugada\n",
    "\n",
    "j = Jugador(\"Juan\")\n",
    "j.recibir_cartas(m.repartir(3))\n",
    "print(j.jugar_carta())"
   ]
  },
  {
   "cell_type": "markdown",
   "metadata": {},
   "source": [
    "**Partida**: Debe tener dos jugadores, un mazo de cartas y un puntaje. Debe permitir jugar una carta por ronda y definir el ganador de la ronda. Debe permitir jugar hasta que se terminen las cartas del mazo."
   ]
  },
  {
   "cell_type": "code",
   "execution_count": null,
   "metadata": {},
   "outputs": [],
   "source": [
    "class Partida:\n",
    "    def __init__(self, jugador1, jugador2):\n",
    "        self.jugador1 = jugador1\n",
    "        self.jugador2 = jugador2\n",
    "        self.mazo = Mazo()\n",
    "        self.puntos_jugador1 = 0\n",
    "        self.puntos_jugador2 = 0\n",
    "\n",
    "    def jugar_ronda(self):\n",
    "        self.mazo.mezclar()\n",
    "        self.jugador1.recibir_cartas(self.mazo.repartir(3))\n",
    "        self.jugador2.recibir_cartas(self.mazo.repartir(3))\n",
    "        for _ in range(3):  # Juegan 3 rondas\n",
    "            carta1 = self.jugador1.jugar_carta()\n",
    "            carta2 = self.jugador2.jugar_carta()\n",
    "            print(f\"{self.jugador1.nombre} juega {carta1}\")\n",
    "            print(f\"{self.jugador2.nombre} juega {carta2}\")\n",
    "\n",
    "            if carta1.valor > carta2.valor:\n",
    "                self.puntos_jugador1 += 1\n",
    "            elif carta2.valor > carta1.valor:\n",
    "                self.puntos_jugador2 += 1\n",
    "            else:\n",
    "                print(\"Empate en la ronda\")\n",
    "\n",
    "    def jugar(self):\n",
    "        while self.puntos_jugador1 < 15 and self.puntos_jugador2 < 15:\n",
    "            self.jugar_ronda()\n",
    "            print(f\"Puntos: {self.jugador1.nombre} {self.puntos_jugador1}, {self.jugador2.nombre} {self.puntos_jugador2}\")\n",
    "        \n",
    "        if self.puntos_jugador1 > self.puntos_jugador2:\n",
    "            print(f\"{self.jugador1.nombre} gana la partida\")\n",
    "        else:\n",
    "            print(f\"{self.jugador2.nombre} gana la partida\")\n",
    "\n",
    "\n",
    "p = Partida(Jugador(\"Juan\"), Jugador(\"Pedro\"))\n",
    "p.jugar()"
   ]
  }
 ],
 "metadata": {
  "kernelspec": {
   "display_name": "Python 3",
   "language": "python",
   "name": "python3"
  },
  "language_info": {
   "codemirror_mode": {
    "name": "ipython",
    "version": 3
   },
   "file_extension": ".py",
   "mimetype": "text/x-python",
   "name": "python",
   "nbconvert_exporter": "python",
   "pygments_lexer": "ipython3",
   "version": "3.12.5"
  }
 },
 "nbformat": 4,
 "nbformat_minor": 2
}
