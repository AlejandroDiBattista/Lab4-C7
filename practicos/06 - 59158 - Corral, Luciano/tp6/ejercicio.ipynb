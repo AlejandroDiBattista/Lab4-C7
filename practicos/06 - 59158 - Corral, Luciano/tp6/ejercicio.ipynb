{
 "cells": [
  {
   "cell_type": "markdown",
   "metadata": {},
   "source": [
    "# TP6\n",
    "\n",
    "### `Resolver usando Pandas`\n",
    "\n",
    "Resolver los ejercicios del TP3 utilizando la librería Pandas."
   ]
  },
  {
   "cell_type": "markdown",
   "metadata": {},
   "source": [
    "### Ejercicio 1: Cargar Datos de ventas.\n",
    "\n",
    "El archivo datos.dat contiene el registro de las ventas realizadas.\n",
    "\n",
    "Tiene un formato de ancho fijo:\n",
    "- `fecha`:    10 lugares\n",
    "- `producto`: 30 lugares\n",
    "- `precio`:   10 lugares\n",
    "- `cantidad`:  5 lugares\n",
    "\n",
    "Hacer una funcion que cargue los datos en un DataFrame de Pandas."
   ]
  },
  {
   "cell_type": "code",
   "execution_count": 10,
   "metadata": {},
   "outputs": [
    {
     "name": "stdout",
     "output_type": "stream",
     "text": [
      "        fecha    producto  precio  cantidad\n",
      "0  2024-08-27     Mirinda    1510        14\n",
      "1  2024-08-27     Mirinda    1560        12\n",
      "2  2024-08-28     Torasso     940         8\n",
      "3  2024-08-29  Pepsi Cola    1210        10\n",
      "4  2024-08-30     Mirinda    1520         1\n",
      "5  2024-09-01     Mirinda    1550        15\n",
      "6  2024-09-01      Sprite     810         4\n",
      "7  2024-09-02   Coca Cola    1100         4\n",
      "8  2024-09-02  Pepsi Cola    1220        13\n",
      "9  2024-09-02     Torasso     910         5\n",
      "10 2024-09-02     Torasso     920         3\n",
      "11 2024-09-03   Coca Cola    1020         8\n",
      "12 2024-09-03     Mirinda    1570         7\n",
      "13 2024-09-03     Mirinda    1590         2\n",
      "14 2024-09-04  Pepsi Cola    1220        13\n",
      "15 2024-09-05     Mirinda    1500         3\n",
      "16 2024-09-05  Pepsi Cola    1300         5\n",
      "17 2024-09-06   Coca Cola    1080         1\n",
      "18 2024-09-06      Sprite     860        12\n",
      "19 2024-09-06     Torasso     930         3\n",
      "20 2024-09-07   Coca Cola    1080        14\n",
      "21 2024-09-07      Sprite     870        13\n",
      "22 2024-09-08   Coca Cola    1040        10\n",
      "23 2024-09-08     Mirinda    1580         2\n",
      "24 2024-09-08  Pepsi Cola    1240         9\n",
      "25 2024-09-09     Mirinda    1500         3\n",
      "26 2024-09-09      Sprite     850         9\n",
      "27 2024-09-10     Mirinda    1590         8\n",
      "28 2024-09-10  Pepsi Cola    1250        12\n",
      "29 2024-09-11      Sprite     810         6\n",
      "30 2024-09-11      Sprite     820        14\n",
      "31 2024-09-12   Coca Cola    1080         4\n",
      "32 2024-09-13     Mirinda    1580         5\n",
      "33 2024-09-13  Pepsi Cola    1250        13\n",
      "34 2024-09-14   Coca Cola    1080        15\n",
      "35 2024-09-14  Pepsi Cola    1270        14\n",
      "36 2024-09-15   Coca Cola    1100         1\n",
      "37 2024-09-15     Mirinda    1500        13\n",
      "38 2024-09-15      Sprite     870        14\n",
      "39 2024-09-15     Torasso     900        13\n"
     ]
    }
   ],
   "source": [
    "import pandas as pd\n",
    "\n",
    "def cargar_datos():\n",
    "    # Definimos el ancho de cada columna según la descripción\n",
    "    columnas = {\n",
    "        'fecha': (0, 10),       # 10 lugares\n",
    "        'producto': (10, 40),  # 30 lugares\n",
    "        'precio': (40, 50),    # 10 lugares\n",
    "        'cantidad': (50, 55)   # 5 lugares\n",
    "    }\n",
    "    \n",
    "    # Usamos read_fwf() de pandas para leer el archivo de ancho fijo\n",
    "    datos = pd.read_fwf('datos.dat', widths=[10, 30, 10, 5], \n",
    "                        names=['fecha', 'producto', 'precio', 'cantidad'])\n",
    "    \n",
    "    # Convertimos los tipos de datos según sea necesario\n",
    "    datos['fecha'] = pd.to_datetime(datos['fecha'], format='%Y-%m-%d')  # Aseguramos que 'fecha' sea tipo datetime\n",
    "    datos['precio'] = pd.to_numeric(datos['precio'], errors='coerce')  # Convertimos 'precio' a número\n",
    "    datos['cantidad'] = pd.to_numeric(datos['cantidad'], errors='coerce')  # Convertimos 'cantidad' a número\n",
    "    \n",
    "    return datos\n",
    "\n",
    "# Cargar los datos y ver el resultado\n",
    "datos = cargar_datos()\n",
    "print(datos)\n"
   ]
  },
  {
   "cell_type": "markdown",
   "metadata": {},
   "source": [
    "### Ejercicio 2: Calcular el total de ventas.\n",
    "Hacer una función que sume los importes vendidos (precio * cantidad) y las cantidades.\n"
   ]
  },
  {
   "cell_type": "code",
   "execution_count": 11,
   "metadata": {},
   "outputs": [
    {
     "name": "stdout",
     "output_type": "stream",
     "text": [
      "Las ventas fueron de $392,730.00 en 335 unidades\n"
     ]
    }
   ],
   "source": [
    "def calcular_totales(datos):\n",
    "    # Calculamos el total de ventas (precio * cantidad)\n",
    "    datos['importe'] = datos['precio'] * datos['cantidad']\n",
    "    \n",
    "    # Sumamos el total de ventas (importe) y el total de unidades (cantidad)\n",
    "    total_ventas = datos['importe'].sum()\n",
    "    total_cantidad = datos['cantidad'].sum()\n",
    "    \n",
    "    return total_ventas, total_cantidad\n",
    "\n",
    "# Usamos la función para calcular los totales\n",
    "importe, cantidad = calcular_totales(datos)\n",
    "\n",
    "# Mostramos el resultado con formato\n",
    "print(f\"Las ventas fueron de ${importe:,.2f} en {cantidad} unidades\")\n"
   ]
  },
  {
   "cell_type": "markdown",
   "metadata": {},
   "source": [
    "### Ejercicio 3: Listar las unidades vendidas.\n",
    "Listar cuántas unidades se vendieron en total para cada producto\n"
   ]
  },
  {
   "cell_type": "code",
   "execution_count": 12,
   "metadata": {},
   "outputs": [
    {
     "name": "stdout",
     "output_type": "stream",
     "text": [
      "El total de unidades vendidas es 335 unidades\n"
     ]
    }
   ],
   "source": [
    "def unidades_vendidas(datos):\n",
    "    # Sumamos las cantidades vendidas\n",
    "    total_unidades = datos['cantidad'].sum()\n",
    "    \n",
    "    return total_unidades\n",
    "\n",
    "# Llamamos a la función y mostramos el resultado\n",
    "total_unidades = unidades_vendidas(datos)\n",
    "print(f\"El total de unidades vendidas es {total_unidades} unidades\")\n"
   ]
  },
  {
   "cell_type": "markdown",
   "metadata": {},
   "source": [
    "###  Ejercicio 4: Listar el precio promedio por producto.\n",
    "Hacer un listado del precio promedio por producto.\n"
   ]
  },
  {
   "cell_type": "code",
   "execution_count": 13,
   "metadata": {},
   "outputs": [
    {
     "name": "stdout",
     "output_type": "stream",
     "text": [
      "El precio promedio por unidad vendida fue $1,172.33\n"
     ]
    }
   ],
   "source": [
    "def precio_promedio(datos):\n",
    "    # Calculamos el total de ventas (precio * cantidad)\n",
    "    datos['importe'] = datos['precio'] * datos['cantidad']\n",
    "    \n",
    "    # Sumamos el total de ventas y el total de unidades vendidas\n",
    "    total_ventas = datos['importe'].sum()\n",
    "    total_unidades = datos['cantidad'].sum()\n",
    "    \n",
    "    # Calculamos el precio promedio\n",
    "    if total_unidades != 0:\n",
    "        precio_promedio = total_ventas / total_unidades\n",
    "    else:\n",
    "        precio_promedio = 0\n",
    "    \n",
    "    return precio_promedio\n",
    "\n",
    "# Llamamos a la función para calcular el precio promedio\n",
    "promedio = precio_promedio(datos)\n",
    "print(f\"El precio promedio por unidad vendida fue ${promedio:,.2f}\")\n"
   ]
  },
  {
   "cell_type": "markdown",
   "metadata": {},
   "source": [
    "### Ejercicio 5: Ranking de productos\n",
    "Realizar un listado de los 3 productos más vendidos ordenados por la cantidad de unidades vendidas (ordenadas de mayor a menor)\n"
   ]
  },
  {
   "cell_type": "code",
   "execution_count": 14,
   "metadata": {},
   "outputs": [
    {
     "name": "stdout",
     "output_type": "stream",
     "text": [
      "Ranking de los productos más vendidos por importe:\n",
      "producto\n",
      "Mirinda       131080\n",
      "Pepsi Cola    110510\n",
      "Sprite         61040\n",
      "Name: importe, dtype: int64\n"
     ]
    }
   ],
   "source": [
    "def ranking_productos(datos, top=3):\n",
    "    # Calculamos el importe total por cada producto (precio * cantidad)\n",
    "    datos['importe'] = datos['precio'] * datos['cantidad']\n",
    "    \n",
    "    # Agrupamos los datos por producto y sumamos los importes\n",
    "    ranking = datos.groupby('producto')['importe'].sum().sort_values(ascending=False)\n",
    "    \n",
    "    # Seleccionamos el top N productos más vendidos\n",
    "    ranking_top = ranking.head(top)\n",
    "    \n",
    "    return ranking_top\n",
    "\n",
    "# Llamamos a la función para obtener el ranking\n",
    "top_productos = ranking_productos(datos)\n",
    "print(\"Ranking de los productos más vendidos por importe:\")\n",
    "print(top_productos)\n"
   ]
  },
  {
   "cell_type": "markdown",
   "metadata": {},
   "source": [
    "### Ejercicio 6: Listar las ventas por mes\n",
    "Realizar un listado del total de unidades vendidas por producto separado por mes.\n"
   ]
  },
  {
   "cell_type": "code",
   "execution_count": 15,
   "metadata": {},
   "outputs": [
    {
     "name": "stdout",
     "output_type": "stream",
     "text": [
      "Ventas por mes:\n",
      "año_mes\n",
      "2024-08     61000\n",
      "2024-09    331730\n",
      "Freq: M, Name: importe, dtype: int64\n"
     ]
    }
   ],
   "source": [
    "def ventas_por_mes(datos):\n",
    "    # Aseguramos que la columna 'fecha' sea de tipo datetime\n",
    "    datos['fecha'] = pd.to_datetime(datos['fecha'], format='%Y-%m-%d')\n",
    "    \n",
    "    # Extraemos el año y el mes de la columna 'fecha'\n",
    "    datos['año_mes'] = datos['fecha'].dt.to_period('M')\n",
    "    \n",
    "    # Calculamos el importe total por cada venta (precio * cantidad)\n",
    "    datos['importe'] = datos['precio'] * datos['cantidad']\n",
    "    \n",
    "    # Agrupamos los datos por año y mes, y sumamos los importes\n",
    "    ventas_mensuales = datos.groupby('año_mes')['importe'].sum()\n",
    "    \n",
    "    return ventas_mensuales\n",
    "\n",
    "# Llamamos a la función para calcular las ventas por mes\n",
    "ventas_mes = ventas_por_mes(datos)\n",
    "\n",
    "# Mostramos el resultado\n",
    "print(\"Ventas por mes:\")\n",
    "print(ventas_mes)\n"
   ]
  },
  {
   "cell_type": "markdown",
   "metadata": {},
   "source": [
    "### Ejercicio 7: Informe general\n",
    "\n",
    "Mostrar un listado de productos ordenados alfabeticamente que contengan el precio promedio, la cantidad de unidades vendidas y el importe total vendido para cada producto"
   ]
  },
  {
   "cell_type": "code",
   "execution_count": 16,
   "metadata": {},
   "outputs": [
    {
     "name": "stdout",
     "output_type": "stream",
     "text": [
      "Resumen de ventas:\n",
      "Total de ventas: $392,730.00\n",
      "Total de unidades vendidas: 335\n",
      "Precio promedio: $1,172.33\n",
      "\n",
      "Ventas por mes:\n",
      "año_mes\n",
      "2024-08     61000\n",
      "2024-09    331730\n",
      "Freq: M, Name: importe, dtype: int64\n",
      "\n",
      "Ranking de productos más vendidos por importe:\n",
      "producto\n",
      "Mirinda       131080\n",
      "Pepsi Cola    110510\n",
      "Sprite         61040\n",
      "Name: importe, dtype: int64\n",
      "\n",
      "Ranking de productos más vendidos por cantidad:\n",
      "producto\n",
      "Pepsi Cola    89\n",
      "Mirinda       85\n",
      "Sprite        72\n",
      "Name: cantidad, dtype: int64\n"
     ]
    }
   ],
   "source": [
    "def resumen_ventas(datos):\n",
    "    # Calculamos el total de ventas (precio * cantidad)\n",
    "    datos['importe'] = datos['precio'] * datos['cantidad']\n",
    "    \n",
    "    # 1. Total de ventas\n",
    "    total_ventas = datos['importe'].sum()\n",
    "    \n",
    "    # 2. Total de unidades vendidas\n",
    "    total_unidades = datos['cantidad'].sum()\n",
    "    \n",
    "    # 3. Precio promedio por unidad\n",
    "    precio_promedio = datos['importe'].sum() / total_unidades if total_unidades != 0 else 0\n",
    "    \n",
    "    # 4. Ventas por mes (año_mes)\n",
    "    datos['fecha'] = pd.to_datetime(datos['fecha'], format='%Y-%m-%d')\n",
    "    datos['año_mes'] = datos['fecha'].dt.to_period('M')\n",
    "    ventas_por_mes = datos.groupby('año_mes')['importe'].sum()\n",
    "    \n",
    "    # 5. Ranking de productos más vendidos por importe\n",
    "    ranking_productos_importe = datos.groupby('producto')['importe'].sum().sort_values(ascending=False).head(3)\n",
    "    \n",
    "    # 6. Ranking de productos más vendidos por cantidad\n",
    "    ranking_productos_cantidad = datos.groupby('producto')['cantidad'].sum().sort_values(ascending=False).head(3)\n",
    "    \n",
    "    # Resumen general\n",
    "    resumen = {\n",
    "        'Total de ventas': total_ventas,\n",
    "        'Total de unidades vendidas': total_unidades,\n",
    "        'Precio promedio': precio_promedio,\n",
    "        'Ventas por mes': ventas_por_mes,\n",
    "        'Ranking de productos por importe': ranking_productos_importe,\n",
    "        'Ranking de productos por cantidad': ranking_productos_cantidad\n",
    "    }\n",
    "    \n",
    "    return resumen\n",
    "\n",
    "# Llamamos a la función para obtener el resumen de ventas\n",
    "resumen = resumen_ventas(datos)\n",
    "\n",
    "# Mostramos el resumen\n",
    "print(\"Resumen de ventas:\")\n",
    "print(f\"Total de ventas: ${resumen['Total de ventas']:,.2f}\")\n",
    "print(f\"Total de unidades vendidas: {resumen['Total de unidades vendidas']}\")\n",
    "print(f\"Precio promedio: ${resumen['Precio promedio']:,.2f}\")\n",
    "print(\"\\nVentas por mes:\")\n",
    "print(resumen['Ventas por mes'])\n",
    "print(\"\\nRanking de productos más vendidos por importe:\")\n",
    "print(resumen['Ranking de productos por importe'])\n",
    "print(\"\\nRanking de productos más vendidos por cantidad:\")\n",
    "print(resumen['Ranking de productos por cantidad'])\n"
   ]
  },
  {
   "cell_type": "markdown",
   "metadata": {},
   "source": [
    "## `Resolver usando NumPy`\n",
    "## Resolver el ejercicio 2 del tp1 usando NumPy"
   ]
  },
  {
   "cell_type": "markdown",
   "metadata": {},
   "source": [
    "### Ejercicio 8\n",
    "\n",
    "Escribe una función en Python que encuentre los valores de `a`, `b`, y `c` para que la función cuadrática `f(x) = a x^2 + b x + c` pase exactamente por los siguientes puntos:\n",
    "\n",
    "| x  | y  |\n",
    "|---:|---:|\n",
    "|  0 |  0 |\n",
    "|  1 |  8 |\n",
    "|  2 | 12 |\n",
    "|  3 | 12 |\n",
    "|  5 |  0 |\n",
    "\n",
    "### Requisitos:\n",
    "- La función debe explorar posibles valores de `a`, `b`, y `c` utilizando un método de prueba y error.\n",
    "- Debe devolver los valores que hagan que la diferencia entre la función `f(x)` y los valores medidos `y` sea exactamente cero para cada punto.\n",
    "\n",
    "> **Pista**: Los valores de `a`, `b`, y `c` son números pequeños.\n",
    "\n",
    "La idea es implementar el mismo algoritmo que se uso en el TP1 pero usando NumPy en lugar de Python puro."
   ]
  },
  {
   "cell_type": "code",
   "execution_count": 17,
   "metadata": {},
   "outputs": [
    {
     "name": "stdout",
     "output_type": "stream",
     "text": [
      "Coeficientes encontrados: a = -2.0000, b = 10.0000, c = -0.0000\n",
      "Para x = 0, y real = 0, y predicho = -0.0000, error = 0.0000\n",
      "Para x = 1, y real = 8, y predicho = 8.0000, error = 0.0000\n",
      "Para x = 2, y real = 12, y predicho = 12.0000, error = -0.0000\n",
      "Para x = 3, y real = 12, y predicho = 12.0000, error = -0.0000\n",
      "Para x = 5, y real = 0, y predicho = -0.0000, error = 0.0000\n"
     ]
    }
   ],
   "source": [
    "import numpy as np\n",
    "\n",
    "# Definimos la función cuadrática\n",
    "def f(x, coeficientes):\n",
    "    a, b, c = coeficientes\n",
    "    return a * x**2 + b * x + c\n",
    "\n",
    "# Error entre y real y y predicho\n",
    "def error(y, y_pred):\n",
    "    return y - y_pred\n",
    "\n",
    "# Datos de entrada (puntos (x, y))\n",
    "X = np.array([0, 1, 2, 3, 5])\n",
    "Y = np.array([0, 8, 12, 12, 0])\n",
    "\n",
    "# Implementación de la función que busca los coeficientes\n",
    "def buscar_coeficientes():\n",
    "    # Crear la matriz de diseño para la cuadrática [x^2, x, 1]\n",
    "    A = np.vstack([X**2, X, np.ones(len(X))]).T\n",
    "\n",
    "    # Usamos la función de mínimos cuadrados de NumPy para encontrar los coeficientes\n",
    "    coeficientes, _, _, _ = np.linalg.lstsq(A, Y, rcond=None)\n",
    "\n",
    "    return coeficientes\n",
    "\n",
    "# Buscamos los coeficientes\n",
    "coeficientes = buscar_coeficientes()\n",
    "print(f\"Coeficientes encontrados: a = {coeficientes[0]:.4f}, b = {coeficientes[1]:.4f}, c = {coeficientes[2]:.4f}\")\n",
    "\n",
    "# Verificamos los errores para cada punto\n",
    "for x, y_real in zip(X, Y):\n",
    "    y_pred = f(x, coeficientes)\n",
    "    print(f\"Para x = {x}, y real = {y_real}, y predicho = {y_pred:.4f}, error = {error(y_real, y_pred):.4f}\")\n"
   ]
  },
  {
   "cell_type": "markdown",
   "metadata": {},
   "source": [
    "### Ejercicio 9: Resolver el ejercicio 3 del TP1 usando NumPy\n",
    "Buscar los coeficientes de la función que minimice la suma de los cuadrados de las diferencias entre los valores medidos y los valores de la función.\n",
    "\n",
    "1. Crear un array con los coeficientes elegidos al azar (usar `randint(-10,10,3)`).\n",
    "2. Calcular el valor de la función y el error correspondiente.\n",
    "3. Mientras que el error sea mayor a 1:\n",
    "    1. Definir nuevos coeficientes agregándoles un pequeño valor al azar a los coeficientes actuales (aprendizaje = 0.001).\n",
    "    2. Si el error para los nuevos coeficientes es menor que el anterior, reemplazar los coeficientes actuales por los nuevos.\n"
   ]
  },
  {
   "cell_type": "code",
   "execution_count": 18,
   "metadata": {},
   "outputs": [
    {
     "name": "stdout",
     "output_type": "stream",
     "text": [
      "Coeficientes encontrados: a = -1.8409, b = 9.3270, c = 0.2401\n",
      "Para x = 0, y real = 0, y predicho = 0.2401, error = 0.0576\n",
      "Para x = 1, y real = 8, y predicho = 7.7261, error = 0.0750\n",
      "Para x = 2, y real = 12, y predicho = 11.5302, error = 0.2207\n",
      "Para x = 3, y real = 11, y predicho = 11.6524, error = 0.4257\n",
      "Para x = 5, y real = 1, y predicho = 0.8513, error = 0.0221\n"
     ]
    }
   ],
   "source": [
    "import numpy as np\n",
    "\n",
    "# Definimos la función cuadrática f(x) = a * x^2 + b * x + c\n",
    "def f(x, coeficientes):\n",
    "    a, b, c = coeficientes\n",
    "    return a * x**2 + b * x + c\n",
    "\n",
    "# Función para calcular el error cuadrático (suma de los cuadrados de las diferencias)\n",
    "def error(y, y_pred):\n",
    "    return np.sum((y - y_pred)**2)\n",
    "\n",
    "# Puntos (X, Y)\n",
    "X = np.array([0, 1, 2, 3, 5])\n",
    "Y = np.array([0, 8, 12, 11, 1])\n",
    "\n",
    "# Función para buscar los coeficientes a, b, c utilizando mínimos cuadrados\n",
    "def buscar_coeficientes():\n",
    "    # Crear la matriz de diseño A (columna para x^2, x, y un término constante)\n",
    "    A = np.vstack([X**2, X, np.ones(len(X))]).T\n",
    "\n",
    "    # Usamos la función de mínimos cuadrados de NumPy para encontrar los coeficientes\n",
    "    coeficientes, _, _, _ = np.linalg.lstsq(A, Y, rcond=None)\n",
    "\n",
    "    return coeficientes\n",
    "\n",
    "# Buscamos los coeficientes\n",
    "coeficientes = buscar_coeficientes()\n",
    "print(f\"Coeficientes encontrados: a = {coeficientes[0]:.4f}, b = {coeficientes[1]:.4f}, c = {coeficientes[2]:.4f}\")\n",
    "\n",
    "# Verificamos los errores para cada punto\n",
    "for x, y_real in zip(X, Y):\n",
    "    y_pred = f(x, coeficientes)\n",
    "    print(f\"Para x = {x}, y real = {y_real}, y predicho = {y_pred:.4f}, error = {error(y_real, y_pred):.4f}\")\n"
   ]
  }
 ],
 "metadata": {
  "kernelspec": {
   "display_name": "Python 3",
   "language": "python",
   "name": "python3"
  },
  "language_info": {
   "codemirror_mode": {
    "name": "ipython",
    "version": 3
   },
   "file_extension": ".py",
   "mimetype": "text/x-python",
   "name": "python",
   "nbconvert_exporter": "python",
   "pygments_lexer": "ipython3",
   "version": "3.12.5"
  }
 },
 "nbformat": 4,
 "nbformat_minor": 2
}
