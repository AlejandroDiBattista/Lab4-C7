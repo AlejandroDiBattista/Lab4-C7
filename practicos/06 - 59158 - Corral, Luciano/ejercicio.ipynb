{
 "cells": [
  {
   "cell_type": "markdown",
   "metadata": {},
   "source": [
    "# Trabajo práctico 1\n",
    "\n"
   ]
  },
  {
   "cell_type": "markdown",
   "metadata": {},
   "source": [
    "## Ejercicio 1 \n",
    "\n",
    "Escribe una función en Python que procese una lista de cadenas de texto y realice las siguientes acciones:\n",
    "\n",
    "1. Tomar una lista de frases y convertir cada frase en una lista de palabras.\n",
    "1. Luego, debe crear una nueva lista que contenga la cantidad de palabras en cada frase.\n",
    "1. Tambien debe crear un lista que contenga la cantidad de caracteres en cada frase.\n",
    "1. Finalmente, debe imprimir cada frase original junto con la cantidad de palabras que contiene.\n",
    "Ejemplo de uso:\n",
    "```python\n",
    "    frases = [\n",
    "        \"Python es un lenguaje de programación\",\n",
    "        \"Me gusta resolver problemas con código\",\n",
    "        \"Las listas y los bucles son muy útiles\"\n",
    "    ]\n",
    "\n",
    "    procesar_frases(frases)\n",
    "```\n",
    "\n",
    "ejemplo de salida:\n",
    "```bash\n",
    "    La frase: \"Python es un...\"\n",
    "    tiene 6 palabras y 38 caracteres\n",
    "```\n"
   ]
  },
  {
   "cell_type": "code",
   "execution_count": 1,
   "metadata": {},
   "outputs": [
    {
     "name": "stdout",
     "output_type": "stream",
     "text": [
      "frase: Python es un lenguaje de programación\n",
      "cantidad de palabras: 6\n",
      "cantidad de letras: 37\n",
      "\n",
      "frase: Me gusta resolver problemas con código\n",
      "cantidad de palabras: 6\n",
      "cantidad de letras: 38\n",
      "\n",
      "frase: Las listas y los bucles son muy útiles\n",
      "cantidad de palabras: 8\n",
      "cantidad de letras: 38\n",
      "\n"
     ]
    }
   ],
   "source": [
    "def procesar_frases(frases):\n",
    "    cantidad_palabra = []\n",
    "    cantidad_caracteres = []\n",
    "\n",
    "    for frase in frases:\n",
    "        palabra = frase.split()\n",
    "        num_palabras = len(palabra)\n",
    "        num_caracteres = len(frase)\n",
    "\n",
    "        cantidad_palabra.append(num_palabras)\n",
    "        cantidad_caracteres.append(num_caracteres)\n",
    "\n",
    "    for i, frase in enumerate(frases):\n",
    "        print (f\"frase: {frase}\") \n",
    "        print (f\"cantidad de palabras: {cantidad_palabra[i]}\")\n",
    "        print (f\"cantidad de letras: {cantidad_caracteres[i]}\") \n",
    "        print()\n",
    "\n",
    "frases = [\n",
    "    \"Python es un lenguaje de programación\",\n",
    "    \"Me gusta resolver problemas con código\",\n",
    "    \"Las listas y los bucles son muy útiles\"\n",
    "]\n",
    "\n",
    "procesar_frases(frases)  # Llamamos a la función para hacer el trabajo"
   ]
  },
  {
   "cell_type": "markdown",
   "metadata": {},
   "source": [
    "## Ejercicio 2\n",
    "\n",
    "Escribe una función en Python que encuentre los valores de `a`, `b`, y `c` para que la función cuadrática `f(x) = aX^2 + bX + c` pase exactamente por los siguientes puntos:\n",
    "\n",
    "| x  | y  |\n",
    "|---:|---:|\n",
    "|  0 |  0 |\n",
    "|  1 |  8 |\n",
    "|  2 | 12 |\n",
    "|  3 | 12 |\n",
    "|  5 |  0 |\n",
    "\n",
    "### Requisitos:\n",
    "- La función debe explorar posibles valores de `a`, `b`, y `c` utilizando un método de prueba y error.\n",
    "- Debe devolver los valores que hagan que la diferencia entre la función `f(x)` y los valores medidos `y` sea exactamente cero para cada punto.\n",
    "\n",
    "> **Pista**: Los valores de `a`, `b`, y `c` son números pequeños."
   ]
  },
  {
   "cell_type": "code",
   "execution_count": 3,
   "metadata": {},
   "outputs": [],
   "source": []
  }
 ],
 "metadata": {
  "language_info": {
   "name": "python"
  }
 },
 "nbformat": 4,
 "nbformat_minor": 2
}
