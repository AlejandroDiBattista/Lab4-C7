{
 "cells": [
  {
   "cell_type": "markdown",
   "metadata": {},
   "source": [
    "# Simulación del Truco"
   ]
  },
  {
   "cell_type": "markdown",
   "metadata": {},
   "source": [
    "Las **cartas** deben registra el numero, palo y valor de la carta. \n",
    "El valor debe reflejar la jerarquía de las cartas en el juego del truco."
   ]
  },
  {
   "cell_type": "code",
   "execution_count": 4,
   "metadata": {},
   "outputs": [],
   "source": [
    "# Función para calcular el valor de una carta según su número y palo\n",
    "def calcular_valor(numero, palo):\n",
    "    if numero == 8 or numero == 9:\n",
    "        return 0  # Las cartas 8 y 9 no tienen valor\n",
    "    valores = {\n",
    "        \"oro\": {1: 8, 2: 9, 3: 10, 4: 1, 5: 2, 6: 3, 7: 11, 10: 5, 11: 6, 12: 7},\n",
    "        \"copa\": {1: 8, 2: 9, 3: 10, 4: 1, 5: 2, 6: 3, 7: 4, 10: 5, 11: 6, 12: 7},\n",
    "        \"espada\": {1: 14, 2: 9, 3: 10, 4: 1, 5: 2, 6: 3, 7: 12, 10: 5, 11: 6, 12: 7},\n",
    "        \"basto\": {1: 13, 2: 9, 3: 10, 4: 1, 5: 2, 6: 3, 7: 4, 10: 5, 11: 6, 12: 7}\n",
    "    }\n",
    "    return valores[palo].get(numero, 0)\n",
    "\n",
    "# Clase que representa una carta\n",
    "class Carta:\n",
    "    def __init__(self, numero, palo):\n",
    "        self.numero = numero\n",
    "        self.palo = palo\n",
    "        self.valor = calcular_valor(numero, palo)\n",
    "\n",
    "    def __str__(self):\n",
    "        return f\"{self.numero} de {self.palo}\"\n",
    "\n"
   ]
  },
  {
   "cell_type": "markdown",
   "metadata": {},
   "source": [
    "**Mazo**: Representan las cartas españolas de 1 al 12, en los palos de oro, copa, espada y basto.\n",
    "\n",
    "Debe existir una función que permita barajar las cartas.\n",
    "y otra función que permita repartir las cartas a los jugadores."
   ]
  },
  {
   "cell_type": "code",
   "execution_count": 5,
   "metadata": {},
   "outputs": [
    {
     "name": "stdout",
     "output_type": "stream",
     "text": [
      "None\n"
     ]
    }
   ],
   "source": [
    "import random\n",
    "\n",
    "class Mazo:\n",
    "    def __init__(self):\n",
    "        # Crea el mazo de cartas al inicializar la clase\n",
    "        self.cartas = self.crearMazo()\n",
    "\n",
    "    def crearMazo(self):\n",
    "        # Define los palos y crea las cartas, omitiendo 8 y 9\n",
    "        palos = [\"oro\", \"copa\", \"espada\", \"basto\"]\n",
    "        cartas = []\n",
    "\n",
    "        for palo in palos:\n",
    "            for numero in range(1, 13):\n",
    "                if numero == 8 or numero == 9:\n",
    "                    continue  # Omitir cartas 8 y 9\n",
    "                cartas.append(Carta(numero, palo))  # Agrega la carta al mazo\n",
    "        return cartas\n",
    "\n",
    "    def mezclar(self):\n",
    "        # Mezcla las cartas de manera aleatoria\n",
    "        random.shuffle(self.cartas)\n",
    "        return self\n",
    "\n",
    "    def repartir(self, cantidad):\n",
    "        # Reparte una cantidad de cartas\n",
    "        cartas_a_repartir = []\n",
    "        for i in range(cantidad):\n",
    "            carta = self.cartas.pop()  # Saca una carta del mazo\n",
    "            cartas_a_repartir.append(carta)  # Agrega la carta a la lista a repartir\n",
    "        return cartas_a_repartir\n",
    "\n",
    "m = Mazo()  # Crear el mazo\n",
    "m.mezclar()  # Mezclar el mazo\n",
    "print(m.repartir(3))  # Repartir 3 cartas\n"
   ]
  },
  {
   "cell_type": "markdown",
   "metadata": {},
   "source": [
    "**Jugador**: Deben tener un nombre y las cartas que tiene en la mano. Debe acumular los puntos ganados.\n",
    "\n",
    "Nota: Para simplificar el problema, el jugador elige la carta a jugar de forma aleatoria."
   ]
  },
  {
   "cell_type": "code",
   "execution_count": 6,
   "metadata": {},
   "outputs": [
    {
     "name": "stdout",
     "output_type": "stream",
     "text": [
      "None\n"
     ]
    }
   ],
   "source": [
    "\n",
    "\n",
    "class Jugador:\n",
    "    def __init__(self, nombre):\n",
    "        # Inicializa el jugador con un nombre y prepara su mano y puntuación\n",
    "        self.nombre = nombre\n",
    "        self.cartas = []  # Cartas en la mano del jugador\n",
    "        self.puntuacion = 0  # Puntos acumulados\n",
    "\n",
    "    def recibir_cartas(self, cartas):\n",
    "        # Recibe las cartas repartidas y las almacena en la mano\n",
    "        self.cartas = cartas\n",
    "\n",
    "    def jugar_carta(self):\n",
    "        # Juega una carta de forma aleatoria de la mano\n",
    "        if len(self.cartas) != 0:\n",
    "            random.shuffle(self.cartas)  # Mezcla las cartas en la mano\n",
    "            return self.cartas.pop()  # Devuelve una carta y la elimina de la mano\n",
    "        else:\n",
    "            return None  # Si no hay cartas, devuelve None\n",
    "\n",
    "# Ejemplo de uso\n",
    "j = Jugador(\"Juan\")  # Crear un jugador llamado Juan\n",
    "j.recibir_cartas(m.repartir(3))  # Recibir 3 cartas del mazo\n",
    "print(j.jugar_carta())  # Jugar una carta aleatoria\n"
   ]
  },
  {
   "cell_type": "markdown",
   "metadata": {},
   "source": [
    "**Partida**: Debe tener dos jugadores, un mazo de cartas y un puntaje. Debe permitir jugar una carta por ronda y definir el ganador de la ronda. Debe permitir jugar hasta que se terminen las cartas del mazo."
   ]
  },
  {
   "cell_type": "code",
   "execution_count": null,
   "metadata": {},
   "outputs": [],
   "source": [
    "class Partida:\n",
    "    def __init__(self, jugador1, jugador2):\n",
    "        # Inicializa la partida con dos jugadores y un mazo de cartas\n",
    "        self.jugador1 = jugador1\n",
    "        self.jugador2 = jugador2\n",
    "        self.mazos = Mazo()  # Crea un nuevo mazo de cartas\n",
    "        self.mazos.mezclar()  # Mezcla el mazo\n",
    "        self.empates = 0  # Contador de empates\n",
    "\n",
    "    def jugar_ronda(self):\n",
    "        # Juega una ronda entre los dos jugadores\n",
    "        carta1 = self.jugador1.jugar_carta()  # Jugador 1 juega una carta\n",
    "        carta2 = self.jugador2.jugar_carta()  # Jugador 2 juega una carta\n",
    "        \n",
    "        if carta1 is None or carta2 is None:\n",
    "            print(\"No hay cartas para jugar\")\n",
    "            return  # Termina la ronda si no hay cartas disponibles\n",
    "\n",
    "        # Compara el valor de las cartas jugadas\n",
    "        if carta1.valor > carta2.valor:\n",
    "            self.jugador1.puntuacion += 1  # Jugador 1 gana la ronda\n",
    "        elif carta1.valor < carta2.valor:\n",
    "            self.jugador2.puntuacion += 1  # Jugador 2 gana la ronda\n",
    "        else:\n",
    "            self.empates += 1  # Se registra un empate\n",
    "\n",
    "    def jugar(self):\n",
    "        # Controla el flujo del juego hasta que un jugador alcance 15 puntos\n",
    "        while self.jugador1.puntuacion < 15 and self.jugador2.puntuacion < 15:\n",
    "            cartasj1 = self.mazos.repartir(3)  # Reparte 3 cartas al jugador 1\n",
    "            cartasj2 = self.mazos.repartir(3)  # Reparte 3 cartas al jugador 2\n",
    "            self.jugador1.recibir_cartas(cartasj1)  # El jugador 1 recibe sus cartas\n",
    "            self.jugador2.recibir_cartas(cartasj2)  # El jugador 2 recibe sus cartas\n",
    "            self.mazos.cartas.extend(cartasj1 + cartasj2)  # Devuelven cartas al mazo\n",
    "\n",
    "            for ronda in range(3):  # Juegan 3 rondas\n",
    "                self.jugar_ronda()  # Juega la ronda\n",
    "                print(f\"Puntuacion al finalizar la ronda: {self.jugador1.nombre}: {self.jugador1.puntuacion}, {self.jugador2.nombre}: {self.jugador2.puntuacion} y hasta ahora {self.empates} empates\")\n",
    "                \n",
    "                # Verifica si alguno de los jugadores ha ganado\n",
    "                if self.jugador1.puntuacion >= 15:\n",
    "                    print(f\"\\n{self.jugador1.nombre} es el ganador\")\n",
    "                    break\n",
    "                elif self.jugador2.puntuacion >= 15:\n",
    "                    print(f\"\\n{self.jugador2.nombre} es el ganador\")\n",
    "                    break\n",
    "\n",
    "# Ejemplo de uso\n",
    "p = Partida(Jugador(\"Juan\"), Jugador(\"Pedro\"))  # Crear una partida con dos jugadores\n",
    "p.jugar()  # Iniciar la partida\n"
   ]
  }
 ],
 "metadata": {
  "kernelspec": {
   "display_name": "Python 3",
   "language": "python",
   "name": "python3"
  },
  "language_info": {
   "codemirror_mode": {
    "name": "ipython",
    "version": 3
   },
   "file_extension": ".py",
   "mimetype": "text/x-python",
   "name": "python",
   "nbconvert_exporter": "python",
   "pygments_lexer": "ipython3",
   "version": "3.12.5"
  }
 },
 "nbformat": 4,
 "nbformat_minor": 2
}
