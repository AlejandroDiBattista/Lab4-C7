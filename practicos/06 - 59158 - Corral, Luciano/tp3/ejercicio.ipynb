{
 "cells": [
  {
   "cell_type": "markdown",
   "metadata": {},
   "source": [
    "#TP3"
   ]
  },
  {
   "cell_type": "markdown",
   "metadata": {},
   "source": [
    "## Ejercicio 1: Cargar Datos de ventas.\n",
    "\n",
    "El archivo datos.dat contiene el registro de las ventas realizadas.\n",
    "\n",
    "Tiene un formato de ancho fijo:\n",
    "- fecha:    10 lugares\n",
    "- producto: 30 lugares\n",
    "- precio:   10 lugares\n",
    "- cantidad:  5 lugares\n",
    "\n",
    "hacer una funcion que carge los en una lista de diccionarios. \n",
    "\n",
    "nota: con \n",
    "```python\n",
    "lineas = open(\"datos.dat\", \"r\").readlines() \n",
    "```\n",
    "puede obtener la lista de string de todos los datos "
   ]
  },
  {
   "cell_type": "code",
   "execution_count": 2,
   "metadata": {},
   "outputs": [],
   "source": [
    "def cargar_datos():\n",
    "    # Abrir el archivo y leer las líneas\n",
    "    with open(\"datos.dat\", \"r\") as archivo:\n",
    "        lineas = archivo.readlines()\n",
    "    \n",
    "    # Lista para almacenar los datos\n",
    "    datos_ventas = []\n",
    "    \n",
    "    # Procesar cada línea\n",
    "    for linea in lineas:\n",
    "        # Extraer datos con slicing y quitar espacios\n",
    "        fecha = linea[0:10].strip()       # Fecha\n",
    "        producto = linea[10:40].strip()    # Producto\n",
    "        precio = float(linea[40:50].strip())  # Precio como float\n",
    "        cantidad = int(linea[50:55].strip())   # Cantidad como int\n",
    "        \n",
    "        # Crear un diccionario y añadirlo a la lista\n",
    "        datos_ventas.append({\n",
    "            'fecha': fecha,\n",
    "            'producto': producto,\n",
    "            'precio': precio,\n",
    "            'cantidad': cantidad\n",
    "        })\n",
    "    \n",
    "    return datos_ventas\n",
    "\n",
    "# Llamar a la función y almacenar los datos\n",
    "datos = cargar_datos()\n"
   ]
  },
  {
   "cell_type": "markdown",
   "metadata": {},
   "source": [
    "## Ejercicio 2: Calcular el total de ventas.\n",
    "\n",
    "Hacer una funcion que sume los importes vendidos (precio * cantidad) y las cantidades"
   ]
  },
  {
   "cell_type": "code",
   "execution_count": 4,
   "metadata": {},
   "outputs": [
    {
     "name": "stdout",
     "output_type": "stream",
     "text": [
      "Las ventas fueron de $392730.00 en 335 unidades\n"
     ]
    }
   ],
   "source": [
    "def calcular_totales(datos):\n",
    "    total_importe = 0  # Variable para almacenar el total de importes\n",
    "    total_cantidad = 0  # Variable para almacenar el total de cantidades\n",
    "    \n",
    "    # Procesar cada registro en los datos\n",
    "    for registro in datos:\n",
    "        # Calcular el importe (precio * cantidad)\n",
    "        importe = registro['precio'] * registro['cantidad']\n",
    "        \n",
    "        # Sumar al total de importes y cantidades\n",
    "        total_importe += importe\n",
    "        total_cantidad += registro['cantidad']\n",
    "    \n",
    "    return total_importe, total_cantidad\n",
    "\n",
    "# Llamar a la función y almacenar los totales\n",
    "importe, cantidad = calcular_totales(datos)\n",
    "\n",
    "# Imprimir los resultados\n",
    "print(f\"Las ventas fueron de ${importe:.2f} en {cantidad} unidades\")"
   ]
  },
  {
   "cell_type": "markdown",
   "metadata": {},
   "source": [
    "## Ejercicio 3: Listar las unidades vendidas.\n",
    "\n",
    "Listar cuantas unidades se vendieron en total para cada producto"
   ]
  },
  {
   "cell_type": "code",
   "execution_count": 3,
   "metadata": {},
   "outputs": [
    {
     "name": "stdout",
     "output_type": "stream",
     "text": [
      "Mirinda: 85 unidades vendidas\n",
      "Torasso: 32 unidades vendidas\n",
      "Pepsi Cola: 89 unidades vendidas\n",
      "Sprite: 72 unidades vendidas\n",
      "Coca Cola: 57 unidades vendidas\n"
     ]
    }
   ],
   "source": [
    "def unidades_vendidas(datos):\n",
    "    # Crear un diccionario para almacenar las cantidades vendidas por producto\n",
    "    total_unidades = {}\n",
    "    \n",
    "    # Procesar cada registro en los datos\n",
    "    for registro in datos:\n",
    "        producto = registro['producto']\n",
    "        cantidad = registro['cantidad']\n",
    "        \n",
    "        # Sumar la cantidad vendida al producto correspondiente\n",
    "        if producto in total_unidades:\n",
    "            total_unidades[producto] += cantidad\n",
    "        else:\n",
    "            total_unidades[producto] = cantidad\n",
    "    \n",
    "    return total_unidades\n",
    "\n",
    "def listar_ventas(ventas):\n",
    "    # Listar las ventas por producto\n",
    "    for producto, cantidad in ventas.items():\n",
    "        print(f\"{producto}: {cantidad} unidades vendidas\")\n",
    "\n",
    "# Llamar a las funciones\n",
    "ventas = unidades_vendidas(datos)\n",
    "listar_ventas(ventas)\n"
   ]
  },
  {
   "cell_type": "markdown",
   "metadata": {},
   "source": [
    "##  Ejercicio 4: Listar el precio promedio por producto.\n",
    "\n",
    "Hacer un listado del precio promedio por productos."
   ]
  },
  {
   "cell_type": "code",
   "execution_count": null,
   "metadata": {},
   "outputs": [],
   "source": [
    "def precio_promedio(datos):\n",
    "    # Crear un diccionario para almacenar la suma de precios y las cantidades vendidas por producto\n",
    "    total_precio = {}\n",
    "    total_cantidad = {}\n",
    "    \n",
    "    # Procesar cada registro en los datos\n",
    "    for registro in datos:\n",
    "        producto = registro['producto']\n",
    "        precio = registro['precio']\n",
    "        cantidad = registro['cantidad']\n",
    "        \n",
    "        # Sumar el precio y la cantidad al producto correspondiente\n",
    "        if producto in total_precio:\n",
    "            total_precio[producto] += precio * cantidad\n",
    "            total_cantidad[producto] += cantidad\n",
    "        else:\n",
    "            total_precio[producto] = precio * cantidad\n",
    "            total_cantidad[producto] = cantidad\n",
    "    \n",
    "    # Calcular el precio promedio\n",
    "    precio_promedio = {producto: total_precio[producto] / total_cantidad[producto]\n",
    "                       for producto in total_precio}\n",
    "    \n",
    "    return precio_promedio\n",
    "\n",
    "def listar_precios(precios):\n",
    "    # Listar los precios promedio por producto\n",
    "    for producto, precio in precios.items():\n",
    "        print(f\"{producto}: ${precio:.2f} de precio promedio\")\n",
    "\n",
    "# Llamar a las funciones\n",
    "precios = precio_promedio(datos)\n",
    "listar_precios(precios)\n"
   ]
  },
  {
   "cell_type": "markdown",
   "metadata": {},
   "source": [
    "### Ejercicio 5: Ranking de productos\n",
    "\n",
    "Realizar un listado de los 3 productos mas vendidos ordenados la cantidad de unidades vendidas (ordenadas de mayor a menor)\n"
   ]
  },
  {
   "cell_type": "code",
   "execution_count": null,
   "metadata": {},
   "outputs": [],
   "source": [
    "def ranking_productos(datos, top=3):\n",
    "    # Crear un diccionario para contar las unidades vendidas por producto\n",
    "    total_unidades = {}\n",
    "    \n",
    "    # Procesar cada registro en los datos\n",
    "    for registro in datos:\n",
    "        producto = registro['producto']\n",
    "        cantidad = registro['cantidad']\n",
    "        \n",
    "        # Sumar la cantidad vendida al producto correspondiente\n",
    "        if producto in total_unidades:\n",
    "            total_unidades[producto] += cantidad\n",
    "        else:\n",
    "            total_unidades[producto] = cantidad\n",
    "    \n",
    "    # Ordenar los productos por cantidad vendida en orden descendente\n",
    "    ranking_ordenado = sorted(total_unidades.items(), key=lambda x: x[1], reverse=True)\n",
    "    \n",
    "    # Obtener los primeros 'top' productos\n",
    "    return ranking_ordenado[:top]\n",
    "\n",
    "def listar_ranking(ranking):\n",
    "    # Listar los productos en el ranking\n",
    "    print(\"Ranking de los productos más vendidos:\")\n",
    "    for producto, cantidad in ranking:\n",
    "        print(f\"{producto}: {cantidad} unidades vendidas\")\n",
    "\n",
    "# Llamar a las funciones\n",
    "ranking = ranking_productos(datos)\n",
    "listar_ranking(ranking)\n"
   ]
  },
  {
   "cell_type": "markdown",
   "metadata": {},
   "source": [
    "### Ejercicio 6: Listar las ventas por mes\n",
    "\n",
    "Realizar un listado del total de unidades vendidas por productos separada por mes."
   ]
  },
  {
   "cell_type": "code",
   "execution_count": null,
   "metadata": {},
   "outputs": [],
   "source": [
    "def ventas_por_mes(datos):\n",
    "    # Crear un diccionario para almacenar las ventas por mes y producto\n",
    "    ventas_mensuales = {}\n",
    "    \n",
    "    # Procesar cada registro en los datos\n",
    "    for registro in datos:\n",
    "        # Extraer la fecha y producto\n",
    "        fecha = registro['fecha']\n",
    "        producto = registro['producto']\n",
    "        cantidad = registro['cantidad']\n",
    "        \n",
    "        # Obtener el mes y el año a partir de la fecha\n",
    "        mes = fecha[:7]  # Formato 'YYYY-MM'\n",
    "        \n",
    "        # Inicializar el diccionario para el mes si no existe\n",
    "        if mes not in ventas_mensuales:\n",
    "            ventas_mensuales[mes] = {}\n",
    "        \n",
    "        # Sumar la cantidad vendida al producto correspondiente en ese mes\n",
    "        if producto in ventas_mensuales[mes]:\n",
    "            ventas_mensuales[mes][producto] += cantidad\n",
    "        else:\n",
    "            ventas_mensuales[mes][producto] = cantidad\n",
    "    \n",
    "    return ventas_mensuales\n",
    "\n",
    "def listar_ventas_mensuales(ventas):\n",
    "    # Listar las ventas por mes\n",
    "    for mes, productos in ventas.items():\n",
    "        print(f\"\\nVentas en {mes}:\")\n",
    "        for producto, cantidad in productos.items():\n",
    "            print(f\"{producto}: {cantidad} unidades vendidas\")\n",
    "\n",
    "# Llamar a las funciones\n",
    "ventas = ventas_por_mes(datos)\n",
    "listar_ventas_mensuales(ventas)"
   ]
  },
  {
   "cell_type": "markdown",
   "metadata": {},
   "source": [
    "### Ejercicio 7: Informe general\n",
    "\n",
    "Mostrar un listado de productos ordenados alfabeticamente que contengan el precio promedio, la cantidad de unidades vendidas y el importe total vendido para cada producto"
   ]
  },
  {
   "cell_type": "code",
   "execution_count": null,
   "metadata": {},
   "outputs": [],
   "source": [
    "def resumen_ventas(datos):\n",
    "    pass # Implementar\n",
    "\n",
    "def informe_ventas(datos):\n",
    "    pass # Implementar\n",
    "\n",
    "resumen = resumen_ventas(datos)\n",
    "informe_ventas(resumen)\n"
   ]
  }
 ],
 "metadata": {
  "kernelspec": {
   "display_name": "Python 3",
   "language": "python",
   "name": "python3"
  },
  "language_info": {
   "codemirror_mode": {
    "name": "ipython",
    "version": 3
   },
   "file_extension": ".py",
   "mimetype": "text/x-python",
   "name": "python",
   "nbconvert_exporter": "python",
   "pygments_lexer": "ipython3",
   "version": "3.12.5"
  }
 },
 "nbformat": 4,
 "nbformat_minor": 2
}
