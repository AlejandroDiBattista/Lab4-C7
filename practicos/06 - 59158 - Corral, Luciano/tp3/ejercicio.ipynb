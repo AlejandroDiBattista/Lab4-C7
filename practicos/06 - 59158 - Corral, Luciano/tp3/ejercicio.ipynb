{
 "cells": [
  {
   "cell_type": "markdown",
   "metadata": {},
   "source": [
    "#TP3"
   ]
  },
  {
   "cell_type": "markdown",
   "metadata": {},
   "source": [
    "## Ejercicio 1: Cargar Datos de ventas.\n",
    "\n",
    "El archivo datos.dat contiene el registro de las ventas realizadas.\n",
    "\n",
    "Tiene un formato de ancho fijo:\n",
    "- fecha:    10 lugares\n",
    "- producto: 30 lugares\n",
    "- precio:   10 lugares\n",
    "- cantidad:  5 lugares\n",
    "\n",
    "hacer una funcion que carge los en una lista de diccionarios. \n",
    "\n",
    "nota: con \n",
    "```python\n",
    "lineas = open(\"datos.dat\", \"r\").readlines() \n",
    "```\n",
    "puede obtener la lista de string de todos los datos "
   ]
  },
  {
   "cell_type": "code",
   "execution_count": 12,
   "metadata": {},
   "outputs": [],
   "source": [
    "def cargar_datos():\n",
    "    lineas = open(\"datos.dat\", \"r\").readlines()\n",
    "    datos = []\n",
    "    \n",
    "    for linea in lineas:\n",
    "        linea = linea.strip()\n",
    "        fecha = linea[:10].strip()\n",
    "        producto = linea[10:40].strip()\n",
    "        precio = int(linea[40:50].strip())\n",
    "        cantidad = int(linea[50:55].strip())\n",
    "        \n",
    "        registro = {\n",
    "            \"fecha\": fecha,\n",
    "            \"producto\": producto,\n",
    "            \"precio\": precio,\n",
    "            \"cantidad\": cantidad\n",
    "        }\n",
    "        \n",
    "        datos.append(registro)\n",
    "    \n",
    "    return datos\n",
    "\n",
    "datos = cargar_datos()"
   ]
  },
  {
   "cell_type": "markdown",
   "metadata": {},
   "source": [
    "## Ejercicio 2: Calcular el total de ventas.\n",
    "\n",
    "Hacer una funcion que sume los importes vendidos (precio * cantidad) y las cantidades"
   ]
  },
  {
   "cell_type": "code",
   "execution_count": 13,
   "metadata": {},
   "outputs": [
    {
     "name": "stdout",
     "output_type": "stream",
     "text": [
      "Las ventas fueron de $51960.00 en 36 unidades\n"
     ]
    }
   ],
   "source": [
    "def calcular_totales(datos):\n",
    "    importe_total = 0\n",
    "    cantidad_total = 0\n",
    "    \n",
    "    for registro in datos:\n",
    "        importe_total += registro[\"precio\"] * registro[\"cantidad\"]\n",
    "        cantidad_total += registro[\"cantidad\"]\n",
    "    \n",
    "    return importe_total, cantidad_total\n",
    "\n",
    "# Ejemplo de datos (asegúrate de que 'datos' esté bien definido antes de llamar a la función)\n",
    "datos = [\n",
    "    {\"producto\": \"Mirinda\", \"precio\": 1510, \"cantidad\": 14},\n",
    "    {\"producto\": \"Mirinda\", \"precio\": 1560, \"cantidad\": 12},\n",
    "    {\"producto\": \"Pepsi Cola\", \"precio\": 1210, \"cantidad\": 10},\n",
    "    # Agrega más productos según sea necesario\n",
    "]\n",
    "\n",
    "# Calcular los totales\n",
    "importe, cantidad = calcular_totales(datos)\n",
    "\n",
    "# Imprimir el resultado con el formato correcto (2 decimales)\n",
    "print(f\"Las ventas fueron de ${importe:.2f} en {cantidad} unidades\")\n"
   ]
  },
  {
   "cell_type": "markdown",
   "metadata": {},
   "source": [
    "## Ejercicio 3: Listar las unidades vendidas.\n",
    "\n",
    "Listar cuantas unidades se vendieron en total para cada producto"
   ]
  },
  {
   "cell_type": "code",
   "execution_count": 14,
   "metadata": {},
   "outputs": [
    {
     "name": "stdout",
     "output_type": "stream",
     "text": [
      "Mirinda: 26 unidades\n",
      "Pepsi Cola: 10 unidades\n"
     ]
    }
   ],
   "source": [
    "def unidades_vendidas(datos):\n",
    "    ventas_por_producto = {}\n",
    "    \n",
    "    for registro in datos:\n",
    "        producto = registro[\"producto\"]\n",
    "        cantidad = registro[\"cantidad\"]\n",
    "        \n",
    "        if producto in ventas_por_producto:\n",
    "            ventas_por_producto[producto] += cantidad\n",
    "        else:\n",
    "            ventas_por_producto[producto] = cantidad\n",
    "    \n",
    "    return ventas_por_producto\n",
    "\n",
    "def listar_ventas(ventas):\n",
    "    for producto, cantidad in ventas.items():\n",
    "        print(f\"{producto}: {cantidad} unidades\")\n",
    "\n",
    "# Calcular unidades vendidas\n",
    "ventas = unidades_vendidas(datos)\n",
    "\n",
    "# Listar ventas por producto\n",
    "listar_ventas(ventas)\n"
   ]
  },
  {
   "cell_type": "markdown",
   "metadata": {},
   "source": [
    "##  Ejercicio 4: Listar el precio promedio por producto.\n",
    "\n",
    "Hacer un listado del precio promedio por productos."
   ]
  },
  {
   "cell_type": "code",
   "execution_count": 15,
   "metadata": {},
   "outputs": [
    {
     "name": "stdout",
     "output_type": "stream",
     "text": [
      "Mirinda: $1533.08 promedio\n",
      "Pepsi Cola: $1210.00 promedio\n"
     ]
    }
   ],
   "source": [
    "def precio_promedio(datos):\n",
    "    precios_por_producto = {}\n",
    "    cantidades_por_producto = {}\n",
    "    \n",
    "    for registro in datos:\n",
    "        producto = registro[\"producto\"]\n",
    "        precio = registro[\"precio\"]\n",
    "        cantidad = registro[\"cantidad\"]\n",
    "        \n",
    "        if producto in precios_por_producto:\n",
    "            precios_por_producto[producto] += precio * cantidad\n",
    "            cantidades_por_producto[producto] += cantidad\n",
    "        else:\n",
    "            precios_por_producto[producto] = precio * cantidad\n",
    "            cantidades_por_producto[producto] = cantidad\n",
    "    \n",
    "    promedio_por_producto = {}\n",
    "    for producto in precios_por_producto:\n",
    "        promedio_por_producto[producto] = precios_por_producto[producto] / cantidades_por_producto[producto]\n",
    "    \n",
    "    return promedio_por_producto\n",
    "\n",
    "def listar_precios(precios):\n",
    "    for producto, precio_promedio in precios.items():\n",
    "        print(f\"{producto}: ${precio_promedio:.2f} promedio\")\n",
    "\n",
    "# Calcular precio promedio por producto\n",
    "precios = precio_promedio(datos)\n",
    "\n",
    "# Listar precios promedio por producto\n",
    "listar_precios(precios)\n"
   ]
  },
  {
   "cell_type": "markdown",
   "metadata": {},
   "source": [
    "### Ejercicio 5: Ranking de productos\n",
    "\n",
    "Realizar un listado de los 3 productos mas vendidos ordenados la cantidad de unidades vendidas (ordenadas de mayor a menor)\n"
   ]
  },
  {
   "cell_type": "code",
   "execution_count": 16,
   "metadata": {},
   "outputs": [
    {
     "name": "stdout",
     "output_type": "stream",
     "text": [
      "1. Mirinda: $39860.00 en ventas\n",
      "2. Pepsi Cola: $12100.00 en ventas\n"
     ]
    }
   ],
   "source": [
    "def ranking_productos(datos, top=3):\n",
    "    ventas_totales_por_producto = {}\n",
    "    \n",
    "    for registro in datos:\n",
    "        producto = registro[\"producto\"]\n",
    "        precio = registro[\"precio\"]\n",
    "        cantidad = registro[\"cantidad\"]\n",
    "        \n",
    "        if producto in ventas_totales_por_producto:\n",
    "            ventas_totales_por_producto[producto] += precio * cantidad\n",
    "        else:\n",
    "            ventas_totales_por_producto[producto] = precio * cantidad\n",
    "    \n",
    "    # Ordenar los productos por ventas totales de mayor a menor\n",
    "    ranking = sorted(ventas_totales_por_producto.items(), key=lambda x: x[1], reverse=True)\n",
    "    \n",
    "    # Obtener solo el top solicitado\n",
    "    return ranking[:top]\n",
    "\n",
    "def listar_ranking(ranking):\n",
    "    for i, (producto, ventas_totales) in enumerate(ranking, 1):\n",
    "        print(f\"{i}. {producto}: ${ventas_totales:.2f} en ventas\")\n",
    "\n",
    "# Calcular ranking de los productos por ventas totales\n",
    "ranking = ranking_productos(datos)\n",
    "\n",
    "# Listar el ranking de productos\n",
    "listar_ranking(ranking)\n"
   ]
  },
  {
   "cell_type": "markdown",
   "metadata": {},
   "source": [
    "### Ejercicio 6: Listar las ventas por mes\n",
    "\n",
    "Realizar un listado del total de unidades vendidas por productos separada por mes."
   ]
  },
  {
   "cell_type": "code",
   "execution_count": 17,
   "metadata": {},
   "outputs": [
    {
     "name": "stdout",
     "output_type": "stream",
     "text": [
      "2024-08: $59480.00 en ventas\n"
     ]
    }
   ],
   "source": [
    "from collections import defaultdict\n",
    "\n",
    "def ventas_por_mes(datos):\n",
    "    ventas_mensuales = defaultdict(float)  # Usamos un defaultdict para evitar el error si no existe la clave\n",
    "    \n",
    "    for registro in datos:\n",
    "        # Asegúrate de que la clave 'fecha' exista en cada registro\n",
    "        fecha = registro[\"fecha\"]\n",
    "        mes = fecha[:7]  # Extraemos el año y el mes de la fecha (yyyy-mm)\n",
    "        precio = registro[\"precio\"]\n",
    "        cantidad = registro[\"cantidad\"]\n",
    "        \n",
    "        ventas_mensuales[mes] += precio * cantidad\n",
    "    \n",
    "    return dict(ventas_mensuales)\n",
    "\n",
    "def listar_ventas_mensuales(ventas):\n",
    "    for mes, ventas_totales in sorted(ventas.items()):\n",
    "        print(f\"{mes}: ${ventas_totales:.2f} en ventas\")\n",
    "\n",
    "# Asegúrate de tener datos correctamente formateados\n",
    "datos = [\n",
    "    {\"fecha\": \"2024-08-27\", \"producto\": \"Mirinda\", \"precio\": 1510, \"cantidad\": 14},\n",
    "    {\"fecha\": \"2024-08-27\", \"producto\": \"Mirinda\", \"precio\": 1560, \"cantidad\": 12},\n",
    "    {\"fecha\": \"2024-08-28\", \"producto\": \"Torasso\", \"precio\": 940, \"cantidad\": 8},\n",
    "    {\"fecha\": \"2024-08-29\", \"producto\": \"Pepsi Cola\", \"precio\": 1210, \"cantidad\": 10},\n",
    "    # Agregar más productos según sea necesario\n",
    "]\n",
    "\n",
    "# Calcular las ventas por mes\n",
    "ventas = ventas_por_mes(datos)\n",
    "\n",
    "# Listar las ventas mensuales\n",
    "listar_ventas_mensuales(ventas)\n"
   ]
  },
  {
   "cell_type": "markdown",
   "metadata": {},
   "source": [
    "### Ejercicio 7: Informe general\n",
    "\n",
    "Mostrar un listado de productos ordenados alfabeticamente que contengan el precio promedio, la cantidad de unidades vendidas y el importe total vendido para cada producto"
   ]
  },
  {
   "cell_type": "code",
   "execution_count": 18,
   "metadata": {},
   "outputs": [
    {
     "name": "stdout",
     "output_type": "stream",
     "text": [
      "Informe de Ventas:\n",
      "-------------------\n",
      "Mirinda: $39860.00 en ventas, 26 unidades vendidas\n",
      "Torasso: $7520.00 en ventas, 8 unidades vendidas\n",
      "Pepsi Cola: $12100.00 en ventas, 10 unidades vendidas\n",
      "-------------------\n",
      "Total General: $59480.00 en ventas, 44 unidades vendidas\n"
     ]
    }
   ],
   "source": [
    "def resumen_ventas(datos):\n",
    "    resumen = {}\n",
    "    \n",
    "    for registro in datos:\n",
    "        producto = registro[\"producto\"]\n",
    "        precio = registro[\"precio\"]\n",
    "        cantidad = registro[\"cantidad\"]\n",
    "        \n",
    "        if producto in resumen:\n",
    "            resumen[producto][\"total_ventas\"] += precio * cantidad\n",
    "            resumen[producto][\"total_unidades\"] += cantidad\n",
    "        else:\n",
    "            resumen[producto] = {\n",
    "                \"total_ventas\": precio * cantidad,\n",
    "                \"total_unidades\": cantidad\n",
    "            }\n",
    "    \n",
    "    return resumen\n",
    "\n",
    "def informe_ventas(resumen):\n",
    "    total_ventas_general = 0\n",
    "    total_unidades_general = 0\n",
    "    \n",
    "    print(\"Informe de Ventas:\")\n",
    "    print(\"-------------------\")\n",
    "    \n",
    "    for producto, datos_producto in resumen.items():\n",
    "        total_ventas_general += datos_producto[\"total_ventas\"]\n",
    "        total_unidades_general += datos_producto[\"total_unidades\"]\n",
    "        \n",
    "        print(f\"{producto}: ${datos_producto['total_ventas']:.2f} en ventas, {datos_producto['total_unidades']} unidades vendidas\")\n",
    "    \n",
    "    print(\"-------------------\")\n",
    "    print(f\"Total General: ${total_ventas_general:.2f} en ventas, {total_unidades_general} unidades vendidas\")\n",
    "\n",
    "# Calcular el resumen de ventas\n",
    "resumen = resumen_ventas(datos)\n",
    "\n",
    "# Generar el informe de ventas\n",
    "informe_ventas(resumen)\n"
   ]
  }
 ],
 "metadata": {
  "kernelspec": {
   "display_name": "Python 3",
   "language": "python",
   "name": "python3"
  },
  "language_info": {
   "codemirror_mode": {
    "name": "ipython",
    "version": 3
   },
   "file_extension": ".py",
   "mimetype": "text/x-python",
   "name": "python",
   "nbconvert_exporter": "python",
   "pygments_lexer": "ipython3",
   "version": "3.12.5"
  }
 },
 "nbformat": 4,
 "nbformat_minor": 2
}
