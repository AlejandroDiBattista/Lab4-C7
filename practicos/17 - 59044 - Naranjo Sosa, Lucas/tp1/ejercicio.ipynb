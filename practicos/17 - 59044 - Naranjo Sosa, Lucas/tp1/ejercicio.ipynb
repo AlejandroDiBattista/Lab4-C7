{
 "cells": [
  {
   "cell_type": "markdown",
   "metadata": {},
   "source": [
    "# Trabajo práctico 1\n",
    "\n"
   ]
  },
  {
   "cell_type": "markdown",
   "metadata": {},
   "source": [
    "## Ejercicio 1 \n",
    "\n",
    "Escribe una función en Python que procese una lista de cadenas de texto y realice las siguientes acciones:\n",
    "\n",
    "1. Tomar una lista de frases y convertir cada frase en una lista de palabras.\n",
    "1. Luego, debe crear una nueva lista que contenga la cantidad de palabras en cada frase.\n",
    "1. Tambien debe crear un lista que contenga la cantidad de caracteres en cada frase.\n",
    "1. Finalmente, debe imprimir cada frase original junto con la cantidad de palabras que contiene.\n",
    "Ejemplo de uso:\n",
    "```python\n",
    "    frases = [\n",
    "        \"Python es un lenguaje de programación\",\n",
    "        \"Me gusta resolver problemas con código\",\n",
    "        \"Las listas y los bucles son muy útiles\"\n",
    "    ]\n",
    "\n",
    "    procesar_frases(frases)\n",
    "```\n",
    "\n",
    "ejemplo de salida:\n",
    "```bash\n",
    "    La frase: \"Python es un...\"\n",
    "    tiene 6 palabras y 38 caracteres\n",
    "```\n"
   ]
  },
  {
   "cell_type": "code",
   "execution_count": 3,
   "metadata": {},
   "outputs": [
    {
     "name": "stdout",
     "output_type": "stream",
     "text": [
      "La frase: \"max verstappen el mejor piloto del mundo\"  tiene 7 palabras y 40 caracteres\n",
      "La frase: \"El señor de los anillos es lo mejor\"  tiene 8 palabras y 35 caracteres\n",
      "La frase: \"Aguante San Martin\"  tiene 3 palabras y 18 caracteres\n",
      "////////////////////////////////\n",
      "lista de cantidad de caracteres: [40, 35, 18]\n",
      "lista de cantidad de palabras: [7, 8, 3]\n"
     ]
    }
   ],
   "source": [
    "def procesar_frases(frases):\n",
    "    cantidad_palabras = []\n",
    "    cantidad_caracteres = []\n",
    "\n",
    "    for frase in frases:\n",
    "        palabras = frase.split()\n",
    "        num_palabras = len(palabras)\n",
    "        num_caracteres = len(frase)\n",
    "        cantidad_palabras.append(num_palabras)\n",
    "        cantidad_caracteres.append(num_caracteres)\n",
    "        print(f'La frase: \"{frase}\"  tiene {num_palabras} palabras y {num_caracteres} caracteres')\n",
    "    print (\"////////////////////////////////\")\n",
    "    print(f\"lista de cantidad de caracteres: {cantidad_caracteres}\")\n",
    "    print(f\"lista de cantidad de palabras: {cantidad_palabras}\")\n",
    "frases = [\n",
    "    \"max verstappen el mejor piloto del mundo\",\n",
    "    \"El señor de los anillos es lo mejor\",\n",
    "    \"Aguante San Martin\"\n",
    "]\n",
    "\n",
    "procesar_frases(frases)"
   ]
  },
  {
   "cell_type": "markdown",
   "metadata": {},
   "source": [
    "## Ejercicio 2\n",
    "\n",
    "Escribe una función en Python que encuentre los valores de `a`, `b`, y `c` para que la función cuadrática `f(x) = aX^2 + bX + c` pase exactamente por los siguientes puntos:\n",
    "\n",
    "| x  | y  |\n",
    "|---:|---:|\n",
    "|  0 |  0 |\n",
    "|  1 |  8 |\n",
    "|  2 | 12 |\n",
    "|  3 | 12 |\n",
    "|  5 |  0 |\n",
    "\n",
    "### Requisitos:\n",
    "- La función debe explorar posibles valores de `a`, `b`, y `c` utilizando un método de prueba y error.\n",
    "- Debe devolver los valores que hagan que la diferencia entre la función `f(x)` y los valores medidos `y` sea exactamente cero para cada punto.\n",
    "\n",
    "> **Pista**: Los valores de `a`, `b`, y `c` son números pequeños."
   ]
  },
  {
   "cell_type": "code",
   "execution_count": 5,
   "metadata": {},
   "outputs": [
    {
     "name": "stdout",
     "output_type": "stream",
     "text": [
      "Los valores que satisfacen la ecuación son: a = -2, b = 10, c = 0\n"
     ]
    }
   ],
   "source": [
    "def encontrar_valores():\n",
    "    rango = range(-10, 11)\n",
    "    puntos = [(0, 0), (1, 8), (2, 12), (3, 12), (5, 0)]\n",
    "    \n",
    "    for a in rango:\n",
    "        for b in rango:\n",
    "            for c in rango:\n",
    "                cumple = True\n",
    "                for x, y in puntos:\n",
    "                    if a * x**2 + b * x + c != y:\n",
    "                        cumple = False\n",
    "                        break\n",
    "                if cumple:\n",
    "                    return a, b, c\n",
    "    \n",
    "    return None\n",
    "\n",
    "valores = encontrar_valores()\n",
    "if valores:\n",
    "    a, b, c = valores\n",
    "    print(f\"Los valores que satisfacen la ecuación son: a = {a}, b = {b}, c = {c}\")\n",
    "else:\n",
    "    print(\"No se encontraron valores que satisfagan la ecuación.\")"
   ]
  }
 ],
 "metadata": {
  "kernelspec": {
   "display_name": "Python 3",
   "language": "python",
   "name": "python3"
  },
  "language_info": {
   "codemirror_mode": {
    "name": "ipython",
    "version": 3
   },
   "file_extension": ".py",
   "mimetype": "text/x-python",
   "name": "python",
   "nbconvert_exporter": "python",
   "pygments_lexer": "ipython3",
   "version": "3.12.5"
  }
 },
 "nbformat": 4,
 "nbformat_minor": 2
}
