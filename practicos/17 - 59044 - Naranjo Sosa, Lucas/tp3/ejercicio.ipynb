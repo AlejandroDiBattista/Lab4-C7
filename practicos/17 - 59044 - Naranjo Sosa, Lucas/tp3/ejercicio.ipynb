{
 "cells": [
  {
   "cell_type": "markdown",
   "metadata": {},
   "source": [
    "#TP3"
   ]
  },
  {
   "cell_type": "markdown",
   "metadata": {},
   "source": [
    "## Ejercicio 1: Cargar Datos de ventas.\n",
    "\n",
    "El archivo datos.dat contiene el registro de las ventas realizadas.\n",
    "\n",
    "Tiene un formato de ancho fijo:\n",
    "- fecha:    10 lugares\n",
    "- producto: 30 lugares\n",
    "- precio:   10 lugares\n",
    "- cantidad:  5 lugares\n",
    "\n",
    "hacer una funcion que carge los en una lista de diccionarios. \n",
    "\n",
    "nota: con \n",
    "```python\n",
    "lineas = open(\"datos.dat\", \"r\").readlines() \n",
    "```\n",
    "puede obtener la lista de string de todos los datos "
   ]
  },
  {
   "cell_type": "code",
   "execution_count": null,
   "metadata": {},
   "outputs": [],
   "source": [
    "def cargar_datos():\n",
    "    lineas = open(\"datos.dat\", \"r\").readlines()\n",
    "    \n",
    "    lista_ventas = []\n",
    "    \n",
    "    for linea in lineas:\n",
    "        fecha = linea[0:10].strip()           \n",
    "        producto = linea[10:40].strip()       \n",
    "        precio = linea[40:50].strip()         \n",
    "        cantidad = linea[50:55].strip()       \n",
    "        \n",
    "        venta = {\n",
    "            'fecha': fecha,\n",
    "            'producto': producto,\n",
    "            'precio': float(precio) if precio else 0,\n",
    "            'cantidad': int(cantidad) if cantidad else 0\n",
    "        }\n",
    "        \n",
    "        lista_ventas.append(venta)\n",
    "    \n",
    "    return lista_ventas\n",
    "\n",
    "datos = cargar_datos()\n",
    "print(datos)\n"
   ]
  },
  {
   "cell_type": "markdown",
   "metadata": {},
   "source": [
    "## Ejercicio 2: Calcular el total de ventas.\n",
    "\n",
    "Hacer una funcion que sume los importes vendidos (precio * cantidad) y las cantidades"
   ]
  },
  {
   "cell_type": "code",
   "execution_count": null,
   "metadata": {},
   "outputs": [],
   "source": [
    "def calcular_totales(datos):\n",
    "    importe=0\n",
    "    canttotal=0\n",
    "    for linea in datos:\n",
    "        resultado = linea['precio'] * linea['cantidad']\n",
    "        canttotal = canttotal + linea['cantidad']\n",
    "        importe = importe + resultado\n",
    "    return importe, canttotal\n",
    "\n",
    "importe, cantidad = calcular_totales(datos)\n",
    "\n",
    "print(f\"Las ventas fueron de {importe} en {cantidad} unidades\")"
   ]
  },
  {
   "cell_type": "markdown",
   "metadata": {},
   "source": [
    "## Ejercicio 3: Listar las unidades vendidas.\n",
    "\n",
    "Listar cuantas unidades se vendieron en total para cada producto"
   ]
  },
  {
   "cell_type": "code",
   "execution_count": null,
   "metadata": {},
   "outputs": [],
   "source": [
    "def unidades_vendidas(datos):\n",
    "    conteo ={}\n",
    "    for linea in datos:\n",
    "        producto=linea['producto']\n",
    "        cantidad=linea['cantidad']\n",
    "        if producto in conteo:\n",
    "            conteo[producto] += cantidad\n",
    "        else:\n",
    "            conteo[producto] = cantidad\n",
    "    return conteo\n",
    "\n",
    "def listar_ventas(ventas):\n",
    "    for producto in ventas:\n",
    "        print(f\"Se vendieron {ventas[producto]} unidades de {producto}\")\n",
    "\n",
    "ventas = unidades_vendidas(datos)\n",
    "listar_ventas(ventas)\n",
    "\n"
   ]
  },
  {
   "cell_type": "markdown",
   "metadata": {},
   "source": [
    "##  Ejercicio 4: Listar el precio promedio por producto.\n",
    "\n",
    "Hacer un listado del precio promedio por productos."
   ]
  },
  {
   "cell_type": "code",
   "execution_count": null,
   "metadata": {},
   "outputs": [],
   "source": [
    "def precio_promedio(datos):\n",
    "    ventatotal={}\n",
    "    cantidadtotal={}\n",
    "    promedio={}\n",
    "    for linea in datos:\n",
    "        producto=linea['producto']\n",
    "        precio=linea['precio']\n",
    "        cantidad=linea['cantidad']\n",
    "\n",
    "        if producto in ventatotal:\n",
    "            ventatotal[producto] += (cantidad *precio)\n",
    "            cantidadtotal[producto] += cantidad\n",
    "        else:\n",
    "            ventatotal[producto] = (cantidad * precio)\n",
    "            cantidadtotal[producto] = cantidad\n",
    "        \n",
    "        promedio[producto] = ventatotal[producto] / cantidadtotal[producto]\n",
    "    return promedio,cantidadtotal,ventatotal\n",
    "\n",
    "def listar_precios(precios,cantidadtotal,preciototal):\n",
    "    for producto in precios:\n",
    "        print(f\"El precio promedio de {producto} son: {precios[producto]:.2f}, con cantidad total de: {cantidadtotal[producto]} y el importe total de: {preciototal[producto]}\")\n",
    "\n",
    "precios,cantidadtotal,preciototal = precio_promedio(datos)\n",
    "listar_precios(precios,cantidadtotal,preciototal)"
   ]
  },
  {
   "cell_type": "markdown",
   "metadata": {},
   "source": [
    "### Ejercicio 5: Ranking de productos\n",
    "\n",
    "Realizar un listado de los 3 productos mas vendidos ordenados la cantidad de unidades vendidas (ordenadas de mayor a menor)\n"
   ]
  },
  {
   "cell_type": "code",
   "execution_count": null,
   "metadata": {},
   "outputs": [],
   "source": [
    "def ranking_productos(datos, top=3):\n",
    "    topordenado={}\n",
    "    topordenadofinal=[]\n",
    "\n",
    "    topordenado = [(producto,cantidad) for producto,cantidad in ventas.items()]\n",
    "    for i in range(len(topordenado)):\n",
    "        for j in range(0, len(topordenado) - i - 1):\n",
    "            if topordenado[j][1] < topordenado[j+1][1]:\n",
    "                aux=topordenado[j]\n",
    "                topordenado[j]=topordenado[j+1]\n",
    "                topordenado[j+1]=aux\n",
    "    \n",
    "    for i in range(top):\n",
    "        topordenadofinal.append(topordenado[i])\n",
    "    \n",
    "    return topordenadofinal\n",
    "\n",
    "def listar_ranking(ranking):\n",
    "    print(ranking)\n",
    "\n",
    "ranking = ranking_productos(datos)\n",
    "listar_ranking(ranking)"
   ]
  },
  {
   "cell_type": "markdown",
   "metadata": {},
   "source": [
    "### Ejercicio 6: Listar las ventas por mes\n",
    "\n",
    "Realizar un listado del total de unidades vendidas por productos separada por mes."
   ]
  },
  {
   "cell_type": "code",
   "execution_count": null,
   "metadata": {},
   "outputs": [],
   "source": [
    "def ventas_por_mes(datos):\n",
    "    fechasproducto={}\n",
    "    for linea in datos:\n",
    "        producto = linea[\"producto\"]\n",
    "        fechas = linea[\"fecha\"]\n",
    "        cantidad = linea[\"cantidad\"]\n",
    "        mes=\"\"\n",
    "\n",
    "        if producto not in fechasproducto:\n",
    "            fechasproducto[producto] = []\n",
    "            fechasproducto[producto].append((fechas, cantidad))\n",
    "        else:\n",
    "            fechasproducto[producto].append((fechas, cantidad))\n",
    "\n",
    "    cantidadmes = []\n",
    "    for producto, ventas in fechasproducto.items():\n",
    "        aux = {}\n",
    "        \n",
    "        for fecha, cantidad in ventas:\n",
    "            mes = fecha[:7]  \n",
    "            if mes not in aux:\n",
    "                aux[mes] = 0\n",
    "            \n",
    "            aux[mes] += cantidad\n",
    "\n",
    "        for mes, total in aux.items():\n",
    "            cantidadmes.append({\"producto\": producto, \"mes\": mes, \"cantidad\": total})\n",
    "    \n",
    "    return cantidadmes\n",
    "\n",
    "def listar_ventas_mensuales(ventas):\n",
    "    print(ventas)\n",
    "\n",
    "ventas = ventas_por_mes(datos)\n",
    "listar_ventas_mensuales(ventas)"
   ]
  },
  {
   "cell_type": "markdown",
   "metadata": {},
   "source": [
    "### Ejercicio 7: Informe general\n",
    "\n",
    "Mostrar un listado de productos ordenados alfabeticamente que contengan el precio promedio, la cantidad de unidades vendidas y el importe total vendido para cada producto"
   ]
  },
  {
   "cell_type": "code",
   "execution_count": 1,
   "metadata": {},
   "outputs": [
    {
     "ename": "NameError",
     "evalue": "name 'datos' is not defined",
     "output_type": "error",
     "traceback": [
      "\u001b[1;31m---------------------------------------------------------------------------\u001b[0m",
      "\u001b[1;31mNameError\u001b[0m                                 Traceback (most recent call last)",
      "Cell \u001b[1;32mIn[1], line 43\u001b[0m\n\u001b[0;32m     40\u001b[0m     lista \u001b[38;5;241m=\u001b[39m \u001b[38;5;28msorted\u001b[39m(datos, key\u001b[38;5;241m=\u001b[39m\u001b[38;5;28;01mlambda\u001b[39;00m x: x[\u001b[38;5;124m'\u001b[39m\u001b[38;5;124mProducto\u001b[39m\u001b[38;5;124m'\u001b[39m]) \u001b[38;5;66;03m#aqi estoy ordenando x producto\u001b[39;00m\n\u001b[0;32m     41\u001b[0m     \u001b[38;5;28mprint\u001b[39m(lista)\n\u001b[1;32m---> 43\u001b[0m resumen \u001b[38;5;241m=\u001b[39m resumen_ventas(\u001b[43mdatos\u001b[49m)\n\u001b[0;32m     44\u001b[0m informe_ventas(resumen)\n",
      "\u001b[1;31mNameError\u001b[0m: name 'datos' is not defined"
     ]
    }
   ],
   "source": [
    "def resumen_ventas(datos):\n",
    "    informe = {}\n",
    "    ventatotal={}\n",
    "    cantidadtotal={}\n",
    "    promedio={}\n",
    "    conteo ={}\n",
    "    for linea in datos:\n",
    "        producto=linea['producto']\n",
    "        precio=linea['precio']\n",
    "        cantidad=linea['cantidad']\n",
    "\n",
    "        if producto in ventatotal:\n",
    "            ventatotal[producto] += (cantidad *precio)\n",
    "            cantidadtotal[producto] += cantidad\n",
    "        else:\n",
    "            ventatotal[producto] = (cantidad * precio)\n",
    "            cantidadtotal[producto] = cantidad\n",
    "        \n",
    "        \n",
    "        promedio[producto] = ventatotal[producto] / cantidadtotal[producto]     #cantidadtotal es el importe total de cada producto\n",
    "\n",
    "        if producto in conteo:\n",
    "            conteo[producto] += cantidad\n",
    "        else:\n",
    "            conteo[producto] = cantidad\n",
    "\n",
    "    informe = []\n",
    "    for producto in cantidadtotal.keys():\n",
    "        informe.append({\n",
    "            'Producto': producto,\n",
    "            'Promedio': f\"{promedio[producto]:.2f}\",\n",
    "            'Unidades vendidas': cantidadtotal[producto],\n",
    "            'Importe total': ventatotal[producto]\n",
    "        })\n",
    "\n",
    "    return informe\n",
    "\n",
    "\n",
    "def informe_ventas(datos):\n",
    "    lista = sorted(datos, key=lambda x: x['Producto']) #aqi estoy ordenando x producto\n",
    "    print(lista)\n",
    "\n",
    "resumen = resumen_ventas(datos)\n",
    "informe_ventas(resumen)\n"
   ]
  }
 ],
 "metadata": {
  "kernelspec": {
   "display_name": "Python 3",
   "language": "python",
   "name": "python3"
  },
  "language_info": {
   "codemirror_mode": {
    "name": "ipython",
    "version": 3
   },
   "file_extension": ".py",
   "mimetype": "text/x-python",
   "name": "python",
   "nbconvert_exporter": "python",
   "pygments_lexer": "ipython3",
   "version": "3.12.5"
  }
 },
 "nbformat": 4,
 "nbformat_minor": 2
}
