{
 "cells": [
  {
   "cell_type": "markdown",
   "metadata": {},
   "source": [
    "#TP3"
   ]
  },
  {
   "cell_type": "markdown",
   "metadata": {},
   "source": [
    "## Ejercicio 1: Cargar Datos de ventas.\n",
    "\n",
    "El archivo datos.dat contiene el registro de las ventas realizadas.\n",
    "\n",
    "Tiene un formato de ancho fijo:\n",
    "- fecha:    10 lugares\n",
    "- producto: 30 lugares\n",
    "- precio:   10 lugares\n",
    "- cantidad:  5 lugares\n",
    "\n",
    "hacer una funcion que carge los en una lista de diccionarios. \n",
    "\n",
    "nota: con \n",
    "```python\n",
    "lineas = open(\"datos.dat\", \"r\").readlines() \n",
    "```\n",
    "puede obtener la lista de string de todos los datos "
   ]
  },
  {
   "cell_type": "code",
   "execution_count": 84,
   "metadata": {},
   "outputs": [
    {
     "name": "stdout",
     "output_type": "stream",
     "text": [
      "{'fecha': '2024-08-27', 'producto': 'Mirinda', 'precio': 1510.0, 'cantidad': 14}\n",
      "{'fecha': '2024-08-27', 'producto': 'Mirinda', 'precio': 1560.0, 'cantidad': 12}\n",
      "{'fecha': '2024-08-28', 'producto': 'Torasso', 'precio': 940.0, 'cantidad': 8}\n",
      "{'fecha': '2024-08-29', 'producto': 'Pepsi Cola', 'precio': 1210.0, 'cantidad': 10}\n",
      "{'fecha': '2024-08-30', 'producto': 'Mirinda', 'precio': 1520.0, 'cantidad': 1}\n",
      "{'fecha': '2024-09-01', 'producto': 'Mirinda', 'precio': 1550.0, 'cantidad': 15}\n",
      "{'fecha': '2024-09-01', 'producto': 'Sprite', 'precio': 810.0, 'cantidad': 4}\n",
      "{'fecha': '2024-09-02', 'producto': 'Coca Cola', 'precio': 1100.0, 'cantidad': 4}\n",
      "{'fecha': '2024-09-02', 'producto': 'Pepsi Cola', 'precio': 1220.0, 'cantidad': 13}\n",
      "{'fecha': '2024-09-02', 'producto': 'Torasso', 'precio': 910.0, 'cantidad': 5}\n",
      "{'fecha': '2024-09-02', 'producto': 'Torasso', 'precio': 920.0, 'cantidad': 3}\n",
      "{'fecha': '2024-09-03', 'producto': 'Coca Cola', 'precio': 1020.0, 'cantidad': 8}\n",
      "{'fecha': '2024-09-03', 'producto': 'Mirinda', 'precio': 1570.0, 'cantidad': 7}\n",
      "{'fecha': '2024-09-03', 'producto': 'Mirinda', 'precio': 1590.0, 'cantidad': 2}\n",
      "{'fecha': '2024-09-04', 'producto': 'Pepsi Cola', 'precio': 1220.0, 'cantidad': 13}\n",
      "{'fecha': '2024-09-05', 'producto': 'Mirinda', 'precio': 1500.0, 'cantidad': 3}\n",
      "{'fecha': '2024-09-05', 'producto': 'Pepsi Cola', 'precio': 1300.0, 'cantidad': 5}\n",
      "{'fecha': '2024-09-06', 'producto': 'Coca Cola', 'precio': 1080.0, 'cantidad': 1}\n",
      "{'fecha': '2024-09-06', 'producto': 'Sprite', 'precio': 860.0, 'cantidad': 12}\n",
      "{'fecha': '2024-09-06', 'producto': 'Torasso', 'precio': 930.0, 'cantidad': 3}\n",
      "{'fecha': '2024-09-07', 'producto': 'Coca Cola', 'precio': 1080.0, 'cantidad': 14}\n",
      "{'fecha': '2024-09-07', 'producto': 'Sprite', 'precio': 870.0, 'cantidad': 13}\n",
      "{'fecha': '2024-09-08', 'producto': 'Coca Cola', 'precio': 1040.0, 'cantidad': 10}\n",
      "{'fecha': '2024-09-08', 'producto': 'Mirinda', 'precio': 1580.0, 'cantidad': 2}\n",
      "{'fecha': '2024-09-08', 'producto': 'Pepsi Cola', 'precio': 1240.0, 'cantidad': 9}\n",
      "{'fecha': '2024-09-09', 'producto': 'Mirinda', 'precio': 1500.0, 'cantidad': 3}\n",
      "{'fecha': '2024-09-09', 'producto': 'Sprite', 'precio': 850.0, 'cantidad': 9}\n",
      "{'fecha': '2024-09-10', 'producto': 'Mirinda', 'precio': 1590.0, 'cantidad': 8}\n",
      "{'fecha': '2024-09-10', 'producto': 'Pepsi Cola', 'precio': 1250.0, 'cantidad': 12}\n",
      "{'fecha': '2024-09-11', 'producto': 'Sprite', 'precio': 810.0, 'cantidad': 6}\n",
      "{'fecha': '2024-09-11', 'producto': 'Sprite', 'precio': 820.0, 'cantidad': 14}\n",
      "{'fecha': '2024-09-12', 'producto': 'Coca Cola', 'precio': 1080.0, 'cantidad': 4}\n",
      "{'fecha': '2024-09-13', 'producto': 'Mirinda', 'precio': 1580.0, 'cantidad': 5}\n",
      "{'fecha': '2024-09-13', 'producto': 'Pepsi Cola', 'precio': 1250.0, 'cantidad': 13}\n",
      "{'fecha': '2024-09-14', 'producto': 'Coca Cola', 'precio': 1080.0, 'cantidad': 15}\n",
      "{'fecha': '2024-09-14', 'producto': 'Pepsi Cola', 'precio': 1270.0, 'cantidad': 14}\n",
      "{'fecha': '2024-09-15', 'producto': 'Coca Cola', 'precio': 1100.0, 'cantidad': 1}\n",
      "{'fecha': '2024-09-15', 'producto': 'Mirinda', 'precio': 1500.0, 'cantidad': 13}\n",
      "{'fecha': '2024-09-15', 'producto': 'Sprite', 'precio': 870.0, 'cantidad': 14}\n",
      "{'fecha': '2024-09-15', 'producto': 'Torasso', 'precio': 900.0, 'cantidad': 13}\n"
     ]
    }
   ],
   "source": [
    "def cargar_datos():\n",
    "\n",
    "    datos = []\n",
    "    with open(\"datos.dat\", \"r\") as archivo:\n",
    "        lineas = archivo.readlines() \n",
    "        for linea in lineas:\n",
    "            fecha = linea[0:10].strip()  \n",
    "            producto = linea[10:40].strip()  \n",
    "            precio = float(linea[40:50].strip())  \n",
    "            cantidad = int(linea[50:55].strip())  \n",
    "            registro = {\n",
    "                \"fecha\": fecha,\n",
    "                \"producto\": producto,\n",
    "                \"precio\": precio,\n",
    "                \"cantidad\": cantidad\n",
    "            }\n",
    "            datos.append(registro)\n",
    "    return datos  \n",
    "\n",
    "datos = cargar_datos()\n",
    "for registro in datos:\n",
    "    print(registro)"
   ]
  },
  {
   "cell_type": "markdown",
   "metadata": {},
   "source": [
    "## Ejercicio 2: Calcular el total de ventas.\n",
    "\n",
    "Hacer una funcion que sume los importes vendidos (precio * cantidad) y las cantidades"
   ]
  },
  {
   "cell_type": "code",
   "execution_count": 85,
   "metadata": {},
   "outputs": [
    {
     "name": "stdout",
     "output_type": "stream",
     "text": [
      "Las ventas fueron de $392730.00 en 335 unidades\n"
     ]
    }
   ],
   "source": [
    "def calcular_totales(datos):\n",
    "    importe_total = 0\n",
    "    cantidad_total = 0\n",
    "    \n",
    "    for registro in datos:\n",
    "        importe_total += registro['precio'] * registro['cantidad']\n",
    "        cantidad_total += registro['cantidad']\n",
    "    return importe_total, cantidad_total\n",
    "\n",
    "datos = cargar_datos()\n",
    "\n",
    "importe, cantidad = calcular_totales(datos)\n",
    "\n",
    "print(f\"Las ventas fueron de ${importe:.2f} en {cantidad} unidades\")"
   ]
  },
  {
   "cell_type": "markdown",
   "metadata": {},
   "source": [
    "## Ejercicio 3: Listar las unidades vendidas.\n",
    "\n",
    "Listar cuantas unidades se vendieron en total para cada producto"
   ]
  },
  {
   "cell_type": "code",
   "execution_count": 86,
   "metadata": {},
   "outputs": [
    {
     "name": "stdout",
     "output_type": "stream",
     "text": [
      "Producto: Mirinda, cantidad de unidades vendidas: 85\n",
      "Producto: Torasso, cantidad de unidades vendidas: 32\n",
      "Producto: Pepsi Cola, cantidad de unidades vendidas: 89\n",
      "Producto: Sprite, cantidad de unidades vendidas: 72\n",
      "Producto: Coca Cola, cantidad de unidades vendidas: 57\n"
     ]
    }
   ],
   "source": [
    "def unidades_vendidas(datos):\n",
    "\n",
    "    venta_de_productos = {}\n",
    "\n",
    "    for registro in datos:\n",
    "        producto = registro['producto']\n",
    "        cantidad = registro['cantidad']\n",
    "        if producto in venta_de_productos:\n",
    "            venta_de_productos[producto] += cantidad\n",
    "        else:\n",
    "            venta_de_productos[producto] = cantidad\n",
    "    return venta_de_productos\n",
    "\n",
    "def listar_ventas(ventas):\n",
    "\n",
    "    for producto, cantidad in ventas.items():\n",
    "        print(f\"Producto: {producto}, cantidad de unidades vendidas: {cantidad}\")\n",
    "\n",
    "datos = cargar_datos()\n",
    "\n",
    "ventas = unidades_vendidas(datos)\n",
    "\n",
    "listar_ventas(ventas)\n"
   ]
  },
  {
   "cell_type": "markdown",
   "metadata": {},
   "source": [
    "##  Ejercicio 4: Listar el precio promedio por producto.\n",
    "\n",
    "Hacer un listado del precio promedio por productos."
   ]
  },
  {
   "cell_type": "code",
   "execution_count": 87,
   "metadata": {},
   "outputs": [],
   "source": [
    "def precio_promedio(datos):\n",
    "\n",
    "    precio_total = {}\n",
    "    conteo_de_producto = {}\n",
    "\n",
    "    for registro in datos:\n",
    "        producto = registro['producto']\n",
    "        precio = registro['precio']\n",
    "        if producto in precio_total:\n",
    "            precio_total[producto] += precio\n",
    "            conteo_de_producto[producto] += 1\n",
    "        else:\n",
    "            precio_total\n",
    "            conteo_de_producto[producto] = 1\n",
    "    precio_promedio = {}\n",
    "    for producto in precio_total:\n",
    "        precio_promedio[producto] = precio_total[producto] / conteo_de_producto[producto]\n",
    "    return precio_promedio\n",
    "\n",
    "def listar_precios(precios):\n",
    "\n",
    "    for producto, promedio in precios.items():\n",
    "        print(f\"Producto: {producto}, Precio promedio del Producto: ${promedio:.2f}\")\n",
    "\n",
    "datos = cargar_datos()\n",
    "precios = precio_promedio(datos)\n",
    "listar_precios(precios)"
   ]
  },
  {
   "cell_type": "markdown",
   "metadata": {},
   "source": [
    "### Ejercicio 5: Ranking de productos\n",
    "\n",
    "Realizar un listado de los 3 productos mas vendidos ordenados la cantidad de unidades vendidas (ordenadas de mayor a menor)\n"
   ]
  },
  {
   "cell_type": "code",
   "execution_count": 88,
   "metadata": {},
   "outputs": [
    {
     "name": "stdout",
     "output_type": "stream",
     "text": [
      "Tres de los productos mas vendidos: \n",
      "Producto: Pepsi Cola, Unidades Vendidas: 89 unidades\n",
      "Producto: Mirinda, Unidades Vendidas: 85 unidades\n",
      "Producto: Sprite, Unidades Vendidas: 72 unidades\n"
     ]
    }
   ],
   "source": [
    "def ranking_productos(datos, top=3):\n",
    "\n",
    "    unidades_vendidas = {}\n",
    "    for dicc in datos:\n",
    "        producto = dicc['producto']\n",
    "        unidades = dicc['cantidad']\n",
    "\n",
    "        if producto in unidades_vendidas:\n",
    "            unidades_vendidas[producto] += unidades\n",
    "\n",
    "        else:\n",
    "            unidades_vendidas[producto] = unidades\n",
    "    \n",
    "    ranking = sorted(unidades_vendidas.items(), key=lambda x: x[1], reverse=True)\n",
    "    \n",
    "        \n",
    "\n",
    "    def listar_ranking(ranking):\n",
    "        print(\"Tres de los productos mas vendidos: \")\n",
    "        for (producto,cantidad) in ranking[0:3]:\n",
    "            print(f\"Producto: {producto}, Unidades Vendidas: {cantidad} unidades\")\n",
    "    listar_ranking(ranking)\n",
    "ranking_productos(datos)"
   ]
  },
  {
   "cell_type": "markdown",
   "metadata": {},
   "source": [
    "### Ejercicio 6: Listar las ventas por mes\n",
    "\n",
    "Realizar un listado del total de unidades vendidas por productos separada por mes."
   ]
  },
  {
   "cell_type": "code",
   "execution_count": 89,
   "metadata": {},
   "outputs": [
    {
     "name": "stdout",
     "output_type": "stream",
     "text": [
      "- El Producto: Mirinda,\n",
      "Mes: -2024-,\n",
      "Unidades Vendidas: 85\n",
      "- El Producto: Torasso,\n",
      "Mes: -2024-,\n",
      "Unidades Vendidas: 32\n",
      "- El Producto: Pepsi Cola,\n",
      "Mes: -2024-,\n",
      "Unidades Vendidas: 89\n",
      "- El Producto: Sprite,\n",
      "Mes: -2024-,\n",
      "Unidades Vendidas: 72\n",
      "- El Producto: Coca Cola,\n",
      "Mes: -2024-,\n",
      "Unidades Vendidas: 57\n"
     ]
    }
   ],
   "source": [
    "def ventas_por_mes(datos):\n",
    "\n",
    "    unidades_vendidas = {}\n",
    "    for dicc in datos:\n",
    "        producto = dicc['producto']\n",
    "        unidades = dicc['cantidad']\n",
    "        fecha = dicc['fecha']\n",
    "        mes_año = fecha[7:7] + '-' + fecha[0:5]\n",
    "        if producto not in unidades_vendidas:\n",
    "            unidades_vendidas[producto] = {}\n",
    "        if mes_año in unidades_vendidas[producto]:\n",
    "            unidades_vendidas[producto][mes_año] += unidades\n",
    "        else:\n",
    "            unidades_vendidas[producto][mes_año] = unidades\n",
    "    return unidades_vendidas\n",
    "        \n",
    "def listar_ventas_mensuales(ventas):\n",
    "        \n",
    "        for producto, meses in ventas.items():\n",
    "\n",
    "            for mes, unidades in meses.items():\n",
    "                print(f\"- El Producto: {producto},\\nMes: {mes},\\nUnidades Vendidas: {unidades}\")\n",
    "    \n",
    "ventas = ventas_por_mes(datos)\n",
    "listar_ventas_mensuales(ventas)"
   ]
  },
  {
   "cell_type": "markdown",
   "metadata": {},
   "source": [
    "### Ejercicio 7: Informe general\n",
    "\n",
    "Mostrar un listado de productos ordenados alfabeticamente que contengan el precio promedio, la cantidad de unidades vendidas y el importe total vendido para cada producto"
   ]
  },
  {
   "cell_type": "code",
   "execution_count": 90,
   "metadata": {},
   "outputs": [
    {
     "name": "stdout",
     "output_type": "stream",
     "text": [
      "\n",
      " -> El producto Coca Cola tiene un precio promedio de 1066.32, con una venta de 57 unidades y un importe total vendido 60780.00\n",
      "\n",
      " -> El producto Mirinda tiene un precio promedio de 1542.12, con una venta de 85 unidades y un importe total vendido 131080.00\n",
      "\n",
      " -> El producto Pepsi Cola tiene un precio promedio de 1241.69, con una venta de 89 unidades y un importe total vendido 110510.00\n",
      "\n",
      " -> El producto Sprite tiene un precio promedio de 847.78, con una venta de 72 unidades y un importe total vendido 61040.00\n",
      "\n",
      " -> El producto Torasso tiene un precio promedio de 916.25, con una venta de 32 unidades y un importe total vendido 29320.00\n"
     ]
    }
   ],
   "source": [
    "def resumen_ventas(datos):\n",
    "\n",
    "    unidades_vendidas = {}\n",
    "    importe_total = {}\n",
    "\n",
    "    for dicc in datos:\n",
    "        producto = dicc['producto']\n",
    "        precio = dicc['precio']\n",
    "        cantidad = dicc['cantidad']\n",
    "        if producto in importe_total:\n",
    "            importe_total[producto] += precio * cantidad\n",
    "            unidades_vendidas[producto] += cantidad\n",
    "            \n",
    "        else:\n",
    "            importe_total[producto] = precio * cantidad\n",
    "            unidades_vendidas[producto] = cantidad\n",
    "    resumen = {}   \n",
    "\n",
    "    for producto in importe_total:\n",
    "        promedio = importe_total[producto] / unidades_vendidas[producto]\n",
    "        resumen[producto] = {\n",
    "            'Precio Promedio': promedio,\n",
    "            'Unidades Vendidas': unidades_vendidas[producto],\n",
    "            'Importe Total': importe_total[producto]\n",
    "            \n",
    "        }    \n",
    "    return resumen \n",
    "def informe_ventas(datos):\n",
    "\n",
    "    orden = sorted(resumen.keys())\n",
    "    \n",
    "    for producto in orden:\n",
    "        info = resumen[producto]\n",
    "        print(f\"\\n -> El producto {producto} tiene precio promedio de {info['Precio Promedio']:.2f}, con venta de {info['Unidades Vendidas']} unidades y un importe total vendido {info['Importe Total']:.2f}\")\n",
    "resumen = resumen_ventas(datos)\n",
    "informe_ventas(resumen)\n"
   ]
  }
 ],
 "metadata": {
  "kernelspec": {
   "display_name": "Python 3",
   "language": "python",
   "name": "python3"
  },
  "language_info": {
   "codemirror_mode": {
    "name": "ipython",
    "version": 3
   },
   "file_extension": ".py",
   "mimetype": "text/x-python",
   "name": "python",
   "nbconvert_exporter": "python",
   "pygments_lexer": "ipython3",
   "version": "3.12.5"
  }
 },
 "nbformat": 4,
 "nbformat_minor": 2
}
