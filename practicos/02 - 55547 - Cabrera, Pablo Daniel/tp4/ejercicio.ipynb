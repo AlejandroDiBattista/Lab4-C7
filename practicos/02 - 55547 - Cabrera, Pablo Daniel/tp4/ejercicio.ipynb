{
 "cells": [
  {
   "cell_type": "markdown",
   "metadata": {},
   "source": [
    "# Simulación del Truco"
   ]
  },
  {
   "cell_type": "markdown",
   "metadata": {},
   "source": [
    "Las **cartas** deben registra el numero, palo y valor de la carta. \n",
    "El valor debe reflejar la jerarquía de las cartas en el juego del truco."
   ]
  },
  {
   "cell_type": "code",
   "execution_count": 5,
   "metadata": {},
   "outputs": [],
   "source": [
    "def calcular_valor(num, palo):\n",
    "    jer = {\n",
    "        \"Espada\": {1: 14, 7: 13},  \n",
    "        \"Basto\": {1: 12},          \n",
    "        \"Oro\": {7: 11},           \n",
    "    }\n",
    "    \n",
    "    if num in jer.get(palo, {}):\n",
    "        return jer[palo][num]\n",
    "    elif num in [3, 2]:\n",
    "        return 10 + num\n",
    "    else:\n",
    "        return num\n",
    "    \n",
    "class Carta:\n",
    "    def __init__(self, num, palo):\n",
    "        self.num = num\n",
    "        self.palo = palo\n",
    "        self.valor = calcular_valor(num, palo)\n",
    "\n",
    "    def __repr__(self):\n",
    "        return f\"Carta({self.num}, {self.palo}, Valor={self.valor})\"\n",
    "    \n",
    "c = Carta(1, \"oro\")"
   ]
  },
  {
   "cell_type": "markdown",
   "metadata": {},
   "source": [
    "**Mazo**: Representan las cartas españolas de 1 al 12, en los palos de oro, copa, espada y basto.\n",
    "\n",
    "Debe existir una función que permita barajar las cartas.\n",
    "y otra función que permita repartir las cartas a los jugadores."
   ]
  },
  {
   "cell_type": "code",
   "execution_count": null,
   "metadata": {},
   "outputs": [],
   "source": [
    "import random\n",
    "\n",
    "class Mazo:\n",
    "    def __init__(self):\n",
    "        palos = [\"Oro\", \"Copa\", \"Espada\", \"Basto\"]\n",
    "        nums = list(range(1, 8)) + list(range(10, 13))\n",
    "        self.cartas = [Carta(num, palo) for palo in palos for num in nums]\n",
    "\n",
    "    def mezclar(self):\n",
    "        random.shuffle(self.cartas)\n",
    "\n",
    "    def repartir(self, cant):\n",
    "        return [self.cartas.pop() for _ in range(cant)] if len(self.cartas) >= cant else None\n",
    "    \n",
    "m = Mazo()\n",
    "m.mezclar()\n",
    "print(m.repartir(3))"
   ]
  },
  {
   "cell_type": "markdown",
   "metadata": {},
   "source": [
    "**Jugador**: Deben tener un nombre y las cartas que tiene en la mano. Debe acumular los puntos ganados.\n",
    "\n",
    "Nota: Para simplificar el problema, el jugador elige la carta a jugar de forma aleatoria."
   ]
  },
  {
   "cell_type": "code",
   "execution_count": null,
   "metadata": {},
   "outputs": [],
   "source": [
    "class Jugador:\n",
    "    def __init__(self, nombre):\n",
    "        self.nombre = nombre\n",
    "        self.cartas = []\n",
    "        self.puntos = 0\n",
    "\n",
    "    def recibir_cartas(self, cartas):\n",
    "        self.cartas = cartas\n",
    "\n",
    "    def jugar_carta(self):\n",
    "        if self.cartas:\n",
    "            return self.cartas.pop(random.randint(0, len(self.cartas) - 1))\n",
    "        return None\n",
    "\n",
    "\n",
    "j = Jugador(\"Pablo\")\n",
    "j.recibir_cartas(m.repartir(3))\n",
    "print(j.jugar_carta())"
   ]
  },
  {
   "cell_type": "markdown",
   "metadata": {},
   "source": [
    "**Partida**: Debe tener dos jugadores, un mazo de cartas y un puntaje. Debe permitir jugar una carta por ronda y definir el ganador de la ronda. Debe permitir jugar hasta que se terminen las cartas del mazo."
   ]
  },
  {
   "cell_type": "code",
   "execution_count": null,
   "metadata": {},
   "outputs": [],
   "source": [
    "class Partida:\n",
    "    def __init__(self, j1, j2):\n",
    "        self.j1 = j1\n",
    "        self.j2 = j2\n",
    "        self.mazo = Mazo()\n",
    "        self.mazo.mezclar()\n",
    "\n",
    "    def jugar_ronda(self):\n",
    "        cartaJ1 = self.j1.jugar_carta()\n",
    "        cartaJ2 = self.j2.jugar_carta()\n",
    "\n",
    "        if cartaJ1 is None or cartaJ2 is None:\n",
    "            print(\"Uno de los jugadores no tiene cartas.\")\n",
    "            return\n",
    "\n",
    "        print(f\"{self.j1.nombre} juega {cartaJ1}\")\n",
    "        print(f\"{self.j2.nombre} juega {cartaJ2}\")\n",
    "\n",
    "        if  cartaJ1.valor > cartaJ2.valor:\n",
    "            print(f\"El jugador {self.j1.nombre} gano la ronda\")\n",
    "            self.j1.puntos += 1\n",
    "        elif cartaJ1.valor < cartaJ2.valor:\n",
    "            print(f\"El jugador {self.j2.nombre} gano la ronda\")\n",
    "            self.j2.puntos += 1\n",
    "        else:\n",
    "            print(\"Empate\")\n",
    "\n",
    "    def jugar(self):\n",
    "        while self.j1.puntos < 15 and self.j2.puntos < 15:\n",
    "            if len(self.mazo.cartas) < 6:\n",
    "                print(\"No hay cartas suficientes\")\n",
    "                break\n",
    "\n",
    "            self.j1.recibir_cartas(self.mazo.repartir(3))\n",
    "            self.j2.recibir_cartas(self.mazo.repartir(3))\n",
    "\n",
    "            for _ in range(3):\n",
    "                self.jugar_ronda()\n",
    "                if not self.mazo.cartas: \n",
    "                    break\n",
    "\n",
    "            print(f\"Puntos: {self.j1.nombre} [{self.j1.puntos}] | {self.j2.nombre} [{self.j2.puntos}]\")\n",
    "\n",
    "        win = self.j1 if self.j1.puntos >= 15 else self.j2\n",
    "        print(f\"\\nGANA LA PARTIDA EL JUGADOR: >>> {win.nombre} <<<\")\n",
    "\n",
    "p = Partida(Jugador(\"Pablo\"), Jugador(\"Daniel\"))\n",
    "p.jugar()"
   ]
  }
 ],
 "metadata": {
  "kernelspec": {
   "display_name": "Python 3",
   "language": "python",
   "name": "python3"
  },
  "language_info": {
   "codemirror_mode": {
    "name": "ipython",
    "version": 3
   },
   "file_extension": ".py",
   "mimetype": "text/x-python",
   "name": "python",
   "nbconvert_exporter": "python",
   "pygments_lexer": "ipython3",
   "version": "3.12.5"
  }
 },
 "nbformat": 4,
 "nbformat_minor": 2
}
