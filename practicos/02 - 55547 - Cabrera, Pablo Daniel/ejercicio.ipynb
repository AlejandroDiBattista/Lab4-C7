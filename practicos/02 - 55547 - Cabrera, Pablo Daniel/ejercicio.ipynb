{
 "cells": [
  {
   "cell_type": "markdown",
   "metadata": {},
   "source": [
    "# Trabajo práctico 1\n",
    "\n"
   ]
  },
  {
   "cell_type": "markdown",
   "metadata": {},
   "source": [
    "## Ejercicio 1 \n",
    "\n",
    "Escribe una función en Python que procese una lista de cadenas de texto y realice las siguientes acciones:\n",
    "\n",
    "1. Tomar una lista de frases y convertir cada frase en una lista de palabras.\n",
    "1. Luego, debe crear una nueva lista que contenga la cantidad de palabras en cada frase.\n",
    "1. Tambien debe crear un lista que contenga la cantidad de caracteres en cada frase.\n",
    "1. Finalmente, debe imprimir cada frase original junto con la cantidad de palabras que contiene.\n",
    "Ejemplo de uso:\n",
    "```python\n",
    "    frases = [\n",
    "        \"Python es un lenguaje de programación\",\n",
    "        \"Me gusta resolver problemas con código\",\n",
    "        \"Las listas y los bucles son muy útiles\"\n",
    "    ]\n",
    "\n",
    "    procesar_frases(frases)\n",
    "```\n",
    "\n",
    "ejemplo de salida:\n",
    "```bash\n",
    "    La frase: \"Python es un...\"\n",
    "    tiene 6 palabras y 38 caracteres\n",
    "```\n"
   ]
  },
  {
   "cell_type": "code",
   "execution_count": null,
   "metadata": {},
   "outputs": [],
   "source": [
    "# EJERCICIO I\n",
    "\n",
    "def procesarLista(lista):\n",
    "    palabrasPorFrase = []\n",
    "    letrasPorFrase = []\n",
    "\n",
    "    for frase in lista:\n",
    "        palabras = frase.split()\n",
    "\n",
    "        cantPalabras = len(palabras)\n",
    "        cantLetras = len(frase)\n",
    "\n",
    "        palabrasPorFrase.append(cantPalabras)\n",
    "        letrasPorFrase.append(cantLetras)\n",
    "\n",
    "        print(f\"La Frase '{frase}' tiene [{cantPalabras} palabras] y [{cantLetras} letras]\\n\")\n",
    "\n",
    "    return palabrasPorFrase, letrasPorFrase\n",
    "\n",
    "frases = [\n",
    "    \"Mi nombre es Pablo\",\n",
    "    \"Soy estudiante de programacion\",\n",
    "    \"Curso esta carrera en la Universidad Tecnologica Nacional\"\n",
    "]\n",
    "\n",
    "totalWords, totalLetters = procesarLista(frases)\n",
    "\n",
    "print(f\"Cantidad de Palabras por Frase {totalWords}\")\n",
    "print(f\"Cantidad de Letras por Frase {totalLetters}\")"
   ]
  },
  {
   "cell_type": "markdown",
   "metadata": {},
   "source": [
    "## Ejercicio 2\n",
    "\n",
    "Escribe una función en Python que encuentre los valores de `a`, `b`, y `c` para que la función cuadrática `f(x) = aX^2 + bX + c` pase exactamente por los siguientes puntos:\n",
    "\n",
    "| x  | y  |\n",
    "|---:|---:|\n",
    "|  0 |  0 |\n",
    "|  1 |  8 |\n",
    "|  2 | 12 |\n",
    "|  3 | 12 |\n",
    "|  5 |  0 |\n",
    "\n",
    "### Requisitos:\n",
    "- La función debe explorar posibles valores de `a`, `b`, y `c` utilizando un método de prueba y error.\n",
    "- Debe devolver los valores que hagan que la diferencia entre la función `f(x)` y los valores medidos `y` sea exactamente cero para cada punto.\n",
    "\n",
    "> **Pista**: Los valores de `a`, `b`, y `c` son números pequeños."
   ]
  },
  {
   "cell_type": "code",
   "execution_count": null,
   "metadata": {},
   "outputs": [],
   "source": [
    "# EJERCICIO II\n",
    "\n",
    "def f(x, a, b, c):\n",
    "    return a * x**2 + b * x + c\n",
    "\n",
    "puntos = [(0, 0), (1, 8), (2, 12), (3, 12), (5, 0)]\n",
    "\n",
    "def encontrarPuntos():\n",
    "    for a in range(-10, 11):  \n",
    "        for b in range(-10, 11):  \n",
    "            for c in range(-10, 11):  \n",
    "                solucion = True \n",
    "\n",
    "                for (x, y) in puntos:\n",
    "                    if f(x, a, b, c) != y:\n",
    "                        solucion = False\n",
    "                        break  \n",
    "                    \n",
    "                if solucion:\n",
    "                    return a, b, c\n",
    "    return None \n",
    "\n",
    "resultadoFinal = encontrarPuntos()\n",
    "\n",
    "if resultadoFinal:\n",
    "    print(f\"Los coeficientes son: a=[{resultadoFinal[0]}], b=[{resultadoFinal[1]}], c=[{resultadoFinal[2]}]\")\n",
    "else:\n",
    "    print(\"No se encontraron los puntos.\")"
   ]
  }
 ],
 "metadata": {
  "kernelspec": {
   "display_name": "Python 3",
   "language": "python",
   "name": "python3"
  },
  "language_info": {
   "codemirror_mode": {
    "name": "ipython",
    "version": 3
   },
   "file_extension": ".py",
   "mimetype": "text/x-python",
   "name": "python",
   "nbconvert_exporter": "python",
   "pygments_lexer": "ipython3",
   "version": "3.12.5"
  }
 },
 "nbformat": 4,
 "nbformat_minor": 2
}
