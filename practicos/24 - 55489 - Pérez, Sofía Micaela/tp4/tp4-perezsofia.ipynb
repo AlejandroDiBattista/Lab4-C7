{
 "cells": [
  {
   "cell_type": "markdown",
   "metadata": {},
   "source": [
    "# Simulación del Truco"
   ]
  },
  {
   "cell_type": "markdown",
   "metadata": {},
   "source": [
    "Las **cartas** deben registra el numero, palo y valor de la carta. \n",
    "El valor debe reflejar la jerarquía de las cartas en el juego del truco."
   ]
  },
  {
   "cell_type": "code",
   "execution_count": 1,
   "metadata": {},
   "outputs": [],
   "source": [
    "def calcular_valor(numero, palo):\n",
    "    pass \n",
    "class Carta:\n",
    "    def __init__(self, numero, palo):\n",
    "        pass \n",
    "\n",
    "c = Carta(1, \"oro\")\n"
   ]
  },
  {
   "cell_type": "code",
   "execution_count": 1,
   "metadata": {},
   "outputs": [],
   "source": [
    "class Carta:\n",
    "    def __init__(self, numero, palo):\n",
    "        self.numero = numero\n",
    "        self.palo = palo\n",
    "        self.valor = self.calcular_valor()\n",
    "\n",
    "    def calcular_valor(self):\n",
    "        jerarquia_truco = {\n",
    "            (1, 'espadas'): 14, (1, 'bastos'): 13, (7, 'espadas'): 12, (7, 'oros'): 11,\n",
    "            (3, 'espadas'): 10, (3, 'bastos'): 10, (3, 'oros'): 10, (3, 'copas'): 10,\n",
    "            (2, 'espadas'): 9, (2, 'bastos'): 9, (2, 'oros'): 9, (2, 'copas'): 9,\n",
    "            (1, 'oros'): 8, (1, 'copas'): 8, (12, 'espadas'): 7, (12, 'bastos'): 7,\n",
    "            (12, 'oros'): 7, (12, 'copas'): 7, (11, 'espadas'): 6, (11, 'bastos'): 6,\n",
    "            (11, 'oros'): 6, (11, 'copas'): 6, (10, 'espadas'): 5, (10, 'bastos'): 5,\n",
    "            (10, 'oros'): 5, (10, 'copas'): 5, (7, 'copas'): 4, (7, 'bastos'): 4,\n",
    "            (6, 'espadas'): 3, (6, 'bastos'): 3, (6, 'oros'): 3, (6, 'copas'): 3,\n",
    "            (5, 'espadas'): 2, (5, 'bastos'): 2, (5, 'oros'): 2, (5, 'copas'): 2,\n",
    "            (4, 'espadas'): 1, (4, 'bastos'): 1, (4, 'oros'): 1, (4, 'copas'): 1\n",
    "        }\n",
    "        return jerarquia_truco.get((self.numero, self.palo), 0)\n",
    "\n",
    "    def __str__(self):\n",
    "        return f\"{self.numero} de {self.palo} (Valor: {self.valor})\"\n"
   ]
  },
  {
   "cell_type": "markdown",
   "metadata": {},
   "source": [
    "**Mazo**: Representan las cartas españolas de 1 al 12, en los palos de oro, copa, espada y basto.\n",
    "\n",
    "Debe existir una función que permita barajar las cartas.\n",
    "y otra función que permita repartir las cartas a los jugadores."
   ]
  },
  {
   "cell_type": "code",
   "execution_count": 5,
   "metadata": {},
   "outputs": [
    {
     "name": "stdout",
     "output_type": "stream",
     "text": [
      "None\n"
     ]
    }
   ],
   "source": [
    "import random\n",
    "\n",
    "class Mazo:\n",
    "    def __init__(self):\n",
    "        pass\n",
    "    def mezclar(self):\n",
    "        pass\n",
    "    def repartir(self, cantidad):\n",
    "        pass\n",
    "\n",
    "m = Mazo()\n",
    "m.mezclar()\n",
    "print(m.repartir(3))"
   ]
  },
  {
   "cell_type": "code",
   "execution_count": null,
   "metadata": {},
   "outputs": [],
   "source": [
    "import random\n",
    "\n",
    "class Mazo:\n",
    "    def __init__(self):\n",
    "        palos = ['espadas', 'bastos', 'oros', 'copas']\n",
    "        numeros = [1, 2, 3, 4, 5, 6, 7, 10, 11, 12]\n",
    "        self.cartas = [Carta(numero, palo) for numero in numeros for palo in palos]\n",
    "        self.barajar()\n",
    "\n",
    "    def barajar(self):\n",
    "        random.shuffle(self.cartas)\n",
    "\n",
    "    def repartir(self):\n",
    "        return [self.cartas.pop() for _ in range(3)]\n"
   ]
  },
  {
   "cell_type": "markdown",
   "metadata": {},
   "source": [
    "**Jugador**: Deben tener un nombre y las cartas que tiene en la mano. Debe acumular los puntos ganados.\n",
    "\n",
    "Nota: Para simplificar el problema, el jugador elige la carta a jugar de forma aleatoria."
   ]
  },
  {
   "cell_type": "code",
   "execution_count": 6,
   "metadata": {},
   "outputs": [
    {
     "name": "stdout",
     "output_type": "stream",
     "text": [
      "None\n"
     ]
    }
   ],
   "source": [
    "class Jugador:\n",
    "    pass\n",
    "    def __init__(self, nombre):\n",
    "        pass\n",
    "    def recibir_cartas(self, cartas):\n",
    "        pass\n",
    "    \n",
    "    def jugar_carta(self):\n",
    "        pass\n",
    "\n",
    "j = Jugador(\"Juan\")\n",
    "j.recibir_cartas(m.repartir(3))\n",
    "print(j.jugar_carta())"
   ]
  },
  {
   "cell_type": "code",
   "execution_count": null,
   "metadata": {},
   "outputs": [],
   "source": [
    "class Jugador:\n",
    "    pass\n",
    "    def __init__(self, nombre):\n",
    "        self.nombre = nombre\n",
    "        self.mano = []\n",
    "        self.puntos = 0\n",
    "\n",
    "    def recibir_cartas(self, cartas):\n",
    "        self.mano = cartas\n",
    "\n",
    "    def jugar_carta(self):\n",
    "        return self.mano.pop()\n",
    "\n",
    "    def __str__(self):\n",
    "        return f\"{self.nombre} tiene {self.puntos} puntos\"\n",
    "    \n",
    "\n"
   ]
  },
  {
   "cell_type": "markdown",
   "metadata": {},
   "source": [
    "**Partida**: Debe tener dos jugadores, un mazo de cartas y un puntaje. Debe permitir jugar una carta por ronda y definir el ganador de la ronda. Debe permitir jugar hasta que se terminen las cartas del mazo."
   ]
  },
  {
   "cell_type": "code",
   "execution_count": null,
   "metadata": {},
   "outputs": [],
   "source": [
    "class Partida:\n",
    "    def __init__(self, jugador1, jugador2):\n",
    "        pass\n",
    "\n",
    "    def jugar_ronda(self):\n",
    "\n",
    "        pass \n",
    "\n",
    "    def jugar(self):\n",
    "        # Mientras que ningun jugador acumule 15 puntos.abs\n",
    "        # Mezclar el mazo\n",
    "        # Repartir 3 cartas a cada jugador\n",
    "        # Jugar ronda\n",
    "        # Revisar quien gano la ronda\n",
    "        # Sumar puntos\n",
    "        pass\n",
    "\n",
    "p = Partida(Jugador(\"Juan\"), Jugador(\"Pedro\"))\n",
    "p.jugar()"
   ]
  },
  {
   "cell_type": "code",
   "execution_count": 2,
   "metadata": {},
   "outputs": [],
   "source": [
    "class Partida:\n",
    "    def __init__(self, jugador1, jugador2):\n",
    "        self.jugador1 = jugador1\n",
    "        self.jugador2 = jugador2\n",
    "        self.mazo = Mazo()\n",
    "\n",
    "    def jugar_ronda(self):\n",
    "        carta1 = self.jugador1.jugar_carta()\n",
    "        carta2 = self.jugador2.jugar_carta()\n",
    "        print(f\"{self.jugador1.nombre} juega {carta1}\")\n",
    "        print(f\"{self.jugador2.nombre} juega {carta2}\")\n",
    "\n",
    "        if carta1.valor > carta2.valor:\n",
    "            print(f\"Gana la ronda {self.jugador1.nombre}\")\n",
    "            self.jugador1.puntos += 1\n",
    "        elif carta2.valor > carta1.valor:\n",
    "            print(f\"Gana la ronda {self.jugador2.nombre}\")\n",
    "            self.jugador2.puntos += 1\n",
    "        else:\n",
    "            print(\"Empate en esta ronda\")\n",
    "\n",
    "    def jugar(self):\n",
    "        while self.jugador1.puntos < 15 and self.jugador2.puntos < 15:\n",
    "            self.mazo.barajar()\n",
    "            self.jugador1.recibir_cartas(self.mazo.repartir())\n",
    "            self.jugador2.recibir_cartas(self.mazo.repartir())\n",
    "            print(\"\\nNueva partida, reparten cartas\")\n",
    "\n",
    "            for _ in range(3):\n",
    "                self.jugar_ronda()\n",
    "\n",
    "            print(f\"Puntaje: {self.jugador1.nombre} {self.jugador1.puntos} - {self.jugador2.puntos} {self.jugador2.nombre}\")\n",
    "\n",
    "        if self.jugador1.puntos >= 15:\n",
    "            print(f\"{self.jugador1.nombre} gana el juego\")\n",
    "        elif self.jugador2.puntos >= 15:\n",
    "            print(f\"{self.jugador2.nombre} gana el juego\")\n"
   ]
  }
 ],
 "metadata": {
  "kernelspec": {
   "display_name": "Python 3",
   "language": "python",
   "name": "python3"
  },
  "language_info": {
   "codemirror_mode": {
    "name": "ipython",
    "version": 3
   },
   "file_extension": ".py",
   "mimetype": "text/x-python",
   "name": "python",
   "nbconvert_exporter": "python",
   "pygments_lexer": "ipython3",
   "version": "3.12.6"
  }
 },
 "nbformat": 4,
 "nbformat_minor": 2
}
