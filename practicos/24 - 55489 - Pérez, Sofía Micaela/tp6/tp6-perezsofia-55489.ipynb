{
 "cells": [
  {
   "cell_type": "markdown",
   "metadata": {},
   "source": [
    "# TP6\n",
    "\n",
    "### `Resolver usando Pandas`\n",
    "\n",
    "Resolver los ejercicios del TP3 utilizando la librería Pandas."
   ]
  },
  {
   "cell_type": "markdown",
   "metadata": {},
   "source": [
    "### Ejercicio 1: Cargar Datos de ventas.\n",
    "\n",
    "El archivo datos.dat contiene el registro de las ventas realizadas.\n",
    "\n",
    "Tiene un formato de ancho fijo:\n",
    "- `fecha`:    10 lugares\n",
    "- `producto`: 30 lugares\n",
    "- `precio`:   10 lugares\n",
    "- `cantidad`:  5 lugares\n",
    "\n",
    "Hacer una funcion que cargue los datos en un DataFrame de Pandas."
   ]
  },
  {
   "cell_type": "code",
   "execution_count": null,
   "metadata": {},
   "outputs": [],
   "source": [
    "def cargar_datos():\n",
    "    pass # Implementar la función cargar_datos\n",
    "\n",
    "datos = cargar_datos()\n",
    "datos "
   ]
  },
  {
   "cell_type": "code",
   "execution_count": 3,
   "metadata": {},
   "outputs": [],
   "source": [
    "class Producto:\n",
    "    def __init__(self, codigo, nombre, precio, tipo, cantidad):\n",
    "        assert len(codigo) == 4 and codigo.isdigit(), \"Código debe ser de 4 dígitos\"\n",
    "        assert 1 <= len(nombre) <= 100, \"Nombre debe tener entre 1 y 100 caracteres\"\n",
    "        assert 10 <= precio <= 10000, \"Precio debe estar entre 10 y 10,000\"\n",
    "        assert 0 <= len(tipo) <= 20, \"Tipo debe tener entre 0 y 20 caracteres\"\n",
    "        assert 0 <= cantidad <= 1000, \"Cantidad debe\""
   ]
  },
  {
   "cell_type": "markdown",
   "metadata": {},
   "source": [
    "### Ejercicio 2: Calcular el total de ventas.\n",
    "Hacer una función que sume los importes vendidos (precio * cantidad) y las cantidades.\n"
   ]
  },
  {
   "cell_type": "code",
   "execution_count": null,
   "metadata": {},
   "outputs": [],
   "source": [
    "def calcular_totales(datos):\n",
    "    pass # implementar\n",
    "\n",
    "importe, cantidad = calcular_totales(datos)\n",
    "\n",
    "print(f\"Las ventas fueron de ${importe:2.f} en {cantidad} unidades\")"
   ]
  },
  {
   "cell_type": "code",
   "execution_count": 4,
   "metadata": {},
   "outputs": [
    {
     "ename": "NameError",
     "evalue": "name 'datos' is not defined",
     "output_type": "error",
     "traceback": [
      "\u001b[1;31m---------------------------------------------------------------------------\u001b[0m",
      "\u001b[1;31mNameError\u001b[0m                                 Traceback (most recent call last)",
      "Cell \u001b[1;32mIn[4], line 12\u001b[0m\n\u001b[0;32m      9\u001b[0m     \u001b[38;5;28;01mreturn\u001b[39;00m total_importe, total_cantidad\n\u001b[0;32m     11\u001b[0m \u001b[38;5;66;03m# Uso\u001b[39;00m\n\u001b[1;32m---> 12\u001b[0m importe, cantidad \u001b[38;5;241m=\u001b[39m calcular_totales(\u001b[43mdatos\u001b[49m)\n\u001b[0;32m     14\u001b[0m \u001b[38;5;28mprint\u001b[39m(\u001b[38;5;124mf\u001b[39m\u001b[38;5;124m\"\u001b[39m\u001b[38;5;124mLas ventas fueron de $\u001b[39m\u001b[38;5;132;01m{\u001b[39;00mimporte\u001b[38;5;132;01m:\u001b[39;00m\u001b[38;5;124m.2f\u001b[39m\u001b[38;5;132;01m}\u001b[39;00m\u001b[38;5;124m en \u001b[39m\u001b[38;5;132;01m{\u001b[39;00mcantidad\u001b[38;5;132;01m}\u001b[39;00m\u001b[38;5;124m unidades\u001b[39m\u001b[38;5;124m\"\u001b[39m)\n",
      "\u001b[1;31mNameError\u001b[0m: name 'datos' is not defined"
     ]
    }
   ],
   "source": [
    "def calcular_totales(datos):\n",
    "    total_importe = 0\n",
    "    total_cantidad = 0\n",
    "    \n",
    "    for producto in datos:\n",
    "        total_importe += producto.valor_total()  # Sumar el importe (precio * cantidad)\n",
    "        total_cantidad += producto.cantidad      # Sumar la cantidad de unidades\n",
    "\n",
    "    return total_importe, total_cantidad\n",
    "\n",
    "# Uso\n",
    "importe, cantidad = calcular_totales(datos)\n",
    "\n",
    "print(f\"Las ventas fueron de ${importe:.2f} en {cantidad} unidades\")\n"
   ]
  },
  {
   "cell_type": "markdown",
   "metadata": {},
   "source": [
    "### Ejercicio 3: Listar las unidades vendidas.\n",
    "Listar cuántas unidades se vendieron en total para cada producto\n"
   ]
  },
  {
   "cell_type": "code",
   "execution_count": null,
   "metadata": {},
   "outputs": [],
   "source": [
    "def unidades_vendidas(datos):\n",
    "    pass\n",
    "\n",
    "unidades_vendidas(datos)"
   ]
  },
  {
   "cell_type": "code",
   "execution_count": 5,
   "metadata": {},
   "outputs": [
    {
     "ename": "ModuleNotFoundError",
     "evalue": "No module named 'pandas'",
     "output_type": "error",
     "traceback": [
      "\u001b[1;31m---------------------------------------------------------------------------\u001b[0m",
      "\u001b[1;31mModuleNotFoundError\u001b[0m                       Traceback (most recent call last)",
      "Cell \u001b[1;32mIn[5], line 1\u001b[0m\n\u001b[1;32m----> 1\u001b[0m \u001b[38;5;28;01mimport\u001b[39;00m \u001b[38;5;21;01mpandas\u001b[39;00m \u001b[38;5;28;01mas\u001b[39;00m \u001b[38;5;21;01mpd\u001b[39;00m\n\u001b[0;32m      3\u001b[0m \u001b[38;5;28;01mdef\u001b[39;00m \u001b[38;5;21munidades_vendidas\u001b[39m(datos):\n\u001b[0;32m      4\u001b[0m     \u001b[38;5;66;03m# Crear una lista de diccionarios a partir de los objetos Producto\u001b[39;00m\n\u001b[0;32m      5\u001b[0m     data \u001b[38;5;241m=\u001b[39m {\n\u001b[0;32m      6\u001b[0m         \u001b[38;5;124m\"\u001b[39m\u001b[38;5;124mcodigo\u001b[39m\u001b[38;5;124m\"\u001b[39m: [producto\u001b[38;5;241m.\u001b[39mcodigo \u001b[38;5;28;01mfor\u001b[39;00m producto \u001b[38;5;129;01min\u001b[39;00m datos],\n\u001b[0;32m      7\u001b[0m         \u001b[38;5;124m\"\u001b[39m\u001b[38;5;124mnombre\u001b[39m\u001b[38;5;124m\"\u001b[39m: [producto\u001b[38;5;241m.\u001b[39mnombre \u001b[38;5;28;01mfor\u001b[39;00m producto \u001b[38;5;129;01min\u001b[39;00m datos],\n\u001b[0;32m      8\u001b[0m         \u001b[38;5;124m\"\u001b[39m\u001b[38;5;124mcantidad\u001b[39m\u001b[38;5;124m\"\u001b[39m: [producto\u001b[38;5;241m.\u001b[39mcantidad \u001b[38;5;28;01mfor\u001b[39;00m producto \u001b[38;5;129;01min\u001b[39;00m datos]\n\u001b[0;32m      9\u001b[0m     }\n",
      "\u001b[1;31mModuleNotFoundError\u001b[0m: No module named 'pandas'"
     ]
    }
   ],
   "source": [
    "import pandas as pd\n",
    "\n",
    "def unidades_vendidas(datos):\n",
    "    # Crear una lista de diccionarios a partir de los objetos Producto\n",
    "    data = {\n",
    "        \"codigo\": [producto.codigo for producto in datos],\n",
    "        \"nombre\": [producto.nombre for producto in datos],\n",
    "        \"cantidad\": [producto.cantidad for producto in datos]\n",
    "    }\n",
    "\n",
    "    # Crear un DataFrame con los datos\n",
    "    df = pd.DataFrame(data)\n",
    "\n",
    "    # Agrupar por nombre y sumar las cantidades\n",
    "    unidades_por_producto = df.groupby(\"nombre\")[\"cantidad\"].sum()\n",
    "\n",
    "    # Imprimir el resultado\n",
    "    print(unidades_por_producto)\n",
    "\n",
    "# Uso (con una lista de objetos Producto)\n",
    "datos = [\n",
    "    Producto(codigo=\"1234\", nombre=\"Paracetamol\", precio=50, tipo=\"Medicamento\", cantidad=20),\n",
    "    Producto(codigo=\"1235\", nombre=\"Paracetamol\", precio=50, tipo=\"Medicamento\", cantidad=10),\n",
    "    Producto(codigo=\"5678\", nombre=\"Ibuprofeno\", precio=40, tipo=\"Medicamento\", cantidad=5),\n",
    "    Producto(codigo=\"9101\", nombre=\"Jeringa\", precio=25, tipo=\"Insumo\", cantidad=100)\n",
    "]\n",
    "\n",
    "unidades_vendidas(datos)\n"
   ]
  },
  {
   "cell_type": "markdown",
   "metadata": {},
   "source": [
    "###  Ejercicio 4: Listar el precio promedio por producto.\n",
    "Hacer un listado del precio promedio por producto.\n"
   ]
  },
  {
   "cell_type": "code",
   "execution_count": null,
   "metadata": {},
   "outputs": [],
   "source": [
    "def precio_promedio(datos):\n",
    "    pass # Implementar\n",
    "\n",
    "precio_promedio(datos)"
   ]
  },
  {
   "cell_type": "code",
   "execution_count": 6,
   "metadata": {},
   "outputs": [
    {
     "ename": "ModuleNotFoundError",
     "evalue": "No module named 'pandas'",
     "output_type": "error",
     "traceback": [
      "\u001b[1;31m---------------------------------------------------------------------------\u001b[0m",
      "\u001b[1;31mModuleNotFoundError\u001b[0m                       Traceback (most recent call last)",
      "Cell \u001b[1;32mIn[6], line 1\u001b[0m\n\u001b[1;32m----> 1\u001b[0m \u001b[38;5;28;01mimport\u001b[39;00m \u001b[38;5;21;01mpandas\u001b[39;00m \u001b[38;5;28;01mas\u001b[39;00m \u001b[38;5;21;01mpd\u001b[39;00m\n\u001b[0;32m      3\u001b[0m \u001b[38;5;28;01mdef\u001b[39;00m \u001b[38;5;21mprecio_promedio\u001b[39m(datos):\n\u001b[0;32m      4\u001b[0m     \u001b[38;5;66;03m# Crear una lista de diccionarios a partir de los objetos Producto\u001b[39;00m\n\u001b[0;32m      5\u001b[0m     data \u001b[38;5;241m=\u001b[39m {\n\u001b[0;32m      6\u001b[0m         \u001b[38;5;124m\"\u001b[39m\u001b[38;5;124mcodigo\u001b[39m\u001b[38;5;124m\"\u001b[39m: [producto\u001b[38;5;241m.\u001b[39mcodigo \u001b[38;5;28;01mfor\u001b[39;00m producto \u001b[38;5;129;01min\u001b[39;00m datos],\n\u001b[0;32m      7\u001b[0m         \u001b[38;5;124m\"\u001b[39m\u001b[38;5;124mnombre\u001b[39m\u001b[38;5;124m\"\u001b[39m: [producto\u001b[38;5;241m.\u001b[39mnombre \u001b[38;5;28;01mfor\u001b[39;00m producto \u001b[38;5;129;01min\u001b[39;00m datos],\n\u001b[0;32m      8\u001b[0m         \u001b[38;5;124m\"\u001b[39m\u001b[38;5;124mprecio\u001b[39m\u001b[38;5;124m\"\u001b[39m: [producto\u001b[38;5;241m.\u001b[39mprecio \u001b[38;5;28;01mfor\u001b[39;00m producto \u001b[38;5;129;01min\u001b[39;00m datos]\n\u001b[0;32m      9\u001b[0m     }\n",
      "\u001b[1;31mModuleNotFoundError\u001b[0m: No module named 'pandas'"
     ]
    }
   ],
   "source": [
    "import pandas as pd\n",
    "\n",
    "def precio_promedio(datos):\n",
    "    # Crear una lista de diccionarios a partir de los objetos Producto\n",
    "    data = {\n",
    "        \"codigo\": [producto.codigo for producto in datos],\n",
    "        \"nombre\": [producto.nombre for producto in datos],\n",
    "        \"precio\": [producto.precio for producto in datos]\n",
    "    }\n",
    "\n",
    "    # Crear un DataFrame con los datos\n",
    "    df = pd.DataFrame(data)\n",
    "\n",
    "    # Agrupar por nombre y calcular el precio promedio\n",
    "    precio_promedio_por_producto = df.groupby(\"nombre\")[\"precio\"].mean()\n",
    "\n",
    "    # Imprimir el resultado\n",
    "    print(precio_promedio_por_producto)\n",
    "\n",
    "# Uso (con una lista de objetos Producto)\n",
    "datos = [\n",
    "    Producto(codigo=\"1234\", nombre=\"Paracetamol\", precio=50, tipo=\"Medicamento\", cantidad=20),\n",
    "    Producto(codigo=\"1235\", nombre=\"Paracetamol\", precio=60, tipo=\"Medicamento\", cantidad=10),\n",
    "    Producto(codigo=\"5678\", nombre=\"Ibuprofeno\", precio=40, tipo=\"Medicamento\", cantidad=5),\n",
    "    Producto(codigo=\"9101\", nombre=\"Jeringa\", precio=25, tipo=\"Insumo\", cantidad=100)\n",
    "]\n",
    "\n",
    "precio_promedio(datos)\n"
   ]
  },
  {
   "cell_type": "markdown",
   "metadata": {},
   "source": [
    "### Ejercicio 5: Ranking de productos\n",
    "Realizar un listado de los 3 productos más vendidos ordenados por la cantidad de unidades vendidas (ordenadas de mayor a menor)\n"
   ]
  },
  {
   "cell_type": "code",
   "execution_count": null,
   "metadata": {},
   "outputs": [],
   "source": [
    "def ranking_productos(datos, top=3):\n",
    "    pass # Implementar\n",
    "\n",
    "ranking_productos(datos)"
   ]
  },
  {
   "cell_type": "code",
   "execution_count": null,
   "metadata": {},
   "outputs": [],
   "source": [
    "import pandas as pd\n",
    "\n",
    "def precio_promedio(datos):\n",
    "    # Crear una lista de diccionarios a partir de los objetos Producto\n",
    "    data = {\n",
    "        \"codigo\": [producto.codigo for producto in datos],\n",
    "        \"nombre\": [producto.nombre for producto in datos],\n",
    "        \"precio\": [producto.precio for producto in datos]\n",
    "    }\n",
    "\n",
    "    # Crear un DataFrame con los datos\n",
    "    df = pd.DataFrame(data)\n",
    "\n",
    "    # Agrupar por nombre y calcular el precio promedio\n",
    "    precio_promedio_por_producto = df.groupby(\"nombre\")[\"precio\"].mean()\n",
    "\n",
    "    # Imprimir el resultado\n",
    "    print(precio_promedio_por_producto)\n",
    "\n",
    "# Uso (con una lista de objetos Producto)\n",
    "datos = [\n",
    "    Producto(codigo=\"1234\", nombre=\"Paracetamol\", precio=50, tipo=\"Medicamento\", cantidad=20),\n",
    "    Producto(codigo=\"1235\", nombre=\"Paracetamol\", precio=60, tipo=\"Medicamento\", cantidad=10),\n",
    "    Producto(codigo=\"5678\", nombre=\"Ibuprofeno\", precio=40, tipo=\"Medicamento\", cantidad=5),\n",
    "    Producto(codigo=\"9101\", nombre=\"Jeringa\", precio=25, tipo=\"Insumo\", cantidad=100)\n",
    "]\n",
    "\n",
    "precio_promedio(datos)\n"
   ]
  },
  {
   "cell_type": "markdown",
   "metadata": {},
   "source": [
    "### Ejercicio 6: Listar las ventas por mes\n",
    "Realizar un listado del total de unidades vendidas por producto separado por mes.\n"
   ]
  },
  {
   "cell_type": "code",
   "execution_count": null,
   "metadata": {},
   "outputs": [],
   "source": [
    "def ventas_por_mes(datos):\n",
    "    pass # Implementar\n",
    "\n",
    "ventas_por_mes(datos)"
   ]
  },
  {
   "cell_type": "code",
   "execution_count": null,
   "metadata": {},
   "outputs": [],
   "source": [
    "def ventas_por_mes(datos):\n",
    "    # Crear un diccionario con la información relevante de cada venta\n",
    "    data = {\n",
    "        \"codigo\": [producto.codigo for producto in datos],\n",
    "        \"nombre\": [producto.nombre for producto in datos],\n",
    "        \"cantidad\": [producto.cantidad for producto in datos],\n",
    "        \"fecha\": [producto.fecha for producto in datos]\n",
    "    }\n",
    "\n",
    "    # Crear un DataFrame\n",
    "    df = pd.DataFrame(data)\n",
    "\n",
    "    # Convertir la columna de fechas en un tipo datetime\n",
    "    df['fecha'] = pd.to_datetime(df['fecha'])\n",
    "\n",
    "    # Crear una columna para el año y mes\n",
    "    df['mes'] = df['fecha'].dt.to_period('M')\n",
    "\n",
    "    # Agrupar por nombre de producto y mes, y sumar las cantidades vendidas\n",
    "    ventas_mensuales = df.groupby(['nombre', 'mes'])['cantidad'].sum().reset_index()\n",
    "\n",
    "    # Imprimir el resultado\n",
    "    print(ventas_mensuales)\n",
    "\n",
    "# Uso (con una lista de objetos Producto con fechas)\n",
    "datos = [\n",
    "    Producto(codigo=\"1234\", nombre=\"Paracetamol\", precio=50, tipo=\"Medicamento\", cantidad=20, fecha=\"2024-01-15\"),\n",
    "    Producto(codigo=\"1235\", nombre=\"Paracetamol\", precio=50, tipo=\"Medicamento\", cantidad=10, fecha=\"2024-01-20\"),\n",
    "    Producto(codigo=\"5678\", nombre=\"Ibuprofeno\", precio=40, tipo=\"Medicamento\", cantidad=5, fecha=\"2024-02-10\"),\n",
    "    Producto(codigo=\"9101\", nombre=\"Jeringa\", precio=25, tipo=\"Insumo\", cantidad=100, fecha=\"2024-02-15\")\n",
    "]\n",
    "\n",
    "ventas_por_mes(datos)\n"
   ]
  },
  {
   "cell_type": "markdown",
   "metadata": {},
   "source": [
    "### Ejercicio 7: Informe general\n",
    "\n",
    "Mostrar un listado de productos ordenados alfabeticamente que contengan el precio promedio, la cantidad de unidades vendidas y el importe total vendido para cada producto"
   ]
  },
  {
   "cell_type": "code",
   "execution_count": null,
   "metadata": {},
   "outputs": [],
   "source": [
    "def resumen_ventas(datos):\n",
    "    pass # Implementar\n",
    "\n",
    "resumen_ventas(datos)"
   ]
  },
  {
   "cell_type": "code",
   "execution_count": null,
   "metadata": {},
   "outputs": [],
   "source": [
    "import pandas as pd\n",
    "\n",
    "def resumen_ventas(datos):\n",
    "    # Crear un diccionario con los datos relevantes\n",
    "    data = {\n",
    "        \"codigo\": [producto.codigo for producto in datos],\n",
    "        \"nombre\": [producto.nombre for producto in datos],\n",
    "        \"precio\": [producto.precio for producto in datos],\n",
    "        \"cantidad\": [producto.cantidad for producto in datos]\n",
    "    }\n",
    "\n",
    "    # Crear un DataFrame con los datos\n",
    "    df = pd.DataFrame(data)\n",
    "\n",
    "    # Calcular el precio promedio, la cantidad total y el importe total por producto\n",
    "    resumen = df.groupby('nombre').agg(\n",
    "        precio_promedio=('precio', 'mean'),\n",
    "        total_unidades=('cantidad', 'sum'),\n",
    "        importe_total=('cantidad', lambda x: (x * df['precio']).sum())  # Importe total = precio * cantidad\n",
    "    ).reset_index()\n",
    "\n",
    "    # Ordenar alfabéticamente por nombre de producto\n",
    "    resumen = resumen.sort_values(by='nombre')\n",
    "\n",
    "    # Imprimir el resumen\n",
    "    print(resumen)\n",
    "\n",
    "# Uso (con una lista de objetos Producto)\n",
    "datos = [\n",
    "    Producto(codigo=\"1234\", nombre=\"Paracetamol\", precio=50, tipo=\"Medicamento\", cantidad=20, fecha=\"2024-01-15\"),\n",
    "    Producto(codigo=\"1235\", nombre=\"Paracetamol\", precio=60, tipo=\"Medicamento\", cantidad=10, fecha=\"2024-01-20\"),\n",
    "    Producto(codigo=\"5678\", nombre=\"Ibuprofeno\", precio=40, tipo=\"Medicamento\", cantidad=5, fecha=\"2024-02-10\"),\n",
    "    Producto(codigo=\"9101\", nombre=\"Jeringa\", precio=25, tipo=\"Insumo\", cantidad=100, fecha=\"2024-02-15\")\n",
    "]\n",
    "\n",
    "resumen_ventas(datos)\n"
   ]
  },
  {
   "cell_type": "markdown",
   "metadata": {},
   "source": [
    "## `Resolver usando NumPy`\n",
    "## Resolver el ejercicio 2 del tp1 usando NumPy"
   ]
  },
  {
   "cell_type": "markdown",
   "metadata": {},
   "source": [
    "### Ejercicio 8\n",
    "\n",
    "Escribe una función en Python que encuentre los valores de `a`, `b`, y `c` para que la función cuadrática `f(x) = a x^2 + b x + c` pase exactamente por los siguientes puntos:\n",
    "\n",
    "| x  | y  |\n",
    "|---:|---:|\n",
    "|  0 |  0 |\n",
    "|  1 |  8 |\n",
    "|  2 | 12 |\n",
    "|  3 | 12 |\n",
    "|  5 |  0 |\n",
    "\n",
    "### Requisitos:\n",
    "- La función debe explorar posibles valores de `a`, `b`, y `c` utilizando un método de prueba y error.\n",
    "- Debe devolver los valores que hagan que la diferencia entre la función `f(x)` y los valores medidos `y` sea exactamente cero para cada punto.\n",
    "\n",
    "> **Pista**: Los valores de `a`, `b`, y `c` son números pequeños.\n",
    "\n",
    "La idea es implementar el mismo algoritmo que se uso en el TP1 pero usando NumPy en lugar de Python puro."
   ]
  },
  {
   "cell_type": "code",
   "execution_count": 4,
   "metadata": {},
   "outputs": [
    {
     "data": {
      "text/plain": [
       "(-2, 10, 0)"
      ]
     },
     "execution_count": 4,
     "metadata": {},
     "output_type": "execute_result"
    }
   ],
   "source": [
    "import numpy as np\n",
    "def f(x, coeficientes):\n",
    "    a,b,c = coeficientes\n",
    "    return a*x**2 + b*x + c\n",
    "\n",
    "def error(y, y_pred):\n",
    "    return y - y_pred\n",
    "\n",
    "X = np.array([0,1,2,3,5])\n",
    "Y = np.array([0,8,12,12,0])\n",
    "\n",
    "def buscar_coeficientes():\n",
    "    pass # Implementar\n",
    "\n",
    "coeficientes = buscar_coeficientes()\n",
    "coeficientes"
   ]
  },
  {
   "cell_type": "code",
   "execution_count": 7,
   "metadata": {},
   "outputs": [
    {
     "ename": "ModuleNotFoundError",
     "evalue": "No module named 'numpy'",
     "output_type": "error",
     "traceback": [
      "\u001b[1;31m---------------------------------------------------------------------------\u001b[0m",
      "\u001b[1;31mModuleNotFoundError\u001b[0m                       Traceback (most recent call last)",
      "Cell \u001b[1;32mIn[7], line 1\u001b[0m\n\u001b[1;32m----> 1\u001b[0m \u001b[38;5;28;01mimport\u001b[39;00m \u001b[38;5;21;01mnumpy\u001b[39;00m \u001b[38;5;28;01mas\u001b[39;00m \u001b[38;5;21;01mnp\u001b[39;00m\n\u001b[0;32m      3\u001b[0m \u001b[38;5;28;01mdef\u001b[39;00m \u001b[38;5;21mencontrar_coeficientes\u001b[39m():\n\u001b[0;32m      4\u001b[0m     \u001b[38;5;66;03m# Puntos dados\u001b[39;00m\n\u001b[0;32m      5\u001b[0m     puntos \u001b[38;5;241m=\u001b[39m np\u001b[38;5;241m.\u001b[39marray([\n\u001b[0;32m      6\u001b[0m         [\u001b[38;5;241m0\u001b[39m, \u001b[38;5;241m0\u001b[39m],\n\u001b[0;32m      7\u001b[0m         [\u001b[38;5;241m1\u001b[39m, \u001b[38;5;241m8\u001b[39m],\n\u001b[1;32m   (...)\u001b[0m\n\u001b[0;32m     10\u001b[0m         [\u001b[38;5;241m5\u001b[39m, \u001b[38;5;241m0\u001b[39m]\n\u001b[0;32m     11\u001b[0m     ])\n",
      "\u001b[1;31mModuleNotFoundError\u001b[0m: No module named 'numpy'"
     ]
    }
   ],
   "source": [
    "import numpy as np\n",
    "\n",
    "def encontrar_coeficientes():\n",
    "    # Puntos dados\n",
    "    puntos = np.array([\n",
    "        [0, 0],\n",
    "        [1, 8],\n",
    "        [2, 12],\n",
    "        [3, 12],\n",
    "        [5, 0]\n",
    "    ])\n",
    "\n",
    "    # Matriz A con los coeficientes de a, b, c (x^2, x, 1)\n",
    "    A = np.array([\n",
    "        [p[0]**2, p[0], 1] for p in puntos\n",
    "    ])\n",
    "\n",
    "    # Vector de resultados (valores de y)\n",
    "    y = puntos[:, 1]\n",
    "\n",
    "    # Resolver el sistema A * [a, b, c] = y\n",
    "    coeficientes = np.linalg.solve(A, y)\n",
    "\n",
    "    return coeficientes\n",
    "\n",
    "# Uso\n",
    "a, b, c = encontrar_coeficientes()\n",
    "print(f\"Coeficientes encontrados: a = {a}, b = {b}, c = {c}\")\n"
   ]
  },
  {
   "cell_type": "markdown",
   "metadata": {},
   "source": [
    "### Ejercicio 9: Resolver el ejercicio 3 del TP1 usando NumPy\n",
    "Buscar los coeficientes de la función que minimice la suma de los cuadrados de las diferencias entre los valores medidos y los valores de la función.\n",
    "\n",
    "1. Crear un array con los coeficientes elegidos al azar (usar `randint(-10,10,3)`).\n",
    "2. Calcular el valor de la función y el error correspondiente.\n",
    "3. Mientras que el error sea mayor a 1:\n",
    "    1. Definir nuevos coeficientes agregándoles un pequeño valor al azar a los coeficientes actuales (aprendizaje = 0.001).\n",
    "    2. Si el error para los nuevos coeficientes es menor que el anterior, reemplazar los coeficientes actuales por los nuevos.\n"
   ]
  },
  {
   "cell_type": "code",
   "execution_count": 121,
   "metadata": {},
   "outputs": [
    {
     "name": "stdout",
     "output_type": "stream",
     "text": [
      "Los coeficientes son [-1.781  8.961  0.615] y el error es 0.9958049999998968\n"
     ]
    },
    {
     "data": {
      "text/plain": [
       "array([-1.781,  8.961,  0.615])"
      ]
     },
     "execution_count": 121,
     "metadata": {},
     "output_type": "execute_result"
    }
   ],
   "source": [
    "import numpy as np\n",
    "from numpy.random import randint\n",
    "\n",
    "def f(x, coeficientes):\n",
    "    a,b,c = coeficientes\n",
    "    return a*x**2 + b*x + c\n",
    "\n",
    "def error(y, y_pred):\n",
    "    return np.sum((y - y_pred)**2)\n",
    "\n",
    "X = np.array([0, 1, 2, 3, 5])\n",
    "Y = np.array([0, 8,12,11, 1]) # Observar que no son los mismos valores que en el ejemplo anterior\n",
    "\n",
    "def buscar_coeficientes():\n",
    "    pass # Implementar\n",
    "\n",
    "\n",
    "coeficientes = buscar_coeficientes()\n",
    "coeficientes"
   ]
  },
  {
   "cell_type": "code",
   "execution_count": null,
   "metadata": {},
   "outputs": [],
   "source": [
    "import numpy as np\n",
    "\n",
    "# Puntos medidos\n",
    "puntos = np.array([\n",
    "    [0, 0],\n",
    "    [1, 8],\n",
    "    [2, 12],\n",
    "    [3, 12],\n",
    "    [5, 0]\n",
    "])\n",
    "\n",
    "x = puntos[:, 0]  # Valores de x\n",
    "y = puntos[:, 1]  # Valores medidos de y\n",
    "\n",
    "# Función que calcula los valores de f(x) = a x^2 + b x + c\n",
    "def funcion_cuadratica(x, coef):\n",
    "    a, b, c = coef\n",
    "    return a * x**2 + b * x + c\n",
    "\n",
    "# Función para calcular el error cuadrático total\n",
    "def calcular_error(x, y, coef):\n",
    "    y_pred = funcion_cuadratica(x, coef)\n",
    "    error = np.sum((y - y_pred) ** 2)\n",
    "    return error\n",
    "\n",
    "# Función de optimización\n",
    "def optimizar(puntos, aprendizaje=0.001, umbral_error=1):\n",
    "    x = puntos[:, 0]\n",
    "    y = puntos[:, 1]\n",
    "    \n",
    "    # Inicialización de coeficientes al azar entre -10 y 10\n",
    "    coef = np.random.randint(-10, 10, 3)\n",
    "    \n",
    "    # Calcular el error inicial\n",
    "    error = calcular_error(x, y, coef)\n",
    "    \n",
    "    while error > umbral_error:\n",
    "        # Probar nuevos coeficientes ligeramente modificados\n",
    "        nuevos_coef = coef + np.random.randn(3) * aprendizaje\n",
    "        \n",
    "        # Calcular el error con los nuevos coeficientes\n",
    "        nuevo_error = calcular_error(x, y, nuevos_coef)\n",
    "        \n",
    "        # Si el nuevo error es menor, actualizamos los coeficientes\n",
    "        if nuevo_error < error:\n",
    "            coef = nuevos_coef\n",
    "            error = nuevo_error\n",
    "        \n",
    "        # Mostrar el estado actual (opcional, para observar el progreso)\n",
    "        print(f\"Coeficientes: {coef}, Error: {error}\")\n",
    "    \n",
    "    return coef\n",
    "\n",
    "# Uso de la función de optimización\n",
    "coef_optimos = optimizar(puntos)\n",
    "print(f\"Coeficientes óptimos encontrados: a = {coef_optimos[0]}, b = {coef_optimos[1]}, c = {coef_optimos[2]}\")\n"
   ]
  }
 ],
 "metadata": {
  "kernelspec": {
   "display_name": "Python 3",
   "language": "python",
   "name": "python3"
  },
  "language_info": {
   "codemirror_mode": {
    "name": "ipython",
    "version": 3
   },
   "file_extension": ".py",
   "mimetype": "text/x-python",
   "name": "python",
   "nbconvert_exporter": "python",
   "pygments_lexer": "ipython3",
   "version": "3.12.7"
  }
 },
 "nbformat": 4,
 "nbformat_minor": 2
}
