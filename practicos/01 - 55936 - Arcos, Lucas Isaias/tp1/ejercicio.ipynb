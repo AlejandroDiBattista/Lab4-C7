{
 "cells": [
  {
   "cell_type": "markdown",
   "metadata": {},
   "source": [
    "# Trabajo práctico 1\n",
    "\n"
   ]
  },
  {
   "cell_type": "markdown",
   "metadata": {},
   "source": [
    "## Ejercicio 1 \n",
    "\n",
    "Escribe una función en Python que procese una lista de cadenas de texto y realice las siguientes acciones:\n",
    "\n",
    "1. Tomar una lista de frases y convertir cada frase en una lista de palabras.\n",
    "1. Luego, debe crear una nueva lista que contenga la cantidad de palabras en cada frase.\n",
    "1. Tambien debe crear un lista que contenga la cantidad de caracteres en cada frase.\n",
    "1. Finalmente, debe imprimir cada frase original junto con la cantidad de palabras que contiene.\n",
    "Ejemplo de uso:\n",
    "```python\n",
    "    frases = [\n",
    "        \"Python es un lenguaje de programación\",\n",
    "        \"Me gusta resolver problemas con código\",\n",
    "        \"Las listas y los bucles son muy útiles\"\n",
    "    ]\n",
    "\n",
    "    procesar_frases(frases)\n",
    "```\n",
    "\n",
    "ejemplo de salida:\n",
    "```bash\n",
    "    La frase: \"Python es un...\"\n",
    "    tiene 6 palabras y 38 caracteres\n",
    "```\n"
   ]
  },
  {
   "cell_type": "code",
   "execution_count": null,
   "metadata": {},
   "outputs": [],
   "source": [
    "\n",
    "frases = [\n",
    "    \"Phyton es un lenguaje que estoy aprendiendo\",\n",
    "    \"Phyton es un leguaje academico\",\n",
    "    \"Phyton tiene una sintaxis sencilla\",\n",
    "    \"Quiero Manejar IAs\"\n",
    "]\n",
    "\n",
    "def procesar_frases(frases):\n",
    "    cantidades = []\n",
    "    for frase in frases:\n",
    "        palabras = frase.split()\n",
    "\n",
    "        cantidad_palabras = len(palabras)\n",
    "\n",
    "        cantidad_caracteres = len(frase)\n",
    "\n",
    "        cantidades.append((cantidad_caracteres, cantidad_palabras))\n",
    "        \n",
    "        print(f\"la frase: {frase}\\n\\t tiene {cantidad_caracteres} caracteres y {cantidad_palabras} palabras.\")\n"
   ]
  },
  {
   "cell_type": "markdown",
   "metadata": {},
   "source": [
    "## Ejercicio 2\n",
    "\n",
    "Escribe una función en Python que encuentre los valores de `a`, `b`, y `c` para que la función cuadrática `f(x) = aX^2 + bX + c` pase exactamente por los siguientes puntos:\n",
    "\n",
    "| x  | y  |\n",
    "|---:|---:|\n",
    "|  0 |  0 |\n",
    "|  1 |  8 |\n",
    "|  2 | 12 |\n",
    "|  3 | 12 |\n",
    "|  5 |  0 |\n",
    "\n",
    "### Requisitos:\n",
    "- La función debe explorar posibles valores de `a`, `b`, y `c` utilizando un método de prueba y error.\n",
    "- Debe devolver los valores que hagan que la diferencia entre la función `f(x)` y los valores medidos `y` sea exactamente cero para cada punto.\n",
    "\n",
    "> **Pista**: Los valores de `a`, `b`, y `c` son números pequeños."
   ]
  },
  {
   "cell_type": "code",
   "execution_count": null,
   "metadata": {},
   "outputs": [],
   "source": [
    "puntos = [\n",
    "    (0, 0),\n",
    "    (1, 8),\n",
    "    (2, 12),\n",
    "    (3, 12),\n",
    "    (5, 0)\n",
    "]\n",
    "\n",
    "def f(x, a, b):\n",
    "    return a * x**2 + b * x\n",
    "\n",
    "def calcular_error(a, b, puntos):\n",
    "    error_total = 0\n",
    "    for x, y_real in puntos:\n",
    "        y_calculado = f(x, a, b)\n",
    "        error_total += abs(y_calculado - y_real)\n",
    "    return error_total\n",
    "\n",
    "def encontrar_mejores_valores(puntos):\n",
    "    mejores_valores = None\n",
    "    mejor_error = float('inf')\n",
    "    for a in range(-10, 11):\n",
    "        for b in range(-10, 11):\n",
    "            error_actual = calcular_error(a, b, puntos)\n",
    "            if error_actual < mejor_error:\n",
    "                mejor_error = error_actual\n",
    "                mejores_valores = (a, b)\n",
    "                \n",
    "    return mejores_valores, mejor_error\n",
    "\n",
    "mejores_valores, mejor_error = encontrar_mejores_valores(puntos)\n",
    "a, b = mejores_valores\n",
    "\n",
    "print(f\"Los mejores valores de a y b son: a = {a}, b = {b}, con error total = {mejor_error}\")\n",
    "\n",
    "for x, y_real in puntos:\n",
    "    y_calculado = f(x, a, b)\n",
    "    print(f\"f({x}) = {y_calculado}, valor esperado = {y_real}\")"
   ]
  }
 ],
 "metadata": {
  "language_info": {
   "name": "python"
  }
 },
 "nbformat": 4,
 "nbformat_minor": 2
}
