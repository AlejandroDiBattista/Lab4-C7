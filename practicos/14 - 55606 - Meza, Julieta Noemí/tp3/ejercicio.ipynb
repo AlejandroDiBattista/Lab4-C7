{
 "cells": [
  {
   "cell_type": "markdown",
   "metadata": {},
   "source": [
    "#TP3"
   ]
  },
  {
   "cell_type": "markdown",
   "metadata": {},
   "source": [
    "## Ejercicio 1: Cargar Datos de ventas.\n",
    "\n",
    "El archivo datos.dat contiene el registro de las ventas realizadas.\n",
    "\n",
    "Tiene un formato de ancho fijo:\n",
    "- fecha:    10 lugares\n",
    "- producto: 30 lugares\n",
    "- precio:   10 lugares\n",
    "- cantidad:  5 lugares\n",
    "\n",
    "hacer una funcion que carge los en una lista de diccionarios. \n",
    "\n",
    "nota: con \n",
    "```python\n",
    "lineas = open(\"datos.dat\", \"r\").readlines() \n",
    "```\n",
    "puede obtener la lista de string de todos los datos "
   ]
  },
  {
   "cell_type": "code",
   "execution_count": 39,
   "metadata": {},
   "outputs": [],
   "source": [
    "def cargar_datos():\n",
    "    lineas = open(\"datos.dat\", \"r\").readlines()\n",
    "    ventas = []\n",
    "    \n",
    "    for linea in lineas:\n",
    "        venta = {\n",
    "            \"fecha\": linea[:10].strip(),\n",
    "            \"producto\": linea[10:40].strip(),\n",
    "            \"precio\": float(linea[40:50].strip()),\n",
    "            \"cantidad\": int(linea[50:55].strip())\n",
    "        }\n",
    "        ventas.append(venta)\n",
    "    \n",
    "    return ventas\n",
    "\n",
    "datos = cargar_datos()"
   ]
  },
  {
   "cell_type": "markdown",
   "metadata": {},
   "source": [
    "## Ejercicio 2: Calcular el total de ventas.\n",
    "\n",
    "Hacer una funcion que sume los importes vendidos (precio * cantidad) y las cantidades"
   ]
  },
  {
   "cell_type": "code",
   "execution_count": 40,
   "metadata": {},
   "outputs": [
    {
     "name": "stdout",
     "output_type": "stream",
     "text": [
      "Las ventas fueron de $392730.00 en 335 unidades\n"
     ]
    }
   ],
   "source": [
    "def calcular_totales(datos):\n",
    "    total_importe = 0\n",
    "    total_cantidad = 0\n",
    "    \n",
    "    for dato in datos:\n",
    "        total_importe += dato[\"precio\"] * dato[\"cantidad\"]\n",
    "        total_cantidad += dato[\"cantidad\"]\n",
    "    \n",
    "    return total_importe, total_cantidad\n",
    "\n",
    "importe, cantidad = calcular_totales(datos)\n",
    "\n",
    "print(f\"Las ventas fueron de ${importe:.2f} en {cantidad} unidades\")\n"
   ]
  },
  {
   "cell_type": "markdown",
   "metadata": {},
   "source": [
    "## Ejercicio 3: Listar las unidades vendidas.\n",
    "\n",
    "Listar cuantas unidades se vendieron en total para cada producto"
   ]
  },
  {
   "cell_type": "code",
   "execution_count": 41,
   "metadata": {},
   "outputs": [
    {
     "name": "stdout",
     "output_type": "stream",
     "text": [
      "Producto: Mirinda, Unidades vendidas: 85\n",
      "Producto: Torasso, Unidades vendidas: 32\n",
      "Producto: Pepsi Cola, Unidades vendidas: 89\n",
      "Producto: Sprite, Unidades vendidas: 72\n",
      "Producto: Coca Cola, Unidades vendidas: 57\n"
     ]
    }
   ],
   "source": [
    "def unidades_vendidas(datos):\n",
    "    ventas_por_producto = {}\n",
    "    \n",
    "    for dato in datos:\n",
    "        producto = dato[\"producto\"]\n",
    "        cantidad = dato[\"cantidad\"]\n",
    "        \n",
    "        if producto in ventas_por_producto:\n",
    "            ventas_por_producto[producto] += cantidad\n",
    "        else:\n",
    "            ventas_por_producto[producto] = cantidad\n",
    "    \n",
    "    return ventas_por_producto\n",
    "\n",
    "def listar_ventas(ventas):\n",
    "    for producto, cantidad in ventas.items():\n",
    "        print(f\"Producto: {producto}, Unidades vendidas: {cantidad}\")\n",
    "\n",
    "ventas = unidades_vendidas(datos)\n",
    "listar_ventas(ventas)\n",
    "\n"
   ]
  },
  {
   "cell_type": "markdown",
   "metadata": {},
   "source": [
    "##  Ejercicio 4: Listar el precio promedio por producto.\n",
    "\n",
    "Hacer un listado del precio promedio por productos."
   ]
  },
  {
   "cell_type": "code",
   "execution_count": 42,
   "metadata": {},
   "outputs": [
    {
     "name": "stdout",
     "output_type": "stream",
     "text": [
      "Producto: Mirinda, Precio promedio: $1542.12\n",
      "Producto: Torasso, Precio promedio: $916.25\n",
      "Producto: Pepsi Cola, Precio promedio: $1241.69\n",
      "Producto: Sprite, Precio promedio: $847.78\n",
      "Producto: Coca Cola, Precio promedio: $1066.32\n"
     ]
    }
   ],
   "source": [
    "def precio_promedio(datos):\n",
    "    suma_precio_por_producto = {}\n",
    "    cantidad_por_producto = {}\n",
    "    \n",
    "    for dato in datos:\n",
    "        producto = dato[\"producto\"]\n",
    "        precio = dato[\"precio\"]\n",
    "        cantidad = dato[\"cantidad\"]\n",
    "        \n",
    "        if producto in suma_precio_por_producto:\n",
    "            suma_precio_por_producto[producto] += precio * cantidad\n",
    "            cantidad_por_producto[producto] += cantidad\n",
    "        else:\n",
    "            suma_precio_por_producto[producto] = precio * cantidad\n",
    "            cantidad_por_producto[producto] = cantidad\n",
    "    \n",
    "    promedio_precio = {}\n",
    "    for producto in suma_precio_por_producto:\n",
    "        promedio_precio[producto] = suma_precio_por_producto[producto] / cantidad_por_producto[producto]\n",
    "    \n",
    "    return promedio_precio\n",
    "\n",
    "def listar_precios(precios):\n",
    "    for producto, precio in precios.items():\n",
    "        print(f\"Producto: {producto}, Precio promedio: ${precio:.2f}\")\n",
    "\n",
    "precios = precio_promedio(datos)\n",
    "listar_precios(precios)\n"
   ]
  },
  {
   "cell_type": "markdown",
   "metadata": {},
   "source": [
    "### Ejercicio 5: Ranking de productos\n",
    "\n",
    "Realizar un listado de los 3 productos mas vendidos ordenados la cantidad de unidades vendidas (ordenadas de mayor a menor)\n"
   ]
  },
  {
   "cell_type": "code",
   "execution_count": 43,
   "metadata": {},
   "outputs": [
    {
     "name": "stdout",
     "output_type": "stream",
     "text": [
      "1. Producto: Pepsi Cola, Unidades vendidas: 89\n",
      "2. Producto: Mirinda, Unidades vendidas: 85\n",
      "3. Producto: Sprite, Unidades vendidas: 72\n"
     ]
    }
   ],
   "source": [
    "def ranking_productos(datos, top=3):\n",
    "    ventas_por_producto = {}\n",
    "    \n",
    "    for dato in datos:\n",
    "        producto = dato[\"producto\"]\n",
    "        cantidad = dato[\"cantidad\"]\n",
    "        \n",
    "        if producto in ventas_por_producto:\n",
    "            ventas_por_producto[producto] += cantidad\n",
    "        else:\n",
    "            ventas_por_producto[producto] = cantidad\n",
    "    \n",
    "    ranking = sorted(ventas_por_producto.items(), key=lambda x: x[1], reverse=True)[:top]\n",
    "    \n",
    "    return ranking\n",
    "\n",
    "def listar_ranking(ranking):\n",
    "    for i, (producto, cantidad) in enumerate(ranking, start=1):\n",
    "        print(f\"{i}. Producto: {producto}, Unidades vendidas: {cantidad}\")\n",
    "\n",
    "ranking = ranking_productos(datos)\n",
    "listar_ranking(ranking)\n"
   ]
  },
  {
   "cell_type": "markdown",
   "metadata": {},
   "source": [
    "### Ejercicio 6: Listar las ventas por mes\n",
    "\n",
    "Realizar un listado del total de unidades vendidas por productos separada por mes."
   ]
  },
  {
   "cell_type": "code",
   "execution_count": 44,
   "metadata": {},
   "outputs": [
    {
     "name": "stdout",
     "output_type": "stream",
     "text": [
      "Mes: 2024-08\n",
      "  Producto: Mirinda, Unidades vendidas: 27\n",
      "  Producto: Torasso, Unidades vendidas: 8\n",
      "  Producto: Pepsi Cola, Unidades vendidas: 10\n",
      "Mes: 2024-09\n",
      "  Producto: Mirinda, Unidades vendidas: 58\n",
      "  Producto: Sprite, Unidades vendidas: 72\n",
      "  Producto: Coca Cola, Unidades vendidas: 57\n",
      "  Producto: Pepsi Cola, Unidades vendidas: 79\n",
      "  Producto: Torasso, Unidades vendidas: 24\n"
     ]
    }
   ],
   "source": [
    "def ventas_por_mes(datos):\n",
    "    ventas_mensuales = {}\n",
    "    \n",
    "    for dato in datos:\n",
    "        producto = dato[\"producto\"]\n",
    "        cantidad = dato[\"cantidad\"]\n",
    "        fecha = dato[\"fecha\"]\n",
    "        mes = fecha[:7]  # Extraer el año y mes (YYYY-MM)\n",
    "        \n",
    "        if mes not in ventas_mensuales:\n",
    "            ventas_mensuales[mes] = {}\n",
    "        \n",
    "        if producto not in ventas_mensuales[mes]:\n",
    "            ventas_mensuales[mes][producto] = 0\n",
    "        \n",
    "        ventas_mensuales[mes][producto] += cantidad\n",
    "    \n",
    "    return ventas_mensuales\n",
    "\n",
    "def listar_ventas_mensuales(ventas):\n",
    "    for mes, productos in ventas.items():\n",
    "        print(f\"Mes: {mes}\")\n",
    "        for producto, cantidad in productos.items():\n",
    "            print(f\"  Producto: {producto}, Unidades vendidas: {cantidad}\")\n",
    "\n",
    "ventas = ventas_por_mes(datos)\n",
    "listar_ventas_mensuales(ventas)\n"
   ]
  },
  {
   "cell_type": "markdown",
   "metadata": {},
   "source": [
    "### Ejercicio 7: Informe general\n",
    "\n",
    "Mostrar un listado de productos ordenados alfabeticamente que contengan el precio promedio, la cantidad de unidades vendidas y el importe total vendido para cada producto"
   ]
  },
  {
   "cell_type": "code",
   "execution_count": 45,
   "metadata": {},
   "outputs": [
    {
     "name": "stdout",
     "output_type": "stream",
     "text": [
      "Producto: Coca Cola\n",
      "  Precio promedio: $1066.32\n",
      "  Cantidad vendida: 57\n",
      "  Importe total: $60780.00\n",
      "Producto: Mirinda\n",
      "  Precio promedio: $1542.12\n",
      "  Cantidad vendida: 85\n",
      "  Importe total: $131080.00\n",
      "Producto: Pepsi Cola\n",
      "  Precio promedio: $1241.69\n",
      "  Cantidad vendida: 89\n",
      "  Importe total: $110510.00\n",
      "Producto: Sprite\n",
      "  Precio promedio: $847.78\n",
      "  Cantidad vendida: 72\n",
      "  Importe total: $61040.00\n",
      "Producto: Torasso\n",
      "  Precio promedio: $916.25\n",
      "  Cantidad vendida: 32\n",
      "  Importe total: $29320.00\n"
     ]
    }
   ],
   "source": [
    "def resumen_ventas(datos):\n",
    "    resumen = {}\n",
    "    \n",
    "    for dato in datos:\n",
    "        producto = dato[\"producto\"]\n",
    "        precio = dato[\"precio\"]\n",
    "        cantidad = dato[\"cantidad\"]\n",
    "        importe = precio * cantidad\n",
    "        \n",
    "        if producto not in resumen:\n",
    "            resumen[producto] = {\n",
    "                \"cantidad\": 0,\n",
    "                \"importe\": 0,\n",
    "                \"precio_total\": 0\n",
    "            }\n",
    "        \n",
    "        resumen[producto][\"cantidad\"] += cantidad\n",
    "        resumen[producto][\"importe\"] += importe\n",
    "        resumen[producto][\"precio_total\"] += precio * cantidad\n",
    "    \n",
    "    for producto in resumen:\n",
    "        resumen[producto][\"precio_promedio\"] = resumen[producto][\"precio_total\"] / resumen[producto][\"cantidad\"]\n",
    "    \n",
    "    return resumen\n",
    "\n",
    "def informe_ventas(resumen):\n",
    "    productos_ordenados = sorted(resumen.keys())\n",
    "    \n",
    "    for producto in productos_ordenados:\n",
    "        datos = resumen[producto]\n",
    "        print(f\"Producto: {producto}\")\n",
    "        print(f\"  Precio promedio: ${datos['precio_promedio']:.2f}\")\n",
    "        print(f\"  Cantidad vendida: {datos['cantidad']}\")\n",
    "        print(f\"  Importe total: ${datos['importe']:.2f}\")\n",
    "\n",
    "resumen = resumen_ventas(datos)\n",
    "informe_ventas(resumen)\n"
   ]
  }
 ],
 "metadata": {
  "kernelspec": {
   "display_name": "Python 3",
   "language": "python",
   "name": "python3"
  },
  "language_info": {
   "codemirror_mode": {
    "name": "ipython",
    "version": 3
   },
   "file_extension": ".py",
   "mimetype": "text/x-python",
   "name": "python",
   "nbconvert_exporter": "python",
   "pygments_lexer": "ipython3",
   "version": "3.12.5"
  }
 },
 "nbformat": 4,
 "nbformat_minor": 2
}
