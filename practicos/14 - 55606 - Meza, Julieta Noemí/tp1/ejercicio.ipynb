{
 "cells": [
  {
   "cell_type": "markdown",
   "metadata": {},
   "source": [
    "# Trabajo práctico 1\n",
    "\n"
   ]
  },
  {
   "cell_type": "markdown",
   "metadata": {},
   "source": [
    "## Ejercicio 1 \n",
    "\n",
    "Escribe una función en Python que procese una lista de cadenas de texto y realice las siguientes acciones:\n",
    "\n",
    "1. Tomar una lista de frases y convertir cada frase en una lista de palabras.\n",
    "1. Luego, debe crear una nueva lista que contenga la cantidad de palabras en cada frase.\n",
    "1. Tambien debe crear un lista que contenga la cantidad de caracteres en cada frase.\n",
    "1. Finalmente, debe imprimir cada frase original junto con la cantidad de palabras que contiene.\n",
    "Ejemplo de uso:\n",
    "```python\n",
    "    frases = [\n",
    "        \"Python es un lenguaje de programación\",\n",
    "        \"Me gusta resolver problemas con código\",\n",
    "        \"Las listas y los bucles son muy útiles\"\n",
    "    ]\n",
    "\n",
    "    procesar_frases(frases)\n",
    "```\n",
    "\n",
    "ejemplo de salida:\n",
    "```bash\n",
    "    La frase: \"Python es un...\"\n",
    "    tiene 6 palabras y 38 caracteres\n",
    "```\n"
   ]
  },
  {
   "cell_type": "code",
   "execution_count": 1,
   "metadata": {},
   "outputs": [
    {
     "name": "stdout",
     "output_type": "stream",
     "text": [
      "la frase es: La práctica hace al maestro, tiene 5 palabras y 27 caracteres\n",
      "la frase es: Resolver problemas es la clave del éxito, tiene 7 palabras y 40 caracteres\n",
      "la frase es: la programacion es muy buena, tiene 5 palabras y 28 caracteres\n"
     ]
    }
   ],
   "source": [
    "tres_frases = [\"La práctica hace al maestro\",\"Resolver problemas es la clave del éxito\",\"la programacion es muy buena\"]\n",
    "\n",
    "def cantidad_de_frase(frases):\n",
    "    for frase in frases:\n",
    "        palabras=len(frase.split()) #aqui cuento la cantidad de palabras ya que split divide la frase en palabras\n",
    "        caracteres=len(frase) #aqui solo los caracteres :)\n",
    "        \n",
    "        print(f\"la frase es: {frase}, tiene {palabras} palabras y {caracteres} caracteres\")\n",
    "    \n",
    "cantidad_de_frase(tres_frases) "
   ]
  },
  {
   "cell_type": "markdown",
   "metadata": {},
   "source": [
    "## Ejercicio 2\n",
    "\n",
    "Escribe una función en Python que encuentre los valores de `a`, `b`, y `c` para que la función cuadrática `f(x) = aX^2 + bX + c` pase exactamente por los siguientes puntos:\n",
    "\n",
    "| x  | y  |\n",
    "|---:|---:|\n",
    "|  0 |  0 |\n",
    "|  1 |  8 |\n",
    "|  2 | 12 |\n",
    "|  3 | 12 |\n",
    "|  5 |  0 |\n",
    "\n",
    "### Requisitos:\n",
    "- La función debe explorar posibles valores de `a`, `b`, y `c` utilizando un método de prueba y error.\n",
    "- Debe devolver los valores que hagan que la diferencia entre la función `f(x)` y los valores medidos `y` sea exactamente cero para cada punto.\n",
    "\n",
    "> **Pista**: Los valores de `a`, `b`, y `c` son números pequeños."
   ]
  },
  {
   "cell_type": "code",
   "execution_count": 2,
   "metadata": {},
   "outputs": [
    {
     "name": "stdout",
     "output_type": "stream",
     "text": [
      "los puntos son: \n",
      " a=-2\n",
      " b=10\n",
      " c=0\n",
      " \n",
      "Los coeficientes son:\n",
      " a = 10 \n",
      " b = 10 \n",
      " c = 0\n"
     ]
    }
   ],
   "source": [
    "def funcion_cuadratica(a, b, c,x):\n",
    "    f_c= a * x**2 + b * x + c\n",
    "    return f_c\n",
    "\n",
    "\n",
    "x_y = [(0, 0),\n",
    "    (1, 8),\n",
    "    (2, 12),\n",
    "    (3, 12),\n",
    "    (5, 0)]\n",
    "\n",
    "for a in range(-10, 11):\n",
    "    for b in range(-10, 11):\n",
    "        c = 0 \n",
    "        puntos = True\n",
    "        for x, y in x_y:\n",
    "            if funcion_cuadratica(a, b, c, x) != y:\n",
    "                puntos = False\n",
    "                break\n",
    "        if puntos:\n",
    "            print(f'los puntos son: \\n a={a}\\n b={b}\\n c={c}\\n ')\n",
    "print(f\"Los coeficientes son:\\n a = {a} \\n b = {b} \\n c = {c}\")"
   ]
  }
 ],
 "metadata": {
  "kernelspec": {
   "display_name": "Python 3",
   "language": "python",
   "name": "python3"
  },
  "language_info": {
   "codemirror_mode": {
    "name": "ipython",
    "version": 3
   },
   "file_extension": ".py",
   "mimetype": "text/x-python",
   "name": "python",
   "nbconvert_exporter": "python",
   "pygments_lexer": "ipython3",
   "version": "3.12.5"
  }
 },
 "nbformat": 4,
 "nbformat_minor": 2
}
