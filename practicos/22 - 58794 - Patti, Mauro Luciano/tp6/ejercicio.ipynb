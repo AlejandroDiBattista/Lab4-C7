{
 "cells": [
  {
   "cell_type": "markdown",
   "metadata": {},
   "source": [
    "# TP6\n",
    "\n",
    "### `Resolver usando Pandas`\n",
    "\n",
    "Resolver los ejercicios del TP3 utilizando la librería Pandas."
   ]
  },
  {
   "cell_type": "markdown",
   "metadata": {},
   "source": [
    "### Ejercicio 1: Cargar Datos de ventas.\n",
    "\n",
    "El archivo datos.dat contiene el registro de las ventas realizadas.\n",
    "\n",
    "Tiene un formato de ancho fijo:\n",
    "- `fecha`:    10 lugares\n",
    "- `producto`: 30 lugares\n",
    "- `precio`:   10 lugares\n",
    "- `cantidad`:  5 lugares\n",
    "\n",
    "Hacer una funcion que cargue los datos en un DataFrame de Pandas."
   ]
  },
  {
   "cell_type": "code",
   "execution_count": 1,
   "metadata": {},
   "outputs": [
    {
     "name": "stdout",
     "output_type": "stream",
     "text": [
      "        fecha    producto  precio  cantidad\n",
      "0  2024-08-27     Mirinda  1510.0        14\n",
      "1  2024-08-27     Mirinda  1560.0        12\n",
      "2  2024-08-28     Torasso   940.0         8\n",
      "3  2024-08-29  Pepsi Cola  1210.0        10\n",
      "4  2024-08-30     Mirinda  1520.0         1\n",
      "5  2024-09-01     Mirinda  1550.0        15\n",
      "6  2024-09-01      Sprite   810.0         4\n",
      "7  2024-09-02   Coca Cola  1100.0         4\n",
      "8  2024-09-02  Pepsi Cola  1220.0        13\n",
      "9  2024-09-02     Torasso   910.0         5\n",
      "10 2024-09-02     Torasso   920.0         3\n",
      "11 2024-09-03   Coca Cola  1020.0         8\n",
      "12 2024-09-03     Mirinda  1570.0         7\n",
      "13 2024-09-03     Mirinda  1590.0         2\n",
      "14 2024-09-04  Pepsi Cola  1220.0        13\n",
      "15 2024-09-05     Mirinda  1500.0         3\n",
      "16 2024-09-05  Pepsi Cola  1300.0         5\n",
      "17 2024-09-06   Coca Cola  1080.0         1\n",
      "18 2024-09-06      Sprite   860.0        12\n",
      "19 2024-09-06     Torasso   930.0         3\n",
      "20 2024-09-07   Coca Cola  1080.0        14\n",
      "21 2024-09-07      Sprite   870.0        13\n",
      "22 2024-09-08   Coca Cola  1040.0        10\n",
      "23 2024-09-08     Mirinda  1580.0         2\n",
      "24 2024-09-08  Pepsi Cola  1240.0         9\n",
      "25 2024-09-09     Mirinda  1500.0         3\n",
      "26 2024-09-09      Sprite   850.0         9\n",
      "27 2024-09-10     Mirinda  1590.0         8\n",
      "28 2024-09-10  Pepsi Cola  1250.0        12\n",
      "29 2024-09-11      Sprite   810.0         6\n",
      "30 2024-09-11      Sprite   820.0        14\n",
      "31 2024-09-12   Coca Cola  1080.0         4\n",
      "32 2024-09-13     Mirinda  1580.0         5\n",
      "33 2024-09-13  Pepsi Cola  1250.0        13\n",
      "34 2024-09-14   Coca Cola  1080.0        15\n",
      "35 2024-09-14  Pepsi Cola  1270.0        14\n",
      "36 2024-09-15   Coca Cola  1100.0         1\n",
      "37 2024-09-15     Mirinda  1500.0        13\n",
      "38 2024-09-15      Sprite   870.0        14\n",
      "39 2024-09-15     Torasso   900.0        13\n"
     ]
    }
   ],
   "source": [
    "import pandas as pd\n",
    "\n",
    "def cargar_datos():\n",
    "    widths = [10, 30, 10, 5]\n",
    "    column_names = ['fecha', 'producto', 'precio', 'cantidad']\n",
    "    df = pd.read_fwf('datos.dat', widths=widths, names=column_names)\n",
    "    \n",
    "    df['fecha'] = pd.to_datetime(df['fecha'].str.strip(), format='%Y-%m-%d')\n",
    "    df['producto'] = df['producto'].str.strip()\n",
    "    df['precio'] = df['precio'].astype(float)\n",
    "    df['cantidad'] = df['cantidad'].astype(int)\n",
    "    \n",
    "    return df\n",
    "\n",
    "datos = cargar_datos()\n",
    "print(datos)\n"
   ]
  },
  {
   "cell_type": "markdown",
   "metadata": {},
   "source": [
    "### Ejercicio 2: Calcular el total de ventas.\n",
    "Hacer una función que sume los importes vendidos (precio * cantidad) y las cantidades.\n"
   ]
  },
  {
   "cell_type": "code",
   "execution_count": 2,
   "metadata": {},
   "outputs": [
    {
     "name": "stdout",
     "output_type": "stream",
     "text": [
      "Las ventas fueron de $392730.00 en 335 unidades\n"
     ]
    }
   ],
   "source": [
    "def calcular_totales(datos):\n",
    "    datos['importe'] = datos['precio'] * datos['cantidad']\n",
    "    total_importe = datos['importe'].sum()\n",
    "    total_cantidad = datos['cantidad'].sum()\n",
    "    \n",
    "    return total_importe, total_cantidad\n",
    "\n",
    "importe, cantidad = calcular_totales(datos)\n",
    "print(f\"Las ventas fueron de ${importe:.2f} en {cantidad} unidades\")\n"
   ]
  },
  {
   "cell_type": "markdown",
   "metadata": {},
   "source": [
    "### Ejercicio 3: Listar las unidades vendidas.\n",
    "Listar cuántas unidades se vendieron en total para cada producto\n"
   ]
  },
  {
   "cell_type": "code",
   "execution_count": 3,
   "metadata": {},
   "outputs": [
    {
     "name": "stdout",
     "output_type": "stream",
     "text": [
      "producto\n",
      "Coca Cola     57\n",
      "Mirinda       85\n",
      "Pepsi Cola    89\n",
      "Sprite        72\n",
      "Torasso       32\n",
      "Name: cantidad, dtype: int32\n"
     ]
    }
   ],
   "source": [
    "def unidades_vendidas(datos):\n",
    "    unidades = datos.groupby('producto')['cantidad'].sum()\n",
    "    print(unidades)\n",
    "\n",
    "unidades_vendidas(datos)\n"
   ]
  },
  {
   "cell_type": "markdown",
   "metadata": {},
   "source": [
    "###  Ejercicio 4: Listar el precio promedio por producto.\n",
    "Hacer un listado del precio promedio por producto.\n"
   ]
  },
  {
   "cell_type": "code",
   "execution_count": 4,
   "metadata": {},
   "outputs": [
    {
     "name": "stdout",
     "output_type": "stream",
     "text": [
      "producto\n",
      "Coca Cola     1072.500000\n",
      "Mirinda       1545.833333\n",
      "Pepsi Cola    1245.000000\n",
      "Sprite         841.428571\n",
      "Torasso        920.000000\n",
      "Name: precio, dtype: float64\n"
     ]
    }
   ],
   "source": [
    "def precio_promedio(datos):\n",
    "\n",
    "    promedio = datos.groupby('producto')['precio'].mean()\n",
    "    print(promedio)\n",
    "\n",
    "precio_promedio(datos)"
   ]
  },
  {
   "cell_type": "markdown",
   "metadata": {},
   "source": [
    "### Ejercicio 5: Ranking de productos\n",
    "Realizar un listado de los 3 productos más vendidos ordenados por la cantidad de unidades vendidas (ordenadas de mayor a menor)\n"
   ]
  },
  {
   "cell_type": "code",
   "execution_count": 5,
   "metadata": {},
   "outputs": [
    {
     "name": "stdout",
     "output_type": "stream",
     "text": [
      "los 3 productos mas vendidos fueron:\n",
      "producto\n",
      "Pepsi Cola    89\n",
      "Mirinda       85\n",
      "Sprite        72\n",
      "Name: cantidad, dtype: int32\n"
     ]
    }
   ],
   "source": [
    "def ranking_productos(datos, top=3):\n",
    "    print(\"los 3 productos mas vendidos fueron:\")\n",
    "    ranking = datos.groupby('producto')['cantidad'].sum()\n",
    "   \n",
    "    top_productos = ranking.sort_values(ascending=False).head(top)\n",
    "    print(top_productos)\n",
    "\n",
    "ranking_productos(datos)"
   ]
  },
  {
   "cell_type": "markdown",
   "metadata": {},
   "source": [
    "### Ejercicio 6: Listar las ventas por mes\n",
    "Realizar un listado del total de unidades vendidas por producto separado por mes.\n"
   ]
  },
  {
   "cell_type": "code",
   "execution_count": 6,
   "metadata": {},
   "outputs": [
    {
     "name": "stdout",
     "output_type": "stream",
     "text": [
      "mes      producto  \n",
      "2024-08  Mirinda       27\n",
      "         Pepsi Cola    10\n",
      "         Torasso        8\n",
      "2024-09  Coca Cola     57\n",
      "         Mirinda       58\n",
      "         Pepsi Cola    79\n",
      "         Sprite        72\n",
      "         Torasso       24\n",
      "Name: cantidad, dtype: int32\n"
     ]
    }
   ],
   "source": [
    "def ventas_por_mes(datos):\n",
    "   \n",
    "    datos['mes'] = datos['fecha'].dt.to_period('M')\n",
    "\n",
    "    ventas_mes = datos.groupby(['mes', 'producto'])['cantidad'].sum()\n",
    "    print(ventas_mes)\n",
    "\n",
    "ventas_por_mes(datos)"
   ]
  },
  {
   "cell_type": "markdown",
   "metadata": {},
   "source": [
    "### Ejercicio 7: Informe general\n",
    "\n",
    "Mostrar un listado de productos ordenados alfabeticamente que contengan el precio promedio, la cantidad de unidades vendidas y el importe total vendido para cada producto"
   ]
  },
  {
   "cell_type": "code",
   "execution_count": 7,
   "metadata": {},
   "outputs": [
    {
     "name": "stdout",
     "output_type": "stream",
     "text": [
      "            precio_promedio  unidades_vendidas  importe_total\n",
      "producto                                                     \n",
      "Coca Cola       1072.500000                 57        60780.0\n",
      "Mirinda         1545.833333                 85       131080.0\n",
      "Pepsi Cola      1245.000000                 89       110510.0\n",
      "Sprite           841.428571                 72        61040.0\n",
      "Torasso          920.000000                 32        29320.0\n"
     ]
    }
   ],
   "source": [
    "def resumen_ventas(datos):\n",
    " \n",
    "    datos['importe'] = datos['precio'] * datos['cantidad']\n",
    "    \n",
    "    resumen = datos.groupby('producto').agg({\n",
    "        'precio': 'mean',\n",
    "        'cantidad': 'sum',\n",
    "        'importe': 'sum'\n",
    "    })\n",
    " \n",
    "    resumen = resumen.rename(columns={'precio': 'precio_promedio', 'cantidad': 'unidades_vendidas', 'importe': 'importe_total'})\n",
    "    \n",
    "    resumen = resumen.sort_index()\n",
    "    \n",
    "    print(resumen)\n",
    "\n",
    "resumen_ventas(datos)"
   ]
  },
  {
   "cell_type": "markdown",
   "metadata": {},
   "source": [
    "## `Resolver usando NumPy`\n",
    "## Resolver el ejercicio 2 del tp1 usando NumPy"
   ]
  },
  {
   "cell_type": "markdown",
   "metadata": {},
   "source": [
    "### Ejercicio 8\n",
    "\n",
    "Escribe una función en Python que encuentre los valores de `a`, `b`, y `c` para que la función cuadrática `f(x) = a x^2 + b x + c` pase exactamente por los siguientes puntos:\n",
    "\n",
    "| x  | y  |\n",
    "|---:|---:|\n",
    "|  0 |  0 |\n",
    "|  1 |  8 |\n",
    "|  2 | 12 |\n",
    "|  3 | 12 |\n",
    "|  5 |  0 |\n",
    "\n",
    "### Requisitos:\n",
    "- La función debe explorar posibles valores de `a`, `b`, y `c` utilizando un método de prueba y error.\n",
    "- Debe devolver los valores que hagan que la diferencia entre la función `f(x)` y los valores medidos `y` sea exactamente cero para cada punto.\n",
    "\n",
    "> **Pista**: Los valores de `a`, `b`, y `c` son números pequeños.\n",
    "\n",
    "La idea es implementar el mismo algoritmo que se uso en el TP1 pero usando NumPy en lugar de Python puro."
   ]
  },
  {
   "cell_type": "code",
   "execution_count": 16,
   "metadata": {},
   "outputs": [
    {
     "name": "stdout",
     "output_type": "stream",
     "text": [
      "(-2, 10, 0)\n"
     ]
    }
   ],
   "source": [
    "import numpy as np\n",
    "\n",
    "def f(x, coeficientes):\n",
    "    a, b, c = coeficientes\n",
    "    return a * x**2 + b * x + c\n",
    "\n",
    "def error(y, y_pred):\n",
    "    return y - y_pred\n",
    "\n",
    "X = np.array([0, 1, 2, 3, 5])\n",
    "Y = np.array([0, 8, 12, 12, 0])\n",
    "\n",
    "def buscar_coeficientes():\n",
    "  \n",
    "    for a in range(-10, 11): \n",
    "        for b in range(-10, 11):  \n",
    "            for c in range(-10, 11):  \n",
    "               \n",
    "                Y_pred = f(X, (a, b, c))\n",
    "                \n",
    "              \n",
    "                if np.all(error(Y, Y_pred) == 0):  \n",
    "                    return a, b, c  \n",
    "\n",
    "    return None  \n",
    "\n",
    "coeficientes = buscar_coeficientes()\n",
    "print(coeficientes)\n"
   ]
  },
  {
   "cell_type": "markdown",
   "metadata": {},
   "source": [
    "### Ejercicio 9: Resolver el ejercicio 3 del TP1 usando NumPy\n",
    "Buscar los coeficientes de la función que minimice la suma de los cuadrados de las diferencias entre los valores medidos y los valores de la función.\n",
    "\n",
    "1. Crear un array con los coeficientes elegidos al azar (usar `randint(-10,10,3)`).\n",
    "2. Calcular el valor de la función y el error correspondiente.\n",
    "3. Mientras que el error sea mayor a 1:\n",
    "    1. Definir nuevos coeficientes agregándoles un pequeño valor al azar a los coeficientes actuales (aprendizaje = 0.001).\n",
    "    2. Si el error para los nuevos coeficientes es menor que el anterior, reemplazar los coeficientes actuales por los nuevos.\n"
   ]
  },
  {
   "cell_type": "code",
   "execution_count": 28,
   "metadata": {},
   "outputs": [
    {
     "name": "stdout",
     "output_type": "stream",
     "text": [
      "los coeficientes son: [-1.781  8.961  0.601]\n",
      "el error es: 0.9915489999998488\n"
     ]
    },
    {
     "data": {
      "text/plain": [
       "array([-1.781,  8.961,  0.601])"
      ]
     },
     "execution_count": 28,
     "metadata": {},
     "output_type": "execute_result"
    }
   ],
   "source": [
    "import numpy as np\n",
    "from numpy.random import randint\n",
    "\n",
    "def f(x, coeficientes):\n",
    "    a, b, c = coeficientes\n",
    "    return a * x**2 + b * x + c\n",
    "\n",
    "def calcular_error(y_real, y_predicho):\n",
    "    return np.sum((y_real - y_predicho)**2)\n",
    "\n",
    "def buscar_coeficientes():\n",
    "    X = np.array([0, 1, 2, 3, 5])\n",
    "    Y = np.array([0, 8, 12, 11, 1])  \n",
    "\n",
    "    coeficientes = randint(-10, 10, 3).astype(float)\n",
    "    tasa = 0.001\n",
    "\n",
    "    error_actual = calcular_error(Y, f(X, coeficientes))\n",
    "\n",
    "    while error_actual > 1:\n",
    "        \n",
    "        nuevos_coeficientes = coeficientes + (randint(-10, 10, 3) * tasa)\n",
    "\n",
    "        nuevo_error = calcular_error(Y, f(X, nuevos_coeficientes))\n",
    "\n",
    "        if nuevo_error < error_actual:\n",
    "            coeficientes = nuevos_coeficientes\n",
    "            error_actual = nuevo_error\n",
    "\n",
    "    return coeficientes, error_actual\n",
    "\n",
    "coeficientes, error = buscar_coeficientes()\n",
    "print(\"estos son los coeficientes :\", coeficientes)\n",
    "print(\"el error es:\", error)\n",
    "coeficientes"
   ]
  }
 ],
 "metadata": {
  "kernelspec": {
   "display_name": "Python 3",
   "language": "python",
   "name": "python3"
  },
  "language_info": {
   "codemirror_mode": {
    "name": "ipython",
    "version": 3
   },
   "file_extension": ".py",
   "mimetype": "text/x-python",
   "name": "python",
   "nbconvert_exporter": "python",
   "pygments_lexer": "ipython3",
   "version": "3.12.3"
  }
 },
 "nbformat": 4,
 "nbformat_minor": 2
}
