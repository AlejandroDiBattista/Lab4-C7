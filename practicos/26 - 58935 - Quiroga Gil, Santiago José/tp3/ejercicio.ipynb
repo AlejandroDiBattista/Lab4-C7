{
 "cells": [
  {
   "cell_type": "markdown",
   "metadata": {},
   "source": [
    "#TP3"
   ]
  },
  {
   "cell_type": "markdown",
   "metadata": {},
   "source": [
    "## Ejercicio 1: Cargar Datos de ventas.\n",
    "\n",
    "El archivo datos.dat contiene el registro de las ventas realizadas.\n",
    "\n",
    "Tiene un formato de ancho fijo:\n",
    "- fecha:    10 lugares\n",
    "- producto: 30 lugares\n",
    "- precio:   10 lugares\n",
    "- cantidad:  5 lugares\n",
    "\n",
    "hacer una funcion que carge los en una lista de diccionarios. \n",
    "\n",
    "nota: con \n",
    "```python\n",
    "lineas = open(\"datos.dat\", \"r\").readlines() \n",
    "```\n",
    "puede obtener la lista de string de todos los datos "
   ]
  },
  {
   "cell_type": "code",
   "execution_count": 1,
   "metadata": {},
   "outputs": [
    {
     "name": "stdout",
     "output_type": "stream",
     "text": [
      "los elementos de la lista son:\n",
      "---------------------------------------------------------------------------------\n",
      "{'fecha': '2024-08-27', 'producto': 'Mirinda', 'precio': 1560, 'cantidad': 12}\n",
      "---------------------------------------------------------------------------------\n",
      "{'fecha': '2024-08-28', 'producto': 'Torasso', 'precio': 940, 'cantidad': 8}\n",
      "---------------------------------------------------------------------------------\n",
      "{'fecha': '2024-08-29', 'producto': 'Pepsi Cola', 'precio': 1210, 'cantidad': 10}\n",
      "---------------------------------------------------------------------------------\n",
      "{'fecha': '2024-08-30', 'producto': 'Mirinda', 'precio': 1520, 'cantidad': 1}\n",
      "---------------------------------------------------------------------------------\n",
      "{'fecha': '2024-09-01', 'producto': 'Mirinda', 'precio': 1550, 'cantidad': 15}\n",
      "---------------------------------------------------------------------------------\n"
     ]
    }
   ],
   "source": [
    "def cargar_datos():\n",
    "    \n",
    "    lineas = open(\"datos.dat\" , 'r').readlines()\n",
    "\n",
    "    registros = []\n",
    "\n",
    "    for linea in lineas:\n",
    "        registro = {\n",
    "            'fecha': linea[0:10].strip(),           \n",
    "            'producto': linea[10:40].strip(),       \n",
    "            'precio': int(linea[40:50].strip()),    \n",
    "            'cantidad': int(linea[50:55].strip())   \n",
    "        }        \n",
    "        registros.append(registro)\n",
    "    return registros\n",
    "\n",
    "\n",
    "datos = cargar_datos()\n",
    "\n",
    "# ver los elementos j\n",
    "# j = len(datos)\n",
    "j = 6\n",
    "print(\"los elementos de la lista son:\")\n",
    "print(\"---------------------------------------------------------------------------------\")\n",
    "for i in range(1,j):\n",
    "    print(datos[i])\n",
    "    print(\"---------------------------------------------------------------------------------\")\n"
   ]
  },
  {
   "cell_type": "markdown",
   "metadata": {},
   "source": [
    "## Ejercicio 2: Calcular el total de ventas.\n",
    "\n",
    "Hacer una funcion que sume los importes vendidos (precio * cantidad) y las cantidades"
   ]
  },
  {
   "cell_type": "code",
   "execution_count": 2,
   "metadata": {},
   "outputs": [
    {
     "name": "stdout",
     "output_type": "stream",
     "text": [
      "---------------------------------------------------------------------------------\n",
      "Las ventas fueron de $392730.00 en 335 unidades\n",
      "---------------------------------------------------------------------------------\n"
     ]
    }
   ],
   "source": [
    "\n",
    "def calcular_totales(datos):\n",
    "    total_importe = 0\n",
    "    total_cantidad = 0\n",
    "\n",
    "    for venta in datos:\n",
    "        importe = venta['precio'] * venta['cantidad']\n",
    "        total_importe += importe\n",
    "        total_cantidad += venta['cantidad']\n",
    "\n",
    "    return total_importe, total_cantidad\n",
    "\n",
    "\n",
    "importe, cantidad = calcular_totales(datos)\n",
    "\n",
    "print(\"---------------------------------------------------------------------------------\")\n",
    "print(f\"Las ventas fueron de ${importe:.2f} en {cantidad} unidades\")\n",
    "print(\"---------------------------------------------------------------------------------\")\n"
   ]
  },
  {
   "cell_type": "markdown",
   "metadata": {},
   "source": [
    "## Ejercicio 3: Listar las unidades vendidas.\n",
    "\n",
    "Listar cuantas unidades se vendieron en total para cada producto"
   ]
  },
  {
   "cell_type": "code",
   "execution_count": 3,
   "metadata": {},
   "outputs": [
    {
     "name": "stdout",
     "output_type": "stream",
     "text": [
      "---------------------------------------------------------------------------------\n",
      "Producto: Mirinda, Unidades vendidas: 85\n",
      "---------------------------------------------------------------------------------\n",
      "Producto: Torasso, Unidades vendidas: 32\n",
      "---------------------------------------------------------------------------------\n",
      "Producto: Pepsi Cola, Unidades vendidas: 89\n",
      "---------------------------------------------------------------------------------\n",
      "Producto: Sprite, Unidades vendidas: 72\n",
      "---------------------------------------------------------------------------------\n",
      "Producto: Coca Cola, Unidades vendidas: 57\n",
      "---------------------------------------------------------------------------------\n"
     ]
    }
   ],
   "source": [
    "def unidades_vendidas(datos):\n",
    "    \n",
    "    ventas_por_producto = {}\n",
    "\n",
    "    \n",
    "    for venta in datos:\n",
    "        producto = venta['producto'].strip() \n",
    "        cantidad = int(venta['cantidad'])   \n",
    "\n",
    "        \n",
    "        if producto in ventas_por_producto:\n",
    "            ventas_por_producto[producto] += cantidad\n",
    "        else:\n",
    "            ventas_por_producto[producto] = cantidad\n",
    "\n",
    "    return ventas_por_producto\n",
    "\n",
    "def listar_ventas(ventas):\n",
    "    print(\"---------------------------------------------------------------------------------\")\n",
    "    for producto, cantidad in ventas.items():\n",
    "        \n",
    "        print(f\"Producto: {producto}, Unidades vendidas: {cantidad}\")\n",
    "        print(\"---------------------------------------------------------------------------------\")\n",
    "\n",
    "ventas = unidades_vendidas(datos)\n",
    "listar_ventas(ventas)\n",
    "\n"
   ]
  },
  {
   "cell_type": "markdown",
   "metadata": {},
   "source": [
    "##  Ejercicio 4: Listar el precio promedio por producto.\n",
    "\n",
    "Hacer un listado del precio promedio por productos."
   ]
  },
  {
   "cell_type": "code",
   "execution_count": 4,
   "metadata": {},
   "outputs": [
    {
     "name": "stdout",
     "output_type": "stream",
     "text": [
      "---------------------------------------------------------------------------------\n",
      "Producto: Mirinda, Precio promedio: $1542.12\n",
      "---------------------------------------------------------------------------------\n",
      "Producto: Torasso, Precio promedio: $916.25\n",
      "---------------------------------------------------------------------------------\n",
      "Producto: Pepsi Cola, Precio promedio: $1241.69\n",
      "---------------------------------------------------------------------------------\n",
      "Producto: Sprite, Precio promedio: $847.78\n",
      "---------------------------------------------------------------------------------\n",
      "Producto: Coca Cola, Precio promedio: $1066.32\n",
      "---------------------------------------------------------------------------------\n"
     ]
    }
   ],
   "source": [
    "def precio_promedio(datos):\n",
    "    \n",
    "    precios_producto = {}\n",
    "\n",
    "    for venta in datos:\n",
    "        producto = venta['producto'].strip()  \n",
    "        precio = float(venta['precio'])       \n",
    "        cantidad = int(venta['cantidad'])    \n",
    "\n",
    "        \n",
    "        if producto in precios_producto:\n",
    "            precios_producto[producto]['total_precio'] += precio * cantidad\n",
    "            precios_producto[producto]['total_cantidad'] += cantidad\n",
    "        else:           \n",
    "            precios_producto[producto] = {\n",
    "                'total_precio': precio * cantidad,\n",
    "                'total_cantidad': cantidad\n",
    "            }\n",
    "\n",
    "   \n",
    "    promedio = {}\n",
    "    for producto, datos in precios_producto.items():\n",
    "        total_precio = datos['total_precio']\n",
    "        total_cantidad = datos['total_cantidad']\n",
    "        promedio[producto] = total_precio / total_cantidad\n",
    "\n",
    "    return promedio\n",
    "\n",
    "def listar_precios(precios):\n",
    "    print(\"---------------------------------------------------------------------------------\")\n",
    "    for producto, precio in precios.items():\n",
    "\n",
    "        print(f\"Producto: {producto}, Precio promedio: ${precio:.2f}\")\n",
    "        print(\"---------------------------------------------------------------------------------\")\n",
    "\n",
    "\n",
    "precios = precio_promedio(datos)\n",
    "listar_precios(precios)\n"
   ]
  },
  {
   "cell_type": "markdown",
   "metadata": {},
   "source": [
    "### Ejercicio 5: Ranking de productos\n",
    "\n",
    "Realizar un listado de los 3 productos mas vendidos ordenados la cantidad de unidades vendidas (ordenadas de mayor a menor)\n"
   ]
  },
  {
   "cell_type": "code",
   "execution_count": 5,
   "metadata": {},
   "outputs": [
    {
     "name": "stdout",
     "output_type": "stream",
     "text": [
      "Ranking de productos más vendidos:\n",
      "---------------------------------------------------------------------------------\n",
      "1. Pepsi Cola: 89 unidades\n",
      "---------------------------------------------------------------------------------\n",
      "2. Mirinda: 85 unidades\n",
      "---------------------------------------------------------------------------------\n",
      "3. Sprite: 72 unidades\n",
      "---------------------------------------------------------------------------------\n"
     ]
    }
   ],
   "source": [
    "def ranking_productos(datos, top=3):\n",
    "\n",
    "    ventas_por_producto = {}\n",
    "\n",
    "\n",
    "    for venta in datos:\n",
    "        producto = venta['producto'].strip()  \n",
    "        cantidad = int(venta['cantidad'])    \n",
    "\n",
    "   \n",
    "        if producto in ventas_por_producto:\n",
    "            ventas_por_producto[producto] += cantidad\n",
    "        else:\n",
    "            ventas_por_producto[producto] = cantidad\n",
    "    \n",
    "    ranking = sorted(ventas_por_producto.items(), key=lambda item: item[1], reverse=True)\n",
    "\n",
    "    return ranking[:top]\n",
    "\n",
    "def listar_ranking(ranking):   \n",
    "    print(\"Ranking de productos más vendidos:\")\n",
    "    print(\"---------------------------------------------------------------------------------\")\n",
    "    for i, (producto, cantidad) in enumerate(ranking, start=1):\n",
    "        \n",
    "        print(f\"{i}. {producto}: {cantidad} unidades\")\n",
    "        print(\"---------------------------------------------------------------------------------\")\n",
    "\n",
    "\n",
    "ranking = ranking_productos(datos) \n",
    "listar_ranking(ranking)\n"
   ]
  },
  {
   "cell_type": "markdown",
   "metadata": {},
   "source": [
    "### Ejercicio 6: Listar las ventas por mes\n",
    "\n",
    "Realizar un listado del total de unidades vendidas por productos separada por mes."
   ]
  },
  {
   "cell_type": "code",
   "execution_count": 6,
   "metadata": {},
   "outputs": [
    {
     "name": "stdout",
     "output_type": "stream",
     "text": [
      "Ventas mensuales por producto:\n",
      "---------------------------------------------------------------------------------\n",
      "Producto: Mirinda\n",
      "\n",
      "  Mes: 2024-08, Unidades vendidas: 27\n",
      "  Mes: 2024-09, Unidades vendidas: 58\n",
      "---------------------------------------------------------------------------------\n",
      "Producto: Torasso\n",
      "\n",
      "  Mes: 2024-08, Unidades vendidas: 8\n",
      "  Mes: 2024-09, Unidades vendidas: 24\n",
      "---------------------------------------------------------------------------------\n",
      "Producto: Pepsi Cola\n",
      "\n",
      "  Mes: 2024-08, Unidades vendidas: 10\n",
      "  Mes: 2024-09, Unidades vendidas: 79\n",
      "---------------------------------------------------------------------------------\n",
      "Producto: Sprite\n",
      "\n",
      "  Mes: 2024-09, Unidades vendidas: 72\n",
      "---------------------------------------------------------------------------------\n",
      "Producto: Coca Cola\n",
      "\n",
      "  Mes: 2024-09, Unidades vendidas: 57\n",
      "---------------------------------------------------------------------------------\n"
     ]
    }
   ],
   "source": [
    "from collections import defaultdict\n",
    "from datetime import datetime\n",
    "\n",
    "\n",
    "def ventas_por_mes(datos):\n",
    "    ventas_mensuales = defaultdict(lambda: defaultdict(int))  \n",
    "    \n",
    "    for venta in datos:\n",
    "        producto = venta['producto'].strip() \n",
    "        cantidad = int(venta['cantidad'])    \n",
    "        \n",
    "        \n",
    "        fecha = venta['fecha']  \n",
    "        mes = datetime.strptime(fecha, '%Y-%m-%d').strftime('%Y-%m')  \n",
    "        \n",
    "        \n",
    "        ventas_mensuales[producto][mes] += cantidad\n",
    "    \n",
    "    return ventas_mensuales\n",
    "\n",
    "\n",
    "def listar_ventas_mensuales(ventas):\n",
    "    print(\"Ventas mensuales por producto:\")\n",
    "    print(\"---------------------------------------------------------------------------------\")\n",
    "\n",
    "    for producto, meses in ventas.items():\n",
    "        print(f\"Producto: {producto}\")\n",
    "        print()\n",
    "        \n",
    "        for mes, cantidad in sorted(meses.items()):\n",
    "            print(f\"  Mes: {mes}, Unidades vendidas: {cantidad}\")\n",
    "        print(\"---------------------------------------------------------------------------------\")\n",
    "\n",
    "\n",
    "ventas = ventas_por_mes(datos)  \n",
    "listar_ventas_mensuales(ventas)\n"
   ]
  },
  {
   "cell_type": "markdown",
   "metadata": {},
   "source": [
    "### Ejercicio 7: Informe general\n",
    "\n",
    "Mostrar un listado de productos ordenados alfabeticamente que contengan el precio promedio, la cantidad de unidades vendidas y el importe total vendido para cada producto"
   ]
  },
  {
   "cell_type": "code",
   "execution_count": 7,
   "metadata": {},
   "outputs": [
    {
     "name": "stdout",
     "output_type": "stream",
     "text": [
      "Producto                      Precio Promedio     Unidades Vendidas   Importe Total       \n",
      "------------------------------------------------------------------------------------------\n",
      "Coca Cola                     1066.32             57                  60780.00            \n",
      "Mirinda                       1542.12             85                  131080.00           \n",
      "Pepsi Cola                    1241.69             89                  110510.00           \n",
      "Sprite                        847.78              72                  61040.00            \n",
      "Torasso                       916.25              32                  29320.00            \n",
      "------------------------------------------------------------------------------------------\n"
     ]
    }
   ],
   "source": [
    "from collections import defaultdict\n",
    "\n",
    "\n",
    "def resumen_ventas(datos):\n",
    "    resumen = defaultdict(lambda: {'cantidad': 0, 'importe_total': 0, 'precio_total': 0, 'ventas': 0})\n",
    "    \n",
    "    for venta in datos:\n",
    "        producto = venta['producto'].strip()\n",
    "        cantidad = int(venta['cantidad'])\n",
    "        precio = float(venta['precio'])\n",
    "        importe = cantidad * precio\n",
    "        \n",
    "       \n",
    "        resumen[producto]['cantidad'] += cantidad\n",
    "        resumen[producto]['importe_total'] += importe\n",
    "        resumen[producto]['precio_total'] += precio * cantidad  \n",
    "        resumen[producto]['ventas'] += 1  \n",
    "      \n",
    "    for producto in resumen:\n",
    "        resumen[producto]['precio_promedio'] = resumen[producto]['precio_total'] / resumen[producto]['cantidad']\n",
    "    \n",
    "    return resumen\n",
    "\n",
    "def informe_ventas(resumen):\n",
    "    print(f\"{'Producto':<30}{'Precio Promedio':<20}{'Unidades Vendidas':<20}{'Importe Total':<20}\")\n",
    "    print(\"-\" * 90)\n",
    "        \n",
    "    for producto in sorted(resumen):\n",
    "        datos_producto = resumen[producto]\n",
    "        precio_promedio = datos_producto['precio_promedio']\n",
    "        cantidad = datos_producto['cantidad']\n",
    "        importe_total = datos_producto['importe_total']\n",
    "               \n",
    "        print(f\"{producto:<30}{precio_promedio:<20.2f}{cantidad:<20}{importe_total:<20.2f}\")\n",
    "\n",
    "\n",
    "\n",
    "resumen = resumen_ventas(datos)\n",
    "informe_ventas(resumen)  \n",
    "print(\"------------------------------------------------------------------------------------------\")\n"
   ]
  }
 ],
 "metadata": {
  "kernelspec": {
   "display_name": "Python 3",
   "language": "python",
   "name": "python3"
  },
  "language_info": {
   "codemirror_mode": {
    "name": "ipython",
    "version": 3
   },
   "file_extension": ".py",
   "mimetype": "text/x-python",
   "name": "python",
   "nbconvert_exporter": "python",
   "pygments_lexer": "ipython3",
   "version": "3.12.5"
  }
 },
 "nbformat": 4,
 "nbformat_minor": 2
}
