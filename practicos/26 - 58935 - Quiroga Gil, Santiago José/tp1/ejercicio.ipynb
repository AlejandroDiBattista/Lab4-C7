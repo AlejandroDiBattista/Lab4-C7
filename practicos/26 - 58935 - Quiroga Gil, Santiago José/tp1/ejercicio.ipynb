{
 "cells": [
  {
   "cell_type": "markdown",
   "metadata": {},
   "source": [
    "# Trabajo práctico 1\n",
    "\n"
   ]
  },
  {
   "cell_type": "markdown",
   "metadata": {},
   "source": [
    "## Ejercicio 1 \n",
    "\n",
    "Escribe una función en Python que procese una lista de cadenas de texto y realice las siguientes acciones:\n",
    "\n",
    "1. La función debe tomar una lista de frases y convertir cada frase en una lista de palabras.\n",
    "1.  Luego, debe crear una nueva lista que contenga la cantidad de palabras en cada frase.\n",
    "1. Finalmente, la función debe imprimir cada frase original junto con la cantidad de palabras que contiene.\n",
    "Ejemplo de uso:\n",
    "```python\n",
    "    frases = [\n",
    "        \"Python es un lenguaje de programación\",\n",
    "        \"Me gusta resolver problemas con código\",\n",
    "        \"Las listas y los bucles son muy útiles\"\n",
    "    ]\n",
    "\n",
    "    procesar_frases(frases)\n",
    "```\n",
    "Requisitos:\n",
    "La función debe utilizar un bucle for para iterar sobre la lista de frases y contar las palabras en cada una.\n",
    "Debe crear y devolver una nueva lista con los conteos de palabras, y luego imprimir el resultado de forma clara."
   ]
  },
  {
   "cell_type": "code",
   "execution_count": 4,
   "metadata": {},
   "outputs": [
    {
     "name": "stdout",
     "output_type": "stream",
     "text": [
      "\u001b[1;37m La Frase: \u001b[1;32mPython es un lenguaje de programación \n",
      " \u001b[1;31m • \u001b[1;37m Tiene: \u001b[1;36m 6 palabras \u001b[1;37m y \u001b[1;33m 37 caracteres\n",
      " \u001b[1;37m\n",
      "\u001b[1;37m La Frase: \u001b[1;32mMe gusta resolver problemas con código \n",
      " \u001b[1;31m • \u001b[1;37m Tiene: \u001b[1;36m 6 palabras \u001b[1;37m y \u001b[1;33m 38 caracteres\n",
      " \u001b[1;37m\n",
      "\u001b[1;37m La Frase: \u001b[1;32mLas listas y los bucles son muy útiles \n",
      " \u001b[1;31m • \u001b[1;37m Tiene: \u001b[1;36m 8 palabras \u001b[1;37m y \u001b[1;33m 38 caracteres\n",
      " \u001b[1;37m\n"
     ]
    }
   ],
   "source": [
    "# Implementado\n",
    "lista_de_frases =  [\n",
    "        \"Python es un lenguaje de programación\",\n",
    "        \"Me gusta resolver problemas con código\",\n",
    "        \"Las listas y los bucles son muy útiles\"\n",
    "    ]\n",
    "\n",
    "def procesar_frases(frases):\n",
    "\n",
    "    lista_pal = []\n",
    "    for oracion in frases:\n",
    "        lista_pal.append(oracion.split())\n",
    "\n",
    "        cant_pal=[]\n",
    "        for palabras in lista_pal:\n",
    "            cant_pal.append(len(palabras))\n",
    "        \n",
    "        cant_carac=[]\n",
    "        for caracter in frases:\n",
    "            cant_carac.append(len(caracter))\n",
    "\n",
    "    for i in range(len(frases)):\n",
    "\n",
    "        print(f'{chr(27)+\"[1;37m\"} La Frase: {chr(27)+\"[1;32m\"}{frases[i]} ')\n",
    "        print(f' {chr(27)+\"[1;31m\"} • {chr(27)+\"[1;37m\"} Tiene: {chr(27)+\"[1;36m\"} {cant_pal[i]} palabras {chr(27)+\"[1;37m\"} y {chr(27)+\"[1;33m\"} {cant_carac[i]} caracteres\\n {chr(27)+\"[1;37m\"}')\n",
    "\n",
    "      \n",
    "\n",
    "procesar_frases(lista_de_frases)"
   ]
  },
  {
   "cell_type": "markdown",
   "metadata": {},
   "source": [
    "## Ejercicio 2\n",
    "\n",
    "Escribe una función en Python que encuentre los valores de `a`, `b`, y `c` para que la función cuadrática `f(x) = a x^2 + b x + c` pase exactamente por los siguientes puntos:\n",
    "\n",
    "| x  | y  |\n",
    "|---:|---:|\n",
    "|  0 |  0 |\n",
    "|  1 |  8 |\n",
    "|  2 | 12 |\n",
    "|  3 | 12 |\n",
    "|  5 |  0 |\n",
    "\n",
    "### Requisitos:\n",
    "- La función debe explorar posibles valores de `a`, `b`, y `c` utilizando un método de prueba y error.\n",
    "- Debe devolver los valores que hagan que la diferencia entre la función `f(x)` y los valores medidos `y` sea exactamente cero para cada punto.\n",
    "\n",
    "> **Pista**: Los valores de `a`, `b`, y `c` son números pequeños."
   ]
  },
  {
   "cell_type": "code",
   "execution_count": 5,
   "metadata": {},
   "outputs": [
    {
     "name": "stdout",
     "output_type": "stream",
     "text": [
      " \u001b[1;3mLa ecuacion cuadratica nos queda asi:\n",
      "        \u001b[1;32m•\u001b[1;3m  f(x) \u001b[1;37m= \u001b[1;34m-2 \u001b[1;37mx^2 \u001b[1;37m+ \u001b[1;33m10\u001b[1;37m x \u001b[1;37m+ \u001b[1;34m0\n",
      "        \u001b[1;32m•\u001b[1;3m  f(x) \u001b[1;37m= \u001b[1;34m a \u001b[1;37mx^2 \u001b[1;37m+ \u001b[1;33mb\u001b[1;37m x \u001b[1;37m+ \u001b[1;34mc\n"
     ]
    }
   ],
   "source": [
    "# Implementado\n",
    "\n",
    "def func_cuadratica():\n",
    "    datos = ((0, 0), (1, 8), (2, 12), (3, 12), (5, 0))\n",
    "    pasa = True\n",
    "\n",
    "    for a in range(-20, 20):\n",
    "        if a == 0:\n",
    "            break\n",
    "\n",
    "        for b in range(-20, 20):\n",
    "                        \n",
    "            for c in range(-20, 20):                \n",
    "                \n",
    "                for (x,y) in datos:\n",
    "                    \n",
    "                    fx =  a * x**2 + b * x + c\n",
    "\n",
    "                    if fx-y==0:\n",
    "                        pasa = True                        \n",
    "                    else:\n",
    "                        pasa = False\n",
    "                        break                        \n",
    "                if pasa:\n",
    "                    return a, b, c\n",
    "\n",
    "\n",
    "\n",
    "fc= func_cuadratica()\n",
    "if fc != None:\n",
    "    print(f' {chr(27)+\"[1;3m\"}La ecuacion cuadratica nos queda asi:')\n",
    "    print(f'        {chr(27)+\"[1;32m\"}•{chr(27)+\"[1;3m\"}  f(x) {chr(27)+\"[1;37m\"}= {chr(27)+\"[1;34m\"}{fc[0]} {chr(27)+\"[1;37m\"}x^2 {chr(27)+\"[1;37m\"}+ {chr(27)+\"[1;33m\"}{fc[1]}{chr(27)+\"[1;37m\"} x {chr(27)+\"[1;37m\"}+ {chr(27)+\"[1;34m\"}{fc[2]}')\n",
    "    print(f'        {chr(27)+\"[1;32m\"}•{chr(27)+\"[1;3m\"}  f(x) {chr(27)+\"[1;37m\"}= {chr(27)+\"[1;34m\"} a {chr(27)+\"[1;37m\"}x^2 {chr(27)+\"[1;37m\"}+ {chr(27)+\"[1;33m\"}b{chr(27)+\"[1;37m\"} x {chr(27)+\"[1;37m\"}+ {chr(27)+\"[1;34m\"}c')\n"
   ]
  }
 ],
 "metadata": {
  "kernelspec": {
   "display_name": "Python 3",
   "language": "python",
   "name": "python3"
  },
  "language_info": {
   "codemirror_mode": {
    "name": "ipython",
    "version": 3
   },
   "file_extension": ".py",
   "mimetype": "text/x-python",
   "name": "python",
   "nbconvert_exporter": "python",
   "pygments_lexer": "ipython3",
   "version": "3.12.5"
  }
 },
 "nbformat": 4,
 "nbformat_minor": 2
}
