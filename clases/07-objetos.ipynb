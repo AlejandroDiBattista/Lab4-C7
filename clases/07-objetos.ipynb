{
 "cells": [
  {
   "cell_type": "markdown",
   "metadata": {},
   "source": [
    "## Orientación a Objeto"
   ]
  },
  {
   "cell_type": "code",
   "execution_count": 4,
   "metadata": {},
   "outputs": [
    {
     "name": "stdout",
     "output_type": "stream",
     "text": [
      "10\n",
      "20\n",
      "30\n"
     ]
    }
   ],
   "source": [
    "# Implementación de una pila en Python usando un diccionario\n",
    "\n",
    "def Stack():\n",
    "    return {'cantidad': 0, 'items' : [None] * 10}\n",
    "\n",
    "def push(pila, valor):\n",
    "    pila['items'][pila['cantidad']] = valor\n",
    "    pila['cantidad'] += 1\n",
    "\n",
    "def pop(pila):\n",
    "    pila['cantidad'] -= 1\n",
    "    return pila['items'][pila['cantidad']]\n",
    "\n",
    "def empty(pila):\n",
    "    return pila['cantidad'] == 0    \n",
    "\n",
    "a = Stack()\n",
    "b = Stack()\n",
    "\n",
    "push(a, 10)\n",
    "push(a, 20)\n",
    "push(a, 30)\n",
    "\n",
    "push(b, pop(a))\n",
    "push(b, pop(a))\n",
    "push(b, pop(a))\n",
    "\n",
    "print(pop(b))\n",
    "print(pop(b))\n",
    "print(pop(b))\n"
   ]
  },
  {
   "cell_type": "code",
   "execution_count": 6,
   "metadata": {},
   "outputs": [
    {
     "name": "stdout",
     "output_type": "stream",
     "text": [
      "10\n",
      "20\n",
      "30\n"
     ]
    }
   ],
   "source": [
    "# Implementación de una pila en Python usando una lista\n",
    "\n",
    "def Stack():\n",
    "    return []\n",
    "\n",
    "def Stack_push(pila, valor):\n",
    "    pila.append(valor)\n",
    "\n",
    "def pop(pila):\n",
    "    return pila.pop()\n",
    "\n",
    "def empty(pila):\n",
    "    return len(pila) == 0\n",
    "\n",
    "a = Stack()\n",
    "b = Stack()\n",
    "\n",
    "push(a, 10)\n",
    "push(a, 20)\n",
    "push(a, 30)\n",
    "\n",
    "while not empty(a):\n",
    "    push(b, pop(a))\n",
    "\n",
    "while not empty(b):\n",
    "    print(pop(b))"
   ]
  },
  {
   "cell_type": "code",
   "execution_count": null,
   "metadata": {},
   "outputs": [],
   "source": []
  },
  {
   "cell_type": "code",
   "execution_count": 11,
   "metadata": {},
   "outputs": [
    {
     "name": "stdout",
     "output_type": "stream",
     "text": [
      "30\n",
      "20\n",
      "10\n"
     ]
    }
   ],
   "source": [
    "# Implementación de una pila en Python usando una clase\n",
    "\n",
    "class Stack:\n",
    "    def __init__(self):\n",
    "        self.items = []\n",
    "\n",
    "    def push(self, valor):\n",
    "        self.items.append(valor)\n",
    "\n",
    "    def pop(self):\n",
    "        return self.items.pop()\n",
    "    \n",
    "    def empty(self):\n",
    "        return len(self.items) == 0\n",
    "    \n",
    "a = Stack()\n",
    "a.push(10) # Stack.push(a, 10)\n",
    "a.push(20) # Stack.push(a, 20)\n",
    "a.push(30) # Stack.push(a, 30)\n",
    "print(a.pop()) # Stack.pop(a)\n",
    "print(a.pop()) # Stack.pop(a)\n",
    "print(a.pop()) # Stack.pop(a)\n"
   ]
  },
  {
   "cell_type": "code",
   "execution_count": 17,
   "metadata": {},
   "outputs": [
    {
     "name": "stdout",
     "output_type": "stream",
     "text": [
      "<class 'int'>\n",
      "<class 'bool'>\n",
      "<class 'str'>\n",
      "['H', 'o', 'l', 'a']\n"
     ]
    }
   ],
   "source": [
    "a = 10\n",
    "b = True \n",
    "c = \"Hola\"\n",
    "\n",
    "print(type(a))\n",
    "print(type(b))\n",
    "print(type(c))\n",
    "d = bool(\"\") # False\n",
    "e = bool(\"Hola\") # True\n",
    "\n",
    "f = int(\"10\")\n",
    "g = str(10)\n",
    "l = list(\"Hola\")\n",
    "print(l)\n"
   ]
  },
  {
   "cell_type": "code",
   "execution_count": 24,
   "metadata": {},
   "outputs": [
    {
     "data": {
      "text/plain": [
       "['__call__',\n",
       " '__class__',\n",
       " '__delattr__',\n",
       " '__dir__',\n",
       " '__doc__',\n",
       " '__eq__',\n",
       " '__format__',\n",
       " '__func__',\n",
       " '__ge__',\n",
       " '__getattribute__',\n",
       " '__getstate__',\n",
       " '__gt__',\n",
       " '__hash__',\n",
       " '__init__',\n",
       " '__init_subclass__',\n",
       " '__le__',\n",
       " '__lt__',\n",
       " '__ne__',\n",
       " '__new__',\n",
       " '__reduce__',\n",
       " '__reduce_ex__',\n",
       " '__repr__',\n",
       " '__self__',\n",
       " '__setattr__',\n",
       " '__sizeof__',\n",
       " '__str__',\n",
       " '__subclasshook__']"
      ]
     },
     "execution_count": 24,
     "metadata": {},
     "output_type": "execute_result"
    }
   ],
   "source": [
    "n = 10\n",
    "# dir(Stack)\n",
    "p = Stack()\n",
    "dir(p.empty())"
   ]
  },
  {
   "cell_type": "code",
   "execution_count": 46,
   "metadata": {},
   "outputs": [
    {
     "name": "stdout",
     "output_type": "stream",
     "text": [
      "Ejecutando bool\n",
      "Es verdadero\n",
      "Ejecutando bool\n",
      ">di battista, alejnadro (30)\n"
     ]
    }
   ],
   "source": [
    "class Persona:\n",
    "    def __init__(self, nombre, apellido, edad):\n",
    "        self.nombre = nombre\n",
    "        self.apellido = apellido\n",
    "        self.edad = edad\n",
    "\n",
    "    def __str__(self):\n",
    "        return f\">{self.apellido}, {self.nombre} ({self.edad})\"\n",
    "    \n",
    "    def __bool__(self):\n",
    "        print(\"Ejecutando bool\")    \n",
    "        return self.nombre != '' and self.apellido != ''\n",
    "    \n",
    "    def __len__(self):\n",
    "        print(\"Ejecutando len\")\n",
    "        return len(self.nombre) + len(self.apellido)\n",
    "p = Persona('alejnadro', 'di battista', 30)\n",
    "\n",
    "# print(len(p))\n",
    "if p:\n",
    "    print(\"Es verdadero\")\n",
    "else:\n",
    "    print(\"Es falso\")\n",
    "print(p or True)"
   ]
  },
  {
   "cell_type": "code",
   "execution_count": 8,
   "metadata": {},
   "outputs": [
    {
     "name": "stdout",
     "output_type": "stream",
     "text": [
      "False\n",
      "False\n",
      "holaholahola\n",
      "holaholahola\n",
      "hola mundo!hola mundo!hola mundo!; chau.hola mundo!hola mundo!hola mundo!; chau.\n"
     ]
    },
    {
     "data": {
      "text/plain": [
       "{'__bool__', 'nombreCompleto'}"
      ]
     },
     "execution_count": 8,
     "metadata": {},
     "output_type": "execute_result"
    }
   ],
   "source": [
    "class Base: pass \n",
    "\n",
    "class Empleado:\n",
    "    def __init__(self, nombre, apellido, edad, salario):\n",
    "        self.nombre = nombre\n",
    "        self.apellido = apellido\n",
    "        self.edad = edad\n",
    "        self.salario = salario\n",
    "\n",
    "    def nombreCompleto(self):\n",
    "        return f\"{self.nombre} {self.apellido}\"\n",
    "    \n",
    "    def __str__(self):\n",
    "        return f\">{self.apellido}, {self.nombre} ({self.edad}) - {self.salario}\"\n",
    "    \n",
    "    def __bool__(self):\n",
    "        return self.nombre != '' and self.apellido != ''\n",
    "    \n",
    "    def __repr__(self):\n",
    "        return f\"Empleado({self.nombre}, {self.apellido}, {self.edad}, {self.salario})\"\n",
    "    \n",
    "    def __eq__(self, otro):\n",
    "        return self.nombre == otro.nombre and self.apellido == otro.apellido and self.edad == otro.edad and self.salario == otro.salario\n",
    "    \n",
    "a = Empleado('Alejandro', 'Di Battista', 30, 1000)\n",
    "b = Empleado('Franco', 'Di Battista', 18, 1000)\n",
    "print(a==b)\n",
    "print(a.__eq__(b))\n",
    "\n",
    "dir(\"hola\")\n",
    "print(\"hola\" * 3)\n",
    "print(\"hola\".__mul__(3))\n",
    "v = ((\"hola\" + \" mundo!\") * 3 + \"; chau.\") * 2\n",
    "print(v)\n",
    "\n",
    "set(dir(Empleado))-set(dir(Base))"
   ]
  },
  {
   "cell_type": "code",
   "execution_count": null,
   "metadata": {},
   "outputs": [],
   "source": []
  }
 ],
 "metadata": {
  "kernelspec": {
   "display_name": "Python 3",
   "language": "python",
   "name": "python3"
  },
  "language_info": {
   "codemirror_mode": {
    "name": "ipython",
    "version": 3
   },
   "file_extension": ".py",
   "mimetype": "text/x-python",
   "name": "python",
   "nbconvert_exporter": "python",
   "pygments_lexer": "ipython3",
   "version": "3.12.5"
  }
 },
 "nbformat": 4,
 "nbformat_minor": 2
}
