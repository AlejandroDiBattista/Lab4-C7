{
 "cells": [
  {
   "cell_type": "markdown",
   "metadata": {},
   "source": [
    "# Colecciones Básicas\n",
    "\n",
    "- list: (listas) Coleccion ordenada de elementos eterogenos que se acceden mediante un indice\n",
    "- dic:  (diccionarios) Coleccion ordenada de elementos eterogeneos que se aceden mediante una clave \n",
    "- set: (conjuntos) Coleccion de elementos homogeneos no ordenadas\n",
    "- tuple: (tuplas) Listas inmutables."
   ]
  },
  {
   "cell_type": "markdown",
   "metadata": {},
   "source": [
    "## List "
   ]
  },
  {
   "cell_type": "code",
   "execution_count": 1,
   "metadata": {},
   "outputs": [
    {
     "name": "stdout",
     "output_type": "stream",
     "text": [
      "\n",
      " Lista vacia\n",
      " []\n",
      "\n",
      " Lista vacia\n",
      " []\n",
      "\n",
      " Lista con valores\n",
      " [1, 2, 3, 4, 5]\n"
     ]
    }
   ],
   "source": [
    "## Creación de una lista \n",
    "\n",
    "a = []                  # Lista vacia\n",
    "print(\"\\n Lista vacia\\n\", a)\n",
    "\n",
    "b = list()                      # Lista vacia con el metodo list()\n",
    "print(\"\\n Lista vacia\\n\", b)\n",
    "\n",
    "a = [1, 2, 3, 4, 5]     # Lista con valores\n",
    "print(\"\\n Lista con valores\\n\", a)\n"
   ]
  },
  {
   "cell_type": "code",
   "execution_count": 2,
   "metadata": {},
   "outputs": [
    {
     "name": "stdout",
     "output_type": "stream",
     "text": [
      "\n",
      " Lista con valores del 0 al 9\n",
      " [0, 1, 2, 3, 4, 5, 6, 7, 8, 9]\n",
      "\n",
      " Lista con valores del 0 al 9\n",
      " [0, 1, 2, 3, 4, 5, 6, 7, 8, 9]\n",
      "\n",
      " Lista con los caracteres de la cadena 'Hola Mundo'\n",
      " ['H', 'o', 'l', 'a', ' ', 'M', 'u', 'n', 'd', 'o']\n",
      "Hola Mundo\n",
      "H-o-l-a- -M-u-n-d-o\n",
      "\n",
      " Cadena separada por ';'\n",
      " ['10', '20', '30', '40', '50']\n"
     ]
    }
   ],
   "source": [
    "## Creación de una lista con el metodo range()\n",
    "\n",
    "# Manualmente lo hariamos asi\n",
    "b = []\n",
    "for i in range(10):\n",
    "    b.append(i)\n",
    "print(\"\\n Lista con valores del 0 al 9\\n\", b)\n",
    "\n",
    "# Podemos usar el constructor list() para hacerlo mas facil\n",
    "c = list(range(10))\n",
    "print(\"\\n Lista con valores del 0 al 9\\n\", c)\n",
    "\n",
    "# Crear una lista a partir de una secuencia de caracteres (str)\n",
    "d = list(\"Hola Mundo\")\n",
    "print(\"\\n Lista con los caracteres de la cadena 'Hola Mundo'\\n\", d)\n",
    "\n",
    "# Unir los elementos de una lista en una cadena \n",
    "print(\"\".join(d)) # Join es un metodo del str \n",
    "#: Hola Mundo\n",
    "\n",
    "print(\"-\".join(d)) # Join es un metodo del str\n",
    "#: H-o-l-a- -M-u-n-d-o\n",
    "\n",
    "# Separar una cadena en una lista \n",
    "d = \"10;20;30;40;50\"\n",
    "e = d.split(\";\")\n",
    "print(\"\\n Cadena separada por ';'\\n\", e)\n",
    "#: ['10', '20', '30', '40', '50']"
   ]
  },
  {
   "cell_type": "code",
   "execution_count": 4,
   "metadata": {},
   "outputs": [
    {
     "name": "stdout",
     "output_type": "stream",
     "text": [
      "\n",
      " Lista con los cuadrados de los numeros del 0 al 9\n",
      " [0, 1, 4, 9, 16, 25, 36, 49, 64, 81]\n",
      "\n",
      " Lista con los cuadrados de los numeros del 0 al 9\n",
      " [0, 1, 4, 9, 16, 25, 36, 49, 64, 81]\n"
     ]
    }
   ],
   "source": [
    "## Crear una lista por comprensión (List Comprehension)\n",
    "\n",
    "# Manualmente lo hariamos asi\n",
    "f = []\n",
    "for i in range(10):\n",
    "    f.append(i * i) # <--- Expresion que se agrega a la lista\n",
    "\n",
    "print(\"\\n Lista con los cuadrados de los numeros del 0 al 9\\n\", f)\n",
    "\n",
    "# Podemos usar una lista por comprension para hacerlo mas facil\n",
    "f = [ i * i for i in range(10)]\n",
    "\n",
    "print(\"\\n Lista con los cuadrados de los numeros del 0 al 9\\n\", f)\n"
   ]
  },
  {
   "cell_type": "code",
   "execution_count": 5,
   "metadata": {},
   "outputs": [
    {
     "name": "stdout",
     "output_type": "stream",
     "text": [
      "\n",
      " Lista original\n",
      " [10, 20, 30, 40, 50]\n",
      "\n",
      " Longitud de la lista\n",
      " 5\n",
      "\n",
      " Primer elemento de la lista\n",
      " 10\n",
      "\n",
      " Ultimo elemento de la lista\n",
      " 50\n",
      "\n",
      " Ultimo elemento de la lista\n",
      " 50\n"
     ]
    }
   ],
   "source": [
    "## Acceder a los elementos de una lista (con indices)\n",
    "\n",
    "a = [10, 20, 30, 40, 50]\n",
    "print(\"\\n Lista original\\n\", a)\n",
    "\n",
    "print(\"\\n Longitud de la lista\\n\", len(a))\n",
    "\n",
    "b = a[0]    # Las listas en python son 0-indexadas \n",
    "print(\"\\n Primer elemento de la lista\\n\", b)\n",
    "\n",
    "# Si queremos acceder al ultimo elemento de la lista\n",
    "u = a[len(a) - 1] \n",
    "print(\"\\n Ultimo elemento de la lista\\n\", u)\n",
    "\n",
    "# Podemos usar indices negativos para acceder a los elementos de la lista\n",
    "u = a[-1]\n",
    "print(\"\\n Ultimo elemento de la lista\\n\", u)\n"
   ]
  },
  {
   "cell_type": "code",
   "execution_count": 6,
   "metadata": {},
   "outputs": [
    {
     "name": "stdout",
     "output_type": "stream",
     "text": [
      "\n",
      " Lista original\n",
      " [10, 20, 30, 40, 50]\n",
      "\n",
      " Lista modificada\n",
      " [100, 20, 30, 40, 50]\n",
      "[100, 20, 30, 40, 500]\n"
     ]
    }
   ],
   "source": [
    "## Modificar los elementos de una lista\n",
    "\n",
    "# Cuando la usamos a la izquierda de una asignacion, podemos modificar los elementos de la lista\n",
    "\n",
    "a = [10, 20, 30, 40, 50]\n",
    "print(\"\\n Lista original\\n\", a)\n",
    "\n",
    "a[0] = 100   # Modificamos el primer elemento de la lista\n",
    "print(\"\\n Lista modificada\\n\", a)\n",
    "#: [100, 20, 30, 40, 50]\n",
    "\n",
    "a[-1] = 500  # Modificamos el ultimo elemento de la lista\n",
    "print(a)\n",
    "#: [100, 20, 30, 40, 500]"
   ]
  },
  {
   "cell_type": "code",
   "execution_count": 9,
   "metadata": {},
   "outputs": [
    {
     "name": "stdout",
     "output_type": "stream",
     "text": [
      "\n",
      "Cadena original\n",
      " Hola Mundo\n",
      "primero:H\n",
      "ultimo:o\n"
     ]
    }
   ],
   "source": [
    "## Las cadenas son listas inmutables\n",
    "s = \"Hola Mundo\"\n",
    "print(\"\\nCadena original\\n\", s)\n",
    "\n",
    "p = s[0]        # Primer caracter de la cadena\n",
    "u = s[-1]       # Ultimo caracter de la cadena\n",
    "\n",
    "print(f\"primero:{p}\\nultimo:{u}\")\n",
    "#: primero:H\n",
    "#: ultimo:o\n",
    "\n",
    "# s[-1] = \"X\" ERRROR Las str son inmutables\n"
   ]
  },
  {
   "cell_type": "code",
   "execution_count": 12,
   "metadata": {},
   "outputs": [
    {
     "name": "stdout",
     "output_type": "stream",
     "text": [
      "\n",
      " Sublista de 2 a 5\n",
      " [30, 40, 50]\n",
      "\n",
      " Sublista de [2:5]\n",
      " [30, 40, 50]\n",
      "\n",
      " Sublista de [3:]\n",
      " [40, 50, 60, 70, 80, 90]\n",
      "\n",
      " Sublista de [:5]\n",
      " [10, 20, 30, 40, 50]\n",
      "\n",
      " Copia de la lista original\n",
      " [10, 20, 30, 40, 50, 60, 70, 80, 90]\n"
     ]
    }
   ],
   "source": [
    "## Sublistas (slices) de una lista \n",
    "\n",
    "# El operador [star:stop:step] nos permite obtener una sublista de una lista \n",
    "\n",
    "#    0   1   2   3   4   5   6   7   8\n",
    "a = [10, 20, 30, 40, 50, 60, 70, 80, 90]\n",
    "\n",
    "# Queremos obtener una sublista de los elementos de la lista original (Del 2 al 5 sin incluir)\n",
    "# Manualmente lo hariamos asi\n",
    "b = []\n",
    "for i in range(2, 5):\n",
    "    b.append( a[i] )\n",
    "\n",
    "print(\"\\n Sublista de 2 a 5\\n\", b)\n",
    "\n",
    "# Podemos usar slices para hacerlo mas facil\n",
    "c = a[2:5] #slice (rebanada)\n",
    "print(\"\\n Sublista de [2:5]\\n\", c)\n",
    "\n",
    "# Sino se especifica el final (stop) se toma hasta el final de la lista\n",
    "d = a[3:]\n",
    "print(\"\\n Sublista de [3:]\\n\", d)\n",
    "#: [40, 50, 60, 70, 80, 90]\n",
    "\n",
    "# Sino se especifica el inicio (start) se toma desde el principio de la lista\n",
    "e = a[:5]\n",
    "print(\"\\n Sublista de [:5]\\n\", e)\n",
    "#: [10, 20, 30, 40, 50]\n",
    "\n",
    "# Si se omite el inicio y el final se obtiene una copia de la lista original\n",
    "f = a[:] # Equivale a f = a.copy()\n",
    "print(\"\\n Copia de la lista original\\n\", f)"
   ]
  },
  {
   "cell_type": "code",
   "execution_count": 15,
   "metadata": {},
   "outputs": [
    {
     "name": "stdout",
     "output_type": "stream",
     "text": [
      "Asignacion por referencia\n",
      "[1, 2, 3] [1, 2, 3]\n",
      "[1, 200, 3] [1, 200, 3]\n",
      "[1, 200, 300] [1, 200, 300]\n",
      "\n",
      "Asignacion por valor (copia)\n",
      "[1, 2, 3] [1, 2, 3]\n",
      "[1, 2, 3] [1, 200, 3]\n",
      "[1, 2, 300] [1, 200, 3]\n"
     ]
    }
   ],
   "source": [
    "## Las listas son variables por referencia\n",
    "print(\"Asignacion por referencia\")\n",
    "a = [1, 2, 3]\n",
    "b = a           # b es una referencia a la lista a (no es una copia)\n",
    "print(a, b)     # a y b son la misma lista\n",
    "\n",
    "b[1] = 200      # Modificamos el segundo elemento de la lista 'b'\n",
    "print(a,b)      # se modifica la lista 'a' tambien\n",
    "#: [1, 200, 3] [1, 200, 3]\n",
    "\n",
    "a[-1] = 300     # Modificamos el ultimo elemento de la lista 'a'\n",
    "print(a,b)      # se modifica la lista 'b' tambien\n",
    "#: [1, 200, 300] [1, 200, 300]\n",
    "\n",
    "## Copiar una lista\n",
    "print(\"\\nAsignacion por valor (copia)\")\n",
    "a = [1, 2, 3]\n",
    "b = a[:]       # Creamos una copia de la lista 'a' (tambien se puede usar a.copy())\n",
    "print(a, b)    # a y b son listas distintas\n",
    "\n",
    "b[1] = 200     # Modificamos el segundo elemento de la lista 'b'\n",
    "print(a,b)     # 'a' no se modifica\n",
    "#: [1, 2, 3] [1, 200, 3]\n",
    "\n",
    "a[-1] = 300    # Modificamos el ultimo elemento de la lista 'a'\n",
    "print(a,b)     # 'b' no se modifica\n",
    "#: [1, 2, 300] [1, 200, 3]\n"
   ]
  },
  {
   "cell_type": "code",
   "execution_count": 19,
   "metadata": {},
   "outputs": [
    {
     "name": "stdout",
     "output_type": "stream",
     "text": [
      "\n",
      "Asignacion por referencia\n",
      " antes  : [40, 10, 50, 20, 90]\n",
      " Lista Ordenada: [10, 20, 40, 50, 90]\n",
      " despues: [10, 20, 40, 50, 90]\n",
      "\n",
      "Asignacion por valor (copia)\n",
      " antes  : [40, 10, 50, 20, 90]\n",
      " Lista Ordenada: [10, 20, 40, 50, 90]\n",
      " despues: [40, 10, 50, 20, 90]\n"
     ]
    }
   ],
   "source": [
    "## La asignacion por referencia puede tener efectos secundarios inesperados\n",
    "\n",
    "# Queremos mostrar la lista ordenada \n",
    "def mostrar(lista):\n",
    "    lista.sort()\n",
    "    print(' Lista Ordenada:', lista)\n",
    "\n",
    "print(\"\\nAsignacion por referencia\")\n",
    "a = [40, 10, 50, 20, 90]\n",
    "print(\" antes  :\", a)\n",
    "#: antes  : [40, 10, 50, 20, 90]\n",
    "\n",
    "mostrar(a)\n",
    "#: Lista Ordenada: [10, 20, 40, 50, 90]\n",
    "\n",
    "print(\" despues:\", a)\n",
    "#: despues: [10, 20, 40, 50, 90]\n",
    "\n",
    "# La funcion mostrar modifico el valor de 'a' (porque 'a' es una referencia a la lista original)\n",
    "\n",
    "## Para evitar efectos secundarios inesperados, podemos hacer una copia de la lista dentro de la funcion\n",
    "print(\"\\nAsignacion por valor (copia)\")\n",
    "def mostrar(lista):\n",
    "    lista = lista.copy()  # Creamos una copia de la lista original\n",
    "    lista.sort()\n",
    "    print(' Lista Ordenada:', lista)\n",
    "\n",
    "a = [40, 10, 50, 20, 90]\n",
    "print(\" antes  :\", a)\n",
    "#: antes  : [40, 10, 50, 20, 90]\n",
    "mostrar(a)\n",
    "#: Lista Ordenada: [10, 20, 40, 50, 90]\n",
    "print(\" despues:\", a)\n",
    "#: despues: [40, 10, 50, 20, 90]\n"
   ]
  },
  {
   "cell_type": "code",
   "execution_count": 20,
   "metadata": {},
   "outputs": [
    {
     "name": "stdout",
     "output_type": "stream",
     "text": [
      "\n",
      "Lista original\n",
      " [10, 20, 30, 40, 50, 60, 70, 80, 90]\n",
      "\n",
      " Lista modificada\n",
      " [10, 20, 300, 400, 500, 60, 70, 80, 90]\n"
     ]
    }
   ],
   "source": [
    "## Modificar una sublista de una lista\n",
    "\n",
    "#    0   1   2   3   4   5   6   7   8\n",
    "a = [10, 20, 30, 40, 50, 60, 70, 80, 90]\n",
    "print(\"\\nLista original\\n\", a)\n",
    "\n",
    "a[2:5] = [300, 400, 500]            # Reeemplazamos los elementos de la sublista [2:5]\n",
    "print(\"\\n Lista modificada\\n\", a)\n",
    "#: [10, 20, 300, 400, 500, 60, 70, 80, 90]"
   ]
  },
  {
   "cell_type": "code",
   "execution_count": 20,
   "metadata": {},
   "outputs": [
    {
     "name": "stdout",
     "output_type": "stream",
     "text": [
      "\n",
      "Lista original\n",
      " [10, 20, 30, 40, 50, 60, 70, 80, 90]\n",
      "\n",
      " Lista modificada\n",
      " [10, 20, 60, 70, 80, 90]\n"
     ]
    }
   ],
   "source": [
    "## Si la longitud de la sublista es diferente a la longitud de la lista que reemplaza\n",
    "\n",
    "#    0   1   2   3   4   5   6   7   8\n",
    "a = [10, 20, 30, 40, 50, 60, 70, 80, 90]\n",
    "print(\"\\nLista original\\n\", a)\n",
    "\n",
    "a[2:5] = []\n",
    "print(\"\\n Lista modificada\\n\", a) # Eliminamos los elementos de la sublista [2:5]"
   ]
  },
  {
   "cell_type": "code",
   "execution_count": 21,
   "metadata": {},
   "outputs": [
    {
     "name": "stdout",
     "output_type": "stream",
     "text": [
      "\n",
      "Lista original\n",
      " [10, 20, 30, 40, 50, 60, 70, 80, 90]\n",
      "\n",
      " Lista modificada\n",
      " [10, 20, 2000, 3000, 60, 70, 80, 90]\n"
     ]
    }
   ],
   "source": [
    "#    0   1   2   3   4   5   6   7   8\n",
    "a = [10, 20, 30, 40, 50, 60, 70, 80, 90]\n",
    "print(\"\\nLista original\\n\", a)\n",
    "\n",
    "## Borramos un elemento de la lista\n",
    "a[2:5] = [2000, 3000]        # Agregamos elementos a la sublista [2:5] (remplazamos 3 elementos por 2)\n",
    "print(\"\\n Lista modificada\\n\", a)\n",
    "#: [10, 20, 2000, 3000, 60, 70, 80, 90] # 30, 40 y 50 fueron reemplazados por 2000 y 3000\n"
   ]
  },
  {
   "cell_type": "code",
   "execution_count": 28,
   "metadata": {},
   "outputs": [
    {
     "name": "stdout",
     "output_type": "stream",
     "text": [
      "\n",
      "Lista original\n",
      " [10, 20, 30, 40, 50, 60, 70, 80, 90]\n",
      "\n",
      " Lista modificada\n",
      " [10, 20, 2000, 3000, 4000, 5000, 60, 70, 80, 90]\n",
      "[1000, 1100, 1200, 10, 20, 30, 40]\n",
      "[10, 20, 30, 1000, 1100, 1200, 40]\n",
      "[10, 20, 30, 40, 1000, 1100, 1200]\n",
      "[10, 20, 30, 40, 1000, 1100, 1200]\n"
     ]
    }
   ],
   "source": [
    "#    0   1   2   3   4   5   6   7   8\n",
    "a = [10, 20, 30, 40, 50, 60, 70, 80, 90]\n",
    "\n",
    "print(\"\\nLista original\\n\", a)\n",
    "a[2:5] = [2000, 3000, 4000, 5000]       # Agregamos elementos a la sublista [2:5] (remplazamos 3 elementos por 4)\n",
    "print(\"\\n Lista modificada\\n\", a)\n",
    "#: [10, 20, 2000, 3000, 4000, 5000, 60, 70, 80, 90] # 30, 40 y 50 fueron reemplazados por 2000, 3000, 4000 y 5000\n",
    "\n",
    "## Agregarmos elementos al inicio y al final de una lista\n",
    "a = [10, 20, 30, 40]\n",
    "\n",
    "a[0:0] = [1000, 1100, 1200] # Agregamos elementos al inicio de la lista [0:0]\n",
    "print(a)\n",
    "#: [1000, 1100, 1200, 10, 20, 30, 40]\n",
    "\n",
    "a = [10, 20, 30, 40]\n",
    "\n",
    "a[-1:-1] = [1000, 1100, 1200]\n",
    "print(a)                # Agregamos elementos al final de la lista [-1:-1] (Justo antes del ultimo elemento)\n",
    "#: [10, 20, 30, 1000, 1100, 1200, 40]\n",
    "\n",
    "# Para agregar al final de la lista podemos usar el slice [len(a):len(a)] o usar el metodo extend()\n",
    "a = [10, 20, 30, 40]\n",
    "a[len(a):len(a)] = [1000, 1100, 1200]\n",
    "print(a)\n",
    "#: [10, 20, 30, 40, 1000, 1100, 1200]\n",
    "\n",
    "a = [10, 20, 30, 40]\n",
    "a.extend([1000, 1100, 1200])  # Agregamos una lista al final de la lista original\n",
    "print(a)\n",
    "#: [10, 20, 30, 40, 1000, 1100, 1200]"
   ]
  },
  {
   "cell_type": "code",
   "execution_count": 30,
   "metadata": {},
   "outputs": [
    {
     "name": "stdout",
     "output_type": "stream",
     "text": [
      "\n",
      "Lista original\n",
      " [10, 20, 30, 40, 50, 60, 70, 80, 90]\n",
      "\n",
      " Sublista de [2:5:2]\n",
      " [30, 50]\n",
      "\n",
      " Sublista de [::2]\n",
      " [10, 30, 50, 70, 90]\n",
      "\n",
      " Sublista de [::-1]\n",
      " [90, 80, 70, 60, 50, 40, 30, 20, 10]\n"
     ]
    }
   ],
   "source": [
    "## Saltar elementos de una lista (slice con step)\n",
    "\n",
    "a = [10, 20, 30, 40, 50, 60, 70, 80, 90]\n",
    "print(\"\\nLista original\\n\", a)\n",
    "\n",
    "b = a[2:5:2]            # Obtenemos los elementos de la sublista [2:5] saltando de 2 en 2\n",
    "print(\"\\n Sublista de [2:5:2]\\n\", b)\n",
    "#: [30, 50]\n",
    "\n",
    "c = a[::2]              # Obtenemos todos elementos saltando de 2 en 2\n",
    "print(\"\\n Sublista de [::2]\\n\", c)\n",
    "\n"
   ]
  },
  {
   "cell_type": "code",
   "execution_count": 33,
   "metadata": {},
   "outputs": [
    {
     "name": "stdout",
     "output_type": "stream",
     "text": [
      "\n",
      " Sublista de [::-1]\n",
      " [90, 80, 70, 60, 50, 40, 30, 20, 10]\n",
      "\n",
      " Lista invertida\n",
      " [90, 80, 70, 60, 50, 40, 30, 20, 10]\n",
      "\n",
      " Lista invertida (iterador)\n",
      " <list_reverseiterator object at 0x11a605210>\n",
      "\n",
      " Lista invertida\n",
      " [90, 80, 70, 60, 50, 40, 30, 20, 10]\n"
     ]
    }
   ],
   "source": [
    "# Invertir una lista \n",
    "a = [10, 20, 30, 40, 50, 60, 70, 80, 90]\n",
    "d = a[::-1]            # Obtenemos todos los elementos en orden inverso\n",
    "print(\"\\n Sublista de [::-1]\\n\", d)\n",
    "#: [90, 80, 70, 60, 50, 40, 30, 20, 10]\n",
    "\n",
    "# Invertir una lista (con el metodo reverse())\n",
    "a = [10, 20, 30, 40, 50, 60, 70, 80, 90]\n",
    "a.reverse()            # Invertimos la lista original\n",
    "# El metodo reverse() modifica la lista original (no crea una nueva lista)\n",
    "print(\"\\n Lista invertida\\n\", a)\n",
    "#: [90, 80, 70, 60, 50, 40, 30, 20, 10]\n",
    "\n",
    "a = [10, 20, 30, 40, 50, 60, 70, 80, 90]\n",
    "b = reversed(a)        # reversed() crea un iterador que genera los elementos de la lista en orden inverso\n",
    "# reversed() no modifica la lista original (no crea una nueva lista)\n",
    "\n",
    "print(\"\\n Lista invertida (iterador)\\n\", b)\n",
    "#: <list_reverseiterator>\n",
    "\n",
    "print(\"\\n Lista invertida\\n\", list(b))\n",
    "#: [90, 80, 70, 60, 50, 40, 30, 20, 10]\n"
   ]
  },
  {
   "cell_type": "code",
   "execution_count": 34,
   "metadata": {},
   "outputs": [
    {
     "name": "stdout",
     "output_type": "stream",
     "text": [
      "\n",
      " Lista original\n",
      " [1, 2, 3, 4]\n",
      "\n",
      " Lista modificada\n",
      " [1, 2, 100, 3, 4]\n",
      "\n",
      " Lista modificada\n",
      " [200, 1, 2, 100, 3, 4]\n",
      "\n",
      " Lista modificada\n",
      " [200, 1, 2, 100, 3, 4, 300]\n",
      "\n",
      " Lista modificada\n",
      " [200, 1, 2, 100, 3, 4, 300, 400]\n"
     ]
    }
   ],
   "source": [
    "## Insersion de elementos en una lista\n",
    "\n",
    "a = [1, 2, 3, 4]\n",
    "print(\"\\n Lista original\\n\", a)\n",
    "\n",
    "a.insert(2, 100)        # Insertamos el valor 100 en la posicion 2\n",
    "print(\"\\n Lista modificada\\n\", a)\n",
    "#: [1, 2, 100, 3, 4] \n",
    "\n",
    "a.insert(0, 200)        # Insertamos el valor 200 en la posicion 0\n",
    "print(\"\\n Lista modificada\\n\", a)\n",
    "#: [200, 1, 2, 100, 3, 4]\n",
    "\n",
    "a.insert(len(a), 300)   # Insertamos el valor 300 en la ultima posicion\n",
    "print(\"\\n Lista modificada\\n\", a)\n",
    "#: [200, 1, 2, 100, 3, 4, 300]\n",
    "\n",
    "a.insert(len(a) + 100, 400) # Insertamos el valor 400 en la ultima posicion\n",
    "print(\"\\n Lista modificada\\n\", a) # Si el indice es mayor a la longitud de la lista, se inserta al final\n",
    "#: [200, 1, 2, 100, 3, 4, 300, 400]"
   ]
  },
  {
   "cell_type": "code",
   "execution_count": 51,
   "metadata": {},
   "outputs": [
    {
     "name": "stdout",
     "output_type": "stream",
     "text": [
      "[10, 20, 30, 40] 50\n",
      "[10, 20, 40, 50] 30\n"
     ]
    }
   ],
   "source": [
    "## Sacar elementos de una lista\n",
    "\n",
    "# Con el operador slice [star:stop] podemos obtener una sublista de una lista\n",
    "a = [10, 20, 30, 40, 50]\n",
    "b = a[-1]    # Obtenemos el ultimo elemento de la lista\n",
    "a = a[:-1]   # Obtenemos todos los elementos menos el ultimo (borramos el ultimo elemento)\n",
    "print(a, b)\n",
    "#: [10, 20, 30, 40] 50\n",
    "\n",
    "# Con el metodo pop() podemos obtener y eliminar un elemento de una lista\n",
    "a = [10, 20, 30, 40, 50]\n",
    "b = a.pop()     # Obtenemos y eliminamos el ultimo elemento de la lista\n",
    "print(a, b)\n",
    "#: [10, 20, 30, 40] 50\n",
    "\n",
    "a = [10, 20, 30, 40, 50]\n",
    "b = a.pop(0)    # Obtenemos y eliminamos el primer elemento de la lista\n",
    "print(a, b)\n",
    "#: [20, 30, 40, 50] 10\n",
    "\n",
    "## Eliminar elementos de una lista\n",
    "a = [10, 20, 30, 40, 50]\n",
    "b = a.pop(2)    # Obtenemos y eliminamos el elemento en la posicion 2\n",
    "#: [10, 20, 40, 50] 30\n",
    "\n",
    "# pop(n) elimina el elemento en la posicion n y devuelve el elemento eliminado"
   ]
  },
  {
   "cell_type": "code",
   "execution_count": 58,
   "metadata": {},
   "outputs": [
    {
     "name": "stdout",
     "output_type": "stream",
     "text": [
      "[10, 30, 40, 50, 20, 30, 20]\n",
      "False\n"
     ]
    }
   ],
   "source": [
    "## Remover elementos de una lista\n",
    "\n",
    "a = [10, 20, 30, 40, 50, 20, 30, 20]\n",
    "a.remove(20)            # Eliminamos la primera ocurrencia del valor 20\n",
    "print(a)\n",
    "#: [10, 30, 40, 50, 20, 30, 20]\n",
    "\n",
    "# a.remove(25) # ERROR si el valor no existe en la lista\n",
    "\n",
    "a = [10, 20, 30, 40, 50]\n",
    "b = 25 in a             # Verificamos si el valor 25 esta en la lista\n",
    "print(b)\n",
    "\n",
    "if 25 in a:\n",
    "    a.remove(25)        # Eliminamos el valor 25 si esta en la lista\n"
   ]
  },
  {
   "cell_type": "code",
   "execution_count": 36,
   "metadata": {},
   "outputs": [
    {
     "name": "stdout",
     "output_type": "stream",
     "text": [
      "3\n",
      "'Hola Mundo' tiene 2 'o'\n",
      "2\n"
     ]
    }
   ],
   "source": [
    "## Contar ocurrencias de un elemento en una lista\n",
    "\n",
    "a = [10, 20, 30, 40, 50, 20, 30, 20]\n",
    "b = a.count(20)         # Contamos cuantas veces aparece el valor 20 en la lista\n",
    "print(b)\n",
    "#: 3\n",
    "\n",
    "# ¿Cuantas 'o' tiene la frase 'Hola Mundo'?\n",
    "a = list(\"Hola Mundo\")\n",
    "b = a.count('o')\n",
    "print(\"'Hola Mundo' tiene\", b, \"'o'\")\n",
    "\n",
    "print(\"Hola Mundo\".count('o')) # Podemos hacerlo directamente con el metodo count() del str\n"
   ]
  },
  {
   "cell_type": "markdown",
   "metadata": {},
   "source": [
    "# Diccionarios (dict)\n",
    "\n",
    "Nos permite mantener una lista de valores a los que podemos acceder mediante una clave\n",
    "La clave puede ser cualquier valor inmutable"
   ]
  },
  {
   "cell_type": "code",
   "execution_count": 65,
   "metadata": {},
   "outputs": [
    {
     "name": "stdout",
     "output_type": "stream",
     "text": [
      "{}\n",
      "{'nombre': 'Juan', 'edad': 22}\n",
      "{'nombre': 'Juan', 'edad': 22, 'cursos': ['Python', 'Django', 'JavaScript']}\n",
      "22\n",
      "{0: 'cero', 1: 'uno', 2: 'dos'}\n",
      "uno\n"
     ]
    }
   ],
   "source": [
    "## Creaccion de un dict (diccionario)\n",
    "\n",
    "a = {}         # Diccionario vacio\n",
    "print(a)\n",
    "\n",
    "a['nombre'] = 'Juan'     # Agregamos un par clave-valor al diccionario\n",
    "a['edad'] = 22                \n",
    "print(a)\n",
    "#: {'nombre': 'Juan', 'edad': 22}\n",
    "\n",
    "# Podemos crear un diccionario completo (como un objeto JSON)\n",
    "\n",
    "a = {\n",
    "     'nombre': 'Juan',   # String\n",
    "     'edad': 22,         # Numero\n",
    "     'cursos': ['Python', 'Django', 'JavaScript'] # Lista de strings\n",
    "     } \n",
    "print(a)   \n",
    "#: {'nombre': 'Juan', 'edad': 22, 'cursos': ['Python', 'Django', 'JavaScript']}\n",
    "\n",
    "edad = a['edad']    # Obtenemos el valor de la clave 'edad'\n",
    "print(edad)\n",
    "\n",
    "# Caso confuso. Parece una lista pero es un diccionario\n",
    "b = {0: 'cero', 1: 'uno', 2: 'dos'}\n",
    "print(b)\n",
    "#: {0: 'cero', 1: 'uno', 2: 'dos'}\n",
    "print(b[1])\n",
    "#: uno \n",
    "\n",
    "# Parece una lista pero es un diccionario con claves numericas\n",
    "# b[-1] # ERROR no existe la clave -1"
   ]
  },
  {
   "cell_type": "code",
   "execution_count": 70,
   "metadata": {},
   "outputs": [
    {
     "name": "stdout",
     "output_type": "stream",
     "text": [
      "{'nombre': 'Juan', 'edad': 22}\n",
      "{} Juan\n"
     ]
    }
   ],
   "source": [
    "# Eliminar elementos de un diccionario\n",
    "\n",
    "a = {'nombre': 'Juan', 'edad': 22}\n",
    "print(a)\n",
    "\n",
    "# con pop (devuelve el valor eliminado)\n",
    "b = a.pop('nombre')\n",
    "print(a,b)\n",
    "#: {'edad': 22} Juan\n",
    "\n",
    "# con del (no devuelve el valor eliminado)\n",
    "del a['edad']\n",
    "print(a,b)\n",
    "#: {}\n"
   ]
  },
  {
   "cell_type": "code",
   "execution_count": 38,
   "metadata": {},
   "outputs": [
    {
     "name": "stdout",
     "output_type": "stream",
     "text": [
      "\n",
      "Iterar sobre un diccionario (por claves implicitamente) \n",
      "nombre Juan\n",
      "edad 22\n",
      "\n",
      "Iterar sobre un diccionario (por claves explicitamente) \n",
      "nombre Juan\n",
      "edad 22\n",
      "\n",
      "Iterar sobre un diccionario (por valores) \n",
      "Juan\n",
      "22\n",
      "\n",
      "Iterar sobre un diccionario (por pares clave-valor) \n",
      "nombre Juan\n",
      "edad 22\n",
      "\n",
      "Iterar sobre un diccionario (por pares clave-valor) usando tuple \n",
      "('nombre', 'Juan')\n",
      "('edad', 22)\n"
     ]
    }
   ],
   "source": [
    "## Iterar sobre un diccionario (recorrer)\n",
    "\n",
    "a = {'nombre': 'Juan', 'edad': 22}\n",
    "\n",
    "print(\"\\nIterar sobre un diccionario (por claves implicitamente) \")\n",
    "# Iterar sobre las claves del diccionario (implicitamente)\n",
    "for k in a:\n",
    "    print(k, a[k])\n",
    "\n",
    "print(\"\\nIterar sobre un diccionario (por claves explicitamente) \")\n",
    "# Iterar sobre las claves del diccionario (explicitamente)\n",
    "for k in a.keys():\n",
    "    print(k, a[k])\n",
    "\n",
    "print(\"\\nIterar sobre un diccionario (por valores) \")\n",
    "# Iterar sobre los valores del diccionario\n",
    "for v in a.values():\n",
    "    print(v)\n",
    "\n",
    "print(\"\\nIterar sobre un diccionario (por pares clave-valor) \")\n",
    "# Iterar sobre los pares clave-valor del diccionario\n",
    "for k,v in a.items():\n",
    "    print(k, a[k])\n",
    "\n",
    "print(\"\\nIterar sobre un diccionario (por pares clave-valor) usando tuple \")\n",
    "## Iterar sobre un diccionario (recorrer) \n",
    "for x in a.items():\n",
    "    print(x)\n",
    "#: ('nombre', 'Juan')\n",
    "#: ('edad', 22)\n",
    "\n",
    "\n"
   ]
  },
  {
   "cell_type": "markdown",
   "metadata": {},
   "source": [
    "## Tuplas (tuple)\n",
    "Son una coleccion ordenadas de valores que se acceden mediante un indice pero no se pueden modificar\n",
    "Son listas inmutables"
   ]
  },
  {
   "cell_type": "code",
   "execution_count": 43,
   "metadata": {},
   "outputs": [],
   "source": [
    "## Creacion\n",
    "a = ()         # Tupla vacia\n",
    "#: ()\n",
    "\n",
    "a = tuple()    # Tupla vacia\n",
    "#: ()\n",
    "\n",
    "a = (10, 20, 30, 40, 50) # Tupla con valores\n",
    "#: (10, 20, 30, 40, 50)\n",
    "\n",
    "a = tuple(\"Hola mundo\") # Tupla con valores\n",
    "#: ('H', 'o', 'l', 'a', ' ', 'm', 'u', 'n', 'd', 'o')\n",
    "\n",
    "a = (range(10))\n",
    "#: (0, 1, 2, 3, 4, 5, 6, 7, 8, 9)\n",
    "\n",
    "# Valen todos los metodos de las listas menos los que modifican la lista\n",
    "b = a[2:5] #slice (rebanada)\n",
    "c = len(a)\n",
    "d = a.count(3)\n",
    "e = a.index(3)"
   ]
  },
  {
   "cell_type": "code",
   "execution_count": 45,
   "metadata": {},
   "outputs": [
    {
     "name": "stdout",
     "output_type": "stream",
     "text": [
      "Nombre  : Di Battista\n",
      "Apellido: Alejandro\n",
      "\n",
      "Entero : 3\n",
      "Decimal: 1\n"
     ]
    }
   ],
   "source": [
    "## Ejemplo de uso de una tupla\n",
    "\n",
    "# Si queremos devolver mas de un valor en una funcion, podemos usar una tupla\n",
    "# Ejemplo: Separar un nombre completo en nombre y apellido\n",
    "def separar(nombreCompleto): #Di Battista, Alejandro\n",
    "    pares = nombreCompleto.split(\", \")\n",
    "    return pares[1], pares[0]\n",
    "\n",
    "# Uso de la funcion \n",
    "par = separar(\"Di Battista, Alejandro\")\n",
    "apellido = par[0]\n",
    "nombre = par[1]\n",
    "\n",
    "print(\"Nombre  :\", nombre)\n",
    "print(\"Apellido:\", apellido)\n",
    "\n",
    "\n",
    "# Si queremos dividor un numero en su parte entera y su parte decimal\n",
    "def divmod(a,b):\n",
    "    return (a//b, a%b)  # Tambien se puede usar una lista  [a//b, a%b]\n",
    "\n",
    "resultado = divmod(10,3)\n",
    "entero = resultado[0]\n",
    "decimal = resultado[1]\n",
    "print()\n",
    "print(\"Entero :\", entero)\n",
    "print(\"Decimal:\", decimal)\n",
    "\n"
   ]
  },
  {
   "cell_type": "code",
   "execution_count": 46,
   "metadata": {},
   "outputs": [
    {
     "name": "stdout",
     "output_type": "stream",
     "text": [
      "Nombre  : Di Battista\n",
      "Apellido: Alejandro\n",
      "\n",
      "Entero : 3\n",
      "Decimal: 1\n"
     ]
    }
   ],
   "source": [
    "## Desempaquetar una tupla\n",
    "\n",
    "# Podemos asignar los elementos de una tupla a variables individuales\n",
    "\n",
    "apellido, nombre = separar(\"Di Battista, Alejandro\")\n",
    "print(\"Nombre  :\", nombre)\n",
    "print(\"Apellido:\", apellido)\n",
    "\n",
    "entero, decimal = divmod(10,3)\n",
    "print()\n",
    "print(\"Entero :\", entero)\n",
    "print(\"Decimal:\", decimal)\n"
   ]
  },
  {
   "cell_type": "code",
   "execution_count": 50,
   "metadata": {},
   "outputs": [
    {
     "name": "stdout",
     "output_type": "stream",
     "text": [
      "1 2 3\n",
      "10 20 [30, 40, 50]\n",
      "[10, 20, 30] 40 50\n",
      "10 [20, 30, 40] 50\n"
     ]
    }
   ],
   "source": [
    "## Desempaquetar una tupla (lo mismo vale para los elementos de una lista)\n",
    "\n",
    "a = (1, 2, 3)\n",
    "(x, y, z) = a  # Desempaquetamos la tupla 'a' en las variables 'x', 'y' y 'z'\n",
    "x, y, z = a    # Se puede hacer lo mismo sin parentesis\n",
    "print(x,y,z)   \n",
    "#: 1 2 3\n",
    "\n",
    "# Desempaquetar una tupla (con un asterisco)\n",
    "a = (10, 20, 30, 40, 50)\n",
    "x, y, *z = a        # *z captura los elementos restantes en una lista \n",
    "print(x,y,z)\n",
    "#: 10 20 [30, 40, 50]\n",
    "\n",
    "*x, y, z = a       # *x captura los primeros elementos en una lista\n",
    "print(x,y,z)\n",
    "#: [10, 20, 30] 40 50\n",
    "\n",
    "x, *y, z = a    # *y captura los elementos del medio en una lista\n",
    "print(x,y,z)\n",
    "#: 10 [20, 30, 40] 50\n"
   ]
  },
  {
   "cell_type": "code",
   "execution_count": 51,
   "metadata": {},
   "outputs": [
    {
     "name": "stdout",
     "output_type": "stream",
     "text": [
      "100\n",
      "100\n"
     ]
    }
   ],
   "source": [
    "# Desempaquetar una tupla (con un asterisco)\n",
    "\n",
    "def suma(a,b,c,d):\n",
    "    return a + b + c + d\n",
    "\n",
    "print(suma(10, 20, 30, 40))\n",
    "\n",
    "parametros = (10, 20, 30, 40)\n",
    "print(suma( *parametros ) ) # Desempaquetamos la tupla 'parametros' en los argumentos de la funcion 'suma'\n",
    "# Equivale >> a,b,c,d = parametros\n"
   ]
  },
  {
   "cell_type": "code",
   "execution_count": 56,
   "metadata": {},
   "outputs": [
    {
     "name": "stdout",
     "output_type": "stream",
     "text": [
      "set()\n",
      "{50, 20, 40, 10, 30}\n",
      "{'l', 'a', ' ', 'd', 'M', 'n', 'o', 'u', 'H'}\n",
      "{'a', 'r', 'd', 'b', 'c'}\n"
     ]
    }
   ],
   "source": [
    "# Conjuntos  (set)\n",
    "\n",
    "a = set()       # Conjunto vacio (No hay forma de hacerlos implicitos como las listas o los diccionarios)\n",
    "print(a)\n",
    "#: set()\n",
    "\n",
    "b = {10, 20, 30, 40, 50} # Conjunto con valores \n",
    "print(b)\n",
    "#: {40, 10, 50, 20, 30}\n",
    "\n",
    "a = set(\"Hola Mundo\")  # Conjunto con los caracteres de la cadena 'Hola Mundo'\n",
    "print(a)        # Los conjuntos no tienen orden, ni elementos duplicados\n",
    "#: {'l', 'a', ' ', 'd', 'M', 'n', 'o', 'u', 'H'}\n",
    "\n",
    "b = set(\"abracadaba\")\n",
    "print(b)\n",
    "#: {'a', 'r', 'd', 'b', 'c'}\n"
   ]
  },
  {
   "cell_type": "code",
   "execution_count": null,
   "metadata": {},
   "outputs": [],
   "source": []
  }
 ],
 "metadata": {
  "kernelspec": {
   "display_name": "Python 3",
   "language": "python",
   "name": "python3"
  },
  "language_info": {
   "codemirror_mode": {
    "name": "ipython",
    "version": 3
   },
   "file_extension": ".py",
   "mimetype": "text/x-python",
   "name": "python",
   "nbconvert_exporter": "python",
   "pygments_lexer": "ipython3",
   "version": "3.12.5"
  }
 },
 "nbformat": 4,
 "nbformat_minor": 2
}
