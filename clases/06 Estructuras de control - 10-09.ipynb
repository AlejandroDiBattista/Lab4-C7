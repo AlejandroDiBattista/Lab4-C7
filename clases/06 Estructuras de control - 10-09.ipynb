{
 "cells": [
  {
   "cell_type": "code",
   "execution_count": null,
   "metadata": {},
   "outputs": [],
   "source": [
    "def suma(a,b):\n",
    "    r = a + b\n",
    "    return r\n",
    "\n",
    "valor = 10\n",
    "b = 20\n",
    "print(suma(valor,b)) # 8\n",
    "print(suma(2,3)) # 9"
   ]
  },
  {
   "cell_type": "markdown",
   "metadata": {},
   "source": [
    "# Ejecución condicional\n",
    "## if: else:\n",
    "\n",
    "La sentencia if se usa para la ejecucion condicional\n",
    "\n",
    "La sintaxis general es:\n",
    "```code\n",
    "if <condicion>:\n",
    "    <bloque de codigo>\n",
    "[elif <condicion>:\n",
    "    <bloque de codigo>]\n",
    "[else:\n",
    "    <bloque de codigo>]\n",
    "```\n",
    "Hay que destacar que como el if espera una <condicion> la convertir la expresion a un bool\n",
    "el otro elemento a destacar que tiene una elif que es una forma breve de poner if anidados en el else"
   ]
  },
  {
   "cell_type": "code",
   "execution_count": 2,
   "metadata": {},
   "outputs": [],
   "source": [
    "# El menor de 2 valores\n",
    "\n",
    "valor = 10\n",
    "b = 20\n",
    "\n",
    "if valor < b:\n",
    "    menor = valor\n",
    "else:\n",
    "    menor = b"
   ]
  },
  {
   "cell_type": "code",
   "execution_count": 3,
   "metadata": {},
   "outputs": [],
   "source": [
    "# El menor de tres valores \n",
    "# usando if anidados (if dentro de if)\n",
    "valor = 10\n",
    "b = 20\n",
    "c = 15\n",
    "\n",
    "if valor < b:\n",
    "    if valor < c: \n",
    "        menor = valor   # a < b and a < c\n",
    "    else:\n",
    "        menor = c   # a < b and c <= a\n",
    "else: # b <= a \n",
    "    if b < c:\n",
    "        menor = b   # b <= a and b < c\n",
    "    else: \n",
    "        menor = c   # b <= a and c < b\n",
    "\n",
    "# si bien este esquema es muy eficiente se vuelve rapidamente muy dificil de leer\n",
    " "
   ]
  },
  {
   "cell_type": "code",
   "execution_count": 4,
   "metadata": {},
   "outputs": [],
   "source": [
    "# El menor de 3 usando if independientes puesto en secuencia\n",
    "#  \n",
    "\n",
    "valor = 10 \n",
    "b = 20\n",
    "c = 15\n",
    "\n",
    "# Verificamos la condicion completa en cada caso \n",
    "\n",
    "if valor < b and valor < c: \n",
    "    menor = valor\n",
    "\n",
    "if b < valor and b < c:\n",
    "    menor = b\n",
    "    \n",
    "if c < valor and c < b:\n",
    "    menor = c\n",
    "\n",
    "# si tuviera que agregar mas variables el patron es simple \n",
    "# if a < b and a < c and a < d..."
   ]
  },
  {
   "cell_type": "code",
   "execution_count": 5,
   "metadata": {},
   "outputs": [],
   "source": [
    "# Usando if encadenados (elif)\n",
    "valor = 10\n",
    "b = 20 \n",
    "c = 15\n",
    "\n",
    "if valor < b and valor < c: #condicion completa para 'a' es menor que todos\n",
    "    menor = valor\n",
    "elif b < c:         # descartamos 'a' vamos por el resto \n",
    "    menor = b\n",
    "else:               # descartamos 'a' y 'b' entonces es 'c'\n",
    "    menor = c\n"
   ]
  },
  {
   "cell_type": "code",
   "execution_count": 6,
   "metadata": {},
   "outputs": [],
   "source": [
    "# Para 4 variables \n",
    "# lo interesante es que cada if reduce el problema a uno mas sencillo. \n",
    "\n",
    "valor = 10\n",
    "b = 20\n",
    "c = 15\n",
    "d = 30\n",
    "\n",
    "if valor < b and valor < c and valor < d:\n",
    "    menor = valor\n",
    "elif b < c and b < d:\n",
    "    menor = b\n",
    "elif c < d:\n",
    "    menor = c\n",
    "else:\n",
    "    menor = d"
   ]
  },
  {
   "cell_type": "code",
   "execution_count": null,
   "metadata": {},
   "outputs": [],
   "source": [
    "# Usando if en secuencia pero acumulando el efecto en una variable auxiliar\n",
    "\n",
    "valor = 10\n",
    "b = 20\n",
    "c = 15\n",
    "d = 30\n",
    "\n",
    "menor = valor\n",
    "\n",
    "if b < menor:\n",
    "    menor = b\n",
    "\n",
    "if c < menor:\n",
    "    menor = c\n",
    "\n",
    "if d < menor:\n",
    "    menor = d \n",
    "\n",
    "print(\"El menor es \", menor)\n"
   ]
  },
  {
   "cell_type": "code",
   "execution_count": null,
   "metadata": {},
   "outputs": [],
   "source": [
    "# forma abreviada del if\n",
    "# if como expresion. \n",
    "valor = 10 \n",
    "b = 20\n",
    "if valor < b:\n",
    "    menor = valor\n",
    "else:\n",
    "    menor = b\n",
    "\n",
    "# JS, java, c, etc:   m = a < b ? a : b \n",
    "menor = valor if valor < b else b  # asigne a a menor si a < b sino asigne b \n"
   ]
  },
  {
   "cell_type": "code",
   "execution_count": 8,
   "metadata": {},
   "outputs": [],
   "source": [
    "# if como expresion\n",
    "\n",
    "x = 10\n",
    "# Valor absoluto de x \n",
    "\n",
    "# 1. Con la sentecia if \n",
    "if x > 0:\n",
    "    abs = x \n",
    "else:\n",
    "    abs = -x\n",
    "precio = abs * 10\n",
    "\n",
    "# 2. Con la expresion if \n",
    "abs = x if x > 0 else -x  \n",
    "precio = abs * 10\n",
    "\n",
    "# 3. Usando el if dentro de una expresion   \n",
    "\n",
    "precio = (x if x > 0 else -x) * 10\n",
    "\n",
    "#JS   menor = a < b ? a : b \n"
   ]
  },
  {
   "cell_type": "code",
   "execution_count": 9,
   "metadata": {},
   "outputs": [],
   "source": [
    "# Calcular el minimo de una funcion usando if y una funcion recursiva \n",
    "\n",
    "def min(lista):\n",
    "    valor, *resto = lista\n",
    "\n",
    "    if resto: \n",
    "        minimo = min(resto)\n",
    "        if minimo < valor:\n",
    "            return minimo\n",
    "    return valor\n",
    "\n",
    "def min(lista):\n",
    "    if len(lista) == 1:\n",
    "        return lista[0]\n",
    "    \n",
    "    minimo = min(lista[1:])\n",
    "    if minimo < lista[0]:\n",
    "        return minimo\n",
    "    return lista[0]\n",
    "    \n",
    "\n",
    "l = [10, 20, 15, 30]\n",
    "print(min(l)) # 10\n"
   ]
  },
  {
   "cell_type": "markdown",
   "metadata": {},
   "source": [
    "# Repeticion (loop)\n",
    "La sentencia *while* nos permite ejecutar un codigo mientras se cumpla una condicion \n",
    "\n",
    "La sintaxis es:\n",
    "```code\n",
    "while <condicion>:\n",
    "  <bloque>\n",
    "  [break]\n",
    "  [continue]\n",
    "[else:\n",
    "  <bloque>]\n",
    "```\n",
    "nota: El *else* se ejecuta si no se llamo a break "
   ]
  },
  {
   "cell_type": "code",
   "execution_count": null,
   "metadata": {},
   "outputs": [],
   "source": [
    "l = [10, 20, 15, 30]\n",
    "\n",
    "# Recorrer una lista \n",
    "i = 0 \n",
    "while i < len(l):\n",
    "    print(l[i])\n",
    "    i = i + 1\n",
    "\n",
    "# Recorriendo una lista reduciendo la lista en cada paso\n",
    "lista = [11, 21, 16, 31]\n",
    "while lista:\n",
    "    valor, *lista = lista\n",
    "    print(valor)"
   ]
  },
  {
   "cell_type": "code",
   "execution_count": null,
   "metadata": {},
   "outputs": [],
   "source": [
    "# Recorrer un rango (1 a 10) \n",
    "\n",
    "i = 1               # inicio\n",
    "while i <= 10:      # condicion\n",
    "    print(i)\n",
    "    i += 1          # avance \n"
   ]
  },
  {
   "cell_type": "code",
   "execution_count": null,
   "metadata": {},
   "outputs": [],
   "source": [
    "\n",
    "# Sumar los numeros del 1 al 100 \n",
    "s = 0\n",
    "i = 1\n",
    "while i <= 100:\n",
    "    s += i          # acumulador o sumador \n",
    "    i += 1          # contador \n"
   ]
  },
  {
   "cell_type": "code",
   "execution_count": null,
   "metadata": {},
   "outputs": [],
   "source": [
    "# Usar el while para calcular el factorial de un numero\n",
    "#  Factorial -> n! = 1*2*3..*n\n",
    "#  5! = 1*2*3*4*5 = (1*2*3*4) * 5 = 4! * 5 -> n! = n * (n-1)!\n",
    "#  0! = 1\n",
    "#  n! = n * (n-1)!\n",
    "\n",
    "f = 1\n",
    "i = 1\n",
    "\n",
    "while i <= 100:\n",
    "    f *= i  # acumula el producto\n",
    "    i += 1  # siguiente valor  \n",
    "\n",
    "print(f\"El factorial de {100} es {f}\")"
   ]
  },
  {
   "cell_type": "code",
   "execution_count": null,
   "metadata": {},
   "outputs": [],
   "source": [
    "# Factorial recursivo \n",
    "# caso base -> resultado conocido\n",
    "# reducir el problema a uno menor \n",
    "\n",
    "def fac(n):\n",
    "    if n == 0: return 1 # 0! = 1\n",
    "    return n * fac(n-1) # n! = n * (n-1)!a\n"
   ]
  },
  {
   "cell_type": "code",
   "execution_count": null,
   "metadata": {},
   "outputs": [],
   "source": [
    "# Sumar una lista de numeros (recursivo)\n",
    "# (comparar con min recursivo anterior)\n",
    "def sumar(lista):\n",
    "    if not lista: return 0\n",
    "    valor, *lista = lista\n",
    "    return valor + sumar(lista)\n",
    "\n",
    "print(f\"El factorial de 10 es {fac(10):_}\")\n",
    "print(f\"La suma de 10,20,30 es {sumar([10,20,30])}\")"
   ]
  },
  {
   "cell_type": "code",
   "execution_count": 18,
   "metadata": {},
   "outputs": [],
   "source": [
    "# Suma los numeros del 1 al 100 \n",
    "#  excluir los pares el 7 y el 13\n",
    "i = 1\n",
    "s = 0\n",
    "while i <= 100:\n",
    "    i += 1\n",
    "    if i % 2 == 0: \n",
    "        continue\n",
    "    if i == 7: \n",
    "        continue\n",
    "    if i == 13: \n",
    "        continue\n",
    "    s += i\n"
   ]
  },
  {
   "cell_type": "code",
   "execution_count": null,
   "metadata": {},
   "outputs": [],
   "source": [
    "# Buscar el valor en una lista \n",
    "# usando una variable auxilar para registrar si lo encontro (bandera)\n",
    "lista = [10, 20, 15, 30, 50, 40]\n",
    "\n",
    "existe = False \n",
    "i = 0 \n",
    "while i < len(lista):\n",
    "    x = lista[i]\n",
    "    if x == 30:\n",
    "        existe = True \n",
    "        break # Ya no me hace falta seguir \n",
    "    i += 1\n",
    "    \n",
    "if existe:\n",
    "    print(\"Ok\")\n",
    "else:\n",
    "    print(\":(\")\n",
    "\n",
    "# Usando el else \n",
    "\n",
    "i = 0 \n",
    "while i < len(lista):\n",
    "    x = lista[i]\n",
    "    if x == 30:\n",
    "        print('ok') \n",
    "        break  \n",
    "    i += 1\n",
    "else:\n",
    "    print(\":(\")"
   ]
  },
  {
   "cell_type": "markdown",
   "metadata": {},
   "source": [
    "# Repetición for in  \n",
    "El for en python esta especializado en recorrer una secuencia \n",
    "equivale al for of de javascript\n",
    "\n",
    "```code\n",
    "for <variable> in <iterable>:\n",
    "  <bloque>\n",
    "  [break]\n",
    "  [continue]\n",
    "[else:\n",
    "  <bloque>]\n",
    "```\n"
   ]
  },
  {
   "cell_type": "code",
   "execution_count": null,
   "metadata": {},
   "outputs": [],
   "source": [
    "for i in range(1,11):\n",
    "    print(i)\n",
    "print( list(range(1,11)) )\n",
    "\n",
    "# range(star, stop, step)\n",
    "for i in range(1, 20, 2):\n",
    "    print(i)\n",
    "    \n",
    "star, i, step = 1, 20, 2 \n",
    "i = star \n",
    "while i < i:\n",
    "\n",
    "    i += step "
   ]
  },
  {
   "cell_type": "code",
   "execution_count": null,
   "metadata": {},
   "outputs": [],
   "source": [
    "# Sumar los valores del 1 al 100\n",
    "s = 0 \n",
    "for i in range(1,101):\n",
    "    s += i \n",
    "print(f\"La suma de 1 a 100 es {s}\")\n",
    "\n",
    "print(sum(range(1,101)))"
   ]
  },
  {
   "cell_type": "code",
   "execution_count": null,
   "metadata": {},
   "outputs": [],
   "source": [
    "# Sumame los numeros del 0 al n (excluyendo el 13) detengase si la suma supera a 500 \n",
    "s = 0\n",
    "n = 10\n",
    "for i in range(n+1):\n",
    "    if i % 2 == 0: continue # Saltar pares\n",
    "    if i == 13: continue    # Saltar el \n",
    "    if s > 500:\n",
    "        print(\"Demasiado grande \") \n",
    "        break       # Detengase si es > 500  \n",
    "    s += i\n",
    "else:\n",
    "    print(f\"La suma es {s}\")\n"
   ]
  },
  {
   "cell_type": "markdown",
   "metadata": {},
   "source": [
    "# Match (Multiple condicional)\n",
    "La sentencia match es similar al switch de otros lenguajes pero funciona con patrones.\n",
    "\n",
    "Sintaxis:\n",
    "``` code \n",
    "match(<valor>):\n",
    "    case <valor>: \n",
    "        <bloque>\n",
    "    case <variable> [if <contidicion>]\n",
    "        <bloque>\n",
    "   [case _:\n",
    "        <bloque>]\n",
    "```"
   ]
  },
  {
   "cell_type": "code",
   "execution_count": null,
   "metadata": {},
   "outputs": [],
   "source": [
    "valor = 10\n",
    "match(valor):\n",
    "    case 1:                 # Compara con un valor\n",
    "        print(\"uno\")\n",
    "    case 2:\n",
    "        print(\"dos\")\n",
    "    case x if x % 2 == 0:   # atrapa el valor en 'x' y verificar una condicion (guarda)\n",
    "        print(f\"{x} es par\")\n",
    "    case 4:\n",
    "        print(\"cuatro\")\n",
    "    case _:                 # Si nada se complio... \n",
    "        print(\"otro\")"
   ]
  },
  {
   "cell_type": "code",
   "execution_count": null,
   "metadata": {},
   "outputs": [],
   "source": [
    "punto = (10, 20)\n",
    "print(\"Donde esta el punto?\")\n",
    "match punto:\n",
    "    case (0,0):\n",
    "        print(\"Origen\")\n",
    "    case (0,y):\n",
    "        print(f\"Eje Y en {y}\")\n",
    "    case (x,0):\n",
    "        print(f\"Eje X en {x}\")\n",
    "    case (x,y) if x > 0 and y > 0:\n",
    "        print(f\"Cuadrante 1\")\n",
    "    case (x,y) if x < 0 and y > 0:\n",
    "        print(f\"Cuadrante 2\")\n",
    "    case (x,y) if x < 0 and y < 0:\n",
    "        print(f\"Cuadrante 3\")\n",
    "    case (x,y) if x > 0 and y < 0:\n",
    "        print(f\"Cuadrante 4\")"
   ]
  },
  {
   "cell_type": "code",
   "execution_count": null,
   "metadata": {},
   "outputs": [],
   "source": [
    "l = [1, 2,3]\n",
    "match l:\n",
    "    case [1,2,3]:\n",
    "        print(\"123\")\n",
    "    case [1,*rest]:\n",
    "        print(\"comienza con 1 y sigue\",rest)\n",
    "    case [1,*dentro,10]:\n",
    "        print(\"Rodeado de 1 y 10\",dentro)\n",
    "    case _:\n",
    "        print(\"Otro\")"
   ]
  }
 ],
 "metadata": {
  "kernelspec": {
   "display_name": "Python 3",
   "language": "python",
   "name": "python3"
  },
  "language_info": {
   "codemirror_mode": {
    "name": "ipython",
    "version": 3
   },
   "file_extension": ".py",
   "mimetype": "text/x-python",
   "name": "python",
   "nbconvert_exporter": "python",
   "pygments_lexer": "ipython3",
   "version": "3.12.5"
  }
 },
 "nbformat": 4,
 "nbformat_minor": 2
}
