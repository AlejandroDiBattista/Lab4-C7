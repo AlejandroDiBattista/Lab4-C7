{
 "cells": [
  {
   "cell_type": "markdown",
   "metadata": {},
   "source": [
    "## Perceptron\n",
    "\n",
    "$$\n",
    "y = f\\left(\\sum_{i=1}^{n} w_i x_i + b\\right)\n",
    "$$\n",
    "\n",
    "### Función de activación\n",
    "\n",
    "$$\n",
    "f(x) = \\left\\{\n",
    "\\begin{array}{ll}\n",
    "1 & \\text{si } x \\geq 0 \\\\\n",
    "0 & \\text{si } x < 0 \n",
    "\\end{array}\n",
    "\\right.\n",
    "$$\n",
    "\n",
    "### Algoritmo de aprendizaje\n",
    "$$\n",
    "w_i := w_i + \\eta (y - \\hat{y}) x_i  \\\\\n",
    "b := b + \\eta (y - \\hat{y}) \\\\\n",
    "$$\n"
   ]
  },
  {
   "cell_type": "code",
   "execution_count": 1,
   "metadata": {},
   "outputs": [],
   "source": [
    "import numpy as np              # type: ignore\n",
    "import pandas as pd             # type: ignore\n",
    "import seaborn as sns           # type: ignore\n",
    "import matplotlib.pyplot as plt # type: ignore"
   ]
  },
  {
   "cell_type": "code",
   "execution_count": 2,
   "metadata": {},
   "outputs": [],
   "source": [
    "\n",
    "def perceptron(x,w,b):\n",
    "    z = sum(x[i] * w[i] for i in range(len(x))) + b\n",
    "    return activacion(z)\n",
    "\n",
    "\n",
    "def activacion(z):\n",
    "    return 1 if z >= 0 else 0"
   ]
  },
  {
   "cell_type": "markdown",
   "metadata": {},
   "source": [
    "## Ejemplo 1\n",
    "Usar un preceptron para implementar operaciones logicas (AND, OR, NAND)\n",
    "\n",
    "<table>\n",
    "    <tr>\n",
    "        <th style=\"text-align:center\">x1</th>\n",
    "        <th style=\"text-align:center\">x2</th>\n",
    "        <th style=\"text-align:center\">AND</th>\n",
    "        <th style=\"text-align:center\">OR</th>\n",
    "        <th style=\"text-align:center\">NAND</th>\n",
    "    </tr>\n",
    "    <tr>\n",
    "        <td style=\"text-align:center\">0</td>\n",
    "        <td style=\"text-align:center\">0</td>\n",
    "        <td style=\"text-align:center\">0</td>\n",
    "        <td style=\"text-align:center\">0</td>\n",
    "        <td style=\"text-align:center\">1</td>\n",
    "    </tr>\n",
    "    <tr>\n",
    "        <td style=\"text-align:center\">0</td>\n",
    "        <td style=\"text-align:center\">1</td>\n",
    "        <td style=\"text-align:center\">0</td>\n",
    "        <td style=\"text-align:center\">1</td>\n",
    "        <td style=\"text-align:center\">1</td>\n",
    "    </tr>\n",
    "    <tr>\n",
    "        <td style=\"text-align:center\">1</td>\n",
    "        <td style=\"text-align:center\">0</td>\n",
    "        <td style=\"text-align:center\">0</td>\n",
    "        <td style=\"text-align:center\">1</td>\n",
    "        <td style=\"text-align:center\">1</td>\n",
    "    </tr>\n",
    "    <tr>\n",
    "        <td style=\"text-align:center\">1</td>\n",
    "        <td style=\"text-align:center\">1</td>\n",
    "        <td style=\"text-align:center\">1</td>\n",
    "        <td style=\"text-align:center\">1</td>\n",
    "        <td style=\"text-align:center\">0</td>\n",
    "    </tr>\n",
    "</table>"
   ]
  },
  {
   "cell_type": "code",
   "execution_count": 3,
   "metadata": {},
   "outputs": [
    {
     "name": "stdout",
     "output_type": "stream",
     "text": [
      "w=[0.0, 0.0], b=0.0\n",
      "w=[0.0, 0.0], b=0.0\n",
      "w=[0.0, 0.0], b=0.0\n",
      "w=[-0.1, -0.1], b=-0.1\n",
      "w=[-0.1, -0.1], b=0.0\n",
      "w=[-0.1, 0.0], b=0.1\n",
      "w=[-0.1, 0.0], b=0.1\n",
      "w=[-0.2, -0.1], b=0.0\n",
      "w=[-0.2, -0.1], b=0.0\n",
      "w=[-0.2, 0.0], b=0.1\n",
      "w=[-0.1, 0.0], b=0.2\n",
      "w=[-0.2, -0.1], b=0.1\n",
      "w=[-0.2, -0.1], b=0.1\n",
      "w=[-0.2, -0.1], b=0.1\n",
      "w=[-0.1, -0.1], b=0.2\n",
      "w=[-0.2, -0.2], b=0.1\n",
      "w=[-0.2, -0.2], b=0.1\n",
      "w=[-0.2, -0.1], b=0.2\n",
      "w=[-0.2, -0.1], b=0.2\n",
      "w=[-0.2, -0.1], b=0.2\n",
      "w=[-0.2, -0.1], b=0.2\n",
      "w=[-0.2, -0.1], b=0.2\n",
      "w=[-0.2, -0.1], b=0.2\n",
      "w=[-0.2, -0.1], b=0.2\n",
      "w=[-0.2, -0.1], b=0.2\n",
      "w=[-0.2, -0.1], b=0.2\n",
      "w=[-0.2, -0.1], b=0.2\n",
      "w=[-0.2, -0.1], b=0.2\n",
      "w=[-0.2, -0.1], b=0.2\n",
      "w=[-0.2, -0.1], b=0.2\n",
      "w=[-0.2, -0.1], b=0.2\n",
      "w=[-0.2, -0.1], b=0.2\n",
      "w=[-0.2, -0.1], b=0.2\n",
      "w=[-0.2, -0.1], b=0.2\n",
      "w=[-0.2, -0.1], b=0.2\n",
      "w=[-0.2, -0.1], b=0.2\n",
      "w=[-0.2, -0.1], b=0.2\n",
      "w=[-0.2, -0.1], b=0.2\n",
      "w=[-0.2, -0.1], b=0.2\n",
      "w=[-0.2, -0.1], b=0.2\n",
      "Resultados\n",
      "[0, 0] 1 😄\n",
      "[0, 1] 1 😄\n",
      "[1, 0] 1 😄\n",
      "[1, 1] 0 😄\n"
     ]
    }
   ],
   "source": [
    "\n",
    "## Ejemplos de compuertas lógicas\n",
    "yAnd  = [0,0,0,1] # AND     ; w = [ 1,  1], b = -1.5\n",
    "yOr   = [0,1,1,1] # OR      ; w = [ 1,  1], b = -0.5\n",
    "yNand = [1,1,1,0] # NAND    ; w = [-1, -1], b =  1.5\n",
    "\n",
    "# Datos de muestra \n",
    "x = [[0,0],[0,1],[1,0],[1,1]]\n",
    "y = yNand\n",
    "\n",
    "w = [0, 0]; b = 0\n",
    "\n",
    "lr = 0.1; repeticiones = 10 \n",
    "for _ in range(repeticiones):\n",
    "    # Para cada muestra\n",
    "    for i in range(len(x)):\n",
    "        # Evaluar la salida\n",
    "        yp = perceptron(x[i],w,b)\n",
    "        e = y[i] - yp\n",
    "\n",
    "        # Actualizar pesos\n",
    "        for j in range(len(w)):\n",
    "            w[j] = w[j] + lr * e * x[i][j]\n",
    "        b = b + lr * e\n",
    "\n",
    "        print(f\"{w=}, {b=}\")\n",
    "\n",
    "print(\"Resultados\")\n",
    "for xi,yi in zip(x, y):\n",
    "    yp = perceptron(xi,w,b)\n",
    "    print(xi, yp, '😄' if yi == yp else '😡')\n"
   ]
  },
  {
   "cell_type": "markdown",
   "metadata": {},
   "source": [
    "### Implementacion del perceptron con orientacion a objeto\n",
    "\n",
    "Almacenamos los pesos $w$ y $b$ "
   ]
  },
  {
   "cell_type": "code",
   "execution_count": 4,
   "metadata": {},
   "outputs": [],
   "source": [
    "class Perceptron:\n",
    "    def __init__(self, aprendizaje=0.01, epocas=1000):\n",
    "        self.aprendizaje = aprendizaje\n",
    "        self.epocas = epocas\n",
    "        self.w = []\n",
    "        self.b = 0\n",
    "\n",
    "    def perceptron(self, x):\n",
    "        return sum(xi * wi for xi, wi in zip(x, self.w)) + self.b\n",
    "\n",
    "    def activacion(self, z):  # Escalón unitario\n",
    "        return 0 if z <= 0 else 1\n",
    "\n",
    "    def avanzar(self, x):\n",
    "        return self.activacion(self.perceptron(x))\n",
    "    \n",
    "    def retroceder(self, x, y, yp):\n",
    "        error = y - yp\n",
    "        self.w = [wi + self.aprendizaje * error * xi for xi, wi in zip(x, self.w)]\n",
    "        self.b += self.aprendizaje * error\n",
    "\n",
    "    def ajustar(self, X, y):\n",
    "        self.w = [0] * len(X[0])  # Inicializar los pesos con ceros\n",
    "        self.b = 0\n",
    "\n",
    "        for _ in range(self.epocas):\n",
    "            for i in range(len(X)):\n",
    "                # Forward propagation - Propagación hacia adelante\n",
    "                yp = self.avanzar(X[i])\n",
    "                \n",
    "                # Backpropagation - Retropropagación \n",
    "                self.retroceder(X[i], y[i], yp)\n",
    "        return self \n",
    "\n",
    "    def estimar(self, x):\n",
    "        return self.activacion(self.perceptron(x))\n",
    "    \n",
    "    def precision(self, x, y):\n",
    "        return sum(self.estimar(xi) == yi for xi, yi in zip(x,y)) / len(x)\n",
    "    \n",
    "class PerceptronLineal(Perceptron):\n",
    "    def activacion(self, z):\n",
    "        return z"
   ]
  },
  {
   "cell_type": "markdown",
   "metadata": {},
   "source": [
    "## Ejercicio 2\n",
    "\n",
    "Usamos la libreria creada para resolver el Ejericio 1"
   ]
  },
  {
   "cell_type": "code",
   "execution_count": 5,
   "metadata": {},
   "outputs": [
    {
     "name": "stdout",
     "output_type": "stream",
     "text": [
      "Precision: 100%\n",
      "\n",
      "Resultados\n",
      "[0, 0] 0 😄\n",
      "[0, 1] 0 😄\n",
      "[1, 0] 0 😄\n",
      "[1, 1] 1 😄\n"
     ]
    }
   ],
   "source": [
    "\n",
    "x = [[0,0],[0,1],[1,0],[1,1]]\n",
    "y = [0,0,0,1] # AND\n",
    "\n",
    "p = Perceptron(0.01,10)\n",
    "p.ajustar(x,y)\n",
    "print(f\"Precision: {p.precision(x,y):.0%}\")\n",
    "\n",
    "print(\"\\nResultados\")\n",
    "for xi, yi in zip(x, y):\n",
    "    yp = p.estimar(xi)\n",
    "    print(xi, yp, '😄' if yi == yp else '😡')"
   ]
  },
  {
   "cell_type": "markdown",
   "metadata": {},
   "source": [
    "### Carga de datos\n",
    "Toma los datos de un csv y los preparar para el perceptron\n"
   ]
  },
  {
   "cell_type": "code",
   "execution_count": 6,
   "metadata": {},
   "outputs": [],
   "source": [
    "\n",
    "def cargar(tipo='Iris-setosa'):\n",
    "    datos = pd.read_csv('iris.csv')\n",
    "    \n",
    "    x = datos.iloc[:, :4].values.tolist() \n",
    "    etiquetas = datos.iloc[:, -1].values.tolist()\n",
    "\n",
    "    # Convierte etiqueta a 1 si es del tipo especificado, 0 en otro caso\n",
    "    y = [1 if e == tipo else 0 for e in etiquetas] \n",
    "    return x, y\n"
   ]
  },
  {
   "cell_type": "markdown",
   "metadata": {},
   "source": [
    "## Ejercicio 3\n",
    "\n",
    "Crear un perceptron que nos permita saber si una flor dada es del tipo 'Iris-setosa'"
   ]
  },
  {
   "cell_type": "code",
   "execution_count": 7,
   "metadata": {},
   "outputs": [
    {
     "name": "stdout",
     "output_type": "stream",
     "text": [
      "Precisión: 100%\n",
      "\n",
      "Prueba con datos al azar\n",
      "[6.7, 3.1, 4.4, 1.4] 0 😄\n",
      "[5.7, 3.0, 4.2, 1.2] 0 😄\n",
      "[5.4, 3.7, 1.5, 0.2] 1 😄\n",
      "[6.8, 2.8, 4.8, 1.4] 0 😄\n",
      "[5.1, 3.8, 1.5, 0.3] 1 😄\n",
      "[6.3, 2.3, 4.4, 1.3] 0 😄\n",
      "[5.0, 3.4, 1.6, 0.4] 1 😄\n",
      "[6.1, 3.0, 4.9, 1.8] 0 😄\n",
      "[6.3, 2.8, 5.1, 1.5] 0 😄\n",
      "[5.9, 3.0, 5.1, 1.8] 0 😄\n"
     ]
    }
   ],
   "source": [
    "x, y = cargar('Iris-setosa')\n",
    "\n",
    "p = Perceptron()\n",
    "p.ajustar(x,y)\n",
    "print(f\"Precisión: {p.precision(x,y):.0%}\")\n",
    "\n",
    "\n",
    "# Elije 10 muestras al azar para probar\n",
    "indices = np.random.choice(len(x), 10, replace=False)\n",
    "x_test = [x[i] for i in indices]\n",
    "y_test = [y[i] for i in indices]\n",
    "\n",
    "print(\"\\nPrueba con datos al azar\")\n",
    "for xi, yi in zip(x_test, y_test):\n",
    "    yp = p.estimar(xi)\n",
    "    print(xi, yp, '😄' if yi == yp else '😡')\n"
   ]
  },
  {
   "cell_type": "markdown",
   "metadata": {},
   "source": [
    "## Ejericio 4\n",
    "\n",
    "Usar un perceptron para estimar las ventas de helado segun la temperatura\n"
   ]
  },
  {
   "cell_type": "code",
   "execution_count": 8,
   "metadata": {},
   "outputs": [],
   "source": [
    "def cargarHelados():\n",
    "    datos = pd.read_csv('helados.csv')\n",
    "    X = datos[['temperatura']].values.tolist()\n",
    "    y = datos['ventas'].values.tolist()\n",
    "    return X, y "
   ]
  },
  {
   "cell_type": "code",
   "execution_count": 9,
   "metadata": {},
   "outputs": [
    {
     "name": "stdout",
     "output_type": "stream",
     "text": [
      "Precisión: 0% w: [21.464382371926813], b: 0.9157805160227226\n"
     ]
    },
    {
     "data": {
      "image/png": "[encoded data removed]",
      "text/plain": [
       "<Figure size 640x480 with 1 Axes>"
      ]
     },
     "metadata": {},
     "output_type": "display_data"
    }
   ],
   "source": [
    "x, y = cargarHelados()\n",
    "p = PerceptronLineal(0.00001, 100)\n",
    "p.ajustar(x, y)\n",
    "print(f\"Precisión: {p.precision(x,y):.0%} w: {p.w}, b: {p.b}\")\n",
    "\n",
    "# Graficar los datos originales y las predicciones del perceptrón\n",
    "plt.title('Regresión Lineal con Perceptrón')\n",
    "plt.scatter(x, y, color='blue', s=10)\n",
    "plt.xlabel('Temperatura')\n",
    "plt.ylabel('Ventas')\n",
    "\n",
    "plt.plot(x, [p.estimar(xi) for xi in x], color='red', linewidth=4)\n",
    "\n",
    "plt.show()"
   ]
  }
 ],
 "metadata": {
  "kernelspec": {
   "display_name": "Python 3",
   "language": "python",
   "name": "python3"
  },
  "language_info": {
   "codemirror_mode": {
    "name": "ipython",
    "version": 3
   },
   "file_extension": ".py",
   "mimetype": "text/x-python",
   "name": "python",
   "nbconvert_exporter": "python",
   "pygments_lexer": "ipython3",
   "version": "3.12.5"
  }
 },
 "nbformat": 4,
 "nbformat_minor": 2
}
