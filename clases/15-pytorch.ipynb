{
 "cells": [
  {
   "cell_type": "code",
   "execution_count": 53,
   "metadata": {},
   "outputs": [],
   "source": [
    "import torch\n",
    "import torch.nn as nn\n",
    "import matplotlib.pyplot as plt\n",
    "import pandas as pd\n"
   ]
  },
  {
   "cell_type": "code",
   "execution_count": 67,
   "metadata": {},
   "outputs": [],
   "source": [
    "\n",
    "# Definir la arquitectura de la red neuronal\n",
    "class Net(nn.Module):\n",
    "    def __init__(self, input_size, hidden_size, output_size):\n",
    "        super(Net, self).__init__()\n",
    "        self.fc1 = nn.Linear(input_size, hidden_size)\n",
    "        self.fc2 = nn.Linear(hidden_size, output_size)\n",
    "        self.activation = nn.Sigmoid()\n",
    "        self.errors = []\n",
    "\n",
    "    def forward(self, x):\n",
    "        x = self.activation(self.fc1(x))\n",
    "        x = self.activation(self.fc2(x))\n",
    "        return x\n",
    "    \n",
    "    def fit(self, X, Y, lr=0.1, epochs=100):\n",
    "        criterion = nn.MSELoss()\n",
    "        optimizer = torch.optim.Adam(self.parameters(), lr=lr)\n",
    "\n",
    "        # Entrenamiento del modelo\n",
    "        for epoch in range(epochs):\n",
    "            Y_pred = self.forward(X)\n",
    "\n",
    "            optimizer.zero_grad()\n",
    "            loss = criterion(Y_pred, Y)\n",
    "            loss.backward()\n",
    "            optimizer.step()\n",
    "\n",
    "            self.errors.append(loss.item())\n",
    "            if epoch % 1000 == 0:\n",
    "                print('Epoch:', epoch, 'Loss:', loss.item())\n",
    "        return self \n",
    "    \n",
    "    def score(self, X, Y):\n",
    "        Y_pred = self.forward(X).round()\n",
    "        correct = (Y_pred == Y).float().sum()\n",
    "        return correct / Y.numel()\n"
   ]
  },
  {
   "cell_type": "code",
   "execution_count": 78,
   "metadata": {},
   "outputs": [],
   "source": [
    "def mostrar_error(errores):\n",
    "    plt.figure(figsize=(3, 3))\n",
    "    plt.plot(errores)\n",
    "    plt.xlabel('Épocas')\n",
    "    plt.ylabel('Error')\n",
    "    plt.title('Evolución del Error')\n",
    "    plt.show()\n"
   ]
  },
  {
   "cell_type": "code",
   "execution_count": 88,
   "metadata": {},
   "outputs": [
    {
     "name": "stdout",
     "output_type": "stream",
     "text": [
      "Epoch: 0 Loss: 0.25141221284866333\n",
      "Predicciones:\n",
      "Precision: tensor(1.)\n"
     ]
    },
    {
     "data": {
      "image/png": "[encoded data removed]",
      "text/plain": [
       "<Figure size 300x300 with 1 Axes>"
      ]
     },
     "metadata": {},
     "output_type": "display_data"
    },
    {
     "data": {
      "text/html": [
       "<div>\n",
       "<style scoped>\n",
       "    .dataframe tbody tr th:only-of-type {\n",
       "        vertical-align: middle;\n",
       "    }\n",
       "\n",
       "    .dataframe tbody tr th {\n",
       "        vertical-align: top;\n",
       "    }\n",
       "\n",
       "    .dataframe thead th {\n",
       "        text-align: right;\n",
       "    }\n",
       "</style>\n",
       "<table border=\"1\" class=\"dataframe\">\n",
       "  <thead>\n",
       "    <tr style=\"text-align: right;\">\n",
       "      <th></th>\n",
       "      <th>predicciones</th>\n",
       "      <th>reales</th>\n",
       "    </tr>\n",
       "  </thead>\n",
       "  <tbody>\n",
       "    <tr>\n",
       "      <th>0</th>\n",
       "      <td>0.0</td>\n",
       "      <td>0.0</td>\n",
       "    </tr>\n",
       "    <tr>\n",
       "      <th>1</th>\n",
       "      <td>1.0</td>\n",
       "      <td>1.0</td>\n",
       "    </tr>\n",
       "    <tr>\n",
       "      <th>2</th>\n",
       "      <td>1.0</td>\n",
       "      <td>1.0</td>\n",
       "    </tr>\n",
       "    <tr>\n",
       "      <th>3</th>\n",
       "      <td>0.0</td>\n",
       "      <td>0.0</td>\n",
       "    </tr>\n",
       "  </tbody>\n",
       "</table>\n",
       "</div>"
      ],
      "text/plain": [
       "   predicciones  reales\n",
       "0           0.0     0.0\n",
       "1           1.0     1.0\n",
       "2           1.0     1.0\n",
       "3           0.0     0.0"
      ]
     },
     "execution_count": 88,
     "metadata": {},
     "output_type": "execute_result"
    }
   ],
   "source": [
    "\n",
    "# Datos de entrada y salida (Simula la compuerta XOR)\n",
    "X = torch.tensor([\n",
    "    [0, 0], \n",
    "    [0, 1], \n",
    "    [1, 0], \n",
    "    [1, 1]\n",
    "    ], dtype=torch.float32)\n",
    "\n",
    "Y = torch.tensor([\n",
    "    [0], \n",
    "    [1], \n",
    "    [1], \n",
    "    [0]\n",
    "    ], dtype=torch.float32)\n",
    "\n",
    "# Crear el modelo\n",
    "modelo = Net(2, 4, 1)\n",
    "modelo.fit(X, Y,.1,50)\n",
    "# Definir la función de pérdida y el optimizador\n",
    "\n",
    "# Predicciones\n",
    "print('Predicciones:')\n",
    "resultado = pd.DataFrame({'predicciones': modelo(X).detach().numpy().round().flatten(), 'reales': Y.detach().numpy().flatten()})\n",
    "print('Precision:', modelo.score(X, Y))\n",
    "\n",
    "mostrar_error(modelo.errors)\n",
    "resultado"
   ]
  },
  {
   "cell_type": "code",
   "execution_count": null,
   "metadata": {},
   "outputs": [
    {
     "name": "stdout",
     "output_type": "stream",
     "text": [
      "Epoch: 0 Loss: 0.24842125177383423\n"
     ]
    },
    {
     "data": {
      "image/png": "[encoded data removed]",
      "text/plain": [
       "<Figure size 300x300 with 1 Axes>"
      ]
     },
     "metadata": {},
     "output_type": "display_data"
    },
    {
     "name": "stdout",
     "output_type": "stream",
     "text": [
      "Precisión: tensor(0.9867)\n"
     ]
    }
   ],
   "source": [
    "\n",
    "# Cargar los datos\n",
    "datos = pd.read_csv('iris.csv')\n",
    "X = datos.iloc[:, 0:4].values\n",
    "Y = datos.iloc[:, 4].map({'Iris-setosa': [1,0,0], 'Iris-versicolor': [0,1,0], 'Iris-virginica': [0,0,1]}).apply(pd.Series).values\n",
    "X = torch.tensor(X, dtype=torch.float32)\n",
    "Y = torch.tensor(Y, dtype=torch.float32)\n",
    "\n",
    "# Crear el modelo\n",
    "modelo = Net(4, 10, 3)\n",
    "\n",
    "# Entrenar el modelo\n",
    "modelo.fit(X, Y, lr=0.1, epochs=100)\n",
    "\n",
    "\n",
    "# Evaluar el modelo\n",
    "print('Precisión:', modelo.score(X, Y))"
   ]
  },
  {
   "cell_type": "code",
   "execution_count": null,
   "metadata": {},
   "outputs": [],
   "source": []
  }
 ],
 "metadata": {
  "kernelspec": {
   "display_name": "Python 3",
   "language": "python",
   "name": "python3"
  },
  "language_info": {
   "codemirror_mode": {
    "name": "ipython",
    "version": 3
   },
   "file_extension": ".py",
   "mimetype": "text/x-python",
   "name": "python",
   "nbconvert_exporter": "python",
   "pygments_lexer": "ipython3",
   "version": "3.12.5"
  }
 },
 "nbformat": 4,
 "nbformat_minor": 2
}
